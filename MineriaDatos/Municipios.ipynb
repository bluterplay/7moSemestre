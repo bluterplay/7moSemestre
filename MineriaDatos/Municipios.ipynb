{
 "cells": [
  {
   "cell_type": "code",
   "execution_count": 1,
   "id": "e2ae1cd6-4f47-4a0a-a6f8-e285982b3310",
   "metadata": {},
   "outputs": [],
   "source": [
    "import pandas as pd\n",
    "import plotly.express as px\n",
    "from geopy.geocoders import Nominatim"
   ]
  },
  {
   "cell_type": "code",
   "execution_count": 2,
   "id": "539c7d4a-3f19-4180-bd2a-079684ce868a",
   "metadata": {},
   "outputs": [],
   "source": [
    "data= pd.read_csv(\"municipios.csv\")"
   ]
  },
  {
   "cell_type": "code",
   "execution_count": 3,
   "id": "13efbf5a-d8c3-4d3e-bacc-fdc8b95c0df5",
   "metadata": {},
   "outputs": [],
   "source": [
    "geolocator = Nominatim(user_agent=\"Your_Name\")"
   ]
  },
  {
   "cell_type": "code",
   "execution_count": 21,
   "id": "dd076c2b-f21c-4878-bc63-443517e277dc",
   "metadata": {},
   "outputs": [
    {
     "name": "stdout",
     "output_type": "stream",
     "text": [
      "latitude is :- 19.6531356 \n",
      "longtitude is:- -99.2145002\n"
     ]
    }
   ],
   "source": [
    "city =\"cuautitlan izcalli\"\n",
    "country =\"Mexico\"\n",
    "loc = geolocator.geocode(city+','+ country)\n",
    "print(\"latitude is :-\" ,loc.latitude,\"\\nlongtitude is:-\" ,loc.longitude)"
   ]
  },
  {
   "cell_type": "code",
   "execution_count": 26,
   "id": "a3bf74c3-341f-4126-878a-bb907873743e",
   "metadata": {},
   "outputs": [],
   "source": [
    "df= data[data[\"edad\"]> 30].copy()"
   ]
  },
  {
   "cell_type": "code",
   "execution_count": 31,
   "id": "4b66239a-1338-475e-bb8c-6cad8229a0cb",
   "metadata": {},
   "outputs": [],
   "source": [
    "df[\"alc_o_municipio\"] =df[\"alc_o_municipio\"].map(lambda x: \"MIGUEL HIDALGO\" if x==\"MIGHEL HIDALGO\" else x)\n",
    "df[\"alc_o_municipio\"] =df[\"alc_o_municipio\"].map(lambda x: \"CUAUTITLAN IZCALLI\" if x==\"CUATITLÁN IZCALLI\" else x)"
   ]
  },
  {
   "cell_type": "code",
   "execution_count": 32,
   "id": "c5667ee9-a15e-4858-8d8b-3eb16413963c",
   "metadata": {},
   "outputs": [],
   "source": [
    "ls_latitud= []\n",
    "ls_longitud=[]\n",
    "for _,row in df.iterrows():\n",
    "    city =row[\"alc_o_municipio\"]\n",
    "    country =\"Mexico\"\n",
    "    try:\n",
    "        loc = geolocator.geocode(city+','+ country)\n",
    "        ls_latitud.append(loc.latitude)\n",
    "        ls_longitud.append(loc.longitude)\n",
    "    except:\n",
    "        ls_latitud.append(0)\n",
    "        ls_longitud.append(0)"
   ]
  },
  {
   "cell_type": "code",
   "execution_count": 33,
   "id": "313357f1-d746-41fd-87d9-835cb4cb8769",
   "metadata": {},
   "outputs": [],
   "source": [
    "df[\"Latitud\"] = ls_latitud\n",
    "df[\"Longitud\"]= ls_longitud"
   ]
  },
  {
   "cell_type": "code",
   "execution_count": 36,
   "id": "5763cf75-9827-48bc-834e-efe5772ad9d7",
   "metadata": {},
   "outputs": [
    {
     "data": {
      "text/plain": [
       "Index(['alc_o_municipio', 'edad', 'Latitud', 'Longitud'], dtype='object')"
      ]
     },
     "execution_count": 36,
     "metadata": {},
     "output_type": "execute_result"
    }
   ],
   "source": [
    "df.columns"
   ]
  },
  {
   "cell_type": "code",
   "execution_count": 38,
   "id": "0434b16d-53ff-40c0-af9c-90a6a343ccf5",
   "metadata": {},
   "outputs": [],
   "source": [
    "df.rename(columns={\"alc_o_municipio\": \"Municipio Nombre\", \"edad\": \"Count\"}, inplace=True)"
   ]
  },
  {
   "cell_type": "code",
   "execution_count": 41,
   "id": "18913c07-6daf-405e-9419-e4b6d6934b1f",
   "metadata": {},
   "outputs": [],
   "source": [
    "df.drop(axis=0, index=358, inplace=True)"
   ]
  },
  {
   "cell_type": "code",
   "execution_count": 43,
   "id": "75d02d98-b195-43f0-afff-49061a8ec530",
   "metadata": {},
   "outputs": [],
   "source": [
    "df.to_csv(\"MunicipiosCordenadas.csv\", index= False)"
   ]
  },
  {
   "cell_type": "code",
   "execution_count": null,
   "id": "72e0c992-5144-4257-a865-45cbecca6343",
   "metadata": {},
   "outputs": [],
   "source": []
  }
 ],
 "metadata": {
  "kernelspec": {
   "display_name": "Python 3 (ipykernel)",
   "language": "python",
   "name": "python3"
  },
  "language_info": {
   "codemirror_mode": {
    "name": "ipython",
    "version": 3
   },
   "file_extension": ".py",
   "mimetype": "text/x-python",
   "name": "python",
   "nbconvert_exporter": "python",
   "pygments_lexer": "ipython3",
   "version": "3.8.10"
  }
 },
 "nbformat": 4,
 "nbformat_minor": 5
}
