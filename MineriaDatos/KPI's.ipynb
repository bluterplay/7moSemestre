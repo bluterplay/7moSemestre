{
 "cells": [
  {
   "cell_type": "code",
   "execution_count": 4,
   "id": "e430f34b-41a9-4adf-b52f-fd7e9a09b0d0",
   "metadata": {},
   "outputs": [],
   "source": [
    "import numpy as np\n",
    "import pandas as pd"
   ]
  },
  {
   "cell_type": "markdown",
   "id": "d3c9d58f-b231-4c47-93d2-b91c06aa8ced",
   "metadata": {},
   "source": [
    "# Dataset"
   ]
  },
  {
   "cell_type": "code",
   "execution_count": 48,
   "id": "cad1712b-46b8-4224-9840-63d65a57bd3c",
   "metadata": {},
   "outputs": [
    {
     "name": "stderr",
     "output_type": "stream",
     "text": [
      "C:\\Users\\blute\\AppData\\Local\\Temp\\ipykernel_12668\\3323660569.py:1: DtypeWarning: Columns (13,20,28,29,40,41,42) have mixed types. Specify dtype option on import or set low_memory=False.\n",
      "  df = pd.read_csv(\"Dataset_Aborto.csv\")\n"
     ]
    }
   ],
   "source": [
    "df = pd.read_csv(\"Dataset_Aborto.csv\")"
   ]
  },
  {
   "cell_type": "code",
   "execution_count": 49,
   "id": "7a06b200-7f5f-4690-8372-fcd4c406e19f",
   "metadata": {},
   "outputs": [],
   "source": [
    "ls_temas= [\"anticonceptivo\",\"nivel_edu\",\"ocupacion\"]"
   ]
  },
  {
   "cell_type": "code",
   "execution_count": 50,
   "id": "1cfc0a6d-0cb4-41e3-b62b-ce48b1501b9c",
   "metadata": {},
   "outputs": [
    {
     "data": {
      "text/html": [
       "<div>\n",
       "<style scoped>\n",
       "    .dataframe tbody tr th:only-of-type {\n",
       "        vertical-align: middle;\n",
       "    }\n",
       "\n",
       "    .dataframe tbody tr th {\n",
       "        vertical-align: top;\n",
       "    }\n",
       "\n",
       "    .dataframe thead th {\n",
       "        text-align: right;\n",
       "    }\n",
       "</style>\n",
       "<table border=\"1\" class=\"dataframe\">\n",
       "  <thead>\n",
       "    <tr style=\"text-align: right;\">\n",
       "      <th></th>\n",
       "      <th>anticonceptivo</th>\n",
       "      <th>nivel_edu</th>\n",
       "      <th>ocupacion</th>\n",
       "    </tr>\n",
       "  </thead>\n",
       "  <tbody>\n",
       "    <tr>\n",
       "      <th>0</th>\n",
       "      <td>NINGUNO</td>\n",
       "      <td>PREPARATORIA</td>\n",
       "      <td>ESTUDIANTE</td>\n",
       "    </tr>\n",
       "    <tr>\n",
       "      <th>1</th>\n",
       "      <td>NINGUNO</td>\n",
       "      <td>SECUNDARIA</td>\n",
       "      <td>TRABAJADORA DEL HOGAR NO REMUNERADA</td>\n",
       "    </tr>\n",
       "    <tr>\n",
       "      <th>2</th>\n",
       "      <td>NINGUNO</td>\n",
       "      <td>SIN ACCESO A LA EDUCACION FORMAL</td>\n",
       "      <td>TRABAJADORA DEL HOGAR NO REMUNERADA</td>\n",
       "    </tr>\n",
       "    <tr>\n",
       "      <th>3</th>\n",
       "      <td>NINGUNO</td>\n",
       "      <td>PREPARATORIA</td>\n",
       "      <td>EMPLEADA</td>\n",
       "    </tr>\n",
       "    <tr>\n",
       "      <th>4</th>\n",
       "      <td>NINGUNO</td>\n",
       "      <td>SECUNDARIA</td>\n",
       "      <td>ESTUDIANTE</td>\n",
       "    </tr>\n",
       "  </tbody>\n",
       "</table>\n",
       "</div>"
      ],
      "text/plain": [
       "  anticonceptivo                         nivel_edu  \\\n",
       "0        NINGUNO                      PREPARATORIA   \n",
       "1        NINGUNO                        SECUNDARIA   \n",
       "2        NINGUNO  SIN ACCESO A LA EDUCACION FORMAL   \n",
       "3        NINGUNO                      PREPARATORIA   \n",
       "4        NINGUNO                        SECUNDARIA   \n",
       "\n",
       "                             ocupacion  \n",
       "0                           ESTUDIANTE  \n",
       "1  TRABAJADORA DEL HOGAR NO REMUNERADA  \n",
       "2  TRABAJADORA DEL HOGAR NO REMUNERADA  \n",
       "3                             EMPLEADA  \n",
       "4                           ESTUDIANTE  "
      ]
     },
     "execution_count": 50,
     "metadata": {},
     "output_type": "execute_result"
    }
   ],
   "source": [
    "df[ls_temas].head()"
   ]
  },
  {
   "cell_type": "code",
   "execution_count": 5,
   "id": "9194dd1d-e84e-48da-81d3-c3225ea85991",
   "metadata": {},
   "outputs": [
    {
     "data": {
      "text/plain": [
       "anticonceptivo    0.180200\n",
       "nivel_edu         0.012528\n",
       "ocupacion         0.173354\n",
       "dtype: float64"
      ]
     },
     "execution_count": 5,
     "metadata": {},
     "output_type": "execute_result"
    }
   ],
   "source": [
    "df[ls_temas].isna().mean()"
   ]
  },
  {
   "cell_type": "markdown",
   "id": "254c1dcd-ac20-4809-809b-d080bb44fe30",
   "metadata": {},
   "source": [
    "## Datos a usar (AUX)"
   ]
  },
  {
   "cell_type": "code",
   "execution_count": 62,
   "id": "d285138f-a563-45fe-91cd-b271088eb533",
   "metadata": {},
   "outputs": [
    {
     "name": "stderr",
     "output_type": "stream",
     "text": [
      "C:\\Users\\blute\\AppData\\Local\\Temp\\ipykernel_12668\\4241891141.py:2: SettingWithCopyWarning: \n",
      "A value is trying to be set on a copy of a slice from a DataFrame.\n",
      "Try using .loc[row_indexer,col_indexer] = value instead\n",
      "\n",
      "See the caveats in the documentation: https://pandas.pydata.org/pandas-docs/stable/user_guide/indexing.html#returning-a-view-versus-a-copy\n",
      "  aux[\"año\"] = df[\"año\"]\n"
     ]
    }
   ],
   "source": [
    "aux = df[ls_temas]\n",
    "aux[\"año\"] = df[\"año\"]"
   ]
  },
  {
   "cell_type": "code",
   "execution_count": 63,
   "id": "0a48d625-532a-41e5-ad38-8cfce34f09cf",
   "metadata": {},
   "outputs": [],
   "source": [
    "aux= aux.convert_dtypes()"
   ]
  },
  {
   "cell_type": "code",
   "execution_count": 64,
   "id": "3e301f2b-0bc9-4703-87e9-fb1510b784dd",
   "metadata": {},
   "outputs": [
    {
     "name": "stdout",
     "output_type": "stream",
     "text": [
      "<class 'pandas.core.frame.DataFrame'>\n",
      "RangeIndex: 98019 entries, 0 to 98018\n",
      "Data columns (total 4 columns):\n",
      " #   Column          Non-Null Count  Dtype \n",
      "---  ------          --------------  ----- \n",
      " 0   anticonceptivo  80356 non-null  string\n",
      " 1   nivel_edu       96791 non-null  string\n",
      " 2   ocupacion       81027 non-null  string\n",
      " 3   año             98019 non-null  Int64 \n",
      "dtypes: Int64(1), string(3)\n",
      "memory usage: 3.1 MB\n"
     ]
    }
   ],
   "source": [
    "aux.info()"
   ]
  },
  {
   "cell_type": "markdown",
   "id": "27ab42e0-1720-4536-962c-14cad2a99a3b",
   "metadata": {
    "tags": []
   },
   "source": [
    "### Categorias de anticonceptivos "
   ]
  },
  {
   "cell_type": "code",
   "execution_count": 65,
   "id": "56a0459e-c4ef-4f7f-aa67-f44ab4889820",
   "metadata": {},
   "outputs": [
    {
     "data": {
      "text/plain": [
       "NINGUNO                               49482\n",
       "CONDON                                21560\n",
       "DIU                                    2908\n",
       "PASTILLA DE EMERGENCIA                 1833\n",
       "INYECCION                              1468\n",
       "PASTILLA ANTICONCEPTIVA                1234\n",
       "PARCHES                                 937\n",
       "IMPLANTE SUBDERMICO                     688\n",
       "LIGADURA DE TROMPAS                     114\n",
       "CONDON + PASTILLA DE EMERGENCIA          86\n",
       "ANILLO VAGINAL                           14\n",
       "CONDON + DIU                             10\n",
       "CONDON + INYECCION                        5\n",
       "VASECTOMIA                                5\n",
       "CONDON + PARCHE                           4\n",
       "CONDON + IMPLANTE                         3\n",
       "INYECCION + LIGADURA DE TROMPAS           1\n",
       "CONDON + PASTILLA ANTICONCEPTIVA          1\n",
       "INYECCION + DIU                           1\n",
       "PASTILLA DE EMERGENCIA + PARCHES          1\n",
       "PASTILLA DE EMERGENCIA + INYECCION        1\n",
       "Name: anticonceptivo, dtype: Int64"
      ]
     },
     "execution_count": 65,
     "metadata": {},
     "output_type": "execute_result"
    }
   ],
   "source": [
    "cat_anti =aux[ls_temas[0]].value_counts()\n",
    "cat_anti"
   ]
  },
  {
   "cell_type": "markdown",
   "id": "cf89eb41-8e80-4972-8c1f-3f99d2f148b7",
   "metadata": {},
   "source": [
    "#### LLenado de nulos y categoria otros"
   ]
  },
  {
   "cell_type": "code",
   "execution_count": 66,
   "id": "6b029e3d-270a-477e-bb82-133014baf951",
   "metadata": {},
   "outputs": [],
   "source": [
    "aux[ls_temas[0]]= aux[ls_temas[0]].fillna(\"NO CONTESTO\")\n",
    "\n",
    "aux[ls_temas[0]] = aux[[ls_temas[0]]].applymap(lambda x: \"Combinado\" if \"+\" in x  else x)"
   ]
  },
  {
   "cell_type": "code",
   "execution_count": 73,
   "id": "7aedc2d7-1b1a-4da7-8b97-831753935183",
   "metadata": {},
   "outputs": [
    {
     "data": {
      "text/plain": [
       "NINGUNO                   49482\n",
       "CONDON                    21560\n",
       "NO CONTESTO               17663\n",
       "LARGA DURACION             3715\n",
       "HORMONAL                   3653\n",
       "PASTILLA DE EMERGENCIA     1833\n",
       "Combinado                   113\n",
       "Name: anticonceptivo, dtype: int64"
      ]
     },
     "execution_count": 73,
     "metadata": {},
     "output_type": "execute_result"
    }
   ],
   "source": [
    "cat_anti =aux[ls_temas[0]].value_counts()\n",
    "cat_anti"
   ]
  },
  {
   "cell_type": "code",
   "execution_count": 71,
   "id": "8e28ee12-fb7d-43ff-abbd-4741f1784bba",
   "metadata": {},
   "outputs": [],
   "source": [
    "ls_hormonales = [\"PARCHES\",\"PASTILLA ANTICONCEPTIVA\", \"INYECCION\",\"ANILLO VAGINAL\"]\n",
    "ls_dura =[\"DIU\", \"IMPLANTE SUBDERMICO\",\"LIGADURA DE TROMPAS\",\"LIGADURA DE TROMPAS\", \"VASECTOMIA\"]"
   ]
  },
  {
   "cell_type": "code",
   "execution_count": 72,
   "id": "1a4a75ee-796f-4734-af0e-1bc3a9a62265",
   "metadata": {},
   "outputs": [],
   "source": [
    "aux[ls_temas[0]] = aux[[ls_temas[0]]].applymap(lambda x: \"HORMONAL\" if x in ls_hormonales else x)\n",
    "aux[ls_temas[0]] = aux[[ls_temas[0]]].applymap(lambda x: \"LARGA DURACION\" if x in ls_dura else x)"
   ]
  },
  {
   "cell_type": "code",
   "execution_count": 74,
   "id": "747790cf-12f3-417b-9fa9-870dbae51c05",
   "metadata": {},
   "outputs": [],
   "source": [
    "aux.to_excel(\"categorias1.xlsx\", index = False)"
   ]
  },
  {
   "cell_type": "code",
   "execution_count": 16,
   "id": "0cbaca58-fa92-4aae-b7cc-e80da1690893",
   "metadata": {},
   "outputs": [],
   "source": [
    "ls_anti =[x for x in cat_anti.index if cat_anti[x] > 100] "
   ]
  },
  {
   "cell_type": "code",
   "execution_count": 17,
   "id": "7d8b2cd6-df7b-4604-bf93-bfc549751858",
   "metadata": {},
   "outputs": [
    {
     "data": {
      "text/plain": [
       "['NINGUNO', 'CONDON', 'NO CONTESTO', 'DIU', 'PASTILLA DE EMERGENCIA']"
      ]
     },
     "execution_count": 17,
     "metadata": {},
     "output_type": "execute_result"
    }
   ],
   "source": [
    "ls_anti"
   ]
  },
  {
   "cell_type": "code",
   "execution_count": 14,
   "id": "db9090da-625e-4707-81ff-6fbf74e89eb4",
   "metadata": {},
   "outputs": [],
   "source": [
    "aux[ls_temas[0]] = aux[[ls_temas[0]]].applymap(lambda x: x if x in ls_anti  else \"OTROS\")"
   ]
  },
  {
   "cell_type": "code",
   "execution_count": 15,
   "id": "971790db-4858-4bc3-ba74-0001d4470561",
   "metadata": {},
   "outputs": [
    {
     "data": {
      "text/plain": [
       "NINGUNO                    49482\n",
       "CONDON                     21560\n",
       "NO CONTESTO                17663\n",
       "DIU                         2908\n",
       "OTROS                       1871\n",
       "PASTILLA DE EMERGENCIA      1833\n",
       "INYECCION                   1468\n",
       "PASTILLA ANTICONCEPTIVA     1234\n",
       "Name: anticonceptivo, dtype: int64"
      ]
     },
     "execution_count": 15,
     "metadata": {},
     "output_type": "execute_result"
    }
   ],
   "source": [
    "aux[ls_temas[0]].value_counts()"
   ]
  },
  {
   "cell_type": "markdown",
   "id": "ba393f68-1a0f-435f-9535-4439980f6f0b",
   "metadata": {},
   "source": [
    "#### Datos agrupados"
   ]
  },
  {
   "cell_type": "code",
   "execution_count": 233,
   "id": "2637550b-9745-405b-85ed-66ab49328ed8",
   "metadata": {
    "scrolled": true,
    "tags": []
   },
   "outputs": [
    {
     "data": {
      "text/html": [
       "<div>\n",
       "<style scoped>\n",
       "    .dataframe tbody tr th:only-of-type {\n",
       "        vertical-align: middle;\n",
       "    }\n",
       "\n",
       "    .dataframe tbody tr th {\n",
       "        vertical-align: top;\n",
       "    }\n",
       "\n",
       "    .dataframe thead th {\n",
       "        text-align: right;\n",
       "    }\n",
       "</style>\n",
       "<table border=\"1\" class=\"dataframe\">\n",
       "  <thead>\n",
       "    <tr style=\"text-align: right;\">\n",
       "      <th></th>\n",
       "      <th></th>\n",
       "      <th>0</th>\n",
       "    </tr>\n",
       "    <tr>\n",
       "      <th>año</th>\n",
       "      <th>anticonceptivo</th>\n",
       "      <th></th>\n",
       "    </tr>\n",
       "  </thead>\n",
       "  <tbody>\n",
       "    <tr>\n",
       "      <th rowspan=\"8\" valign=\"top\">2016</th>\n",
       "      <th>NINGUNO</th>\n",
       "      <td>0.477883</td>\n",
       "    </tr>\n",
       "    <tr>\n",
       "      <th>CONDON</th>\n",
       "      <td>0.277342</td>\n",
       "    </tr>\n",
       "    <tr>\n",
       "      <th>NO CONTESTO</th>\n",
       "      <td>0.109864</td>\n",
       "    </tr>\n",
       "    <tr>\n",
       "      <th>DIU</th>\n",
       "      <td>0.043901</td>\n",
       "    </tr>\n",
       "    <tr>\n",
       "      <th>INYECCION</th>\n",
       "      <td>0.027756</td>\n",
       "    </tr>\n",
       "    <tr>\n",
       "      <th>OTROS</th>\n",
       "      <td>0.022725</td>\n",
       "    </tr>\n",
       "    <tr>\n",
       "      <th>PASTILLA DE EMERGENCIA</th>\n",
       "      <td>0.022504</td>\n",
       "    </tr>\n",
       "    <tr>\n",
       "      <th>PASTILLA ANTICONCEPTIVA</th>\n",
       "      <td>0.018025</td>\n",
       "    </tr>\n",
       "    <tr>\n",
       "      <th rowspan=\"8\" valign=\"top\">2017</th>\n",
       "      <th>NINGUNO</th>\n",
       "      <td>0.576827</td>\n",
       "    </tr>\n",
       "    <tr>\n",
       "      <th>NO CONTESTO</th>\n",
       "      <td>0.176327</td>\n",
       "    </tr>\n",
       "    <tr>\n",
       "      <th>CONDON</th>\n",
       "      <td>0.175134</td>\n",
       "    </tr>\n",
       "    <tr>\n",
       "      <th>DIU</th>\n",
       "      <td>0.025685</td>\n",
       "    </tr>\n",
       "    <tr>\n",
       "      <th>OTROS</th>\n",
       "      <td>0.015968</td>\n",
       "    </tr>\n",
       "    <tr>\n",
       "      <th>INYECCION</th>\n",
       "      <td>0.015968</td>\n",
       "    </tr>\n",
       "    <tr>\n",
       "      <th>PASTILLA DE EMERGENCIA</th>\n",
       "      <td>0.007615</td>\n",
       "    </tr>\n",
       "    <tr>\n",
       "      <th>PASTILLA ANTICONCEPTIVA</th>\n",
       "      <td>0.006478</td>\n",
       "    </tr>\n",
       "    <tr>\n",
       "      <th rowspan=\"8\" valign=\"top\">2018</th>\n",
       "      <th>NINGUNO</th>\n",
       "      <td>0.542930</td>\n",
       "    </tr>\n",
       "    <tr>\n",
       "      <th>CONDON</th>\n",
       "      <td>0.256883</td>\n",
       "    </tr>\n",
       "    <tr>\n",
       "      <th>NO CONTESTO</th>\n",
       "      <td>0.100006</td>\n",
       "    </tr>\n",
       "    <tr>\n",
       "      <th>DIU</th>\n",
       "      <td>0.032598</td>\n",
       "    </tr>\n",
       "    <tr>\n",
       "      <th>PASTILLA DE EMERGENCIA</th>\n",
       "      <td>0.023110</td>\n",
       "    </tr>\n",
       "    <tr>\n",
       "      <th>INYECCION</th>\n",
       "      <td>0.017056</td>\n",
       "    </tr>\n",
       "    <tr>\n",
       "      <th>OTROS</th>\n",
       "      <td>0.015891</td>\n",
       "    </tr>\n",
       "    <tr>\n",
       "      <th>PASTILLA ANTICONCEPTIVA</th>\n",
       "      <td>0.011526</td>\n",
       "    </tr>\n",
       "    <tr>\n",
       "      <th rowspan=\"8\" valign=\"top\">2019</th>\n",
       "      <th>NINGUNO</th>\n",
       "      <td>0.512032</td>\n",
       "    </tr>\n",
       "    <tr>\n",
       "      <th>CONDON</th>\n",
       "      <td>0.307849</td>\n",
       "    </tr>\n",
       "    <tr>\n",
       "      <th>NO CONTESTO</th>\n",
       "      <td>0.073044</td>\n",
       "    </tr>\n",
       "    <tr>\n",
       "      <th>PASTILLA DE EMERGENCIA</th>\n",
       "      <td>0.029900</td>\n",
       "    </tr>\n",
       "    <tr>\n",
       "      <th>DIU</th>\n",
       "      <td>0.025375</td>\n",
       "    </tr>\n",
       "    <tr>\n",
       "      <th>OTROS</th>\n",
       "      <td>0.017900</td>\n",
       "    </tr>\n",
       "    <tr>\n",
       "      <th>INYECCION</th>\n",
       "      <td>0.017048</td>\n",
       "    </tr>\n",
       "    <tr>\n",
       "      <th>PASTILLA ANTICONCEPTIVA</th>\n",
       "      <td>0.016851</td>\n",
       "    </tr>\n",
       "    <tr>\n",
       "      <th rowspan=\"6\" valign=\"top\">2020</th>\n",
       "      <th>NINGUNO</th>\n",
       "      <td>0.581063</td>\n",
       "    </tr>\n",
       "    <tr>\n",
       "      <th>CONDON</th>\n",
       "      <td>0.221226</td>\n",
       "    </tr>\n",
       "    <tr>\n",
       "      <th>NO CONTESTO</th>\n",
       "      <td>0.126986</td>\n",
       "    </tr>\n",
       "    <tr>\n",
       "      <th>DIU</th>\n",
       "      <td>0.035673</td>\n",
       "    </tr>\n",
       "    <tr>\n",
       "      <th>OTROS</th>\n",
       "      <td>0.019789</td>\n",
       "    </tr>\n",
       "    <tr>\n",
       "      <th>PASTILLA DE EMERGENCIA</th>\n",
       "      <td>0.015263</td>\n",
       "    </tr>\n",
       "    <tr>\n",
       "      <th rowspan=\"8\" valign=\"top\">2021</th>\n",
       "      <th>NINGUNO</th>\n",
       "      <td>0.569662</td>\n",
       "    </tr>\n",
       "    <tr>\n",
       "      <th>NO CONTESTO</th>\n",
       "      <td>0.160228</td>\n",
       "    </tr>\n",
       "    <tr>\n",
       "      <th>CONDON</th>\n",
       "      <td>0.151362</td>\n",
       "    </tr>\n",
       "    <tr>\n",
       "      <th>OTROS</th>\n",
       "      <td>0.033266</td>\n",
       "    </tr>\n",
       "    <tr>\n",
       "      <th>PASTILLA ANTICONCEPTIVA</th>\n",
       "      <td>0.027572</td>\n",
       "    </tr>\n",
       "    <tr>\n",
       "      <th>DIU</th>\n",
       "      <td>0.025458</td>\n",
       "    </tr>\n",
       "    <tr>\n",
       "      <th>PASTILLA DE EMERGENCIA</th>\n",
       "      <td>0.021716</td>\n",
       "    </tr>\n",
       "    <tr>\n",
       "      <th>INYECCION</th>\n",
       "      <td>0.010736</td>\n",
       "    </tr>\n",
       "    <tr>\n",
       "      <th rowspan=\"2\" valign=\"top\">2022</th>\n",
       "      <th>NO CONTESTO</th>\n",
       "      <td>0.999842</td>\n",
       "    </tr>\n",
       "    <tr>\n",
       "      <th>OTROS</th>\n",
       "      <td>0.000158</td>\n",
       "    </tr>\n",
       "  </tbody>\n",
       "</table>\n",
       "</div>"
      ],
      "text/plain": [
       "                                     0\n",
       "año  anticonceptivo                   \n",
       "2016 NINGUNO                  0.477883\n",
       "     CONDON                   0.277342\n",
       "     NO CONTESTO              0.109864\n",
       "     DIU                      0.043901\n",
       "     INYECCION                0.027756\n",
       "     OTROS                    0.022725\n",
       "     PASTILLA DE EMERGENCIA   0.022504\n",
       "     PASTILLA ANTICONCEPTIVA  0.018025\n",
       "2017 NINGUNO                  0.576827\n",
       "     NO CONTESTO              0.176327\n",
       "     CONDON                   0.175134\n",
       "     DIU                      0.025685\n",
       "     OTROS                    0.015968\n",
       "     INYECCION                0.015968\n",
       "     PASTILLA DE EMERGENCIA   0.007615\n",
       "     PASTILLA ANTICONCEPTIVA  0.006478\n",
       "2018 NINGUNO                  0.542930\n",
       "     CONDON                   0.256883\n",
       "     NO CONTESTO              0.100006\n",
       "     DIU                      0.032598\n",
       "     PASTILLA DE EMERGENCIA   0.023110\n",
       "     INYECCION                0.017056\n",
       "     OTROS                    0.015891\n",
       "     PASTILLA ANTICONCEPTIVA  0.011526\n",
       "2019 NINGUNO                  0.512032\n",
       "     CONDON                   0.307849\n",
       "     NO CONTESTO              0.073044\n",
       "     PASTILLA DE EMERGENCIA   0.029900\n",
       "     DIU                      0.025375\n",
       "     OTROS                    0.017900\n",
       "     INYECCION                0.017048\n",
       "     PASTILLA ANTICONCEPTIVA  0.016851\n",
       "2020 NINGUNO                  0.581063\n",
       "     CONDON                   0.221226\n",
       "     NO CONTESTO              0.126986\n",
       "     DIU                      0.035673\n",
       "     OTROS                    0.019789\n",
       "     PASTILLA DE EMERGENCIA   0.015263\n",
       "2021 NINGUNO                  0.569662\n",
       "     NO CONTESTO              0.160228\n",
       "     CONDON                   0.151362\n",
       "     OTROS                    0.033266\n",
       "     PASTILLA ANTICONCEPTIVA  0.027572\n",
       "     DIU                      0.025458\n",
       "     PASTILLA DE EMERGENCIA   0.021716\n",
       "     INYECCION                0.010736\n",
       "2022 NO CONTESTO              0.999842\n",
       "     OTROS                    0.000158"
      ]
     },
     "execution_count": 233,
     "metadata": {},
     "output_type": "execute_result"
    }
   ],
   "source": [
    "aux[[ls_temas[0],'año']].dropna().groupby(by=['año']).value_counts().to_frame()/aux[[ls_temas[0],'año']].dropna().groupby(by=['año']).size().to_frame()"
   ]
  },
  {
   "cell_type": "markdown",
   "id": "00773dc0-3866-4d49-8b04-863f7595de0d",
   "metadata": {},
   "source": [
    "### Categorias Nivel Educativo"
   ]
  },
  {
   "cell_type": "code",
   "execution_count": 26,
   "id": "92939837-7353-451f-a9b2-df2e7bbb055b",
   "metadata": {},
   "outputs": [
    {
     "data": {
      "text/plain": [
       "PREPARATORIA                        44656\n",
       "SECUNDARIA                          28965\n",
       "LICENCIATURA                        17526\n",
       "PRIMARIA                             4364\n",
       "SIN ACCESO A LA EDUCACION FORMAL      834\n",
       "MAESTRIA                              443\n",
       "DOCTORADO                               3\n",
       "Name: nivel_edu, dtype: Int64"
      ]
     },
     "execution_count": 26,
     "metadata": {},
     "output_type": "execute_result"
    }
   ],
   "source": [
    "cat_edu =aux[ls_temas[1]].value_counts()\n",
    "cat_edu"
   ]
  },
  {
   "cell_type": "markdown",
   "id": "1b40ed97-07fa-4cd0-aa3c-99deb216ed8c",
   "metadata": {},
   "source": [
    "#### Nulos"
   ]
  },
  {
   "cell_type": "code",
   "execution_count": 28,
   "id": "123e698f-922f-4b72-8b7d-1bc77df5d8ef",
   "metadata": {},
   "outputs": [
    {
     "data": {
      "text/plain": [
       "98019"
      ]
     },
     "execution_count": 28,
     "metadata": {},
     "output_type": "execute_result"
    }
   ],
   "source": [
    "aux[ls_temas[1]].isna().count()"
   ]
  },
  {
   "cell_type": "code",
   "execution_count": 38,
   "id": "3b0fec36-4c51-4228-bc14-c9bc2cf48aeb",
   "metadata": {},
   "outputs": [],
   "source": [
    "aux[ls_temas[1]]= aux[ls_temas[1]].fillna(\"NO CONTESTO\")"
   ]
  },
  {
   "cell_type": "markdown",
   "id": "0af2fd34-3e19-4fd1-812f-a5e6f4eb9a29",
   "metadata": {},
   "source": [
    "#### Agrupados"
   ]
  },
  {
   "cell_type": "code",
   "execution_count": 235,
   "id": "17d4cd9c-81bd-4baa-a65d-4073bb926fdb",
   "metadata": {
    "scrolled": true,
    "tags": []
   },
   "outputs": [
    {
     "data": {
      "text/html": [
       "<div>\n",
       "<style scoped>\n",
       "    .dataframe tbody tr th:only-of-type {\n",
       "        vertical-align: middle;\n",
       "    }\n",
       "\n",
       "    .dataframe tbody tr th {\n",
       "        vertical-align: top;\n",
       "    }\n",
       "\n",
       "    .dataframe thead th {\n",
       "        text-align: right;\n",
       "    }\n",
       "</style>\n",
       "<table border=\"1\" class=\"dataframe\">\n",
       "  <thead>\n",
       "    <tr style=\"text-align: right;\">\n",
       "      <th></th>\n",
       "      <th></th>\n",
       "      <th>0</th>\n",
       "    </tr>\n",
       "    <tr>\n",
       "      <th>año</th>\n",
       "      <th>nivel_edu</th>\n",
       "      <th></th>\n",
       "    </tr>\n",
       "  </thead>\n",
       "  <tbody>\n",
       "    <tr>\n",
       "      <th rowspan=\"7\" valign=\"top\">2016</th>\n",
       "      <th>PREPARATORIA</th>\n",
       "      <td>0.440501</td>\n",
       "    </tr>\n",
       "    <tr>\n",
       "      <th>SECUNDARIA</th>\n",
       "      <td>0.313907</td>\n",
       "    </tr>\n",
       "    <tr>\n",
       "      <th>LICENCIATURA</th>\n",
       "      <td>0.178053</td>\n",
       "    </tr>\n",
       "    <tr>\n",
       "      <th>PRIMARIA</th>\n",
       "      <td>0.054564</td>\n",
       "    </tr>\n",
       "    <tr>\n",
       "      <th>SIN ACCESO A LA EDUCACION FORMAL</th>\n",
       "      <td>0.008484</td>\n",
       "    </tr>\n",
       "    <tr>\n",
       "      <th>MAESTRIA</th>\n",
       "      <td>0.004436</td>\n",
       "    </tr>\n",
       "    <tr>\n",
       "      <th>DOCTORADO</th>\n",
       "      <td>0.000055</td>\n",
       "    </tr>\n",
       "    <tr>\n",
       "      <th rowspan=\"7\" valign=\"top\">2017</th>\n",
       "      <th>PREPARATORIA</th>\n",
       "      <td>0.444146</td>\n",
       "    </tr>\n",
       "    <tr>\n",
       "      <th>SECUNDARIA</th>\n",
       "      <td>0.303853</td>\n",
       "    </tr>\n",
       "    <tr>\n",
       "      <th>LICENCIATURA</th>\n",
       "      <td>0.182426</td>\n",
       "    </tr>\n",
       "    <tr>\n",
       "      <th>PRIMARIA</th>\n",
       "      <td>0.049851</td>\n",
       "    </tr>\n",
       "    <tr>\n",
       "      <th>SIN ACCESO A LA EDUCACION FORMAL</th>\n",
       "      <td>0.014464</td>\n",
       "    </tr>\n",
       "    <tr>\n",
       "      <th>MAESTRIA</th>\n",
       "      <td>0.005202</td>\n",
       "    </tr>\n",
       "    <tr>\n",
       "      <th>DOCTORADO</th>\n",
       "      <td>0.000057</td>\n",
       "    </tr>\n",
       "    <tr>\n",
       "      <th rowspan=\"7\" valign=\"top\">2018</th>\n",
       "      <th>PREPARATORIA</th>\n",
       "      <td>0.448733</td>\n",
       "    </tr>\n",
       "    <tr>\n",
       "      <th>SECUNDARIA</th>\n",
       "      <td>0.296700</td>\n",
       "    </tr>\n",
       "    <tr>\n",
       "      <th>LICENCIATURA</th>\n",
       "      <td>0.192398</td>\n",
       "    </tr>\n",
       "    <tr>\n",
       "      <th>PRIMARIA</th>\n",
       "      <td>0.047260</td>\n",
       "    </tr>\n",
       "    <tr>\n",
       "      <th>SIN ACCESO A LA EDUCACION FORMAL</th>\n",
       "      <td>0.011196</td>\n",
       "    </tr>\n",
       "    <tr>\n",
       "      <th>MAESTRIA</th>\n",
       "      <td>0.003654</td>\n",
       "    </tr>\n",
       "    <tr>\n",
       "      <th>DOCTORADO</th>\n",
       "      <td>0.000059</td>\n",
       "    </tr>\n",
       "    <tr>\n",
       "      <th rowspan=\"6\" valign=\"top\">2019</th>\n",
       "      <th>PREPARATORIA</th>\n",
       "      <td>0.465478</td>\n",
       "    </tr>\n",
       "    <tr>\n",
       "      <th>SECUNDARIA</th>\n",
       "      <td>0.297641</td>\n",
       "    </tr>\n",
       "    <tr>\n",
       "      <th>LICENCIATURA</th>\n",
       "      <td>0.181884</td>\n",
       "    </tr>\n",
       "    <tr>\n",
       "      <th>PRIMARIA</th>\n",
       "      <td>0.042804</td>\n",
       "    </tr>\n",
       "    <tr>\n",
       "      <th>SIN ACCESO A LA EDUCACION FORMAL</th>\n",
       "      <td>0.007620</td>\n",
       "    </tr>\n",
       "    <tr>\n",
       "      <th>MAESTRIA</th>\n",
       "      <td>0.004572</td>\n",
       "    </tr>\n",
       "    <tr>\n",
       "      <th rowspan=\"6\" valign=\"top\">2020</th>\n",
       "      <th>PREPARATORIA</th>\n",
       "      <td>0.477723</td>\n",
       "    </tr>\n",
       "    <tr>\n",
       "      <th>SECUNDARIA</th>\n",
       "      <td>0.301838</td>\n",
       "    </tr>\n",
       "    <tr>\n",
       "      <th>LICENCIATURA</th>\n",
       "      <td>0.175078</td>\n",
       "    </tr>\n",
       "    <tr>\n",
       "      <th>PRIMARIA</th>\n",
       "      <td>0.035052</td>\n",
       "    </tr>\n",
       "    <tr>\n",
       "      <th>MAESTRIA</th>\n",
       "      <td>0.006186</td>\n",
       "    </tr>\n",
       "    <tr>\n",
       "      <th>SIN ACCESO A LA EDUCACION FORMAL</th>\n",
       "      <td>0.004124</td>\n",
       "    </tr>\n",
       "    <tr>\n",
       "      <th rowspan=\"6\" valign=\"top\">2021</th>\n",
       "      <th>PREPARATORIA</th>\n",
       "      <td>0.501730</td>\n",
       "    </tr>\n",
       "    <tr>\n",
       "      <th>SECUNDARIA</th>\n",
       "      <td>0.284702</td>\n",
       "    </tr>\n",
       "    <tr>\n",
       "      <th>LICENCIATURA</th>\n",
       "      <td>0.166653</td>\n",
       "    </tr>\n",
       "    <tr>\n",
       "      <th>PRIMARIA</th>\n",
       "      <td>0.038309</td>\n",
       "    </tr>\n",
       "    <tr>\n",
       "      <th>MAESTRIA</th>\n",
       "      <td>0.004641</td>\n",
       "    </tr>\n",
       "    <tr>\n",
       "      <th>SIN ACCESO A LA EDUCACION FORMAL</th>\n",
       "      <td>0.003966</td>\n",
       "    </tr>\n",
       "    <tr>\n",
       "      <th rowspan=\"6\" valign=\"top\">2022</th>\n",
       "      <th>PREPARATORIA</th>\n",
       "      <td>0.488624</td>\n",
       "    </tr>\n",
       "    <tr>\n",
       "      <th>SECUNDARIA</th>\n",
       "      <td>0.277715</td>\n",
       "    </tr>\n",
       "    <tr>\n",
       "      <th>LICENCIATURA</th>\n",
       "      <td>0.191383</td>\n",
       "    </tr>\n",
       "    <tr>\n",
       "      <th>PRIMARIA</th>\n",
       "      <td>0.034694</td>\n",
       "    </tr>\n",
       "    <tr>\n",
       "      <th>SIN ACCESO A LA EDUCACION FORMAL</th>\n",
       "      <td>0.004841</td>\n",
       "    </tr>\n",
       "    <tr>\n",
       "      <th>MAESTRIA</th>\n",
       "      <td>0.002743</td>\n",
       "    </tr>\n",
       "  </tbody>\n",
       "</table>\n",
       "</div>"
      ],
      "text/plain": [
       "                                              0\n",
       "año  nivel_edu                                 \n",
       "2016 PREPARATORIA                      0.440501\n",
       "     SECUNDARIA                        0.313907\n",
       "     LICENCIATURA                      0.178053\n",
       "     PRIMARIA                          0.054564\n",
       "     SIN ACCESO A LA EDUCACION FORMAL  0.008484\n",
       "     MAESTRIA                          0.004436\n",
       "     DOCTORADO                         0.000055\n",
       "2017 PREPARATORIA                      0.444146\n",
       "     SECUNDARIA                        0.303853\n",
       "     LICENCIATURA                      0.182426\n",
       "     PRIMARIA                          0.049851\n",
       "     SIN ACCESO A LA EDUCACION FORMAL  0.014464\n",
       "     MAESTRIA                          0.005202\n",
       "     DOCTORADO                         0.000057\n",
       "2018 PREPARATORIA                      0.448733\n",
       "     SECUNDARIA                        0.296700\n",
       "     LICENCIATURA                      0.192398\n",
       "     PRIMARIA                          0.047260\n",
       "     SIN ACCESO A LA EDUCACION FORMAL  0.011196\n",
       "     MAESTRIA                          0.003654\n",
       "     DOCTORADO                         0.000059\n",
       "2019 PREPARATORIA                      0.465478\n",
       "     SECUNDARIA                        0.297641\n",
       "     LICENCIATURA                      0.181884\n",
       "     PRIMARIA                          0.042804\n",
       "     SIN ACCESO A LA EDUCACION FORMAL  0.007620\n",
       "     MAESTRIA                          0.004572\n",
       "2020 PREPARATORIA                      0.477723\n",
       "     SECUNDARIA                        0.301838\n",
       "     LICENCIATURA                      0.175078\n",
       "     PRIMARIA                          0.035052\n",
       "     MAESTRIA                          0.006186\n",
       "     SIN ACCESO A LA EDUCACION FORMAL  0.004124\n",
       "2021 PREPARATORIA                      0.501730\n",
       "     SECUNDARIA                        0.284702\n",
       "     LICENCIATURA                      0.166653\n",
       "     PRIMARIA                          0.038309\n",
       "     MAESTRIA                          0.004641\n",
       "     SIN ACCESO A LA EDUCACION FORMAL  0.003966\n",
       "2022 PREPARATORIA                      0.488624\n",
       "     SECUNDARIA                        0.277715\n",
       "     LICENCIATURA                      0.191383\n",
       "     PRIMARIA                          0.034694\n",
       "     SIN ACCESO A LA EDUCACION FORMAL  0.004841\n",
       "     MAESTRIA                          0.002743"
      ]
     },
     "execution_count": 235,
     "metadata": {},
     "output_type": "execute_result"
    }
   ],
   "source": [
    "aux[[ls_temas[1],'año']].dropna().groupby(by=['año']).value_counts().to_frame()/aux[[ls_temas[1],'año']].dropna().groupby(by=['año']).size().to_frame()"
   ]
  },
  {
   "cell_type": "markdown",
   "id": "1112debd-6d4f-4798-bc63-b0c758245fda",
   "metadata": {},
   "source": [
    "### Categorias de Ocupación"
   ]
  },
  {
   "cell_type": "code",
   "execution_count": 37,
   "id": "6ca9ede1-98ca-4d26-b8d5-2957352213a0",
   "metadata": {},
   "outputs": [
    {
     "data": {
      "text/plain": [
       "NO PERCIBE INGRESO    40623\n",
       "EMPLEADA              33621\n",
       "ESTUDIANTE            23775\n",
       "Name: ocupacion, dtype: int64"
      ]
     },
     "execution_count": 37,
     "metadata": {},
     "output_type": "execute_result"
    }
   ],
   "source": [
    "cat_ocu =aux[ls_temas[2]].value_counts()\n",
    "cat_ocu"
   ]
  },
  {
   "cell_type": "markdown",
   "id": "bef61ff4-e69b-4c1d-b6a5-2a047973e585",
   "metadata": {},
   "source": [
    "#### Nulos"
   ]
  },
  {
   "cell_type": "code",
   "execution_count": 31,
   "id": "20ef3613-3db7-4c52-bf61-43b2a2f36311",
   "metadata": {},
   "outputs": [
    {
     "data": {
      "text/plain": [
       "98019"
      ]
     },
     "execution_count": 31,
     "metadata": {},
     "output_type": "execute_result"
    }
   ],
   "source": [
    "aux[ls_temas[2]].isna().count()"
   ]
  },
  {
   "cell_type": "code",
   "execution_count": 32,
   "id": "4343b62c-0059-46bc-bd63-8923b80c5029",
   "metadata": {},
   "outputs": [],
   "source": [
    "aux[ls_temas[2]]= aux[ls_temas[2]].fillna(\"NO CONTESTO\")"
   ]
  },
  {
   "cell_type": "markdown",
   "id": "71aedde5-a5e7-4ac3-ab8d-a5b2138a344c",
   "metadata": {},
   "source": [
    "### Datos agrupados"
   ]
  },
  {
   "cell_type": "code",
   "execution_count": 237,
   "id": "2d17f26a-24ef-443d-8cde-841b425fa48b",
   "metadata": {
    "scrolled": true,
    "tags": []
   },
   "outputs": [
    {
     "data": {
      "text/html": [
       "<div>\n",
       "<style scoped>\n",
       "    .dataframe tbody tr th:only-of-type {\n",
       "        vertical-align: middle;\n",
       "    }\n",
       "\n",
       "    .dataframe tbody tr th {\n",
       "        vertical-align: top;\n",
       "    }\n",
       "\n",
       "    .dataframe thead th {\n",
       "        text-align: right;\n",
       "    }\n",
       "</style>\n",
       "<table border=\"1\" class=\"dataframe\">\n",
       "  <thead>\n",
       "    <tr style=\"text-align: right;\">\n",
       "      <th></th>\n",
       "      <th></th>\n",
       "      <th>0</th>\n",
       "    </tr>\n",
       "    <tr>\n",
       "      <th>año</th>\n",
       "      <th>ocupacion</th>\n",
       "      <th></th>\n",
       "    </tr>\n",
       "  </thead>\n",
       "  <tbody>\n",
       "    <tr>\n",
       "      <th rowspan=\"5\" valign=\"top\">2016</th>\n",
       "      <th>EMPLEADA</th>\n",
       "      <td>0.410939</td>\n",
       "    </tr>\n",
       "    <tr>\n",
       "      <th>TRABAJADORA DEL HOGAR NO REMUNERADA</th>\n",
       "      <td>0.290130</td>\n",
       "    </tr>\n",
       "    <tr>\n",
       "      <th>ESTUDIANTE</th>\n",
       "      <td>0.261000</td>\n",
       "    </tr>\n",
       "    <tr>\n",
       "      <th>DESEMPLEADA</th>\n",
       "      <td>0.019104</td>\n",
       "    </tr>\n",
       "    <tr>\n",
       "      <th>NO ESPECIFICADO</th>\n",
       "      <td>0.018826</td>\n",
       "    </tr>\n",
       "    <tr>\n",
       "      <th rowspan=\"4\" valign=\"top\">2017</th>\n",
       "      <th>EMPLEADA</th>\n",
       "      <td>0.460490</td>\n",
       "    </tr>\n",
       "    <tr>\n",
       "      <th>TRABAJADORA DEL HOGAR NO REMUNERADA</th>\n",
       "      <td>0.273763</td>\n",
       "    </tr>\n",
       "    <tr>\n",
       "      <th>ESTUDIANTE</th>\n",
       "      <td>0.249485</td>\n",
       "    </tr>\n",
       "    <tr>\n",
       "      <th>NO ESPECIFICADO</th>\n",
       "      <td>0.016262</td>\n",
       "    </tr>\n",
       "    <tr>\n",
       "      <th rowspan=\"5\" valign=\"top\">2018</th>\n",
       "      <th>ESTUDIANTE</th>\n",
       "      <td>0.433157</td>\n",
       "    </tr>\n",
       "    <tr>\n",
       "      <th>TRABAJADORA DEL HOGAR NO REMUNERADA</th>\n",
       "      <td>0.428166</td>\n",
       "    </tr>\n",
       "    <tr>\n",
       "      <th>DESEMPLEADA</th>\n",
       "      <td>0.083089</td>\n",
       "    </tr>\n",
       "    <tr>\n",
       "      <th>EMPLEADA</th>\n",
       "      <td>0.036798</td>\n",
       "    </tr>\n",
       "    <tr>\n",
       "      <th>NO ESPECIFICADO</th>\n",
       "      <td>0.018790</td>\n",
       "    </tr>\n",
       "    <tr>\n",
       "      <th rowspan=\"5\" valign=\"top\">2019</th>\n",
       "      <th>EMPLEADA</th>\n",
       "      <td>0.430174</td>\n",
       "    </tr>\n",
       "    <tr>\n",
       "      <th>ESTUDIANTE</th>\n",
       "      <td>0.258184</td>\n",
       "    </tr>\n",
       "    <tr>\n",
       "      <th>TRABAJADORA DEL HOGAR NO REMUNERADA</th>\n",
       "      <td>0.236074</td>\n",
       "    </tr>\n",
       "    <tr>\n",
       "      <th>DESEMPLEADA</th>\n",
       "      <td>0.054448</td>\n",
       "    </tr>\n",
       "    <tr>\n",
       "      <th>NO ESPECIFICADO</th>\n",
       "      <td>0.021119</td>\n",
       "    </tr>\n",
       "    <tr>\n",
       "      <th rowspan=\"4\" valign=\"top\">2020</th>\n",
       "      <th>EMPLEADA</th>\n",
       "      <td>0.543013</td>\n",
       "    </tr>\n",
       "    <tr>\n",
       "      <th>ESTUDIANTE</th>\n",
       "      <td>0.339450</td>\n",
       "    </tr>\n",
       "    <tr>\n",
       "      <th>DESEMPLEADA</th>\n",
       "      <td>0.094402</td>\n",
       "    </tr>\n",
       "    <tr>\n",
       "      <th>NO ESPECIFICADO</th>\n",
       "      <td>0.023135</td>\n",
       "    </tr>\n",
       "    <tr>\n",
       "      <th rowspan=\"5\" valign=\"top\">2021</th>\n",
       "      <th>EMPLEADA</th>\n",
       "      <td>0.562006</td>\n",
       "    </tr>\n",
       "    <tr>\n",
       "      <th>ESTUDIANTE</th>\n",
       "      <td>0.298284</td>\n",
       "    </tr>\n",
       "    <tr>\n",
       "      <th>DESEMPLEADA</th>\n",
       "      <td>0.095169</td>\n",
       "    </tr>\n",
       "    <tr>\n",
       "      <th>TRABAJADORA DEL HOGAR NO REMUNERADA</th>\n",
       "      <td>0.027869</td>\n",
       "    </tr>\n",
       "    <tr>\n",
       "      <th>NO ESPECIFICADO</th>\n",
       "      <td>0.016673</td>\n",
       "    </tr>\n",
       "    <tr>\n",
       "      <th rowspan=\"4\" valign=\"top\">2022</th>\n",
       "      <th>EMPLEADA</th>\n",
       "      <td>0.578760</td>\n",
       "    </tr>\n",
       "    <tr>\n",
       "      <th>ESTUDIANTE</th>\n",
       "      <td>0.308820</td>\n",
       "    </tr>\n",
       "    <tr>\n",
       "      <th>DESEMPLEADA</th>\n",
       "      <td>0.079316</td>\n",
       "    </tr>\n",
       "    <tr>\n",
       "      <th>NO ESPECIFICADO</th>\n",
       "      <td>0.033104</td>\n",
       "    </tr>\n",
       "  </tbody>\n",
       "</table>\n",
       "</div>"
      ],
      "text/plain": [
       "                                                 0\n",
       "año  ocupacion                                    \n",
       "2016 EMPLEADA                             0.410939\n",
       "     TRABAJADORA DEL HOGAR NO REMUNERADA  0.290130\n",
       "     ESTUDIANTE                           0.261000\n",
       "     DESEMPLEADA                          0.019104\n",
       "     NO ESPECIFICADO                      0.018826\n",
       "2017 EMPLEADA                             0.460490\n",
       "     TRABAJADORA DEL HOGAR NO REMUNERADA  0.273763\n",
       "     ESTUDIANTE                           0.249485\n",
       "     NO ESPECIFICADO                      0.016262\n",
       "2018 ESTUDIANTE                           0.433157\n",
       "     TRABAJADORA DEL HOGAR NO REMUNERADA  0.428166\n",
       "     DESEMPLEADA                          0.083089\n",
       "     EMPLEADA                             0.036798\n",
       "     NO ESPECIFICADO                      0.018790\n",
       "2019 EMPLEADA                             0.430174\n",
       "     ESTUDIANTE                           0.258184\n",
       "     TRABAJADORA DEL HOGAR NO REMUNERADA  0.236074\n",
       "     DESEMPLEADA                          0.054448\n",
       "     NO ESPECIFICADO                      0.021119\n",
       "2020 EMPLEADA                             0.543013\n",
       "     ESTUDIANTE                           0.339450\n",
       "     DESEMPLEADA                          0.094402\n",
       "     NO ESPECIFICADO                      0.023135\n",
       "2021 EMPLEADA                             0.562006\n",
       "     ESTUDIANTE                           0.298284\n",
       "     DESEMPLEADA                          0.095169\n",
       "     TRABAJADORA DEL HOGAR NO REMUNERADA  0.027869\n",
       "     NO ESPECIFICADO                      0.016673\n",
       "2022 EMPLEADA                             0.578760\n",
       "     ESTUDIANTE                           0.308820\n",
       "     DESEMPLEADA                          0.079316\n",
       "     NO ESPECIFICADO                      0.033104"
      ]
     },
     "execution_count": 237,
     "metadata": {},
     "output_type": "execute_result"
    }
   ],
   "source": [
    "aux[[ls_temas[2],'año']].dropna().groupby(by=['año']).value_counts().to_frame()/aux[[ls_temas[2],'año']].dropna().groupby(by=['año']).size().to_frame()"
   ]
  },
  {
   "cell_type": "markdown",
   "id": "15423960-a3d4-47db-a61f-7c931c568425",
   "metadata": {},
   "source": [
    "### Categorias nuevas"
   ]
  },
  {
   "cell_type": "code",
   "execution_count": 35,
   "id": "ae1d108c-9f14-4e53-a95c-cde5f3df64fe",
   "metadata": {},
   "outputs": [
    {
     "data": {
      "text/plain": [
       "['EMPLEADA', 'ESTUDIANTE']"
      ]
     },
     "execution_count": 35,
     "metadata": {},
     "output_type": "execute_result"
    }
   ],
   "source": [
    "ls_ocu = [x for x in cat_ocu.index if cat_ocu[x] >20000 ]\n",
    "ls_ocu"
   ]
  },
  {
   "cell_type": "code",
   "execution_count": 36,
   "id": "b0d48790-bbf3-4d88-adcd-b22e127f3555",
   "metadata": {},
   "outputs": [],
   "source": [
    "aux[ls_temas[2]] = aux[[ls_temas[2]]].applymap(lambda x: x if x in ls_ocu else \"NO PERCIBE INGRESO\")"
   ]
  },
  {
   "cell_type": "markdown",
   "id": "b4fe3474-7dc4-4381-8c83-cef021f6757c",
   "metadata": {},
   "source": [
    "## Dataset final"
   ]
  },
  {
   "cell_type": "code",
   "execution_count": 40,
   "id": "d7f6c4fa-4dc8-4ae5-9d77-1a27554af58c",
   "metadata": {},
   "outputs": [],
   "source": [
    "aux.to_excel(\"AbortoVariablesFinales.xlsx\")"
   ]
  },
  {
   "cell_type": "markdown",
   "id": "f75df363-b98c-493f-ba6d-2a51e5e99945",
   "metadata": {},
   "source": [
    "## Otro"
   ]
  },
  {
   "cell_type": "code",
   "execution_count": 7,
   "id": "ae97b656-de6e-4938-ab23-adc5796598f4",
   "metadata": {},
   "outputs": [
    {
     "data": {
      "text/plain": [
       "Index(['año', 'mes', 'fingreso', 'autoref', 'edocivil_descripcion', 'edad',\n",
       "       'desc_derechohab', 'nivel_edu', 'ocupacion', 'religion', 'parentesco',\n",
       "       'entidad', 'alc_o_municipio', 'menarca', 'fsexual', 'fmenstrua',\n",
       "       'sememb', 'nhijos', 'gesta', 'naborto', 'npartos', 'ncesarea', 'nile',\n",
       "       'consejeria', 'anticonceptivo', 'c_fecha', 'c_num', 'motiles',\n",
       "       'h_fingreso', 'h_fegreso', 'desc_servicio', 'p_semgest', 'p_diasgesta',\n",
       "       'p_consent', 'procile', 's_complica', 'c_dolor', 'tanalgesico',\n",
       "       'cconsejo', 'panticoncep', 'fecha_cierre', 'resultado_ile',\n",
       "       'medicamento', 'procile_simplificada', 'procile_completa',\n",
       "       'clues_hospital'],\n",
       "      dtype='object')"
      ]
     },
     "execution_count": 7,
     "metadata": {},
     "output_type": "execute_result"
    }
   ],
   "source": [
    "df.columns"
   ]
  },
  {
   "cell_type": "code",
   "execution_count": 17,
   "id": "36f1cf96-cfde-489c-b478-5ccbf47bc341",
   "metadata": {},
   "outputs": [
    {
     "data": {
      "text/plain": [
       "count    91858.000000\n",
       "mean         0.312700\n",
       "std          0.595058\n",
       "min          0.000000\n",
       "25%          0.000000\n",
       "50%          0.000000\n",
       "75%          0.000000\n",
       "max          7.000000\n",
       "Name: ncesarea, dtype: float64"
      ]
     },
     "execution_count": 17,
     "metadata": {},
     "output_type": "execute_result"
    }
   ],
   "source": [
    "df[\"ncesarea\"].describe()"
   ]
  },
  {
   "cell_type": "code",
   "execution_count": 12,
   "id": "fc7cda5b-2906-4f9b-8f5d-739511f2db22",
   "metadata": {},
   "outputs": [
    {
     "data": {
      "text/plain": [
       "0.044358746773584715"
      ]
     },
     "execution_count": 12,
     "metadata": {},
     "output_type": "execute_result"
    }
   ],
   "source": [
    "df[\"fsexual\"].isna().mean()"
   ]
  },
  {
   "cell_type": "code",
   "execution_count": 13,
   "id": "694009ba-8e78-4590-86a5-5d257546724d",
   "metadata": {},
   "outputs": [
    {
     "data": {
      "text/html": [
       "<div>\n",
       "<style scoped>\n",
       "    .dataframe tbody tr th:only-of-type {\n",
       "        vertical-align: middle;\n",
       "    }\n",
       "\n",
       "    .dataframe tbody tr th {\n",
       "        vertical-align: top;\n",
       "    }\n",
       "\n",
       "    .dataframe thead th {\n",
       "        text-align: right;\n",
       "    }\n",
       "</style>\n",
       "<table border=\"1\" class=\"dataframe\">\n",
       "  <thead>\n",
       "    <tr style=\"text-align: right;\">\n",
       "      <th></th>\n",
       "      <th>fsexual</th>\n",
       "    </tr>\n",
       "  </thead>\n",
       "  <tbody>\n",
       "    <tr>\n",
       "      <th>0</th>\n",
       "      <td>13.0</td>\n",
       "    </tr>\n",
       "    <tr>\n",
       "      <th>1</th>\n",
       "      <td>17.0</td>\n",
       "    </tr>\n",
       "    <tr>\n",
       "      <th>2</th>\n",
       "      <td>15.0</td>\n",
       "    </tr>\n",
       "    <tr>\n",
       "      <th>3</th>\n",
       "      <td>15.0</td>\n",
       "    </tr>\n",
       "    <tr>\n",
       "      <th>4</th>\n",
       "      <td>15.0</td>\n",
       "    </tr>\n",
       "    <tr>\n",
       "      <th>...</th>\n",
       "      <td>...</td>\n",
       "    </tr>\n",
       "    <tr>\n",
       "      <th>98014</th>\n",
       "      <td>15.0</td>\n",
       "    </tr>\n",
       "    <tr>\n",
       "      <th>98015</th>\n",
       "      <td>20.0</td>\n",
       "    </tr>\n",
       "    <tr>\n",
       "      <th>98016</th>\n",
       "      <td>15.0</td>\n",
       "    </tr>\n",
       "    <tr>\n",
       "      <th>98017</th>\n",
       "      <td>18.0</td>\n",
       "    </tr>\n",
       "    <tr>\n",
       "      <th>98018</th>\n",
       "      <td>18.0</td>\n",
       "    </tr>\n",
       "  </tbody>\n",
       "</table>\n",
       "<p>98019 rows × 1 columns</p>\n",
       "</div>"
      ],
      "text/plain": [
       "       fsexual\n",
       "0         13.0\n",
       "1         17.0\n",
       "2         15.0\n",
       "3         15.0\n",
       "4         15.0\n",
       "...        ...\n",
       "98014     15.0\n",
       "98015     20.0\n",
       "98016     15.0\n",
       "98017     18.0\n",
       "98018     18.0\n",
       "\n",
       "[98019 rows x 1 columns]"
      ]
     },
     "execution_count": 13,
     "metadata": {},
     "output_type": "execute_result"
    }
   ],
   "source": [
    "aux= df[[\"fsexual\"]]\n",
    "aux"
   ]
  },
  {
   "cell_type": "code",
   "execution_count": 27,
   "id": "2567b4b4-08a3-413f-91cb-c4b5ddf03980",
   "metadata": {},
   "outputs": [
    {
     "name": "stderr",
     "output_type": "stream",
     "text": [
      "C:\\Users\\blute\\AppData\\Local\\Temp\\ipykernel_12668\\943182382.py:1: FutureWarning: Dropping of nuisance columns in DataFrame reductions (with 'numeric_only=None') is deprecated; in a future version this will raise TypeError.  Select only valid columns before calling the reduction.\n",
      "  aux[\"embarazos\"]= df[[\"npartos\", \"ncesarea\"]].sum(axis=1)\n",
      "C:\\Users\\blute\\AppData\\Local\\Temp\\ipykernel_12668\\943182382.py:1: SettingWithCopyWarning: \n",
      "A value is trying to be set on a copy of a slice from a DataFrame.\n",
      "Try using .loc[row_indexer,col_indexer] = value instead\n",
      "\n",
      "See the caveats in the documentation: https://pandas.pydata.org/pandas-docs/stable/user_guide/indexing.html#returning-a-view-versus-a-copy\n",
      "  aux[\"embarazos\"]= df[[\"npartos\", \"ncesarea\"]].sum(axis=1)\n"
     ]
    }
   ],
   "source": [
    "aux[\"embarazos\"]= df[[\"npartos\", \"ncesarea\"]].sum(axis=1)"
   ]
  },
  {
   "cell_type": "code",
   "execution_count": 25,
   "id": "ba584b2a-7aa9-4dbb-8d1d-9c4a0b025dc6",
   "metadata": {},
   "outputs": [
    {
     "data": {
      "text/html": [
       "<div>\n",
       "<style scoped>\n",
       "    .dataframe tbody tr th:only-of-type {\n",
       "        vertical-align: middle;\n",
       "    }\n",
       "\n",
       "    .dataframe tbody tr th {\n",
       "        vertical-align: top;\n",
       "    }\n",
       "\n",
       "    .dataframe thead th {\n",
       "        text-align: right;\n",
       "    }\n",
       "</style>\n",
       "<table border=\"1\" class=\"dataframe\">\n",
       "  <thead>\n",
       "    <tr style=\"text-align: right;\">\n",
       "      <th></th>\n",
       "      <th>npartos</th>\n",
       "      <th>ncesarea</th>\n",
       "    </tr>\n",
       "  </thead>\n",
       "  <tbody>\n",
       "    <tr>\n",
       "      <th>0</th>\n",
       "      <td>0.0</td>\n",
       "      <td>0.0</td>\n",
       "    </tr>\n",
       "    <tr>\n",
       "      <th>1</th>\n",
       "      <td>0.0</td>\n",
       "      <td>1.0</td>\n",
       "    </tr>\n",
       "    <tr>\n",
       "      <th>2</th>\n",
       "      <td>0.0</td>\n",
       "      <td>1.0</td>\n",
       "    </tr>\n",
       "    <tr>\n",
       "      <th>3</th>\n",
       "      <td>0.0</td>\n",
       "      <td>1.0</td>\n",
       "    </tr>\n",
       "    <tr>\n",
       "      <th>4</th>\n",
       "      <td>0.0</td>\n",
       "      <td>0.0</td>\n",
       "    </tr>\n",
       "    <tr>\n",
       "      <th>...</th>\n",
       "      <td>...</td>\n",
       "      <td>...</td>\n",
       "    </tr>\n",
       "    <tr>\n",
       "      <th>98014</th>\n",
       "      <td>1</td>\n",
       "      <td>0.0</td>\n",
       "    </tr>\n",
       "    <tr>\n",
       "      <th>98015</th>\n",
       "      <td>1</td>\n",
       "      <td>1.0</td>\n",
       "    </tr>\n",
       "    <tr>\n",
       "      <th>98016</th>\n",
       "      <td>3</td>\n",
       "      <td>0.0</td>\n",
       "    </tr>\n",
       "    <tr>\n",
       "      <th>98017</th>\n",
       "      <td>0</td>\n",
       "      <td>0.0</td>\n",
       "    </tr>\n",
       "    <tr>\n",
       "      <th>98018</th>\n",
       "      <td>0</td>\n",
       "      <td>0.0</td>\n",
       "    </tr>\n",
       "  </tbody>\n",
       "</table>\n",
       "<p>98019 rows × 2 columns</p>\n",
       "</div>"
      ],
      "text/plain": [
       "      npartos  ncesarea\n",
       "0         0.0       0.0\n",
       "1         0.0       1.0\n",
       "2         0.0       1.0\n",
       "3         0.0       1.0\n",
       "4         0.0       0.0\n",
       "...       ...       ...\n",
       "98014       1       0.0\n",
       "98015       1       1.0\n",
       "98016       3       0.0\n",
       "98017       0       0.0\n",
       "98018       0       0.0\n",
       "\n",
       "[98019 rows x 2 columns]"
      ]
     },
     "execution_count": 25,
     "metadata": {},
     "output_type": "execute_result"
    }
   ],
   "source": [
    "df[[\"npartos\", \"ncesarea\"]]"
   ]
  },
  {
   "cell_type": "code",
   "execution_count": 35,
   "id": "32235a47-4ad9-4346-9ad6-f6fba25a2c79",
   "metadata": {},
   "outputs": [
    {
     "name": "stderr",
     "output_type": "stream",
     "text": [
      "C:\\Users\\blute\\AppData\\Local\\Temp\\ipykernel_12668\\2341498111.py:1: SettingWithCopyWarning: \n",
      "A value is trying to be set on a copy of a slice from a DataFrame.\n",
      "Try using .loc[row_indexer,col_indexer] = value instead\n",
      "\n",
      "See the caveats in the documentation: https://pandas.pydata.org/pandas-docs/stable/user_guide/indexing.html#returning-a-view-versus-a-copy\n",
      "  aux[\"fsexual\"] =aux[[\"fsexual\"]].applymap(lambda x: x if x <50 else 45)\n",
      "C:\\Users\\blute\\AppData\\Local\\Temp\\ipykernel_12668\\2341498111.py:2: SettingWithCopyWarning: \n",
      "A value is trying to be set on a copy of a slice from a DataFrame.\n",
      "Try using .loc[row_indexer,col_indexer] = value instead\n",
      "\n",
      "See the caveats in the documentation: https://pandas.pydata.org/pandas-docs/stable/user_guide/indexing.html#returning-a-view-versus-a-copy\n",
      "  aux[\"fsexual\"] =aux[[\"fsexual\"]].applymap(lambda x: x if x >14 else 15)\n"
     ]
    }
   ],
   "source": [
    "aux[\"fsexual\"] =aux[[\"fsexual\"]].applymap(lambda x: x if x <50 else 45)\n",
    "aux[\"fsexual\"] =aux[[\"fsexual\"]].applymap(lambda x: x if x >14 else 15)"
   ]
  },
  {
   "cell_type": "code",
   "execution_count": 36,
   "id": "3d02efd3-b010-4e71-a446-973d4c125e85",
   "metadata": {},
   "outputs": [
    {
     "data": {
      "text/plain": [
       "count    98019.000000\n",
       "mean        18.332711\n",
       "std          6.114745\n",
       "min         15.000000\n",
       "25%         15.000000\n",
       "50%         17.000000\n",
       "75%         18.000000\n",
       "max         49.000000\n",
       "Name: fsexual, dtype: float64"
      ]
     },
     "execution_count": 36,
     "metadata": {},
     "output_type": "execute_result"
    }
   ],
   "source": [
    "aux[\"fsexual\"].describe()"
   ]
  },
  {
   "cell_type": "markdown",
   "id": "0f2b34b1-9822-4ec1-938a-3ef952239f79",
   "metadata": {},
   "source": [
    "### Nulos"
   ]
  },
  {
   "cell_type": "code",
   "execution_count": 39,
   "id": "72a7923b-e345-400a-b5c1-7e43e575606e",
   "metadata": {},
   "outputs": [
    {
     "data": {
      "text/plain": [
       "98019"
      ]
     },
     "execution_count": 39,
     "metadata": {},
     "output_type": "execute_result"
    }
   ],
   "source": [
    "aux[\"fsexual\"].isna().count()"
   ]
  },
  {
   "cell_type": "code",
   "execution_count": 40,
   "id": "f9601eb4-ddeb-4e21-9c5a-6fa5b428aa8d",
   "metadata": {},
   "outputs": [
    {
     "name": "stderr",
     "output_type": "stream",
     "text": [
      "C:\\Users\\blute\\AppData\\Local\\Temp\\ipykernel_12668\\4030904581.py:1: SettingWithCopyWarning: \n",
      "A value is trying to be set on a copy of a slice from a DataFrame.\n",
      "Try using .loc[row_indexer,col_indexer] = value instead\n",
      "\n",
      "See the caveats in the documentation: https://pandas.pydata.org/pandas-docs/stable/user_guide/indexing.html#returning-a-view-versus-a-copy\n",
      "  aux[\"fsexual\"]= aux[\"fsexual\"].fillna(18)\n"
     ]
    }
   ],
   "source": [
    "aux[\"fsexual\"]= aux[\"fsexual\"].fillna(18)"
   ]
  },
  {
   "cell_type": "markdown",
   "id": "7aefafb8-7c0e-4fb1-85f6-2a22c1de14e2",
   "metadata": {},
   "source": [
    "### Embarazos"
   ]
  },
  {
   "cell_type": "code",
   "execution_count": 45,
   "id": "d47d6678-403c-45f7-970f-94832f3566af",
   "metadata": {},
   "outputs": [
    {
     "data": {
      "text/plain": [
       "0        0.0\n",
       "1        1.0\n",
       "2        1.0\n",
       "3        1.0\n",
       "4        0.0\n",
       "        ... \n",
       "98014    0.0\n",
       "98015    1.0\n",
       "98016    0.0\n",
       "98017    0.0\n",
       "98018    0.0\n",
       "Name: embarazos, Length: 98019, dtype: float64"
      ]
     },
     "execution_count": 45,
     "metadata": {},
     "output_type": "execute_result"
    }
   ],
   "source": [
    "aux[\"embarazos\"]"
   ]
  },
  {
   "cell_type": "code",
   "execution_count": 44,
   "id": "925127dd-a9b4-479e-a67d-60dad17df9bc",
   "metadata": {},
   "outputs": [
    {
     "data": {
      "text/plain": [
       "<AxesSubplot:>"
      ]
     },
     "execution_count": 44,
     "metadata": {},
     "output_type": "execute_result"
    },
    {
     "data": {
      "image/png": "[encoded data removed]",
      "text/plain": [
       "<Figure size 640x480 with 1 Axes>"
      ]
     },
     "metadata": {},
     "output_type": "display_data"
    }
   ],
   "source": [
    "aux[\"embarazos\"].hist()"
   ]
  },
  {
   "cell_type": "code",
   "execution_count": 42,
   "id": "3f55b355-ed6b-4cfb-ae7b-6bb17e28ea64",
   "metadata": {},
   "outputs": [
    {
     "data": {
      "text/plain": [
       "0.0"
      ]
     },
     "execution_count": 42,
     "metadata": {},
     "output_type": "execute_result"
    }
   ],
   "source": [
    "aux[\"embarazos\"].isna().mean()"
   ]
  },
  {
   "cell_type": "code",
   "execution_count": 46,
   "id": "7c519f64-b5a4-4dc4-8ea9-46371c6141b0",
   "metadata": {},
   "outputs": [
    {
     "name": "stderr",
     "output_type": "stream",
     "text": [
      "C:\\Users\\blute\\AppData\\Local\\Temp\\ipykernel_12668\\1175126266.py:1: SettingWithCopyWarning: \n",
      "A value is trying to be set on a copy of a slice from a DataFrame.\n",
      "Try using .loc[row_indexer,col_indexer] = value instead\n",
      "\n",
      "See the caveats in the documentation: https://pandas.pydata.org/pandas-docs/stable/user_guide/indexing.html#returning-a-view-versus-a-copy\n",
      "  aux[\"embarazos\"]= aux[\"embarazos\"].fillna(0)\n"
     ]
    }
   ],
   "source": [
    "aux[\"embarazos\"]= aux[\"embarazos\"].fillna(0)"
   ]
  },
  {
   "cell_type": "code",
   "execution_count": 47,
   "id": "f5a73270-abfb-439f-ba36-f5eb7c32ac33",
   "metadata": {},
   "outputs": [],
   "source": [
    "aux.to_excel(\"ultimas.xlsx\")"
   ]
  },
  {
   "cell_type": "markdown",
   "id": "43869f4a-8108-4110-b20e-954ee7277848",
   "metadata": {},
   "source": [
    "## Edad"
   ]
  },
  {
   "cell_type": "code",
   "execution_count": 75,
   "id": "b302671d-4330-4c66-8e91-c4955bf3560d",
   "metadata": {},
   "outputs": [],
   "source": [
    "df_edad = df[[\"edad\"]]"
   ]
  },
  {
   "cell_type": "code",
   "execution_count": 80,
   "id": "41b4c622-da14-4f0a-8135-821a4ae3519d",
   "metadata": {},
   "outputs": [
    {
     "data": {
      "text/html": [
       "<div>\n",
       "<style scoped>\n",
       "    .dataframe tbody tr th:only-of-type {\n",
       "        vertical-align: middle;\n",
       "    }\n",
       "\n",
       "    .dataframe tbody tr th {\n",
       "        vertical-align: top;\n",
       "    }\n",
       "\n",
       "    .dataframe thead th {\n",
       "        text-align: right;\n",
       "    }\n",
       "</style>\n",
       "<table border=\"1\" class=\"dataframe\">\n",
       "  <thead>\n",
       "    <tr style=\"text-align: right;\">\n",
       "      <th></th>\n",
       "      <th>edad</th>\n",
       "    </tr>\n",
       "  </thead>\n",
       "  <tbody>\n",
       "    <tr>\n",
       "      <th>0</th>\n",
       "      <td>24</td>\n",
       "    </tr>\n",
       "    <tr>\n",
       "      <th>1</th>\n",
       "      <td>30</td>\n",
       "    </tr>\n",
       "    <tr>\n",
       "      <th>2</th>\n",
       "      <td>38</td>\n",
       "    </tr>\n",
       "    <tr>\n",
       "      <th>3</th>\n",
       "      <td>23</td>\n",
       "    </tr>\n",
       "    <tr>\n",
       "      <th>4</th>\n",
       "      <td>18</td>\n",
       "    </tr>\n",
       "    <tr>\n",
       "      <th>...</th>\n",
       "      <td>...</td>\n",
       "    </tr>\n",
       "    <tr>\n",
       "      <th>98014</th>\n",
       "      <td>21</td>\n",
       "    </tr>\n",
       "    <tr>\n",
       "      <th>98015</th>\n",
       "      <td>32</td>\n",
       "    </tr>\n",
       "    <tr>\n",
       "      <th>98016</th>\n",
       "      <td>29</td>\n",
       "    </tr>\n",
       "    <tr>\n",
       "      <th>98017</th>\n",
       "      <td>24</td>\n",
       "    </tr>\n",
       "    <tr>\n",
       "      <th>98018</th>\n",
       "      <td>23</td>\n",
       "    </tr>\n",
       "  </tbody>\n",
       "</table>\n",
       "<p>98019 rows × 1 columns</p>\n",
       "</div>"
      ],
      "text/plain": [
       "       edad\n",
       "0        24\n",
       "1        30\n",
       "2        38\n",
       "3        23\n",
       "4        18\n",
       "...     ...\n",
       "98014    21\n",
       "98015    32\n",
       "98016    29\n",
       "98017    24\n",
       "98018    23\n",
       "\n",
       "[98019 rows x 1 columns]"
      ]
     },
     "execution_count": 80,
     "metadata": {},
     "output_type": "execute_result"
    }
   ],
   "source": [
    "df_edad"
   ]
  },
  {
   "cell_type": "code",
   "execution_count": 82,
   "id": "161e32f5-7a5e-4a4a-b2aa-32eb9f1988e6",
   "metadata": {},
   "outputs": [],
   "source": [
    "def intervalo(x):\n",
    "    if(x<17):\n",
    "        s= \"<17\"\n",
    "    elif(x>=17 and x<25):\n",
    "        s= \"17-25\"\n",
    "    elif(x>=25 and x<30):\n",
    "        s= \"25-30\"\n",
    "    elif(x>=30 and x<35):\n",
    "        s= \"30-35\"\n",
    "    else:\n",
    "        s= \">35\"\n",
    "    return s\n",
    "    "
   ]
  },
  {
   "cell_type": "code",
   "execution_count": 84,
   "id": "ecb67de1-e2ef-4b8f-bf35-368aa32cee86",
   "metadata": {},
   "outputs": [],
   "source": [
    "df_edad = df_edad[[\"edad\"]].applymap(lambda x: intervalo(x))"
   ]
  },
  {
   "cell_type": "code",
   "execution_count": 85,
   "id": "33366a35-0044-4945-8327-5457757ad8cd",
   "metadata": {},
   "outputs": [
    {
     "data": {
      "text/plain": [
       "edad \n",
       "17-25    44953\n",
       "25-30    24972\n",
       "30-35    14506\n",
       ">35      10816\n",
       "<17       2772\n",
       "dtype: int64"
      ]
     },
     "execution_count": 85,
     "metadata": {},
     "output_type": "execute_result"
    }
   ],
   "source": [
    "df_edad.value_counts()"
   ]
  },
  {
   "cell_type": "code",
   "execution_count": 88,
   "id": "27373224-27c6-45d0-8ba0-cfaaa1efe3e9",
   "metadata": {},
   "outputs": [],
   "source": [
    "df_edad.to_excel(\"categorias2.xlsx\", index = False)"
   ]
  },
  {
   "cell_type": "code",
   "execution_count": null,
   "id": "075cad08-d08e-4cf1-b98d-9dd978986835",
   "metadata": {},
   "outputs": [],
   "source": []
  }
 ],
 "metadata": {
  "kernelspec": {
   "display_name": "Python 3 (ipykernel)",
   "language": "python",
   "name": "python3"
  },
  "language_info": {
   "codemirror_mode": {
    "name": "ipython",
    "version": 3
   },
   "file_extension": ".py",
   "mimetype": "text/x-python",
   "name": "python",
   "nbconvert_exporter": "python",
   "pygments_lexer": "ipython3",
   "version": "3.10.6"
  }
 },
 "nbformat": 4,
 "nbformat_minor": 5
}
