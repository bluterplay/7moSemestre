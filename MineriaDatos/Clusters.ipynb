{
 "cells": [
  {
   "cell_type": "markdown",
   "id": "5cf02165-fc76-420e-9207-f467102f64be",
   "metadata": {},
   "source": [
    "# Modules"
   ]
  },
  {
   "cell_type": "code",
   "execution_count": 1,
   "id": "8e716920-8aa1-4c67-b632-a99d9dc1772e",
   "metadata": {},
   "outputs": [],
   "source": [
    "import pandas as pd\n",
    "import numpy as np\n",
    "\n",
    "from sklearn.decomposition import PCA\n",
    "from sklearn.mixture import GaussianMixture\n",
    "from sklearn.metrics import davies_bouldin_score, silhouette_score\n",
    "from sklearn.preprocessing import MinMaxScaler\n",
    "\n",
    "import plotly.express as px\n",
    "import matplotlib.pyplot as plt"
   ]
  },
  {
   "cell_type": "markdown",
   "id": "77854de7-ce26-4fb4-8aa0-64302053ea0f",
   "metadata": {},
   "source": [
    "## Data"
   ]
  },
  {
   "cell_type": "code",
   "execution_count": 2,
   "id": "7b4ce434-1095-4237-a668-6bbc444e2c15",
   "metadata": {},
   "outputs": [],
   "source": [
    "data= pd.read_excel('DatosFinales.xlsx', sheet_name='Datos')"
   ]
  },
  {
   "cell_type": "code",
   "execution_count": 3,
   "id": "0303b820-26ac-4f1b-8225-889a3c62d63f",
   "metadata": {},
   "outputs": [
    {
     "name": "stderr",
     "output_type": "stream",
     "text": [
      "/tmp/ipykernel_57/2648480520.py:1: DtypeWarning: Columns (13,20,28,29,40,41,42) have mixed types. Specify dtype option on import or set low_memory=False.\n",
      "  age= pd.read_csv(\"Dataset_Aborto.csv\")\n"
     ]
    }
   ],
   "source": [
    "age= pd.read_csv(\"Dataset_Aborto.csv\")"
   ]
  },
  {
   "cell_type": "code",
   "execution_count": 4,
   "id": "c6ac18f5-768d-498e-9913-f10fea9640fa",
   "metadata": {},
   "outputs": [],
   "source": [
    "data[\"edad\"] =age.edad"
   ]
  },
  {
   "cell_type": "code",
   "execution_count": 5,
   "id": "78f6b289-4cb6-400f-87e7-be67df858e4b",
   "metadata": {},
   "outputs": [
    {
     "data": {
      "text/html": [
       "<div>\n",
       "<style scoped>\n",
       "    .dataframe tbody tr th:only-of-type {\n",
       "        vertical-align: middle;\n",
       "    }\n",
       "\n",
       "    .dataframe tbody tr th {\n",
       "        vertical-align: top;\n",
       "    }\n",
       "\n",
       "    .dataframe thead th {\n",
       "        text-align: right;\n",
       "    }\n",
       "</style>\n",
       "<table border=\"1\" class=\"dataframe\">\n",
       "  <thead>\n",
       "    <tr style=\"text-align: right;\">\n",
       "      <th></th>\n",
       "      <th>anticonceptivo</th>\n",
       "      <th>nivel_edu</th>\n",
       "      <th>ocupacion</th>\n",
       "      <th>año</th>\n",
       "      <th>nile</th>\n",
       "      <th>edocivil_descripcion</th>\n",
       "      <th>alc_o_municipio</th>\n",
       "      <th>parentesco</th>\n",
       "      <th>religion</th>\n",
       "      <th>motiles</th>\n",
       "      <th>fsexual</th>\n",
       "      <th>embarazos</th>\n",
       "      <th>entidad</th>\n",
       "      <th>edad_cat</th>\n",
       "      <th>fsexual_cat</th>\n",
       "      <th>x</th>\n",
       "      <th>Segmento</th>\n",
       "      <th>edad</th>\n",
       "    </tr>\n",
       "  </thead>\n",
       "  <tbody>\n",
       "    <tr>\n",
       "      <th>0</th>\n",
       "      <td>NO CONTESTO</td>\n",
       "      <td>SIN ACCESO A LA EDUCACION FORMAL</td>\n",
       "      <td>EMPLEADA</td>\n",
       "      <td>2017</td>\n",
       "      <td>0</td>\n",
       "      <td>VIUDA</td>\n",
       "      <td>EL PAREDÓN</td>\n",
       "      <td>PAREJA</td>\n",
       "      <td>CATOLICA</td>\n",
       "      <td>INTERRUPCION VOLUNTARIA</td>\n",
       "      <td>45</td>\n",
       "      <td>7</td>\n",
       "      <td>OTROS</td>\n",
       "      <td>17-25</td>\n",
       "      <td>&gt;35</td>\n",
       "      <td>15.0</td>\n",
       "      <td>NaN</td>\n",
       "      <td>24</td>\n",
       "    </tr>\n",
       "    <tr>\n",
       "      <th>1</th>\n",
       "      <td>NINGUNO</td>\n",
       "      <td>PREPARATORIA</td>\n",
       "      <td>NO PERCIBE INGRESO</td>\n",
       "      <td>2017</td>\n",
       "      <td>0</td>\n",
       "      <td>UNION LIBRE</td>\n",
       "      <td>IZTAPALAPA</td>\n",
       "      <td>PAREJA</td>\n",
       "      <td>CATOLICA</td>\n",
       "      <td>INTERRUPCION VOLUNTARIA</td>\n",
       "      <td>15</td>\n",
       "      <td>5</td>\n",
       "      <td>CIUDAD DE MEXICO</td>\n",
       "      <td>30-35</td>\n",
       "      <td>&lt;17</td>\n",
       "      <td>28.0</td>\n",
       "      <td>NaN</td>\n",
       "      <td>30</td>\n",
       "    </tr>\n",
       "    <tr>\n",
       "      <th>2</th>\n",
       "      <td>NINGUNO</td>\n",
       "      <td>SECUNDARIA</td>\n",
       "      <td>EMPLEADA</td>\n",
       "      <td>2017</td>\n",
       "      <td>0</td>\n",
       "      <td>UNION LIBRE</td>\n",
       "      <td>MILPA ALTA</td>\n",
       "      <td>PAREJA</td>\n",
       "      <td>CATOLICA</td>\n",
       "      <td>INTERRUPCION VOLUNTARIA</td>\n",
       "      <td>45</td>\n",
       "      <td>5</td>\n",
       "      <td>CIUDAD DE MEXICO</td>\n",
       "      <td>&gt;35</td>\n",
       "      <td>&gt;35</td>\n",
       "      <td>16.0</td>\n",
       "      <td>NaN</td>\n",
       "      <td>38</td>\n",
       "    </tr>\n",
       "    <tr>\n",
       "      <th>3</th>\n",
       "      <td>LARGA DURACION</td>\n",
       "      <td>PREPARATORIA</td>\n",
       "      <td>NO PERCIBE INGRESO</td>\n",
       "      <td>2018</td>\n",
       "      <td>0</td>\n",
       "      <td>CASADA</td>\n",
       "      <td>GUSTAVO A. MADERO</td>\n",
       "      <td>No contesto</td>\n",
       "      <td>CATOLICA</td>\n",
       "      <td>INTERRUPCION VOLUNTARIA</td>\n",
       "      <td>16</td>\n",
       "      <td>4</td>\n",
       "      <td>CIUDAD DE MEXICO</td>\n",
       "      <td>17-25</td>\n",
       "      <td>&lt;17</td>\n",
       "      <td>19.0</td>\n",
       "      <td>Jóvenes con preparatoria</td>\n",
       "      <td>23</td>\n",
       "    </tr>\n",
       "    <tr>\n",
       "      <th>4</th>\n",
       "      <td>CONDON</td>\n",
       "      <td>SECUNDARIA</td>\n",
       "      <td>NO PERCIBE INGRESO</td>\n",
       "      <td>2016</td>\n",
       "      <td>0</td>\n",
       "      <td>UNION LIBRE</td>\n",
       "      <td>IZTAPALAPA</td>\n",
       "      <td>FAMILIAR MUJER</td>\n",
       "      <td>CATOLICA</td>\n",
       "      <td>INTERRUPCION VOLUNTARIA</td>\n",
       "      <td>17</td>\n",
       "      <td>4</td>\n",
       "      <td>CIUDAD DE MEXICO</td>\n",
       "      <td>17-25</td>\n",
       "      <td>17-25</td>\n",
       "      <td>16.0</td>\n",
       "      <td>NaN</td>\n",
       "      <td>18</td>\n",
       "    </tr>\n",
       "  </tbody>\n",
       "</table>\n",
       "</div>"
      ],
      "text/plain": [
       "   anticonceptivo                         nivel_edu           ocupacion   año  \\\n",
       "0     NO CONTESTO  SIN ACCESO A LA EDUCACION FORMAL            EMPLEADA  2017   \n",
       "1         NINGUNO                      PREPARATORIA  NO PERCIBE INGRESO  2017   \n",
       "2         NINGUNO                        SECUNDARIA            EMPLEADA  2017   \n",
       "3  LARGA DURACION                      PREPARATORIA  NO PERCIBE INGRESO  2018   \n",
       "4          CONDON                        SECUNDARIA  NO PERCIBE INGRESO  2016   \n",
       "\n",
       "   nile edocivil_descripcion    alc_o_municipio      parentesco  religion  \\\n",
       "0     0                VIUDA         EL PAREDÓN          PAREJA  CATOLICA   \n",
       "1     0          UNION LIBRE         IZTAPALAPA          PAREJA  CATOLICA   \n",
       "2     0          UNION LIBRE         MILPA ALTA          PAREJA  CATOLICA   \n",
       "3     0               CASADA  GUSTAVO A. MADERO     No contesto  CATOLICA   \n",
       "4     0          UNION LIBRE         IZTAPALAPA  FAMILIAR MUJER  CATOLICA   \n",
       "\n",
       "                   motiles  fsexual  embarazos           entidad edad_cat  \\\n",
       "0  INTERRUPCION VOLUNTARIA       45          7             OTROS    17-25   \n",
       "1  INTERRUPCION VOLUNTARIA       15          5  CIUDAD DE MEXICO    30-35   \n",
       "2  INTERRUPCION VOLUNTARIA       45          5  CIUDAD DE MEXICO      >35   \n",
       "3  INTERRUPCION VOLUNTARIA       16          4  CIUDAD DE MEXICO    17-25   \n",
       "4  INTERRUPCION VOLUNTARIA       17          4  CIUDAD DE MEXICO    17-25   \n",
       "\n",
       "  fsexual_cat     x                  Segmento  edad  \n",
       "0         >35  15.0                       NaN    24  \n",
       "1         <17  28.0                       NaN    30  \n",
       "2         >35  16.0                       NaN    38  \n",
       "3         <17  19.0  Jóvenes con preparatoria    23  \n",
       "4       17-25  16.0                       NaN    18  "
      ]
     },
     "execution_count": 5,
     "metadata": {},
     "output_type": "execute_result"
    }
   ],
   "source": [
    "data.head()"
   ]
  },
  {
   "cell_type": "markdown",
   "id": "ebfb3bad-83e8-498e-8c59-26325c1cd823",
   "metadata": {},
   "source": [
    "# Preprocessing"
   ]
  },
  {
   "cell_type": "markdown",
   "id": "234f87ff-b329-4aec-8e3d-2e6887b7921e",
   "metadata": {},
   "source": [
    "## Manange of Null values"
   ]
  },
  {
   "cell_type": "code",
   "execution_count": 6,
   "id": "cce4a7ba-f568-4514-a389-6f4b45086330",
   "metadata": {},
   "outputs": [
    {
     "data": {
      "text/plain": [
       "anticonceptivo          0.000000\n",
       "nivel_edu               0.000000\n",
       "ocupacion               0.000000\n",
       "año                     0.000000\n",
       "nile                    0.000000\n",
       "edocivil_descripcion    0.000000\n",
       "alc_o_municipio         0.000000\n",
       "parentesco              0.000000\n",
       "religion                0.000000\n",
       "motiles                 0.000000\n",
       "fsexual                 0.000000\n",
       "embarazos               0.000000\n",
       "entidad                 0.000000\n",
       "edad_cat                0.000000\n",
       "fsexual_cat             0.000000\n",
       "x                       0.998204\n",
       "Segmento                0.792387\n",
       "edad                    0.000000\n",
       "dtype: float64"
      ]
     },
     "execution_count": 6,
     "metadata": {},
     "output_type": "execute_result"
    }
   ],
   "source": [
    "data.isnull().mean()"
   ]
  },
  {
   "cell_type": "markdown",
   "id": "353beb04-35d2-45cd-9688-aa9b26f7fbe3",
   "metadata": {},
   "source": [
    "### Selection of categories"
   ]
  },
  {
   "cell_type": "code",
   "execution_count": 8,
   "id": "ff09fa5c-35ef-401b-8501-29710ed65726",
   "metadata": {},
   "outputs": [],
   "source": [
    "ls_cat= ['anticonceptivo', 'nivel_edu', 'ocupacion','edocivil_descripcion','entidad']\n",
    "ls_cont= ['fsexual','edad','embarazos']"
   ]
  },
  {
   "cell_type": "code",
   "execution_count": 9,
   "id": "21f2b2dd-90cc-4af9-86c7-336e5631ebc9",
   "metadata": {},
   "outputs": [],
   "source": [
    "df= data[ls_cat+ls_cont].copy()"
   ]
  },
  {
   "cell_type": "markdown",
   "id": "eb8e569e-2f01-4c20-b26c-8f36a9c405f0",
   "metadata": {},
   "source": [
    "## Group categorical values"
   ]
  },
  {
   "cell_type": "code",
   "execution_count": null,
   "id": "d68601b5-dffa-47b4-8b37-9226bf6448d7",
   "metadata": {},
   "outputs": [],
   "source": [
    "for feature in ls_cat:\n",
    "    print(f'-------------{feature}--------------------')\n",
    "    print(df[feature].value_counts())"
   ]
  },
  {
   "cell_type": "markdown",
   "id": "627c156b-31a5-41c9-a7c1-c7527e411a2f",
   "metadata": {},
   "source": [
    "### Anticonceptivo"
   ]
  },
  {
   "cell_type": "code",
   "execution_count": 11,
   "id": "f1ed1409-c1a9-480b-bcc1-2843785cb662",
   "metadata": {},
   "outputs": [],
   "source": [
    "df['usoAnticon']= df['anticonceptivo'].apply(lambda x: 'No' if x in ['NINGUNO', 'NO CONTESTO'] else 'Si')"
   ]
  },
  {
   "cell_type": "markdown",
   "id": "d0253a8b-d9fc-4be8-90a7-64a5bcdc0faa",
   "metadata": {},
   "source": [
    "### Nivel educativo"
   ]
  },
  {
   "cell_type": "code",
   "execution_count": 12,
   "id": "2abbdafd-2867-40a9-9451-508dd848c3c1",
   "metadata": {},
   "outputs": [],
   "source": [
    "dc_edu= {'PREPARATORIA': 'Educación Media', 'SECUNDARIA': 'Educación Básica',\n",
    "         'PRIMARIA': 'Educación Básica', 'NO CONTESTO': 'Educación Básica',\n",
    "         'EDUCACIÓN SUPERIOR': 'Educación superior',\n",
    "          'SIN ACCESO A LA EDUCACION FORMAL': 'Sin acceso'}"
   ]
  },
  {
   "cell_type": "code",
   "execution_count": 13,
   "id": "e2edf9ab-81d9-4dc4-83d1-41cebe2642d6",
   "metadata": {},
   "outputs": [],
   "source": [
    "df['educacion']= df['nivel_edu'].apply(lambda x: dc_edu[x])"
   ]
  },
  {
   "cell_type": "markdown",
   "id": "0edfdaa1-5db2-43d9-be5b-61ad9ae09c80",
   "metadata": {},
   "source": [
    "### Estado civil"
   ]
  },
  {
   "cell_type": "code",
   "execution_count": 14,
   "id": "e82d4f32-c27d-403f-9f7c-bf5d53cd4d91",
   "metadata": {},
   "outputs": [],
   "source": [
    "df['estadoCivS']= df['edocivil_descripcion'].apply(lambda x: 'Con pareja' if x in ['CASADA','UNION LIBRE'] else 'Soltera')"
   ]
  },
  {
   "cell_type": "code",
   "execution_count": 15,
   "id": "e2d80791-06db-403c-9d90-ec3caf192c20",
   "metadata": {},
   "outputs": [
    {
     "data": {
      "text/html": [
       "<div>\n",
       "<style scoped>\n",
       "    .dataframe tbody tr th:only-of-type {\n",
       "        vertical-align: middle;\n",
       "    }\n",
       "\n",
       "    .dataframe tbody tr th {\n",
       "        vertical-align: top;\n",
       "    }\n",
       "\n",
       "    .dataframe thead th {\n",
       "        text-align: right;\n",
       "    }\n",
       "</style>\n",
       "<table border=\"1\" class=\"dataframe\">\n",
       "  <thead>\n",
       "    <tr style=\"text-align: right;\">\n",
       "      <th></th>\n",
       "      <th>anticonceptivo</th>\n",
       "      <th>nivel_edu</th>\n",
       "      <th>ocupacion</th>\n",
       "      <th>edocivil_descripcion</th>\n",
       "      <th>entidad</th>\n",
       "      <th>fsexual</th>\n",
       "      <th>edad</th>\n",
       "      <th>embarazos</th>\n",
       "      <th>usoAnticon</th>\n",
       "      <th>educacion</th>\n",
       "      <th>estadoCivS</th>\n",
       "    </tr>\n",
       "  </thead>\n",
       "  <tbody>\n",
       "    <tr>\n",
       "      <th>0</th>\n",
       "      <td>NO CONTESTO</td>\n",
       "      <td>SIN ACCESO A LA EDUCACION FORMAL</td>\n",
       "      <td>EMPLEADA</td>\n",
       "      <td>VIUDA</td>\n",
       "      <td>OTROS</td>\n",
       "      <td>45</td>\n",
       "      <td>24</td>\n",
       "      <td>7</td>\n",
       "      <td>No</td>\n",
       "      <td>Sin acceso</td>\n",
       "      <td>Soltera</td>\n",
       "    </tr>\n",
       "    <tr>\n",
       "      <th>1</th>\n",
       "      <td>NINGUNO</td>\n",
       "      <td>PREPARATORIA</td>\n",
       "      <td>NO PERCIBE INGRESO</td>\n",
       "      <td>UNION LIBRE</td>\n",
       "      <td>CIUDAD DE MEXICO</td>\n",
       "      <td>15</td>\n",
       "      <td>30</td>\n",
       "      <td>5</td>\n",
       "      <td>No</td>\n",
       "      <td>Educación Media</td>\n",
       "      <td>Con pareja</td>\n",
       "    </tr>\n",
       "    <tr>\n",
       "      <th>2</th>\n",
       "      <td>NINGUNO</td>\n",
       "      <td>SECUNDARIA</td>\n",
       "      <td>EMPLEADA</td>\n",
       "      <td>UNION LIBRE</td>\n",
       "      <td>CIUDAD DE MEXICO</td>\n",
       "      <td>45</td>\n",
       "      <td>38</td>\n",
       "      <td>5</td>\n",
       "      <td>No</td>\n",
       "      <td>Educación Básica</td>\n",
       "      <td>Con pareja</td>\n",
       "    </tr>\n",
       "    <tr>\n",
       "      <th>3</th>\n",
       "      <td>LARGA DURACION</td>\n",
       "      <td>PREPARATORIA</td>\n",
       "      <td>NO PERCIBE INGRESO</td>\n",
       "      <td>CASADA</td>\n",
       "      <td>CIUDAD DE MEXICO</td>\n",
       "      <td>16</td>\n",
       "      <td>23</td>\n",
       "      <td>4</td>\n",
       "      <td>Si</td>\n",
       "      <td>Educación Media</td>\n",
       "      <td>Con pareja</td>\n",
       "    </tr>\n",
       "    <tr>\n",
       "      <th>4</th>\n",
       "      <td>CONDON</td>\n",
       "      <td>SECUNDARIA</td>\n",
       "      <td>NO PERCIBE INGRESO</td>\n",
       "      <td>UNION LIBRE</td>\n",
       "      <td>CIUDAD DE MEXICO</td>\n",
       "      <td>17</td>\n",
       "      <td>18</td>\n",
       "      <td>4</td>\n",
       "      <td>Si</td>\n",
       "      <td>Educación Básica</td>\n",
       "      <td>Con pareja</td>\n",
       "    </tr>\n",
       "  </tbody>\n",
       "</table>\n",
       "</div>"
      ],
      "text/plain": [
       "   anticonceptivo                         nivel_edu           ocupacion  \\\n",
       "0     NO CONTESTO  SIN ACCESO A LA EDUCACION FORMAL            EMPLEADA   \n",
       "1         NINGUNO                      PREPARATORIA  NO PERCIBE INGRESO   \n",
       "2         NINGUNO                        SECUNDARIA            EMPLEADA   \n",
       "3  LARGA DURACION                      PREPARATORIA  NO PERCIBE INGRESO   \n",
       "4          CONDON                        SECUNDARIA  NO PERCIBE INGRESO   \n",
       "\n",
       "  edocivil_descripcion           entidad  fsexual  edad  embarazos usoAnticon  \\\n",
       "0                VIUDA             OTROS       45    24          7         No   \n",
       "1          UNION LIBRE  CIUDAD DE MEXICO       15    30          5         No   \n",
       "2          UNION LIBRE  CIUDAD DE MEXICO       45    38          5         No   \n",
       "3               CASADA  CIUDAD DE MEXICO       16    23          4         Si   \n",
       "4          UNION LIBRE  CIUDAD DE MEXICO       17    18          4         Si   \n",
       "\n",
       "          educacion  estadoCivS  \n",
       "0        Sin acceso     Soltera  \n",
       "1   Educación Media  Con pareja  \n",
       "2  Educación Básica  Con pareja  \n",
       "3   Educación Media  Con pareja  \n",
       "4  Educación Básica  Con pareja  "
      ]
     },
     "execution_count": 15,
     "metadata": {},
     "output_type": "execute_result"
    }
   ],
   "source": [
    "df.head()"
   ]
  },
  {
   "cell_type": "markdown",
   "id": "a4c256be-8973-48d6-ac9d-9547dbb5e2fb",
   "metadata": {},
   "source": [
    "## Dummies"
   ]
  },
  {
   "cell_type": "code",
   "execution_count": 37,
   "id": "546dcd39-4d9d-4a11-accb-0bb7c520c41b",
   "metadata": {},
   "outputs": [],
   "source": [
    "aux= df[['fsexual', 'edad', 'embarazos','entidad',\n",
    "         'ocupacion', 'usoAnticon', 'educacion','estadoCivS']].copy()"
   ]
  },
  {
   "cell_type": "code",
   "execution_count": 39,
   "id": "5ed2ddf9-a7a3-4a9c-91d1-74fff69b4e9a",
   "metadata": {},
   "outputs": [],
   "source": [
    "aux_dum=pd.get_dummies(aux)"
   ]
  },
  {
   "cell_type": "markdown",
   "id": "e2a832cd-e49c-414f-a296-230398bb0b14",
   "metadata": {},
   "source": [
    "### Remove collinearity"
   ]
  },
  {
   "cell_type": "code",
   "execution_count": 41,
   "id": "cd02e8e1-92eb-40b2-99cd-048588a1086f",
   "metadata": {},
   "outputs": [],
   "source": [
    "ls_drop_dum= ['entidad_OTROS','ocupacion_NO PERCIBE INGRESO','usoAnticon_No', 'educacion_Sin acceso','estadoCivS_Soltera']"
   ]
  },
  {
   "cell_type": "code",
   "execution_count": 42,
   "id": "d4452a84-9fd3-4b7c-9b74-145791d13e1a",
   "metadata": {},
   "outputs": [],
   "source": [
    "aux_dum=aux_dum.drop(ls_drop_dum,axis=1)"
   ]
  },
  {
   "cell_type": "code",
   "execution_count": 43,
   "id": "daf5def0-0d77-484d-a889-5668c569e7d9",
   "metadata": {},
   "outputs": [
    {
     "data": {
      "text/html": [
       "<div>\n",
       "<style scoped>\n",
       "    .dataframe tbody tr th:only-of-type {\n",
       "        vertical-align: middle;\n",
       "    }\n",
       "\n",
       "    .dataframe tbody tr th {\n",
       "        vertical-align: top;\n",
       "    }\n",
       "\n",
       "    .dataframe thead th {\n",
       "        text-align: right;\n",
       "    }\n",
       "</style>\n",
       "<table border=\"1\" class=\"dataframe\">\n",
       "  <thead>\n",
       "    <tr style=\"text-align: right;\">\n",
       "      <th></th>\n",
       "      <th>fsexual</th>\n",
       "      <th>edad</th>\n",
       "      <th>embarazos</th>\n",
       "      <th>entidad_CIUDAD DE MEXICO</th>\n",
       "      <th>entidad_ESTADO DE MEXICO</th>\n",
       "      <th>ocupacion_EMPLEADA</th>\n",
       "      <th>ocupacion_ESTUDIANTE</th>\n",
       "      <th>usoAnticon_Si</th>\n",
       "      <th>educacion_Educación Básica</th>\n",
       "      <th>educacion_Educación Media</th>\n",
       "      <th>educacion_Educación superior</th>\n",
       "      <th>estadoCivS_Con pareja</th>\n",
       "    </tr>\n",
       "  </thead>\n",
       "  <tbody>\n",
       "    <tr>\n",
       "      <th>98014</th>\n",
       "      <td>18</td>\n",
       "      <td>21</td>\n",
       "      <td>0</td>\n",
       "      <td>0</td>\n",
       "      <td>0</td>\n",
       "      <td>1</td>\n",
       "      <td>0</td>\n",
       "      <td>0</td>\n",
       "      <td>0</td>\n",
       "      <td>0</td>\n",
       "      <td>1</td>\n",
       "      <td>0</td>\n",
       "    </tr>\n",
       "    <tr>\n",
       "      <th>98015</th>\n",
       "      <td>19</td>\n",
       "      <td>32</td>\n",
       "      <td>0</td>\n",
       "      <td>0</td>\n",
       "      <td>0</td>\n",
       "      <td>1</td>\n",
       "      <td>0</td>\n",
       "      <td>0</td>\n",
       "      <td>0</td>\n",
       "      <td>0</td>\n",
       "      <td>1</td>\n",
       "      <td>1</td>\n",
       "    </tr>\n",
       "    <tr>\n",
       "      <th>98016</th>\n",
       "      <td>45</td>\n",
       "      <td>29</td>\n",
       "      <td>0</td>\n",
       "      <td>0</td>\n",
       "      <td>0</td>\n",
       "      <td>0</td>\n",
       "      <td>0</td>\n",
       "      <td>0</td>\n",
       "      <td>1</td>\n",
       "      <td>0</td>\n",
       "      <td>0</td>\n",
       "      <td>0</td>\n",
       "    </tr>\n",
       "    <tr>\n",
       "      <th>98017</th>\n",
       "      <td>17</td>\n",
       "      <td>24</td>\n",
       "      <td>0</td>\n",
       "      <td>0</td>\n",
       "      <td>0</td>\n",
       "      <td>0</td>\n",
       "      <td>1</td>\n",
       "      <td>0</td>\n",
       "      <td>0</td>\n",
       "      <td>1</td>\n",
       "      <td>0</td>\n",
       "      <td>0</td>\n",
       "    </tr>\n",
       "    <tr>\n",
       "      <th>98018</th>\n",
       "      <td>16</td>\n",
       "      <td>23</td>\n",
       "      <td>0</td>\n",
       "      <td>0</td>\n",
       "      <td>0</td>\n",
       "      <td>0</td>\n",
       "      <td>0</td>\n",
       "      <td>0</td>\n",
       "      <td>0</td>\n",
       "      <td>0</td>\n",
       "      <td>1</td>\n",
       "      <td>0</td>\n",
       "    </tr>\n",
       "  </tbody>\n",
       "</table>\n",
       "</div>"
      ],
      "text/plain": [
       "       fsexual  edad  embarazos  entidad_CIUDAD DE MEXICO  \\\n",
       "98014       18    21          0                         0   \n",
       "98015       19    32          0                         0   \n",
       "98016       45    29          0                         0   \n",
       "98017       17    24          0                         0   \n",
       "98018       16    23          0                         0   \n",
       "\n",
       "       entidad_ESTADO DE MEXICO  ocupacion_EMPLEADA  ocupacion_ESTUDIANTE  \\\n",
       "98014                         0                   1                     0   \n",
       "98015                         0                   1                     0   \n",
       "98016                         0                   0                     0   \n",
       "98017                         0                   0                     1   \n",
       "98018                         0                   0                     0   \n",
       "\n",
       "       usoAnticon_Si  educacion_Educación Básica  educacion_Educación Media  \\\n",
       "98014              0                           0                          0   \n",
       "98015              0                           0                          0   \n",
       "98016              0                           1                          0   \n",
       "98017              0                           0                          1   \n",
       "98018              0                           0                          0   \n",
       "\n",
       "       educacion_Educación superior  estadoCivS_Con pareja  \n",
       "98014                             1                      0  \n",
       "98015                             1                      1  \n",
       "98016                             0                      0  \n",
       "98017                             0                      0  \n",
       "98018                             1                      0  "
      ]
     },
     "execution_count": 43,
     "metadata": {},
     "output_type": "execute_result"
    }
   ],
   "source": [
    "aux_dum.tail()"
   ]
  },
  {
   "cell_type": "markdown",
   "id": "b9f0aa30-e967-44ce-b3d2-2af7ad2035c8",
   "metadata": {},
   "source": [
    "# PCA"
   ]
  },
  {
   "cell_type": "code",
   "execution_count": null,
   "id": "18a98963-5b8c-4bd9-826e-29a5f722065d",
   "metadata": {},
   "outputs": [],
   "source": [
    "pca = PCA(n_components=3,svd_solver='full')\n",
    "pca.fit(aux_dum)"
   ]
  },
  {
   "cell_type": "code",
   "execution_count": 25,
   "id": "35c36a75-8d50-40ed-a5b1-05a6588ae020",
   "metadata": {},
   "outputs": [
    {
     "name": "stdout",
     "output_type": "stream",
     "text": [
      "[0.49638527 0.47479068 0.00567005]\n"
     ]
    }
   ],
   "source": [
    "print(pca.explained_variance_ratio_)"
   ]
  },
  {
   "cell_type": "code",
   "execution_count": 26,
   "id": "7071237e-c8bb-4e28-9f27-87b6026a48cc",
   "metadata": {},
   "outputs": [],
   "source": [
    "z= pca.transform(aux_dum)"
   ]
  },
  {
   "cell_type": "code",
   "execution_count": 47,
   "id": "a1480bd5-c8f0-4cef-ba9b-a7de20c33ec2",
   "metadata": {},
   "outputs": [],
   "source": [
    "aux['z1'] = z[:,0]\n",
    "aux['z2'] = z[:,1]\n",
    "aux['z3'] = z[:,2]"
   ]
  },
  {
   "cell_type": "markdown",
   "id": "21f862ac-3540-47d7-b66a-24acaa0ea796",
   "metadata": {},
   "source": [
    "## Data visualization"
   ]
  },
  {
   "cell_type": "code",
   "execution_count": null,
   "id": "0ec5aa0f-f173-4624-a513-7c22b9b4bba4",
   "metadata": {},
   "outputs": [],
   "source": [
    "fig = px.scatter(aux, \n",
    "                 x='z1', y='z2',  \n",
    "                 color='educacion',\n",
    "                 symbol='ocupacion',\n",
    "                 #labels='',\n",
    "                 #text='wav_filename',\n",
    "                 hover_data=['fsexual', 'edad', 'embarazos', 'entidad', 'ocupacion', 'usoAnticon','educacion', 'estadoCivS'],\n",
    "                 template=\"simple_white\"\n",
    "                 #template=\"plotly_dark\",\n",
    "                 )\n",
    "\n",
    "fig.show()"
   ]
  },
  {
   "cell_type": "code",
   "execution_count": null,
   "id": "6bfb0874-8a63-4e06-921f-f21df3df0ae1",
   "metadata": {},
   "outputs": [],
   "source": [
    "fig = px.scatter_3d(aux, \n",
    "                 x='z1', y='z2',z= 'z3',  \n",
    "                 color='educacion',\n",
    "                 symbol='ocupacion',\n",
    "                 #labels='',\n",
    "                 #text='wav_filename',\n",
    "                 hover_data=['fsexual', 'edad', 'embarazos', 'entidad', 'ocupacion', 'usoAnticon','educacion', 'estadoCivS'],\n",
    "                 template=\"simple_white\"\n",
    "                 #template=\"plotly_dark\",\n",
    "                 )\n",
    "\n",
    "fig.show()"
   ]
  },
  {
   "cell_type": "markdown",
   "id": "acc1ede3-b4af-4ed1-b485-fe8849282b2e",
   "metadata": {},
   "source": [
    "## Number of clusters"
   ]
  },
  {
   "cell_type": "code",
   "execution_count": 32,
   "id": "5b2fff4a-8b10-48ba-87eb-ed47026e9b7b",
   "metadata": {},
   "outputs": [],
   "source": [
    "sc = MinMaxScaler()\n",
    "Xs = pd.DataFrame(data=sc.fit_transform(aux_dum), columns=aux_dum.columns, index=aux_dum.index)"
   ]
  },
  {
   "cell_type": "code",
   "execution_count": null,
   "id": "5d19c104-2a27-4675-bd5e-c93bad6e5f31",
   "metadata": {},
   "outputs": [],
   "source": [
    "sse,db,slc = {}, {}, {}\n",
    "for k in range(2, 7):\n",
    "    print(f'----------------{k}--------------------------')\n",
    "    cluster = GaussianMixture(n_components=k, random_state=10).fit(Xs)\n",
    "    clusters = cluster.predict(Xs)\n",
    "    db[k] = davies_bouldin_score(Xs,clusters)\n",
    "    slc[k] = silhouette_score(Xs,clusters)"
   ]
  },
  {
   "cell_type": "code",
   "execution_count": 52,
   "id": "35146b2c-2dd5-40e5-8d0f-6c2b4fd5b385",
   "metadata": {},
   "outputs": [
    {
     "data": {
      "image/png": "[encoded data removed]",
      "text/plain": [
       "<Figure size 1500x1000 with 1 Axes>"
      ]
     },
     "metadata": {},
     "output_type": "display_data"
    }
   ],
   "source": [
    "plt.figure(figsize=(15,10))\n",
    "plt.plot(list(db.keys()), list(db.values()), \"bx-\")\n",
    "plt.xlabel(\"Number of cluster\")\n",
    "plt.ylabel(\"Davies-Bouldin values\")\n",
    "plt.show()"
   ]
  },
  {
   "cell_type": "code",
   "execution_count": 53,
   "id": "c8ca4e17-ef67-4f3e-939b-5977e98845de",
   "metadata": {},
   "outputs": [
    {
     "data": {
      "image/png": "[encoded data removed]",
      "text/plain": [
       "<Figure size 1500x1000 with 1 Axes>"
      ]
     },
     "metadata": {},
     "output_type": "display_data"
    }
   ],
   "source": [
    "plt.figure(figsize=(15,10))\n",
    "plt.plot(list(slc.keys()), list(slc.values()), \"bx-\")\n",
    "plt.xlabel(\"Number of cluster\")\n",
    "plt.ylabel(\"Silhouette score\")\n",
    "plt.show()"
   ]
  },
  {
   "cell_type": "code",
   "execution_count": 74,
   "id": "1baf3a3a-8d68-4c33-ba94-c977db3d42c2",
   "metadata": {},
   "outputs": [],
   "source": [
    "cluster = GaussianMixture(n_components=6, random_state=10)\n",
    "\n",
    "cluster.fit(Xs)\n",
    "\n",
    "aux[\"cl\"] = Xs[\"cl\"] = aux_dum['cl']=[str(x) for x in cluster.predict(Xs)]"
   ]
  },
  {
   "cell_type": "code",
   "execution_count": 50,
   "id": "2460476f-da8f-4c9c-91b9-82a081bb8cd7",
   "metadata": {},
   "outputs": [
    {
     "data": {
      "text/html": [
       "<div>\n",
       "<style scoped>\n",
       "    .dataframe tbody tr th:only-of-type {\n",
       "        vertical-align: middle;\n",
       "    }\n",
       "\n",
       "    .dataframe tbody tr th {\n",
       "        vertical-align: top;\n",
       "    }\n",
       "\n",
       "    .dataframe thead th {\n",
       "        text-align: right;\n",
       "    }\n",
       "</style>\n",
       "<table border=\"1\" class=\"dataframe\">\n",
       "  <thead>\n",
       "    <tr style=\"text-align: right;\">\n",
       "      <th></th>\n",
       "      <th>fsexual</th>\n",
       "      <th>edad</th>\n",
       "      <th>embarazos</th>\n",
       "      <th>entidad</th>\n",
       "      <th>ocupacion</th>\n",
       "      <th>usoAnticon</th>\n",
       "      <th>educacion</th>\n",
       "      <th>estadoCivS</th>\n",
       "      <th>cl</th>\n",
       "      <th>z1</th>\n",
       "      <th>z2</th>\n",
       "      <th>z3</th>\n",
       "    </tr>\n",
       "  </thead>\n",
       "  <tbody>\n",
       "    <tr>\n",
       "      <th>0</th>\n",
       "      <td>45</td>\n",
       "      <td>24</td>\n",
       "      <td>7</td>\n",
       "      <td>OTROS</td>\n",
       "      <td>EMPLEADA</td>\n",
       "      <td>No</td>\n",
       "      <td>Sin acceso</td>\n",
       "      <td>Soltera</td>\n",
       "      <td>0</td>\n",
       "      <td>-1.666363</td>\n",
       "      <td>26.628078</td>\n",
       "      <td>2.677207</td>\n",
       "    </tr>\n",
       "    <tr>\n",
       "      <th>1</th>\n",
       "      <td>15</td>\n",
       "      <td>30</td>\n",
       "      <td>5</td>\n",
       "      <td>CIUDAD DE MEXICO</td>\n",
       "      <td>NO PERCIBE INGRESO</td>\n",
       "      <td>No</td>\n",
       "      <td>Educación Media</td>\n",
       "      <td>Con pareja</td>\n",
       "      <td>5</td>\n",
       "      <td>4.123910</td>\n",
       "      <td>-3.398012</td>\n",
       "      <td>1.798325</td>\n",
       "    </tr>\n",
       "    <tr>\n",
       "      <th>2</th>\n",
       "      <td>45</td>\n",
       "      <td>38</td>\n",
       "      <td>5</td>\n",
       "      <td>CIUDAD DE MEXICO</td>\n",
       "      <td>EMPLEADA</td>\n",
       "      <td>No</td>\n",
       "      <td>Educación Básica</td>\n",
       "      <td>Con pareja</td>\n",
       "      <td>3</td>\n",
       "      <td>12.334820</td>\n",
       "      <td>26.542083</td>\n",
       "      <td>2.998456</td>\n",
       "    </tr>\n",
       "    <tr>\n",
       "      <th>3</th>\n",
       "      <td>16</td>\n",
       "      <td>23</td>\n",
       "      <td>4</td>\n",
       "      <td>CIUDAD DE MEXICO</td>\n",
       "      <td>NO PERCIBE INGRESO</td>\n",
       "      <td>Si</td>\n",
       "      <td>Educación Media</td>\n",
       "      <td>Con pareja</td>\n",
       "      <td>5</td>\n",
       "      <td>-2.867479</td>\n",
       "      <td>-2.340719</td>\n",
       "      <td>1.414361</td>\n",
       "    </tr>\n",
       "    <tr>\n",
       "      <th>4</th>\n",
       "      <td>17</td>\n",
       "      <td>18</td>\n",
       "      <td>4</td>\n",
       "      <td>CIUDAD DE MEXICO</td>\n",
       "      <td>NO PERCIBE INGRESO</td>\n",
       "      <td>Si</td>\n",
       "      <td>Educación Básica</td>\n",
       "      <td>Con pareja</td>\n",
       "      <td>3</td>\n",
       "      <td>-7.861120</td>\n",
       "      <td>-1.308670</td>\n",
       "      <td>2.406722</td>\n",
       "    </tr>\n",
       "  </tbody>\n",
       "</table>\n",
       "</div>"
      ],
      "text/plain": [
       "   fsexual  edad  embarazos           entidad           ocupacion usoAnticon  \\\n",
       "0       45    24          7             OTROS            EMPLEADA         No   \n",
       "1       15    30          5  CIUDAD DE MEXICO  NO PERCIBE INGRESO         No   \n",
       "2       45    38          5  CIUDAD DE MEXICO            EMPLEADA         No   \n",
       "3       16    23          4  CIUDAD DE MEXICO  NO PERCIBE INGRESO         Si   \n",
       "4       17    18          4  CIUDAD DE MEXICO  NO PERCIBE INGRESO         Si   \n",
       "\n",
       "          educacion  estadoCivS cl         z1         z2        z3  \n",
       "0        Sin acceso     Soltera  0  -1.666363  26.628078  2.677207  \n",
       "1   Educación Media  Con pareja  5   4.123910  -3.398012  1.798325  \n",
       "2  Educación Básica  Con pareja  3  12.334820  26.542083  2.998456  \n",
       "3   Educación Media  Con pareja  5  -2.867479  -2.340719  1.414361  \n",
       "4  Educación Básica  Con pareja  3  -7.861120  -1.308670  2.406722  "
      ]
     },
     "execution_count": 50,
     "metadata": {},
     "output_type": "execute_result"
    }
   ],
   "source": [
    "aux.head()"
   ]
  },
  {
   "cell_type": "markdown",
   "id": "f5ca1008-d54a-4838-bef1-ae2519cb800c",
   "metadata": {},
   "source": [
    "### Cluster visualization"
   ]
  },
  {
   "cell_type": "code",
   "execution_count": null,
   "id": "7220dac7-05a0-412a-a8a0-ee5b16bc9295",
   "metadata": {},
   "outputs": [],
   "source": [
    "fig = px.scatter(aux, \n",
    "                 x='z1', y='z2',  \n",
    "                 color='cl',\n",
    "                 #symbol='ocupacion',\n",
    "                 #labels='',\n",
    "                 #text='wav_filename',\n",
    "                 hover_data=['fsexual', 'edad', 'embarazos', 'entidad', 'ocupacion', 'usoAnticon','educacion', 'estadoCivS'],\n",
    "                 template=\"simple_white\"\n",
    "                 #template=\"plotly_dark\",\n",
    "                 )\n",
    "\n",
    "fig.show()"
   ]
  },
  {
   "cell_type": "code",
   "execution_count": null,
   "id": "dd764a1d-668f-4fe7-a1b3-219aeade327a",
   "metadata": {},
   "outputs": [],
   "source": [
    "fig = px.scatter_3d(aux, \n",
    "                 x='z1', y='z2',z= 'z3',  \n",
    "                 color='cl',\n",
    "                 #symbol='ocupacion',\n",
    "                 #labels='',\n",
    "                 #text='wav_filename',\n",
    "                 hover_data=['fsexual', 'edad', 'embarazos', 'entidad', 'ocupacion', 'usoAnticon','educacion', 'estadoCivS'],\n",
    "                 template=\"simple_white\"\n",
    "                 #template=\"plotly_dark\",\n",
    "                 )\n",
    "\n",
    "fig.show()"
   ]
  },
  {
   "cell_type": "markdown",
   "id": "41de3ffa-9656-45c1-a3c8-88b68d12687a",
   "metadata": {},
   "source": [
    "## Cluster"
   ]
  },
  {
   "cell_type": "code",
   "execution_count": 77,
   "id": "15a3dc66-467f-45da-98f1-d174d71fbec6",
   "metadata": {},
   "outputs": [
    {
     "data": {
      "text/plain": [
       "cl\n",
       "0    12.163968\n",
       "1    23.942297\n",
       "2    17.250737\n",
       "3    18.335221\n",
       "4    14.859364\n",
       "5    13.448413\n",
       "Name: fsexual, dtype: float64"
      ]
     },
     "execution_count": 77,
     "metadata": {},
     "output_type": "execute_result"
    }
   ],
   "source": [
    "aux_dum.groupby('cl')['fsexual'].count()/len(Xs)*100"
   ]
  },
  {
   "cell_type": "code",
   "execution_count": null,
   "id": "9a12ba02-4e9a-426c-af8b-d868e25f2ce9",
   "metadata": {},
   "outputs": [],
   "source": [
    "aux_dum.groupby('cl').mean()"
   ]
  },
  {
   "cell_type": "markdown",
   "id": "8fda1a5d-a985-4b99-b539-f877beff5ce9",
   "metadata": {},
   "source": [
    "Cluster 0 -> Estado de mexico, Sin trabajo, No usa condon, Educación basica  \n",
    "Cluster 1 -> Ciudad de Mexico, Sin trabajo, No usa condon, Educación basica  \n",
    "Cluster 2 -> Ciudad de Mexico, No estudia, No usa condon, Educación media, Grupo con mas pareja, Mayor numero embarazos  \n",
    "Cluster 3 -> Area metropolitana, Empleada/estudiante, Menos uso de condon, Superior\n",
    "Cluster 4 -> Estado de mexico, Distribución uniforme empleo, Educación media, \n",
    "Cluster 5 -> Ciudad de Mexico, Estudiante, Educación medica, Mas"
   ]
  },
  {
   "cell_type": "code",
   "execution_count": null,
   "id": "720437e3-f66f-460a-a432-25c6ccc10517",
   "metadata": {},
   "outputs": [],
   "source": []
  }
 ],
 "metadata": {
  "kernelspec": {
   "display_name": "Python 3 (ipykernel)",
   "language": "python",
   "name": "python3"
  },
  "language_info": {
   "codemirror_mode": {
    "name": "ipython",
    "version": 3
   },
   "file_extension": ".py",
   "mimetype": "text/x-python",
   "name": "python",
   "nbconvert_exporter": "python",
   "pygments_lexer": "ipython3",
   "version": "3.8.10"
  }
 },
 "nbformat": 4,
 "nbformat_minor": 5
}
