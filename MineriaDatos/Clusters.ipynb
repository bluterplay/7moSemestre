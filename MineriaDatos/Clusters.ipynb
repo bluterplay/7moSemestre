{
 "cells": [
  {
   "cell_type": "markdown",
   "id": "5cf02165-fc76-420e-9207-f467102f64be",
   "metadata": {},
   "source": [
    "# Modules"
   ]
  },
  {
   "cell_type": "code",
   "execution_count": 1,
   "id": "8e716920-8aa1-4c67-b632-a99d9dc1772e",
   "metadata": {},
   "outputs": [],
   "source": [
    "import pandas as pd\n",
    "import numpy as np\n",
    "\n",
    "from sklearn.decomposition import PCA\n",
    "from sklearn.mixture import GaussianMixture\n",
    "from sklearn.metrics import davies_bouldin_score, silhouette_score\n",
    "from sklearn.preprocessing import MinMaxScaler\n",
    "\n",
    "import plotly.express as px\n",
    "import matplotlib.pyplot as plt"
   ]
  },
  {
   "cell_type": "markdown",
   "id": "77854de7-ce26-4fb4-8aa0-64302053ea0f",
   "metadata": {},
   "source": [
    "## Data"
   ]
  },
  {
   "cell_type": "code",
   "execution_count": 2,
   "id": "7b4ce434-1095-4237-a668-6bbc444e2c15",
   "metadata": {},
   "outputs": [],
   "source": [
    "data= pd.read_excel('DatosFinales.xlsx', sheet_name='Datos')"
   ]
  },
  {
   "cell_type": "code",
   "execution_count": 3,
   "id": "0303b820-26ac-4f1b-8225-889a3c62d63f",
   "metadata": {},
   "outputs": [
    {
     "name": "stderr",
     "output_type": "stream",
     "text": [
      "/tmp/ipykernel_29/2648480520.py:1: DtypeWarning: Columns (13,20,28,29,40,41,42) have mixed types. Specify dtype option on import or set low_memory=False.\n",
      "  age= pd.read_csv(\"Dataset_Aborto.csv\")\n"
     ]
    }
   ],
   "source": [
    "age= pd.read_csv(\"Dataset_Aborto.csv\")"
   ]
  },
  {
   "cell_type": "code",
   "execution_count": 4,
   "id": "c6ac18f5-768d-498e-9913-f10fea9640fa",
   "metadata": {},
   "outputs": [],
   "source": [
    "data[\"edad\"] =age.edad"
   ]
  },
  {
   "cell_type": "code",
   "execution_count": 5,
   "id": "78f6b289-4cb6-400f-87e7-be67df858e4b",
   "metadata": {},
   "outputs": [
    {
     "data": {
      "text/html": [
       "<div>\n",
       "<style scoped>\n",
       "    .dataframe tbody tr th:only-of-type {\n",
       "        vertical-align: middle;\n",
       "    }\n",
       "\n",
       "    .dataframe tbody tr th {\n",
       "        vertical-align: top;\n",
       "    }\n",
       "\n",
       "    .dataframe thead th {\n",
       "        text-align: right;\n",
       "    }\n",
       "</style>\n",
       "<table border=\"1\" class=\"dataframe\">\n",
       "  <thead>\n",
       "    <tr style=\"text-align: right;\">\n",
       "      <th></th>\n",
       "      <th>anticonceptivo</th>\n",
       "      <th>nivel_edu</th>\n",
       "      <th>ocupacion</th>\n",
       "      <th>año</th>\n",
       "      <th>nile</th>\n",
       "      <th>edocivil_descripcion</th>\n",
       "      <th>alc_o_municipio</th>\n",
       "      <th>parentesco</th>\n",
       "      <th>religion</th>\n",
       "      <th>motiles</th>\n",
       "      <th>fsexual</th>\n",
       "      <th>embarazos</th>\n",
       "      <th>entidad</th>\n",
       "      <th>edad_cat</th>\n",
       "      <th>fsexual_cat</th>\n",
       "      <th>x</th>\n",
       "      <th>Segmento</th>\n",
       "      <th>edad</th>\n",
       "    </tr>\n",
       "  </thead>\n",
       "  <tbody>\n",
       "    <tr>\n",
       "      <th>0</th>\n",
       "      <td>NO CONTESTO</td>\n",
       "      <td>SIN ACCESO A LA EDUCACION FORMAL</td>\n",
       "      <td>EMPLEADA</td>\n",
       "      <td>2017</td>\n",
       "      <td>0</td>\n",
       "      <td>VIUDA</td>\n",
       "      <td>EL PAREDÓN</td>\n",
       "      <td>PAREJA</td>\n",
       "      <td>CATOLICA</td>\n",
       "      <td>INTERRUPCION VOLUNTARIA</td>\n",
       "      <td>45</td>\n",
       "      <td>7</td>\n",
       "      <td>OTROS</td>\n",
       "      <td>17-25</td>\n",
       "      <td>&gt;35</td>\n",
       "      <td>15.0</td>\n",
       "      <td>NaN</td>\n",
       "      <td>24</td>\n",
       "    </tr>\n",
       "    <tr>\n",
       "      <th>1</th>\n",
       "      <td>NINGUNO</td>\n",
       "      <td>PREPARATORIA</td>\n",
       "      <td>NO PERCIBE INGRESO</td>\n",
       "      <td>2017</td>\n",
       "      <td>0</td>\n",
       "      <td>UNION LIBRE</td>\n",
       "      <td>IZTAPALAPA</td>\n",
       "      <td>PAREJA</td>\n",
       "      <td>CATOLICA</td>\n",
       "      <td>INTERRUPCION VOLUNTARIA</td>\n",
       "      <td>15</td>\n",
       "      <td>5</td>\n",
       "      <td>CIUDAD DE MEXICO</td>\n",
       "      <td>30-35</td>\n",
       "      <td>&lt;17</td>\n",
       "      <td>28.0</td>\n",
       "      <td>NaN</td>\n",
       "      <td>30</td>\n",
       "    </tr>\n",
       "    <tr>\n",
       "      <th>2</th>\n",
       "      <td>NINGUNO</td>\n",
       "      <td>SECUNDARIA</td>\n",
       "      <td>EMPLEADA</td>\n",
       "      <td>2017</td>\n",
       "      <td>0</td>\n",
       "      <td>UNION LIBRE</td>\n",
       "      <td>MILPA ALTA</td>\n",
       "      <td>PAREJA</td>\n",
       "      <td>CATOLICA</td>\n",
       "      <td>INTERRUPCION VOLUNTARIA</td>\n",
       "      <td>45</td>\n",
       "      <td>5</td>\n",
       "      <td>CIUDAD DE MEXICO</td>\n",
       "      <td>&gt;35</td>\n",
       "      <td>&gt;35</td>\n",
       "      <td>16.0</td>\n",
       "      <td>NaN</td>\n",
       "      <td>38</td>\n",
       "    </tr>\n",
       "    <tr>\n",
       "      <th>3</th>\n",
       "      <td>LARGA DURACION</td>\n",
       "      <td>PREPARATORIA</td>\n",
       "      <td>NO PERCIBE INGRESO</td>\n",
       "      <td>2018</td>\n",
       "      <td>0</td>\n",
       "      <td>CASADA</td>\n",
       "      <td>GUSTAVO A. MADERO</td>\n",
       "      <td>No contesto</td>\n",
       "      <td>CATOLICA</td>\n",
       "      <td>INTERRUPCION VOLUNTARIA</td>\n",
       "      <td>16</td>\n",
       "      <td>4</td>\n",
       "      <td>CIUDAD DE MEXICO</td>\n",
       "      <td>17-25</td>\n",
       "      <td>&lt;17</td>\n",
       "      <td>19.0</td>\n",
       "      <td>Jóvenes con preparatoria</td>\n",
       "      <td>23</td>\n",
       "    </tr>\n",
       "    <tr>\n",
       "      <th>4</th>\n",
       "      <td>CONDON</td>\n",
       "      <td>SECUNDARIA</td>\n",
       "      <td>NO PERCIBE INGRESO</td>\n",
       "      <td>2016</td>\n",
       "      <td>0</td>\n",
       "      <td>UNION LIBRE</td>\n",
       "      <td>IZTAPALAPA</td>\n",
       "      <td>FAMILIAR MUJER</td>\n",
       "      <td>CATOLICA</td>\n",
       "      <td>INTERRUPCION VOLUNTARIA</td>\n",
       "      <td>17</td>\n",
       "      <td>4</td>\n",
       "      <td>CIUDAD DE MEXICO</td>\n",
       "      <td>17-25</td>\n",
       "      <td>17-25</td>\n",
       "      <td>16.0</td>\n",
       "      <td>NaN</td>\n",
       "      <td>18</td>\n",
       "    </tr>\n",
       "  </tbody>\n",
       "</table>\n",
       "</div>"
      ],
      "text/plain": [
       "   anticonceptivo                         nivel_edu           ocupacion   año  \\\n",
       "0     NO CONTESTO  SIN ACCESO A LA EDUCACION FORMAL            EMPLEADA  2017   \n",
       "1         NINGUNO                      PREPARATORIA  NO PERCIBE INGRESO  2017   \n",
       "2         NINGUNO                        SECUNDARIA            EMPLEADA  2017   \n",
       "3  LARGA DURACION                      PREPARATORIA  NO PERCIBE INGRESO  2018   \n",
       "4          CONDON                        SECUNDARIA  NO PERCIBE INGRESO  2016   \n",
       "\n",
       "   nile edocivil_descripcion    alc_o_municipio      parentesco  religion  \\\n",
       "0     0                VIUDA         EL PAREDÓN          PAREJA  CATOLICA   \n",
       "1     0          UNION LIBRE         IZTAPALAPA          PAREJA  CATOLICA   \n",
       "2     0          UNION LIBRE         MILPA ALTA          PAREJA  CATOLICA   \n",
       "3     0               CASADA  GUSTAVO A. MADERO     No contesto  CATOLICA   \n",
       "4     0          UNION LIBRE         IZTAPALAPA  FAMILIAR MUJER  CATOLICA   \n",
       "\n",
       "                   motiles  fsexual  embarazos           entidad edad_cat  \\\n",
       "0  INTERRUPCION VOLUNTARIA       45          7             OTROS    17-25   \n",
       "1  INTERRUPCION VOLUNTARIA       15          5  CIUDAD DE MEXICO    30-35   \n",
       "2  INTERRUPCION VOLUNTARIA       45          5  CIUDAD DE MEXICO      >35   \n",
       "3  INTERRUPCION VOLUNTARIA       16          4  CIUDAD DE MEXICO    17-25   \n",
       "4  INTERRUPCION VOLUNTARIA       17          4  CIUDAD DE MEXICO    17-25   \n",
       "\n",
       "  fsexual_cat     x                  Segmento  edad  \n",
       "0         >35  15.0                       NaN    24  \n",
       "1         <17  28.0                       NaN    30  \n",
       "2         >35  16.0                       NaN    38  \n",
       "3         <17  19.0  Jóvenes con preparatoria    23  \n",
       "4       17-25  16.0                       NaN    18  "
      ]
     },
     "execution_count": 5,
     "metadata": {},
     "output_type": "execute_result"
    }
   ],
   "source": [
    "data.head()"
   ]
  },
  {
   "cell_type": "markdown",
   "id": "ebfb3bad-83e8-498e-8c59-26325c1cd823",
   "metadata": {},
   "source": [
    "# Preprocessing"
   ]
  },
  {
   "cell_type": "markdown",
   "id": "234f87ff-b329-4aec-8e3d-2e6887b7921e",
   "metadata": {},
   "source": [
    "## Manange of Null values"
   ]
  },
  {
   "cell_type": "code",
   "execution_count": 6,
   "id": "cce4a7ba-f568-4514-a389-6f4b45086330",
   "metadata": {},
   "outputs": [
    {
     "data": {
      "text/plain": [
       "anticonceptivo          0.000000\n",
       "nivel_edu               0.000000\n",
       "ocupacion               0.000000\n",
       "año                     0.000000\n",
       "nile                    0.000000\n",
       "edocivil_descripcion    0.000000\n",
       "alc_o_municipio         0.000000\n",
       "parentesco              0.000000\n",
       "religion                0.000000\n",
       "motiles                 0.000000\n",
       "fsexual                 0.000000\n",
       "embarazos               0.000000\n",
       "entidad                 0.000000\n",
       "edad_cat                0.000000\n",
       "fsexual_cat             0.000000\n",
       "x                       0.998204\n",
       "Segmento                0.792387\n",
       "edad                    0.000000\n",
       "dtype: float64"
      ]
     },
     "execution_count": 6,
     "metadata": {},
     "output_type": "execute_result"
    }
   ],
   "source": [
    "data.isnull().mean()"
   ]
  },
  {
   "cell_type": "markdown",
   "id": "353beb04-35d2-45cd-9688-aa9b26f7fbe3",
   "metadata": {},
   "source": [
    "### Selection of categories"
   ]
  },
  {
   "cell_type": "code",
   "execution_count": 7,
   "id": "ff09fa5c-35ef-401b-8501-29710ed65726",
   "metadata": {},
   "outputs": [],
   "source": [
    "ls_cat= ['anticonceptivo', 'nivel_edu', 'ocupacion','edocivil_descripcion','entidad']\n",
    "ls_cont= ['fsexual','edad','embarazos']"
   ]
  },
  {
   "cell_type": "code",
   "execution_count": 8,
   "id": "21f2b2dd-90cc-4af9-86c7-336e5631ebc9",
   "metadata": {},
   "outputs": [],
   "source": [
    "df= data[ls_cat+ls_cont].copy()"
   ]
  },
  {
   "cell_type": "markdown",
   "id": "eb8e569e-2f01-4c20-b26c-8f36a9c405f0",
   "metadata": {},
   "source": [
    "## Group categorical values"
   ]
  },
  {
   "cell_type": "code",
   "execution_count": 9,
   "id": "d68601b5-dffa-47b4-8b37-9226bf6448d7",
   "metadata": {},
   "outputs": [
    {
     "name": "stdout",
     "output_type": "stream",
     "text": [
      "-------------anticonceptivo--------------------\n",
      "NINGUNO                   49482\n",
      "CONDON                    21560\n",
      "NO CONTESTO               17663\n",
      "LARGA DURACION             3715\n",
      "HORMONAL                   3653\n",
      "PASTILLA DE EMERGENCIA     1833\n",
      "Combinado                   113\n",
      "Name: anticonceptivo, dtype: int64\n",
      "-------------nivel_edu--------------------\n",
      "PREPARATORIA                        44656\n",
      "SECUNDARIA                          28965\n",
      "EDUCACIÓN SUPERIOR                  17972\n",
      "PRIMARIA                             4364\n",
      "NO CONTESTO                          1228\n",
      "SIN ACCESO A LA EDUCACION FORMAL      834\n",
      "Name: nivel_edu, dtype: int64\n",
      "-------------ocupacion--------------------\n",
      "NO PERCIBE INGRESO    40623\n",
      "EMPLEADA              33621\n",
      "ESTUDIANTE            23775\n",
      "Name: ocupacion, dtype: int64\n",
      "-------------edocivil_descripcion--------------------\n",
      "SOLTERA        54339\n",
      "UNION LIBRE    28522\n",
      "CASADA          9656\n",
      "DIVORCIADA      2243\n",
      "SEPARADA        1773\n",
      "NO CONTESTO     1211\n",
      "VIUDA            275\n",
      "Name: edocivil_descripcion, dtype: int64\n",
      "-------------entidad--------------------\n",
      "CIUDAD DE MEXICO    62406\n",
      "ESTADO DE MEXICO    31032\n",
      "OTROS                4581\n",
      "Name: entidad, dtype: int64\n"
     ]
    }
   ],
   "source": [
    "for feature in ls_cat:\n",
    "    print(f'-------------{feature}--------------------')\n",
    "    print(df[feature].value_counts())"
   ]
  },
  {
   "cell_type": "markdown",
   "id": "627c156b-31a5-41c9-a7c1-c7527e411a2f",
   "metadata": {},
   "source": [
    "### Anticonceptivo"
   ]
  },
  {
   "cell_type": "code",
   "execution_count": 10,
   "id": "f1ed1409-c1a9-480b-bcc1-2843785cb662",
   "metadata": {},
   "outputs": [],
   "source": [
    "df['usoAnticon']= df['anticonceptivo'].apply(lambda x: 'No' if x in ['NINGUNO', 'NO CONTESTO'] else 'Si')"
   ]
  },
  {
   "cell_type": "markdown",
   "id": "d0253a8b-d9fc-4be8-90a7-64a5bcdc0faa",
   "metadata": {},
   "source": [
    "### Nivel educativo"
   ]
  },
  {
   "cell_type": "code",
   "execution_count": 11,
   "id": "2abbdafd-2867-40a9-9451-508dd848c3c1",
   "metadata": {},
   "outputs": [],
   "source": [
    "dc_edu= {'PREPARATORIA': 'Educación Media', 'SECUNDARIA': 'Educación Básica',\n",
    "         'PRIMARIA': 'Educación Básica', 'NO CONTESTO': 'Educación Básica',\n",
    "         'EDUCACIÓN SUPERIOR': 'Educación superior',\n",
    "          'SIN ACCESO A LA EDUCACION FORMAL': 'Sin acceso'}"
   ]
  },
  {
   "cell_type": "code",
   "execution_count": 12,
   "id": "e2edf9ab-81d9-4dc4-83d1-41cebe2642d6",
   "metadata": {},
   "outputs": [],
   "source": [
    "df['educacion']= df['nivel_edu'].apply(lambda x: dc_edu[x])"
   ]
  },
  {
   "cell_type": "markdown",
   "id": "0edfdaa1-5db2-43d9-be5b-61ad9ae09c80",
   "metadata": {},
   "source": [
    "### Estado civil"
   ]
  },
  {
   "cell_type": "code",
   "execution_count": 13,
   "id": "e82d4f32-c27d-403f-9f7c-bf5d53cd4d91",
   "metadata": {},
   "outputs": [],
   "source": [
    "df['estadoCivS']= df['edocivil_descripcion'].apply(lambda x: 'Con pareja' if x in ['CASADA','UNION LIBRE'] else 'Soltera')"
   ]
  },
  {
   "cell_type": "code",
   "execution_count": 14,
   "id": "e2d80791-06db-403c-9d90-ec3caf192c20",
   "metadata": {},
   "outputs": [
    {
     "data": {
      "text/html": [
       "<div>\n",
       "<style scoped>\n",
       "    .dataframe tbody tr th:only-of-type {\n",
       "        vertical-align: middle;\n",
       "    }\n",
       "\n",
       "    .dataframe tbody tr th {\n",
       "        vertical-align: top;\n",
       "    }\n",
       "\n",
       "    .dataframe thead th {\n",
       "        text-align: right;\n",
       "    }\n",
       "</style>\n",
       "<table border=\"1\" class=\"dataframe\">\n",
       "  <thead>\n",
       "    <tr style=\"text-align: right;\">\n",
       "      <th></th>\n",
       "      <th>anticonceptivo</th>\n",
       "      <th>nivel_edu</th>\n",
       "      <th>ocupacion</th>\n",
       "      <th>edocivil_descripcion</th>\n",
       "      <th>entidad</th>\n",
       "      <th>fsexual</th>\n",
       "      <th>edad</th>\n",
       "      <th>embarazos</th>\n",
       "      <th>usoAnticon</th>\n",
       "      <th>educacion</th>\n",
       "      <th>estadoCivS</th>\n",
       "    </tr>\n",
       "  </thead>\n",
       "  <tbody>\n",
       "    <tr>\n",
       "      <th>0</th>\n",
       "      <td>NO CONTESTO</td>\n",
       "      <td>SIN ACCESO A LA EDUCACION FORMAL</td>\n",
       "      <td>EMPLEADA</td>\n",
       "      <td>VIUDA</td>\n",
       "      <td>OTROS</td>\n",
       "      <td>45</td>\n",
       "      <td>24</td>\n",
       "      <td>7</td>\n",
       "      <td>No</td>\n",
       "      <td>Sin acceso</td>\n",
       "      <td>Soltera</td>\n",
       "    </tr>\n",
       "    <tr>\n",
       "      <th>1</th>\n",
       "      <td>NINGUNO</td>\n",
       "      <td>PREPARATORIA</td>\n",
       "      <td>NO PERCIBE INGRESO</td>\n",
       "      <td>UNION LIBRE</td>\n",
       "      <td>CIUDAD DE MEXICO</td>\n",
       "      <td>15</td>\n",
       "      <td>30</td>\n",
       "      <td>5</td>\n",
       "      <td>No</td>\n",
       "      <td>Educación Media</td>\n",
       "      <td>Con pareja</td>\n",
       "    </tr>\n",
       "    <tr>\n",
       "      <th>2</th>\n",
       "      <td>NINGUNO</td>\n",
       "      <td>SECUNDARIA</td>\n",
       "      <td>EMPLEADA</td>\n",
       "      <td>UNION LIBRE</td>\n",
       "      <td>CIUDAD DE MEXICO</td>\n",
       "      <td>45</td>\n",
       "      <td>38</td>\n",
       "      <td>5</td>\n",
       "      <td>No</td>\n",
       "      <td>Educación Básica</td>\n",
       "      <td>Con pareja</td>\n",
       "    </tr>\n",
       "    <tr>\n",
       "      <th>3</th>\n",
       "      <td>LARGA DURACION</td>\n",
       "      <td>PREPARATORIA</td>\n",
       "      <td>NO PERCIBE INGRESO</td>\n",
       "      <td>CASADA</td>\n",
       "      <td>CIUDAD DE MEXICO</td>\n",
       "      <td>16</td>\n",
       "      <td>23</td>\n",
       "      <td>4</td>\n",
       "      <td>Si</td>\n",
       "      <td>Educación Media</td>\n",
       "      <td>Con pareja</td>\n",
       "    </tr>\n",
       "    <tr>\n",
       "      <th>4</th>\n",
       "      <td>CONDON</td>\n",
       "      <td>SECUNDARIA</td>\n",
       "      <td>NO PERCIBE INGRESO</td>\n",
       "      <td>UNION LIBRE</td>\n",
       "      <td>CIUDAD DE MEXICO</td>\n",
       "      <td>17</td>\n",
       "      <td>18</td>\n",
       "      <td>4</td>\n",
       "      <td>Si</td>\n",
       "      <td>Educación Básica</td>\n",
       "      <td>Con pareja</td>\n",
       "    </tr>\n",
       "  </tbody>\n",
       "</table>\n",
       "</div>"
      ],
      "text/plain": [
       "   anticonceptivo                         nivel_edu           ocupacion  \\\n",
       "0     NO CONTESTO  SIN ACCESO A LA EDUCACION FORMAL            EMPLEADA   \n",
       "1         NINGUNO                      PREPARATORIA  NO PERCIBE INGRESO   \n",
       "2         NINGUNO                        SECUNDARIA            EMPLEADA   \n",
       "3  LARGA DURACION                      PREPARATORIA  NO PERCIBE INGRESO   \n",
       "4          CONDON                        SECUNDARIA  NO PERCIBE INGRESO   \n",
       "\n",
       "  edocivil_descripcion           entidad  fsexual  edad  embarazos usoAnticon  \\\n",
       "0                VIUDA             OTROS       45    24          7         No   \n",
       "1          UNION LIBRE  CIUDAD DE MEXICO       15    30          5         No   \n",
       "2          UNION LIBRE  CIUDAD DE MEXICO       45    38          5         No   \n",
       "3               CASADA  CIUDAD DE MEXICO       16    23          4         Si   \n",
       "4          UNION LIBRE  CIUDAD DE MEXICO       17    18          4         Si   \n",
       "\n",
       "          educacion  estadoCivS  \n",
       "0        Sin acceso     Soltera  \n",
       "1   Educación Media  Con pareja  \n",
       "2  Educación Básica  Con pareja  \n",
       "3   Educación Media  Con pareja  \n",
       "4  Educación Básica  Con pareja  "
      ]
     },
     "execution_count": 14,
     "metadata": {},
     "output_type": "execute_result"
    }
   ],
   "source": [
    "df.head()"
   ]
  },
  {
   "cell_type": "markdown",
   "id": "a4c256be-8973-48d6-ac9d-9547dbb5e2fb",
   "metadata": {},
   "source": [
    "## Dummies"
   ]
  },
  {
   "cell_type": "code",
   "execution_count": 15,
   "id": "546dcd39-4d9d-4a11-accb-0bb7c520c41b",
   "metadata": {},
   "outputs": [],
   "source": [
    "aux= df[['fsexual', 'edad', 'embarazos','entidad',\n",
    "         'ocupacion', 'usoAnticon', 'educacion','estadoCivS']].copy()"
   ]
  },
  {
   "cell_type": "code",
   "execution_count": 16,
   "id": "5ed2ddf9-a7a3-4a9c-91d1-74fff69b4e9a",
   "metadata": {},
   "outputs": [],
   "source": [
    "aux_dum=pd.get_dummies(aux)"
   ]
  },
  {
   "cell_type": "markdown",
   "id": "e2a832cd-e49c-414f-a296-230398bb0b14",
   "metadata": {},
   "source": [
    "### Remove collinearity"
   ]
  },
  {
   "cell_type": "code",
   "execution_count": 17,
   "id": "cd02e8e1-92eb-40b2-99cd-048588a1086f",
   "metadata": {},
   "outputs": [],
   "source": [
    "ls_drop_dum= ['entidad_OTROS','ocupacion_NO PERCIBE INGRESO','usoAnticon_No', 'educacion_Sin acceso','estadoCivS_Soltera']"
   ]
  },
  {
   "cell_type": "code",
   "execution_count": 18,
   "id": "d4452a84-9fd3-4b7c-9b74-145791d13e1a",
   "metadata": {},
   "outputs": [],
   "source": [
    "aux_dum=aux_dum.drop(ls_drop_dum,axis=1)"
   ]
  },
  {
   "cell_type": "code",
   "execution_count": 19,
   "id": "daf5def0-0d77-484d-a889-5668c569e7d9",
   "metadata": {},
   "outputs": [
    {
     "data": {
      "text/html": [
       "<div>\n",
       "<style scoped>\n",
       "    .dataframe tbody tr th:only-of-type {\n",
       "        vertical-align: middle;\n",
       "    }\n",
       "\n",
       "    .dataframe tbody tr th {\n",
       "        vertical-align: top;\n",
       "    }\n",
       "\n",
       "    .dataframe thead th {\n",
       "        text-align: right;\n",
       "    }\n",
       "</style>\n",
       "<table border=\"1\" class=\"dataframe\">\n",
       "  <thead>\n",
       "    <tr style=\"text-align: right;\">\n",
       "      <th></th>\n",
       "      <th>fsexual</th>\n",
       "      <th>edad</th>\n",
       "      <th>embarazos</th>\n",
       "      <th>entidad_CIUDAD DE MEXICO</th>\n",
       "      <th>entidad_ESTADO DE MEXICO</th>\n",
       "      <th>ocupacion_EMPLEADA</th>\n",
       "      <th>ocupacion_ESTUDIANTE</th>\n",
       "      <th>usoAnticon_Si</th>\n",
       "      <th>educacion_Educación Básica</th>\n",
       "      <th>educacion_Educación Media</th>\n",
       "      <th>educacion_Educación superior</th>\n",
       "      <th>estadoCivS_Con pareja</th>\n",
       "    </tr>\n",
       "  </thead>\n",
       "  <tbody>\n",
       "    <tr>\n",
       "      <th>98014</th>\n",
       "      <td>18</td>\n",
       "      <td>21</td>\n",
       "      <td>0</td>\n",
       "      <td>0</td>\n",
       "      <td>0</td>\n",
       "      <td>1</td>\n",
       "      <td>0</td>\n",
       "      <td>0</td>\n",
       "      <td>0</td>\n",
       "      <td>0</td>\n",
       "      <td>1</td>\n",
       "      <td>0</td>\n",
       "    </tr>\n",
       "    <tr>\n",
       "      <th>98015</th>\n",
       "      <td>19</td>\n",
       "      <td>32</td>\n",
       "      <td>0</td>\n",
       "      <td>0</td>\n",
       "      <td>0</td>\n",
       "      <td>1</td>\n",
       "      <td>0</td>\n",
       "      <td>0</td>\n",
       "      <td>0</td>\n",
       "      <td>0</td>\n",
       "      <td>1</td>\n",
       "      <td>1</td>\n",
       "    </tr>\n",
       "    <tr>\n",
       "      <th>98016</th>\n",
       "      <td>45</td>\n",
       "      <td>29</td>\n",
       "      <td>0</td>\n",
       "      <td>0</td>\n",
       "      <td>0</td>\n",
       "      <td>0</td>\n",
       "      <td>0</td>\n",
       "      <td>0</td>\n",
       "      <td>1</td>\n",
       "      <td>0</td>\n",
       "      <td>0</td>\n",
       "      <td>0</td>\n",
       "    </tr>\n",
       "    <tr>\n",
       "      <th>98017</th>\n",
       "      <td>17</td>\n",
       "      <td>24</td>\n",
       "      <td>0</td>\n",
       "      <td>0</td>\n",
       "      <td>0</td>\n",
       "      <td>0</td>\n",
       "      <td>1</td>\n",
       "      <td>0</td>\n",
       "      <td>0</td>\n",
       "      <td>1</td>\n",
       "      <td>0</td>\n",
       "      <td>0</td>\n",
       "    </tr>\n",
       "    <tr>\n",
       "      <th>98018</th>\n",
       "      <td>16</td>\n",
       "      <td>23</td>\n",
       "      <td>0</td>\n",
       "      <td>0</td>\n",
       "      <td>0</td>\n",
       "      <td>0</td>\n",
       "      <td>0</td>\n",
       "      <td>0</td>\n",
       "      <td>0</td>\n",
       "      <td>0</td>\n",
       "      <td>1</td>\n",
       "      <td>0</td>\n",
       "    </tr>\n",
       "  </tbody>\n",
       "</table>\n",
       "</div>"
      ],
      "text/plain": [
       "       fsexual  edad  embarazos  entidad_CIUDAD DE MEXICO  \\\n",
       "98014       18    21          0                         0   \n",
       "98015       19    32          0                         0   \n",
       "98016       45    29          0                         0   \n",
       "98017       17    24          0                         0   \n",
       "98018       16    23          0                         0   \n",
       "\n",
       "       entidad_ESTADO DE MEXICO  ocupacion_EMPLEADA  ocupacion_ESTUDIANTE  \\\n",
       "98014                         0                   1                     0   \n",
       "98015                         0                   1                     0   \n",
       "98016                         0                   0                     0   \n",
       "98017                         0                   0                     1   \n",
       "98018                         0                   0                     0   \n",
       "\n",
       "       usoAnticon_Si  educacion_Educación Básica  educacion_Educación Media  \\\n",
       "98014              0                           0                          0   \n",
       "98015              0                           0                          0   \n",
       "98016              0                           1                          0   \n",
       "98017              0                           0                          1   \n",
       "98018              0                           0                          0   \n",
       "\n",
       "       educacion_Educación superior  estadoCivS_Con pareja  \n",
       "98014                             1                      0  \n",
       "98015                             1                      1  \n",
       "98016                             0                      0  \n",
       "98017                             0                      0  \n",
       "98018                             1                      0  "
      ]
     },
     "execution_count": 19,
     "metadata": {},
     "output_type": "execute_result"
    }
   ],
   "source": [
    "aux_dum.tail()"
   ]
  },
  {
   "cell_type": "markdown",
   "id": "6f637de6-a792-4c7d-8355-f9ac2a12cda1",
   "metadata": {},
   "source": [
    "## Frequency encoder"
   ]
  },
  {
   "cell_type": "code",
   "execution_count": 28,
   "id": "9c3077a0-a8a0-452b-9d74-e567281481bd",
   "metadata": {},
   "outputs": [
    {
     "data": {
      "text/html": [
       "<div>\n",
       "<style scoped>\n",
       "    .dataframe tbody tr th:only-of-type {\n",
       "        vertical-align: middle;\n",
       "    }\n",
       "\n",
       "    .dataframe tbody tr th {\n",
       "        vertical-align: top;\n",
       "    }\n",
       "\n",
       "    .dataframe thead th {\n",
       "        text-align: right;\n",
       "    }\n",
       "</style>\n",
       "<table border=\"1\" class=\"dataframe\">\n",
       "  <thead>\n",
       "    <tr style=\"text-align: right;\">\n",
       "      <th></th>\n",
       "      <th>fsexual</th>\n",
       "      <th>edad</th>\n",
       "      <th>embarazos</th>\n",
       "      <th>freq_entidad</th>\n",
       "      <th>freq_ocupacion</th>\n",
       "      <th>freq_usoAnticon</th>\n",
       "      <th>freq_educacion</th>\n",
       "      <th>freq_estadoCivS</th>\n",
       "    </tr>\n",
       "  </thead>\n",
       "  <tbody>\n",
       "    <tr>\n",
       "      <th>0</th>\n",
       "      <td>45</td>\n",
       "      <td>24</td>\n",
       "      <td>7</td>\n",
       "      <td>0.046736</td>\n",
       "      <td>0.343005</td>\n",
       "      <td>0.68502</td>\n",
       "      <td>0.008509</td>\n",
       "      <td>0.610504</td>\n",
       "    </tr>\n",
       "    <tr>\n",
       "      <th>1</th>\n",
       "      <td>15</td>\n",
       "      <td>30</td>\n",
       "      <td>5</td>\n",
       "      <td>0.636672</td>\n",
       "      <td>0.414440</td>\n",
       "      <td>0.68502</td>\n",
       "      <td>0.455585</td>\n",
       "      <td>0.389496</td>\n",
       "    </tr>\n",
       "    <tr>\n",
       "      <th>2</th>\n",
       "      <td>45</td>\n",
       "      <td>38</td>\n",
       "      <td>5</td>\n",
       "      <td>0.636672</td>\n",
       "      <td>0.343005</td>\n",
       "      <td>0.68502</td>\n",
       "      <td>0.352554</td>\n",
       "      <td>0.389496</td>\n",
       "    </tr>\n",
       "    <tr>\n",
       "      <th>3</th>\n",
       "      <td>16</td>\n",
       "      <td>23</td>\n",
       "      <td>4</td>\n",
       "      <td>0.636672</td>\n",
       "      <td>0.414440</td>\n",
       "      <td>0.31498</td>\n",
       "      <td>0.455585</td>\n",
       "      <td>0.389496</td>\n",
       "    </tr>\n",
       "    <tr>\n",
       "      <th>4</th>\n",
       "      <td>17</td>\n",
       "      <td>18</td>\n",
       "      <td>4</td>\n",
       "      <td>0.636672</td>\n",
       "      <td>0.414440</td>\n",
       "      <td>0.31498</td>\n",
       "      <td>0.352554</td>\n",
       "      <td>0.389496</td>\n",
       "    </tr>\n",
       "  </tbody>\n",
       "</table>\n",
       "</div>"
      ],
      "text/plain": [
       "   fsexual  edad  embarazos  freq_entidad  freq_ocupacion  freq_usoAnticon  \\\n",
       "0       45    24          7      0.046736        0.343005          0.68502   \n",
       "1       15    30          5      0.636672        0.414440          0.68502   \n",
       "2       45    38          5      0.636672        0.343005          0.68502   \n",
       "3       16    23          4      0.636672        0.414440          0.31498   \n",
       "4       17    18          4      0.636672        0.414440          0.31498   \n",
       "\n",
       "   freq_educacion  freq_estadoCivS  \n",
       "0        0.008509         0.610504  \n",
       "1        0.455585         0.389496  \n",
       "2        0.352554         0.389496  \n",
       "3        0.455585         0.389496  \n",
       "4        0.352554         0.389496  "
      ]
     },
     "execution_count": 28,
     "metadata": {},
     "output_type": "execute_result"
    }
   ],
   "source": [
    "aux_freq = pd.DataFrame()\n",
    "aux_freq[ls_cont] = aux[ls_cont]\n",
    "for feature in aux.columns:\n",
    "    if feature not in ls_cont:\n",
    "        enc_nom = (aux.groupby(feature).size()) / len(aux)\n",
    "        s= \"freq_\" + feature\n",
    "        aux_freq[s] = aux[feature].apply(lambda x : enc_nom[x])\n",
    "        \n",
    "aux_freq.head()"
   ]
  },
  {
   "cell_type": "markdown",
   "id": "b9f0aa30-e967-44ce-b3d2-2af7ad2035c8",
   "metadata": {
    "tags": []
   },
   "source": [
    "# PCA Dummies"
   ]
  },
  {
   "cell_type": "code",
   "execution_count": 49,
   "id": "18a98963-5b8c-4bd9-826e-29a5f722065d",
   "metadata": {},
   "outputs": [
    {
     "data": {
      "text/html": [
       "<style>#sk-container-id-2 {color: black;background-color: white;}#sk-container-id-2 pre{padding: 0;}#sk-container-id-2 div.sk-toggleable {background-color: white;}#sk-container-id-2 label.sk-toggleable__label {cursor: pointer;display: block;width: 100%;margin-bottom: 0;padding: 0.3em;box-sizing: border-box;text-align: center;}#sk-container-id-2 label.sk-toggleable__label-arrow:before {content: \"▸\";float: left;margin-right: 0.25em;color: #696969;}#sk-container-id-2 label.sk-toggleable__label-arrow:hover:before {color: black;}#sk-container-id-2 div.sk-estimator:hover label.sk-toggleable__label-arrow:before {color: black;}#sk-container-id-2 div.sk-toggleable__content {max-height: 0;max-width: 0;overflow: hidden;text-align: left;background-color: #f0f8ff;}#sk-container-id-2 div.sk-toggleable__content pre {margin: 0.2em;color: black;border-radius: 0.25em;background-color: #f0f8ff;}#sk-container-id-2 input.sk-toggleable__control:checked~div.sk-toggleable__content {max-height: 200px;max-width: 100%;overflow: auto;}#sk-container-id-2 input.sk-toggleable__control:checked~label.sk-toggleable__label-arrow:before {content: \"▾\";}#sk-container-id-2 div.sk-estimator input.sk-toggleable__control:checked~label.sk-toggleable__label {background-color: #d4ebff;}#sk-container-id-2 div.sk-label input.sk-toggleable__control:checked~label.sk-toggleable__label {background-color: #d4ebff;}#sk-container-id-2 input.sk-hidden--visually {border: 0;clip: rect(1px 1px 1px 1px);clip: rect(1px, 1px, 1px, 1px);height: 1px;margin: -1px;overflow: hidden;padding: 0;position: absolute;width: 1px;}#sk-container-id-2 div.sk-estimator {font-family: monospace;background-color: #f0f8ff;border: 1px dotted black;border-radius: 0.25em;box-sizing: border-box;margin-bottom: 0.5em;}#sk-container-id-2 div.sk-estimator:hover {background-color: #d4ebff;}#sk-container-id-2 div.sk-parallel-item::after {content: \"\";width: 100%;border-bottom: 1px solid gray;flex-grow: 1;}#sk-container-id-2 div.sk-label:hover label.sk-toggleable__label {background-color: #d4ebff;}#sk-container-id-2 div.sk-serial::before {content: \"\";position: absolute;border-left: 1px solid gray;box-sizing: border-box;top: 0;bottom: 0;left: 50%;z-index: 0;}#sk-container-id-2 div.sk-serial {display: flex;flex-direction: column;align-items: center;background-color: white;padding-right: 0.2em;padding-left: 0.2em;position: relative;}#sk-container-id-2 div.sk-item {position: relative;z-index: 1;}#sk-container-id-2 div.sk-parallel {display: flex;align-items: stretch;justify-content: center;background-color: white;position: relative;}#sk-container-id-2 div.sk-item::before, #sk-container-id-2 div.sk-parallel-item::before {content: \"\";position: absolute;border-left: 1px solid gray;box-sizing: border-box;top: 0;bottom: 0;left: 50%;z-index: -1;}#sk-container-id-2 div.sk-parallel-item {display: flex;flex-direction: column;z-index: 1;position: relative;background-color: white;}#sk-container-id-2 div.sk-parallel-item:first-child::after {align-self: flex-end;width: 50%;}#sk-container-id-2 div.sk-parallel-item:last-child::after {align-self: flex-start;width: 50%;}#sk-container-id-2 div.sk-parallel-item:only-child::after {width: 0;}#sk-container-id-2 div.sk-dashed-wrapped {border: 1px dashed gray;margin: 0 0.4em 0.5em 0.4em;box-sizing: border-box;padding-bottom: 0.4em;background-color: white;}#sk-container-id-2 div.sk-label label {font-family: monospace;font-weight: bold;display: inline-block;line-height: 1.2em;}#sk-container-id-2 div.sk-label-container {text-align: center;}#sk-container-id-2 div.sk-container {/* jupyter's `normalize.less` sets `[hidden] { display: none; }` but bootstrap.min.css set `[hidden] { display: none !important; }` so we also need the `!important` here to be able to override the default hidden behavior on the sphinx rendered scikit-learn.org. See: https://github.com/scikit-learn/scikit-learn/issues/21755 */display: inline-block !important;position: relative;}#sk-container-id-2 div.sk-text-repr-fallback {display: none;}</style><div id=\"sk-container-id-2\" class=\"sk-top-container\"><div class=\"sk-text-repr-fallback\"><pre>PCA(n_components=3, svd_solver=&#x27;full&#x27;)</pre><b>In a Jupyter environment, please rerun this cell to show the HTML representation or trust the notebook. <br />On GitHub, the HTML representation is unable to render, please try loading this page with nbviewer.org.</b></div><div class=\"sk-container\" hidden><div class=\"sk-item\"><div class=\"sk-estimator sk-toggleable\"><input class=\"sk-toggleable__control sk-hidden--visually\" id=\"sk-estimator-id-2\" type=\"checkbox\" checked><label for=\"sk-estimator-id-2\" class=\"sk-toggleable__label sk-toggleable__label-arrow\">PCA</label><div class=\"sk-toggleable__content\"><pre>PCA(n_components=3, svd_solver=&#x27;full&#x27;)</pre></div></div></div></div></div>"
      ],
      "text/plain": [
       "PCA(n_components=3, svd_solver='full')"
      ]
     },
     "execution_count": 49,
     "metadata": {},
     "output_type": "execute_result"
    }
   ],
   "source": [
    "pca = PCA(n_components=3,svd_solver='full')\n",
    "pca.fit(aux_dum)"
   ]
  },
  {
   "cell_type": "code",
   "execution_count": 50,
   "id": "35c36a75-8d50-40ed-a5b1-05a6588ae020",
   "metadata": {},
   "outputs": [
    {
     "name": "stdout",
     "output_type": "stream",
     "text": [
      "[0.49288546 0.471443   0.00908826]\n"
     ]
    }
   ],
   "source": [
    "print(pca.explained_variance_ratio_)"
   ]
  },
  {
   "cell_type": "code",
   "execution_count": 51,
   "id": "7071237e-c8bb-4e28-9f27-87b6026a48cc",
   "metadata": {},
   "outputs": [],
   "source": [
    "z= pca.transform(aux_dum)"
   ]
  },
  {
   "cell_type": "code",
   "execution_count": 52,
   "id": "a1480bd5-c8f0-4cef-ba9b-a7de20c33ec2",
   "metadata": {},
   "outputs": [],
   "source": [
    "aux['z1'] = z[:,0]\n",
    "aux['z2'] = z[:,1]\n",
    "aux['z3'] = z[:,2]"
   ]
  },
  {
   "cell_type": "markdown",
   "id": "21f862ac-3540-47d7-b66a-24acaa0ea796",
   "metadata": {},
   "source": [
    "## Data visualization"
   ]
  },
  {
   "cell_type": "code",
   "execution_count": null,
   "id": "0ec5aa0f-f173-4624-a513-7c22b9b4bba4",
   "metadata": {},
   "outputs": [],
   "source": [
    "fig = px.scatter(aux, \n",
    "                 x='z1', y='z2',  \n",
    "                 color='educacion',\n",
    "                 symbol='ocupacion',\n",
    "                 #labels='',\n",
    "                 #text='wav_filename',\n",
    "                 hover_data=['fsexual', 'edad', 'embarazos', 'entidad', 'ocupacion', 'usoAnticon','educacion', 'estadoCivS'],\n",
    "                 template=\"simple_white\"\n",
    "                 #template=\"plotly_dark\",\n",
    "                 )\n",
    "\n",
    "fig.show()"
   ]
  },
  {
   "cell_type": "markdown",
   "id": "acc1ede3-b4af-4ed1-b485-fe8849282b2e",
   "metadata": {},
   "source": [
    "## Number of clusters"
   ]
  },
  {
   "cell_type": "code",
   "execution_count": 54,
   "id": "5b2fff4a-8b10-48ba-87eb-ed47026e9b7b",
   "metadata": {},
   "outputs": [],
   "source": [
    "sc = MinMaxScaler()\n",
    "Xs = pd.DataFrame(data=sc.fit_transform(aux_dum), columns=aux_dum.columns, index=aux_dum.index)"
   ]
  },
  {
   "cell_type": "code",
   "execution_count": null,
   "id": "5d19c104-2a27-4675-bd5e-c93bad6e5f31",
   "metadata": {},
   "outputs": [],
   "source": [
    "sse,db,slc = {}, {}, {}\n",
    "for k in range(2, 7):\n",
    "    print(f'----------------{k}--------------------------')\n",
    "    cluster = GaussianMixture(n_components=k, random_state=10).fit(Xs)\n",
    "    clusters = cluster.predict(Xs)\n",
    "    db[k] = davies_bouldin_score(Xs,clusters)\n",
    "    slc[k] = silhouette_score(Xs,clusters)"
   ]
  },
  {
   "cell_type": "markdown",
   "id": "831f26a0-f7da-4cb9-b648-fbe64841e71f",
   "metadata": {},
   "source": [
    "### Davies-Bouldin values"
   ]
  },
  {
   "cell_type": "code",
   "execution_count": 52,
   "id": "35146b2c-2dd5-40e5-8d0f-6c2b4fd5b385",
   "metadata": {},
   "outputs": [
    {
     "data": {
      "image/png": "[encoded data removed]",
      "text/plain": [
       "<Figure size 1500x1000 with 1 Axes>"
      ]
     },
     "metadata": {},
     "output_type": "display_data"
    }
   ],
   "source": [
    "plt.figure(figsize=(15,10))\n",
    "plt.plot(list(db.keys()), list(db.values()), \"bx-\")\n",
    "plt.xlabel(\"Number of cluster\")\n",
    "plt.ylabel(\"Davies-Bouldin values\")\n",
    "plt.show()"
   ]
  },
  {
   "cell_type": "markdown",
   "id": "d1acffb3-c462-4cbd-b9c2-6df70b8ca213",
   "metadata": {},
   "source": [
    "### Silhouette score"
   ]
  },
  {
   "cell_type": "code",
   "execution_count": 53,
   "id": "c8ca4e17-ef67-4f3e-939b-5977e98845de",
   "metadata": {},
   "outputs": [
    {
     "data": {
      "image/png": "[encoded data removed]",
      "text/plain": [
       "<Figure size 1500x1000 with 1 Axes>"
      ]
     },
     "metadata": {},
     "output_type": "display_data"
    }
   ],
   "source": [
    "plt.figure(figsize=(15,10))\n",
    "plt.plot(list(slc.keys()), list(slc.values()), \"bx-\")\n",
    "plt.xlabel(\"Number of cluster\")\n",
    "plt.ylabel(\"Silhouette score\")\n",
    "plt.show()"
   ]
  },
  {
   "cell_type": "code",
   "execution_count": 55,
   "id": "1baf3a3a-8d68-4c33-ba94-c977db3d42c2",
   "metadata": {},
   "outputs": [],
   "source": [
    "cluster = GaussianMixture(n_components=6, random_state=10)\n",
    "\n",
    "cluster.fit(Xs)\n",
    "\n",
    "aux[\"cl\"] = Xs[\"cl\"] = aux_dum['cl']=[str(x) for x in cluster.predict(Xs)]"
   ]
  },
  {
   "cell_type": "code",
   "execution_count": 56,
   "id": "2460476f-da8f-4c9c-91b9-82a081bb8cd7",
   "metadata": {},
   "outputs": [
    {
     "data": {
      "text/html": [
       "<div>\n",
       "<style scoped>\n",
       "    .dataframe tbody tr th:only-of-type {\n",
       "        vertical-align: middle;\n",
       "    }\n",
       "\n",
       "    .dataframe tbody tr th {\n",
       "        vertical-align: top;\n",
       "    }\n",
       "\n",
       "    .dataframe thead th {\n",
       "        text-align: right;\n",
       "    }\n",
       "</style>\n",
       "<table border=\"1\" class=\"dataframe\">\n",
       "  <thead>\n",
       "    <tr style=\"text-align: right;\">\n",
       "      <th></th>\n",
       "      <th>fsexual</th>\n",
       "      <th>edad</th>\n",
       "      <th>embarazos</th>\n",
       "      <th>entidad</th>\n",
       "      <th>ocupacion</th>\n",
       "      <th>usoAnticon</th>\n",
       "      <th>educacion</th>\n",
       "      <th>estadoCivS</th>\n",
       "      <th>z1_f</th>\n",
       "      <th>z2_f</th>\n",
       "      <th>z3_f</th>\n",
       "      <th>cl_f</th>\n",
       "      <th>z1</th>\n",
       "      <th>z2</th>\n",
       "      <th>z3</th>\n",
       "      <th>cl</th>\n",
       "    </tr>\n",
       "  </thead>\n",
       "  <tbody>\n",
       "    <tr>\n",
       "      <th>0</th>\n",
       "      <td>45</td>\n",
       "      <td>24</td>\n",
       "      <td>7</td>\n",
       "      <td>OTROS</td>\n",
       "      <td>EMPLEADA</td>\n",
       "      <td>No</td>\n",
       "      <td>Sin acceso</td>\n",
       "      <td>Soltera</td>\n",
       "      <td>-1.665658</td>\n",
       "      <td>26.626230</td>\n",
       "      <td>6.902027</td>\n",
       "      <td>2</td>\n",
       "      <td>-1.665985</td>\n",
       "      <td>26.628073</td>\n",
       "      <td>-0.277688</td>\n",
       "      <td>5</td>\n",
       "    </tr>\n",
       "    <tr>\n",
       "      <th>1</th>\n",
       "      <td>15</td>\n",
       "      <td>30</td>\n",
       "      <td>5</td>\n",
       "      <td>CIUDAD DE MEXICO</td>\n",
       "      <td>NO PERCIBE INGRESO</td>\n",
       "      <td>No</td>\n",
       "      <td>Educación Media</td>\n",
       "      <td>Con pareja</td>\n",
       "      <td>4.123871</td>\n",
       "      <td>-3.399154</td>\n",
       "      <td>4.688545</td>\n",
       "      <td>1</td>\n",
       "      <td>4.123798</td>\n",
       "      <td>-3.398010</td>\n",
       "      <td>0.580789</td>\n",
       "      <td>4</td>\n",
       "    </tr>\n",
       "    <tr>\n",
       "      <th>2</th>\n",
       "      <td>45</td>\n",
       "      <td>38</td>\n",
       "      <td>5</td>\n",
       "      <td>CIUDAD DE MEXICO</td>\n",
       "      <td>EMPLEADA</td>\n",
       "      <td>No</td>\n",
       "      <td>Educación Básica</td>\n",
       "      <td>Con pareja</td>\n",
       "      <td>12.336715</td>\n",
       "      <td>26.542303</td>\n",
       "      <td>4.933822</td>\n",
       "      <td>1</td>\n",
       "      <td>12.334704</td>\n",
       "      <td>26.542085</td>\n",
       "      <td>0.693758</td>\n",
       "      <td>1</td>\n",
       "    </tr>\n",
       "    <tr>\n",
       "      <th>3</th>\n",
       "      <td>16</td>\n",
       "      <td>23</td>\n",
       "      <td>4</td>\n",
       "      <td>CIUDAD DE MEXICO</td>\n",
       "      <td>NO PERCIBE INGRESO</td>\n",
       "      <td>Si</td>\n",
       "      <td>Educación Media</td>\n",
       "      <td>Con pareja</td>\n",
       "      <td>-2.867406</td>\n",
       "      <td>-2.341561</td>\n",
       "      <td>3.688436</td>\n",
       "      <td>1</td>\n",
       "      <td>-2.867594</td>\n",
       "      <td>-2.340718</td>\n",
       "      <td>0.939428</td>\n",
       "      <td>4</td>\n",
       "    </tr>\n",
       "    <tr>\n",
       "      <th>4</th>\n",
       "      <td>17</td>\n",
       "      <td>18</td>\n",
       "      <td>4</td>\n",
       "      <td>CIUDAD DE MEXICO</td>\n",
       "      <td>NO PERCIBE INGRESO</td>\n",
       "      <td>Si</td>\n",
       "      <td>Educación Básica</td>\n",
       "      <td>Con pareja</td>\n",
       "      <td>-7.860178</td>\n",
       "      <td>-1.305987</td>\n",
       "      <td>3.689011</td>\n",
       "      <td>1</td>\n",
       "      <td>-7.861235</td>\n",
       "      <td>-1.308669</td>\n",
       "      <td>1.025374</td>\n",
       "      <td>1</td>\n",
       "    </tr>\n",
       "  </tbody>\n",
       "</table>\n",
       "</div>"
      ],
      "text/plain": [
       "   fsexual  edad  embarazos           entidad           ocupacion usoAnticon  \\\n",
       "0       45    24          7             OTROS            EMPLEADA         No   \n",
       "1       15    30          5  CIUDAD DE MEXICO  NO PERCIBE INGRESO         No   \n",
       "2       45    38          5  CIUDAD DE MEXICO            EMPLEADA         No   \n",
       "3       16    23          4  CIUDAD DE MEXICO  NO PERCIBE INGRESO         Si   \n",
       "4       17    18          4  CIUDAD DE MEXICO  NO PERCIBE INGRESO         Si   \n",
       "\n",
       "          educacion  estadoCivS       z1_f       z2_f      z3_f cl_f  \\\n",
       "0        Sin acceso     Soltera  -1.665658  26.626230  6.902027    2   \n",
       "1   Educación Media  Con pareja   4.123871  -3.399154  4.688545    1   \n",
       "2  Educación Básica  Con pareja  12.336715  26.542303  4.933822    1   \n",
       "3   Educación Media  Con pareja  -2.867406  -2.341561  3.688436    1   \n",
       "4  Educación Básica  Con pareja  -7.860178  -1.305987  3.689011    1   \n",
       "\n",
       "          z1         z2        z3 cl  \n",
       "0  -1.665985  26.628073 -0.277688  5  \n",
       "1   4.123798  -3.398010  0.580789  4  \n",
       "2  12.334704  26.542085  0.693758  1  \n",
       "3  -2.867594  -2.340718  0.939428  4  \n",
       "4  -7.861235  -1.308669  1.025374  1  "
      ]
     },
     "execution_count": 56,
     "metadata": {},
     "output_type": "execute_result"
    }
   ],
   "source": [
    "aux.head()"
   ]
  },
  {
   "cell_type": "markdown",
   "id": "f5ca1008-d54a-4838-bef1-ae2519cb800c",
   "metadata": {},
   "source": [
    "### Cluster visualization"
   ]
  },
  {
   "cell_type": "code",
   "execution_count": null,
   "id": "dd764a1d-668f-4fe7-a1b3-219aeade327a",
   "metadata": {},
   "outputs": [],
   "source": [
    "fig = px.scatter_3d(aux, \n",
    "                 x='z1', y='z2',z= 'z3',  \n",
    "                 color='cl',\n",
    "                 #symbol='ocupacion',\n",
    "                 #labels='',\n",
    "                 #text='wav_filename',\n",
    "                 hover_data=['fsexual', 'edad', 'embarazos', 'entidad', 'ocupacion', 'usoAnticon','educacion', 'estadoCivS'],\n",
    "                 template=\"simple_white\"\n",
    "                 #template=\"plotly_dark\",\n",
    "                 )\n",
    "\n",
    "fig.show()"
   ]
  },
  {
   "cell_type": "markdown",
   "id": "41de3ffa-9656-45c1-a3c8-88b68d12687a",
   "metadata": {},
   "source": [
    "## Cluster"
   ]
  },
  {
   "cell_type": "code",
   "execution_count": 58,
   "id": "15a3dc66-467f-45da-98f1-d174d71fbec6",
   "metadata": {},
   "outputs": [
    {
     "data": {
      "text/plain": [
       "cl\n",
       "0    16.799804\n",
       "1    24.413634\n",
       "2    14.859364\n",
       "3     0.265255\n",
       "4    15.595956\n",
       "5    28.065987\n",
       "Name: fsexual, dtype: float64"
      ]
     },
     "execution_count": 58,
     "metadata": {},
     "output_type": "execute_result"
    }
   ],
   "source": [
    "aux_dum.groupby('cl')['fsexual'].count()/len(Xs)*100"
   ]
  },
  {
   "cell_type": "code",
   "execution_count": 59,
   "id": "9a12ba02-4e9a-426c-af8b-d868e25f2ce9",
   "metadata": {},
   "outputs": [
    {
     "name": "stderr",
     "output_type": "stream",
     "text": [
      "/tmp/ipykernel_29/3678801633.py:1: FutureWarning:\n",
      "\n",
      "The default value of numeric_only in DataFrameGroupBy.mean is deprecated. In a future version, numeric_only will default to False. Either specify numeric_only or select only columns which should be valid for the function.\n",
      "\n"
     ]
    },
    {
     "data": {
      "text/html": [
       "<div>\n",
       "<style scoped>\n",
       "    .dataframe tbody tr th:only-of-type {\n",
       "        vertical-align: middle;\n",
       "    }\n",
       "\n",
       "    .dataframe tbody tr th {\n",
       "        vertical-align: top;\n",
       "    }\n",
       "\n",
       "    .dataframe thead th {\n",
       "        text-align: right;\n",
       "    }\n",
       "</style>\n",
       "<table border=\"1\" class=\"dataframe\">\n",
       "  <thead>\n",
       "    <tr style=\"text-align: right;\">\n",
       "      <th></th>\n",
       "      <th>fsexual</th>\n",
       "      <th>edad</th>\n",
       "      <th>embarazos</th>\n",
       "      <th>entidad_CIUDAD DE MEXICO</th>\n",
       "      <th>entidad_ESTADO DE MEXICO</th>\n",
       "      <th>ocupacion_EMPLEADA</th>\n",
       "      <th>ocupacion_ESTUDIANTE</th>\n",
       "      <th>usoAnticon_Si</th>\n",
       "      <th>educacion_Educación Básica</th>\n",
       "      <th>educacion_Educación Media</th>\n",
       "      <th>educacion_Educación superior</th>\n",
       "      <th>estadoCivS_Con pareja</th>\n",
       "    </tr>\n",
       "    <tr>\n",
       "      <th>cl</th>\n",
       "      <th></th>\n",
       "      <th></th>\n",
       "      <th></th>\n",
       "      <th></th>\n",
       "      <th></th>\n",
       "      <th></th>\n",
       "      <th></th>\n",
       "      <th></th>\n",
       "      <th></th>\n",
       "      <th></th>\n",
       "      <th></th>\n",
       "      <th></th>\n",
       "    </tr>\n",
       "  </thead>\n",
       "  <tbody>\n",
       "    <tr>\n",
       "      <th>0</th>\n",
       "      <td>18.121819</td>\n",
       "      <td>25.865063</td>\n",
       "      <td>0.327989</td>\n",
       "      <td>0.000000</td>\n",
       "      <td>1.0</td>\n",
       "      <td>0.354467</td>\n",
       "      <td>0.192020</td>\n",
       "      <td>0.331572</td>\n",
       "      <td>0.645351</td>\n",
       "      <td>0.000000</td>\n",
       "      <td>0.337159</td>\n",
       "      <td>0.407603</td>\n",
       "    </tr>\n",
       "    <tr>\n",
       "      <th>1</th>\n",
       "      <td>18.057417</td>\n",
       "      <td>25.771500</td>\n",
       "      <td>0.340451</td>\n",
       "      <td>0.959716</td>\n",
       "      <td>0.0</td>\n",
       "      <td>0.315921</td>\n",
       "      <td>0.124279</td>\n",
       "      <td>0.315336</td>\n",
       "      <td>1.000000</td>\n",
       "      <td>0.000000</td>\n",
       "      <td>0.000000</td>\n",
       "      <td>0.460468</td>\n",
       "    </tr>\n",
       "    <tr>\n",
       "      <th>2</th>\n",
       "      <td>18.126605</td>\n",
       "      <td>25.903055</td>\n",
       "      <td>0.284655</td>\n",
       "      <td>0.000000</td>\n",
       "      <td>1.0</td>\n",
       "      <td>0.330999</td>\n",
       "      <td>0.306076</td>\n",
       "      <td>0.325232</td>\n",
       "      <td>0.000000</td>\n",
       "      <td>1.000000</td>\n",
       "      <td>0.000000</td>\n",
       "      <td>0.354274</td>\n",
       "    </tr>\n",
       "    <tr>\n",
       "      <th>3</th>\n",
       "      <td>18.623077</td>\n",
       "      <td>25.865385</td>\n",
       "      <td>0.234615</td>\n",
       "      <td>1.000000</td>\n",
       "      <td>0.0</td>\n",
       "      <td>0.323077</td>\n",
       "      <td>0.180769</td>\n",
       "      <td>0.323077</td>\n",
       "      <td>0.000000</td>\n",
       "      <td>0.000000</td>\n",
       "      <td>0.000000</td>\n",
       "      <td>0.000000</td>\n",
       "    </tr>\n",
       "    <tr>\n",
       "      <th>4</th>\n",
       "      <td>18.642572</td>\n",
       "      <td>25.864264</td>\n",
       "      <td>0.415124</td>\n",
       "      <td>0.934977</td>\n",
       "      <td>0.0</td>\n",
       "      <td>0.338981</td>\n",
       "      <td>0.149670</td>\n",
       "      <td>0.307255</td>\n",
       "      <td>0.000000</td>\n",
       "      <td>0.725388</td>\n",
       "      <td>0.257932</td>\n",
       "      <td>1.000000</td>\n",
       "    </tr>\n",
       "    <tr>\n",
       "      <th>5</th>\n",
       "      <td>18.632606</td>\n",
       "      <td>25.856997</td>\n",
       "      <td>0.168048</td>\n",
       "      <td>0.904653</td>\n",
       "      <td>0.0</td>\n",
       "      <td>0.368484</td>\n",
       "      <td>0.394257</td>\n",
       "      <td>0.303526</td>\n",
       "      <td>0.000000</td>\n",
       "      <td>0.690731</td>\n",
       "      <td>0.308142</td>\n",
       "      <td>0.000000</td>\n",
       "    </tr>\n",
       "  </tbody>\n",
       "</table>\n",
       "</div>"
      ],
      "text/plain": [
       "      fsexual       edad  embarazos  entidad_CIUDAD DE MEXICO  \\\n",
       "cl                                                              \n",
       "0   18.121819  25.865063   0.327989                  0.000000   \n",
       "1   18.057417  25.771500   0.340451                  0.959716   \n",
       "2   18.126605  25.903055   0.284655                  0.000000   \n",
       "3   18.623077  25.865385   0.234615                  1.000000   \n",
       "4   18.642572  25.864264   0.415124                  0.934977   \n",
       "5   18.632606  25.856997   0.168048                  0.904653   \n",
       "\n",
       "    entidad_ESTADO DE MEXICO  ocupacion_EMPLEADA  ocupacion_ESTUDIANTE  \\\n",
       "cl                                                                       \n",
       "0                        1.0            0.354467              0.192020   \n",
       "1                        0.0            0.315921              0.124279   \n",
       "2                        1.0            0.330999              0.306076   \n",
       "3                        0.0            0.323077              0.180769   \n",
       "4                        0.0            0.338981              0.149670   \n",
       "5                        0.0            0.368484              0.394257   \n",
       "\n",
       "    usoAnticon_Si  educacion_Educación Básica  educacion_Educación Media  \\\n",
       "cl                                                                         \n",
       "0        0.331572                    0.645351                   0.000000   \n",
       "1        0.315336                    1.000000                   0.000000   \n",
       "2        0.325232                    0.000000                   1.000000   \n",
       "3        0.323077                    0.000000                   0.000000   \n",
       "4        0.307255                    0.000000                   0.725388   \n",
       "5        0.303526                    0.000000                   0.690731   \n",
       "\n",
       "    educacion_Educación superior  estadoCivS_Con pareja  \n",
       "cl                                                       \n",
       "0                       0.337159               0.407603  \n",
       "1                       0.000000               0.460468  \n",
       "2                       0.000000               0.354274  \n",
       "3                       0.000000               0.000000  \n",
       "4                       0.257932               1.000000  \n",
       "5                       0.308142               0.000000  "
      ]
     },
     "execution_count": 59,
     "metadata": {},
     "output_type": "execute_result"
    }
   ],
   "source": [
    "aux_dum.groupby('cl').mean()"
   ]
  },
  {
   "cell_type": "markdown",
   "id": "8fda1a5d-a985-4b99-b539-f877beff5ce9",
   "metadata": {},
   "source": [
    "Cluster 0 -> Estado de mexico, Sin trabajo, No usa condon, Educación basica  \n",
    "Cluster 1 -> Ciudad de Mexico, Sin trabajo, No usa condon, Educación basica  \n",
    "Cluster 2 -> Ciudad de Mexico, No estudia, No usa condon, Educación media, Grupo con mas pareja, Mayor numero embarazos  \n",
    "Cluster 3 -> Area metropolitana, Empleada/estudiante, Menos uso de condon, Superior\n",
    "Cluster 4 -> Estado de mexico, Distribución uniforme empleo, Educación media, \n",
    "Cluster 5 -> Ciudad de Mexico, Estudiante, Educación medica, Mas"
   ]
  },
  {
   "cell_type": "markdown",
   "id": "2cadf1f4-b573-480a-a830-ee28f92465af",
   "metadata": {
    "tags": []
   },
   "source": [
    "# PCA Frequency"
   ]
  },
  {
   "cell_type": "code",
   "execution_count": 29,
   "id": "e1ae8664-7cf5-40b4-a9f4-8d4c3378666b",
   "metadata": {},
   "outputs": [
    {
     "data": {
      "text/html": [
       "<style>#sk-container-id-1 {color: black;background-color: white;}#sk-container-id-1 pre{padding: 0;}#sk-container-id-1 div.sk-toggleable {background-color: white;}#sk-container-id-1 label.sk-toggleable__label {cursor: pointer;display: block;width: 100%;margin-bottom: 0;padding: 0.3em;box-sizing: border-box;text-align: center;}#sk-container-id-1 label.sk-toggleable__label-arrow:before {content: \"▸\";float: left;margin-right: 0.25em;color: #696969;}#sk-container-id-1 label.sk-toggleable__label-arrow:hover:before {color: black;}#sk-container-id-1 div.sk-estimator:hover label.sk-toggleable__label-arrow:before {color: black;}#sk-container-id-1 div.sk-toggleable__content {max-height: 0;max-width: 0;overflow: hidden;text-align: left;background-color: #f0f8ff;}#sk-container-id-1 div.sk-toggleable__content pre {margin: 0.2em;color: black;border-radius: 0.25em;background-color: #f0f8ff;}#sk-container-id-1 input.sk-toggleable__control:checked~div.sk-toggleable__content {max-height: 200px;max-width: 100%;overflow: auto;}#sk-container-id-1 input.sk-toggleable__control:checked~label.sk-toggleable__label-arrow:before {content: \"▾\";}#sk-container-id-1 div.sk-estimator input.sk-toggleable__control:checked~label.sk-toggleable__label {background-color: #d4ebff;}#sk-container-id-1 div.sk-label input.sk-toggleable__control:checked~label.sk-toggleable__label {background-color: #d4ebff;}#sk-container-id-1 input.sk-hidden--visually {border: 0;clip: rect(1px 1px 1px 1px);clip: rect(1px, 1px, 1px, 1px);height: 1px;margin: -1px;overflow: hidden;padding: 0;position: absolute;width: 1px;}#sk-container-id-1 div.sk-estimator {font-family: monospace;background-color: #f0f8ff;border: 1px dotted black;border-radius: 0.25em;box-sizing: border-box;margin-bottom: 0.5em;}#sk-container-id-1 div.sk-estimator:hover {background-color: #d4ebff;}#sk-container-id-1 div.sk-parallel-item::after {content: \"\";width: 100%;border-bottom: 1px solid gray;flex-grow: 1;}#sk-container-id-1 div.sk-label:hover label.sk-toggleable__label {background-color: #d4ebff;}#sk-container-id-1 div.sk-serial::before {content: \"\";position: absolute;border-left: 1px solid gray;box-sizing: border-box;top: 0;bottom: 0;left: 50%;z-index: 0;}#sk-container-id-1 div.sk-serial {display: flex;flex-direction: column;align-items: center;background-color: white;padding-right: 0.2em;padding-left: 0.2em;position: relative;}#sk-container-id-1 div.sk-item {position: relative;z-index: 1;}#sk-container-id-1 div.sk-parallel {display: flex;align-items: stretch;justify-content: center;background-color: white;position: relative;}#sk-container-id-1 div.sk-item::before, #sk-container-id-1 div.sk-parallel-item::before {content: \"\";position: absolute;border-left: 1px solid gray;box-sizing: border-box;top: 0;bottom: 0;left: 50%;z-index: -1;}#sk-container-id-1 div.sk-parallel-item {display: flex;flex-direction: column;z-index: 1;position: relative;background-color: white;}#sk-container-id-1 div.sk-parallel-item:first-child::after {align-self: flex-end;width: 50%;}#sk-container-id-1 div.sk-parallel-item:last-child::after {align-self: flex-start;width: 50%;}#sk-container-id-1 div.sk-parallel-item:only-child::after {width: 0;}#sk-container-id-1 div.sk-dashed-wrapped {border: 1px dashed gray;margin: 0 0.4em 0.5em 0.4em;box-sizing: border-box;padding-bottom: 0.4em;background-color: white;}#sk-container-id-1 div.sk-label label {font-family: monospace;font-weight: bold;display: inline-block;line-height: 1.2em;}#sk-container-id-1 div.sk-label-container {text-align: center;}#sk-container-id-1 div.sk-container {/* jupyter's `normalize.less` sets `[hidden] { display: none; }` but bootstrap.min.css set `[hidden] { display: none !important; }` so we also need the `!important` here to be able to override the default hidden behavior on the sphinx rendered scikit-learn.org. See: https://github.com/scikit-learn/scikit-learn/issues/21755 */display: inline-block !important;position: relative;}#sk-container-id-1 div.sk-text-repr-fallback {display: none;}</style><div id=\"sk-container-id-1\" class=\"sk-top-container\"><div class=\"sk-text-repr-fallback\"><pre>PCA(n_components=3, svd_solver=&#x27;full&#x27;)</pre><b>In a Jupyter environment, please rerun this cell to show the HTML representation or trust the notebook. <br />On GitHub, the HTML representation is unable to render, please try loading this page with nbviewer.org.</b></div><div class=\"sk-container\" hidden><div class=\"sk-item\"><div class=\"sk-estimator sk-toggleable\"><input class=\"sk-toggleable__control sk-hidden--visually\" id=\"sk-estimator-id-1\" type=\"checkbox\" checked><label for=\"sk-estimator-id-1\" class=\"sk-toggleable__label sk-toggleable__label-arrow\">PCA</label><div class=\"sk-toggleable__content\"><pre>PCA(n_components=3, svd_solver=&#x27;full&#x27;)</pre></div></div></div></div></div>"
      ],
      "text/plain": [
       "PCA(n_components=3, svd_solver='full')"
      ]
     },
     "execution_count": 29,
     "metadata": {},
     "output_type": "execute_result"
    }
   ],
   "source": [
    "pca = PCA(n_components=3,svd_solver='full')\n",
    "pca.fit(aux_freq)"
   ]
  },
  {
   "cell_type": "code",
   "execution_count": 30,
   "id": "97bd4ed2-0a92-4b50-8bb9-647ba2c38b07",
   "metadata": {},
   "outputs": [
    {
     "name": "stdout",
     "output_type": "stream",
     "text": [
      "[0.50830955 0.48617886 0.00436693]\n"
     ]
    }
   ],
   "source": [
    "print(pca.explained_variance_ratio_)"
   ]
  },
  {
   "cell_type": "code",
   "execution_count": 31,
   "id": "15b95690-52af-4869-bba6-d0d37c71776a",
   "metadata": {},
   "outputs": [],
   "source": [
    "z= pca.transform(aux_freq)"
   ]
  },
  {
   "cell_type": "code",
   "execution_count": 32,
   "id": "e5e75eb0-6c96-4d02-955f-992ce900d16c",
   "metadata": {},
   "outputs": [],
   "source": [
    "aux['z1_f'] = z[:,0]\n",
    "aux['z2_f'] = z[:,1]\n",
    "aux['z3_f'] = z[:,2]"
   ]
  },
  {
   "cell_type": "markdown",
   "id": "3de14afa-2067-4fd4-9905-75056c568790",
   "metadata": {},
   "source": [
    "## Data visualization"
   ]
  },
  {
   "cell_type": "code",
   "execution_count": null,
   "id": "6663d791-aa32-40e2-b8d7-a29696e495ec",
   "metadata": {},
   "outputs": [],
   "source": [
    "fig = px.scatter(aux, \n",
    "                 x='z1_f', y='z2_f',  \n",
    "                 color='educacion',\n",
    "                 symbol='ocupacion',\n",
    "                 #labels='',\n",
    "                 #text='wav_filename',\n",
    "                 hover_data=['fsexual', 'edad', 'embarazos', 'entidad', 'ocupacion', 'usoAnticon','educacion', 'estadoCivS'],\n",
    "                 template=\"simple_white\"\n",
    "                 #template=\"plotly_dark\",\n",
    "                 )\n",
    "\n",
    "fig.show()"
   ]
  },
  {
   "cell_type": "markdown",
   "id": "c512f5aa-01ae-4ea8-87b7-5e44ec522ff0",
   "metadata": {},
   "source": [
    "## Number of clusters"
   ]
  },
  {
   "cell_type": "code",
   "execution_count": 36,
   "id": "82189c14-26c3-4aad-b1e3-06e5aa7573f9",
   "metadata": {},
   "outputs": [],
   "source": [
    "sc = MinMaxScaler()\n",
    "Xs_f = pd.DataFrame(data=sc.fit_transform(aux_freq), columns=aux_freq.columns, index=aux_freq.index)"
   ]
  },
  {
   "cell_type": "code",
   "execution_count": 37,
   "id": "aec931a0-e91d-413e-81c6-40a35864da1b",
   "metadata": {},
   "outputs": [
    {
     "name": "stdout",
     "output_type": "stream",
     "text": [
      "----------------2--------------------------\n",
      "----------------3--------------------------\n",
      "----------------4--------------------------\n",
      "----------------5--------------------------\n",
      "----------------6--------------------------\n"
     ]
    }
   ],
   "source": [
    "sse,db,slc = {}, {}, {}\n",
    "for k in range(2, 7):\n",
    "    print(f'----------------{k}--------------------------')\n",
    "    cluster = GaussianMixture(n_components=k, random_state=10).fit(Xs)\n",
    "    clusters = cluster.predict(Xs_f)\n",
    "    db[k] = davies_bouldin_score(Xs_f,clusters)\n",
    "    slc[k] = silhouette_score(Xs_f,clusters)"
   ]
  },
  {
   "cell_type": "markdown",
   "id": "185dadbe-45f5-4155-8ed8-a7f982326bc6",
   "metadata": {},
   "source": [
    "### Davies-Bouldin values"
   ]
  },
  {
   "cell_type": "code",
   "execution_count": 38,
   "id": "61e40954-1970-43c7-8c42-0f0f5c934546",
   "metadata": {},
   "outputs": [
    {
     "data": {
      "image/png": "[encoded data removed]",
      "text/plain": [
       "<Figure size 1500x1000 with 1 Axes>"
      ]
     },
     "metadata": {},
     "output_type": "display_data"
    }
   ],
   "source": [
    "plt.figure(figsize=(15,10))\n",
    "plt.plot(list(db.keys()), list(db.values()), \"bx-\")\n",
    "plt.xlabel(\"Number of cluster\")\n",
    "plt.ylabel(\"Davies-Bouldin values\")\n",
    "plt.show()"
   ]
  },
  {
   "cell_type": "markdown",
   "id": "aad97fb9-11cd-4b2a-b982-8bd387c81ad8",
   "metadata": {},
   "source": [
    "### Silhouette score"
   ]
  },
  {
   "cell_type": "code",
   "execution_count": 39,
   "id": "b8caa6cb-adde-4eee-8c8c-7e01c874a99f",
   "metadata": {},
   "outputs": [
    {
     "data": {
      "image/png": "[encoded data removed]",
      "text/plain": [
       "<Figure size 1500x1000 with 1 Axes>"
      ]
     },
     "metadata": {},
     "output_type": "display_data"
    }
   ],
   "source": [
    "plt.figure(figsize=(15,10))\n",
    "plt.plot(list(slc.keys()), list(slc.values()), \"bx-\")\n",
    "plt.xlabel(\"Number of cluster\")\n",
    "plt.ylabel(\"Silhouette score\")\n",
    "plt.show()"
   ]
  },
  {
   "cell_type": "code",
   "execution_count": 41,
   "id": "5619e947-ba8d-4b69-bac5-7165a0afa4a8",
   "metadata": {},
   "outputs": [],
   "source": [
    "cluster = GaussianMixture(n_components=3, random_state=10)\n",
    "\n",
    "cluster.fit(Xs)\n",
    "\n",
    "aux[\"cl_f\"] = Xs_f[\"cl\"] = aux_dum['cl_f']=[str(x) for x in cluster.predict(Xs)]"
   ]
  },
  {
   "cell_type": "code",
   "execution_count": 42,
   "id": "6c35b405-8e18-4729-997d-659e4ec71944",
   "metadata": {},
   "outputs": [
    {
     "data": {
      "text/html": [
       "<div>\n",
       "<style scoped>\n",
       "    .dataframe tbody tr th:only-of-type {\n",
       "        vertical-align: middle;\n",
       "    }\n",
       "\n",
       "    .dataframe tbody tr th {\n",
       "        vertical-align: top;\n",
       "    }\n",
       "\n",
       "    .dataframe thead th {\n",
       "        text-align: right;\n",
       "    }\n",
       "</style>\n",
       "<table border=\"1\" class=\"dataframe\">\n",
       "  <thead>\n",
       "    <tr style=\"text-align: right;\">\n",
       "      <th></th>\n",
       "      <th>fsexual</th>\n",
       "      <th>edad</th>\n",
       "      <th>embarazos</th>\n",
       "      <th>entidad</th>\n",
       "      <th>ocupacion</th>\n",
       "      <th>usoAnticon</th>\n",
       "      <th>educacion</th>\n",
       "      <th>estadoCivS</th>\n",
       "      <th>z1_f</th>\n",
       "      <th>z2_f</th>\n",
       "      <th>z3_f</th>\n",
       "      <th>cl_f</th>\n",
       "    </tr>\n",
       "  </thead>\n",
       "  <tbody>\n",
       "    <tr>\n",
       "      <th>0</th>\n",
       "      <td>45</td>\n",
       "      <td>24</td>\n",
       "      <td>7</td>\n",
       "      <td>OTROS</td>\n",
       "      <td>EMPLEADA</td>\n",
       "      <td>No</td>\n",
       "      <td>Sin acceso</td>\n",
       "      <td>Soltera</td>\n",
       "      <td>-1.665658</td>\n",
       "      <td>26.626230</td>\n",
       "      <td>6.902027</td>\n",
       "      <td>2</td>\n",
       "    </tr>\n",
       "    <tr>\n",
       "      <th>1</th>\n",
       "      <td>15</td>\n",
       "      <td>30</td>\n",
       "      <td>5</td>\n",
       "      <td>CIUDAD DE MEXICO</td>\n",
       "      <td>NO PERCIBE INGRESO</td>\n",
       "      <td>No</td>\n",
       "      <td>Educación Media</td>\n",
       "      <td>Con pareja</td>\n",
       "      <td>4.123871</td>\n",
       "      <td>-3.399154</td>\n",
       "      <td>4.688545</td>\n",
       "      <td>1</td>\n",
       "    </tr>\n",
       "    <tr>\n",
       "      <th>2</th>\n",
       "      <td>45</td>\n",
       "      <td>38</td>\n",
       "      <td>5</td>\n",
       "      <td>CIUDAD DE MEXICO</td>\n",
       "      <td>EMPLEADA</td>\n",
       "      <td>No</td>\n",
       "      <td>Educación Básica</td>\n",
       "      <td>Con pareja</td>\n",
       "      <td>12.336715</td>\n",
       "      <td>26.542303</td>\n",
       "      <td>4.933822</td>\n",
       "      <td>1</td>\n",
       "    </tr>\n",
       "    <tr>\n",
       "      <th>3</th>\n",
       "      <td>16</td>\n",
       "      <td>23</td>\n",
       "      <td>4</td>\n",
       "      <td>CIUDAD DE MEXICO</td>\n",
       "      <td>NO PERCIBE INGRESO</td>\n",
       "      <td>Si</td>\n",
       "      <td>Educación Media</td>\n",
       "      <td>Con pareja</td>\n",
       "      <td>-2.867406</td>\n",
       "      <td>-2.341561</td>\n",
       "      <td>3.688436</td>\n",
       "      <td>1</td>\n",
       "    </tr>\n",
       "    <tr>\n",
       "      <th>4</th>\n",
       "      <td>17</td>\n",
       "      <td>18</td>\n",
       "      <td>4</td>\n",
       "      <td>CIUDAD DE MEXICO</td>\n",
       "      <td>NO PERCIBE INGRESO</td>\n",
       "      <td>Si</td>\n",
       "      <td>Educación Básica</td>\n",
       "      <td>Con pareja</td>\n",
       "      <td>-7.860178</td>\n",
       "      <td>-1.305987</td>\n",
       "      <td>3.689011</td>\n",
       "      <td>1</td>\n",
       "    </tr>\n",
       "  </tbody>\n",
       "</table>\n",
       "</div>"
      ],
      "text/plain": [
       "   fsexual  edad  embarazos           entidad           ocupacion usoAnticon  \\\n",
       "0       45    24          7             OTROS            EMPLEADA         No   \n",
       "1       15    30          5  CIUDAD DE MEXICO  NO PERCIBE INGRESO         No   \n",
       "2       45    38          5  CIUDAD DE MEXICO            EMPLEADA         No   \n",
       "3       16    23          4  CIUDAD DE MEXICO  NO PERCIBE INGRESO         Si   \n",
       "4       17    18          4  CIUDAD DE MEXICO  NO PERCIBE INGRESO         Si   \n",
       "\n",
       "          educacion  estadoCivS       z1_f       z2_f      z3_f cl_f  \n",
       "0        Sin acceso     Soltera  -1.665658  26.626230  6.902027    2  \n",
       "1   Educación Media  Con pareja   4.123871  -3.399154  4.688545    1  \n",
       "2  Educación Básica  Con pareja  12.336715  26.542303  4.933822    1  \n",
       "3   Educación Media  Con pareja  -2.867406  -2.341561  3.688436    1  \n",
       "4  Educación Básica  Con pareja  -7.860178  -1.305987  3.689011    1  "
      ]
     },
     "execution_count": 42,
     "metadata": {},
     "output_type": "execute_result"
    }
   ],
   "source": [
    "aux.head()"
   ]
  },
  {
   "cell_type": "markdown",
   "id": "19a3e309-fd3f-4398-818a-5c3b3b59be63",
   "metadata": {},
   "source": [
    "### Cluster visualization"
   ]
  },
  {
   "cell_type": "code",
   "execution_count": null,
   "id": "8c6562c3-8ad7-478b-b924-59b0e019f626",
   "metadata": {},
   "outputs": [],
   "source": [
    "fig = px.scatter(aux, \n",
    "                 x='z1_f', y='z2_f',  \n",
    "                 color='cl_f',\n",
    "                 #symbol='ocupacion',\n",
    "                 #labels='',\n",
    "                 #text='wav_filename',\n",
    "                 hover_data=['fsexual', 'edad', 'embarazos', 'entidad', 'ocupacion', 'usoAnticon','educacion', 'estadoCivS'],\n",
    "                 template=\"simple_white\"\n",
    "                 #template=\"plotly_dark\",\n",
    "                 )\n",
    "\n",
    "fig.show()"
   ]
  },
  {
   "cell_type": "code",
   "execution_count": null,
   "id": "62dded0f-80e3-455c-baa5-dec02d50082e",
   "metadata": {},
   "outputs": [],
   "source": [
    "fig = px.scatter_3d(aux, \n",
    "                 x='z1_f', y='z2_f',z= 'z3_f',  \n",
    "                 color='cl_f',\n",
    "                 #symbol='ocupacion',\n",
    "                 #labels='',\n",
    "                 #text='wav_filename',\n",
    "                 hover_data=['fsexual', 'edad', 'embarazos', 'entidad', 'ocupacion', 'usoAnticon','educacion', 'estadoCivS'],\n",
    "                 template=\"simple_white\"\n",
    "                 #template=\"plotly_dark\",\n",
    "                 )\n",
    "\n",
    "fig.show()"
   ]
  },
  {
   "cell_type": "markdown",
   "id": "4db2f2aa-8353-45ed-af63-8e42e82cee44",
   "metadata": {},
   "source": [
    "## Cluster"
   ]
  },
  {
   "cell_type": "code",
   "execution_count": 47,
   "id": "b8dda755-85c2-424b-9892-430d93d79b36",
   "metadata": {},
   "outputs": [
    {
     "data": {
      "text/plain": [
       "cl_f\n",
       "0    19.205460\n",
       "1    38.949591\n",
       "2    41.844948\n",
       "Name: fsexual, dtype: float64"
      ]
     },
     "execution_count": 47,
     "metadata": {},
     "output_type": "execute_result"
    }
   ],
   "source": [
    "aux_dum.groupby('cl_f')['fsexual'].count()/len(Xs)*100"
   ]
  },
  {
   "cell_type": "code",
   "execution_count": 48,
   "id": "53862775-5cd3-4681-8a10-36c163168127",
   "metadata": {},
   "outputs": [
    {
     "data": {
      "text/html": [
       "<div>\n",
       "<style scoped>\n",
       "    .dataframe tbody tr th:only-of-type {\n",
       "        vertical-align: middle;\n",
       "    }\n",
       "\n",
       "    .dataframe tbody tr th {\n",
       "        vertical-align: top;\n",
       "    }\n",
       "\n",
       "    .dataframe thead th {\n",
       "        text-align: right;\n",
       "    }\n",
       "</style>\n",
       "<table border=\"1\" class=\"dataframe\">\n",
       "  <thead>\n",
       "    <tr style=\"text-align: right;\">\n",
       "      <th></th>\n",
       "      <th>fsexual</th>\n",
       "      <th>edad</th>\n",
       "      <th>embarazos</th>\n",
       "      <th>entidad_CIUDAD DE MEXICO</th>\n",
       "      <th>entidad_ESTADO DE MEXICO</th>\n",
       "      <th>ocupacion_EMPLEADA</th>\n",
       "      <th>ocupacion_ESTUDIANTE</th>\n",
       "      <th>usoAnticon_Si</th>\n",
       "      <th>educacion_Educación Básica</th>\n",
       "      <th>educacion_Educación Media</th>\n",
       "      <th>educacion_Educación superior</th>\n",
       "      <th>estadoCivS_Con pareja</th>\n",
       "    </tr>\n",
       "    <tr>\n",
       "      <th>cl_f</th>\n",
       "      <th></th>\n",
       "      <th></th>\n",
       "      <th></th>\n",
       "      <th></th>\n",
       "      <th></th>\n",
       "      <th></th>\n",
       "      <th></th>\n",
       "      <th></th>\n",
       "      <th></th>\n",
       "      <th></th>\n",
       "      <th></th>\n",
       "      <th></th>\n",
       "    </tr>\n",
       "  </thead>\n",
       "  <tbody>\n",
       "    <tr>\n",
       "      <th>0</th>\n",
       "      <td>18.363718</td>\n",
       "      <td>25.829748</td>\n",
       "      <td>0.214980</td>\n",
       "      <td>0.659017</td>\n",
       "      <td>0.336946</td>\n",
       "      <td>0.375564</td>\n",
       "      <td>0.335033</td>\n",
       "      <td>1.000000</td>\n",
       "      <td>0.318300</td>\n",
       "      <td>0.473625</td>\n",
       "      <td>0.200053</td>\n",
       "      <td>0.0</td>\n",
       "    </tr>\n",
       "    <tr>\n",
       "      <th>1</th>\n",
       "      <td>18.303080</td>\n",
       "      <td>25.812562</td>\n",
       "      <td>0.427288</td>\n",
       "      <td>0.652365</td>\n",
       "      <td>0.310964</td>\n",
       "      <td>0.291529</td>\n",
       "      <td>0.102310</td>\n",
       "      <td>0.315601</td>\n",
       "      <td>0.416418</td>\n",
       "      <td>0.425612</td>\n",
       "      <td>0.147991</td>\n",
       "      <td>1.0</td>\n",
       "    </tr>\n",
       "    <tr>\n",
       "      <th>2</th>\n",
       "      <td>18.346060</td>\n",
       "      <td>25.883338</td>\n",
       "      <td>0.203920</td>\n",
       "      <td>0.611810</td>\n",
       "      <td>0.312488</td>\n",
       "      <td>0.375975</td>\n",
       "      <td>0.330651</td>\n",
       "      <td>0.000000</td>\n",
       "      <td>0.308831</td>\n",
       "      <td>0.475205</td>\n",
       "      <td>0.208602</td>\n",
       "      <td>0.0</td>\n",
       "    </tr>\n",
       "  </tbody>\n",
       "</table>\n",
       "</div>"
      ],
      "text/plain": [
       "        fsexual       edad  embarazos  entidad_CIUDAD DE MEXICO  \\\n",
       "cl_f                                                              \n",
       "0     18.363718  25.829748   0.214980                  0.659017   \n",
       "1     18.303080  25.812562   0.427288                  0.652365   \n",
       "2     18.346060  25.883338   0.203920                  0.611810   \n",
       "\n",
       "      entidad_ESTADO DE MEXICO  ocupacion_EMPLEADA  ocupacion_ESTUDIANTE  \\\n",
       "cl_f                                                                       \n",
       "0                     0.336946            0.375564              0.335033   \n",
       "1                     0.310964            0.291529              0.102310   \n",
       "2                     0.312488            0.375975              0.330651   \n",
       "\n",
       "      usoAnticon_Si  educacion_Educación Básica  educacion_Educación Media  \\\n",
       "cl_f                                                                         \n",
       "0          1.000000                    0.318300                   0.473625   \n",
       "1          0.315601                    0.416418                   0.425612   \n",
       "2          0.000000                    0.308831                   0.475205   \n",
       "\n",
       "      educacion_Educación superior  estadoCivS_Con pareja  \n",
       "cl_f                                                       \n",
       "0                         0.200053                    0.0  \n",
       "1                         0.147991                    1.0  \n",
       "2                         0.208602                    0.0  "
      ]
     },
     "execution_count": 48,
     "metadata": {},
     "output_type": "execute_result"
    }
   ],
   "source": [
    "aux_dum.groupby('cl_f').mean()"
   ]
  },
  {
   "cell_type": "markdown",
   "id": "e8747455-d8c7-457e-b5c1-4804dfa7f5aa",
   "metadata": {},
   "source": [
    "### Resumen"
   ]
  },
  {
   "cell_type": "markdown",
   "id": "49845cb3-b950-4d85-b2ce-46250a7f2a19",
   "metadata": {},
   "source": [
    "Cluster 0 -> Usan anti, sin pareja\n",
    "Cluster 1 -> Mayor numero de embarazos, Con pareja, Sin actividad remunerada\n",
    "Cluster 2 -> No usa anti, Sin pareja\n"
   ]
  }
 ],
 "metadata": {
  "kernelspec": {
   "display_name": "Python 3 (ipykernel)",
   "language": "python",
   "name": "python3"
  },
  "language_info": {
   "codemirror_mode": {
    "name": "ipython",
    "version": 3
   },
   "file_extension": ".py",
   "mimetype": "text/x-python",
   "name": "python",
   "nbconvert_exporter": "python",
   "pygments_lexer": "ipython3",
   "version": "3.8.10"
  }
 },
 "nbformat": 4,
 "nbformat_minor": 5
}
