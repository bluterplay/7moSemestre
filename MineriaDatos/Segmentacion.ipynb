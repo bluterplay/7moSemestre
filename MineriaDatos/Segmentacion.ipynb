{
 "cells": [
  {
   "cell_type": "code",
   "execution_count": 1,
   "id": "170313f7-c1b1-4df9-82a1-754de1ff36d0",
   "metadata": {},
   "outputs": [],
   "source": [
    "import pandas as pd\n",
    "import numpy as np"
   ]
  },
  {
   "cell_type": "code",
   "execution_count": 3,
   "id": "cd7ef1ee-a6fb-43d7-b131-1e717fe65fd4",
   "metadata": {},
   "outputs": [],
   "source": [
    "data= pd.read_excel('DatosFinales.xlsx', sheet_name='Datos')"
   ]
  },
  {
   "cell_type": "code",
   "execution_count": 8,
   "id": "a35e9f0b-efed-4e0f-8f8a-992ea5941c75",
   "metadata": {},
   "outputs": [
    {
     "data": {
      "text/plain": [
       "Index(['anticonceptivo', 'nivel_edu', 'ocupacion', 'año', 'nile',\n",
       "       'edocivil_descripcion', 'alc_o_municipio', 'parentesco', 'religion',\n",
       "       'motiles', 'fsexual', 'embarazos', 'entidad', 'edad_cat', 'fsexual_cat',\n",
       "       'x', 'Segmento'],\n",
       "      dtype='object')"
      ]
     },
     "execution_count": 8,
     "metadata": {},
     "output_type": "execute_result"
    }
   ],
   "source": [
    "data.columns"
   ]
  },
  {
   "cell_type": "markdown",
   "id": "be05a746-a846-4d68-9809-172bc51390d3",
   "metadata": {},
   "source": [
    "# Generación de segmento"
   ]
  },
  {
   "cell_type": "code",
   "execution_count": 9,
   "id": "9e8c8938-3dad-452f-abf9-ca5b07871702",
   "metadata": {},
   "outputs": [
    {
     "data": {
      "text/plain": [
       "PREPARATORIA                        44656\n",
       "SECUNDARIA                          28965\n",
       "EDUCACIÓN SUPERIOR                  17972\n",
       "PRIMARIA                             4364\n",
       "NO CONTESTO                          1228\n",
       "SIN ACCESO A LA EDUCACION FORMAL      834\n",
       "Name: nivel_edu, dtype: int64"
      ]
     },
     "execution_count": 9,
     "metadata": {},
     "output_type": "execute_result"
    }
   ],
   "source": [
    "data['nivel_edu'].value_counts()"
   ]
  },
  {
   "cell_type": "code",
   "execution_count": 17,
   "id": "57d98c45-c159-4aae-85e3-7c951cfe3768",
   "metadata": {},
   "outputs": [],
   "source": [
    "dc_eda={'<17': 'Menores de edad', '17-25': 'Jovenes ', '25-30': 'Adultos ',\n",
    "        '30-35':'Adultos ', '>35': 'Maduros '} \n",
    "dc_edu= {'PREPARATORIA': 'Educación Media', 'SECUNDARIA': 'Educación Básica',\n",
    "         'PRIMARIA': 'Educación Básica', 'NO CONTESTO': 'Educación Básica',\n",
    "         'EDUCACIÓN SUPERIOR': 'Educación superior',\n",
    "          'SIN ACCESO A LA EDUCACION FORMAL': 'Sin acceso'}"
   ]
  },
  {
   "cell_type": "code",
   "execution_count": 18,
   "id": "ddef1397-e5d3-41f9-b484-9c5798271673",
   "metadata": {},
   "outputs": [],
   "source": [
    "df= data.copy()"
   ]
  },
  {
   "cell_type": "code",
   "execution_count": 19,
   "id": "e8017287-4e50-4861-80d0-ced902ca0a07",
   "metadata": {},
   "outputs": [],
   "source": [
    "df['edadS']= df['edad_cat'].apply(lambda x: dc_eda[x])\n",
    "df['educacionS']= df['nivel_edu'].apply(lambda x: dc_edu[x])"
   ]
  },
  {
   "cell_type": "code",
   "execution_count": 20,
   "id": "e325f6ac-38f6-4c2b-9202-e68996bf6628",
   "metadata": {},
   "outputs": [
    {
     "data": {
      "text/html": [
       "<div>\n",
       "<style scoped>\n",
       "    .dataframe tbody tr th:only-of-type {\n",
       "        vertical-align: middle;\n",
       "    }\n",
       "\n",
       "    .dataframe tbody tr th {\n",
       "        vertical-align: top;\n",
       "    }\n",
       "\n",
       "    .dataframe thead th {\n",
       "        text-align: right;\n",
       "    }\n",
       "</style>\n",
       "<table border=\"1\" class=\"dataframe\">\n",
       "  <thead>\n",
       "    <tr style=\"text-align: right;\">\n",
       "      <th></th>\n",
       "      <th>anticonceptivo</th>\n",
       "      <th>nivel_edu</th>\n",
       "      <th>ocupacion</th>\n",
       "      <th>año</th>\n",
       "      <th>nile</th>\n",
       "      <th>edocivil_descripcion</th>\n",
       "      <th>alc_o_municipio</th>\n",
       "      <th>parentesco</th>\n",
       "      <th>religion</th>\n",
       "      <th>motiles</th>\n",
       "      <th>fsexual</th>\n",
       "      <th>embarazos</th>\n",
       "      <th>entidad</th>\n",
       "      <th>edad_cat</th>\n",
       "      <th>fsexual_cat</th>\n",
       "      <th>x</th>\n",
       "      <th>Segmento</th>\n",
       "      <th>edadS</th>\n",
       "      <th>educacionS</th>\n",
       "    </tr>\n",
       "  </thead>\n",
       "  <tbody>\n",
       "    <tr>\n",
       "      <th>0</th>\n",
       "      <td>NO CONTESTO</td>\n",
       "      <td>SIN ACCESO A LA EDUCACION FORMAL</td>\n",
       "      <td>EMPLEADA</td>\n",
       "      <td>2017</td>\n",
       "      <td>0</td>\n",
       "      <td>VIUDA</td>\n",
       "      <td>EL PAREDÓN</td>\n",
       "      <td>PAREJA</td>\n",
       "      <td>CATOLICA</td>\n",
       "      <td>INTERRUPCION VOLUNTARIA</td>\n",
       "      <td>45</td>\n",
       "      <td>7</td>\n",
       "      <td>OTROS</td>\n",
       "      <td>17-25</td>\n",
       "      <td>17-25</td>\n",
       "      <td>15.0</td>\n",
       "      <td>NaN</td>\n",
       "      <td>Jovenes</td>\n",
       "      <td>Sin acceso</td>\n",
       "    </tr>\n",
       "    <tr>\n",
       "      <th>1</th>\n",
       "      <td>NINGUNO</td>\n",
       "      <td>PREPARATORIA</td>\n",
       "      <td>NO PERCIBE INGRESO</td>\n",
       "      <td>2017</td>\n",
       "      <td>0</td>\n",
       "      <td>UNION LIBRE</td>\n",
       "      <td>IZTAPALAPA</td>\n",
       "      <td>PAREJA</td>\n",
       "      <td>CATOLICA</td>\n",
       "      <td>INTERRUPCION VOLUNTARIA</td>\n",
       "      <td>15</td>\n",
       "      <td>5</td>\n",
       "      <td>CIUDAD DE MEXICO</td>\n",
       "      <td>30-35</td>\n",
       "      <td>17-25</td>\n",
       "      <td>28.0</td>\n",
       "      <td>NaN</td>\n",
       "      <td>Adultos</td>\n",
       "      <td>Educación Media</td>\n",
       "    </tr>\n",
       "    <tr>\n",
       "      <th>2</th>\n",
       "      <td>NINGUNO</td>\n",
       "      <td>SECUNDARIA</td>\n",
       "      <td>EMPLEADA</td>\n",
       "      <td>2017</td>\n",
       "      <td>0</td>\n",
       "      <td>UNION LIBRE</td>\n",
       "      <td>MILPA ALTA</td>\n",
       "      <td>PAREJA</td>\n",
       "      <td>CATOLICA</td>\n",
       "      <td>INTERRUPCION VOLUNTARIA</td>\n",
       "      <td>45</td>\n",
       "      <td>5</td>\n",
       "      <td>CIUDAD DE MEXICO</td>\n",
       "      <td>&gt;35</td>\n",
       "      <td>&lt;17</td>\n",
       "      <td>16.0</td>\n",
       "      <td>NaN</td>\n",
       "      <td>Maduros</td>\n",
       "      <td>Educación Básica</td>\n",
       "    </tr>\n",
       "    <tr>\n",
       "      <th>3</th>\n",
       "      <td>LARGA DURACION</td>\n",
       "      <td>PREPARATORIA</td>\n",
       "      <td>NO PERCIBE INGRESO</td>\n",
       "      <td>2018</td>\n",
       "      <td>0</td>\n",
       "      <td>CASADA</td>\n",
       "      <td>GUSTAVO A. MADERO</td>\n",
       "      <td>No contesto</td>\n",
       "      <td>CATOLICA</td>\n",
       "      <td>INTERRUPCION VOLUNTARIA</td>\n",
       "      <td>16</td>\n",
       "      <td>4</td>\n",
       "      <td>CIUDAD DE MEXICO</td>\n",
       "      <td>17-25</td>\n",
       "      <td>17-25</td>\n",
       "      <td>19.0</td>\n",
       "      <td>Jóvenes con preparatoria</td>\n",
       "      <td>Jovenes</td>\n",
       "      <td>Educación Media</td>\n",
       "    </tr>\n",
       "    <tr>\n",
       "      <th>4</th>\n",
       "      <td>CONDON</td>\n",
       "      <td>SECUNDARIA</td>\n",
       "      <td>NO PERCIBE INGRESO</td>\n",
       "      <td>2016</td>\n",
       "      <td>0</td>\n",
       "      <td>UNION LIBRE</td>\n",
       "      <td>IZTAPALAPA</td>\n",
       "      <td>FAMILIAR MUJER</td>\n",
       "      <td>CATOLICA</td>\n",
       "      <td>INTERRUPCION VOLUNTARIA</td>\n",
       "      <td>17</td>\n",
       "      <td>4</td>\n",
       "      <td>CIUDAD DE MEXICO</td>\n",
       "      <td>17-25</td>\n",
       "      <td>17-25</td>\n",
       "      <td>16.0</td>\n",
       "      <td>NaN</td>\n",
       "      <td>Jovenes</td>\n",
       "      <td>Educación Básica</td>\n",
       "    </tr>\n",
       "  </tbody>\n",
       "</table>\n",
       "</div>"
      ],
      "text/plain": [
       "   anticonceptivo                         nivel_edu           ocupacion   año  \\\n",
       "0     NO CONTESTO  SIN ACCESO A LA EDUCACION FORMAL            EMPLEADA  2017   \n",
       "1         NINGUNO                      PREPARATORIA  NO PERCIBE INGRESO  2017   \n",
       "2         NINGUNO                        SECUNDARIA            EMPLEADA  2017   \n",
       "3  LARGA DURACION                      PREPARATORIA  NO PERCIBE INGRESO  2018   \n",
       "4          CONDON                        SECUNDARIA  NO PERCIBE INGRESO  2016   \n",
       "\n",
       "   nile edocivil_descripcion    alc_o_municipio      parentesco  religion  \\\n",
       "0     0                VIUDA         EL PAREDÓN          PAREJA  CATOLICA   \n",
       "1     0          UNION LIBRE         IZTAPALAPA          PAREJA  CATOLICA   \n",
       "2     0          UNION LIBRE         MILPA ALTA          PAREJA  CATOLICA   \n",
       "3     0               CASADA  GUSTAVO A. MADERO     No contesto  CATOLICA   \n",
       "4     0          UNION LIBRE         IZTAPALAPA  FAMILIAR MUJER  CATOLICA   \n",
       "\n",
       "                   motiles  fsexual  embarazos           entidad edad_cat  \\\n",
       "0  INTERRUPCION VOLUNTARIA       45          7             OTROS    17-25   \n",
       "1  INTERRUPCION VOLUNTARIA       15          5  CIUDAD DE MEXICO    30-35   \n",
       "2  INTERRUPCION VOLUNTARIA       45          5  CIUDAD DE MEXICO      >35   \n",
       "3  INTERRUPCION VOLUNTARIA       16          4  CIUDAD DE MEXICO    17-25   \n",
       "4  INTERRUPCION VOLUNTARIA       17          4  CIUDAD DE MEXICO    17-25   \n",
       "\n",
       "  fsexual_cat     x                  Segmento     edadS        educacionS  \n",
       "0       17-25  15.0                       NaN  Jovenes         Sin acceso  \n",
       "1       17-25  28.0                       NaN  Adultos    Educación Media  \n",
       "2         <17  16.0                       NaN  Maduros   Educación Básica  \n",
       "3       17-25  19.0  Jóvenes con preparatoria  Jovenes    Educación Media  \n",
       "4       17-25  16.0                       NaN  Jovenes   Educación Básica  "
      ]
     },
     "execution_count": 20,
     "metadata": {},
     "output_type": "execute_result"
    }
   ],
   "source": [
    "df.head()"
   ]
  },
  {
   "cell_type": "code",
   "execution_count": 21,
   "id": "40a7674b-dc8d-4da3-b74a-1e36f1496bd8",
   "metadata": {},
   "outputs": [],
   "source": [
    "df['Segmento']= df['edadS'] + df['educacionS']"
   ]
  },
  {
   "cell_type": "code",
   "execution_count": 25,
   "id": "e182d1bd-6d5a-4a96-8238-a2ab2c89ea3b",
   "metadata": {},
   "outputs": [
    {
     "data": {
      "text/plain": [
       "Jovenes Educación Media              20.761281\n",
       "Adultos Educación Media              18.471929\n",
       "Jovenes Educación Básica             16.272355\n",
       "Adultos Educación Básica             14.090125\n",
       "Jovenes Educación superior            8.441221\n",
       "Adultos Educación superior            7.367959\n",
       "Maduros Educación Media               5.077587\n",
       "Maduros Educación Básica              3.865577\n",
       "Maduros Educación superior            1.997572\n",
       "Menores de edadEducación Media        1.247717\n",
       "Menores de edadEducación Básica       1.027352\n",
       "Menores de edadEducación superior     0.528469\n",
       "Jovenes Sin acceso                    0.386660\n",
       "Adultos Sin acceso                    0.345851\n",
       "Maduros Sin acceso                    0.093859\n",
       "Menores de edadSin acceso             0.024485\n",
       "Name: Segmento, dtype: float64"
      ]
     },
     "execution_count": 25,
     "metadata": {},
     "output_type": "execute_result"
    }
   ],
   "source": [
    "df['Segmento'].value_counts()/ len(df)*100"
   ]
  },
  {
   "cell_type": "code",
   "execution_count": 29,
   "id": "f88aac3a-a98d-4c62-b6a1-165d4e64cccb",
   "metadata": {},
   "outputs": [],
   "source": [
    "df['Usa']= df['anticonceptivo'].apply(lambda x: 'No' if x in ['NINGUNO', 'NO CONTESTO'] else 'Si')"
   ]
  },
  {
   "cell_type": "markdown",
   "id": "f73079f6-fa43-4a81-88a1-bb04bbbf821d",
   "metadata": {},
   "source": [
    "## Segmento + Metodos antinconceptivos"
   ]
  },
  {
   "cell_type": "code",
   "execution_count": 31,
   "id": "dd6e667b-dc76-4f26-b85a-88a84137fe59",
   "metadata": {},
   "outputs": [
    {
     "data": {
      "text/plain": [
       "Segmento                           Usa\n",
       "Jovenes Educación Media            No     14.269682\n",
       "Adultos Educación Media            No     12.659790\n",
       "Jovenes Educación Básica           No     11.047858\n",
       "Adultos Educación Básica           No      9.582836\n",
       "Jovenes Educación Media            Si      6.491599\n",
       "Jovenes Educación superior         No      5.864169\n",
       "Adultos Educación Media            Si      5.812138\n",
       "Jovenes Educación Básica           Si      5.224497\n",
       "Adultos Educación superior         No      5.144921\n",
       "Adultos Educación Básica           Si      4.507289\n",
       "Maduros Educación Media            No      3.461574\n",
       "Maduros Educación Básica           No      2.619900\n",
       "Jovenes Educación superior         Si      2.577051\n",
       "Adultos Educación superior         Si      2.223038\n",
       "Maduros Educación Media            Si      1.616013\n",
       "Maduros Educación superior         No      1.376264\n",
       "Maduros Educación Básica           Si      1.245677\n",
       "Menores de edadEducación Media     No      0.840653\n",
       "Menores de edadEducación Básica    No      0.696804\n",
       "Maduros Educación superior         Si      0.621308\n",
       "Menores de edadEducación Media     Si      0.407064\n",
       "Menores de edadEducación superior  No      0.357074\n",
       "Menores de edadEducación Básica    Si      0.330548\n",
       "Jovenes Sin acceso                 No      0.258113\n",
       "Adultos Sin acceso                 No      0.239749\n",
       "Menores de edadEducación superior  Si      0.171395\n",
       "Jovenes Sin acceso                 Si      0.128547\n",
       "Adultos Sin acceso                 Si      0.106102\n",
       "Maduros Sin acceso                 No      0.068354\n",
       "                                   Si      0.025505\n",
       "Menores de edadSin acceso          No      0.014283\n",
       "                                   Si      0.010202\n",
       "dtype: float64"
      ]
     },
     "execution_count": 31,
     "metadata": {},
     "output_type": "execute_result"
    }
   ],
   "source": [
    "df[['Segmento','Usa']].value_counts()/ len(df)*100"
   ]
  },
  {
   "cell_type": "code",
   "execution_count": 32,
   "id": "ca7c15a2-509e-4eb4-bebc-ff73c1fa16b2",
   "metadata": {},
   "outputs": [
    {
     "data": {
      "text/plain": [
       "SOLTERA        54339\n",
       "UNION LIBRE    28522\n",
       "CASADA          9656\n",
       "DIVORCIADA      2243\n",
       "SEPARADA        1773\n",
       "NO CONTESTO     1211\n",
       "VIUDA            275\n",
       "Name: edocivil_descripcion, dtype: int64"
      ]
     },
     "execution_count": 32,
     "metadata": {},
     "output_type": "execute_result"
    }
   ],
   "source": [
    "df['edocivil_descripcion'].value_counts()"
   ]
  },
  {
   "cell_type": "markdown",
   "id": "064b94a4-cab1-44fb-92e1-1a7a3d468d09",
   "metadata": {},
   "source": [
    "## Segmento - Estado civil"
   ]
  },
  {
   "cell_type": "code",
   "execution_count": 33,
   "id": "90591fe8-27da-4edf-bbc9-9c046c93c990",
   "metadata": {},
   "outputs": [],
   "source": [
    "df['estadoCivS']= df['edocivil_descripcion'].apply(lambda x: 'Con pareja' if x in ['CASADA','UNION LIBRE'] else 'Soltera')"
   ]
  },
  {
   "cell_type": "code",
   "execution_count": 35,
   "id": "76304b8b-d95d-43e9-ab85-da784223198b",
   "metadata": {},
   "outputs": [
    {
     "data": {
      "text/plain": [
       "Segmento                           estadoCivS\n",
       "Jovenes Educación Media            Soltera       13.209684\n",
       "Adultos Educación Media            Soltera       11.766086\n",
       "Jovenes Educación Básica           Soltera        8.766668\n",
       "Adultos Educación Básica           Soltera        7.595466\n",
       "Jovenes Educación Media            Con pareja     7.551597\n",
       "Jovenes Educación Básica           Con pareja     7.505688\n",
       "Adultos Educación Media            Con pareja     6.705843\n",
       "Adultos Educación Básica           Con pareja     6.494659\n",
       "Jovenes Educación superior         Soltera        5.777451\n",
       "Adultos Educación superior         Soltera        5.075547\n",
       "Maduros Educación Media            Soltera        3.226925\n",
       "Jovenes Educación superior         Con pareja     2.663769\n",
       "Adultos Educación superior         Con pareja     2.292413\n",
       "Maduros Educación Básica           Soltera        2.126118\n",
       "Maduros Educación Media            Con pareja     1.850662\n",
       "Maduros Educación Básica           Con pareja     1.739459\n",
       "Maduros Educación superior         Soltera        1.368102\n",
       "Menores de edadEducación Media     Soltera        0.778421\n",
       "Maduros Educación superior         Con pareja     0.629470\n",
       "Menores de edadEducación Básica    Soltera        0.547853\n",
       "                                   Con pareja     0.479499\n",
       "Menores de edadEducación Media     Con pareja     0.469297\n",
       "Menores de edadEducación superior  Soltera        0.349932\n",
       "Jovenes Sin acceso                 Soltera        0.204042\n",
       "Adultos Sin acceso                 Soltera        0.191800\n",
       "Jovenes Sin acceso                 Con pareja     0.182618\n",
       "Menores de edadEducación superior  Con pareja     0.178537\n",
       "Adultos Sin acceso                 Con pareja     0.154052\n",
       "Maduros Sin acceso                 Soltera        0.051011\n",
       "                                   Con pareja     0.042849\n",
       "Menores de edadSin acceso          Soltera        0.015303\n",
       "                                   Con pareja     0.009182\n",
       "dtype: float64"
      ]
     },
     "execution_count": 35,
     "metadata": {},
     "output_type": "execute_result"
    }
   ],
   "source": [
    "df[['Segmento','estadoCivS']].value_counts()/ len(df)*100"
   ]
  },
  {
   "cell_type": "markdown",
   "id": "72ab35cc-fa77-43aa-9c16-3cb55414938b",
   "metadata": {},
   "source": []
  },
  {
   "cell_type": "code",
   "execution_count": 36,
   "id": "c48f7830-c266-40e4-af8b-3d1d60a4917b",
   "metadata": {},
   "outputs": [
    {
     "data": {
      "text/plain": [
       "No contesto                  54192\n",
       "PAREJA                       19239\n",
       "FAMILIAR MUJER               11425\n",
       "AMIGO                         3673\n",
       "AMIGA                         3156\n",
       "FAMILIAR SIN ESPECIFICAR      2889\n",
       "OTRA                          1679\n",
       "FAMILIAR HOMBRE               1401\n",
       "CONOCIDO                        95\n",
       "TUTOR O RESPONSABLE LEGAL       77\n",
       "RELACION LABORAL                48\n",
       "EX-PAREJA                       48\n",
       "CONOCIDA                        44\n",
       "PERSONA CERCANA MUJER           22\n",
       "PERSONA CERCANA                 19\n",
       "PERSONA CERCANA HOMBRE          12\n",
       "Name: parentesco, dtype: int64"
      ]
     },
     "execution_count": 36,
     "metadata": {},
     "output_type": "execute_result"
    }
   ],
   "source": [
    "df['parentesco'].value_counts()"
   ]
  },
  {
   "cell_type": "code",
   "execution_count": 37,
   "id": "239a3a58-a3db-41a8-8a5a-79072bd0c8aa",
   "metadata": {},
   "outputs": [],
   "source": [
    "df['acompañante'] = df['parentesco'].apply(lambda x: 'Sin acompañante' if x=='No contesto' else 'Con acompañante')"
   ]
  },
  {
   "cell_type": "code",
   "execution_count": 40,
   "id": "15051879-1243-48d2-9232-95abb59bf935",
   "metadata": {},
   "outputs": [
    {
     "data": {
      "text/plain": [
       "Segmento                           acompañante    \n",
       "Jovenes Educación Media            Sin acompañante    11.663045\n",
       "Adultos Educación Media            Sin acompañante    10.189861\n",
       "Jovenes Educación Media            Con acompañante     9.098236\n",
       "Jovenes Educación Básica           Sin acompañante     8.327977\n",
       "Adultos Educación Media            Con acompañante     8.282068\n",
       "Jovenes Educación Básica           Con acompañante     7.944378\n",
       "Adultos Educación Básica           Sin acompañante     7.154735\n",
       "                                   Con acompañante     6.935390\n",
       "Jovenes Educación superior         Sin acompañante     5.341821\n",
       "Adultos Educación superior         Sin acompañante     4.564421\n",
       "Jovenes Educación superior         Con acompañante     3.099399\n",
       "Adultos Educación superior         Con acompañante     2.803538\n",
       "Maduros Educación Media            Sin acompañante     2.767831\n",
       "                                   Con acompañante     2.309756\n",
       "Maduros Educación Básica           Sin acompañante     1.940440\n",
       "                                   Con acompañante     1.925137\n",
       "Maduros Educación superior         Sin acompañante     1.223232\n",
       "                                   Con acompañante     0.774340\n",
       "Menores de edadEducación Media     Sin acompañante     0.669258\n",
       "                                   Con acompañante     0.578459\n",
       "Menores de edadEducación Básica    Con acompañante     0.529489\n",
       "                                   Sin acompañante     0.497863\n",
       "Menores de edadEducación superior  Sin acompañante     0.326467\n",
       "Jovenes Sin acceso                 Sin acompañante     0.286679\n",
       "Adultos Sin acceso                 Sin acompañante     0.250972\n",
       "Menores de edadEducación superior  Con acompañante     0.202002\n",
       "Jovenes Sin acceso                 Con acompañante     0.099981\n",
       "Adultos Sin acceso                 Con acompañante     0.094880\n",
       "Maduros Sin acceso                 Sin acompañante     0.065293\n",
       "                                   Con acompañante     0.028566\n",
       "Menores de edadSin acceso          Sin acompañante     0.017344\n",
       "                                   Con acompañante     0.007141\n",
       "dtype: float64"
      ]
     },
     "execution_count": 40,
     "metadata": {},
     "output_type": "execute_result"
    }
   ],
   "source": [
    "df[['Segmento','acompañante']].value_counts()/ len(df)*100"
   ]
  },
  {
   "cell_type": "code",
   "execution_count": null,
   "id": "ebc9531a-e3ec-4447-a00e-d36fb41d119e",
   "metadata": {},
   "outputs": [],
   "source": []
  }
 ],
 "metadata": {
  "kernelspec": {
   "display_name": "cdenv",
   "language": "python",
   "name": "cdenv"
  },
  "language_info": {
   "codemirror_mode": {
    "name": "ipython",
    "version": 3
   },
   "file_extension": ".py",
   "mimetype": "text/x-python",
   "name": "python",
   "nbconvert_exporter": "python",
   "pygments_lexer": "ipython3",
   "version": "3.10.6"
  }
 },
 "nbformat": 4,
 "nbformat_minor": 5
}
