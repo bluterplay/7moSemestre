{
 "cells": [
  {
   "cell_type": "markdown",
   "id": "4e30e9cd-a966-4579-9aba-8f4e43ae1b5c",
   "metadata": {},
   "source": [
    "# Modulos"
   ]
  },
  {
   "cell_type": "code",
   "execution_count": 1,
   "id": "82747845",
   "metadata": {},
   "outputs": [],
   "source": [
    "#importamos módulos\n",
    "import pandas as pd\n",
    "from calendar import isleap"
   ]
  },
  {
   "cell_type": "markdown",
   "id": "b6b1f5f2-6bab-413d-a674-c4e06fcc15ae",
   "metadata": {},
   "source": [
    "# Funciones"
   ]
  },
  {
   "cell_type": "markdown",
   "id": "87795130-8663-4cd2-922c-ed4de582ec01",
   "metadata": {},
   "source": [
    "## Lectura de datos"
   ]
  },
  {
   "cell_type": "markdown",
   "id": "efd2b085-d1a4-44b8-a2c8-3c5805ab66fa",
   "metadata": {},
   "source": [
    "Faltan las validaciones de fechas"
   ]
  },
  {
   "cell_type": "code",
   "execution_count": 2,
   "id": "09c3d72f",
   "metadata": {
    "tags": []
   },
   "outputs": [],
   "source": [
    "def leer_datos():\n",
    "    cantidad_inicial=input('Cantidad inicial')\n",
    "    cantidad_inicial=float(cantidad_inicial)\n",
    "    dia_i=input('Dia incial ')\n",
    "    mes_i=input('Mes incial ')\n",
    "    anio_i=input('Año incial ')\n",
    "    dia_f=input('Dia final ')\n",
    "    mes_f=input('Mes final ')\n",
    "    anio_f=input('Anio incial ')\n",
    "    return cantidad_inicial,dia_i,mes_i,anio_i,dia_f,mes_f,anio_f\n",
    "    '''print('¿Deseas modificar algún dato?')\n",
    "    modificar=input().lower()\n",
    "    if modificar=='sí' or modificar=='si':\n",
    "        print('¿Qué dato deseas modificar?')\n",
    "        print('Cantidad inicial 0 ')\n",
    "        print('Dia incial 1 ')\n",
    "        print('Mes incial 2 ')\n",
    "        print('Año incial 4 ')\n",
    "        print('Dia final 5 ')\n",
    "        print('Mes final 6 ')\n",
    "        print('Anio incial 7 ')'''"
   ]
  },
  {
   "cell_type": "markdown",
   "id": "37843b2a-d851-49d6-9789-baadc28c7123",
   "metadata": {},
   "source": [
    "## Conversión de suma asegurada a Udis"
   ]
  },
  {
   "cell_type": "code",
   "execution_count": 12,
   "id": "f1f2e98e",
   "metadata": {},
   "outputs": [],
   "source": [
    "def cambio_udis(anio_i,mes_i,dia_i,anio_f,mes_f,dia_f,udis,cantidad_inicial):\n",
    "    \n",
    "    fecha_udi_i=anio_i+'-'+mes_i+'-'+dia_i\n",
    "    fecha_udi_f=anio_f+'-'+mes_f+'-'+dia_f\n",
    "    print(f'Valor UDIS en {fecha_udi_i}:',float(udis[udis.Fecha==fecha_udi_i]['Valor de UDIS']))\n",
    "    print(f'Valor UDIS en {fecha_udi_f}:',float(udis[udis.Fecha==fecha_udi_f]['Valor de UDIS']))\n",
    "    # Suma Asegurada en pesos Final (la que se suma) \n",
    "    SA_pesos_f = (float(udis[udis.Fecha==fecha_udi_f]['Valor de UDIS'])*cantidad_inicial)/float(udis[udis.Fecha==fecha_udi_i]['Valor de UDIS'])\n",
    "    # Suma Asegurada Inicial (con la que se sacan los moratorios)\n",
    "    SA_udis_i = (float(cantidad_inicial)/float(udis[udis.Fecha==fecha_udi_i]['Valor de UDIS']))\n",
    "    valor_udis_f = float(udis[udis.Fecha==fecha_udi_f]['Valor de UDIS'])\n",
    "    return SA_pesos_f, SA_udis_i, valor_udis_f"
   ]
  },
  {
   "cell_type": "markdown",
   "id": "dc80fe91-e05d-4898-a98c-31a8b70f23a8",
   "metadata": {},
   "source": [
    "## Días trasncurridos en cada mes"
   ]
  },
  {
   "cell_type": "code",
   "execution_count": 4,
   "id": "9e6e2fe5",
   "metadata": {},
   "outputs": [],
   "source": [
    "def get_days(aux, dia_i, dia_f):\n",
    "    dc_dias= {1: 31, 2:28, 3:31, 4: 30, 5:31, 6:30,\n",
    "              7: 31, 8: 31, 9:30, 10: 31, 11:30, 12:31}\n",
    "    contador=0\n",
    "    ls_dias= []\n",
    "    size=len(aux) -1\n",
    "    for index, row in aux.iterrows():\n",
    "        #print(dc_dias[row['Título'].month])\n",
    "        if(contador==0):\n",
    "            dias= dc_dias[row['Título'].month]-dia_i +1\n",
    "        elif(contador==size):\n",
    "            dias= dia_f\n",
    "        else:\n",
    "            dias= dc_dias[row['Título'].month]\n",
    "        contador+=1\n",
    "        if(row['Título'].month==2 and isleap(row['Título'].year)):\n",
    "            dias+=1\n",
    "        ls_dias.append(dias)\n",
    "    aux[\"Dias\"]= ls_dias\n",
    "    return aux"
   ]
  },
  {
   "cell_type": "markdown",
   "id": "4c4cfa28-7950-4b46-a7c6-bbce74a24cd7",
   "metadata": {},
   "source": [
    "## Calculo intereses moratorios"
   ]
  },
  {
   "cell_type": "code",
   "execution_count": 5,
   "id": "848be6e5",
   "metadata": {},
   "outputs": [],
   "source": [
    "def calculateInterests(aux,udis_SA,dia_i,dia_f):\n",
    "    tabla=get_days(aux, int(dia_i),int(dia_f))\n",
    "    tabla[\"Tasa anual\"]= tabla[\"CCP_UDIS\"].map(lambda x: (x*1.25)/100)\n",
    "    tabla[\"Tasa diaria\"]= tabla[\"Tasa anual\"].map(lambda x: x/365)\n",
    "    ls_interes= []\n",
    "    for _,row in tabla.iterrows():\n",
    "        tasa_diaria= row[\"Tasa diaria\"]\n",
    "        dias= row[\"Dias\"]\n",
    "        ls_interes.append(udis_SA*dias*tasa_diaria)\n",
    "    tabla[\"Intereses moratorios\"]= ls_interes\n",
    "    \n",
    "    return tabla"
   ]
  },
  {
   "cell_type": "markdown",
   "id": "28f3b5af-a6b2-452d-a6a9-2ec889beeefa",
   "metadata": {},
   "source": [
    "# Calculadora de indemnización"
   ]
  },
  {
   "cell_type": "code",
   "execution_count": 14,
   "id": "90fce5be-e0a0-4c29-b67b-de6559ebac00",
   "metadata": {},
   "outputs": [],
   "source": [
    "def calculadora():\n",
    "    #importar datos\n",
    "    data_cap=pd.read_excel('Costo_Captacion_mensual.xlsx')\n",
    "    udis=pd.read_excel('UDIS_Diario.xlsx')\n",
    "    \n",
    "    cantidad_inicial,dia_i,mes_i,anio_i,dia_f,mes_f,anio_f=leer_datos()\n",
    "    fecha_i=anio_i+'-'+mes_i+'-'+dia_i\n",
    "    fecha_f=anio_f+'-'+mes_f+'-'+dia_f\n",
    "    \n",
    "    SA_pesos_f, SA_udis_i, valor_udis_f = cambio_udis(anio_i,mes_i,dia_i,anio_f,mes_f,dia_f,udis,cantidad_inicial)\n",
    "    fecha_aux = anio_i+'-'+mes_i\n",
    "    aux=data_cap[(data_cap.Título >=fecha_aux) & (data_cap.Título < fecha_f)].copy()\n",
    "    tabla=calculateInterests(aux,SA_udis_i,dia_i,dia_f)\n",
    "    intereses= tabla[\"Intereses moratorios\"].sum()*valor_udis_f \n",
    "    rendimiento_udis= SA_pesos_f-cantidad_inicial\n",
    "    Total=intereses+ SA_pesos_f\n",
    "    print('-------------------------------------------------------')\n",
    "    print(\"Segun lo previsto en la ley tal... los pagos correspondientes son: \")\n",
    "    print(f\"a) Deuda inicial = ${cantidad_inicial}\")\n",
    "    print(f\"b) Rendimiento de la Udis = ${rendimiento_udis}\")\n",
    "    print(f\"c) Intereses moratorios= ${intereses}\")\n",
    "    print(f\"Total =${Total}\")\n",
    "    "
   ]
  },
  {
   "cell_type": "code",
   "execution_count": 6,
   "id": "5d4bc644",
   "metadata": {},
   "outputs": [],
   "source": [
    "#importar datos\n",
    "data_cap=pd.read_excel('Costo_Captacion_mensual.xlsx')\n",
    "udis=pd.read_excel('UDIS_Diario.xlsx')"
   ]
  },
  {
   "cell_type": "markdown",
   "id": "92f075b8-6944-49dd-99ff-83022e6d2690",
   "metadata": {},
   "source": [
    "# Ejemplo de uso"
   ]
  },
  {
   "cell_type": "code",
   "execution_count": 15,
   "id": "c84e6117-40cb-4dd3-a23a-f5952b240b98",
   "metadata": {},
   "outputs": [
    {
     "name": "stdin",
     "output_type": "stream",
     "text": [
      "Cantidad inicial 4000000\n",
      "Dia incial  20\n",
      "Mes incial  02\n",
      "Año incial  2018\n",
      "Dia final  17\n",
      "Mes final  07\n",
      "Anio incial  2022\n"
     ]
    },
    {
     "name": "stdout",
     "output_type": "stream",
     "text": [
      "Valor UDIS en 2018-02-20: 5.993613\n",
      "Valor UDIS en 2022-07-17: 7.399308\n",
      "-------------------------------------------------------\n",
      "Segun lo previsto en la ley tal... los pagos correspondientes son: \n",
      "a) Deuda inicial = $4000000.0\n",
      "b) Rendimiento de la Udis = $938128.6379350824\n",
      "c) Intereses moratorios= $1209425.4958677483\n",
      "Total =$6147554.133802831\n"
     ]
    }
   ],
   "source": [
    "calculadora()"
   ]
  }
 ],
 "metadata": {
  "kernelspec": {
   "display_name": "Python 3 (ipykernel)",
   "language": "python",
   "name": "python3"
  },
  "language_info": {
   "codemirror_mode": {
    "name": "ipython",
    "version": 3
   },
   "file_extension": ".py",
   "mimetype": "text/x-python",
   "name": "python",
   "nbconvert_exporter": "python",
   "pygments_lexer": "ipython3",
   "version": "3.8.10"
  }
 },
 "nbformat": 4,
 "nbformat_minor": 5
}
