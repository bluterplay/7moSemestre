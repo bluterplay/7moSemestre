{
 "cells": [
  {
   "cell_type": "code",
   "execution_count": 1,
   "id": "77c92560-f48f-45c2-999a-30bad3692e83",
   "metadata": {},
   "outputs": [],
   "source": [
    "import pandas as pd\n",
    "from calendar import isleap"
   ]
  },
  {
   "cell_type": "code",
   "execution_count": 2,
   "id": "ba8fdbe5-9e8c-47f3-adcb-55f94dd919bf",
   "metadata": {},
   "outputs": [],
   "source": [
    "data_cap= pd.read_excel(\"Costo_Captacion_mensual.xlsx\")"
   ]
  },
  {
   "cell_type": "code",
   "execution_count": 3,
   "id": "193ec4a1-6317-45b6-aabc-88f7d26e91db",
   "metadata": {},
   "outputs": [],
   "source": [
    "data_cap.set_index(\"Título\", inplace= True)"
   ]
  },
  {
   "cell_type": "code",
   "execution_count": 5,
   "id": "38667e94-e0b0-4aca-89fe-b346dd04dfa9",
   "metadata": {},
   "outputs": [],
   "source": [
    "data_udis= pd.read_excel(\"UDIS_Diario.xlsx\")"
   ]
  },
  {
   "cell_type": "code",
   "execution_count": 6,
   "id": "6f0f5710-eca1-42c4-89d0-6f8572ec000d",
   "metadata": {},
   "outputs": [],
   "source": [
    "data_udis.set_index(\"Fecha\", inplace= True)"
   ]
  },
  {
   "cell_type": "code",
   "execution_count": 7,
   "id": "468112da-7929-4947-a71d-004e3c96bb29",
   "metadata": {},
   "outputs": [],
   "source": [
    "dc_dias= {\"1\": 31, \"2\":28, \"3\":31, \"4\": 30, \"5\":31, \"6\":30,\n",
    "          \"7\": 31, \"8\": 31, \"9\":30, \"10\": 31, \"11\":30, \"12\":31}"
   ]
  },
  {
   "cell_type": "code",
   "execution_count": 8,
   "id": "8fb0b50d-7518-4de2-9efa-55f3932e6119",
   "metadata": {},
   "outputs": [],
   "source": [
    "aux=data_cap[(data_cap.index >= \"2020-01-01\") & (data_cap.index < \"2022-01-20\")].copy()"
   ]
  },
  {
   "cell_type": "code",
   "execution_count": 9,
   "id": "daa10d5f-513d-406f-b00b-7154f0b8ec2a",
   "metadata": {},
   "outputs": [],
   "source": [
    "def get_days(aux, dia_i, dia_f):\n",
    "    contador=0\n",
    "    ls_dias= []\n",
    "    size=len(aux) -1\n",
    "    for index, row in aux.iterrows():\n",
    "        if(contador==0):\n",
    "            dias= dc_dias[str(index.month)]-dia_i +1\n",
    "        elif(contador==size):\n",
    "            dias= dia_f\n",
    "        else:\n",
    "            dias= dc_dias[str(index.month)]\n",
    "        contador+=1\n",
    "        if(index.month==2 and isleap(index.year)):\n",
    "            dias+=1\n",
    "        ls_dias.append(dias)\n",
    "    aux[\"Dias\"]= ls_dias\n",
    "    return aux"
   ]
  },
  {
   "cell_type": "code",
   "execution_count": 10,
   "id": "d977b21a-f0b2-4f13-ba55-3a01e3e5a85b",
   "metadata": {},
   "outputs": [],
   "source": [
    "tabla=get_days(aux, 1,21)"
   ]
  },
  {
   "cell_type": "code",
   "execution_count": 21,
   "id": "281585c8-ddb3-471f-82e3-89c831249ac5",
   "metadata": {},
   "outputs": [],
   "source": [
    "def calculateInterests(aux,udis_SA):\n",
    "    tabla[\"Tasa anual\"]= tabla[\"CCP_UDIS\"].map(lambda x: (x*1.25)/100)\n",
    "    tabla[\"Tasa diaria\"]= tabla[\"Tasa anual\"].map(lambda x: x/365)\n",
    "    ls_interes= []\n",
    "    for _,row in tabla.iterrows():\n",
    "        tasa_diaria= row[\"Tasa diaria\"]\n",
    "        dias= row[\"Dias\"]\n",
    "        ls_interes.append(udis_SA*dias*tasa_diaria)\n",
    "    tabla[\"Intereses moratorios\"]= ls_interes\n",
    "    \n",
    "    return tabla"
   ]
  },
  {
   "cell_type": "code",
   "execution_count": 23,
   "id": "8137eb46-cd16-4570-ac44-a85dff559d2a",
   "metadata": {},
   "outputs": [],
   "source": [
    "tabla=calculateInterests(aux,600000)"
   ]
  },
  {
   "cell_type": "code",
   "execution_count": 24,
   "id": "dee42f42-8b83-42e3-824a-d31b4b2781f7",
   "metadata": {},
   "outputs": [
    {
     "data": {
      "text/plain": [
       "69800.75342465754"
      ]
     },
     "execution_count": 24,
     "metadata": {},
     "output_type": "execute_result"
    }
   ],
   "source": [
    "tabla[\"Intereses moratorios\"].sum()"
   ]
  },
  {
   "cell_type": "code",
   "execution_count": null,
   "id": "1b5f6a5a-1626-460d-b0e4-549c407a6dcb",
   "metadata": {},
   "outputs": [],
   "source": []
  }
 ],
 "metadata": {
  "kernelspec": {
   "display_name": "Python 3 (ipykernel)",
   "language": "python",
   "name": "python3"
  },
  "language_info": {
   "codemirror_mode": {
    "name": "ipython",
    "version": 3
   },
   "file_extension": ".py",
   "mimetype": "text/x-python",
   "name": "python",
   "nbconvert_exporter": "python",
   "pygments_lexer": "ipython3",
   "version": "3.8.10"
  }
 },
 "nbformat": 4,
 "nbformat_minor": 5
}
