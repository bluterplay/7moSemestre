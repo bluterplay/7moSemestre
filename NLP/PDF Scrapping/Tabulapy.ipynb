{
 "cells": [
  {
   "cell_type": "markdown",
   "id": "e0d4f0e0-5615-42bb-8ecb-5ebc3abe04bf",
   "metadata": {},
   "source": [
    "# Pdf scrapper"
   ]
  },
  {
   "cell_type": "markdown",
   "id": "9316d7a4-794c-4729-b354-98572bffefc4",
   "metadata": {},
   "source": [
    "## Modulos"
   ]
  },
  {
   "cell_type": "code",
   "execution_count": 6,
   "id": "37fad008-e055-458e-87b8-904f8906f58c",
   "metadata": {},
   "outputs": [],
   "source": [
    "import tabula as tb\n",
    "import pandas as pd\n",
    "import re"
   ]
  },
  {
   "cell_type": "markdown",
   "id": "d0af992b-9e28-4b5c-94d0-aa2fe74da310",
   "metadata": {},
   "source": [
    "## Lectura pdf"
   ]
  },
  {
   "cell_type": "code",
   "execution_count": null,
   "id": "cdeb3e60-b5a2-4400-8506-c5c3fa345d8b",
   "metadata": {},
   "outputs": [],
   "source": [
    "file = 'Tabla1.pdf'\n",
    "data = tb.read_pdf(file, area = (269, 0, 350, 800))"
   ]
  },
  {
   "cell_type": "code",
   "execution_count": 30,
   "id": "ed0c8c34-06f2-4e46-91fc-56ec8ce57b55",
   "metadata": {},
   "outputs": [
    {
     "data": {
      "text/html": [
       "<div>\n",
       "<style scoped>\n",
       "    .dataframe tbody tr th:only-of-type {\n",
       "        vertical-align: middle;\n",
       "    }\n",
       "\n",
       "    .dataframe tbody tr th {\n",
       "        vertical-align: top;\n",
       "    }\n",
       "\n",
       "    .dataframe thead th {\n",
       "        text-align: right;\n",
       "    }\n",
       "</style>\n",
       "<table border=\"1\" class=\"dataframe\">\n",
       "  <thead>\n",
       "    <tr style=\"text-align: right;\">\n",
       "      <th></th>\n",
       "      <th>Model</th>\n",
       "      <th>Semantic-Syntactic Word Relationship test set</th>\n",
       "      <th>MSR Word Relatedness</th>\n",
       "    </tr>\n",
       "  </thead>\n",
       "  <tbody>\n",
       "    <tr>\n",
       "      <th>0</th>\n",
       "      <td>Architecture</td>\n",
       "      <td>Semantic Accuracy [%] Syntactic Accuracy [%]</td>\n",
       "      <td>Test Set [20]</td>\n",
       "    </tr>\n",
       "    <tr>\n",
       "      <th>1</th>\n",
       "      <td>RNNLM</td>\n",
       "      <td>9 36</td>\n",
       "      <td>35</td>\n",
       "    </tr>\n",
       "    <tr>\n",
       "      <th>2</th>\n",
       "      <td>NNLM</td>\n",
       "      <td>23 53</td>\n",
       "      <td>47</td>\n",
       "    </tr>\n",
       "    <tr>\n",
       "      <th>3</th>\n",
       "      <td>CBOW</td>\n",
       "      <td>24 64</td>\n",
       "      <td>61</td>\n",
       "    </tr>\n",
       "    <tr>\n",
       "      <th>4</th>\n",
       "      <td>Skip-gram</td>\n",
       "      <td>55 59</td>\n",
       "      <td>56</td>\n",
       "    </tr>\n",
       "  </tbody>\n",
       "</table>\n",
       "</div>"
      ],
      "text/plain": [
       "          Model Semantic-Syntactic Word Relationship test set  \\\n",
       "0  Architecture  Semantic Accuracy [%] Syntactic Accuracy [%]   \n",
       "1         RNNLM                                          9 36   \n",
       "2          NNLM                                         23 53   \n",
       "3          CBOW                                         24 64   \n",
       "4     Skip-gram                                         55 59   \n",
       "\n",
       "  MSR Word Relatedness  \n",
       "0        Test Set [20]  \n",
       "1                   35  \n",
       "2                   47  \n",
       "3                   61  \n",
       "4                   56  "
      ]
     },
     "execution_count": 30,
     "metadata": {},
     "output_type": "execute_result"
    }
   ],
   "source": [
    "data[0]"
   ]
  },
  {
   "cell_type": "markdown",
   "id": "51bbbd3b-73b9-4799-96ae-dd1d77b64fba",
   "metadata": {},
   "source": [
    "## Volverlo un dataFrame"
   ]
  },
  {
   "cell_type": "markdown",
   "id": "b09b6683-6637-45f7-86b8-0d1064bf2f9b",
   "metadata": {},
   "source": [
    "### Identificando solo"
   ]
  },
  {
   "cell_type": "code",
   "execution_count": null,
   "id": "2ee55398-6148-4ae9-8a44-2411c46a951f",
   "metadata": {},
   "outputs": [],
   "source": [
    "df_lattice= tb.read_pdf(file, pages = '1', area = (269, 0, 350, 800), pandas_options={'header': None}, lattice=True)[0]"
   ]
  },
  {
   "cell_type": "code",
   "execution_count": 60,
   "id": "b0b7dd1f-64a9-431e-b6bb-0dca2b608716",
   "metadata": {},
   "outputs": [
    {
     "data": {
      "text/html": [
       "<div>\n",
       "<style scoped>\n",
       "    .dataframe tbody tr th:only-of-type {\n",
       "        vertical-align: middle;\n",
       "    }\n",
       "\n",
       "    .dataframe tbody tr th {\n",
       "        vertical-align: top;\n",
       "    }\n",
       "\n",
       "    .dataframe thead th {\n",
       "        text-align: right;\n",
       "    }\n",
       "</style>\n",
       "<table border=\"1\" class=\"dataframe\">\n",
       "  <thead>\n",
       "    <tr style=\"text-align: right;\">\n",
       "      <th></th>\n",
       "      <th>0</th>\n",
       "      <th>1</th>\n",
       "      <th>2</th>\n",
       "      <th>3</th>\n",
       "    </tr>\n",
       "  </thead>\n",
       "  <tbody>\n",
       "    <tr>\n",
       "      <th>0</th>\n",
       "      <td>Model\\rArchitecture</td>\n",
       "      <td>Semantic-Syntactic Word Relationship test set</td>\n",
       "      <td>MSR Word Relatedness\\rTest Set [20]</td>\n",
       "      <td>NaN</td>\n",
       "    </tr>\n",
       "    <tr>\n",
       "      <th>1</th>\n",
       "      <td>NaN</td>\n",
       "      <td>Semantic Accuracy [%]</td>\n",
       "      <td>Syntactic Accuracy [%]</td>\n",
       "      <td>NaN</td>\n",
       "    </tr>\n",
       "    <tr>\n",
       "      <th>2</th>\n",
       "      <td>RNNLM\\rNNLM\\rCBOW\\rSkip-gram</td>\n",
       "      <td>9\\r23\\r24\\r55</td>\n",
       "      <td>36\\r53\\r64\\r59</td>\n",
       "      <td>35\\r47\\r61\\r56</td>\n",
       "    </tr>\n",
       "  </tbody>\n",
       "</table>\n",
       "</div>"
      ],
      "text/plain": [
       "                              0  \\\n",
       "0           Model\\rArchitecture   \n",
       "1                           NaN   \n",
       "2  RNNLM\\rNNLM\\rCBOW\\rSkip-gram   \n",
       "\n",
       "                                               1  \\\n",
       "0  Semantic-Syntactic Word Relationship test set   \n",
       "1                          Semantic Accuracy [%]   \n",
       "2                                  9\\r23\\r24\\r55   \n",
       "\n",
       "                                     2               3  \n",
       "0  MSR Word Relatedness\\rTest Set [20]             NaN  \n",
       "1               Syntactic Accuracy [%]             NaN  \n",
       "2                       36\\r53\\r64\\r59  35\\r47\\r61\\r56  "
      ]
     },
     "execution_count": 60,
     "metadata": {},
     "output_type": "execute_result"
    }
   ],
   "source": [
    "df_lattice"
   ]
  },
  {
   "cell_type": "markdown",
   "id": "3a9cb7a6-ae7a-4976-b125-477640b435a2",
   "metadata": {},
   "source": [
    "### Especificando columnas"
   ]
  },
  {
   "cell_type": "code",
   "execution_count": null,
   "id": "7626b507-6002-40cd-9a67-65f949c3ba44",
   "metadata": {},
   "outputs": [],
   "source": [
    "df= tb.read_pdf(file, pages = '1', area = (269, 0, 350, 800), columns = [183, 280, 400, 600], pandas_options={'header': None}, stream=True)[0]"
   ]
  },
  {
   "cell_type": "code",
   "execution_count": 71,
   "id": "9a24c579-a2a2-49f9-ba27-1f29e1d5aded",
   "metadata": {},
   "outputs": [
    {
     "data": {
      "text/html": [
       "<div>\n",
       "<style scoped>\n",
       "    .dataframe tbody tr th:only-of-type {\n",
       "        vertical-align: middle;\n",
       "    }\n",
       "\n",
       "    .dataframe tbody tr th {\n",
       "        vertical-align: top;\n",
       "    }\n",
       "\n",
       "    .dataframe thead th {\n",
       "        text-align: right;\n",
       "    }\n",
       "</style>\n",
       "<table border=\"1\" class=\"dataframe\">\n",
       "  <thead>\n",
       "    <tr style=\"text-align: right;\">\n",
       "      <th></th>\n",
       "      <th>0</th>\n",
       "      <th>1</th>\n",
       "      <th>2</th>\n",
       "      <th>3</th>\n",
       "    </tr>\n",
       "  </thead>\n",
       "  <tbody>\n",
       "    <tr>\n",
       "      <th>0</th>\n",
       "      <td>Model</td>\n",
       "      <td>Semantic-Syntactic W</td>\n",
       "      <td>ord Relationship test set M</td>\n",
       "      <td>SR Word Relatedness</td>\n",
       "    </tr>\n",
       "    <tr>\n",
       "      <th>1</th>\n",
       "      <td>Architecture</td>\n",
       "      <td>Semantic Accuracy [%]</td>\n",
       "      <td>Syntactic Accuracy [%]</td>\n",
       "      <td>Test Set [20]</td>\n",
       "    </tr>\n",
       "    <tr>\n",
       "      <th>2</th>\n",
       "      <td>RNNLM</td>\n",
       "      <td>9</td>\n",
       "      <td>36</td>\n",
       "      <td>35</td>\n",
       "    </tr>\n",
       "    <tr>\n",
       "      <th>3</th>\n",
       "      <td>NNLM</td>\n",
       "      <td>23</td>\n",
       "      <td>53</td>\n",
       "      <td>47</td>\n",
       "    </tr>\n",
       "    <tr>\n",
       "      <th>4</th>\n",
       "      <td>CBOW</td>\n",
       "      <td>24</td>\n",
       "      <td>64</td>\n",
       "      <td>61</td>\n",
       "    </tr>\n",
       "    <tr>\n",
       "      <th>5</th>\n",
       "      <td>Skip-gram</td>\n",
       "      <td>55</td>\n",
       "      <td>59</td>\n",
       "      <td>56</td>\n",
       "    </tr>\n",
       "  </tbody>\n",
       "</table>\n",
       "</div>"
      ],
      "text/plain": [
       "              0                      1                            2  \\\n",
       "0         Model   Semantic-Syntactic W  ord Relationship test set M   \n",
       "1  Architecture  Semantic Accuracy [%]       Syntactic Accuracy [%]   \n",
       "2         RNNLM                      9                           36   \n",
       "3          NNLM                     23                           53   \n",
       "4          CBOW                     24                           64   \n",
       "5     Skip-gram                     55                           59   \n",
       "\n",
       "                     3  \n",
       "0  SR Word Relatedness  \n",
       "1        Test Set [20]  \n",
       "2                   35  \n",
       "3                   47  \n",
       "4                   61  \n",
       "5                   56  "
      ]
     },
     "execution_count": 71,
     "metadata": {},
     "output_type": "execute_result"
    }
   ],
   "source": [
    "df"
   ]
  },
  {
   "cell_type": "code",
   "execution_count": 72,
   "id": "0cecdafc-79f2-465e-8462-37a0ca7a9bc7",
   "metadata": {},
   "outputs": [],
   "source": [
    "df.columns = df.iloc[1]\n",
    "df = df.drop(labels=[0,1], axis=0)"
   ]
  },
  {
   "cell_type": "code",
   "execution_count": 73,
   "id": "afd1de48-5775-408c-96df-19f9d8500028",
   "metadata": {},
   "outputs": [
    {
     "data": {
      "text/html": [
       "<div>\n",
       "<style scoped>\n",
       "    .dataframe tbody tr th:only-of-type {\n",
       "        vertical-align: middle;\n",
       "    }\n",
       "\n",
       "    .dataframe tbody tr th {\n",
       "        vertical-align: top;\n",
       "    }\n",
       "\n",
       "    .dataframe thead th {\n",
       "        text-align: right;\n",
       "    }\n",
       "</style>\n",
       "<table border=\"1\" class=\"dataframe\">\n",
       "  <thead>\n",
       "    <tr style=\"text-align: right;\">\n",
       "      <th>1</th>\n",
       "      <th>Architecture</th>\n",
       "      <th>Semantic Accuracy [%]</th>\n",
       "      <th>Syntactic Accuracy [%]</th>\n",
       "      <th>Test Set [20]</th>\n",
       "    </tr>\n",
       "  </thead>\n",
       "  <tbody>\n",
       "    <tr>\n",
       "      <th>2</th>\n",
       "      <td>RNNLM</td>\n",
       "      <td>9</td>\n",
       "      <td>36</td>\n",
       "      <td>35</td>\n",
       "    </tr>\n",
       "    <tr>\n",
       "      <th>3</th>\n",
       "      <td>NNLM</td>\n",
       "      <td>23</td>\n",
       "      <td>53</td>\n",
       "      <td>47</td>\n",
       "    </tr>\n",
       "    <tr>\n",
       "      <th>4</th>\n",
       "      <td>CBOW</td>\n",
       "      <td>24</td>\n",
       "      <td>64</td>\n",
       "      <td>61</td>\n",
       "    </tr>\n",
       "    <tr>\n",
       "      <th>5</th>\n",
       "      <td>Skip-gram</td>\n",
       "      <td>55</td>\n",
       "      <td>59</td>\n",
       "      <td>56</td>\n",
       "    </tr>\n",
       "  </tbody>\n",
       "</table>\n",
       "</div>"
      ],
      "text/plain": [
       "1 Architecture Semantic Accuracy [%] Syntactic Accuracy [%] Test Set [20]\n",
       "2        RNNLM                     9                     36            35\n",
       "3         NNLM                    23                     53            47\n",
       "4         CBOW                    24                     64            61\n",
       "5    Skip-gram                    55                     59            56"
      ]
     },
     "execution_count": 73,
     "metadata": {},
     "output_type": "execute_result"
    }
   ],
   "source": [
    "df"
   ]
  }
 ],
 "metadata": {
  "kernelspec": {
   "display_name": "Python 3 (ipykernel)",
   "language": "python",
   "name": "python3"
  },
  "language_info": {
   "codemirror_mode": {
    "name": "ipython",
    "version": 3
   },
   "file_extension": ".py",
   "mimetype": "text/x-python",
   "name": "python",
   "nbconvert_exporter": "python",
   "pygments_lexer": "ipython3",
   "version": "3.8.10"
  }
 },
 "nbformat": 4,
 "nbformat_minor": 5
}
