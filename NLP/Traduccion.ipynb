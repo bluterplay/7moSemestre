{
 "cells": [
  {
   "cell_type": "markdown",
   "id": "b48f984a-69aa-4d66-a135-61f2619f0a4f",
   "metadata": {},
   "source": [
    "# Modules and session"
   ]
  },
  {
   "cell_type": "code",
   "execution_count": 81,
   "id": "f471fd37-02cf-43b9-82e7-d6aa4b13e123",
   "metadata": {},
   "outputs": [
    {
     "name": "stderr",
     "output_type": "stream",
     "text": [
      "[nltk_data] Downloading package punkt to /home/bluterplay/nltk_data...\n",
      "[nltk_data]   Package punkt is already up-to-date!\n",
      "[nltk_data] Downloading package stopwords to\n",
      "[nltk_data]     /home/bluterplay/nltk_data...\n",
      "[nltk_data]   Package stopwords is already up-to-date!\n"
     ]
    }
   ],
   "source": [
    "import pyspark\n",
    "from pyspark.sql import SparkSession\n",
    "from pyspark.sql.functions import col,isnan, when, count\n",
    "from pyspark.sql.functions import monotonically_increasing_id, row_number\n",
    "from pyspark.sql import Window\n",
    "\n",
    "## Stopwords\n",
    "import nltk\n",
    "nltk.download('punkt')\n",
    "from nltk.tokenize import word_tokenize\n",
    "nltk.download('stopwords')\n",
    "from nltk.corpus import stopwords\n",
    "\n",
    "## Translate and polarity\n",
    "from textblob import TextBlob\n",
    "from textblob.exceptions import NotTranslated"
   ]
  },
  {
   "cell_type": "code",
   "execution_count": 5,
   "id": "0ad852db-c74e-4891-ac1d-8f8e34ba0f23",
   "metadata": {},
   "outputs": [],
   "source": [
    "spark=SparkSession.builder.appName('Translate').getOrCreate()"
   ]
  },
  {
   "cell_type": "markdown",
   "id": "f2618a3e-53f8-4d60-a5fb-64589e85b3db",
   "metadata": {},
   "source": [
    "# Data"
   ]
  },
  {
   "cell_type": "code",
   "execution_count": 6,
   "id": "50f96c01-26f8-46ab-9231-ec2d37f00d33",
   "metadata": {},
   "outputs": [
    {
     "name": "stderr",
     "output_type": "stream",
     "text": [
      "                                                                                \r"
     ]
    }
   ],
   "source": [
    "data=spark.read.option('header', 'true').csv('files.csv',inferSchema= True)"
   ]
  },
  {
   "cell_type": "code",
   "execution_count": 7,
   "id": "bc5be6d8-2379-4edc-8740-d217106297e1",
   "metadata": {},
   "outputs": [
    {
     "name": "stdout",
     "output_type": "stream",
     "text": [
      "+--------------------+------------+--------------------+\n",
      "|        wav_filename|wav_filesize|          transcript|\n",
      "+--------------------+------------+--------------------+\n",
      "|audios/4da6b70e-0...|      219064|y aquí en dos pal...|\n",
      "|audios/8c2ab30b-0...|      271910|cuando los consej...|\n",
      "|audios/ca73c951-c...|       64520|su mujer con la c...|\n",
      "|audios/067c4606-7...|       84222|y otros que se po...|\n",
      "|audios/49a08f90-3...|       77316|al oír mis pasos ...|\n",
      "+--------------------+------------+--------------------+\n",
      "only showing top 5 rows\n",
      "\n"
     ]
    }
   ],
   "source": [
    "data.show(5)"
   ]
  },
  {
   "cell_type": "markdown",
   "id": "11915c9e-1970-4728-9731-cdcf9f575ceb",
   "metadata": {},
   "source": [
    "# Prepossessing"
   ]
  },
  {
   "cell_type": "markdown",
   "id": "cb2600cc-73d5-4d30-a569-52bc78286561",
   "metadata": {},
   "source": [
    "## Missings"
   ]
  },
  {
   "cell_type": "code",
   "execution_count": 8,
   "id": "3f782258-8043-4cbf-8c64-91e11b5297b9",
   "metadata": {},
   "outputs": [
    {
     "name": "stderr",
     "output_type": "stream",
     "text": [
      "[Stage 3:==============>                                            (1 + 3) / 4]\r"
     ]
    },
    {
     "name": "stdout",
     "output_type": "stream",
     "text": [
      "+------------+------------+----------+\n",
      "|wav_filename|wav_filesize|transcript|\n",
      "+------------+------------+----------+\n",
      "|           0|           0|         0|\n",
      "+------------+------------+----------+\n",
      "\n"
     ]
    },
    {
     "name": "stderr",
     "output_type": "stream",
     "text": [
      "                                                                                \r"
     ]
    }
   ],
   "source": [
    "data.select([count(when(isnan(c) | col(c).isNull(), c)).alias(c) for c in data.columns]).show()"
   ]
  },
  {
   "cell_type": "code",
   "execution_count": 9,
   "id": "de81609d-6644-416d-a523-babfbbb0abb8",
   "metadata": {},
   "outputs": [
    {
     "name": "stderr",
     "output_type": "stream",
     "text": [
      "[Stage 6:==============>                                            (1 + 3) / 4]\r"
     ]
    },
    {
     "name": "stdout",
     "output_type": "stream",
     "text": [
      "+------------+------------+----------+\n",
      "|wav_filename|wav_filesize|transcript|\n",
      "+------------+------------+----------+\n",
      "|           0|           0|         0|\n",
      "+------------+------------+----------+\n",
      "\n"
     ]
    },
    {
     "name": "stderr",
     "output_type": "stream",
     "text": [
      "                                                                                \r"
     ]
    }
   ],
   "source": [
    "data.select([count(when(col(c).contains('None') | \\\n",
    "                            col(c).contains('NULL') | \\\n",
    "                            (col(c) == '' ) | \\\n",
    "                            col(c).isNull() | \\\n",
    "                            isnan(c), c \n",
    "                           )).alias(c)\n",
    "                    for c in data.columns]).show()"
   ]
  },
  {
   "cell_type": "markdown",
   "id": "4b7b9811-e153-4867-8682-4d8a0d8384b1",
   "metadata": {},
   "source": [
    "## Translate"
   ]
  },
  {
   "cell_type": "code",
   "execution_count": 10,
   "id": "e8d61f66-82e5-4627-a9fc-81fa5b92f6b7",
   "metadata": {},
   "outputs": [],
   "source": [
    "rdd= data.rdd"
   ]
  },
  {
   "cell_type": "code",
   "execution_count": 11,
   "id": "244dd975-9c49-4167-9d3e-c6ea70f93986",
   "metadata": {},
   "outputs": [
    {
     "name": "stderr",
     "output_type": "stream",
     "text": [
      "                                                                                \r"
     ]
    },
    {
     "data": {
      "text/plain": [
       "[Row(wav_filename='audios/4da6b70e-0108-4f75-80ae-3d71f1dd2c2b.wav', wav_filesize=219064, transcript='y aquí en dos palotadas hemos encontrado robustas columnas donde apoyar la grandiosa fábrica de su alcurnia'),\n",
       " Row(wav_filename='audios/8c2ab30b-0fd4-41c3-9724-3b15f2ee2c27.wav', wav_filesize=271910, transcript='cuando los consejeros escucharon aquello quedaron estremecidos y se dijeron dios ha prohibido que padres se casen con sus hijas')]"
      ]
     },
     "execution_count": 11,
     "metadata": {},
     "output_type": "execute_result"
    }
   ],
   "source": [
    "rdd.take(2)"
   ]
  },
  {
   "cell_type": "markdown",
   "id": "948c1d02-8313-4fa2-9645-39943556f2b9",
   "metadata": {},
   "source": [
    "### Drop stopwords"
   ]
  },
  {
   "cell_type": "code",
   "execution_count": 15,
   "id": "ec0aedbc-488b-4d6f-b710-f4b696eb7387",
   "metadata": {},
   "outputs": [],
   "source": [
    "stopword_list  = stopwords.words('spanish')"
   ]
  },
  {
   "cell_type": "code",
   "execution_count": 16,
   "id": "6ef3e302-830c-4148-987e-d45daa8b9fe4",
   "metadata": {},
   "outputs": [],
   "source": [
    "rdd_word_list= rdd.map(lambda x : (x[0],x[1],x[2].split(\" \")))"
   ]
  },
  {
   "cell_type": "code",
   "execution_count": 17,
   "id": "9331bca3-238c-4ae1-8f6c-b6a767581167",
   "metadata": {},
   "outputs": [],
   "source": [
    "rdd_stopwords= rdd_word_list.map(lambda x: (x[0],x[1],[i for i in x[2] if i not in stopword_list])) \\\n",
    "                            .map(lambda x:(x[0],x[1], \" \".join(x[2]))).filter(lambda x:x[2]!='')"
   ]
  },
  {
   "cell_type": "code",
   "execution_count": 18,
   "id": "267c07cc-767d-4880-b299-6259e24dcc82",
   "metadata": {},
   "outputs": [
    {
     "data": {
      "text/plain": [
       "[('audios/4da6b70e-0108-4f75-80ae-3d71f1dd2c2b.wav',\n",
       "  219064,\n",
       "  'aquí dos palotadas encontrado robustas columnas apoyar grandiosa fábrica alcurnia'),\n",
       " ('audios/8c2ab30b-0fd4-41c3-9724-3b15f2ee2c27.wav',\n",
       "  271910,\n",
       "  'consejeros escucharon aquello quedaron estremecidos dijeron dios prohibido padres casen hijas')]"
      ]
     },
     "execution_count": 18,
     "metadata": {},
     "output_type": "execute_result"
    }
   ],
   "source": [
    "rdd_stopwords.take(2)"
   ]
  },
  {
   "cell_type": "code",
   "execution_count": 37,
   "id": "b221f4ae-33a2-4a97-becd-45544d0fbb40",
   "metadata": {},
   "outputs": [],
   "source": [
    "def trans(x):  \n",
    "    try:\n",
    "        blob= TextBlob(x)\n",
    "        return str(blob.translate(from_lang='es', to= 'en' ))\n",
    "    except NotTranslated:\n",
    "        return ''+x\n",
    "    else:\n",
    "        return ''+x"
   ]
  },
  {
   "cell_type": "code",
   "execution_count": 39,
   "id": "7b6fea63-d62a-494a-9fb3-d49a200d8d52",
   "metadata": {},
   "outputs": [
    {
     "name": "stderr",
     "output_type": "stream",
     "text": [
      "                                                                                \r"
     ]
    }
   ],
   "source": [
    "traduccion=rdd_stopwords.map(lambda x: trans(x[2])).collect()"
   ]
  },
  {
   "cell_type": "markdown",
   "id": "890058a1-fc87-436d-833b-a6fa74380f87",
   "metadata": {},
   "source": [
    "### Merge "
   ]
  },
  {
   "cell_type": "code",
   "execution_count": 64,
   "id": "b0eaacf6-c788-4562-beb8-0ab9351db369",
   "metadata": {},
   "outputs": [],
   "source": [
    "final = rdd_stopwords.toDF()"
   ]
  },
  {
   "cell_type": "code",
   "execution_count": 66,
   "id": "1c0f34df-a235-44f8-93df-283b3106a189",
   "metadata": {},
   "outputs": [],
   "source": [
    "traduccionDF= spark.createDataFrame([(l,) for l in traduccion], [\"Traduccion\"])"
   ]
  },
  {
   "cell_type": "code",
   "execution_count": 71,
   "id": "88f2af47-861a-4af9-bb30-98de55365c34",
   "metadata": {},
   "outputs": [],
   "source": [
    "final = final.withColumn(\"row_idx\", row_number().over(Window.orderBy(monotonically_increasing_id())))\n",
    "traduccionDF = traduccionDF.withColumn(\"row_idx\", row_number().over(Window.orderBy(monotonically_increasing_id())))"
   ]
  },
  {
   "cell_type": "code",
   "execution_count": 79,
   "id": "3d76d316-7234-4a31-bcb1-19f498046cc6",
   "metadata": {},
   "outputs": [],
   "source": [
    "final_df = final.join(traduccionDF, final.row_idx == traduccionDF.row_idx).\\\n",
    "             drop(\"row_idx\")"
   ]
  },
  {
   "cell_type": "markdown",
   "id": "22cff610-be29-4a77-960c-a151f7cf8225",
   "metadata": {},
   "source": [
    "### CSV file"
   ]
  },
  {
   "cell_type": "code",
   "execution_count": 109,
   "id": "411e380e-24f4-4d11-8ac9-76b6fcd504de",
   "metadata": {},
   "outputs": [
    {
     "name": "stdout",
     "output_type": "stream",
     "text": [
      "22/09/23 15:37:28 WARN WindowExec: No Partition Defined for Window operation! Moving all data to a single partition, this can cause serious performance degradation.\n",
      "22/09/23 15:37:28 WARN WindowExec: No Partition Defined for Window operation! Moving all data to a single partition, this can cause serious performance degradation.\n",
      "22/09/23 15:37:28 WARN WindowExec: No Partition Defined for Window operation! Moving all data to a single partition, this can cause serious performance degradation.\n",
      "22/09/23 15:37:28 WARN WindowExec: No Partition Defined for Window operation! Moving all data to a single partition, this can cause serious performance degradation.\n"
     ]
    },
    {
     "name": "stderr",
     "output_type": "stream",
     "text": [
      "[Stage 72:====>             (1 + 3) / 4][Stage 73:===============>  (7 + 1) / 8]\r"
     ]
    },
    {
     "name": "stdout",
     "output_type": "stream",
     "text": [
      "22/09/23 15:37:29 WARN WindowExec: No Partition Defined for Window operation! Moving all data to a single partition, this can cause serious performance degradation.\n",
      "22/09/23 15:37:29 WARN WindowExec: No Partition Defined for Window operation! Moving all data to a single partition, this can cause serious performance degradation.\n",
      "22/09/23 15:37:29 WARN WindowExec: No Partition Defined for Window operation! Moving all data to a single partition, this can cause serious performance degradation.\n",
      "22/09/23 15:37:29 WARN WindowExec: No Partition Defined for Window operation! Moving all data to a single partition, this can cause serious performance degradation.\n"
     ]
    },
    {
     "name": "stderr",
     "output_type": "stream",
     "text": [
      "                                                                                \r"
     ]
    },
    {
     "name": "stdout",
     "output_type": "stream",
     "text": [
      "22/09/23 15:37:30 WARN WindowExec: No Partition Defined for Window operation! Moving all data to a single partition, this can cause serious performance degradation.\n",
      "22/09/23 15:37:30 WARN WindowExec: No Partition Defined for Window operation! Moving all data to a single partition, this can cause serious performance degradation.\n"
     ]
    },
    {
     "name": "stderr",
     "output_type": "stream",
     "text": [
      "[Stage 72:=============================>                            (2 + 2) / 4]\r"
     ]
    },
    {
     "name": "stdout",
     "output_type": "stream",
     "text": [
      "22/09/23 15:37:31 WARN WindowExec: No Partition Defined for Window operation! Moving all data to a single partition, this can cause serious performance degradation.\n",
      "22/09/23 15:37:31 WARN WindowExec: No Partition Defined for Window operation! Moving all data to a single partition, this can cause serious performance degradation.\n"
     ]
    },
    {
     "name": "stderr",
     "output_type": "stream",
     "text": [
      "                                                                                \r"
     ]
    }
   ],
   "source": [
    "final_df.toPandas().to_csv('filesT.csv',index= False )"
   ]
  },
  {
   "cell_type": "markdown",
   "id": "bc3c2931-cb71-4b6c-a210-9c0c715bfe03",
   "metadata": {},
   "source": [
    "# Sentiment Analysis"
   ]
  },
  {
   "cell_type": "code",
   "execution_count": 110,
   "id": "895ea69d-a65c-44bf-95f9-a5232e339042",
   "metadata": {},
   "outputs": [],
   "source": [
    "rdd_data= spark.sparkContext.textFile(\"filesT.csv\")"
   ]
  },
  {
   "cell_type": "code",
   "execution_count": 111,
   "id": "632ff163-2a2a-4df0-8269-bd96e22a84fe",
   "metadata": {},
   "outputs": [],
   "source": [
    "rdd_data=rdd_data.map(lambda x: x.split(\",\"))"
   ]
  },
  {
   "cell_type": "code",
   "execution_count": 113,
   "id": "48f5d6d4-fec4-47fe-b417-734504245714",
   "metadata": {},
   "outputs": [],
   "source": [
    "header = rdd_data.first()\n",
    "rdd_data=rdd_data.filter(lambda line: line != header)"
   ]
  },
  {
   "cell_type": "code",
   "execution_count": 114,
   "id": "cc815957-b851-4377-a022-732cb31a60f1",
   "metadata": {},
   "outputs": [
    {
     "data": {
      "text/plain": [
       "[['audios/4da6b70e-0108-4f75-80ae-3d71f1dd2c2b.wav',\n",
       "  '219064',\n",
       "  'aquí dos palotadas encontrado robustas columnas apoyar grandiosa fábrica alcurnia',\n",
       "  'Here two palotadas found robust columns support great Alcurnia factory'],\n",
       " ['audios/8c2ab30b-0fd4-41c3-9724-3b15f2ee2c27.wav',\n",
       "  '271910',\n",
       "  'consejeros escucharon aquello quedaron estremecidos dijeron dios prohibido padres casen hijas',\n",
       "  'counselors heard that were shuddered God forbidden parents marry daughters']]"
      ]
     },
     "execution_count": 114,
     "metadata": {},
     "output_type": "execute_result"
    }
   ],
   "source": [
    "rdd_data.take(2)"
   ]
  },
  {
   "cell_type": "code",
   "execution_count": 102,
   "id": "927a6fc5-b06c-4853-948c-9e792dace27b",
   "metadata": {},
   "outputs": [],
   "source": [
    "blob= TextBlob(\"support great Alcurnia\")"
   ]
  },
  {
   "cell_type": "code",
   "execution_count": 137,
   "id": "33848478-92b2-43ea-896f-5e0fae12bf24",
   "metadata": {},
   "outputs": [
    {
     "data": {
      "text/plain": [
       "float"
      ]
     },
     "execution_count": 137,
     "metadata": {},
     "output_type": "execute_result"
    }
   ],
   "source": [
    "type(blob.sentiment[1])"
   ]
  },
  {
   "cell_type": "code",
   "execution_count": 142,
   "id": "50571f5e-4479-482b-bc6a-d7230237e33e",
   "metadata": {},
   "outputs": [],
   "source": [
    "def sentiment(x):\n",
    "    blob= TextBlob(x)\n",
    "    return blob.polarity"
   ]
  },
  {
   "cell_type": "code",
   "execution_count": 126,
   "id": "af998743-25d0-4a7f-8ceb-636bb950e878",
   "metadata": {},
   "outputs": [],
   "source": [
    "test= rdd_data.filter(lambda x: int(x[1]) <40000)"
   ]
  },
  {
   "cell_type": "code",
   "execution_count": 127,
   "id": "a993bb6f-61be-48ff-8b24-42351d0f4489",
   "metadata": {},
   "outputs": [
    {
     "data": {
      "text/plain": [
       "790"
      ]
     },
     "execution_count": 127,
     "metadata": {},
     "output_type": "execute_result"
    }
   ],
   "source": [
    "test.count()"
   ]
  },
  {
   "cell_type": "code",
   "execution_count": 153,
   "id": "a936241b-6cec-42ec-95eb-231d86543d92",
   "metadata": {
    "scrolled": true,
    "tags": []
   },
   "outputs": [],
   "source": [
    "df_sentiment =rdd_data.map(lambda x: (x[0],x[1],x[3], sentiment(x[3]))).toDF()"
   ]
  },
  {
   "cell_type": "code",
   "execution_count": 146,
   "id": "cb17615f-1f30-47d5-b4a9-1b01c610a933",
   "metadata": {},
   "outputs": [],
   "source": [
    "pyspark_log = logging.getLogger('pyspark').setLevel(logging.ERROR)\n",
    "py4j_logger = logging.getLogger(\"py4j\").setLevel(logging.ERROR)\n",
    "matplotlib_logger = logging.getLogger(\"matplotlib\").setLevel(logging.ERROR)"
   ]
  },
  {
   "cell_type": "code",
   "execution_count": 154,
   "id": "1c30fef7-c24b-42fd-80ad-a8fb79841c3f",
   "metadata": {},
   "outputs": [
    {
     "name": "stderr",
     "output_type": "stream",
     "text": [
      "[Stage 102:>                                                        (0 + 1) / 1]\r"
     ]
    },
    {
     "name": "stdout",
     "output_type": "stream",
     "text": [
      "+--------------------+------+--------------------+--------------------+\n",
      "|                  _1|    _2|                  _3|                  _4|\n",
      "+--------------------+------+--------------------+--------------------+\n",
      "|audios/4da6b70e-0...|219064|Here two palotada...|                 0.8|\n",
      "|audios/8c2ab30b-0...|271910|counselors heard ...|                 0.0|\n",
      "|audios/ca73c951-c...| 64520|    Woman face hands|                 0.0|\n",
      "|audios/067c4606-7...| 84222|They could pour b...|                 0.0|\n",
      "|audios/49a08f90-3...| 77316|Hear steps raised...|                 0.0|\n",
      "|audios/f97f3d33-a...|223566|Bonkey Bonfire So...|-0.13333333333333333|\n",
      "|audios/32edabbd-6...|100054|   hoping to be hung|                 0.0|\n",
      "|audios/35ef4edf-e...|116342|silver click to s...|                 0.0|\n",
      "|audios/aeade7e3-2...| 61944|     I come thinking|                 0.0|\n",
      "|audios/76187caa-b...|115422|prolonged conics ...|                 0.0|\n",
      "|audios/cf271870-3...|117968|Mala Lucky Winned...|  0.3333333333333333|\n",
      "|audios/a98b5346-c...|168202|They served three...|                 0.1|\n",
      "|audios/b7d87ded-a...|163102|crying tenderly a...|                -0.2|\n",
      "|audios/6f4d1217-0...|254912|I said loved love...|                 0.6|\n",
      "|audios/3ca4e95a-2...| 53984|        Skirt served|                 0.0|\n",
      "|audios/2d1aec1e-7...| 54930|      Require an eye|                 0.0|\n",
      "|audios/ef4313c6-e...|208850|Reason Religion a...|                 0.1|\n",
      "|audios/592209ce-4...|142922|Giving you news H...|                 0.0|\n",
      "|audios/9cf3c140-9...| 58104|                Turn|                 0.0|\n",
      "|audios/6a0e987b-8...|108028|Bringing wild flo...|                 0.1|\n",
      "+--------------------+------+--------------------+--------------------+\n",
      "only showing top 20 rows\n",
      "\n"
     ]
    },
    {
     "name": "stderr",
     "output_type": "stream",
     "text": [
      "                                                                                \r"
     ]
    }
   ],
   "source": [
    "df_sentiment.show()"
   ]
  },
  {
   "cell_type": "code",
   "execution_count": 155,
   "id": "0f2e174c-497b-495c-991b-c2d3c942f390",
   "metadata": {},
   "outputs": [
    {
     "name": "stderr",
     "output_type": "stream",
     "text": [
      "                                                                                \r"
     ]
    }
   ],
   "source": [
    "df_sentiment.toPandas().to_csv('filesS.csv', index= False)"
   ]
  },
  {
   "cell_type": "code",
   "execution_count": null,
   "id": "201a4b8c-88fc-4ff7-b406-f91e73b7a9d7",
   "metadata": {},
   "outputs": [],
   "source": []
  }
 ],
 "metadata": {
  "kernelspec": {
   "display_name": "Python 3 (ipykernel)",
   "language": "python",
   "name": "python3"
  },
  "language_info": {
   "codemirror_mode": {
    "name": "ipython",
    "version": 3
   },
   "file_extension": ".py",
   "mimetype": "text/x-python",
   "name": "python",
   "nbconvert_exporter": "python",
   "pygments_lexer": "ipython3",
   "version": "3.8.10"
  }
 },
 "nbformat": 4,
 "nbformat_minor": 5
}
