{
 "cells": [
  {
   "cell_type": "markdown",
   "id": "956f452a-fd4b-41f5-8eea-b07f931a3408",
   "metadata": {},
   "source": [
    "# Modules"
   ]
  },
  {
   "cell_type": "code",
   "execution_count": 2,
   "id": "b8d08c97-defe-408c-bf7e-cadc47604658",
   "metadata": {},
   "outputs": [],
   "source": [
    "import pyspark\n",
    "from pyspark.sql import SparkSession"
   ]
  },
  {
   "cell_type": "markdown",
   "id": "5cd9dad0-b2ad-4a6d-bda7-ac2d83c4dff1",
   "metadata": {},
   "source": [
    "# Sesion"
   ]
  },
  {
   "cell_type": "code",
   "execution_count": 3,
   "id": "03fca50d-5926-4f53-ac32-5fcf7b7a04be",
   "metadata": {},
   "outputs": [
    {
     "name": "stdout",
     "output_type": "stream",
     "text": [
      "22/10/15 07:52:31 WARN Utils: Your hostname, LAPTOP-7NHMLFJ5 resolves to a loopback address: 127.0.1.1; using 172.25.181.132 instead (on interface eth0)\n",
      "22/10/15 07:52:31 WARN Utils: Set SPARK_LOCAL_IP if you need to bind to another address\n"
     ]
    },
    {
     "name": "stderr",
     "output_type": "stream",
     "text": [
      "Setting default log level to \"WARN\".\n",
      "To adjust logging level use sc.setLogLevel(newLevel). For SparkR, use setLogLevel(newLevel).\n"
     ]
    },
    {
     "name": "stdout",
     "output_type": "stream",
     "text": [
      "22/10/15 07:52:33 WARN NativeCodeLoader: Unable to load native-hadoop library for your platform... using builtin-java classes where applicable\n"
     ]
    }
   ],
   "source": [
    "spark=SparkSession.builder.appName('Dataframe').getOrCreate()"
   ]
  },
  {
   "cell_type": "code",
   "execution_count": 4,
   "id": "e6e27311-df29-4d9f-aec2-00a2e308498a",
   "metadata": {},
   "outputs": [
    {
     "data": {
      "text/html": [
       "\n",
       "            <div>\n",
       "                <p><b>SparkSession - in-memory</b></p>\n",
       "                \n",
       "        <div>\n",
       "            <p><b>SparkContext</b></p>\n",
       "\n",
       "            <p><a href=\"http://localhost:4040\">Spark UI</a></p>\n",
       "\n",
       "            <dl>\n",
       "              <dt>Version</dt>\n",
       "                <dd><code>v3.3.0</code></dd>\n",
       "              <dt>Master</dt>\n",
       "                <dd><code>local[*]</code></dd>\n",
       "              <dt>AppName</dt>\n",
       "                <dd><code>Dataframe</code></dd>\n",
       "            </dl>\n",
       "        </div>\n",
       "        \n",
       "            </div>\n",
       "        "
      ],
      "text/plain": [
       "<pyspark.sql.session.SparkSession at 0x7f1c7c19c7c0>"
      ]
     },
     "execution_count": 4,
     "metadata": {},
     "output_type": "execute_result"
    }
   ],
   "source": [
    "spark"
   ]
  },
  {
   "cell_type": "markdown",
   "id": "b4ed0784-00f6-4d5d-b403-38c2e19eddec",
   "metadata": {},
   "source": [
    "# Data"
   ]
  },
  {
   "cell_type": "code",
   "execution_count": 5,
   "id": "e53c952b-61e2-41f5-bbb4-487cd295e25f",
   "metadata": {},
   "outputs": [
    {
     "name": "stderr",
     "output_type": "stream",
     "text": [
      "                                                                                \r"
     ]
    }
   ],
   "source": [
    "data= spark.read.csv('files.csv')"
   ]
  },
  {
   "cell_type": "code",
   "execution_count": 6,
   "id": "044f3575-4111-4dfb-9eac-de99da62ab0d",
   "metadata": {},
   "outputs": [
    {
     "data": {
      "text/plain": [
       "DataFrame[_c0: string, _c1: string, _c2: string]"
      ]
     },
     "execution_count": 6,
     "metadata": {},
     "output_type": "execute_result"
    }
   ],
   "source": [
    "data"
   ]
  },
  {
   "cell_type": "code",
   "execution_count": 7,
   "id": "13130182-ddf7-486a-b9f7-17add0c7a827",
   "metadata": {},
   "outputs": [
    {
     "name": "stdout",
     "output_type": "stream",
     "text": [
      "+--------------------+------------+--------------------+\n",
      "|                 _c0|         _c1|                 _c2|\n",
      "+--------------------+------------+--------------------+\n",
      "|        wav_filename|wav_filesize|          transcript|\n",
      "|audios/4da6b70e-0...|      219064|y aquí en dos pal...|\n",
      "|audios/8c2ab30b-0...|      271910|cuando los consej...|\n",
      "|audios/ca73c951-c...|       64520|su mujer con la c...|\n",
      "|audios/067c4606-7...|       84222|y otros que se po...|\n",
      "+--------------------+------------+--------------------+\n",
      "only showing top 5 rows\n",
      "\n"
     ]
    }
   ],
   "source": [
    "data.show(5)"
   ]
  },
  {
   "cell_type": "markdown",
   "id": "b27abd4b-db61-4e11-a4f8-15e9d4f505dd",
   "metadata": {},
   "source": [
    "## Heading"
   ]
  },
  {
   "cell_type": "code",
   "execution_count": 10,
   "id": "421c320a-8c1b-4295-9e95-f982e0f34f7b",
   "metadata": {},
   "outputs": [
    {
     "name": "stderr",
     "output_type": "stream",
     "text": [
      "                                                                                \r"
     ]
    }
   ],
   "source": [
    "data=spark.read.option('header', 'true').csv('files.csv',inferSchema= True)"
   ]
  },
  {
   "cell_type": "code",
   "execution_count": 11,
   "id": "e0d82ea7-e3cd-4be0-8189-9b0f92c7cd0d",
   "metadata": {},
   "outputs": [
    {
     "name": "stdout",
     "output_type": "stream",
     "text": [
      "+--------------------+------------+--------------------+\n",
      "|        wav_filename|wav_filesize|          transcript|\n",
      "+--------------------+------------+--------------------+\n",
      "|audios/4da6b70e-0...|      219064|y aquí en dos pal...|\n",
      "|audios/8c2ab30b-0...|      271910|cuando los consej...|\n",
      "|audios/ca73c951-c...|       64520|su mujer con la c...|\n",
      "|audios/067c4606-7...|       84222|y otros que se po...|\n",
      "|audios/49a08f90-3...|       77316|al oír mis pasos ...|\n",
      "+--------------------+------------+--------------------+\n",
      "only showing top 5 rows\n",
      "\n"
     ]
    }
   ],
   "source": [
    "data.show(5)"
   ]
  },
  {
   "cell_type": "markdown",
   "id": "94b05dbc-1e7a-4421-a261-b3f575a4a1ba",
   "metadata": {},
   "source": [
    "## Schema"
   ]
  },
  {
   "cell_type": "code",
   "execution_count": 12,
   "id": "1cff3ea3-04e8-4926-96c4-f5225b0af76e",
   "metadata": {},
   "outputs": [
    {
     "name": "stdout",
     "output_type": "stream",
     "text": [
      "root\n",
      " |-- wav_filename: string (nullable = true)\n",
      " |-- wav_filesize: integer (nullable = true)\n",
      " |-- transcript: string (nullable = true)\n",
      "\n"
     ]
    }
   ],
   "source": [
    "data.printSchema()"
   ]
  },
  {
   "cell_type": "markdown",
   "id": "1cbf4e32-079b-41a1-83ad-2595cc35f985",
   "metadata": {},
   "source": [
    "## Columns"
   ]
  },
  {
   "cell_type": "code",
   "execution_count": 13,
   "id": "de00fc7b-4a0f-46cf-9092-8544933c692b",
   "metadata": {},
   "outputs": [
    {
     "data": {
      "text/plain": [
       "['wav_filename', 'wav_filesize', 'transcript']"
      ]
     },
     "execution_count": 13,
     "metadata": {},
     "output_type": "execute_result"
    }
   ],
   "source": [
    "data.columns"
   ]
  },
  {
   "cell_type": "markdown",
   "id": "d18078ff-29d4-41fe-b306-0a80db6d3e28",
   "metadata": {},
   "source": [
    "### Select"
   ]
  },
  {
   "cell_type": "code",
   "execution_count": 15,
   "id": "3cfb5014-8d31-4957-be12-c8b356647b2d",
   "metadata": {},
   "outputs": [
    {
     "name": "stdout",
     "output_type": "stream",
     "text": [
      "+--------------------+--------------------+\n",
      "|        wav_filename|          transcript|\n",
      "+--------------------+--------------------+\n",
      "|audios/4da6b70e-0...|y aquí en dos pal...|\n",
      "|audios/8c2ab30b-0...|cuando los consej...|\n",
      "+--------------------+--------------------+\n",
      "only showing top 2 rows\n",
      "\n"
     ]
    }
   ],
   "source": [
    "data.select(['wav_filename','transcript']).show(2)"
   ]
  },
  {
   "cell_type": "markdown",
   "id": "fd9cb79b-33a0-43cf-9676-596e3679ebcf",
   "metadata": {},
   "source": [
    "### Describe"
   ]
  },
  {
   "cell_type": "code",
   "execution_count": 16,
   "id": "cd0ea8e9-4109-4820-bed5-9147330f9ff3",
   "metadata": {},
   "outputs": [
    {
     "name": "stderr",
     "output_type": "stream",
     "text": [
      "[Stage 9:==============>                                            (1 + 3) / 4]\r"
     ]
    },
    {
     "name": "stdout",
     "output_type": "stream",
     "text": [
      "+-------+--------------------+------------------+--------------------+\n",
      "|summary|        wav_filename|      wav_filesize|          transcript|\n",
      "+-------+--------------------+------------------+--------------------+\n",
      "|  count|              112845|            112845|              112845|\n",
      "|   mean|                null|122341.24368824494|                null|\n",
      "| stddev|                null| 64068.13891586326|                null|\n",
      "|    min|audios/0000df16-4...|             24200|a abandonar en el...|\n",
      "|    max|audios/ffffea50-3...|            842432|únicos rusos que ...|\n",
      "+-------+--------------------+------------------+--------------------+\n",
      "\n"
     ]
    },
    {
     "name": "stderr",
     "output_type": "stream",
     "text": [
      "                                                                                \r"
     ]
    }
   ],
   "source": [
    "data.describe().show()"
   ]
  },
  {
   "cell_type": "markdown",
   "id": "8d9cb3f0-341e-4a7e-bf4e-594874bff340",
   "metadata": {},
   "source": [
    "### Add column"
   ]
  },
  {
   "cell_type": "code",
   "execution_count": 24,
   "id": "84351273-b641-4cf6-a7be-afe17954d78d",
   "metadata": {},
   "outputs": [],
   "source": [
    "data=data.withColumn('Wav_filesize comparaison', data['wav_filesize']/122341)"
   ]
  },
  {
   "cell_type": "code",
   "execution_count": 25,
   "id": "631576fa-1774-44e4-b63f-2b11de1aab23",
   "metadata": {},
   "outputs": [
    {
     "name": "stdout",
     "output_type": "stream",
     "text": [
      "+--------------------+------------+--------------------+------------------------+\n",
      "|        wav_filename|wav_filesize|          transcript|Wav_filesize comparaison|\n",
      "+--------------------+------------+--------------------+------------------------+\n",
      "|audios/4da6b70e-0...|      219064|y aquí en dos pal...|      1.7906016789138555|\n",
      "|audios/8c2ab30b-0...|      271910|cuando los consej...|       2.222558259291652|\n",
      "|audios/ca73c951-c...|       64520|su mujer con la c...|       0.527378393179719|\n",
      "|audios/067c4606-7...|       84222|y otros que se po...|      0.6884200717666196|\n",
      "|audios/49a08f90-3...|       77316|al oír mis pasos ...|      0.6319712933521877|\n",
      "+--------------------+------------+--------------------+------------------------+\n",
      "only showing top 5 rows\n",
      "\n"
     ]
    }
   ],
   "source": [
    "data.show(5)"
   ]
  },
  {
   "cell_type": "markdown",
   "id": "436bd0a3-24a4-4c86-bce9-9a04b0fb83ab",
   "metadata": {},
   "source": [
    "### Delete column"
   ]
  },
  {
   "cell_type": "code",
   "execution_count": 26,
   "id": "99f3c427-d1a8-4653-ae36-de8429066e12",
   "metadata": {},
   "outputs": [],
   "source": [
    "data=data.drop('Wav_filesize comparaison')"
   ]
  },
  {
   "cell_type": "code",
   "execution_count": 23,
   "id": "de2eed4c-dcd3-4d3b-9c37-b18339b20972",
   "metadata": {},
   "outputs": [
    {
     "name": "stdout",
     "output_type": "stream",
     "text": [
      "+--------------------+------------+--------------------+\n",
      "|        wav_filename|wav_filesize|          transcript|\n",
      "+--------------------+------------+--------------------+\n",
      "|audios/4da6b70e-0...|      219064|y aquí en dos pal...|\n",
      "|audios/8c2ab30b-0...|      271910|cuando los consej...|\n",
      "|audios/ca73c951-c...|       64520|su mujer con la c...|\n",
      "|audios/067c4606-7...|       84222|y otros que se po...|\n",
      "|audios/49a08f90-3...|       77316|al oír mis pasos ...|\n",
      "+--------------------+------------+--------------------+\n",
      "only showing top 5 rows\n",
      "\n"
     ]
    }
   ],
   "source": [
    "data.show(5)"
   ]
  },
  {
   "cell_type": "markdown",
   "id": "148590e1-d22e-462f-833f-dba0c4933240",
   "metadata": {},
   "source": [
    "### Rename"
   ]
  },
  {
   "cell_type": "code",
   "execution_count": 27,
   "id": "84ade07f-30da-49df-b89a-bcc3ead62713",
   "metadata": {},
   "outputs": [
    {
     "name": "stdout",
     "output_type": "stream",
     "text": [
      "+--------------------+--------+--------------------+\n",
      "|        wav_filename|filesize|          transcript|\n",
      "+--------------------+--------+--------------------+\n",
      "|audios/4da6b70e-0...|  219064|y aquí en dos pal...|\n",
      "|audios/8c2ab30b-0...|  271910|cuando los consej...|\n",
      "|audios/ca73c951-c...|   64520|su mujer con la c...|\n",
      "|audios/067c4606-7...|   84222|y otros que se po...|\n",
      "|audios/49a08f90-3...|   77316|al oír mis pasos ...|\n",
      "+--------------------+--------+--------------------+\n",
      "only showing top 5 rows\n",
      "\n"
     ]
    }
   ],
   "source": [
    "data.withColumnRenamed('wav_filesize', 'filesize').show(5)"
   ]
  },
  {
   "cell_type": "markdown",
   "id": "7acecdaf-605a-4d7e-a226-ca067d524b99",
   "metadata": {},
   "source": [
    "# Prepossessing"
   ]
  },
  {
   "cell_type": "markdown",
   "id": "2c5a680d-86c1-47c3-a371-2ebb657a30e9",
   "metadata": {},
   "source": [
    "## Nan"
   ]
  },
  {
   "cell_type": "markdown",
   "id": "cba309e4-fa4c-42d9-81bc-dfd79373e8ee",
   "metadata": {},
   "source": [
    "### Drop"
   ]
  },
  {
   "cell_type": "markdown",
   "id": "5b91cb4b-0736-495f-9b2b-93762f108c7a",
   "metadata": {},
   "source": [
    "EL parametro $how$, tiene dos versiones llamadas:  \n",
    "*all* -> Elimina el registro si toda la fila es nula   \n",
    " $\\quad\\quad$        *thresh* -> sirve para aclarar cuantosd nulos por fila acepta sin eliminarla  \n",
    "*any* -> Elimina si la fila tiene algun campo vacio"
   ]
  },
  {
   "cell_type": "code",
   "execution_count": 33,
   "id": "467631aa-0eec-4260-a603-92adb71eb09d",
   "metadata": {},
   "outputs": [
    {
     "name": "stdout",
     "output_type": "stream",
     "text": [
      "+--------------------+------------+--------------------+\n",
      "|        wav_filename|wav_filesize|          transcript|\n",
      "+--------------------+------------+--------------------+\n",
      "|audios/4da6b70e-0...|      219064|y aquí en dos pal...|\n",
      "|audios/8c2ab30b-0...|      271910|cuando los consej...|\n",
      "|audios/ca73c951-c...|       64520|su mujer con la c...|\n",
      "|audios/067c4606-7...|       84222|y otros que se po...|\n",
      "|audios/49a08f90-3...|       77316|al oír mis pasos ...|\n",
      "+--------------------+------------+--------------------+\n",
      "only showing top 5 rows\n",
      "\n"
     ]
    }
   ],
   "source": [
    "data.na.drop(how='all').show(5)"
   ]
  },
  {
   "cell_type": "markdown",
   "id": "b08e6a78-badd-42af-a4ea-90ac41def2f2",
   "metadata": {},
   "source": [
    "### Fill "
   ]
  },
  {
   "cell_type": "code",
   "execution_count": 36,
   "id": "159b3d32-6530-4f15-afb4-8f10f69b7644",
   "metadata": {},
   "outputs": [
    {
     "name": "stdout",
     "output_type": "stream",
     "text": [
      "+--------------------+------------+--------------------+\n",
      "|        wav_filename|wav_filesize|          transcript|\n",
      "+--------------------+------------+--------------------+\n",
      "|audios/4da6b70e-0...|      219064|y aquí en dos pal...|\n",
      "|audios/8c2ab30b-0...|      271910|cuando los consej...|\n",
      "|audios/ca73c951-c...|       64520|su mujer con la c...|\n",
      "|audios/067c4606-7...|       84222|y otros que se po...|\n",
      "|audios/49a08f90-3...|       77316|al oír mis pasos ...|\n",
      "+--------------------+------------+--------------------+\n",
      "only showing top 5 rows\n",
      "\n"
     ]
    }
   ],
   "source": [
    "data.na.fill('Nada','transcript').show(5)"
   ]
  },
  {
   "cell_type": "code",
   "execution_count": 42,
   "id": "1b26844a-13a7-41ca-849c-e1daeaa3c30f",
   "metadata": {},
   "outputs": [],
   "source": [
    "from pyspark.ml.feature import Imputer\n",
    "imputer= Imputer(\n",
    "        inputCols=['wav_filesize'],\n",
    "        outputCols=[\"{}_imputed\".format(c) for c in ['wav_filesize']]).setStrategy(\"mean\")"
   ]
  },
  {
   "cell_type": "code",
   "execution_count": 47,
   "id": "a38c8af5-570b-4b85-8ef0-6ac26007e298",
   "metadata": {},
   "outputs": [
    {
     "name": "stdout",
     "output_type": "stream",
     "text": [
      "+--------------------+------------+--------------------+--------------------+\n",
      "|        wav_filename|wav_filesize|          transcript|wav_filesize_imputed|\n",
      "+--------------------+------------+--------------------+--------------------+\n",
      "|audios/4da6b70e-0...|      219064|y aquí en dos pal...|              219064|\n",
      "|audios/8c2ab30b-0...|      271910|cuando los consej...|              271910|\n",
      "|audios/ca73c951-c...|       64520|su mujer con la c...|               64520|\n",
      "|audios/067c4606-7...|       84222|y otros que se po...|               84222|\n",
      "|audios/49a08f90-3...|       77316|al oír mis pasos ...|               77316|\n",
      "+--------------------+------------+--------------------+--------------------+\n",
      "only showing top 5 rows\n",
      "\n"
     ]
    }
   ],
   "source": [
    "imputer.fit(data).transform(data).show(5)"
   ]
  },
  {
   "cell_type": "markdown",
   "id": "6687f8ab-0a81-49eb-96e9-5fc17d6bdd9d",
   "metadata": {},
   "source": [
    "## Filter"
   ]
  },
  {
   "cell_type": "code",
   "execution_count": 55,
   "id": "387845ec-0c0a-4b19-b5bb-b6b3a57ae9e4",
   "metadata": {},
   "outputs": [
    {
     "name": "stdout",
     "output_type": "stream",
     "text": [
      "+--------------------+------------+------------+\n",
      "|        wav_filename|wav_filesize|  transcript|\n",
      "+--------------------+------------+------------+\n",
      "|audios/ecd2afac-e...|       24856|sí que lo es|\n",
      "|audios/47ee99b9-5...|       24200|pues a mí no|\n",
      "|audios/8498a857-2...|       24818| ya me lo sé|\n",
      "+--------------------+------------+------------+\n",
      "\n"
     ]
    }
   ],
   "source": [
    "data.filter(\"wav_filesize <25000\").show()"
   ]
  },
  {
   "cell_type": "code",
   "execution_count": 56,
   "id": "5e1c38b0-55e2-483f-8005-0ac15b07d764",
   "metadata": {},
   "outputs": [
    {
     "name": "stdout",
     "output_type": "stream",
     "text": [
      "+------------+\n",
      "|  transcript|\n",
      "+------------+\n",
      "|sí que lo es|\n",
      "|pues a mí no|\n",
      "| ya me lo sé|\n",
      "+------------+\n",
      "\n"
     ]
    }
   ],
   "source": [
    "data.filter(\"wav_filesize <25000\").select('transcript').show()"
   ]
  },
  {
   "cell_type": "code",
   "execution_count": 60,
   "id": "729450d7-6be1-46a1-8ee0-afaa8f666617",
   "metadata": {},
   "outputs": [
    {
     "name": "stdout",
     "output_type": "stream",
     "text": [
      "+--------------------+------------+-----------+\n",
      "|        wav_filename|wav_filesize| transcript|\n",
      "+--------------------+------------+-----------+\n",
      "|audios/8498a857-2...|       24818|ya me lo sé|\n",
      "+--------------------+------------+-----------+\n",
      "\n"
     ]
    }
   ],
   "source": [
    "data.filter((data['wav_filesize']<25000) & ( data['transcript'].contains(\"ya\"))).show()"
   ]
  },
  {
   "cell_type": "code",
   "execution_count": null,
   "id": "36340922-547a-4e4e-acaf-d79e6ad04a0e",
   "metadata": {},
   "outputs": [],
   "source": []
  }
 ],
 "metadata": {
  "kernelspec": {
   "display_name": "Python 3 (ipykernel)",
   "language": "python",
   "name": "python3"
  },
  "language_info": {
   "codemirror_mode": {
    "name": "ipython",
    "version": 3
   },
   "file_extension": ".py",
   "mimetype": "text/x-python",
   "name": "python",
   "nbconvert_exporter": "python",
   "pygments_lexer": "ipython3",
   "version": "3.8.10"
  }
 },
 "nbformat": 4,
 "nbformat_minor": 5
}
