{
  "nbformat": 4,
  "nbformat_minor": 0,
  "metadata": {
    "colab": {
      "provenance": [],
      "collapsed_sections": [],
      "toc_visible": true
    },
    "kernelspec": {
      "name": "python3",
      "display_name": "Python 3"
    },
    "language_info": {
      "name": "python"
    }
  },
  "cells": [
    {
      "cell_type": "markdown",
      "source": [
        "## Modulos"
      ],
      "metadata": {
        "id": "SmXl-NrXuhyw"
      }
    },
    {
      "cell_type": "code",
      "execution_count": null,
      "metadata": {
        "id": "TkzOSH3BuDBl"
      },
      "outputs": [],
      "source": [
        "import numpy as np\n",
        "import pandas as pd\n",
        "import matplotlib.pyplot as plt\n",
        "from sklearn.linear_model import LinearRegression\n",
        "from sklearn.preprocessing import PolynomialFeatures\n",
        "np.set_printoptions(formatter={'float_kind':\"{:.2f}\".format})"
      ]
    },
    {
      "cell_type": "markdown",
      "source": [
        "## Datos"
      ],
      "metadata": {
        "id": "ii6P4WEFulKP"
      }
    },
    {
      "cell_type": "code",
      "source": [
        "df = pd.read_csv(\"/content/Salarios.csv\")\n",
        "X= df.iloc[ : ,1:2].values\n",
        "y= df.iloc[:,2].values"
      ],
      "metadata": {
        "id": "aDnsVTxWuN50"
      },
      "execution_count": null,
      "outputs": []
    },
    {
      "cell_type": "markdown",
      "source": [
        "## Regresion lineal simple"
      ],
      "metadata": {
        "id": "aMijNQTZu-B_"
      }
    },
    {
      "cell_type": "code",
      "source": [
        "lin_reg= LinearRegression()\n",
        "lin_reg.fit(X,y)"
      ],
      "metadata": {
        "colab": {
          "base_uri": "https://localhost:8080/"
        },
        "id": "VG4OJkpauXkR",
        "outputId": "9d162286-213b-4132-9bd5-de768945570a"
      },
      "execution_count": null,
      "outputs": [
        {
          "output_type": "execute_result",
          "data": {
            "text/plain": [
              "LinearRegression()"
            ]
          },
          "metadata": {},
          "execution_count": 6
        }
      ]
    },
    {
      "cell_type": "markdown",
      "source": [
        "## Regresiòn polinomica"
      ],
      "metadata": {
        "id": "QfTmaJjavNEj"
      }
    },
    {
      "cell_type": "markdown",
      "source": [
        "### Cuadràtico"
      ],
      "metadata": {
        "id": "dGUp7w5xxpXC"
      }
    },
    {
      "cell_type": "code",
      "source": [
        "poly_reg= PolynomialFeatures(degree=2)\n",
        "X_poly= poly_reg.fit_transform(X)\n",
        "lin_reg2 = LinearRegression()\n",
        "lin_reg2.fit(X_poly,y)"
      ],
      "metadata": {
        "colab": {
          "base_uri": "https://localhost:8080/"
        },
        "id": "ISDQG1cMu3jo",
        "outputId": "ecfd6008-8edf-429e-a4ad-8ec1da5ee5c8"
      },
      "execution_count": null,
      "outputs": [
        {
          "output_type": "execute_result",
          "data": {
            "text/plain": [
              "LinearRegression()"
            ]
          },
          "metadata": {},
          "execution_count": 8
        }
      ]
    },
    {
      "cell_type": "markdown",
      "source": [
        "### Cubico"
      ],
      "metadata": {
        "id": "84DDvvWVxtKn"
      }
    },
    {
      "cell_type": "code",
      "source": [
        "poly_reg3= PolynomialFeatures(degree=3)\n",
        "X_poly3= poly_reg3.fit_transform(X)\n",
        "lin_reg3 = LinearRegression()\n",
        "lin_reg3.fit(X_poly3,y)"
      ],
      "metadata": {
        "colab": {
          "base_uri": "https://localhost:8080/"
        },
        "id": "0ZGK7Zb2xi5g",
        "outputId": "bf439183-137b-4aac-af52-970d43008c6c"
      },
      "execution_count": null,
      "outputs": [
        {
          "output_type": "execute_result",
          "data": {
            "text/plain": [
              "LinearRegression()"
            ]
          },
          "metadata": {},
          "execution_count": 16
        }
      ]
    },
    {
      "cell_type": "markdown",
      "source": [
        "### Cuarta"
      ],
      "metadata": {
        "id": "7bWeqfKYyJuE"
      }
    },
    {
      "cell_type": "code",
      "source": [
        "poly_reg4= PolynomialFeatures(degree=4)\n",
        "X_poly4= poly_reg4.fit_transform(X)\n",
        "lin_reg4 = LinearRegression()\n",
        "lin_reg4.fit(X_poly4,y)"
      ],
      "metadata": {
        "colab": {
          "base_uri": "https://localhost:8080/"
        },
        "id": "69QhKfhryNxh",
        "outputId": "1d40f40f-8709-4aa6-8ba9-2a63aff823c5"
      },
      "execution_count": null,
      "outputs": [
        {
          "output_type": "execute_result",
          "data": {
            "text/plain": [
              "LinearRegression()"
            ]
          },
          "metadata": {},
          "execution_count": 20
        }
      ]
    },
    {
      "cell_type": "markdown",
      "source": [
        "## Visualizaciòn"
      ],
      "metadata": {
        "id": "GZee5ubRv5H7"
      }
    },
    {
      "cell_type": "markdown",
      "source": [
        "### Lineal"
      ],
      "metadata": {
        "id": "JSQs6Nq1wxO3"
      }
    },
    {
      "cell_type": "code",
      "source": [
        "plt.scatter(X,y,color=\"red\")\n",
        "plt.plot(X,lin_reg.predict(X), color=\"blue\")\n",
        "plt.title(\"Modelo de regresiòn lineal\")\n",
        "plt.xlabel(\"posicion del empleado\")\n",
        "plt.ylabel(\"Sueldo\")"
      ],
      "metadata": {
        "colab": {
          "base_uri": "https://localhost:8080/",
          "height": 312
        },
        "id": "YUJ1wKQbvw2v",
        "outputId": "a6a307dc-2f20-4d0a-8aa8-da4f2c3f07b5"
      },
      "execution_count": null,
      "outputs": [
        {
          "output_type": "execute_result",
          "data": {
            "text/plain": [
              "Text(0, 0.5, 'Sueldo')"
            ]
          },
          "metadata": {},
          "execution_count": 12
        },
        {
          "output_type": "display_data",
          "data": {
            "text/plain": [
              "<Figure size 432x288 with 1 Axes>"
            ],
            "image/png": "[encoded data removed]"
          },
          "metadata": {
            "needs_background": "light"
          }
        }
      ]
    },
    {
      "cell_type": "markdown",
      "source": [
        "### Cuadràtico"
      ],
      "metadata": {
        "id": "H-j7fj1Ew6ru"
      }
    },
    {
      "cell_type": "code",
      "source": [
        "plt.scatter(X,y,color=\"red\")\n",
        "plt.plot(X,lin_reg2.predict(X_poly), color=\"blue\")\n",
        "plt.title(\"Modelo de regresiòn Cuadratica\")\n",
        "plt.xlabel(\"posicion del empleado\")\n",
        "plt.ylabel(\"Sueldo\")"
      ],
      "metadata": {
        "colab": {
          "base_uri": "https://localhost:8080/",
          "height": 312
        },
        "id": "5ZS0poPpwm02",
        "outputId": "98346ee5-ae9a-44ab-b536-2152fa9a85ad"
      },
      "execution_count": null,
      "outputs": [
        {
          "output_type": "execute_result",
          "data": {
            "text/plain": [
              "Text(0, 0.5, 'Sueldo')"
            ]
          },
          "metadata": {},
          "execution_count": 18
        },
        {
          "output_type": "display_data",
          "data": {
            "text/plain": [
              "<Figure size 432x288 with 1 Axes>"
            ],
            "image/png": "[encoded data removed]"
          },
          "metadata": {
            "needs_background": "light"
          }
        }
      ]
    },
    {
      "cell_type": "markdown",
      "source": [
        "### Cubico"
      ],
      "metadata": {
        "id": "K-V_pKfwx2nB"
      }
    },
    {
      "cell_type": "code",
      "source": [
        "plt.scatter(X,y,color=\"red\")\n",
        "plt.plot(X,lin_reg3.predict(X_poly3), color=\"blue\")\n",
        "plt.title(\"Modelo de regresiòn cubica\")\n",
        "plt.xlabel(\"posicion del empleado\")\n",
        "plt.ylabel(\"Sueldo\")"
      ],
      "metadata": {
        "colab": {
          "base_uri": "https://localhost:8080/",
          "height": 312
        },
        "id": "yu8xiTX5xHaO",
        "outputId": "17351e88-6aa8-4d74-ce48-ee60271f9f9c"
      },
      "execution_count": null,
      "outputs": [
        {
          "output_type": "execute_result",
          "data": {
            "text/plain": [
              "Text(0, 0.5, 'Sueldo')"
            ]
          },
          "metadata": {},
          "execution_count": 19
        },
        {
          "output_type": "display_data",
          "data": {
            "text/plain": [
              "<Figure size 432x288 with 1 Axes>"
            ],
            "image/png": "[encoded data removed]"
          },
          "metadata": {
            "needs_background": "light"
          }
        }
      ]
    },
    {
      "cell_type": "markdown",
      "source": [
        "### Cuarta"
      ],
      "metadata": {
        "id": "Z5VzlDmzyVbI"
      }
    },
    {
      "cell_type": "code",
      "source": [
        "plt.scatter(X,y,color=\"red\")\n",
        "plt.plot(X,lin_reg4.predict(X_poly4), color=\"blue\")\n",
        "plt.title(\"Modelo de regresiòn cuarta\")\n",
        "plt.xlabel(\"posicion del empleado\")\n",
        "plt.ylabel(\"Sueldo\")"
      ],
      "metadata": {
        "colab": {
          "base_uri": "https://localhost:8080/",
          "height": 312
        },
        "id": "30u4fyWfx-8j",
        "outputId": "7d0adcc4-f848-47dc-eee0-4bb4ab65ae2a"
      },
      "execution_count": null,
      "outputs": [
        {
          "output_type": "execute_result",
          "data": {
            "text/plain": [
              "Text(0, 0.5, 'Sueldo')"
            ]
          },
          "metadata": {},
          "execution_count": 21
        },
        {
          "output_type": "display_data",
          "data": {
            "text/plain": [
              "<Figure size 432x288 with 1 Axes>"
            ],
            "image/png": "[encoded data removed]"
          },
          "metadata": {
            "needs_background": "light"
          }
        }
      ]
    },
    {
      "cell_type": "code",
      "source": [],
      "metadata": {
        "id": "ctr6YCAIycVE"
      },
      "execution_count": null,
      "outputs": []
    }
  ]
}