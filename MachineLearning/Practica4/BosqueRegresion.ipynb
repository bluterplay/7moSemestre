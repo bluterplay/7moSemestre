{
 "cells": [
  {
   "cell_type": "markdown",
   "metadata": {
    "id": "hlY7qtdhZCmO"
   },
   "source": [
    "## Modulos"
   ]
  },
  {
   "cell_type": "code",
   "execution_count": null,
   "metadata": {
    "id": "jJdLzH6DYMTG"
   },
   "outputs": [],
   "source": [
    "import pandas as pd\n",
    "import numpy as np\n",
    "import matplotlib.pyplot as plt\n",
    "from sklearn.ensemble import RandomForestRegressor"
   ]
  },
  {
   "cell_type": "markdown",
   "metadata": {
    "id": "GdnRBXc6fMOX"
   },
   "source": [
    "# Datos"
   ]
  },
  {
   "cell_type": "code",
   "execution_count": null,
   "metadata": {
    "id": "S-mObNQ2aF-7"
   },
   "outputs": [],
   "source": [
    "data= pd.read_csv(\"Salarios.csv\")\n",
    "X= data.iloc[:,1:2].values\n",
    "y= data.iloc[:,2].values"
   ]
  },
  {
   "cell_type": "markdown",
   "metadata": {
    "id": "6OtIx8p7jMX7"
   },
   "source": [
    "## Bosque"
   ]
  },
  {
   "cell_type": "code",
   "execution_count": null,
   "metadata": {
    "colab": {
     "base_uri": "https://localhost:8080/"
    },
    "id": "1xtHEoq0izff",
    "outputId": "46765351-a575-4b8c-ba27-cd4aac3f5ce7"
   },
   "outputs": [
    {
     "data": {
      "text/plain": [
       "RandomForestRegressor(random_state=0)"
      ]
     },
     "execution_count": 5,
     "metadata": {},
     "output_type": "execute_result"
    }
   ],
   "source": [
    "regresion=RandomForestRegressor(n_estimators=100,random_state=0)\n",
    "regresion.fit(X,y)"
   ]
  },
  {
   "cell_type": "code",
   "execution_count": null,
   "metadata": {
    "colab": {
     "base_uri": "https://localhost:8080/"
    },
    "id": "eYdfwLibjLtc",
    "outputId": "03962192-c213-45e9-debf-28758dffef85"
   },
   "outputs": [
    {
     "data": {
      "text/plain": [
       "array([158300.])"
      ]
     },
     "execution_count": 9,
     "metadata": {},
     "output_type": "execute_result"
    }
   ],
   "source": [
    "y_pred= regresion.predict([[6.5]])\n",
    "y_pred"
   ]
  },
  {
   "cell_type": "markdown",
   "metadata": {
    "id": "UT16AJTPkDNo"
   },
   "source": [
    "## Visualizaciòn"
   ]
  },
  {
   "cell_type": "code",
   "execution_count": null,
   "metadata": {
    "colab": {
     "base_uri": "https://localhost:8080/",
     "height": 296
    },
    "id": "yhFKm9T9jj8s",
    "outputId": "28e33353-9ede-4a30-feac-af0cb2f758b6"
   },
   "outputs": [
    {
     "data": {
      "image/png": "[encoded data removed]",
      "text/plain": [
       "<Figure size 432x288 with 1 Axes>"
      ]
     },
     "metadata": {
      "needs_background": "light"
     },
     "output_type": "display_data"
    }
   ],
   "source": [
    "plt.scatter(X,y,color='red')\n",
    "plt.plot(X,regresion.predict(X),color='blue')\n",
    "plt.title(\"Bosque de regresion\")\n",
    "plt.xlabel(\"Posiciòn del empleado\")\n",
    "plt.ylabel(\"Sueldo\")\n",
    "plt.show()"
   ]
  }
 ],
 "metadata": {
  "colab": {
   "provenance": []
  },
  "kernelspec": {
   "display_name": "Python 3 (ipykernel)",
   "language": "python",
   "name": "python3"
  },
  "language_info": {
   "codemirror_mode": {
    "name": "ipython",
    "version": 3
   },
   "file_extension": ".py",
   "mimetype": "text/x-python",
   "name": "python",
   "nbconvert_exporter": "python",
   "pygments_lexer": "ipython3",
   "version": "3.10.6"
  }
 },
 "nbformat": 4,
 "nbformat_minor": 4
}
