{
 "cells": [
  {
   "cell_type": "markdown",
   "id": "6ff115a0-9626-428b-b44a-4e3ca7e22be4",
   "metadata": {},
   "source": [
    "# Sistema de recomendación de juegos de mesa  \n",
    "## Procesamiento del lenguaje natural"
   ]
  },
  {
   "cell_type": "markdown",
   "id": "638e91bd-11df-42e5-abe7-f99b7a6dc204",
   "metadata": {},
   "source": [
    "## Objetivo"
   ]
  },
  {
   "cell_type": "markdown",
   "id": "a850ee20-4c7a-4ede-beb7-f8999fe469ad",
   "metadata": {},
   "source": [
    "Buscamos por medio de los datos sobre juegos de mesa de la pagina **BGG**, sugerir o recomendar juegos que se parezcan por su descripción a un juego que le haya agrado al usuario, con el fin de acotar la busqueda de posibles juegos de mesa y darle una mejor experiencia de usuario a la hora de incursionar en nuevos juegos"
   ]
  },
  {
   "cell_type": "markdown",
   "id": "d493b37b-4d42-4569-bbc3-667c63055d8b",
   "metadata": {},
   "source": [
    "## Conocimientos aplicados "
   ]
  },
  {
   "cell_type": "markdown",
   "id": "737a8776-34a0-4aec-beec-e0da0865cb75",
   "metadata": {},
   "source": [
    "Entre varios conceptos del procesamiento del lenguaje natural, fueron necesario el entendimiento de los siguientes conceptos:  \n",
    "- Stopwords \n",
    "- Stemer\n",
    "- Doc-Term matrix\n",
    "\n",
    "Algunas métricas como lo son:  \n",
    "- Euclidiana\n",
    "- Coseno\n",
    "\n",
    "Y una tecnica de reducción de dimensionalidad llamada:  \n",
    "- Latent Dirichlet Allocation (LDA)"
   ]
  },
  {
   "cell_type": "markdown",
   "id": "ad8a6d47-77da-4125-9a0d-a5ac68552d3b",
   "metadata": {
    "tags": []
   },
   "source": [
    "# Modules"
   ]
  },
  {
   "cell_type": "code",
   "execution_count": 1,
   "id": "c3340378-6055-47be-9149-e8429d863954",
   "metadata": {},
   "outputs": [],
   "source": [
    "## Data manipulation\n",
    "import numpy as np\n",
    "import pandas as pd\n",
    "\n",
    "## Procesamiento del texto\n",
    "import re \n",
    "import nltk\n",
    "from nltk.corpus import stopwords\n",
    "from nltk.stem import SnowballStemmer\n",
    "from nltk.tokenize import word_tokenize\n",
    "\n",
    "## Text to vect\n",
    "from sklearn.feature_extraction.text import TfidfVectorizer\n",
    "\n",
    "## Distances\n",
    "from sklearn.metrics.pairwise import cosine_similarity\n",
    "from sklearn.metrics.pairwise import euclidean_distances\n",
    "\n",
    "\n",
    "## Graphs\n",
    "import plotly.express as px\n",
    "\n"
   ]
  },
  {
   "cell_type": "markdown",
   "id": "e1c804c6-3e26-4e62-9b75-cf154e4a8f82",
   "metadata": {},
   "source": [
    "# Relevant functions"
   ]
  },
  {
   "cell_type": "code",
   "execution_count": 2,
   "id": "e579ccd8-663a-49f2-89f7-cc5cd4c19394",
   "metadata": {},
   "outputs": [],
   "source": [
    "def get_description(df,position):\n",
    "    game_id=df[\"GameId\"][position]\n",
    "    index_game=int(df[df[\"GameId\"]==game_id].index[0])\n",
    "    name=df[\"GameName\"][index_game]\n",
    "    description= df[\"Description\"][index_game]\n",
    "    return name, game_id, description"
   ]
  },
  {
   "cell_type": "code",
   "execution_count": 3,
   "id": "23001da3-a3a5-4ca3-9a1d-06e5505ea4ff",
   "metadata": {},
   "outputs": [],
   "source": [
    "def searchGame(df,game):\n",
    "    return df[df[\"GameName\"]==game].index[0]"
   ]
  },
  {
   "cell_type": "code",
   "execution_count": 4,
   "id": "e1d8a045-e18b-4f2d-ade3-e60d62908cf4",
   "metadata": {},
   "outputs": [],
   "source": [
    "def get_top_games(distances,similaritiesTfi,gamePosition):\n",
    "    ls_dis= [10,10,10,10,10]\n",
    "    for distance in distances[gamePosition]:\n",
    "        maxi=  max(ls_dis)\n",
    "        if(distance<maxi):\n",
    "            position= ls_dis.index(maxi)\n",
    "            ls_dis[position]= distance\n",
    "    ls_dis.sort()\n",
    "    ls_distances= list(distances[gamePosition])\n",
    "    ls_euclidean=[]\n",
    "    for value in ls_dis:\n",
    "        ls_euclidean.append(ls_distances.index(value))\n",
    "    ls_sim= [0,0,0,0,0]\n",
    "    for similarity in similaritiesTfi[gamePosition]:\n",
    "        mini= min(ls_sim)\n",
    "        if(similarity> mini):\n",
    "            position= ls_sim.index(mini)\n",
    "            ls_sim[position]= similarity\n",
    "    ls_sim.sort(reverse=True)\n",
    "    ls_similarities= list(similaritiesTfi[gamePosition])\n",
    "    ls_cosine= []\n",
    "    for value in ls_sim:\n",
    "        ls_cosine.append(ls_similarities.index(value))\n",
    "    return ls_euclidean,ls_cosine"
   ]
  },
  {
   "cell_type": "code",
   "execution_count": 5,
   "id": "76acbbde-7c06-42c5-a40d-5f1ced855c91",
   "metadata": {},
   "outputs": [],
   "source": [
    "def get_top_words(term_document_matrix_tfi,gameId):   \n",
    "    top_words=term_document_matrix_tfi.sort_values(by=str(gameId), ascending=False).head(5)[str(gameId)]\n",
    "    print(\"--------------Top 5 important words-------------\")\n",
    "    for word,importance in top_words.items():\n",
    "        print(f\"\\t{word}\")"
   ]
  },
  {
   "cell_type": "code",
   "execution_count": 6,
   "id": "2a740abb-f02e-4196-a747-427ff5edaf29",
   "metadata": {},
   "outputs": [],
   "source": [
    "def show_similar(df_boardgames,term_document_matrix_tfi,ls_cosine,ls_euclidean,full,initial):\n",
    "    name,game_id,description= get_description(df_boardgames, initial)\n",
    "    print(f\"El juego que te gusto es: {name} \")\n",
    "    print(f'GameId; {game_id}')\n",
    "    print(f'Description: {description}')\n",
    "    print(\"Los juegos que son similares por descripción son:\")\n",
    "    print(\"--------------------Angles-----------------------\")\n",
    "    for number,game in enumerate(ls_cosine):\n",
    "        print(f\"Top {number+1} cosine metric\") \n",
    "        print(\"-----------------------------\")\n",
    "        name,game_id,description= get_description(df_boardgames, game)\n",
    "        print(f'Name: {name}')\n",
    "        print(f'GameId; {game_id}')\n",
    "        if(full):\n",
    "            print(f'Description: {description}') \n",
    "        get_top_words(term_document_matrix_tfi, game_id)\n",
    "    print(\"-----------------Distances-------------------\")\n",
    "    for number,game in enumerate(ls_euclidean):\n",
    "        print(f\"Top {number+1} euclidean metric\") \n",
    "        print(\"-----------------------------\")\n",
    "        name,game_id,description= get_description(df_boardgames, game)\n",
    "        print(f'Name: {name}')\n",
    "        print(f'GameId; {game_id}')\n",
    "        if(full):\n",
    "            print(f'Description: {description}') \n",
    "        get_top_words(term_document_matrix_tfi, game_id)"
   ]
  },
  {
   "cell_type": "markdown",
   "id": "7be7106e-c1b6-423e-9f02-dfb86abdf91a",
   "metadata": {
    "tags": []
   },
   "source": [
    "# Data"
   ]
  },
  {
   "cell_type": "markdown",
   "id": "66817e97-92b9-4137-a6e7-4b5cf55c3977",
   "metadata": {},
   "source": [
    "## Boardgames description data"
   ]
  },
  {
   "cell_type": "code",
   "execution_count": 2,
   "id": "78286d8a-74d8-4d2e-942f-dac9027c0aad",
   "metadata": {},
   "outputs": [],
   "source": [
    "data_games=pd.read_csv(\"games.csv\")"
   ]
  },
  {
   "cell_type": "code",
   "execution_count": 3,
   "id": "7ae6bfc7-3113-4c3f-9573-178936b64022",
   "metadata": {},
   "outputs": [
    {
     "data": {
      "text/html": [
       "<div>\n",
       "<style scoped>\n",
       "    .dataframe tbody tr th:only-of-type {\n",
       "        vertical-align: middle;\n",
       "    }\n",
       "\n",
       "    .dataframe tbody tr th {\n",
       "        vertical-align: top;\n",
       "    }\n",
       "\n",
       "    .dataframe thead th {\n",
       "        text-align: right;\n",
       "    }\n",
       "</style>\n",
       "<table border=\"1\" class=\"dataframe\">\n",
       "  <thead>\n",
       "    <tr style=\"text-align: right;\">\n",
       "      <th></th>\n",
       "      <th>GameId</th>\n",
       "      <th>GameName</th>\n",
       "      <th>Description</th>\n",
       "    </tr>\n",
       "  </thead>\n",
       "  <tbody>\n",
       "    <tr>\n",
       "      <th>0</th>\n",
       "      <td>148494</td>\n",
       "      <td>1,2,3! Now you see me...</td>\n",
       "      <td>The animals on the farm are playing a game of ...</td>\n",
       "    </tr>\n",
       "    <tr>\n",
       "      <th>1</th>\n",
       "      <td>316377</td>\n",
       "      <td>7 Wonders (Second Edition)</td>\n",
       "      <td>7 Wonders&lt;br/&gt;The board game with more awards ...</td>\n",
       "    </tr>\n",
       "    <tr>\n",
       "      <th>2</th>\n",
       "      <td>155987</td>\n",
       "      <td>Abyss</td>\n",
       "      <td>The Abyss power is once again vacant, so the t...</td>\n",
       "    </tr>\n",
       "    <tr>\n",
       "      <th>3</th>\n",
       "      <td>21569</td>\n",
       "      <td>Adigma</td>\n",
       "      <td>Adigma is a party game which involves simultan...</td>\n",
       "    </tr>\n",
       "    <tr>\n",
       "      <th>4</th>\n",
       "      <td>31260</td>\n",
       "      <td>Agricola</td>\n",
       "      <td>Description from BoardgameNews&lt;br/&gt;&lt;br/&gt;In Agr...</td>\n",
       "    </tr>\n",
       "  </tbody>\n",
       "</table>\n",
       "</div>"
      ],
      "text/plain": [
       "   GameId                    GameName  \\\n",
       "0  148494    1,2,3! Now you see me...   \n",
       "1  316377  7 Wonders (Second Edition)   \n",
       "2  155987                       Abyss   \n",
       "3   21569                      Adigma   \n",
       "4   31260                    Agricola   \n",
       "\n",
       "                                         Description  \n",
       "0  The animals on the farm are playing a game of ...  \n",
       "1  7 Wonders<br/>The board game with more awards ...  \n",
       "2  The Abyss power is once again vacant, so the t...  \n",
       "3  Adigma is a party game which involves simultan...  \n",
       "4  Description from BoardgameNews<br/><br/>In Agr...  "
      ]
     },
     "execution_count": 3,
     "metadata": {},
     "output_type": "execute_result"
    }
   ],
   "source": [
    "data_games.head()"
   ]
  },
  {
   "cell_type": "markdown",
   "id": "a2a2f350-8f9d-430e-beb2-60ab03b4acd3",
   "metadata": {},
   "source": [
    "# Preprocessing"
   ]
  },
  {
   "cell_type": "markdown",
   "id": "699263e3-82ef-4d6b-8f3d-00c358ea00ba",
   "metadata": {},
   "source": [
    "## Boardgames"
   ]
  },
  {
   "cell_type": "code",
   "execution_count": 4,
   "id": "810f5a68-12e3-494a-87a7-1cd35527a09e",
   "metadata": {},
   "outputs": [],
   "source": [
    "prepro_boardgames= data_games.copy()"
   ]
  },
  {
   "cell_type": "markdown",
   "id": "42305899-6681-496d-9cb5-331c593cfa04",
   "metadata": {},
   "source": [
    "### Missings"
   ]
  },
  {
   "cell_type": "code",
   "execution_count": 5,
   "id": "96ff990a-6ae6-4ea8-b8f5-6535c58a4945",
   "metadata": {},
   "outputs": [
    {
     "data": {
      "text/plain": [
       "GameId         0.0\n",
       "GameName       0.0\n",
       "Description    0.0\n",
       "dtype: float64"
      ]
     },
     "execution_count": 5,
     "metadata": {},
     "output_type": "execute_result"
    }
   ],
   "source": [
    "prepro_boardgames.isna().mean()"
   ]
  },
  {
   "cell_type": "markdown",
   "id": "1ee17f01-68b0-46ce-9027-63dfc82d6bbd",
   "metadata": {},
   "source": [
    "### Text"
   ]
  },
  {
   "cell_type": "markdown",
   "id": "92c77e24-78c2-4241-ad2b-46f00914c54d",
   "metadata": {},
   "source": [
    "#### Drop HTML tags"
   ]
  },
  {
   "cell_type": "code",
   "execution_count": 6,
   "id": "72bade6c-5d5c-44d8-b030-ef767250137a",
   "metadata": {},
   "outputs": [],
   "source": [
    "prepro_boardgames[\"Description\"]=prepro_boardgames[\"Description\"].map(lambda x: x.replace(\"<br/>\", \" \"))\n",
    "prepro_boardgames[\"Description\"]=prepro_boardgames[\"Description\"].map(lambda x: x.replace(\"&quot;\", \" \"))\n",
    "prepro_boardgames[\"Description\"]=prepro_boardgames[\"Description\"].map(lambda x: x.replace(\"|\", \" \"))"
   ]
  },
  {
   "cell_type": "code",
   "execution_count": 7,
   "id": "cd8906ee-a67f-4a5b-a278-30ce7a5d99d9",
   "metadata": {},
   "outputs": [
    {
     "data": {
      "text/plain": [
       "\"Description from BoardgameNews<br/><br/>In Agricola, you're a farmer in a wooden shack with your spouse and little else. On a turn, you get to take only two actions, one for you and one for the spouse, from all the possibilities you'll find on a farm: collecting clay, wood, or stone; building fences; and so on. You might think about having kids in order to get more work accomplished, but first you need to expand your house. And what are you going to feed all the little rugrats?<br/><br/>The game supports many levels of complexity, mainly through the use (or non-use) of two of its main types of cards, Minor Improvements and Occupations. In the beginner's version (called the Family Variant in the U.S. release), these cards are not used at all. For advanced play, the U.S. release includes three levels of both types of cards; Basic (E-deck), Interactive (I-deck), and Complex (K-deck), and the rulebook encourages players to experiment with the various decks and mixtures thereof. Aftermarket decks such as the Z-Deck and the L-Deck also exist.<br/><br/>Agricola is a turn-based game. There are 14 game rounds occurring in 6 stages, with a Harvest at the end of each stage (after Rounds 4, 7, 9, 11, 13, and 14).<br/>Each player starts with two playing tokens (farmer and spouse) and thus can take two turns, or actions, per round. There are multiple options, and while the game progresses, you'll have more and more: first thing in a round, a new action card is flipped over.<br/>Problem: Each action can be taken by only one player each round, so it's important to do some things with high preference.<br/>Each player also starts with a hand of 7 Occupation cards (of more than 160 total) and 7 Minor Improvement cards (of more than 140 total) that he/she may use during the game if they fit in his/her strategy. Speaking of which, there are countless strategies, some depending on your card hand. Sometimes it's a good choice to stay on course, and sometimes it is better to react to your opponents' actions...<br/><br/>\""
      ]
     },
     "execution_count": 7,
     "metadata": {},
     "output_type": "execute_result"
    }
   ],
   "source": [
    "data_games[\"Description\"][4]"
   ]
  },
  {
   "cell_type": "code",
   "execution_count": 8,
   "id": "32ba3ce0-945f-4fa5-b799-60206c9bd00a",
   "metadata": {},
   "outputs": [
    {
     "data": {
      "text/plain": [
       "\"Description from BoardgameNews  In Agricola, you're a farmer in a wooden shack with your spouse and little else. On a turn, you get to take only two actions, one for you and one for the spouse, from all the possibilities you'll find on a farm: collecting clay, wood, or stone; building fences; and so on. You might think about having kids in order to get more work accomplished, but first you need to expand your house. And what are you going to feed all the little rugrats?  The game supports many levels of complexity, mainly through the use (or non-use) of two of its main types of cards, Minor Improvements and Occupations. In the beginner's version (called the Family Variant in the U.S. release), these cards are not used at all. For advanced play, the U.S. release includes three levels of both types of cards; Basic (E-deck), Interactive (I-deck), and Complex (K-deck), and the rulebook encourages players to experiment with the various decks and mixtures thereof. Aftermarket decks such as the Z-Deck and the L-Deck also exist.  Agricola is a turn-based game. There are 14 game rounds occurring in 6 stages, with a Harvest at the end of each stage (after Rounds 4, 7, 9, 11, 13, and 14). Each player starts with two playing tokens (farmer and spouse) and thus can take two turns, or actions, per round. There are multiple options, and while the game progresses, you'll have more and more: first thing in a round, a new action card is flipped over. Problem: Each action can be taken by only one player each round, so it's important to do some things with high preference. Each player also starts with a hand of 7 Occupation cards (of more than 160 total) and 7 Minor Improvement cards (of more than 140 total) that he/she may use during the game if they fit in his/her strategy. Speaking of which, there are countless strategies, some depending on your card hand. Sometimes it's a good choice to stay on course, and sometimes it is better to react to your opponents' actions...  \""
      ]
     },
     "execution_count": 8,
     "metadata": {},
     "output_type": "execute_result"
    }
   ],
   "source": [
    "prepro_boardgames[\"Description\"][4]"
   ]
  },
  {
   "cell_type": "markdown",
   "id": "02e66857-f8b3-4fe2-b5d7-babeae3fa791",
   "metadata": {},
   "source": [
    "#### Punctuation characters"
   ]
  },
  {
   "cell_type": "code",
   "execution_count": 9,
   "id": "11c12f38-5a74-44e4-9793-b0e7e2b8fc0c",
   "metadata": {},
   "outputs": [],
   "source": [
    "sep = '|'\n",
    "punctuation_chars = '!\"#$%&\\'()*+,-./:;<=>?@[\\\\]^_`{}~'"
   ]
  },
  {
   "cell_type": "code",
   "execution_count": 10,
   "id": "bb0c57d4-608b-4908-87dc-460b961f8d70",
   "metadata": {},
   "outputs": [],
   "source": [
    "mapping_table = str.maketrans(dict.fromkeys(punctuation_chars, ''))"
   ]
  },
  {
   "cell_type": "code",
   "execution_count": 11,
   "id": "b2698169-044b-4bfa-831b-dd3a63f95c3a",
   "metadata": {},
   "outputs": [],
   "source": [
    "text_features = ['Description']"
   ]
  },
  {
   "cell_type": "code",
   "execution_count": 12,
   "id": "bdc1290d-b9d1-4977-a99c-bc821c667959",
   "metadata": {},
   "outputs": [],
   "source": [
    "for column in text_features:\n",
    "    prepro_boardgames[column] = sep \\\n",
    "    .join(prepro_boardgames[column].tolist()) \\\n",
    "    .translate(mapping_table) \\\n",
    "    .split(sep)"
   ]
  },
  {
   "cell_type": "markdown",
   "id": "62a49d50-bf46-49e5-b152-bedb422d14f6",
   "metadata": {},
   "source": [
    "#### Lower cases"
   ]
  },
  {
   "cell_type": "code",
   "execution_count": 13,
   "id": "d6e22f6d-ac8a-4293-aa7c-9c2cbd85143d",
   "metadata": {},
   "outputs": [],
   "source": [
    "prepro_boardgames[\"Description\"]=prepro_boardgames[\"Description\"].map(lambda x: x.lower())\n",
    "prepro_boardgames[\"Description\"]=prepro_boardgames[\"Description\"].map(lambda x: re.sub(' +', ' ', x))"
   ]
  },
  {
   "cell_type": "code",
   "execution_count": 14,
   "id": "35c90c71-7f8d-4164-8ce2-a5a01a7166c8",
   "metadata": {},
   "outputs": [],
   "source": [
    "data_text= prepro_boardgames.copy()"
   ]
  },
  {
   "cell_type": "markdown",
   "id": "3de5c0db-bd71-4809-8b21-50ab2d326c7a",
   "metadata": {},
   "source": [
    "#### Stopwords"
   ]
  },
  {
   "cell_type": "code",
   "execution_count": 15,
   "id": "fe40e1db-3700-4410-8948-567ed0bec66e",
   "metadata": {},
   "outputs": [
    {
     "name": "stderr",
     "output_type": "stream",
     "text": [
      "[nltk_data] Downloading package punkt to /home/bluterplay/nltk_data...\n",
      "[nltk_data]   Package punkt is already up-to-date!\n",
      "[nltk_data] Downloading package stopwords to\n",
      "[nltk_data]     /home/bluterplay/nltk_data...\n",
      "[nltk_data]   Package stopwords is already up-to-date!\n"
     ]
    },
    {
     "data": {
      "text/plain": [
       "True"
      ]
     },
     "execution_count": 15,
     "metadata": {},
     "output_type": "execute_result"
    }
   ],
   "source": [
    "nltk.download('punkt')\n",
    "nltk.download('stopwords')"
   ]
  },
  {
   "cell_type": "code",
   "execution_count": 16,
   "id": "bcd44b3d-0750-43dd-a11b-5172a9aeee83",
   "metadata": {},
   "outputs": [
    {
     "data": {
      "text/plain": [
       "['i', 'me', 'my', 'myself', 'we']"
      ]
     },
     "execution_count": 16,
     "metadata": {},
     "output_type": "execute_result"
    }
   ],
   "source": [
    "stopword_list  = stopwords.words('english')\n",
    "stopword_list[:5]"
   ]
  },
  {
   "cell_type": "markdown",
   "id": "22f58cde-ceec-451e-be3d-4eeca04afc3d",
   "metadata": {},
   "source": [
    "##### Split words"
   ]
  },
  {
   "cell_type": "code",
   "execution_count": 17,
   "id": "50ae9704-b422-4189-9c2c-c4e978948fc7",
   "metadata": {},
   "outputs": [],
   "source": [
    "for column in text_features:\n",
    "    prepro_boardgames[column] = prepro_boardgames[column].str.split()"
   ]
  },
  {
   "cell_type": "markdown",
   "id": "799d266f-f069-4f9b-a251-c99fa2c2501c",
   "metadata": {},
   "source": [
    "##### Remove stopwords"
   ]
  },
  {
   "cell_type": "code",
   "execution_count": 18,
   "id": "0de41f76-e99c-4ac2-9c8c-d0b209df03f8",
   "metadata": {},
   "outputs": [],
   "source": [
    "for column in text_features:\n",
    "    prepro_boardgames[column] = prepro_boardgames[column].apply(lambda x: [i for i in x if i not in stopword_list])\n",
    "    prepro_boardgames[column]"
   ]
  },
  {
   "cell_type": "code",
   "execution_count": 19,
   "id": "028bd504-b99a-435a-84e4-4cc887677b75",
   "metadata": {},
   "outputs": [
    {
     "data": {
      "text/html": [
       "<div>\n",
       "<style scoped>\n",
       "    .dataframe tbody tr th:only-of-type {\n",
       "        vertical-align: middle;\n",
       "    }\n",
       "\n",
       "    .dataframe tbody tr th {\n",
       "        vertical-align: top;\n",
       "    }\n",
       "\n",
       "    .dataframe thead th {\n",
       "        text-align: right;\n",
       "    }\n",
       "</style>\n",
       "<table border=\"1\" class=\"dataframe\">\n",
       "  <thead>\n",
       "    <tr style=\"text-align: right;\">\n",
       "      <th></th>\n",
       "      <th>GameId</th>\n",
       "      <th>GameName</th>\n",
       "      <th>Description</th>\n",
       "    </tr>\n",
       "  </thead>\n",
       "  <tbody>\n",
       "    <tr>\n",
       "      <th>0</th>\n",
       "      <td>148494</td>\n",
       "      <td>1,2,3! Now you see me...</td>\n",
       "      <td>[animals, farm, playing, game, red, lightgreen...</td>\n",
       "    </tr>\n",
       "    <tr>\n",
       "      <th>1</th>\n",
       "      <td>316377</td>\n",
       "      <td>7 Wonders (Second Edition)</td>\n",
       "      <td>[7, wonders, board, game, awards, game, planet...</td>\n",
       "    </tr>\n",
       "    <tr>\n",
       "      <th>2</th>\n",
       "      <td>155987</td>\n",
       "      <td>Abyss</td>\n",
       "      <td>[abyss, power, vacant, time, come, get, hands,...</td>\n",
       "    </tr>\n",
       "    <tr>\n",
       "      <th>3</th>\n",
       "      <td>21569</td>\n",
       "      <td>Adigma</td>\n",
       "      <td>[adigma, party, game, involves, simultaneous, ...</td>\n",
       "    </tr>\n",
       "    <tr>\n",
       "      <th>4</th>\n",
       "      <td>31260</td>\n",
       "      <td>Agricola</td>\n",
       "      <td>[description, boardgamenews, agricola, youre, ...</td>\n",
       "    </tr>\n",
       "  </tbody>\n",
       "</table>\n",
       "</div>"
      ],
      "text/plain": [
       "   GameId                    GameName  \\\n",
       "0  148494    1,2,3! Now you see me...   \n",
       "1  316377  7 Wonders (Second Edition)   \n",
       "2  155987                       Abyss   \n",
       "3   21569                      Adigma   \n",
       "4   31260                    Agricola   \n",
       "\n",
       "                                         Description  \n",
       "0  [animals, farm, playing, game, red, lightgreen...  \n",
       "1  [7, wonders, board, game, awards, game, planet...  \n",
       "2  [abyss, power, vacant, time, come, get, hands,...  \n",
       "3  [adigma, party, game, involves, simultaneous, ...  \n",
       "4  [description, boardgamenews, agricola, youre, ...  "
      ]
     },
     "execution_count": 19,
     "metadata": {},
     "output_type": "execute_result"
    }
   ],
   "source": [
    "prepro_boardgames.head()"
   ]
  },
  {
   "cell_type": "markdown",
   "id": "b5d2d905-9373-493d-b6f6-81fcea02cd35",
   "metadata": {},
   "source": [
    "#### Stemer"
   ]
  },
  {
   "cell_type": "code",
   "execution_count": 20,
   "id": "3f17793f-2523-439c-9a53-9ee89c1bdc69",
   "metadata": {},
   "outputs": [],
   "source": [
    "stemmer = SnowballStemmer('english')"
   ]
  },
  {
   "cell_type": "code",
   "execution_count": 21,
   "id": "2c23017f-d7f4-488a-ac07-9a24d37e55e8",
   "metadata": {},
   "outputs": [],
   "source": [
    "for column in text_features:\n",
    "    prepro_boardgames[column] = prepro_boardgames[column].apply(lambda x: [stemmer.stem(i) for i in x])"
   ]
  },
  {
   "cell_type": "code",
   "execution_count": 22,
   "id": "fc184b69-94cd-469f-8f50-1dcd48190d0f",
   "metadata": {},
   "outputs": [
    {
     "data": {
      "text/html": [
       "<div>\n",
       "<style scoped>\n",
       "    .dataframe tbody tr th:only-of-type {\n",
       "        vertical-align: middle;\n",
       "    }\n",
       "\n",
       "    .dataframe tbody tr th {\n",
       "        vertical-align: top;\n",
       "    }\n",
       "\n",
       "    .dataframe thead th {\n",
       "        text-align: right;\n",
       "    }\n",
       "</style>\n",
       "<table border=\"1\" class=\"dataframe\">\n",
       "  <thead>\n",
       "    <tr style=\"text-align: right;\">\n",
       "      <th></th>\n",
       "      <th>GameId</th>\n",
       "      <th>GameName</th>\n",
       "      <th>Description</th>\n",
       "    </tr>\n",
       "  </thead>\n",
       "  <tbody>\n",
       "    <tr>\n",
       "      <th>0</th>\n",
       "      <td>148494</td>\n",
       "      <td>1,2,3! Now you see me...</td>\n",
       "      <td>[anim, farm, play, game, red, lightgreen, ligh...</td>\n",
       "    </tr>\n",
       "    <tr>\n",
       "      <th>1</th>\n",
       "      <td>316377</td>\n",
       "      <td>7 Wonders (Second Edition)</td>\n",
       "      <td>[7, wonder, board, game, award, game, planet, ...</td>\n",
       "    </tr>\n",
       "    <tr>\n",
       "      <th>2</th>\n",
       "      <td>155987</td>\n",
       "      <td>Abyss</td>\n",
       "      <td>[abyss, power, vacant, time, come, get, hand, ...</td>\n",
       "    </tr>\n",
       "    <tr>\n",
       "      <th>3</th>\n",
       "      <td>21569</td>\n",
       "      <td>Adigma</td>\n",
       "      <td>[adigma, parti, game, involv, simultan, riddl,...</td>\n",
       "    </tr>\n",
       "    <tr>\n",
       "      <th>4</th>\n",
       "      <td>31260</td>\n",
       "      <td>Agricola</td>\n",
       "      <td>[descript, boardgamenew, agricola, your, farme...</td>\n",
       "    </tr>\n",
       "  </tbody>\n",
       "</table>\n",
       "</div>"
      ],
      "text/plain": [
       "   GameId                    GameName  \\\n",
       "0  148494    1,2,3! Now you see me...   \n",
       "1  316377  7 Wonders (Second Edition)   \n",
       "2  155987                       Abyss   \n",
       "3   21569                      Adigma   \n",
       "4   31260                    Agricola   \n",
       "\n",
       "                                         Description  \n",
       "0  [anim, farm, play, game, red, lightgreen, ligh...  \n",
       "1  [7, wonder, board, game, award, game, planet, ...  \n",
       "2  [abyss, power, vacant, time, come, get, hand, ...  \n",
       "3  [adigma, parti, game, involv, simultan, riddl,...  \n",
       "4  [descript, boardgamenew, agricola, your, farme...  "
      ]
     },
     "execution_count": 22,
     "metadata": {},
     "output_type": "execute_result"
    }
   ],
   "source": [
    "prepro_boardgames.head()"
   ]
  },
  {
   "cell_type": "markdown",
   "id": "0d0992d8-4f3b-487b-8d3e-b33c6e5536d7",
   "metadata": {},
   "source": [
    "##### Join words"
   ]
  },
  {
   "cell_type": "code",
   "execution_count": 23,
   "id": "651e2e60-c01d-4ee5-bdff-a149c387f713",
   "metadata": {},
   "outputs": [],
   "source": [
    "for column in text_features:\n",
    "    prepro_boardgames[column] = prepro_boardgames[column].apply(lambda x: ' '.join(x))"
   ]
  },
  {
   "cell_type": "code",
   "execution_count": 24,
   "id": "5866597b-f6ae-48a5-9fa2-3d01051b0dc3",
   "metadata": {},
   "outputs": [],
   "source": [
    "prepro_boardgames[\"Description\"]=prepro_boardgames[\"Description\"].map(lambda x: re.sub(' +', ' ', x))"
   ]
  },
  {
   "cell_type": "code",
   "execution_count": 25,
   "id": "02bb0e94-d6d7-4624-9989-6a89ea123f48",
   "metadata": {},
   "outputs": [
    {
     "data": {
      "text/html": [
       "<div>\n",
       "<style scoped>\n",
       "    .dataframe tbody tr th:only-of-type {\n",
       "        vertical-align: middle;\n",
       "    }\n",
       "\n",
       "    .dataframe tbody tr th {\n",
       "        vertical-align: top;\n",
       "    }\n",
       "\n",
       "    .dataframe thead th {\n",
       "        text-align: right;\n",
       "    }\n",
       "</style>\n",
       "<table border=\"1\" class=\"dataframe\">\n",
       "  <thead>\n",
       "    <tr style=\"text-align: right;\">\n",
       "      <th></th>\n",
       "      <th>GameId</th>\n",
       "      <th>GameName</th>\n",
       "      <th>Description</th>\n",
       "    </tr>\n",
       "  </thead>\n",
       "  <tbody>\n",
       "    <tr>\n",
       "      <th>0</th>\n",
       "      <td>148494</td>\n",
       "      <td>1,2,3! Now you see me...</td>\n",
       "      <td>anim farm play game red lightgreen light decid...</td>\n",
       "    </tr>\n",
       "    <tr>\n",
       "      <th>1</th>\n",
       "      <td>316377</td>\n",
       "      <td>7 Wonders (Second Edition)</td>\n",
       "      <td>7 wonder board game award game planet 30 inter...</td>\n",
       "    </tr>\n",
       "    <tr>\n",
       "      <th>2</th>\n",
       "      <td>155987</td>\n",
       "      <td>Abyss</td>\n",
       "      <td>abyss power vacant time come get hand throne p...</td>\n",
       "    </tr>\n",
       "    <tr>\n",
       "      <th>3</th>\n",
       "      <td>21569</td>\n",
       "      <td>Adigma</td>\n",
       "      <td>adigma parti game involv simultan riddl puzzl ...</td>\n",
       "    </tr>\n",
       "    <tr>\n",
       "      <th>4</th>\n",
       "      <td>31260</td>\n",
       "      <td>Agricola</td>\n",
       "      <td>descript boardgamenew agricola your farmer woo...</td>\n",
       "    </tr>\n",
       "  </tbody>\n",
       "</table>\n",
       "</div>"
      ],
      "text/plain": [
       "   GameId                    GameName  \\\n",
       "0  148494    1,2,3! Now you see me...   \n",
       "1  316377  7 Wonders (Second Edition)   \n",
       "2  155987                       Abyss   \n",
       "3   21569                      Adigma   \n",
       "4   31260                    Agricola   \n",
       "\n",
       "                                         Description  \n",
       "0  anim farm play game red lightgreen light decid...  \n",
       "1  7 wonder board game award game planet 30 inter...  \n",
       "2  abyss power vacant time come get hand throne p...  \n",
       "3  adigma parti game involv simultan riddl puzzl ...  \n",
       "4  descript boardgamenew agricola your farmer woo...  "
      ]
     },
     "execution_count": 25,
     "metadata": {},
     "output_type": "execute_result"
    }
   ],
   "source": [
    "prepro_boardgames.head()"
   ]
  },
  {
   "cell_type": "markdown",
   "id": "a8e4b580-502a-4ca2-ad6a-18b289655ea2",
   "metadata": {},
   "source": [
    "# Word2Vect"
   ]
  },
  {
   "cell_type": "code",
   "execution_count": 26,
   "id": "f086d325-8b94-4a24-aa5c-c816d07db776",
   "metadata": {},
   "outputs": [],
   "source": [
    "df_text= prepro_boardgames.copy()"
   ]
  },
  {
   "cell_type": "markdown",
   "id": "d0430cd3-4dd5-43d1-9949-b9b0349c965c",
   "metadata": {},
   "source": [
    "## Doc Term matrix"
   ]
  },
  {
   "cell_type": "markdown",
   "id": "76a6ea3c-c931-426f-ac64-56019add6715",
   "metadata": {},
   "source": [
    "### Load Doc Term matrix"
   ]
  },
  {
   "cell_type": "code",
   "execution_count": 128,
   "id": "34f469ac-3525-4a65-ac43-a73949bbb0dc",
   "metadata": {},
   "outputs": [],
   "source": [
    "term_document_matrix_tfi = pd.read_csv(\"TermMatrixTfi.csv\")\n",
    "term_document_matrix = pd.read_csv(\"TermMatrix.csv\")"
   ]
  },
  {
   "cell_type": "code",
   "execution_count": 129,
   "id": "3b292cbd-648b-4746-9f70-d687c9d38dad",
   "metadata": {},
   "outputs": [],
   "source": [
    "term_document_matrix_tfi.set_index('Unnamed: 0',inplace=True)"
   ]
  },
  {
   "cell_type": "markdown",
   "id": "ed16bb76-fa0b-4cc1-9ac8-8f51b8cbe317",
   "metadata": {},
   "source": [
    "### Select words by Tfi df"
   ]
  },
  {
   "cell_type": "code",
   "execution_count": 84,
   "id": "031929a8-5939-4186-8d79-7b8e261a4bc2",
   "metadata": {},
   "outputs": [],
   "source": [
    "vectorizerTfi= TfidfVectorizer()\n",
    "vecTfi= vectorizerTfi.fit_transform(df_text[\"Description\"])"
   ]
  },
  {
   "cell_type": "code",
   "execution_count": 85,
   "id": "a7f178a9-e687-468f-8d99-ac1d29b5d013",
   "metadata": {},
   "outputs": [],
   "source": [
    "td_tfi = pd.DataFrame(vecTfi.todense())\n",
    "td_tfi.columns = vectorizerTfi.get_feature_names_out()\n",
    "\n",
    "term_document_matrix_tfi = td_tfi.T\n",
    "term_document_matrix_tfi.columns = [str(x) for x in df_text.GameId.unique()]"
   ]
  },
  {
   "cell_type": "code",
   "execution_count": 86,
   "id": "8505a3be-5cbe-4c6c-b238-5d6196214e42",
   "metadata": {
    "tags": []
   },
   "outputs": [],
   "source": [
    "relevant_words= set()\n",
    "for column in df_text.GameId.unique():\n",
    "    ls_words=list(term_document_matrix_tfi.sort_values(by=str(column), ascending=False)[:10].index)\n",
    "    for word in ls_words:\n",
    "        relevant_words.add(word)"
   ]
  },
  {
   "cell_type": "code",
   "execution_count": 87,
   "id": "fd96949e-3af5-420b-bff3-0fbfa6aad207",
   "metadata": {},
   "outputs": [],
   "source": [
    "term_document_matrix= term_document_matrix_tfi.filter(items=list(relevant_words), axis=0).T"
   ]
  },
  {
   "cell_type": "code",
   "execution_count": 88,
   "id": "5aee1341-a3d7-4564-bc1a-75e85afc5ab6",
   "metadata": {},
   "outputs": [
    {
     "data": {
      "text/html": [
       "<div>\n",
       "<style scoped>\n",
       "    .dataframe tbody tr th:only-of-type {\n",
       "        vertical-align: middle;\n",
       "    }\n",
       "\n",
       "    .dataframe tbody tr th {\n",
       "        vertical-align: top;\n",
       "    }\n",
       "\n",
       "    .dataframe thead th {\n",
       "        text-align: right;\n",
       "    }\n",
       "</style>\n",
       "<table border=\"1\" class=\"dataframe\">\n",
       "  <thead>\n",
       "    <tr style=\"text-align: right;\">\n",
       "      <th></th>\n",
       "      <th>dystopia</th>\n",
       "      <th>knock</th>\n",
       "      <th>snappiest</th>\n",
       "      <th>cranium</th>\n",
       "      <th>retali</th>\n",
       "      <th>without</th>\n",
       "      <th>administ</th>\n",
       "      <th>flutter</th>\n",
       "      <th>penetr</th>\n",
       "      <th>tale</th>\n",
       "      <th>...</th>\n",
       "      <th>afghan</th>\n",
       "      <th>hard</th>\n",
       "      <th>karmaka</th>\n",
       "      <th>irregular</th>\n",
       "      <th>noon</th>\n",
       "      <th>similo</th>\n",
       "      <th>cyberspac</th>\n",
       "      <th>worthi</th>\n",
       "      <th>manarich</th>\n",
       "      <th>symptom</th>\n",
       "    </tr>\n",
       "  </thead>\n",
       "  <tbody>\n",
       "    <tr>\n",
       "      <th>281442</th>\n",
       "      <td>0.0</td>\n",
       "      <td>0.0</td>\n",
       "      <td>0.0</td>\n",
       "      <td>0.0</td>\n",
       "      <td>0.0</td>\n",
       "      <td>0.0</td>\n",
       "      <td>0.0</td>\n",
       "      <td>0.0</td>\n",
       "      <td>0.0</td>\n",
       "      <td>0.0</td>\n",
       "      <td>...</td>\n",
       "      <td>0.0</td>\n",
       "      <td>0.0</td>\n",
       "      <td>0.0</td>\n",
       "      <td>0.0</td>\n",
       "      <td>0.0</td>\n",
       "      <td>0.0</td>\n",
       "      <td>0.0</td>\n",
       "      <td>0.0</td>\n",
       "      <td>0.0</td>\n",
       "      <td>0.0</td>\n",
       "    </tr>\n",
       "    <tr>\n",
       "      <th>6268</th>\n",
       "      <td>0.0</td>\n",
       "      <td>0.0</td>\n",
       "      <td>0.0</td>\n",
       "      <td>0.0</td>\n",
       "      <td>0.0</td>\n",
       "      <td>0.0</td>\n",
       "      <td>0.0</td>\n",
       "      <td>0.0</td>\n",
       "      <td>0.0</td>\n",
       "      <td>0.0</td>\n",
       "      <td>...</td>\n",
       "      <td>0.0</td>\n",
       "      <td>0.0</td>\n",
       "      <td>0.0</td>\n",
       "      <td>0.0</td>\n",
       "      <td>0.0</td>\n",
       "      <td>0.0</td>\n",
       "      <td>0.0</td>\n",
       "      <td>0.0</td>\n",
       "      <td>0.0</td>\n",
       "      <td>0.0</td>\n",
       "    </tr>\n",
       "    <tr>\n",
       "      <th>239472</th>\n",
       "      <td>0.0</td>\n",
       "      <td>0.0</td>\n",
       "      <td>0.0</td>\n",
       "      <td>0.0</td>\n",
       "      <td>0.0</td>\n",
       "      <td>0.0</td>\n",
       "      <td>0.0</td>\n",
       "      <td>0.0</td>\n",
       "      <td>0.0</td>\n",
       "      <td>0.0</td>\n",
       "      <td>...</td>\n",
       "      <td>0.0</td>\n",
       "      <td>0.0</td>\n",
       "      <td>0.0</td>\n",
       "      <td>0.0</td>\n",
       "      <td>0.0</td>\n",
       "      <td>0.0</td>\n",
       "      <td>0.0</td>\n",
       "      <td>0.0</td>\n",
       "      <td>0.0</td>\n",
       "      <td>0.0</td>\n",
       "    </tr>\n",
       "    <tr>\n",
       "      <th>241491</th>\n",
       "      <td>0.0</td>\n",
       "      <td>0.0</td>\n",
       "      <td>0.0</td>\n",
       "      <td>0.0</td>\n",
       "      <td>0.0</td>\n",
       "      <td>0.0</td>\n",
       "      <td>0.0</td>\n",
       "      <td>0.0</td>\n",
       "      <td>0.0</td>\n",
       "      <td>0.0</td>\n",
       "      <td>...</td>\n",
       "      <td>0.0</td>\n",
       "      <td>0.0</td>\n",
       "      <td>0.0</td>\n",
       "      <td>0.0</td>\n",
       "      <td>0.0</td>\n",
       "      <td>0.0</td>\n",
       "      <td>0.0</td>\n",
       "      <td>0.0</td>\n",
       "      <td>0.0</td>\n",
       "      <td>0.0</td>\n",
       "    </tr>\n",
       "    <tr>\n",
       "      <th>770</th>\n",
       "      <td>0.0</td>\n",
       "      <td>0.0</td>\n",
       "      <td>0.0</td>\n",
       "      <td>0.0</td>\n",
       "      <td>0.0</td>\n",
       "      <td>0.0</td>\n",
       "      <td>0.0</td>\n",
       "      <td>0.0</td>\n",
       "      <td>0.0</td>\n",
       "      <td>0.0</td>\n",
       "      <td>...</td>\n",
       "      <td>0.0</td>\n",
       "      <td>0.0</td>\n",
       "      <td>0.0</td>\n",
       "      <td>0.0</td>\n",
       "      <td>0.0</td>\n",
       "      <td>0.0</td>\n",
       "      <td>0.0</td>\n",
       "      <td>0.0</td>\n",
       "      <td>0.0</td>\n",
       "      <td>0.0</td>\n",
       "    </tr>\n",
       "  </tbody>\n",
       "</table>\n",
       "<p>5 rows × 8335 columns</p>\n",
       "</div>"
      ],
      "text/plain": [
       "        dystopia  knock  snappiest  cranium  retali  without  administ  \\\n",
       "281442       0.0    0.0        0.0      0.0     0.0      0.0       0.0   \n",
       "6268         0.0    0.0        0.0      0.0     0.0      0.0       0.0   \n",
       "239472       0.0    0.0        0.0      0.0     0.0      0.0       0.0   \n",
       "241491       0.0    0.0        0.0      0.0     0.0      0.0       0.0   \n",
       "770          0.0    0.0        0.0      0.0     0.0      0.0       0.0   \n",
       "\n",
       "        flutter  penetr  tale  ...  afghan  hard  karmaka  irregular  noon  \\\n",
       "281442      0.0     0.0   0.0  ...     0.0   0.0      0.0        0.0   0.0   \n",
       "6268        0.0     0.0   0.0  ...     0.0   0.0      0.0        0.0   0.0   \n",
       "239472      0.0     0.0   0.0  ...     0.0   0.0      0.0        0.0   0.0   \n",
       "241491      0.0     0.0   0.0  ...     0.0   0.0      0.0        0.0   0.0   \n",
       "770         0.0     0.0   0.0  ...     0.0   0.0      0.0        0.0   0.0   \n",
       "\n",
       "        similo  cyberspac  worthi  manarich  symptom  \n",
       "281442     0.0        0.0     0.0       0.0      0.0  \n",
       "6268       0.0        0.0     0.0       0.0      0.0  \n",
       "239472     0.0        0.0     0.0       0.0      0.0  \n",
       "241491     0.0        0.0     0.0       0.0      0.0  \n",
       "770        0.0        0.0     0.0       0.0      0.0  \n",
       "\n",
       "[5 rows x 8335 columns]"
      ]
     },
     "execution_count": 88,
     "metadata": {},
     "output_type": "execute_result"
    }
   ],
   "source": [
    "term_document_matrix.sample(5)"
   ]
  },
  {
   "cell_type": "markdown",
   "id": "07448a38-ffc6-4247-b77d-a52379e7bae2",
   "metadata": {},
   "source": [
    "### LDA"
   ]
  },
  {
   "cell_type": "code",
   "execution_count": 89,
   "id": "504ee57d-3d10-405c-9576-0077e2d3ccb9",
   "metadata": {},
   "outputs": [],
   "source": [
    "from sklearn.decomposition import LatentDirichletAllocation\n",
    "\n",
    "lda = LatentDirichletAllocation(n_components=3,random_state=0)\n",
    "X=lda.fit_transform(term_document_matrix)"
   ]
  },
  {
   "cell_type": "code",
   "execution_count": 90,
   "id": "0ce7942f-912e-49e3-8f23-8fa2849d4882",
   "metadata": {},
   "outputs": [],
   "source": [
    "df_boardgames = pd.concat([data_text, \n",
    "                       pd.DataFrame(X, columns=['LDA1', 'LDA2', 'LDA3'])\n",
    "                       ], axis=1)"
   ]
  },
  {
   "cell_type": "code",
   "execution_count": 91,
   "id": "d2a2ed40-f81c-4c73-ac67-2d3a22058944",
   "metadata": {},
   "outputs": [
    {
     "data": {
      "application/vnd.plotly.v1+json": {
       "config": {
        "plotlyServerURL": "https://plot.ly"
       },
       "data": [
        {
         "customdata": [
          [
           148494,
           "1,2,3! Now you see me..."
          ],
          [
           316377,
           "7 Wonders (Second Edition)"
          ],
          [
           155987,
           "Abyss"
          ],
          [
           21569,
           "Adigma"
          ],
          [
           31260,
           "Agricola"
          ],
          [
           161970,
           "Alchemists"
          ],
          [
           124742,
           "Android: Netrunner"
          ],
          [
           17329,
           "Animal Upon Animal"
          ],
          [
           25643,
           "Arkadia"
          ],
          [
           12005,
           "Around the World in 80 Days"
          ],
          [
           230802,
           "Azul"
          ],
          [
           287954,
           "Azul: Summer Pavilion"
          ],
          [
           302388,
           "Back to the Future: Back in Time"
          ],
          [
           27225,
           "Bananagrams"
          ],
          [
           2453,
           "Blokus"
          ],
          [
           231696,
           "Bob Ross: Art of Chill Game"
          ],
          [
           332386,
           "Brew"
          ],
          [
           184921,
           "Bunny Kingdom"
          ],
          [
           822,
           "Carcassonne"
          ],
          [
           164127,
           "Carcassonne Big Box 5"
          ],
          [
           89952,
           "Carcassonne: 10 Year Special Edition"
          ],
          [
           13,
           "CATAN"
          ],
          [
           102794,
           "Caverna"
          ],
          [
           113428,
           "Cazadores de Fosiles"
          ],
          [
           270970,
           "Century: A New World"
          ],
          [
           38194,
           "Cheaty Mages!"
          ],
          [
           11971,
           "Cockroach Poker"
          ],
          [
           32341,
           "Cockroach Salad"
          ],
          [
           198773,
           "Codenames: Pictures"
          ],
          [
           42685,
           "Connect 4x4"
          ],
          [
           245476,
           "CuBirds"
          ],
          [
           221371,
           "DC Spyfall"
          ],
          [
           194594,
           "Dice Forge"
          ],
          [
           121288,
           "Dixit: Journey"
          ],
          [
           246701,
           "DOS"
          ],
          [
           264055,
           "Draftosaurus"
          ],
          [
           232219,
           "Dragon Castle"
          ],
          [
           244916,
           "Drop It"
          ],
          [
           38154,
           "Electronic Pictionary Man"
          ],
          [
           12346,
           "La escalera encantada"
          ],
          [
           172225,
           "Exploding Kittens"
          ],
          [
           83195,
           "Fantasma Blitz"
          ],
          [
           223538,
           "Fast Food Fear!"
          ],
          [
           171129,
           "Fila Filo"
          ],
          [
           136063,
           "Forbidden Desert"
          ],
          [
           65244,
           "Forbidden Island"
          ],
          [
           245271,
           "Forbidden Sky"
          ],
          [
           37904,
           "Formula D"
          ],
          [
           142296,
           "Funemployed"
          ],
          [
           31481,
           "Galaxy Trucker: Aventuras en el Espacio"
          ],
          [
           220877,
           "Ganges"
          ],
          [
           303051,
           "Godzilla: Tokyo Clash"
          ],
          [
           98778,
           "Hanabi"
          ],
          [
           43015,
           "Hansa Teutonica"
          ],
          [
           153484,
           "Hedbanz Act Up!"
          ],
          [
           292732,
           "Hedbanz Adulting"
          ],
          [
           23049,
           "Hedbanz for Kids"
          ],
          [
           174078,
           "Holmes: Sherlock & Mycroft"
          ],
          [
           177524,
           "ICECOOL"
          ],
          [
           191862,
           "Imhotep"
          ],
          [
           28023,
           "Jamaica"
          ],
          [
           161929,
           "Jardín Botánico de Tehuacán"
          ],
          [
           193042,
           "Junk Art"
          ],
          [
           172552,
           "Karmaka"
          ],
          [
           257501,
           "KeyForge: Call of the Archons"
          ],
          [
           119,
           "Kingdoms"
          ],
          [
           19259,
           "Kumare"
          ],
          [
           136991,
           "Loony Quest"
          ],
          [
           203993,
           "Lorenzo il Magnifico"
          ],
          [
           41916,
           "The Magic Labyrinth"
          ],
          [
           437,
           "Master Labyrinth"
          ],
          [
           255639,
           "Mesozooic"
          ],
          [
           54239,
           "Mindflex"
          ],
          [
           118,
           "Modern Art"
          ],
          [
           327797,
           "Monopoly Bid"
          ],
          [
           40398,
           "Monopoly Deal Card Game"
          ],
          [
           295824,
           "Monopoly Speed"
          ],
          [
           287322,
           "Mystic Market"
          ],
          [
           273477,
           "Obscurio"
          ],
          [
           303057,
           "Pan Am"
          ],
          [
           30549,
           "Pandemic"
          ],
          [
           255034,
           "Papua"
          ],
          [
           16314,
           "Party Scrabble"
          ],
          [
           2593,
           "Pass the Pigs"
          ],
          [
           312804,
           "Pendulum"
          ],
          [
           6235,
           "The Perilous Parlor Game"
          ],
          [
           1258,
           "Phase 10"
          ],
          [
           2281,
           "Pictionary"
          ],
          [
           214282,
           "Pictionary Man Double Draw"
          ],
          [
           175739,
           "Pictopia: Disney Edition"
          ],
          [
           140,
           "Pit"
          ],
          [
           252929,
           "Planet"
          ],
          [
           180974,
           "Potion Explosion"
          ],
          [
           2651,
           "Power Grid (Recharged Version)"
          ],
          [
           3076,
           "Puerto Rico"
          ],
          [
           91536,
           "Quarriors!"
          ],
          [
           232043,
           "Queendomino"
          ],
          [
           25669,
           "Qwirkle"
          ],
          [
           12,
           "Ra"
          ],
          [
           227224,
           "The Red Cathedral"
          ],
          [
           244228,
           "Reef"
          ],
          [
           91514,
           "Rhino Hero"
          ],
          [
           37198,
           "Risk (Revised Edition)"
          ],
          [
           1829,
           "Risk 2210 A.D."
          ],
          [
           105134,
           "Risk Revolution"
          ],
          [
           132531,
           "Roll for the Galaxy"
          ],
          [
           20545,
           "Rory's Story Cubes"
          ],
          [
           89415,
           "Rory's Story Cubes: Actions"
          ],
          [
           182541,
           "Rory's Story Cubes: Batman"
          ],
          [
           811,
           "Rummikub"
          ],
          [
           180943,
           "Sabordage"
          ],
          [
           194655,
           "Santorini"
          ],
          [
           438,
           "Scotland Yard"
          ],
          [
           320,
           "Scrabble"
          ],
          [
           151603,
           "Scrabble Twists & Turns"
          ],
          [
           169786,
           "Scythe"
          ],
          [
           20551,
           "Shogun"
          ],
          [
           1269,
           "Skip-Bo"
          ],
          [
           271785,
           "Slide Quest"
          ],
          [
           220199,
           "Snappy Dressers"
          ],
          [
           266179,
           "Space Gate Odyssey"
          ],
          [
           158100,
           "Speed Cups²"
          ],
          [
           162007,
           "Steampunk Rally"
          ],
          [
           34635,
           "Stone Age"
          ],
          [
           2653,
           "Survive: Escape from Atlantis!"
          ],
          [
           46213,
           "Telestrations"
          ],
          [
           229853,
           "Teotihuacan: City of Gods"
          ],
          [
           153507,
           "Terra"
          ],
          [
           14996,
           "Ticket to Ride: Europe"
          ],
          [
           21348,
           "Ticket to Ride: Märklin"
          ],
          [
           131325,
           "Timeline: General Interest"
          ],
          [
           145189,
           "Timeline: Music & Cinema"
          ],
          [
           20096,
           "Toru"
          ],
          [
           158672,
           "La tumba del rey Pakal"
          ],
          [
           217085,
           "Unearth"
          ],
          [
           5522,
           "UNO Rummy-Up"
          ],
          [
           192334,
           "Vikings on Board"
          ],
          [
           2471,
           "Zombies!!! Second Edition"
          ],
          [
           27588,
           "Zooloretto"
          ],
          [
           145715,
           "Adidoku: Mona Lisa"
          ],
          [
           205637,
           "Arkham Horror: The Card Game"
          ],
          [
           256226,
           "Azul: Stained Glass of Sintra"
          ],
          [
           227466,
           "Break the Code"
          ],
          [
           283155,
           "Calico"
          ],
          [
           194233,
           "Cartoon Network Crossover Crisis Deck-Building Game"
          ],
          [
           221367,
           "Cartoon Network Crossover Crisis: Animation Annihilation Deck-Building Game"
          ],
          [
           295947,
           "Cascadia"
          ],
          [
           326945,
           "Castles of Mad King Ludwig: Collector's Edition"
          ],
          [
           232832,
           "Century: Golem Edition"
          ],
          [
           283619,
           "Century: Golem Edition – Eastern Mountains"
          ],
          [
           266507,
           "Clank!: Legacy – Acquisitions Incorporated"
          ],
          [
           290028,
           "Codenames: The Simpsons"
          ],
          [
           158408,
           "Coup: Deluxe Edition"
          ],
          [
           304051,
           "Creature Comforts"
          ],
          [
           298069,
           "Cubitos"
          ],
          [
           169654,
           "Deep Sea Adventure"
          ],
          [
           210937,
           "Dia de los Muertos"
          ],
          [
           39856,
           "Dixit"
          ],
          [
           92828,
           "Dixit: Odyssey"
          ],
          [
           330401,
           "Dokojong"
          ],
          [
           274635,
           "Dual Clash Poker"
          ],
          [
           227110,
           "Dungeon of Mandom VIII"
          ],
          [
           307963,
           "Durian"
          ],
          [
           294233,
           "Fafnir"
          ],
          [
           135779,
           "A Fake Artist Goes to New York"
          ],
          [
           256478,
           "Flotsam Fight"
          ],
          [
           175914,
           "Food Chain Magnate"
          ],
          [
           246693,
           "Funky Chicken"
          ],
          [
           141430,
           "Geek Out!"
          ],
          [
           174430,
           "Gloomhaven"
          ],
          [
           291457,
           "Gloomhaven: Jaws of the Lion"
          ],
          [
           929,
           "The Great Dalmuti: Dungeons & Dragons"
          ],
          [
           2379,
           "Guesstures"
          ],
          [
           194626,
           "Happy Salmon"
          ],
          [
           324467,
           "Hey Yo"
          ],
          [
           102181,
           "In a Grove"
          ],
          [
           206051,
           "Insider"
          ],
          [
           307997,
           "Insider Black"
          ],
          [
           281259,
           "The Isle of Cats"
          ],
          [
           338460,
           "The Isle of Cats: Explore & Draw"
          ],
          [
           251219,
           "Istanbul: Big Box"
          ],
          [
           173209,
           "Knight Fight"
          ],
          [
           142325,
           "Kobayakawa"
          ],
          [
           275467,
           "Letter Jam"
          ],
          [
           110327,
           "Lords of Waterdeep"
          ],
          [
           285774,
           "Marvel Champions: The Card Game"
          ],
          [
           159581,
           "Maskmen"
          ],
          [
           318977,
           "MicroMacro: Crime City"
          ],
          [
           338834,
           "MicroMacro: Crime City – Full House"
          ],
          [
           244992,
           "The Mind"
          ],
          [
           328569,
           "Mint Bid"
          ],
          [
           299249,
           "Mint Control"
          ],
          [
           282765,
           "Mint Cooperative"
          ],
          [
           230251,
           "Mint Delivery"
          ],
          [
           200077,
           "Mint Works"
          ],
          [
           251622,
           "Moneybags"
          ],
          [
           246696,
           "Monster Match"
          ],
          [
           330403,
           "Moon Adventure"
          ],
          [
           267945,
           "Mr. Face"
          ],
          [
           128475,
           "Murder of Crows"
          ],
          [
           188018,
           "Nine Tiles"
          ],
          [
           279869,
           "Nine Tiles Panic"
          ],
          [
           311457,
           "Ninja Catfoot and the Covert Action"
          ],
          [
           353414,
           "Ofrendados, the road to Mictlán"
          ],
          [
           248584,
           "Pantone: The Game"
          ],
          [
           252526,
           "Pictomania (Second Edition)"
          ],
          [
           215469,
           "The Pyramid's Deadline"
          ],
          [
           259571,
           "Quarriors! Qultimate Quedition"
          ],
          [
           317030,
           "Quest: Avalon Big Box Edition"
          ],
          [
           170042,
           "Raiders of the North Sea"
          ],
          [
           221372,
           "Rick and Morty: Close Rick-Counters of the Rick Kind Deck-Building Game"
          ],
          [
           246534,
           "Rick and Morty: The Rickshank Rickdemption Deck-Building Game"
          ],
          [
           176458,
           "Rights"
          ],
          [
           305682,
           "Rolling Realms"
          ],
          [
           193308,
           "Spyfall 2"
          ],
          [
           223770,
           "Startups"
          ],
          [
           279720,
           "Streets"
          ],
          [
           267367,
           "Suburbia: Collector's Edition"
          ],
          [
           253664,
           "Taco Cat Goat Cheese Pizza"
          ],
          [
           246912,
           "Take 5 & Take A Number"
          ],
          [
           153016,
           "Telestrations: 12 Player Party Pack"
          ],
          [
           215341,
           "Thunderstone Quest"
          ],
          [
           37141,
           "Time's Up! Deluxe"
          ],
          [
           256479,
           "TomaTomato"
          ],
          [
           242325,
           "Tricks and the Phantom"
          ],
          [
           240822,
           "Troika"
          ],
          [
           343,
           "Twins"
          ],
          [
           2223,
           "UNO"
          ],
          [
           234190,
           "Unstable Unicorns"
          ],
          [
           241724,
           "Villagers"
          ],
          [
           180020,
           "Virus!"
          ],
          [
           255739,
           "VOID"
          ],
          [
           281075,
           "Welcome to New Las Vegas"
          ],
          [
           249289,
           "Zogen"
          ],
          [
           68448,
           "7 Wonders"
          ],
          [
           10547,
           "Betrayal at House on the Hill"
          ],
          [
           240196,
           "Betrayal Legacy"
          ],
          [
           10550,
           "Big Boggle"
          ],
          [
           217547,
           "Can't Stop Express"
          ],
          [
           84876,
           "The Castles of Burgundy"
          ],
          [
           178900,
           "Código secreto"
          ],
          [
           217949,
           "A Column of Fire"
          ],
          [
           891,
           "Cranium"
          ],
          [
           40871,
           "Crisis"
          ],
          [
           256570,
           "Crown of Emara"
          ],
          [
           141653,
           "Disc Duelers"
          ],
          [
           100423,
           "Elder Sign"
          ],
          [
           146021,
           "Eldritch Horror"
          ],
          [
           13823,
           "Fairy Tale"
          ],
          [
           118705,
           "Fantasma Blitz 2.0"
          ],
          [
           203430,
           "Fuji Flush"
          ],
          [
           217780,
           "Gentes"
          ],
          [
           193738,
           "Great Western Trail"
          ],
          [
           212402,
           "The Grimm Forest"
          ],
          [
           195314,
           "Herbaceous"
          ],
          [
           246228,
           "Impact: Battle of Elements"
          ],
          [
           31594,
           "In the Year of the Dragon"
          ],
          [
           293141,
           "King of Tokyo: Dark Edition"
          ],
          [
           29368,
           "Last Night on Earth: The Zombie Game"
          ],
          [
           129622,
           "Love Letter"
          ],
          [
           83330,
           "Mansions of Madness"
          ],
          [
           252776,
           "Muse: Awakenings"
          ],
          [
           157809,
           "Nations: The Dice Game"
          ],
          [
           244711,
           "Newton"
          ],
          [
           12942,
           "No Thanks!"
          ],
          [
           25554,
           "Notre Dame"
          ],
          [
           1234,
           "Once Upon a Time: The Storytelling Card Game"
          ],
          [
           193558,
           "The Oracle of Delphi"
          ],
          [
           161936,
           "Pandemic Legacy: Season 1"
          ],
          [
           145186,
           "Pick-a-Polar Bear"
          ],
          [
           131260,
           "Qwixx"
          ],
          [
           79073,
           "Resident Evil Deck Building Game"
          ],
          [
           51,
           "Ricochet Robots"
          ],
          [
           9220,
           "Saboteur"
          ],
          [
           175549,
           "Salem 1692"
          ],
          [
           2375,
           "Sequence"
          ],
          [
           133473,
           "Sushi Go!"
          ],
          [
           25613,
           "Through the Ages: A Story of Civilization"
          ],
          [
           9209,
           "Ticket to Ride"
          ],
          [
           244536,
           "Tiny Epic Zombies"
          ],
          [
           183394,
           "Viticulture Essential Edition"
          ],
          [
           240892,
           "8Bit Box"
          ],
          [
           302260,
           "Abandon All Artichokes"
          ],
          [
           239472,
           "Abomination: The Heir of Frankenstein"
          ],
          [
           286915,
           "Adidoku Niños: Frankenstein y Amigos"
          ],
          [
           284080,
           "Adidoku: Marylin y Arte"
          ],
          [
           286785,
           "Adidoku: Pancho Villa"
          ],
          [
           287216,
           "ADIGMA (Second Edition)"
          ],
          [
           267814,
           "Adventure Games: Monochrome Inc."
          ],
          [
           267813,
           "Adventure Games: The Dungeon"
          ],
          [
           295949,
           "Adventure Games: The Grand Hotel Abaddon"
          ],
          [
           284082,
           "Adventure Games: The Volcanic Island"
          ],
          [
           326494,
           "The Adventures of Robin Hood"
          ],
          [
           6249,
           "Alhambra"
          ],
          [
           311193,
           "Anno 1800"
          ],
          [
           295948,
           "Aqualin"
          ],
          [
           207208,
           "Armageddon"
          ],
          [
           165796,
           "Assel Schlamassel"
          ],
          [
           39683,
           "At the Gates of Loyang"
          ],
          [
           184887,
           "Atrapame si puedes"
          ],
          [
           231581,
           "AuZtralia"
          ],
          [
           205078,
           "Barcelona: La Rosa de Fuego"
          ],
          [
           127129,
           "Batman: Arkham City Escape"
          ],
          [
           54137,
           "Battle Sheep"
          ],
          [
           165950,
           "Beasty Bar"
          ],
          [
           323612,
           "Bitoku"
          ],
          [
           244331,
           "Blue Lagoon"
          ],
          [
           312206,
           "Böse Kuh"
          ],
          [
           285894,
           "Bravo!"
          ],
          [
           8392,
           "Buckaroo!"
          ],
          [
           137909,
           "Bugs in the Kitchen"
          ],
          [
           171499,
           "Cacao"
          ],
          [
           329206,
           "Calabozo: Clásico Montecarlo de colección"
          ],
          [
           209812,
           "Calabozo: La aventura de los anillos"
          ],
          [
           220443,
           "Callisto"
          ],
          [
           153938,
           "Camel Up"
          ],
          [
           295607,
           "Canopy"
          ],
          [
           329954,
           "Carcassonne: 20th Anniversary Edition"
          ],
          [
           206940,
           "Carcassonne: Amazonas"
          ],
          [
           4390,
           "Carcassonne: Hunters and Gatherers"
          ],
          [
           256065,
           "Carcassonne: Safari"
          ],
          [
           147303,
           "Carcassonne: South Seas"
          ],
          [
           134918,
           "Cassette Juego: La Oca"
          ],
          [
           225653,
           "Castellers!"
          ],
          [
           323614,
           "Castle Party"
          ],
          [
           184842,
           "Catan Junior"
          ],
          [
           298278,
           "Catan: 25 Jahre Jubiläums-Edition"
          ],
          [
           305668,
           "Catan: 25th Anniversary Edition"
          ],
          [
           191710,
           "Catan: Big Box"
          ],
          [
           194097,
           "Catan: Big Game Event Kit"
          ],
          [
           125921,
           "Catan: Junior"
          ],
          [
           282853,
           "Catan: Starfarers"
          ],
          [
           242574,
           "Century: Eastern Wonders"
          ],
          [
           209685,
           "Century: Spice Road"
          ],
          [
           87467,
           "Checkers Gomoku"
          ],
          [
           171,
           "Chess"
          ],
          [
           3570,
           "Chicken Cha Cha Cha"
          ],
          [
           2386,
           "Chinese Checkers"
          ],
          [
           5432,
           "Chutes and Ladders"
          ],
          [
           17517,
           "Clue Mysteries"
          ],
          [
           4928,
           "Clue: 50th Anniversary Edition"
          ],
          [
           256980,
           "The Color Monster"
          ],
          [
           147151,
           "Concept"
          ],
          [
           2719,
           "Connect Four"
          ],
          [
           269595,
           "Copenhagen"
          ],
          [
           131499,
           "Counting Fun"
          ],
          [
           8172,
           "Coyote"
          ],
          [
           301637,
           "Crazy Fishing"
          ],
          [
           284083,
           "The Crew: The Quest for Planet Nine"
          ],
          [
           143986,
           "CV"
          ],
          [
           8924,
           "Dancing Eggs"
          ],
          [
           17136,
           "DaVinci's Challenge"
          ],
          [
           223321,
           "Detective: A Modern Crime Board Game"
          ],
          [
           54395,
           "Difference"
          ],
          [
           156719,
           "Dino Race"
          ],
          [
           256382,
           "Disney Villainous"
          ],
          [
           295490,
           "Dodo"
          ],
          [
           330995,
           "Dogs Alone"
          ],
          [
           209418,
           "Dominion (Second Edition)"
          ],
          [
           2394,
           "Dominoes"
          ],
          [
           215311,
           "Downforce"
          ],
          [
           16139,
           "Draculix"
          ],
          [
           235655,
           "Dragon's Breath"
          ],
          [
           1339,
           "Dungeon!"
          ],
          [
           216907,
           "The Dutch East Indies"
          ],
          [
           130792,
           "The Enchanted Tower"
          ],
          [
           206931,
           "Encore!"
          ],
          [
           201248,
           "Evolution: The Beginning"
          ],
          [
           201825,
           "Ex Libris"
          ],
          [
           298281,
           "Exit: The Game + Puzzle – The Sacred Temple"
          ],
          [
           226522,
           "Exit: The Game – Dead Man on the Orient Express"
          ],
          [
           203420,
           "Exit: The Game – The Abandoned Cabin"
          ],
          [
           255675,
           "Exit: The Game – The Catacombs of Horror"
          ],
          [
           295945,
           "Exit: The Game – The Cemetery of the Knight"
          ],
          [
           295944,
           "Exit: The Game – The Enchanted Forest"
          ],
          [
           215840,
           "Exit: The Game – The Forbidden Castle"
          ],
          [
           215841,
           "Exit: The Game – The Forgotten Island"
          ],
          [
           269968,
           "Exit: The Game – The Haunted Roller Coaster"
          ],
          [
           226519,
           "Exit: The Game – The House of Riddles"
          ],
          [
           244918,
           "Exit: The Game – The Mysterious Museum"
          ],
          [
           203416,
           "Exit: The Game – The Pharaoh's Tomb"
          ],
          [
           215842,
           "Exit: The Game – The Polar Station"
          ],
          [
           203417,
           "Exit: The Game – The Secret Lab"
          ],
          [
           206943,
           "Exit: The Game – The Secret of the Premiere"
          ],
          [
           226520,
           "Exit: The Game – The Sinister Mansion"
          ],
          [
           283797,
           "Exit: The Game – The Stormy Flight"
          ],
          [
           226518,
           "Exit: The Game – The Sunken Treasure"
          ],
          [
           283934,
           "Exit: The Game – Theft on the Mississippi"
          ],
          [
           191906,
           "Family Flutter-By"
          ],
          [
           329095,
           "Fantasmas Locos"
          ],
          [
           194088,
           "Fast Flip"
          ],
          [
           35497,
           "Fauna"
          ],
          [
           148764,
           "Feuerdrachen"
          ],
          [
           14032,
           "Finders keepers!"
          ],
          [
           206941,
           "First Class: All Aboard the Orient Express!"
          ],
          [
           192455,
           "First Martians: Adventures on the Red Planet"
          ],
          [
           41302,
           "First Orchard"
          ],
          [
           199478,
           "Flamme Rouge"
          ],
          [
           100901,
           "Flash Point: Fire Rescue"
          ],
          [
           3945,
           "Forbidden Bridge"
          ],
          [
           329561,
           "Frog Party"
          ],
          [
           292032,
           "Funkoverse Strategy Game: Harry Potter 100"
          ],
          [
           336794,
           "Galaxy Trucker"
          ],
          [
           2785,
           "Game of Goose"
          ],
          [
           153422,
           "Gardens"
          ],
          [
           329533,
           "Geistesblitz Würfelblitz"
          ],
          [
           30346,
           "Get Smart Card Game"
          ],
          [
           132251,
           "Ghooost!"
          ],
          [
           148532,
           "Ghost Blitz: 5 to 12"
          ],
          [
           197760,
           "Ghost Blitz: Spooky Doo"
          ],
          [
           188,
           "Go"
          ],
          [
           7682,
           "Go Fish"
          ],
          [
           4219,
           "Goal"
          ],
          [
           195539,
           "The Godfather: Corleone's Empire"
          ],
          [
           286160,
           "Godspeed"
          ],
          [
           22198,
           "Great Wall of China"
          ],
          [
           171668,
           "The Grizzled"
          ],
          [
           269144,
           "Hadara"
          ],
          [
           200871,
           "Hanna Honeybee"
          ],
          [
           286749,
           "Hansa Teutonica: Big Box"
          ],
          [
           361,
           "Hare & Tortoise"
          ],
          [
           267568,
           "HexRoller"
          ],
          [
           2655,
           "Hive"
          ],
          [
           182218,
           "Hoax (Second Edition)"
          ],
          [
           126444,
           "The Hobbit Card Game"
          ],
          [
           71272,
           "Hornet"
          ],
          [
           4162,
           "Horse Show"
          ],
          [
           16362,
           "Hula Hippos"
          ],
          [
           339906,
           "The Hunger"
          ],
          [
           226562,
           "Immortals"
          ],
          [
           131366,
           "Un imperio en 8 minutos"
          ],
          [
           15512,
           "Incan Gold"
          ],
          [
           233678,
           "Indian Summer"
          ],
          [
           9674,
           "Ingenious"
          ],
          [
           466,
           "Inkognito"
          ],
          [
           271088,
           "Ishtar: Jardines de Babilonia"
          ],
          [
           176494,
           "Isle of Skye: From Chieftain to King"
          ],
          [
           148949,
           "Istanbul"
          ],
          [
           26176,
           "It's the Great Pumpkin, Charlie Brown"
          ],
          [
           2452,
           "Jenga"
          ],
          [
           245431,
           "Jurassic Park: Danger!"
          ],
          [
           394,
           "Kahuna"
          ],
          [
           200147,
           "Kanagawa"
          ],
          [
           281982,
           "Karekare"
          ],
          [
           299684,
           "Khôra: Rise of an Empire"
          ],
          [
           352810,
           "King of the Dice: The Board Game"
          ],
          [
           70323,
           "King of Tokyo"
          ],
          [
           107529,
           "Kingdom Builder"
          ],
          [
           165722,
           "KLASK"
          ],
          [
           257944,
           "Die kleine Hexe: Das verdrehte Memospiel"
          ],
          [
           181810,
           "Kodama: The Tree Spirits"
          ],
          [
           96913,
           "Lancaster"
          ],
          [
           184151,
           "Legend of the Five Rings: The Card Game"
          ],
          [
           191538,
           "Leo"
          ],
          [
           59959,
           "Letters from Whitechapel"
          ],
          [
           128510,
           "Lince Card Game"
          ],
          [
           159611,
           "Little Observation"
          ],
          [
           328479,
           "Living Forest"
          ],
          [
           770,
           "Loot"
          ],
          [
           158340,
           "Lost Legacy: Flying Garden"
          ],
          [
           14612,
           "Lottery"
          ],
          [
           196326,
           "Love Letter: Premium Edition"
          ],
          [
           205494,
           "Machi Koro: Bright Lights, Big City"
          ],
          [
           341919,
           "Magic Mountain"
          ],
          [
           463,
           "Magic: The Gathering"
          ],
          [
           167698,
           "Magic: The Gathering – Arena of the Planeswalkers"
          ],
          [
           231309,
           "Magic: The Gathering – Explorers of Ixalan"
          ],
          [
           283863,
           "The Magnificent"
          ],
          [
           230080,
           "Majesty: For the Realm"
          ],
          [
           312243,
           "Make Make"
          ],
          [
           260201,
           "Manitoba"
          ],
          [
           26033,
           "Maratón Clásico"
          ],
          [
           297978,
           "Mariposas"
          ],
          [
           2392,
           "Mastermind"
          ],
          [
           8126,
           "Maya"
          ],
          [
           331652,
           "Mazescape: Ariadne"
          ],
          [
           331647,
           "Mazescape: Labýrinthos"
          ],
          [
           179794,
           "Me Want Cookies!"
          ],
          [
           180918,
           "Méditations Foireuses"
          ],
          [
           131497,
           "Meine ersten Spiele: Kleine Baumeister"
          ],
          [
           7688,
           "Memory"
          ],
          [
           11634,
           "Mexican Train"
          ],
          [
           191543,
           "Micro Robots"
          ],
          [
           590,
           "Mille Bornes"
          ],
          [
           158051,
           "Mixamatou"
          ],
          [
           7098,
           "Monopoly: Deluxe Edition"
          ],
          [
           4209,
           "Monza"
          ],
          [
           97329,
           "El mundo de Águila Roja"
          ],
          [
           204505,
           "Museum"
          ],
          [
           295486,
           "My City"
          ],
          [
           41010,
           "My First Carcassonne"
          ],
          [
           191004,
           "My First Stone Age"
          ],
          [
           7181,
           "Myths and Legends"
          ],
          [
           19996,
           "Nacht der Magier"
          ],
          [
           217449,
           "NMBR 9"
          ],
          [
           192860,
           "Océanos"
          ],
          [
           183840,
           "Oh My Goods!"
          ],
          [
           125311,
           "Okiya"
          ],
          [
           147949,
           "One Night Ultimate Werewolf"
          ],
          [
           156336,
           "Onirim (Second Edition)"
          ],
          [
           160477,
           "Onitama"
          ],
          [
           2389,
           "Othello"
          ],
          [
           352710,
           "Ouch!"
          ],
          [
           23953,
           "Outside the Scope of BGG"
          ],
          [
           2136,
           "Pachisi"
          ],
          [
           300531,
           "Paleo"
          ],
          [
           276498,
           "Paris: La Cité de la Lumière"
          ],
          [
           163412,
           "Patchwork"
          ],
          [
           19841,
           "Pentago"
          ],
          [
           123885,
           "Pick-a-Dog"
          ],
          [
           153225,
           "Pick-a-Seal"
          ],
          [
           31111,
           "Picture Dominoes"
          ],
          [
           116938,
           "Pictureka: Disney Edition"
          ],
          [
           284108,
           "Pictures"
          ],
          [
           18755,
           "Pie Face"
          ],
          [
           274960,
           "Point Salad"
          ],
          [
           9885,
           "Put & Take Game"
          ],
          [
           306737,
           "Rana Sapiens"
          ],
          [
           11930,
           "Renju"
          ],
          [
           241831,
           "Reykholt"
          ],
          [
           181,
           "Risk"
          ],
          [
           129090,
           "Roll For It!"
          ],
          [
           267009,
           "Rome & Roll"
          ],
          [
           614,
           "Rubik's Race"
          ],
          [
           312484,
           "Las Ruinas Perdidas de Arnak"
          ],
          [
           15878,
           "Rummy"
          ],
          [
           173389,
           "Rush Hour Shift"
          ],
          [
           144733,
           "Russian Railroads"
          ],
          [
           313531,
           "Rustling Leaves"
          ],
          [
           199561,
           "Sagrada"
          ],
          [
           329260,
           "Sáltame Si Puedes"
          ],
          [
           276830,
           "Sanctum"
          ],
          [
           4864,
           "Scene It?: The DVD Movie Game"
          ],
          [
           12859,
           "Schatzjagd"
          ],
          [
           177844,
           "Sector 6"
          ],
          [
           168204,
           "Sesam, puzzle dich!"
          ],
          [
           1198,
           "SET"
          ],
          [
           67429,
           "Shapes & Colors"
          ],
          [
           324242,
           "Sheepy Time"
          ],
          [
           145070,
           "Sherlock Kids"
          ],
          [
           152847,
           "Shinobi WAT-AAH!"
          ],
          [
           36745,
           "Simply Ingenious"
          ],
          [
           13713,
           "Solitaire"
          ],
          [
           260407,
           "Soviet Kitchen Unleashed"
          ],
          [
           128671,
           "Spartacus: A Game of Blood and Treachery"
          ],
          [
           148228,
           "Splendor"
          ],
          [
           5711,
           "Squad Seven"
          ],
          [
           117985,
           "Star Trek: Catan"
          ],
          [
           10521,
           "Star Trek: The Final Frontier"
          ],
          [
           260678,
           "Stone Age: Anniversary"
          ],
          [
           3385,
           "Stratego: Star Wars"
          ],
          [
           179460,
           "Stronghold: 2nd edition"
          ],
          [
           171049,
           "Súper Maratón"
          ],
          [
           11182,
           "Super Scrabble"
          ],
          [
           192291,
           "Sushi Go Party!"
          ],
          [
           1111,
           "Taboo"
          ],
          [
           70919,
           "Takenoko"
          ],
          [
           55833,
           "Tarantel Tango"
          ],
          [
           118048,
           "Targi"
          ],
          [
           335609,
           "TEN"
          ],
          [
           244522,
           "That's Pretty Clever!"
          ],
          [
           11901,
           "Tic-Tac-Toe"
          ],
          [
           205125,
           "Ticket to Ride: First Journey (U.S.)"
          ],
          [
           85256,
           "Timeline: Inventions"
          ],
          [
           123540,
           "Tokaido"
          ],
          [
           88,
           "Torres"
          ],
          [
           121408,
           "Trains"
          ],
          [
           182189,
           "Treasure Hunter"
          ],
          [
           258104,
           "Tribes: Dawn of Humanity"
          ],
          [
           2952,
           "Trivial Pursuit: Genus Edition"
          ],
          [
           16992,
           "Tsuro"
          ],
          [
           120264,
           "Turista Mundial"
          ],
          [
           269210,
           "Twice as Clever!"
          ],
          [
           126163,
           "Tzolk'in: The Mayan Calendar"
          ],
          [
           16986,
           "Ubongo"
          ],
          [
           118568,
           "Ubongo Junior"
          ],
          [
           28258,
           "Ubongo Mini"
          ],
          [
           12464,
           "Ultimate Backgammon"
          ],
          [
           329591,
           "Ultimate Railroads"
          ],
          [
           306735,
           "Under Falling Skies"
          ],
          [
           159566,
           "Unicorn Glitterluck: Cloud Crystals"
          ],
          [
           209095,
           "UNO: Super Mario"
          ],
          [
           269526,
           "Valley of the Vikings"
          ],
          [
           257058,
           "Valparaíso"
          ],
          [
           277410,
           "Veggies"
          ],
          [
           132326,
           "Venetia"
          ],
          [
           88931,
           "Verbàlia, el joc"
          ],
          [
           276497,
           "La Viña"
          ],
          [
           351540,
           "Walkie Talkie"
          ],
          [
           266192,
           "Wingspan"
          ],
          [
           137095,
           "The Witches: A Discworld Game"
          ],
          [
           302193,
           "Wonder Woman: Challenge of the Amazons"
          ],
          [
           355093,
           "Woodcraft"
          ],
          [
           3845,
           "Yahtzee Jr."
          ],
          [
           160851,
           "Yangtze"
          ],
          [
           147363,
           "Yu-Gi-Oh! Dice Masters"
          ],
          [
           4154,
           "Yu-Gi-Oh! Trading Card Game"
          ],
          [
           62871,
           "Zombie Dice"
          ],
          [
           432,
           "6 nimmt!"
          ],
          [
           119890,
           "Agricola: All Creatures Big and Small"
          ],
          [
           2425,
           "Battleship"
          ],
          [
           155362,
           "Ca$h 'n Guns: Second Edition"
          ],
          [
           103877,
           "Casa Grande"
          ],
          [
           104162,
           "Descent: Viaje a las Tinieblas (Segunda Edición)"
          ],
          [
           172,
           "For Sale"
          ],
          [
           8203,
           "Hey! That's My Fish!"
          ],
          [
           42188,
           "Make 'n' Break CHALLENGE"
          ],
          [
           124708,
           "Mice and Mystics: De Ratones y Magia"
          ],
          [
           13308,
           "Niagara"
          ],
          [
           164928,
           "Orléans"
          ],
          [
           156976,
           "Planes"
          ],
          [
           37728,
           "Rock the Beat"
          ],
          [
           152959,
           "The Settlers of Catan: 15th Anniversary Wood Edition"
          ],
          [
           120677,
           "Terra Mystica"
          ],
          [
           160610,
           "Thunderbirds"
          ],
          [
           152242,
           "Ultimate Werewolf: Deluxe Edition"
          ],
          [
           161706,
           "Wayward Board Game"
          ],
          [
           79413,
           "Wer war's?: Mitbringspiel"
          ],
          [
           36522,
           "2 de Mayo"
          ],
          [
           317985,
           "Beyond the Sun"
          ],
          [
           18803,
           "Black Stories"
          ],
          [
           127060,
           "Bora Bora"
          ],
          [
           36218,
           "Dominion"
          ],
          [
           40834,
           "Dominion: Intrigue"
          ],
          [
           148203,
           "Dutch Blitz"
          ],
          [
           216403,
           "Element"
          ],
          [
           159492,
           "The Game of 49"
          ],
          [
           219574,
           "Guerras Gato"
          ],
          [
           356909,
           "Hand-to-Hand Wombat"
          ],
          [
           3910,
           "Harry Potter: Diagon Alley Board Game"
          ],
          [
           38391,
           "Kakerlakensuppe"
          ],
          [
           204583,
           "Kingdomino"
          ],
          [
           209010,
           "Mechs vs. Minions"
          ],
          [
           144325,
           "Munchkin Legends"
          ],
          [
           167355,
           "Nemesis"
          ],
          [
           32412,
           "Palastgeflüster"
          ],
          [
           162571,
           "PBL Robots"
          ],
          [
           76065,
           "Pictionary Card Game"
          ],
          [
           66056,
           "Rivals for Catan"
          ],
          [
           188834,
           "Secret Hitler"
          ],
          [
           147020,
           "Star Realms"
          ],
          [
           146508,
           "T.I.M.E Stories"
          ],
          [
           167791,
           "Terraforming Mars"
          ],
          [
           34599,
           "Toledo"
          ],
          [
           2243,
           "Yahtzee: Cup Noodles"
          ],
          [
           137988,
           "Zombicide Season 2: Prison Outbreak"
          ],
          [
           4098,
           "Age of Steam"
          ],
          [
           185343,
           "Anachrony"
          ],
          [
           143741,
           "BANG! The Dice Game"
          ],
          [
           251247,
           "Barrage"
          ],
          [
           50750,
           "Belfort"
          ],
          [
           230244,
           "Black Angel"
          ],
          [
           262215,
           "Blackout: Hong Kong"
          ],
          [
           28720,
           "Brass: Lancashire"
          ],
          [
           139898,
           "Brew Crafters"
          ],
          [
           172308,
           "Broom Service"
          ],
          [
           232988,
           "The Castles of Burgundy: The Dice Game"
          ],
          [
           172287,
           "Champions of Midgard"
          ],
          [
           192945,
           "Coal Baron: The Great Card Game"
          ],
          [
           325022,
           "Coffee Traders"
          ],
          [
           245638,
           "Coimbra"
          ],
          [
           521,
           "Crokinole"
          ],
          [
           150376,
           "Dead of Winter: A Crossroads Game"
          ],
          [
           225694,
           "Decrypto"
          ],
          [
           221194,
           "Dinosaur Island"
          ],
          [
           82168,
           "Escape from the Aliens in Outer Space"
          ],
          [
           193560,
           "Escape the Room: Mystery at the Stargazer's Manor"
          ],
          [
           177736,
           "A Feast for Odin"
          ],
          [
           157354,
           "Five Tribes"
          ],
          [
           158918,
           "FLY"
          ],
          [
           175155,
           "Forbidden Stars"
          ],
          [
           171273,
           "FUSE"
          ],
          [
           125153,
           "The Gallerist"
          ],
          [
           205610,
           "A Game of Thrones: Hand of the King"
          ],
          [
           249703,
           "Gentes: Deluxified Edition"
          ],
          [
           298383,
           "Golem"
          ],
          [
           182874,
           "Grand Austria Hotel"
          ],
          [
           231327,
           "The Grizzled: Armistice Edition"
          ],
          [
           338760,
           "Imperial Steam"
          ],
          [
           127023,
           "Kemet"
          ],
          [
           168584,
           "Love Letter: Batman"
          ],
          [
           166107,
           "Matcha"
          ],
          [
           181304,
           "Mysterium"
          ],
          [
           72321,
           "The Networks"
          ],
          [
           191051,
           "Outlive"
          ],
          [
           256730,
           "Pipeline"
          ],
          [
           172385,
           "Porta Nigra"
          ],
          [
           244521,
           "The Quacks of Quedlinburg"
          ],
          [
           204305,
           "Sherlock Holmes Consulting Detective: Jack the Ripper & West End Adventures"
          ],
          [
           177678,
           "Signorie"
          ],
          [
           255924,
           "Snowdonia: Deluxe Master Set"
          ],
          [
           180852,
           "Tiny Epic Western"
          ],
          [
           163068,
           "Trickerion: Legends of Illusion"
          ],
          [
           191876,
           "Ulm"
          ],
          [
           191231,
           "Via Nebula"
          ],
          [
           104006,
           "Village"
          ],
          [
           128621,
           "Viticulture"
          ],
          [
           171623,
           "The Voyages of Marco Polo"
          ],
          [
           146910,
           "Wildcatters"
          ],
          [
           196340,
           "Yokohama"
          ],
          [
           124847,
           "1911 Amundsen vs Scott"
          ],
          [
           173346,
           "7 Wonders Duel"
          ],
          [
           180263,
           "The 7th Continent"
          ],
          [
           281946,
           "Aftermath"
          ],
          [
           48726,
           "Alien Frontiers"
          ],
          [
           332321,
           "ALIEN: Fate of the Nostromo"
          ],
          [
           181495,
           "Alone"
          ],
          [
           285967,
           "Ankh: Gods of Egypt"
          ],
          [
           155068,
           "Arcadia Quest"
          ],
          [
           171663,
           "Attila"
          ],
          [
           355276,
           "Batman: Everybody Lies"
          ],
          [
           324513,
           "Batman: The Dark Knight Returns – The Game"
          ],
          [
           358504,
           "Betrayal at House on the Hill: 3rd Edition"
          ],
          [
           302809,
           "Betrayal at Mystery Mansion"
          ],
          [
           132428,
           "BioShock Infinite: The Siege of Columbia"
          ],
          [
           20750,
           "Black Stories 2"
          ],
          [
           170216,
           "Blood Rage"
          ],
          [
           314550,
           "Campeones de Midgard: Big Box"
          ],
          [
           155426,
           "Castles of Mad King Ludwig"
          ],
          [
           220520,
           "Caverna: Cave vs Cave"
          ],
          [
           239188,
           "Chronicles of Crime"
          ],
          [
           300300,
           "Chronicles of Crime: 1400"
          ],
          [
           32171,
           "El Club de los Martes"
          ],
          [
           206175,
           "Cortex Challenge"
          ],
          [
           237629,
           "Cortex Challenge 2"
          ],
          [
           261355,
           "Cortex Challenge 3"
          ],
          [
           131357,
           "Coup"
          ],
          [
           54998,
           "Cyclades"
          ],
          [
           193037,
           "Dead of Winter: The Long Night"
          ],
          [
           285192,
           "Destinies"
          ],
          [
           256788,
           "Detective Club"
          ],
          [
           309129,
           "Disney: The Haunted Mansion – Call of the Spirits Game"
          ],
          [
           181345,
           "Dr. Eureka"
          ],
          [
           316554,
           "Dune: Imperium"
          ],
          [
           155703,
           "Evolution"
          ],
          [
           50,
           "Exploradores"
          ],
          [
           66188,
           "Fresco"
          ],
          [
           346143,
           "The Game of Life: Super Mario Edition"
          ],
          [
           173275,
           "Ghostbusters: The Board Game"
          ],
          [
           339031,
           "The Goonies: Never Say Die"
          ],
          [
           339080,
           "The Goonies: Under the Goondocks – A Never Say Die Expansion"
          ],
          [
           339958,
           "Gutenberg"
          ],
          [
           1855,
           "Hedbanz"
          ],
          [
           243759,
           "Hellboy: The Board Game"
          ],
          [
           282524,
           "Horrified"
          ],
          [
           343562,
           "Horrified: American Monsters"
          ],
          [
           255674,
           "Imhotep: The Duel"
          ],
          [
           214000,
           "In the Year of the Dragon: 10th Anniversary"
          ],
          [
           328908,
           "The Initiative"
          ],
          [
           327711,
           "It's a Wonderful Kingdom"
          ],
          [
           271324,
           "It's a Wonderful World"
          ],
          [
           324246,
           "Journey to the Center of the Earth"
          ],
          [
           8098,
           "Jungle Speed"
          ],
          [
           313476,
           "Kemet: Blood and Sand – The Great Old Ones"
          ],
          [
           146652,
           "Legendary Encounters: An Alien Deck Building Game"
          ],
          [
           24480,
           "Los Pilares de la Tierra"
          ],
          [
           143075,
           "Luchador! Mexican Wrestling Dice"
          ],
          [
           209778,
           "Magic Maze"
          ],
          [
           205059,
           "Mansions of Madness: Second Edition"
          ],
          [
           298047,
           "Marvel United"
          ],
          [
           336382,
           "Marvel United: X-Men"
          ],
          [
           181524,
           "Masmorra: Dungeons of Arcadia"
          ],
          [
           150811,
           "Mega Man: The Board Game"
          ],
          [
           230508,
           "Mega Man: The Board Game – Boss Pack"
          ],
          [
           176920,
           "Mission: Red Planet (Second Edition)"
          ],
          [
           317231,
           "Monasterium"
          ],
          [
           249833,
           "Monopoly Gamer: Mario Kart"
          ],
          [
           234396,
           "Muse"
          ],
          [
           328866,
           "My Father's Work"
          ],
          [
           306709,
           "The Night Cage"
          ],
          [
           213984,
           "Notre Dame: 10th Anniversary"
          ],
          [
           184267,
           "On Mars"
          ],
          [
           22465,
           "On the Dot"
          ],
          [
           172047,
           "The Others"
          ],
          [
           192153,
           "Pandemic: Reign of Cthulhu"
          ],
          [
           280136,
           "Paranormal Detectives"
          ],
          [
           266524,
           "PARKS"
          ],
          [
           45,
           "Perudo"
          ],
          [
           204879,
           "Planet Defenders"
          ],
          [
           256589,
           "Rallyman: GT"
          ],
          [
           358816,
           "Rear Window"
          ],
          [
           161417,
           "Red7"
          ],
          [
           233896,
           "Resident Evil 2: The Board Game"
          ],
          [
           136000,
           "Rivet Wars: Eastern Front"
          ],
          [
           121921,
           "Robinson Crusoe: Adventures on the Cursed Island"
          ],
          [
           326804,
           "Rorschach"
          ],
          [
           115233,
           "Rory's Story Cubes: Voyages"
          ],
          [
           121787,
           "RYŪ"
          ],
          [
           372,
           "Schotten Totten"
          ],
          [
           302344,
           "Scooby-Doo: Escape from the Haunted Mansion"
          ],
          [
           287258,
           "Secret Night at Davis Manor"
          ],
          [
           157969,
           "Sheriff of Nottingham"
          ],
          [
           2511,
           "Sherlock Holmes Consulting Detective: The Thames Murders & Other Cases"
          ],
          [
           196379,
           "Shit Happens"
          ],
          [
           242302,
           "Space Base"
          ],
          [
           162886,
           "Spirit Island"
          ],
          [
           256606,
           "Spirits of the Wild"
          ],
          [
           166384,
           "Spyfall"
          ],
          [
           164153,
           "Star Wars: Imperial Assault"
          ],
          [
           194897,
           "Star Wars: Imperial Assault – The Bespin Gambit"
          ],
          [
           158392,
           "Stay Away!"
          ],
          [
           294232,
           "Stolen Paintings"
          ],
          [
           233312,
           "Stuffed Fables"
          ],
          [
           264220,
           "Tainted Grail: The Fall of Avalon"
          ],
          [
           286096,
           "Tapestry"
          ],
          [
           250396,
           "Terminator Genisys: Rise of the Resistance"
          ],
          [
           137,
           "Tick... tack... BOOM!"
          ],
          [
           173156,
           "Timeline Challenge"
          ],
          [
           99975,
           "Timeline: Discoveries"
          ],
          [
           113401,
           "Timeline: Events"
          ],
          [
           309430,
           "Tiny Epic Pirates"
          ],
          [
           257527,
           "Trapwords"
          ],
          [
           12333,
           "Twilight Struggle"
          ],
          [
           247763,
           "Underwater Cities"
          ],
          [
           191189,
           "Aeon's End"
          ],
          [
           212487,
           "AFFLICTION: Salem 1692"
          ],
          [
           232361,
           "After The Virus"
          ],
          [
           256852,
           "Aliens: Another Glorious Day in the Corps"
          ],
          [
           313919,
           "Aliens: Bug Hunt"
          ],
          [
           15987,
           "Arkham Horror"
          ],
          [
           239942,
           "Black Rose Wars"
          ],
          [
           340569,
           "Blood Orders"
          ],
          [
           195856,
           "Bloodborne: The Card Game"
          ],
          [
           172081,
           "Burgle Bros."
          ],
          [
           260605,
           "Camel Up (Second Edition)"
          ],
          [
           159503,
           "The Captain Is Dead"
          ],
          [
           271751,
           "The Captain Is Dead: Dangerous Planet"
          ],
          [
           208804,
           "The Captain Is Dead: Lockdown"
          ],
          [
           84889,
           "Cave Evil"
          ],
          [
           236304,
           "Cerebria: The Card Game"
          ],
          [
           478,
           "Citadels"
          ],
          [
           207243,
           "The City of Kings"
          ],
          [
           314503,
           "Codex Naturalis"
          ],
          [
           192116,
           "Cthulhu: A Deck Building Game"
          ],
          [
           125608,
           "The Current Number of the Beast"
          ],
          [
           197831,
           "Dark Souls: The Board Game"
          ],
          [
           204007,
           "Dark Souls: The Board Game – The Last Giant Boss Expansion"
          ],
          [
           193670,
           "Darkest Night: Second Edition"
          ],
          [
           175095,
           "Dawn of the Zeds (Third Edition)"
          ],
          [
           141423,
           "Dead Men Tell No Tales"
          ],
          [
           318009,
           "Dinosaur Island: Rawr 'n Write"
          ],
          [
           62219,
           "Dominant Species"
          ],
          [
           262941,
           "Dominant Species: Marine"
          ],
          [
           346057,
           "Don't Go In There"
          ],
          [
           172540,
           "Dragoon"
          ],
          [
           108722,
           "Dreadfleet"
          ],
          [
           257164,
           "Dungeon Raiders"
          ],
          [
           163968,
           "Elysium"
          ],
          [
           133848,
           "Euphoria: Build a Better Dystopia"
          ],
          [
           296912,
           "Fort"
          ],
          [
           220308,
           "Gaia Project"
          ],
          [
           173090,
           "The Game"
          ],
          [
           42776,
           "Gears of War: The Board Game"
          ],
          [
           253756,
           "Gorus Maximus"
          ],
          [
           176083,
           "Hit Z Road"
          ],
          [
           154597,
           "Hive Pocket"
          ],
          [
           176524,
           "Hoplomachus: Origins"
          ],
          [
           271319,
           "Las Vegas Royale"
          ],
          [
           1426,
           "Lord of the Rings: The Search"
          ],
          [
           198740,
           "Lovecraft Letter"
          ],
          [
           96848,
           "Mage Knight Board Game"
          ],
          [
           165492,
           "The Majority: Complete Edition"
          ],
          [
           156496,
           "March of the Ants"
          ],
          [
           188547,
           "Maximum Apocalypse"
          ],
          [
           200957,
           "NecronomiCORP"
          ],
          [
           187617,
           "Nemo's War (Second Edition)"
          ],
          [
           332420,
           "Nexum Galaxy"
          ],
          [
           165812,
           "Nightmare Forest: Dead Run"
          ],
          [
           179275,
           "One Deck Dungeon"
          ],
          [
           224821,
           "One Deck Dungeon: Forest of Shadows"
          ],
          [
           239464,
           "Palm Island"
          ],
          [
           297139,
           "Potato Pirates: Enter the Spudnet"
          ],
          [
           347157,
           "RabbitZ & Robots"
          ],
          [
           276499,
           "Ratzzia"
          ],
          [
           237182,
           "Root"
          ],
          [
           228855,
           "Set a Watch"
          ],
          [
           307386,
           "Set a Watch: Swords of the Coin"
          ],
          [
           248949,
           "Skull Tales: Full Sail!"
          ],
          [
           40692,
           "Small World"
          ],
          [
           165838,
           "Space Hulk (Fourth Edition)"
          ],
          [
           54625,
           "Space Hulk (Third Edition)"
          ],
          [
           71721,
           "Space Hulk: Death Angel – The Card Game"
          ],
          [
           162286,
           "Super Motherload"
          ],
          [
           170771,
           "Sword & Sorcery"
          ],
          [
           188920,
           "This War of Mine: The Board Game"
          ],
          [
           238656,
           "Tiny Epic Defenders (Second Edition)"
          ],
          [
           291508,
           "Tiny Epic Dinosaurs"
          ],
          [
           331787,
           "Tiny Epic Dungeons"
          ],
          [
           334889,
           "Tiny Epic Dungeons: Deluxe Edition"
          ],
          [
           334888,
           "Tiny Epic Dungeons: Stories"
          ],
          [
           163967,
           "Tiny Epic Galaxies"
          ],
          [
           257283,
           "Tiny Epic Mechs"
          ],
          [
           201921,
           "Tiny Epic Quest"
          ],
          [
           192135,
           "Too Many Bones"
          ],
          [
           235802,
           "Too Many Bones: Undertow"
          ],
          [
           225885,
           "Unbroken"
          ],
          [
           156482,
           "Unknown"
          ],
          [
           249259,
           "War Chest"
          ],
          [
           115746,
           "War of the Ring: Second Edition"
          ],
          [
           257316,
           "Weapon Wars"
          ],
          [
           304666,
           "Wild Life: The Card Game"
          ],
          [
           227935,
           "Wonderland's War"
          ],
          [
           163602,
           "XCOM: The Board Game"
          ],
          [
           82222,
           "Xia: Legends of a Drift System"
          ],
          [
           176189,
           "Zombicide: Black Plague"
          ],
          [
           220284,
           "Zombie Dawn"
          ],
          [
           64956,
           "10 Days in the Americas"
          ],
          [
           63706,
           "11 nimmt!"
          ],
          [
           177590,
           "13 Días: La crisis de los misiles en Cuba"
          ],
          [
           217,
           "À la carte"
          ],
          [
           172818,
           "Above and Below"
          ],
          [
           41658,
           "Adios Amigos"
          ],
          [
           183231,
           "Adventure Land"
          ],
          [
           43868,
           "The Adventurers: The Temple of Chac"
          ],
          [
           27165,
           "Age of Discovery"
          ],
          [
           90419,
           "Airlines Europe"
          ],
          [
           45358,
           "Alhambra: Big Box"
          ],
          [
           110277,
           "Among the Stars"
          ],
          [
           179803,
           "Arcadia Quest: Inferno"
          ],
          [
           136056,
           "Asante"
          ],
          [
           72991,
           "Asara"
          ],
          [
           760,
           "Battle Line"
          ],
          [
           123123,
           "BattleCON: Devastation of Indines"
          ],
          [
           162388,
           "BattleCON: Fate of Indines"
          ],
          [
           89409,
           "BattleCON: War of Indines"
          ],
          [
           146439,
           "BattleLore: Second Edition"
          ],
          [
           168435,
           "Between Two Cities"
          ],
          [
           398,
           "Botswana"
          ],
          [
           203405,
           "Brutal Kingdom"
          ],
          [
           164159,
           "BUS"
          ],
          [
           130882,
           "Cardline: Animals"
          ],
          [
           145014,
           "Cardline: Globetrotter"
          ],
          [
           191977,
           "The Castles of Burgundy: The Card Game"
          ],
          [
           176589,
           "Cat Box"
          ],
          [
           192467,
           "Cat Tower: Kickstarter Edition"
          ],
          [
           195503,
           "City of Iron: Second Edition"
          ],
          [
           133528,
           "City of Remnants"
          ],
          [
           27746,
           "Colosseum"
          ],
          [
           39463,
           "Cosmic Encounter"
          ],
          [
           194553,
           "Dairyman"
          ],
          [
           172837,
           "Dead Man's Chest"
          ],
          [
           224815,
           "Deca Slayer"
          ],
          [
           216856,
           "Demon Worker"
          ],
          [
           17226,
           "Descent: Journeys in the Dark"
          ],
          [
           40793,
           "Dice Town"
          ],
          [
           168446,
           "Doggy GO!"
          ],
          [
           171913,
           "Doggy Go! Plus"
          ],
          [
           36235,
           "The Duke"
          ],
          [
           150312,
           "Dungeon of Mandom"
          ],
          [
           144525,
           "Dungeon Twister: The Card Game"
          ],
          [
           113294,
           "Escape: The Curse of the Temple"
          ],
          [
           211962,
           "Forest of Tataraba"
          ],
          [
           221965,
           "The Fox in the Forest"
          ],
          [
           19427,
           "Gemblo"
          ],
          [
           66362,
           "Glen More"
          ],
          [
           144761,
           "Going, Going, GONE!"
          ],
          [
           154086,
           "Gold West"
          ],
          [
           171908,
           "El Grande: Edición 20º aniversario"
          ],
          [
           132372,
           "Guildhall"
          ],
          [
           158600,
           "Hanamikoji"
          ],
          [
           1899,
           "La Herencia de Tía Agata"
          ],
          [
           11170,
           "Heroscape Master Set: Rise of the Valkyrie"
          ],
          [
           27976,
           "Heroscape Master Set: Swarm of the Marro"
          ],
          [
           116954,
           "Indigo"
          ],
          [
           119632,
           "IOTA"
          ],
          [
           185589,
           "Islebound"
          ],
          [
           54043,
           "Jaipur"
          ],
          [
           215154,
           "Jungli-La"
          ],
          [
           159506,
           "Kaiju"
          ],
          [
           172996,
           "The King Is Dead"
          ],
          [
           27162,
           "Kingsburg"
          ],
          [
           180867,
           "Kitty Paw"
          ],
          [
           196,
           "Kremlin"
          ],
          [
           1219,
           "Labyrinth"
          ],
          [
           117959,
           "Las Vegas"
          ],
          [
           153065,
           "Linko!"
          ],
          [
           173341,
           "Loopin' Chewie"
          ],
          [
           327,
           "Loopin' Louie"
          ],
          [
           18833,
           "Lord of the Rings: The Confrontation"
          ],
          [
           172503,
           "Mage Wars Academy"
          ],
          [
           75789,
           "Mai-Star"
          ],
          [
           199,
           "Manhattan"
          ],
          [
           145308,
           "Marrying Mr. Darcy"
          ],
          [
           148575,
           "Marvel Dice Masters: Avengers vs. X-Men"
          ],
          [
           251293,
           "Megaland"
          ],
          [
           175199,
           "Mottainai"
          ],
          [
           72287,
           "Mr. Jack Pocket"
          ],
          [
           152,
           "Mü & More"
          ],
          [
           234691,
           "Mystery of the Temples"
          ],
          [
           195421,
           "Near and Far"
          ],
          [
           187787,
           "Nerdy Inventions"
          ],
          [
           15363,
           "Nexus Ops"
          ],
          [
           1107,
           "Nyet!"
          ],
          [
           176361,
           "One Night Revolution"
          ],
          [
           141572,
           "Paperback"
          ],
          [
           175088,
           "Pharaoh's Gulo Gulo"
          ],
          [
           98229,
           "Pictomania"
          ],
          [
           169274,
           "Pixel Tactics Deluxe"
          ],
          [
           158851,
           "Play Me: Alice in Wonderdice"
          ],
          [
           187988,
           "Pyramid Arcade"
          ],
          [
           143519,
           "Quantum"
          ],
          [
           6485,
           "Quidditch: The Game"
          ],
          [
           3202,
           "RAF"
          ],
          [
           41114,
           "The Resistance"
          ],
          [
           128882,
           "The Resistance: Avalon"
          ],
          [
           37380,
           "Roll Through the Ages: The Bronze Age"
          ],
          [
           180198,
           "Rolling America"
          ],
          [
           165986,
           "Royals"
          ],
          [
           141736,
           "Sail to India"
          ],
          [
           166669,
           "San Juan (Second Edition)"
          ],
          [
           172011,
           "Savanna Trick"
          ],
          [
           40508,
           "Scrabble Slam!"
          ],
          [
           108745,
           "Seasons"
          ],
          [
           135116,
           "Seventh Hero"
          ],
          [
           229741,
           "Shadows in Kyoto"
          ],
          [
           594,
           "Sleuth"
          ],
          [
           37196,
           "Sorry! Sliders"
          ],
          [
           142079,
           "Space Cadets: Dice Duel"
          ],
          [
           939,
           "Star Wars: The Queen's Gambit"
          ],
          [
           169146,
           "Stone Garden"
          ],
          [
           123260,
           "Suburbia"
          ],
          [
           129556,
           "Tapple"
          ],
          [
           146278,
           "Tash-Kalar: Arena of Legends"
          ],
          [
           236709,
           "The Tea Dragon Society Card Game"
          ],
          [
           187607,
           "てづま師 (Tezuma Master)"
          ],
          [
           142961,
           "Thunderstone Advance: Numenera"
          ],
          [
           116998,
           "Thunderstone Advance: Towers of Ruin"
          ],
          [
           152765,
           "Thunderstone Advance: Worlds Collide"
          ],
          [
           160069,
           "Ticket to Ride: 10th Anniversary"
          ],
          [
           161547,
           "Timeline: Americana"
          ],
          [
           205604,
           "Tricksters"
          ],
          [
           174893,
           "TROLL"
          ],
          [
           100679,
           "Ultimate Warriorz"
          ],
          [
           442,
           "Um Reifenbreite"
          ],
          [
           150999,
           "Valley of the Kings"
          ],
          [
           174252,
           "Vampire Radar"
          ],
          [
           194690,
           "Viral"
          ],
          [
           139899,
           "VivaJava: The Coffee Game: The Dice Game"
          ],
          [
           219215,
           "Werewords"
          ],
          [
           215471,
           "Wind the Film!"
          ],
          [
           20100,
           "Wits & Wagers"
          ],
          [
           208480,
           "Wordsy"
          ],
          [
           7854,
           "YINSH"
          ],
          [
           337,
           "なつのたからもの"
          ],
          [
           41,
           "キャント・ストップ"
          ],
          [
           1382,
           "ロイヤルターフ"
          ],
          [
           346703,
           "7 Wonders: Architects"
          ],
          [
           287839,
           "8 Bit Attack"
          ],
          [
           230085,
           "Agra"
          ],
          [
           287505,
           "Alien: Perfect Organism"
          ],
          [
           299960,
           "Alma Mater"
          ],
          [
           228959,
           "Alubari: A Nice Cup of Tea"
          ],
          [
           229240,
           "Ancestree"
          ],
          [
           74,
           "Apples to Apples"
          ],
          [
           159508,
           "AquaSphere"
          ],
          [
           283393,
           "Aquatica"
          ],
          [
           140934,
           "Arboretum"
          ],
          [
           204295,
           "Arcadia Quest: Mamba & Rosh"
          ],
          [
           204296,
           "Arcadia Quest: Viola & Crash"
          ],
          [
           204299,
           "Arcadia Quest: Yona & Kuruk"
          ],
          [
           236457,
           "Architects of the West Kingdom"
          ],
          [
           222862,
           "Archmage"
          ],
          [
           342942,
           "Ark Nova"
          ],
          [
           257499,
           "Arkham Horror (Third Edition)"
          ],
          [
           254713,
           "The Artemis Project"
          ],
          [
           223201,
           "Attack of the Jelly Monster"
          ],
          [
           188866,
           "Awkward Guests"
          ],
          [
           202443,
           "Barker's Row"
          ],
          [
           178210,
           "Batman Fluxx"
          ],
          [
           308329,
           "The Batman Who Laughs Rising"
          ],
          [
           222514,
           "Batman: Gotham City Chronicles"
          ],
          [
           204175,
           "Batman: The Animated Series Dice Game"
          ],
          [
           272767,
           "Batman: The Animated Series – Rogues Gallery"
          ],
          [
           347749,
           "Bee War"
          ],
          [
           255524,
           "Belfort: Edición Limitada"
          ],
          [
           258036,
           "Between Two Castles of Mad King Ludwig"
          ],
          [
           34219,
           "Biblios"
          ],
          [
           171233,
           "The Big Book of Madness"
          ],
          [
           180593,
           "The Bloody Inn"
          ],
          [
           304420,
           "Bonfire"
          ],
          [
           343905,
           "Boonlake"
          ],
          [
           301576,
           "Breakdancing Meeples"
          ],
          [
           308989,
           "Bristol 1350"
          ],
          [
           348326,
           "Cábula"
          ],
          [
           238992,
           "Call to Adventure"
          ],
          [
           266993,
           "Call to Adventure: The Stormlight Archive"
          ],
          [
           302281,
           "Candy Lab"
          ],
          [
           245934,
           "Carpe Diem"
          ],
          [
           263918,
           "Cartographers"
          ],
          [
           271320,
           "The Castles of Burgundy"
          ],
          [
           150485,
           "Cat Tower"
          ],
          [
           284818,
           "Caylus 1303"
          ],
          [
           312318,
           "Century: Golem Edition – An Endless World"
          ],
          [
           218479,
           "Cerebria: The Inside World"
          ],
          [
           267378,
           "Chakra"
          ],
          [
           240567,
           "Chocolate Factory"
          ],
          [
           302098,
           "Chronicles of Crime: 1900"
          ],
          [
           302312,
           "Chronicles of Crime: 2400"
          ],
          [
           131682,
           "City of Gears"
          ],
          [
           216132,
           "Clans of Caledonia"
          ],
          [
           265784,
           "Cleopatra and the Society of Architects: Deluxe Edition"
          ],
          [
           272739,
           "Clinic: Deluxe Edition"
          ],
          [
           264982,
           "Coloma"
          ],
          [
           269160,
           "Colors of Paris"
          ],
          [
           269511,
           "Cooper Island"
          ],
          [
           344277,
           "Corrosion"
          ],
          [
           270956,
           "The Court of Miracles"
          ],
          [
           248918,
           "Court of the Dead: Mourners Call"
          ],
          [
           214887,
           "CO₂: Second Chance"
          ],
          [
           300753,
           "Cross Clues"
          ],
          [
           280480,
           "Crystal Palace"
          ],
          [
           179303,
           "Cthulhu Realms"
          ],
          [
           139976,
           "Cthulhu Wars"
          ],
          [
           344338,
           "Cuphead: Fast Rolling Dice Game"
          ],
          [
           5298,
           "Curses!"
          ],
          [
           264321,
           "Dead Man's Cabal"
          ],
          [
           245197,
           "Deadwood 1876"
          ],
          [
           162082,
           "Deus"
          ],
          [
           310632,
           "Dice Miner"
          ],
          [
           216734,
           "Dice Throne: Season One"
          ],
          [
           266967,
           "Dice Throne: Season Two – Cursed Pirate v. Artificer"
          ],
          [
           266966,
           "Dice Throne: Season Two – Gunslinger v. Samurai"
          ],
          [
           266964,
           "Dice Throne: Season Two – Seraph v. Vampire Lord"
          ],
          [
           266965,
           "Dice Throne: Season Two – Tactician v. Huntress"
          ],
          [
           317457,
           "Dinosaur World"
          ],
          [
           358027,
           "Disney Big Thunder Mountain Railroad"
          ],
          [
           337929,
           "Disney Gargoyles: Awakening"
          ],
          [
           303648,
           "Disney Hocus Pocus: The Game"
          ],
          [
           337754,
           "Disney It's a Small World Game"
          ],
          [
           303650,
           "Disney Jungle Cruise Adventure Game"
          ],
          [
           331050,
           "Disney Villainous: Despicable Plots"
          ],
          [
           284760,
           "Disney Villainous: Evil Comes Prepared"
          ],
          [
           299047,
           "Disney Villainous: Perfectly Wretched"
          ],
          [
           271518,
           "Disney Villainous: Wicked to the Core"
          ],
          [
           344334,
           "Disney's Kingdom Hearts Perilous Pursuit"
          ],
          [
           205317,
           "DOOM: The Board Game"
          ],
          [
           13004,
           "The Downfall of Pompeii"
          ],
          [
           180761,
           "Dreamwell"
          ],
          [
           283355,
           "Dune"
          ],
          [
           262208,
           "Dungeon Drop"
          ],
          [
           97207,
           "Dungeon Petz"
          ],
          [
           138788,
           "Dungeon Roll"
          ],
          [
           279254,
           "Ecos: First Continent"
          ],
          [
           189807,
           "Elder Sign: Omens of Ice"
          ],
          [
           329450,
           "Equinox"
          ],
          [
           270971,
           "Era: Medieval Age"
          ],
          [
           142379,
           "Escape Plan"
          ],
          [
           299800,
           "Escape Tales: Children of Wyrmwoods"
          ],
          [
           237415,
           "Espinas"
          ],
          [
           280794,
           "Etherfields"
          ],
          [
           206718,
           "Ethnos"
          ],
          [
           199792,
           "Everdell"
          ],
          [
           292126,
           "Excavation Earth"
          ],
          [
           220780,
           "Fairy Tile"
          ],
          [
           198609,
           "Fate of the Elder Gods"
          ],
          [
           163839,
           "Feudum"
          ],
          [
           233020,
           "Fireball Island: The Curse of Vul-Kar"
          ],
          [
           322564,
           "Fjords"
          ],
          [
           216597,
           "Flatline"
          ],
          [
           293275,
           "Flyin' Goblin"
          ],
          [
           244049,
           "Forum Trajanum"
          ],
          [
           280032,
           "Fossilis"
          ],
          [
           290829,
           "Fresco: Mega Box"
          ],
          [
           318084,
           "Furnace"
          ],
          [
           181279,
           "Fury of Dracula (Third/Fourth Edition)"
          ],
          [
           286171,
           "Gates of Delirium"
          ],
          [
           195275,
           "Ghostbusters: The Board Game II"
          ],
          [
           246192,
           "Gizmos"
          ],
          [
           12692,
           "Gloom"
          ],
          [
           275044,
           "Glow"
          ],
          [
           278120,
           "God of War: The Card Game"
          ],
          [
           250458,
           "Gùgōng"
          ],
          [
           304783,
           "Hadrian's Wall"
          ],
          [
           227789,
           "Heaven & Ale"
          ],
          [
           182120,
           "Histrio"
          ],
          [
           295957,
           "Holi: Festival of Colors"
          ],
          [
           236537,
           "The Hollow Woods: Storytelling Card Game"
          ],
          [
           257006,
           "Homebrewers"
          ],
          [
           244513,
           "ICECOOL2"
          ],
          [
           218804,
           "Imaginarium"
          ],
          [
           265402,
           "In the Hall of the Mountain King"
          ],
          [
           254427,
           "Incubation"
          ],
          [
           326767,
           "Infinity N4: Core Rules"
          ],
          [
           270109,
           "Iwari"
          ],
          [
           253399,
           "Journal 29: Interactive Book Game"
          ],
          [
           1751,
           "Jumanji"
          ],
          [
           149112,
           "Kill Shakespeare"
          ],
          [
           154509,
           "Kingsport Festival"
          ],
          [
           199382,
           "Kingsport Festival: The Card Game"
          ],
          [
           161533,
           "Lisboa"
          ],
          [
           269385,
           "The Lord of the Rings: Journeys in Middle-Earth"
          ],
          [
           222509,
           "Lords of Hellas"
          ],
          [
           178958,
           "The Lords of Rock"
          ],
          [
           323613,
           "LUNA Capital"
          ],
          [
           301257,
           "Maglev Metro"
          ],
          [
           276025,
           "Maracaibo"
          ],
          [
           348406,
           "Marvel Dice Throne"
          ],
          [
           302336,
           "Marvel Villainous: Infinite Power"
          ],
          [
           335528,
           "Marvel Villainous: Mischief & Malice"
          ],
          [
           285905,
           "Marvel: Crisis Protocol"
          ],
          [
           241106,
           "Masque of the Red Death"
          ],
          [
           291511,
           "Medici: The Dice Game"
          ],
          [
           300683,
           "Meeple Land"
          ],
          [
           212580,
           "Mega Man Pixel Tactics: Mega Man Blue"
          ],
          [
           212581,
           "Mega Man Pixel Tactics: Proto Man Red"
          ],
          [
           300217,
           "Merchants of the Dark Road"
          ],
          [
           302189,
           "Merlin: Big Box"
          ],
          [
           306040,
           "Merv: The Heart of the Silk Road"
          ],
          [
           290468,
           "Mint Condition Comics"
          ],
          [
           230408,
           "Monopoly Gamer"
          ],
          [
           214293,
           "Mountains of Madness"
          ],
          [
           21763,
           "Mr. Jack"
          ],
          [
           164237,
           "Neptun"
          ],
          [
           154602,
           "Night of the Grand Octopus"
          ],
          [
           270269,
           "Ninja Academy"
          ],
          [
           264925,
           "Nocturion"
          ],
          [
           233676,
           "Noria"
          ],
          [
           249505,
           "Nyctophobia"
          ],
          [
           192074,
           "Odin's Ravens (Second Edition)"
          ],
          [
           322588,
           "Origins: First Builders"
          ],
          [
           222542,
           "Otys"
          ],
          [
           301638,
           "Out Of This World"
          ],
          [
           324963,
           "Pac-Man: The Card Game"
          ],
          [
           266810,
           "Paladins of the West Kingdom"
          ],
          [
           291962,
           "Paper Dungeons: A Dungeon Scrawler Game"
          ],
          [
           217861,
           "Paper Tales"
          ],
          [
           241066,
           "Papillon"
          ],
          [
           172546,
           "Parfum"
          ],
          [
           210274,
           "Petrichor"
          ],
          [
           218603,
           "Photosynthesis"
          ],
          [
           272889,
           "Pictionary Air"
          ],
          [
           299963,
           "Picture Perfect"
          ],
          [
           303551,
           "Polis"
          ],
          [
           308765,
           "Praga Caput Regni"
          ],
          [
           87890,
           "Prêt-à-Porter"
          ],
          [
           108687,
           "Puerto Rico"
          ],
          [
           228341,
           "Pulsar 2849"
          ],
          [
           6068,
           "Queen's Necklace"
          ],
          [
           300700,
           "Quetzal"
          ],
          [
           301880,
           "Raiders of Scythia"
          ],
          [
           202732,
           "Raise Your Goblets"
          ],
          [
           314401,
           "Rapa Nui"
          ],
          [
           208024,
           "The Reckoners"
          ],
          [
           262712,
           "Res Arcana"
          ],
          [
           306637,
           "Resident Evil 3: The Board Game"
          ],
          [
           265260,
           "Revolution of 1828"
          ],
          [
           218333,
           "Rhino Hero: Super Battle"
          ],
          [
           205896,
           "Rising Sun"
          ],
          [
           40251,
           "Risk: Balance of Power"
          ],
          [
           179719,
           "Risk: Game of Thrones"
          ],
          [
           10383,
           "Risk: Godstorm"
          ],
          [
           103469,
           "Risk: Metal Gear Solid"
          ],
          [
           183880,
           "Risk: Star Wars Edition"
          ],
          [
           15045,
           "Risk: Star Wars – Clone Wars Edition"
          ],
          [
           18,
           "RoboRally"
          ],
          [
           296100,
           "Rococo: Deluxe Edition"
          ],
          [
           169426,
           "Roll Player"
          ],
          [
           285265,
           "Rune Stones"
          ],
          [
           224079,
           "Sailing Toward Osiris"
          ],
          [
           67593,
           "Die Säulen der Erde: das Kartenspiel"
          ],
          [
           279537,
           "The Search for Planet X"
          ],
          [
           234877,
           "Sebastian Fitzek Safehouse"
          ],
          [
           344167,
           "The Shadow World: A Sci-Fi Storytelling Game"
          ],
          [
           1070,
           "Shadows in the Forest"
          ],
          [
           263222,
           "Shards of the Jaguar"
          ],
          [
           302280,
           "Shifting Stones"
          ],
          [
           255037,
           "Silk"
          ],
          [
           275391,
           "Skulk"
          ],
          [
           246684,
           "Smartphone Inc."
          ],
          [
           296626,
           "Sonora"
          ],
          [
           243358,
           "Space Park"
          ],
          [
           183562,
           "Star Wars: X-Wing Miniatures Game – The Force Awakens Core Set"
          ],
          [
           301011,
           "Starlink"
          ],
          [
           220628,
           "Stellium"
          ],
          [
           21036,
           "Stratego: Star Wars Saga Edition"
          ],
          [
           127784,
           "Suspend"
          ],
          [
           179820,
           "Tail Feathers"
          ],
          [
           34119,
           "Tales of the Arabian Nights"
          ],
          [
           273976,
           "Talisman: Kingdom Hearts"
          ],
          [
           181811,
           "Tatsu"
          ],
          [
           282390,
           "Tattoo Brawl"
          ],
          [
           297030,
           "Tekhenu: Obelisk of the Sun"
          ],
          [
           328871,
           "Terraforming Mars: Ares Expedition"
          ],
          [
           276817,
           "Tetris Speed"
          ],
          [
           274533,
           "Throw Throw Burrito"
          ],
          [
           261901,
           "Tokyo Highway"
          ],
          [
           218530,
           "Tortuga 1667"
          ],
          [
           226146,
           "Tower of Madness"
          ],
          [
           257987,
           "The Towers of Arkhanos"
          ],
          [
           102680,
           "Trajan"
          ],
          [
           242639,
           "Treasure Island"
          ],
          [
           274363,
           "Trial of the Temples"
          ],
          [
           255668,
           "Trickerion: Collector's Edition"
          ],
          [
           281442,
           "Trismegistus: The Ultimate Formula"
          ],
          [
           73439,
           "Troyes"
          ],
          [
           266177,
           "Tsuro: Phoenix Rising"
          ],
          [
           12493,
           "Twilight Imperium: Third Edition"
          ],
          [
           323206,
           "Uk'otoa"
          ],
          [
           340466,
           "Unfathomable"
          ],
          [
           216092,
           "Unlock!: Escape Adventures – Squeek & Sausage"
          ],
          [
           335764,
           "Unmatched: Battle of Legends, Volume Two"
          ],
          [
           326933,
           "Unmatched: Redemption Row"
          ],
          [
           75223,
           "Utopia Engine"
          ],
          [
           193105,
           "Utopia Engine: Beast Hunter"
          ],
          [
           340325,
           "Vagrantsong"
          ],
          [
           245659,
           "Vampire: The Masquerade – Vendetta"
          ],
          [
           175640,
           "Vinhos: Deluxe Edition"
          ],
          [
           296151,
           "Viscounts of the West Kingdom"
          ],
          [
           316090,
           "Vivid Memories"
          ],
          [
           75165,
           "De Vulgari Eloquentia"
          ],
          [
           256729,
           "Wacky Races: The Board Game"
          ],
          [
           195560,
           "Wasteland Express Delivery Service"
          ],
          [
           204575,
           "Way of the Panda"
          ],
          [
           233867,
           "Welcome To..."
          ],
          [
           137958,
           "Wild West Exodus"
          ],
          [
           335427,
           "Wild: Serengeti"
          ],
          [
           282922,
           "Windward"
          ],
          [
           122599,
           "Winter Tales"
          ],
          [
           38506,
           "Witch of Salem"
          ],
          [
           318560,
           "Witchstone"
          ],
          [
           192351,
           "World Monuments"
          ],
          [
           168433,
           "The World of Smog: On Her Majesty's Service"
          ],
          [
           209324,
           "The World of SMOG: Rise of Moloch"
          ],
          [
           43528,
           "World Without End"
          ],
          [
           315937,
           "X-Men: Mutant Insurrection"
          ],
          [
           284107,
           "Zodiac Clash"
          ],
          [
           46147,
           "Свинтус"
          ],
          [
           275913,
           "Bruxelles 1897"
          ],
          [
           7805,
           "Fearsome Floors"
          ],
          [
           85036,
           "20th Century"
          ],
          [
           73369,
           "51st State"
          ],
          [
           27848,
           "Age of Conan: The Strategy Board Game"
          ],
          [
           22545,
           "Age of Empires III: The Age of Discovery"
          ],
          [
           88005,
           "Aguila Roja"
          ],
          [
           137408,
           "Amerigo"
          ],
          [
           39339,
           "Android"
          ],
          [
           118063,
           "Android: Infiltration"
          ],
          [
           145633,
           "Ascension: Apprentice Edition"
          ],
          [
           69789,
           "Ascension: Deckbuilding Game"
          ],
          [
           95064,
           "Ascension: Return of the Fallen"
          ],
          [
           108784,
           "Ascension: Storm of Souls"
          ],
          [
           61692,
           "Axis & Allies Europe 1940"
          ],
          [
           30933,
           "BANG! The Bullet!"
          ],
          [
           93538,
           "Battleship Galaxies"
          ],
          [
           37111,
           "Battlestar Galactica: The Board Game"
          ],
          [
           93724,
           "Black Gold"
          ],
          [
           11,
           "Bohnanza"
          ],
          [
           40270,
           "Call of Cthulhu: The Card Game"
          ],
          [
           2795,
           "Car Wars"
          ],
          [
           43443,
           "Castle Panic"
          ],
          [
           4491,
           "Cave Troll"
          ],
          [
           43111,
           "Chaos in the Old World"
          ],
          [
           105593,
           "Cheating Moth"
          ],
          [
           120217,
           "City of Horror"
          ],
          [
           36932,
           "Claustrophobia"
          ],
          [
           160010,
           "Conan"
          ],
          [
           169464,
           "Defenders of the Last Stand"
          ],
          [
           177823,
           "Devil's Run: Route 666"
          ],
          [
           10640,
           "Doom: The Boardgame"
          ],
          [
           161617,
           "Dungeon Lords: Happy Anniversary"
          ],
          [
           59946,
           "Dungeons & Dragons: Castle Ravenloft Board Game"
          ],
          [
           92044,
           "Dungeons & Dragons: Conquest of Nerath Board Game"
          ],
          [
           91872,
           "Dungeons & Dragons: The Legend of Drizzt Board Game"
          ],
          [
           66356,
           "Dungeons & Dragons: Wrath of Ashardalon Board Game"
          ],
          [
           73171,
           "Earth Reborn"
          ],
          [
           72125,
           "Eclipse"
          ],
          [
           159504,
           "Folklore: The Affliction"
          ],
          [
           95103,
           "Fortune and Glory: The Cliffhanger Game"
          ],
          [
           20963,
           "Fury of Dracula (Second Edition)"
          ],
          [
           39953,
           "A Game of Thrones: The Card Game"
          ],
          [
           37046,
           "Ghost Stories"
          ],
          [
           38862,
           "Giants"
          ],
          [
           93,
           "El Grande"
          ],
          [
           63543,
           "Horus Heresy"
          ],
          [
           33040,
           "Humans!!!"
          ],
          [
           9565,
           "James Bond 007 Assault! Game"
          ],
          [
           34585,
           "Keltis"
          ],
          [
           55690,
           "Kingdom Death: Monster"
          ],
          [
           173805,
           "Lobotomy"
          ],
          [
           40816,
           "Magestorm"
          ],
          [
           15817,
           "Manila"
          ],
          [
           25292,
           "Merchants & Marauders"
          ],
          [
           902,
           "Meuterer"
          ],
          [
           169427,
           "Middara: Unintentional Malum – Act 1"
          ],
          [
           18258,
           "Mission: Red Planet"
          ],
          [
           1927,
           "Munchkin"
          ],
          [
           25071,
           "Munchkin Cthulhu"
          ],
          [
           21241,
           "Neuroshima Hex! 3.0"
          ],
          [
           120605,
           "Neuroshima: Convoy"
          ],
          [
           168537,
           "Pandemonium"
          ],
          [
           69552,
           "Panic Station"
          ],
          [
           133038,
           "Pathfinder Adventure Card Game: Rise of the Runelords – Base Set"
          ],
          [
           44163,
           "Power Grid: Factory Manager"
          ],
          [
           36648,
           "Pyramid of Pengqueen"
          ],
          [
           28143,
           "Race for the Galaxy"
          ],
          [
           17133,
           "Railways of the World"
          ],
          [
           36946,
           "Red November"
          ],
          [
           181530,
           "Runebound (Third Edition)"
          ],
          [
           59294,
           "Runewars"
          ],
          [
           150997,
           "Shadows of Brimstone: Swamps of Death"
          ],
          [
           15062,
           "Shadows over Camelot"
          ],
          [
           176103,
           "Shogun Big Box"
          ],
          [
           77130,
           "Sid Meier's Civilization: The Board Game"
          ],
          [
           123096,
           "Space Cadets"
          ],
          [
           187645,
           "Star Wars: Rebellion"
          ],
          [
           103885,
           "Star Wars: X-Wing Miniatures Game"
          ],
          [
           22827,
           "StarCraft: The Board Game"
          ],
          [
           121410,
           "Steam Park"
          ],
          [
           45986,
           "Stronghold"
          ],
          [
           92190,
           "Super Dungeon Explore"
          ],
          [
           143405,
           "Sylvion"
          ],
          [
           25261,
           "Tannhäuser"
          ],
          [
           35815,
           "A Touch of Evil: The Supernatural Game"
          ],
          [
           148319,
           "Tragedy Looper"
          ],
          [
           233078,
           "Twilight Imperium: Fourth Edition"
          ],
          [
           42131,
           "War of the Ring"
          ],
          [
           22038,
           "Warrior Knights"
          ],
          [
           17223,
           "World of Warcraft: The Boardgame"
          ],
          [
           161866,
           "Zombicide Season 3: Rue Morgue"
          ],
          [
           10167,
           "Zombies!!! 4: The End..."
          ],
          [
           202408,
           "Adrenaline"
          ],
          [
           218948,
           "Apocalypse Road"
          ],
          [
           304531,
           "Ascension Tactics: Miniatures Deckbuilding Game"
          ],
          [
           320698,
           "Blitz Bowl: Season 2"
          ],
          [
           258210,
           "Blitzkrieg!: World War Two in 20 Minutes"
          ],
          [
           181161,
           "Brick Party"
          ],
          [
           338957,
           "Caesar!: Seize Rome in 20 Minutes!"
          ],
          [
           201808,
           "Clank!: Una aventura de construcción de mazos"
          ],
          [
           227163,
           "Cooking Rumble"
          ],
          [
           192457,
           "Cry Havoc"
          ],
          [
           293531,
           "Detective: A Modern Crime Board Game – Season One"
          ],
          [
           291794,
           "Dice Throne: Season One ReRolled"
          ],
          [
           268776,
           "Doxa: The Card Game"
          ],
          [
           334049,
           "The Dragon Prince: Battlecharged"
          ],
          [
           271055,
           "Dwellings of Eldervale"
          ],
          [
           207729,
           "The Edge: Dawnfall"
          ],
          [
           223040,
           "Fantasy Realms"
          ],
          [
           302723,
           "Forgotten Waters"
          ],
          [
           180602,
           "Game of Trains"
          ],
          [
           281658,
           "Hats"
          ],
          [
           314530,
           "Iwari: Deluxe Edition"
          ],
          [
           199966,
           "Kingsburg (Second Edition)"
          ],
          [
           240855,
           "Lockup: A Roll Player Tale"
          ],
          [
           41239,
           "Mamma Mia! Plus"
          ],
          [
           283948,
           "Marco Polo II: In the Service of the Khan"
          ],
          [
           244191,
           "Naga Raja"
          ],
          [
           56692,
           "Parade"
          ],
          [
           196202,
           "Rum & Bones: Second Tide"
          ],
          [
           198890,
           "Rum & Bones: Second Tide – Cutthroats Hero Pack"
          ],
          [
           225975,
           "Rum & Bones: Second Tide – Mercenaries Hero's Chest"
          ],
          [
           230218,
           "Rum & Bones: Second Tide – Mercenaries Promos Set #3"
          ],
          [
           217670,
           "Rum & Bones: Second Tide – Sea Monsters"
          ],
          [
           228328,
           "Rurik: Dawn of Kiev"
          ],
          [
           284785,
           "Sherlock Junior: Suriguri"
          ],
          [
           266444,
           "Sherlock: 13 Hostages"
          ],
          [
           250779,
           "Sherlock: Death on the 4th of July"
          ],
          [
           296986,
           "Sherlock: Entre tumbas"
          ],
          [
           250780,
           "Sherlock: Last Call"
          ],
          [
           255984,
           "Sleeping Gods"
          ],
          [
           227893,
           "Smile"
          ],
          [
           257193,
           "Starcadia Quest"
          ],
          [
           331992,
           "Steampunk Rally Fusion: Atomic Edition"
          ],
          [
           194517,
           "Super Fantasy Brawl"
          ],
          [
           309113,
           "Ticket to Ride: Amsterdam"
          ],
          [
           329841,
           "Ticket to Ride: Europe – 15th Anniversary"
          ],
          [
           31627,
           "Ticket to Ride: Nordic Countries"
          ],
          [
           285826,
           "Ultra Tiny Epic Galaxies"
          ],
          [
           294612,
           "Unlock!: Epic Adventures"
          ],
          [
           254226,
           "Unlock!: Exotic Adventures"
          ],
          [
           239307,
           "Unlock!: Secret Adventures"
          ],
          [
           279613,
           "Unlock!: Timeless Adventures"
          ],
          [
           274637,
           "Unmatched: Battle of Legends, Volume One"
          ],
          [
           315060,
           "Unmatched: Buffy the Vampire Slayer"
          ],
          [
           294484,
           "Unmatched: Cobble & Fog"
          ],
          [
           284777,
           "Unmatched: Jurassic Park – InGen vs Raptors"
          ],
          [
           325635,
           "Unmatched: Little Red Riding Hood vs. Beowulf"
          ],
          [
           274638,
           "Unmatched: Robin Hood vs. Bigfoot"
          ],
          [
           287754,
           "Warhammer Underworlds: Beastgrave"
          ],
          [
           261594,
           "Warhammer Underworlds: Nightvault"
          ],
          [
           198454,
           "When I Dream"
          ],
          [
           301255,
           "Whistle Mountain"
          ],
          [
           5,
           "Acquire"
          ],
          [
           105551,
           "Archipelago"
          ],
          [
           36739,
           "Black Sheep"
          ],
          [
           136888,
           "Bruges"
          ],
          [
           161226,
           "The Builders: Antiquity"
          ],
          [
           144553,
           "The Builders: Middle Ages"
          ],
          [
           19237,
           "Ca$h 'n Gun$"
          ],
          [
           18602,
           "Caylus"
          ],
          [
           5782,
           "Coloretto"
          ],
          [
           172062,
           "Fairytale Gloom"
          ],
          [
           23964,
           "The Game of Life (40th Anniversary Edition)"
          ],
          [
           104527,
           "The Game of Life Adventure Edition"
          ],
          [
           116,
           "Guillotine"
          ],
          [
           154246,
           "La Isla"
          ],
          [
           142615,
           "The Jelly Monster Lab"
          ],
          [
           109276,
           "Kanban: Driver's Edition"
          ],
          [
           119781,
           "Legacy: Gears of Time"
          ],
          [
           158339,
           "Lost Legacy: The Starship"
          ],
          [
           70512,
           "Luna: In the Domain of the Moon Priestess"
          ],
          [
           99875,
           "Martian Dice"
          ],
          [
           139030,
           "Mascarade"
          ],
          [
           88950,
           "Palenque"
          ],
          [
           128780,
           "Pax Porfiriana"
          ],
          [
           148951,
           "Pequeños Grandes Reinos"
          ],
          [
           85250,
           "El Rey de los Enanos"
          ],
          [
           93577,
           "Rocket Jockey"
          ],
          [
           27833,
           "Steam: Rails to Riches"
          ],
          [
           175961,
           "Three Cheers for Master"
          ],
          [
           285998,
           "Tiny Epic Tactics: Deluxe Edition"
          ],
          [
           35505,
           "Walk the Plank!"
          ],
          [
           231218,
           "BLACK SONATA"
          ],
          [
           289397,
           "CRAZY TACO"
          ],
          [
           258244,
           "DISCOVER"
          ],
          [
           192401,
           "DUNGEON TIME"
          ],
          [
           149809,
           "ESCAPE ZOMBIE CITY"
          ],
          [
           207336,
           "HONSHU\n"
          ],
          [
           129051,
           "LE HAVRE 2J"
          ],
          [
           175307,
           "LOVE LETTER ADVENTURE TIME"
          ],
          [
           313935,
           "MARIANA TRENCH"
          ],
          [
           31563,
           "MIDDLE EARTH QUEST"
          ],
          [
           126042,
           "NATIONS"
          ],
          [
           231197,
           "RAXXON"
          ],
          [
           311465,
           "Roll & Raid"
          ],
          [
           229220,
           "Santa Maria"
          ],
          [
           218995,
           "SANTO DOMINGO"
          ],
          [
           150145,
           "SKULL KING\n"
          ],
          [
           137269,
           "SPYRIUM"
          ],
          [
           166317,
           "TIME OF SOCCER"
          ],
          [
           17027,
           "TIRO AL PATO"
          ],
          [
           312267,
           "UNLOCK SW"
          ],
          [
           213460,
           "Unlock!: Escape Adventures"
          ],
          [
           256151,
           "VERACRUZ 1631"
          ],
          [
           25951,
           "The Castle of the Devil"
          ],
          [
           153064,
           "Good Cop Bad Cop"
          ],
          [
           115105,
           "Kittens in a Blender"
          ],
          [
           125548,
           "Pixel Tactics"
          ],
          [
           134352,
           "Two Rooms and a Boom"
          ],
          [
           31016,
           "We Didn't Playtest This At All"
          ],
          [
           42448,
           "We Didn't Playtest This Either"
          ],
          [
           2397,
           "Backgammon"
          ],
          [
           157403,
           "Black Fleet"
          ],
          [
           6411,
           "Blokus 3D"
          ],
          [
           140933,
           "Blueprints"
          ],
          [
           128412,
           "Bohn to Be Wild!"
          ],
          [
           224517,
           "Brass: Birmingham"
          ],
          [
           2181,
           "Bridge"
          ],
          [
           50381,
           "Cards Against Humanity"
          ],
          [
           205398,
           "Citadels"
          ],
          [
           224037,
           "Codenames: Duet"
          ],
          [
           124361,
           "Concordia"
          ],
          [
           324856,
           "The Crew: Mission Deep Sea"
          ],
          [
           215371,
           "CrossTalk"
          ],
          [
           156129,
           "Deception: Murder in Hong Kong"
          ],
          [
           9364,
           "Doppelkopf"
          ],
          [
           7918,
           "Eagle Eye Agency"
          ],
          [
           121297,
           "Fleet"
          ],
          [
           220,
           "High Society"
          ],
          [
           63888,
           "Innovation"
          ],
          [
           205597,
           "Jump Drive"
          ],
          [
           254640,
           "Just One"
          ],
          [
           73761,
           "K2"
          ],
          [
           28738,
           "Kamon"
          ],
          [
           142039,
           "Lost Legacy"
          ],
          [
           143884,
           "Machi Koro"
          ],
          [
           176558,
           "Mafia de Cuba"
          ],
          [
           6268,
           "Maze"
          ],
          [
           2955,
           "Mexica"
          ],
          [
           208895,
           "New York Slice"
          ],
          [
           1115,
           "Poker"
          ],
          [
           681,
           "Quarto"
          ],
          [
           9217,
           "Saint Petersburg"
          ],
          [
           8217,
           "San Juan"
          ],
          [
           2381,
           "Scattergories"
          ],
          [
           6819,
           "Skat"
          ],
          [
           274037,
           "Solar Storm"
          ],
          [
           63268,
           "Spot it!"
          ],
          [
           40432,
           "Stratego (Revised Edition)"
          ],
          [
           204472,
           "Sub Terra"
          ],
          [
           182028,
           "Through the Ages: A New Story of Civilization"
          ],
          [
           195544,
           "Tides of Madness"
          ],
          [
           54,
           "Tikal"
          ],
          [
           154634,
           "Yardmaster"
          ],
          [
           154499,
           "Hot Tin Roof"
          ],
          [
           3837,
           "Rat-a-Tat Cat"
          ],
          [
           17405,
           "1846: The Race for the Midwest"
          ],
          [
           267058,
           "300: Earth & Water"
          ],
          [
           268586,
           "6 nimmt! 25 Jahre"
          ],
          [
           38343,
           "Ad Astra"
          ],
          [
           144728,
           "Adventure Time Card Wars: Finn vs. Jake"
          ],
          [
           118000,
           "Africana"
          ],
          [
           305462,
           "The Age of Atlantis"
          ],
          [
           200680,
           "Agricola (Revised Edition)"
          ],
          [
           154458,
           "Akrotiri"
          ],
          [
           5404,
           "Amun-Re"
          ],
          [
           153999,
           "...and then, we held hands."
          ],
          [
           166857,
           "Antike II"
          ],
          [
           13122,
           "Antiquity"
          ],
          [
           282297,
           "Aqua Mirabilis"
          ],
          [
           144797,
           "Argent: The Consortium"
          ],
          [
           260316,
           "Art Decko"
          ],
          [
           205346,
           "Beer Empire"
          ],
          [
           299838,
           "The Belgian Beers Race"
          ],
          [
           277927,
           "Bites"
          ],
          [
           90137,
           "Blood Bowl: Team Manager – The Card Game"
          ],
          [
           154905,
           "Brew Crafters: Travel Card Game"
          ],
          [
           144592,
           "Bruxelles 1893"
          ],
          [
           181260,
           "Burano"
          ],
          [
           552,
           "Bus"
          ],
          [
           284936,
           "Café"
          ],
          [
           199383,
           "Calimala"
          ],
          [
           290236,
           "Canvas"
          ],
          [
           171131,
           "Captain Sonar"
          ],
          [
           230751,
           "Carcassonne für 2"
          ],
          [
           131014,
           "Carcassonne: Edición Invierno"
          ],
          [
           12902,
           "Carcassonne: The City"
          ],
          [
           310873,
           "Carnegie"
          ],
          [
           39938,
           "Carson City"
          ],
          [
           57390,
           "Catacombs"
          ],
          [
           189067,
           "Cavern Tavern"
          ],
          [
           333372,
           "Cellulose: A Plant Cell Biology Game"
          ],
          [
           328636,
           "Chai (Deluxe Edition)"
          ],
          [
           103649,
           "The City"
          ],
          [
           123499,
           "City of Iron"
          ],
          [
           240465,
           "CIV: Carta Impera Victoria"
          ],
          [
           143515,
           "Coal Baron"
          ],
          [
           277448,
           "Coloma: Deluxe Edition"
          ],
          [
           192934,
           "Colony"
          ],
          [
           125028,
           "Colorpop"
          ],
          [
           98351,
           "Core Worlds"
          ],
          [
           327890,
           "Creature Comforts: Kickstarter Edition"
          ],
          [
           170624,
           "Crusaders: Thy Will Be Done"
          ],
          [
           330608,
           "Cryo"
          ],
          [
           147431,
           "Cubist"
          ],
          [
           201842,
           "Cup of Bluff"
          ],
          [
           237145,
           "Daimyo: Rebirth of the Empire"
          ],
          [
           191597,
           "Dale of Merchants 2"
          ],
          [
           111124,
           "Dark Moon"
          ],
          [
           125678,
           "DC Comics Deck-Building Game"
          ],
          [
           155463,
           "DC Comics Deck-Building Game: Forever Evil"
          ],
          [
           96713,
           "Deadwood"
          ],
          [
           175846,
           "Deck Building: The Deck Building Game"
          ],
          [
           322561,
           "Dice Throne: Season One ReRolled – Barbarian v. Moon Elf"
          ],
          [
           322562,
           "Dice Throne: Season One ReRolled – Monk v. Paladin"
          ],
          [
           322563,
           "Dice Throne: Season One ReRolled – Pyromancer v. Shadow Thief"
          ],
          [
           320527,
           "Dice Throne: Season One ReRolled – Treant v. Ninja"
          ],
          [
           210296,
           "DinoGenics"
          ],
          [
           193981,
           "Downfall"
          ],
          [
           200280,
           "Dragon Brew"
          ],
          [
           205185,
           "Einstein: His Amazing Life and Incomparable Science"
          ],
          [
           214211,
           "Einstein: His Amazing Life and Incomparable Science – The Genius Expansion"
          ],
          [
           173442,
           "Empires: Age of Discovery"
          ],
          [
           207687,
           "Endangered Orphans of Condyle Cove"
          ],
          [
           47125,
           "El Erudito"
          ],
          [
           272682,
           "Expedition to Newdale"
          ],
          [
           183284,
           "Factory Funner"
          ],
          [
           151446,
           "La Fallera Calavera"
          ],
          [
           38548,
           "Fast Flowing Forest Fellers"
          ],
          [
           171011,
           "Favor of the Pharaoh"
          ],
          [
           259586,
           "Feudum: Big Box"
          ],
          [
           159675,
           "Fields of Arle"
          ],
          [
           15511,
           "Fjords"
          ],
          [
           170202,
           "Floating Market"
          ],
          [
           317411,
           "Florence"
          ],
          [
           204574,
           "The Flow of History"
          ],
          [
           358104,
           "The Forgotten Kingdom"
          ],
          [
           287941,
           "Formosa Tea"
          ],
          [
           139991,
           "Fresco: Big Box"
          ],
          [
           84469,
           "Fürstenfeld"
          ],
          [
           257273,
           "Ghosts of the Moor"
          ],
          [
           128271,
           "Ginkgopolis"
          ],
          [
           143693,
           "Glass Road"
          ],
          [
           265188,
           "Glen More II: Chronicles"
          ],
          [
           9216,
           "Goa"
          ],
          [
           12632,
           "Goldbräu"
          ],
          [
           146886,
           "La Granja"
          ],
          [
           111417,
           "The Great Heartland Hauling Co."
          ],
          [
           350933,
           "The Guild of Merchant Explorers"
          ],
          [
           300322,
           "Hallertau"
          ],
          [
           30381,
           "Hamburgum"
          ],
          [
           903,
           "Hamsterrolle"
          ],
          [
           155969,
           "Harbour"
          ],
          [
           200058,
           "Harvest"
          ],
          [
           216718,
           "Haspelknecht: The Ruhr Valley"
          ],
          [
           169794,
           "Haspelknecht: The Story of Early Coal Mining"
          ],
          [
           35677,
           "Le Havre"
          ],
          [
           320718,
           "Hidden Leaders"
          ],
          [
           327971,
           "Hippocrates"
          ],
          [
           119788,
           "Hyperborea"
          ],
          [
           276090,
           "Icaion"
          ],
          [
           177478,
           "IKI"
          ],
          [
           154203,
           "Imperial Settlers"
          ],
          [
           304285,
           "Infinity Gauntlet: A Love Letter Game"
          ],
          [
           155821,
           "Inis"
          ],
          [
           161882,
           "Irish Gauge"
          ],
          [
           18946,
           "Just Desserts"
          ],
          [
           284378,
           "Kanban EV"
          ],
          [
           122515,
           "Keyflower"
          ],
          [
           173649,
           "King Chocolate"
          ],
          [
           111732,
           "Kings of Air and Steam"
          ],
          [
           191982,
           "Knit Wit"
          ],
          [
           171879,
           "Kraftwagen: V6 Edition"
          ],
          [
           97842,
           "Last Will"
          ],
          [
           129437,
           "Legendary: A Marvel Deck Building Game"
          ],
          [
           169470,
           "Lemuria"
          ],
          [
           140620,
           "Lewis & Clark: The Expedition"
          ],
          [
           125618,
           "Libertalia"
          ],
          [
           65781,
           "London"
          ],
          [
           236191,
           "London (Second Edition)"
          ],
          [
           156566,
           "Lords of Xidit"
          ],
          [
           242804,
           "Lowlands"
          ],
          [
           257067,
           "Magnastorm"
          ],
          [
           176734,
           "The Manhattan Project: Energy Empire"
          ],
          [
           280453,
           "Masters of Renaissance: Lorenzo il Magnifico – The Card Game"
          ],
          [
           262477,
           "Mercado de Lisboa"
          ],
          [
           238799,
           "Messina 1347"
          ],
          [
           189192,
           "Mi Tierra: New Era"
          ],
          [
           240529,
           "Microbrew"
          ],
          [
           172386,
           "Mombasa"
          ],
          [
           112598,
           "Monster Factory"
          ],
          [
           293264,
           "Monsters on Board"
          ],
          [
           265681,
           "Montmartre"
          ],
          [
           323317,
           "Mouse Cheese Cat Cucumber"
          ],
          [
           315252,
           "Murano: Complete Edition"
          ],
          [
           109969,
           "Mutant Meeples"
          ],
          [
           65907,
           "Mystery Express"
          ],
          [
           242653,
           "Mysthea"
          ],
          [
           245931,
           "Neta-Tanka: Deluxe Edition"
          ],
          [
           157413,
           "New Bedford"
          ],
          [
           93971,
           "Nile DeLuxor"
          ],
          [
           154809,
           "Nippon"
          ],
          [
           343362,
           "Oak"
          ],
          [
           147241,
           "Oaxaca: Crafts of a Culture"
          ],
          [
           40198,
           "Oktoberfest"
          ],
          [
           276004,
           "On the Origin of Species"
          ],
          [
           251412,
           "On Tour"
          ],
          [
           159515,
           "Operation F.A.U.S.T."
          ],
          [
           70149,
           "Ora et Labora"
          ],
          [
           255507,
           "Orbis"
          ],
          [
           129948,
           "The Palaces of Carrara"
          ],
          [
           131287,
           "Panamax"
          ],
          [
           195867,
           "Papà Paolo"
          ],
          [
           257966,
           "Passing Through Petra"
          ],
          [
           276205,
           "Philosophia: Dare to be Wise"
          ],
          [
           195162,
           "Plague Inc.: The Board Game"
          ],
          [
           258779,
           "Planet Unknown"
          ],
          [
           223779,
           "Pocket Mars"
          ],
          [
           555,
           "The Princes of Florence"
          ],
          [
           329082,
           "Radlands"
          ],
          [
           253635,
           "Ragusa"
          ],
          [
           89927,
           "Ramses Return"
          ],
          [
           242684,
           "Reavers of Midgard"
          ],
          [
           12962,
           "Reef Encounter"
          ],
          [
           137297,
           "Rise of Augustus"
          ],
          [
           218293,
           "Rise to Nobility"
          ],
          [
           634,
           "River Dragons"
          ],
          [
           96792,
           "The Road to Canterbury"
          ],
          [
           144344,
           "Rococo"
          ],
          [
           226254,
           "The Ruhr: A Story of Coal Trade"
          ],
          [
           156943,
           "Saint Petersburg (Second Edition)"
          ],
          [
           150533,
           "Samurai Gardener"
          ],
          [
           298065,
           "Santa Monica"
          ],
          [
           104347,
           "Santiago de Cuba"
          ],
          [
           223518,
           "Scott Pilgrim's Precious Little Card Game"
          ],
          [
           102652,
           "Sentinels of the Multiverse"
          ],
          [
           313262,
           "Shamans"
          ],
          [
           230765,
           "Side Effects"
          ],
          [
           268620,
           "Similo"
          ],
          [
           38453,
           "Space Alert"
          ],
          [
           189350,
           "Starving Artists"
          ],
          [
           180592,
           "Steam Time"
          ],
          [
           323156,
           "Stroganov"
          ],
          [
           310194,
           "Surrealist Dinner Party"
          ],
          [
           39206,
           "Tac Tac Jack"
          ],
          [
           118776,
           "Tahiti"
          ],
          [
           186323,
           "Tavarua"
          ],
          [
           269207,
           "The Taverns of Tiefenthal"
          ],
          [
           306481,
           "Tawantinsuyu: The Inca Empire"
          ],
          [
           97903,
           "Terror in Meeple City"
          ],
          [
           132544,
           "Tesla vs. Edison: War of Currents"
          ],
          [
           30869,
           "Thebes"
          ],
          [
           182351,
           "Thief's Market"
          ],
          [
           503,
           "Through the Desert"
          ],
          [
           276894,
           "Ticket to Ride: London"
          ],
          [
           253284,
           "Ticket to Ride: New York"
          ],
          [
           176229,
           "Tides of Time"
          ],
          [
           158917,
           "TKO"
          ],
          [
           42215,
           "Tobago"
          ],
          [
           250754,
           "Trade on the Tigris"
          ],
          [
           24827,
           "Traders of Osaka"
          ],
          [
           288513,
           "Tranquility"
          ],
          [
           313065,
           "Transmissions"
          ],
          [
           216094,
           "Unlock!: Escape Adventures – The Island of Doctor Goorse"
          ],
          [
           245352,
           "Unlock!: Secret Adventures – A Noside Story"
          ],
          [
           274466,
           "Valley of the Kings: Premium Edition"
          ],
          [
           193927,
           "Vanuatu (Second Edition)"
          ],
          [
           274861,
           "Venice"
          ],
          [
           27173,
           "Vikings"
          ],
          [
           257769,
           "Walking in Burano"
          ],
          [
           274364,
           "Watergate"
          ],
          [
           368390,
           "Windward Collector's Edition"
          ],
          [
           339302,
           "Winterhaven Woods"
          ],
          [
           178336,
           "World's Fair 1893"
          ],
          [
           117915,
           "Yedo"
          ],
          [
           280575,
           "Yin Yang"
          ],
          [
           187515,
           "Zooscape"
          ],
          [
           277672,
           "303 Squadron"
          ],
          [
           300664,
           "Arkwright: The Card Game"
          ],
          [
           194230,
           "Attack on Titan: Deck-Building Game"
          ],
          [
           165283,
           "Battleship"
          ],
          [
           273330,
           "Bloodborne: The Board Game"
          ],
          [
           342388,
           "Bonanza"
          ],
          [
           221805,
           "Breaking Bad: The Board Game"
          ],
          [
           37589,
           "Clue: Discover the Secrets"
          ],
          [
           158899,
           "Colt Express"
          ],
          [
           281515,
           "Company of Heroes"
          ],
          [
           256916,
           "Concordia Venus"
          ],
          [
           938,
           "Enchanted Forest"
          ],
          [
           30539,
           "Get Bit!"
          ],
          [
           198994,
           "Hero Realms"
          ],
          [
           134253,
           "Hostage Negotiator"
          ],
          [
           225167,
           "Human Punishment: Social Deduction 2.0"
          ],
          [
           24181,
           "Imperial"
          ],
          [
           346659,
           "Infinity CodeOne: Operation Crimson Stone"
          ],
          [
           307621,
           "K2: Big Box"
          ],
          [
           223953,
           "Kitchen Rush"
          ],
          [
           174570,
           "Legendary Encounters: A Predator Deck Building Game"
          ],
          [
           1,
           "Die Macher"
          ],
          [
           259081,
           "Machi Koro Legacy"
          ],
          [
           10630,
           "Memoir '44"
          ],
          [
           164840,
           "Monopoly Deal"
          ],
          [
           300877,
           "New York Zoo"
          ],
          [
           106753,
           "Ooga Booga"
          ],
          [
           282954,
           "Paris"
          ],
          [
           27624,
           "Pictionary: 15th Anniversary"
          ],
          [
           217372,
           "The Quest for El Dorado"
          ],
          [
           98960,
           "Rogue Agent"
          ],
          [
           94362,
           "Rune Age"
          ],
          [
           228183,
           "Star Scrappers: Cave-in"
          ],
          [
           233571,
           "Star Wars: Legion"
          ],
          [
           283474,
           "Star Wars: Legion – Clone Wars Core Set"
          ],
          [
           230791,
           "Time of Legends: Joan of Arc"
          ],
          [
           240082,
           "Time of Legends: Joan of Arc – Village Pack"
          ],
          [
           272409,
           "Tiny Epic Tactics"
          ],
          [
           175495,
           "Titan Race"
          ],
          [
           219512,
           "Tudor"
          ],
          [
           1294,
           "Clue"
          ],
          [
           160499,
           "King of New York"
          ],
          [
           5878,
           "Loteria"
          ],
          [
           1406,
           "Monopoly"
          ],
          [
           11691,
           "Patolli"
          ],
          [
           6424,
           "Pick Up Sticks"
          ],
          [
           1381,
           "Pokémon Master Trainer"
          ],
          [
           2407,
           "Sorry!"
          ],
          [
           128664,
           "Timeline"
          ],
          [
           2821,
           "UNO Stacko"
          ],
          [
           25821,
           "The Werewolves of Miller's Hollow"
          ],
          [
           203427,
           "Fabled Fruit"
          ],
          [
           266083,
           "L.L.A.M.A."
          ],
          [
           277085,
           "Love Letter"
          ],
          [
           155873,
           "Power Grid Deluxe: Europe/North America"
          ],
          [
           3,
           "Samurai"
          ],
          [
           475,
           "Taj Mahal"
          ],
          [
           30645,
           "Tammany Hall"
          ],
          [
           42,
           "Tigris & Euphrates"
          ],
          [
           6830,
           "Zendo"
          ],
          [
           22398,
           "10 Days in Asia"
          ],
          [
           7866,
           "10 Days in the USA"
          ],
          [
           204298,
           "Arcadia Quest: Anvil & Valma"
          ],
          [
           189197,
           "Arcadia Quest: Chaos Dragon"
          ],
          [
           188448,
           "Arcadia Quest: Hïlda"
          ],
          [
           199352,
           "Arcadia Quest: Hoshi"
          ],
          [
           189261,
           "Arcadia Quest: Nina"
          ],
          [
           204303,
           "Arcadia Quest: Pet Pack 2"
          ],
          [
           234069,
           "Arcadia Quest: Pets – Chuck"
          ],
          [
           234070,
           "Arcadia Quest: Princess Pearl"
          ],
          [
           260789,
           "Assassin's Creed: Brotherhood of Venice"
          ],
          [
           6187,
           "Avalon"
          ],
          [
           164865,
           "B-Sieged: Sons of the Abyss"
          ],
          [
           244267,
           "BarBEARian Battlegrounds"
          ],
          [
           107733,
           "The Big Bang Theory: The Party Game"
          ],
          [
           212445,
           "Blood Bowl (2016 Edition)"
          ],
          [
           195518,
           "Crazy Karts"
          ],
          [
           245134,
           "Dackel Drauf!"
          ],
          [
           254683,
           "Dodos Riding Dinos"
          ],
          [
           115735,
           "Dragons' Den Board Game"
          ],
          [
           160081,
           "Dungeon Saga: Dwarf King's Quest"
          ],
          [
           35540,
           "Emprendiendo"
          ],
          [
           170,
           "Family Business"
          ],
          [
           146221,
           "Forge War"
          ],
          [
           233868,
           "HATE"
          ],
          [
           299252,
           "Here to Slay"
          ],
          [
           198830,
           "Heroes of Land, Air & Sea"
          ],
          [
           287938,
           "Kitchen Rush (Revised Edition)"
          ],
          [
           155822,
           "Krosmaster Junior"
          ],
          [
           112138,
           "Krosmaster: Arena"
          ],
          [
           151456,
           "Krosmaster: Arena – Duel Pack 1"
          ],
          [
           155827,
           "Krosmaster: Quest"
          ],
          [
           220784,
           "The Legend of the Cherry Tree that Blossoms Every Ten Years"
          ],
          [
           195547,
           "LOAD: League of Ancient Defenders"
          ],
          [
           14808,
           "Marvel Heroes"
          ],
          [
           202241,
           "Masmorra: Dungeons of Arcadia – Adventurers Set"
          ],
          [
           223136,
           "Masmorra: Dungeons of Arcadia – Kickstarter Exclusives"
          ],
          [
           197070,
           "Massive Darkness"
          ],
          [
           234672,
           "Massive Darkness: Lightbringer Pack"
          ],
          [
           186751,
           "Mythic Battles: Pantheon"
          ],
          [
           262534,
           "Oak & Iron: Core Box"
          ],
          [
           256997,
           "Perseverance: Castaway Chronicles – Episodes 1 & 2"
          ],
          [
           234429,
           "Raids"
          ],
          [
           202583,
           "Rise of Tribes"
          ],
          [
           126789,
           "Risk: Halo Legendary Edition"
          ],
          [
           131261,
           "Risk: StarCraft Collector's Edition"
          ],
          [
           8107,
           "Risk: The Lord of the Rings Trilogy Edition"
          ],
          [
           27961,
           "Risk: Transformers – Cybertron Battle Edition"
          ],
          [
           242343,
           "Siege Storm"
          ],
          [
           218395,
           "Sine Tempore"
          ],
          [
           122522,
           "Smash Up"
          ],
          [
           156548,
           "Super Dungeon Explore: Forgotten King"
          ],
          [
           252153,
           "Tang Garden"
          ],
          [
           264378,
           "Time of Legends: Joan of Arc – Super Exclusives"
          ],
          [
           299450,
           "Tsukuyumi: Full Moon Down (Second Edition)"
          ],
          [
           256250,
           "The Waylanders"
          ],
          [
           925,
           "Werewolf"
          ],
          [
           244654,
           "Wildlands"
          ],
          [
           32424,
           "1848: Australia"
          ],
          [
           278292,
           "Anachrony: Infinity Box"
          ],
          [
           154825,
           "Arkwright"
          ],
          [
           6752,
           "Attack!"
          ],
          [
           219513,
           "Bärenpark"
          ],
          [
           347521,
           "Blitzkrieg!: World War Two in 20 Minutes"
          ],
          [
           193651,
           "Bohemian Villages"
          ],
          [
           252556,
           "Bosk"
          ],
          [
           337765,
           "Brian Boru: High King of Ireland"
          ],
          [
           328565,
           "Caper: Europe"
          ],
          [
           300327,
           "The Castles of Tuscany"
          ],
          [
           248900,
           "Ceylon"
          ],
          [
           31730,
           "Chicago Express"
          ],
          [
           286261,
           "Chrono Corsairs"
          ],
          [
           214880,
           "City of the Big Shoulders"
          ],
          [
           316858,
           "CloudAge"
          ],
          [
           192836,
           "The Colonists"
          ],
          [
           175023,
           "Crows Overkill"
          ],
          [
           250442,
           "Crypt"
          ],
          [
           312251,
           "Curious Cargo"
          ],
          [
           286431,
           "Electropolis"
          ],
          [
           11825,
           "Empire of the Sun"
          ],
          [
           182352,
           "Exodus Fleet"
          ],
          [
           75449,
           "Firenze"
          ],
          [
           81640,
           "Florenza"
          ],
          [
           833,
           "For the People"
          ],
          [
           248005,
           "Ganymede"
          ],
          [
           134157,
           "Guilds of London"
          ],
          [
           225317,
           "Halloween"
          ],
          [
           223971,
           "Hànzì"
          ],
          [
           231554,
           "Herbalism"
          ],
          [
           281655,
           "High Frontier 4 All"
          ],
          [
           26566,
           "Homesteaders"
          ],
          [
           286439,
           "Import / Export: Definitive Edition"
          ],
          [
           158548,
           "Isaribi"
          ],
          [
           285792,
           "Jigūan: The Eastern Mechanist"
          ],
          [
           201856,
           "Last Will"
          ],
          [
           222407,
           "Lignum (Second Edition)"
          ],
          [
           185021,
           "Liguria"
          ],
          [
           198525,
           "Lotus"
          ],
          [
           317504,
           "Mandala Stones"
          ],
          [
           244794,
           "Mercado"
          ],
          [
           300751,
           "Mini Express"
          ],
          [
           225818,
           "Mini Rails"
          ],
          [
           240096,
           "Moonshiners of the Apocalypse"
          ],
          [
           163413,
           "Murano"
          ],
          [
           310100,
           "Nemesis: Lockdown"
          ],
          [
           234277,
           "Nusfjord"
          ],
          [
           231733,
           "Obsession"
          ],
          [
           245487,
           "Orchard: A 9 card solitaire game"
          ],
          [
           297674,
           "Pacific Rails Inc."
          ],
          [
           280789,
           "Pandemic: Rapid Response"
          ],
          [
           256960,
           "Pax Pamir: Second Edition"
          ],
          [
           308119,
           "Pax Renaissance: 2nd Edition"
          ],
          [
           303954,
           "Pax Viking"
          ],
          [
           301084,
           "Polynesia"
          ],
          [
           331265,
           "Port Royal: Big Box"
          ],
          [
           256728,
           "Raiatea"
          ],
          [
           177639,
           "Raptor"
          ],
          [
           297486,
           "Ride the Rails"
          ],
          [
           229965,
           "Rival Realms"
          ],
          [
           205498,
           "Round House"
          ],
          [
           204493,
           "Sakura Arms"
          ],
          [
           220730,
           "The Scarlet Pimpernel"
          ],
          [
           145659,
           "Scoville"
          ],
          [
           148261,
           "SeaFall"
          ],
          [
           25021,
           "Sekigahara: The Unification of Japan"
          ],
          [
           339614,
           "Shinkansen: Zero Kei"
          ],
          [
           235767,
           "Sorcerer & Stones"
          ],
          [
           249689,
           "Sovereign Skies"
          ],
          [
           235375,
           "Spirits of the Forest"
          ],
          [
           193428,
           "Street Fighter: The Miniatures Game"
          ],
          [
           9625,
           "Struggle of Empires"
          ],
          [
           316786,
           "Tabannusi: Builders of Ur"
          ],
          [
           272427,
           "Terramara"
          ],
          [
           321277,
           "Tinners' Trail"
          ],
          [
           180205,
           "Trans-Siberian Railroad"
          ],
          [
           142124,
           "Tsukiji"
          ],
          [
           279198,
           "Tungaru"
          ],
          [
           257614,
           "Tussie Mussie"
          ],
          [
           62220,
           "Urban Sprawl"
          ],
          [
           161762,
           "Wakanda"
          ],
          [
           281466,
           "Yedo: Deluxe Master Set"
          ],
          [
           285992,
           "Pac-Man: The Board Game"
          ],
          [
           301919,
           "Pandemic: Hot Zone – North America"
          ],
          [
           244691,
           "UNO: Minecraft"
          ],
          [
           258070,
           "Alice"
          ],
          [
           17104,
           "Canasta"
          ],
          [
           253185,
           "Chai"
          ],
          [
           249821,
           "Codenames: Harry Potter"
          ],
          [
           146130,
           "Coin Age"
          ],
          [
           32165,
           "Darjeeling"
          ],
          [
           179572,
           "Dice City"
          ],
          [
           12995,
           "Dungeon Twister"
          ],
          [
           258154,
           "Fluttering Souls"
          ],
          [
           139992,
           "Kaosball: The Fantasy Sport of Total Domination"
          ],
          [
           178591,
           "Lunarchitects"
          ],
          [
           101721,
           "Mage Wars Arena"
          ],
          [
           192185,
           "Matryoshka"
          ],
          [
           140271,
           "Maximum Throwdown"
          ],
          [
           169987,
           "Maximum Throwdown: Overload"
          ],
          [
           154386,
           "Medieval Academy"
          ],
          [
           176396,
           "Quadropolis"
          ],
          [
           8243,
           "Rolit"
          ],
          [
           93260,
           "Summoner Wars: Master Set"
          ],
          [
           157526,
           "Viceroy"
          ],
          [
           231314,
           "真打 (Shin-Uchi)"
          ],
          [
           234487,
           "Altiplano"
          ],
          [
           202737,
           "Are You Dumber Than a Box of Rocks?"
          ],
          [
           160567,
           "BANG!: The Walking Dead"
          ],
          [
           167513,
           "Barony"
          ],
          [
           191624,
           "Bear Valley"
          ],
          [
           168421,
           "Bohnanza: Ladies & Gangsters"
          ],
          [
           238638,
           "Castell"
          ],
          [
           191529,
           "Chefs"
          ],
          [
           251420,
           "Choose Your Own Adventure: House of Danger"
          ],
          [
           220775,
           "Codenames: Disney – Family Edition"
          ],
          [
           243697,
           "Cooks & Crooks"
          ],
          [
           197455,
           "Dice Heist"
          ],
          [
           218580,
           "Divinity Derby"
          ],
          [
           1509,
           "Dogfight"
          ],
          [
           172242,
           "Exploding Kittens: NSFW Deck"
          ],
          [
           280896,
           "Foodies"
          ],
          [
           169255,
           "A Game of Thrones: The Card Game (Second Edition)"
          ],
          [
           245349,
           "A Game of Thrones: The Card Game (Second Edition) – Sands of Dorne"
          ],
          [
           316622,
           "Gods Love Dinosaurs"
          ],
          [
           325414,
           "Happy Little Dinosaurs"
          ],
          [
           262290,
           "The Hunger Games: Mockingjay – The Board Game"
          ],
          [
           191894,
           "Imagine"
          ],
          [
           180901,
           "Joraku"
          ],
          [
           320390,
           "Kabuto Sumo"
          ],
          [
           257,
           "Kill Doctor Lucky"
          ],
          [
           204602,
           "Kill The Unicorns"
          ],
          [
           319966,
           "The King Is Dead: Second Edition"
          ],
          [
           216974,
           "King's Road"
          ],
          [
           223602,
           "Klondike Rush"
          ],
          [
           124380,
           "Ladies & Gentlemen"
          ],
          [
           85394,
           "The Last Banquet"
          ],
          [
           154553,
           "Last Letter"
          ],
          [
           280726,
           "Legacies"
          ],
          [
           218165,
           "La Macarena"
          ],
          [
           202288,
           "Medici: The Card Game"
          ],
          [
           277700,
           "Merchants Cove"
          ],
          [
           230933,
           "Merlin"
          ],
          [
           559,
           "Metro"
          ],
          [
           156546,
           "Monikers"
          ],
          [
           269418,
           "On the Rocks"
          ],
          [
           150298,
           "One Zero One"
          ],
          [
           300076,
           "PARKS Memories: Plains Walker"
          ],
          [
           200890,
           "Pixie Queen"
          ],
          [
           300611,
           "Ponle Acento"
          ],
          [
           172557,
           "Pretense"
          ],
          [
           218179,
           "Princess Jing"
          ],
          [
           145203,
           "Prosperity"
          ],
          [
           331573,
           "Pusheen Purrfect Pick"
          ],
          [
           266830,
           "QE"
          ],
          [
           265524,
           "Ramen Fury"
          ],
          [
           232473,
           "Ratland"
          ],
          [
           287589,
           "Red Outpost"
          ],
          [
           194232,
           "Rick and Morty: Total Rickall Card Game"
          ],
          [
           344759,
           "The Rocketeer: Fate of the Future"
          ],
          [
           275061,
           "Rulebenders"
          ],
          [
           196358,
           "Sound Quartett"
          ],
          [
           220547,
           "Sparkle*Kitty"
          ],
          [
           299372,
           "Succulent"
          ],
          [
           95386,
           "Tem-Purr-A"
          ],
          [
           34373,
           "Tiki Topple"
          ],
          [
           216632,
           "Tournament at Camelot"
          ],
          [
           245658,
           "Unicorn Fever"
          ],
          [
           187377,
           "Vikings Gone Wild"
          ],
          [
           241491,
           "Who Did It?"
          ],
          [
           170300,
           "Wombat Rescue"
          ],
          [
           259501,
           "Xerxes"
          ],
          [
           234828,
           "Xi'an"
          ],
          [
           113924,
           "Zombicide"
          ],
          [
           251037,
           "1347: De Nigrae Pestis Ludo"
          ],
          [
           226009,
           "Alien vs Predator: The Hunt Begins (Second Edition)"
          ],
          [
           230889,
           "Aristeia!"
          ],
          [
           167400,
           "Ashes Reborn: Rise of the Phoenixborn"
          ],
          [
           223740,
           "Bargain Quest"
          ],
          [
           246855,
           "Boss Monster: Rise of the Minibosses"
          ],
          [
           131835,
           "Boss Monster: The Dungeon Building Card Game"
          ],
          [
           163642,
           "Chimera Station"
          ],
          [
           253344,
           "Cthulhu: Death May Die"
          ],
          [
           256988,
           "Cthulhu: Death May Die – Black Goat of the Woods"
          ],
          [
           246535,
           "DC Deck-Building Game: Rebirth"
          ],
          [
           202077,
           "Deep Madness"
          ],
          [
           247236,
           "Duelosaur Island"
          ],
          [
           287507,
           "Evil Dead 2: The Board Game"
          ],
          [
           149776,
           "Fireteam Zero"
          ],
          [
           103343,
           "A Game of Thrones: The Board Game (Second Edition)"
          ],
          [
           196306,
           "Guildhall Fantasy: Coalition"
          ],
          [
           2944,
           "Halli Galli"
          ],
          [
           146559,
           "Infamy"
          ],
          [
           230191,
           "The Island of El Dorado"
          ],
          [
           250561,
           "Kick-Ass: The Board Game"
          ],
          [
           127398,
           "Legends of Andor"
          ],
          [
           132497,
           "Lift it!"
          ],
          [
           331190,
           "Meeples & Monsters: Kickstarter Edition"
          ],
          [
           220632,
           "Monster Slaughter"
          ],
          [
           220827,
           "Planet Apocalypse"
          ],
          [
           240752,
           "RE-LOAD"
          ],
          [
           91773,
           "Resident Evil Deck Building Game: Alliance"
          ],
          [
           232666,
           "Robin Hood and the Merry Men"
          ],
          [
           294508,
           "Saboteur: The Mother Lode Bonus Pack"
          ],
          [
           212346,
           "Shadows of Brimstone: Forbidden Fortress"
          ],
          [
           259061,
           "Skytear"
          ],
          [
           155624,
           "Specter Ops"
          ],
          [
           177147,
           "Survive: Space Attack!"
          ],
          [
           180771,
           "Teenage Mutant Ninja Turtles: Shadows of the Past"
          ],
          [
           321720,
           "Twisted Fables: Deluxe Edition"
          ],
          [
           170416,
           "Vast: The Crystal Caverns"
          ],
          [
           224783,
           "Vindication"
          ],
          [
           247585,
           "Waste Knights: Second Edition"
          ],
          [
           282216,
           "Wolves of Mercia"
          ],
          [
           200750,
           "Zombicide: Black Plague – Huntsman Pack"
          ],
          [
           224710,
           "Zombicide: Green Horde"
          ],
          [
           230345,
           "Zombicide: Green Horde – Fatty Bursters"
          ],
          [
           248065,
           "Zombicide: Invader"
          ]
         ],
         "hovertemplate": "LDA1=%{x}<br>LDA2=%{y}<br>LDA3=%{z}<br>GameId=%{customdata[0]}<br>GameName=%{customdata[1]}<extra></extra>",
         "legendgroup": "",
         "marker": {
          "color": "#1F77B4",
          "symbol": "circle"
         },
         "mode": "markers",
         "name": "",
         "scene": "scene",
         "showlegend": false,
         "type": "scatter3d",
         "x": [
          0.8750534446932138,
          0.912681286890009,
          0.6974772292457544,
          0.876832157599086,
          0.9211851830545829,
          0.9232930835980317,
          0.583688103471418,
          0.8924371997277133,
          0.8707873838547306,
          0.8971866376229036,
          0.8869082170704787,
          0.9179260325078457,
          0.8722078153460833,
          0.908411892514909,
          0.8860281606400131,
          0.8833293181377058,
          0.21014060473929347,
          0.9156570180060046,
          0.9003686623676213,
          0.9137709804220596,
          0.88440663719261,
          0.9248015203779993,
          0.9151718349538744,
          0.8702563255995777,
          0.8728292295523603,
          0.271059563053451,
          0.9023533278886473,
          0.892663187338134,
          0.8841387069357048,
          0.8877566906839748,
          0.8778256072740604,
          0.7664817606823604,
          0.4443410724186695,
          0.8887116672769825,
          0.8946666006905771,
          0.8728552690008331,
          0.8961847497441243,
          0.8985286753637398,
          0.8700475684717434,
          0.45822014995078614,
          0.6669946603824134,
          0.8859256080202053,
          0.566035938343259,
          0.08682283962099653,
          0.10824722962415352,
          0.912647104152464,
          0.25148587790646737,
          0.9233161216674053,
          0.8703329833824057,
          0.8979226959119604,
          0.8881283646612208,
          0.06516701586826228,
          0.8993913570665432,
          0.8850753925847511,
          0.8773155161933845,
          0.9046741172560457,
          0.8722607836523676,
          0.907601005342966,
          0.8283702214813242,
          0.8826531611638113,
          0.92126455686054,
          0.18684298603441746,
          0.8923660509488531,
          0.8804982889031483,
          0.4176997234097023,
          0.9040648081347922,
          0.8809967703910918,
          0.3512637625957768,
          0.8927640877799482,
          0.34872965672325407,
          0.640477550274249,
          0.897979825891926,
          0.07549445931870744,
          0.883891667588023,
          0.8690406550221965,
          0.9014329438361576,
          0.9150704205087565,
          0.6125850460497962,
          0.42129733891891896,
          0.8893874610903278,
          0.5883212613350386,
          0.919978165286111,
          0.874276321028604,
          0.8811950313558294,
          0.9062801865496634,
          0.3258723988717406,
          0.8739015015684833,
          0.9026940701317954,
          0.877807302326302,
          0.8838364785588497,
          0.9017721090802979,
          0.892056276570256,
          0.877627987464541,
          0.9088344881775963,
          0.9125737906891618,
          0.1327635648932592,
          0.9049095754727688,
          0.8769755891235326,
          0.9114394245881938,
          0.926168541118862,
          0.638797413748982,
          0.6306847415986598,
          0.6687302060790968,
          0.5123774759751324,
          0.8921646591595193,
          0.8782442404414124,
          0.9121025911770536,
          0.6056901348432864,
          0.07128958226020243,
          0.8957252164894306,
          0.6077268279968538,
          0.8820092603159306,
          0.6675275684336256,
          0.8973486478871588,
          0.8888130129402975,
          0.7600189251731259,
          0.9013579644992136,
          0.8876088297013733,
          0.07804498024635237,
          0.8898221343418518,
          0.8910809773484915,
          0.8927360778117011,
          0.9076155104532438,
          0.9198001046383157,
          0.5577187949862382,
          0.9022823808810326,
          0.9132696999319315,
          0.9176151847636066,
          0.8954160712374291,
          0.9063768780381097,
          0.8798296163148789,
          0.8945740710843254,
          0.8875218568428407,
          0.8693238522323373,
          0.8893549878897339,
          0.8617415092500188,
          0.8964735829256236,
          0.27663663843012326,
          0.8679077440669483,
          0.882606435276038,
          0.08311980434293163,
          0.8708424639689099,
          0.8891976282528015,
          0.8656845743755722,
          0.4305651345444274,
          0.14468685301654538,
          0.8801601499346499,
          0.8826767352089185,
          0.9008447055788941,
          0.862047969356719,
          0.1357501810096988,
          0.8923000810116396,
          0.9022227163250378,
          0.8086926979455634,
          0.8747526447382258,
          0.8988516840917302,
          0.8920990626328918,
          0.8927258737994782,
          0.8839132096031245,
          0.8453491288408801,
          0.8600580483260287,
          0.32521428346378445,
          0.8922295771565498,
          0.8657708465974253,
          0.8638702399480968,
          0.2738549261517053,
          0.9078505945463529,
          0.8892941958483436,
          0.8974723705627999,
          0.42590902930484653,
          0.13190515470370623,
          0.8967996042522123,
          0.8783636951757028,
          0.8919493623566495,
          0.8892561544913515,
          0.8889459220296162,
          0.9034711051047024,
          0.8962656850928156,
          0.8751553827052007,
          0.8866533058891104,
          0.8755116522173801,
          0.09953664893666621,
          0.8901254537811341,
          0.8907550262269942,
          0.874791403309874,
          0.06835317075451766,
          0.8872323935328209,
          0.8854523630750291,
          0.8943978054212856,
          0.9013948047789154,
          0.898247312137349,
          0.8830835187106526,
          0.40532156258055185,
          0.8666139345524071,
          0.8957332504402556,
          0.8464298377580038,
          0.8131259521699109,
          0.106876765215033,
          0.8743523428177798,
          0.883010255233412,
          0.8986527859294439,
          0.9039935059420647,
          0.8968353413808289,
          0.8768173614346565,
          0.8975238230233621,
          0.8853618598051634,
          0.8817746117017087,
          0.24249082584555567,
          0.5662349343116416,
          0.8977845250608265,
          0.6358061670646136,
          0.8529109268729917,
          0.8913807390777789,
          0.8893067600517864,
          0.8993884613400663,
          0.8925409396726658,
          0.9147058717664908,
          0.916280632260033,
          0.8920436426135835,
          0.9005633268199768,
          0.8713240297101431,
          0.08835016394150358,
          0.9044605363023888,
          0.8851418490324766,
          0.8974788653176877,
          0.8916321126090145,
          0.8926343038447241,
          0.897089664626975,
          0.09094997184607526,
          0.8785030034738344,
          0.14152254674715667,
          0.6604452739336668,
          0.9120445023690292,
          0.7181125338295743,
          0.9207380937788685,
          0.07943787076900306,
          0.6985375701795553,
          0.8736261835904261,
          0.8932219172104714,
          0.9194744235856487,
          0.8751398508289004,
          0.6873136514556983,
          0.8801962536444947,
          0.908838425372291,
          0.8995710121709544,
          0.7563398438109596,
          0.06887962743577965,
          0.3097483664632483,
          0.8772751818706384,
          0.8972602506245675,
          0.8850296508118184,
          0.9313574968866756,
          0.897199455647199,
          0.1977203010599571,
          0.8729675434461442,
          0.7792561423737199,
          0.9074760296328238,
          0.8703522430315018,
          0.12130825052759284,
          0.8981210975897909,
          0.05154863206851912,
          0.6849985610841663,
          0.9088215602883114,
          0.9057084950105972,
          0.9133135547573471,
          0.9072316005940636,
          0.4449981367384881,
          0.6108047249786869,
          0.7402914594753723,
          0.9213772127933316,
          0.8877723783620927,
          0.08693656680147928,
          0.5031171176572665,
          0.8952127640379699,
          0.8701233038746122,
          0.8888601230126812,
          0.8844378540353844,
          0.9029808563145385,
          0.9008754429495042,
          0.07874699025204672,
          0.9059584149082057,
          0.5344588950904452,
          0.6223474082885403,
          0.5122958158160026,
          0.8869067080475781,
          0.894266929729419,
          0.8966482782880075,
          0.8779522034491534,
          0.8018029470437018,
          0.5495735823164845,
          0.730985419206277,
          0.8856669216257251,
          0.07377817027667319,
          0.9000802261551972,
          0.9100128198169948,
          0.8726570103834244,
          0.09116877970473022,
          0.8855336708523857,
          0.9065269729120374,
          0.18031120115896465,
          0.3130858449409,
          0.9126620769859616,
          0.07394204614187319,
          0.890774864385349,
          0.8666812287170903,
          0.5740240178251075,
          0.8894989199618388,
          0.8961458469845408,
          0.8890274456070034,
          0.4474116407245482,
          0.8452161295635416,
          0.9028186186816018,
          0.3704458717518748,
          0.048450292875398565,
          0.8971628780974662,
          0.8934714163787703,
          0.8969552238130476,
          0.9080456019894543,
          0.888529268466264,
          0.8990328313739203,
          0.8690781203088832,
          0.8800630107360305,
          0.5371291681073317,
          0.8894650096802952,
          0.8306964542600641,
          0.8913524325452276,
          0.13295084416994016,
          0.2520662558865328,
          0.4569472443343833,
          0.9057085247456056,
          0.9105502091147437,
          0.9338312790522252,
          0.8988964208138112,
          0.9022796876522844,
          0.8848121012605399,
          0.8950005777326724,
          0.8919533981462356,
          0.8760018701716107,
          0.8617149015470084,
          0.8744699951720036,
          0.5580867938570455,
          0.7871928093878025,
          0.8874599439655535,
          0.8877994808908726,
          0.9094466394495649,
          0.8563101991878799,
          0.9020602299776604,
          0.8860947839377944,
          0.8262371590509208,
          0.903622554560853,
          0.8938932360774777,
          0.8495213920288477,
          0.8908164603851322,
          0.8943864117041275,
          0.8746512987055878,
          0.5134885815071083,
          0.8826392816671818,
          0.8834065607853019,
          0.9058008132341647,
          0.8741553619672425,
          0.9049281839037753,
          0.676982668347889,
          0.8639205529651152,
          0.1153794984224429,
          0.8787752604680031,
          0.5363129469390798,
          0.8755812580638765,
          0.8710384486758158,
          0.8886552191027096,
          0.8942106255916988,
          0.5786156486382262,
          0.322316786273817,
          0.08012772781993027,
          0.06569860658556319,
          0.06826547831488863,
          0.42569076013081036,
          0.827343644796171,
          0.36032345444881564,
          0.8378282541086505,
          0.8252757985617862,
          0.648558150274005,
          0.8668204453134216,
          0.6399239629714919,
          0.07818663374455528,
          0.08814972307436701,
          0.8864269778958481,
          0.8239365330588587,
          0.9015634064254664,
          0.40186113642025717,
          0.8598670667534157,
          0.8826295097777176,
          0.9060475138323524,
          0.2391362194100308,
          0.8803215080378148,
          0.9200314362561801,
          0.06687656614583593,
          0.8944361733763362,
          0.5393279654497052,
          0.4828058021826323,
          0.8712666565573371,
          0.873025733096017,
          0.09885252987665522,
          0.9012565209542013,
          0.9274221522627113,
          0.2400976489006059,
          0.30389417440994043,
          0.8379913469762905,
          0.8014822145350375,
          0.9024898934311862,
          0.7709087596538644,
          0.9019420225045625,
          0.8831254439399494,
          0.6187356062658532,
          0.8672328813686874,
          0.9255581988151405,
          0.9124724270723865,
          0.7957549069402329,
          0.8544178136655891,
          0.879839078797123,
          0.8991962688828083,
          0.8965347891113428,
          0.8829303233783399,
          0.8964986787186383,
          0.8951653590320735,
          0.43291516496001864,
          0.8961576783223274,
          0.8547797336362495,
          0.24045947843647208,
          0.22021327606861443,
          0.07611355298144754,
          0.9045541047847393,
          0.9067681804993266,
          0.9098318509752,
          0.8914333739223276,
          0.9127077270150732,
          0.9053076344784338,
          0.9030610738897303,
          0.9112629293398221,
          0.14431181047652106,
          0.8881559316841275,
          0.22926562097314365,
          0.8897033209693426,
          0.8961047173080411,
          0.9022113736534236,
          0.8955973738740173,
          0.8744466529900551,
          0.6192982805837882,
          0.9023834479448309,
          0.8849160813796851,
          0.8700212569158157,
          0.8815480765872207,
          0.8926569026745714,
          0.2858071512988947,
          0.6995764075004596,
          0.8799486886122093,
          0.8490462233614557,
          0.8748435044190256,
          0.8950511122094719,
          0.8831181813964724,
          0.9037309096109094,
          0.8625671898491983,
          0.8956128444941541,
          0.6713661582238014,
          0.89559645220512,
          0.550943194208266,
          0.06237498012749902,
          0.2681456264058732,
          0.9140243011404028,
          0.9056714292456304,
          0.8911374704062195,
          0.8466047501820508,
          0.871431757037362,
          0.893194420107145,
          0.8776891704149432,
          0.8656175861016562,
          0.37955546357942027,
          0.7208446985661933,
          0.7683585618361906,
          0.8977202511273227,
          0.8886802582490193,
          0.8924977436933451,
          0.8895414935061393,
          0.7881429745250481,
          0.8919927532193769,
          0.8505874491733146,
          0.8750498726796131,
          0.8851550338108639,
          0.07870011745189742,
          0.9105334717625824,
          0.8088489255835881,
          0.8971610190337742,
          0.9003849081573585,
          0.6045423237392126,
          0.6450459463024981,
          0.8815865241907517,
          0.6596887461350324,
          0.8764134081889713,
          0.912810466107825,
          0.8672782138116227,
          0.5442725080341105,
          0.8820570270665272,
          0.7803290703883339,
          0.8854342542425938,
          0.8813493654206646,
          0.883805680088833,
          0.8930823701276392,
          0.8831627560582767,
          0.89633346115536,
          0.8774856150562418,
          0.913996472014807,
          0.9112596539187247,
          0.8764462160582202,
          0.8823788373986304,
          0.8684908574664978,
          0.4166455577872343,
          0.8826124464695023,
          0.8181656069428477,
          0.8648617766820289,
          0.8824253195855861,
          0.8885808790414595,
          0.7012521207204193,
          0.8963783742745479,
          0.8939878771516833,
          0.8901604720888113,
          0.8934778651537401,
          0.9202343038175878,
          0.8740872669510658,
          0.9181900680492987,
          0.8867616118647262,
          0.9036440533962811,
          0.8911012200861996,
          0.20905860851603197,
          0.8929813405869353,
          0.8788881858956544,
          0.7556546472652123,
          0.8916866210419179,
          0.8879064522788596,
          0.8825775147632162,
          0.7089364188177771,
          0.9098245964055688,
          0.06610836775111911,
          0.8972498357217822,
          0.8773854017613057,
          0.8073616490888024,
          0.42045283556283575,
          0.8997054447569436,
          0.35772114263096927,
          0.9177979096557387,
          0.9019335441627125,
          0.924669232888394,
          0.07285584004445224,
          0.38282247185510254,
          0.0689822850354208,
          0.8796009193031263,
          0.8664414781541515,
          0.8798459955705087,
          0.8703127037643126,
          0.9044100627193543,
          0.918668985250786,
          0.8991446352485242,
          0.8851632663038164,
          0.8653272443861937,
          0.8840421430907401,
          0.8858970914116068,
          0.9094813069961305,
          0.889700431657655,
          0.912878094648147,
          0.8729571352474077,
          0.9074370596247405,
          0.8824663791882891,
          0.9150993906346618,
          0.8921677032946934,
          0.8920466287506315,
          0.8859892804116258,
          0.9047760921631683,
          0.9041397689139893,
          0.8950557235789457,
          0.8862437966806332,
          0.9052542494180669,
          0.4714408215992057,
          0.7373330545260373,
          0.8746477267022249,
          0.884019301098938,
          0.9132118238498359,
          0.9133013523177484,
          0.9054531733848853,
          0.8910675826189919,
          0.886519742687602,
          0.8983036669340441,
          0.8884051012173225,
          0.8264227669736226,
          0.08214301332258546,
          0.8834315868505648,
          0.8746987571445631,
          0.8827992674725587,
          0.8653124987906279,
          0.5116971742951224,
          0.7481271751102458,
          0.9042474512640489,
          0.9130599145575321,
          0.892865159802994,
          0.7038529111871097,
          0.899701685397244,
          0.12284954955996714,
          0.8921342600384836,
          0.8660616875279321,
          0.8759648481310454,
          0.09060694144098706,
          0.5023461858485108,
          0.9071914226669364,
          0.8896465707502625,
          0.8734404904208334,
          0.9039463706758628,
          0.7993132867956575,
          0.2815104450349026,
          0.8819063519759162,
          0.2214573241548872,
          0.8802505361527224,
          0.8639739228306987,
          0.9150755016695008,
          0.42924126205102686,
          0.9101061127927552,
          0.9025279306919206,
          0.8853076935757394,
          0.8836068556349488,
          0.8966613515162019,
          0.8978228303415968,
          0.8046633065151362,
          0.4487718348094573,
          0.893057517508025,
          0.894424068910813,
          0.9098146411287211,
          0.08783531506289931,
          0.05393411240509562,
          0.05787609050301135,
          0.8980182562434251,
          0.41929586383217154,
          0.8743478516134385,
          0.9078301016287401,
          0.1499225826481563,
          0.5358997747189503,
          0.3735771839191658,
          0.926668284805958,
          0.4609466917694595,
          0.8868033421618816,
          0.09240433236869436,
          0.9097930252312262,
          0.7210254362303752,
          0.5760721056041371,
          0.9185377535287046,
          0.6231681184986708,
          0.5753400508869649,
          0.14674209266016675,
          0.9231863406943279,
          0.898171869703448,
          0.9080457984905862,
          0.9094218105596892,
          0.30994573122934777,
          0.8594164426131988,
          0.888581159944028,
          0.8975802831637155,
          0.8950304583480255,
          0.36173638209571135,
          0.8942858316644614,
          0.902815793812259,
          0.19470403811162734,
          0.08669088700458133,
          0.9335001291394638,
          0.5205826930362629,
          0.8667180396769522,
          0.3566516766969604,
          0.895774236240276,
          0.9016558068818336,
          0.8690675011556456,
          0.9312733656407347,
          0.9025566958728135,
          0.9131868473460427,
          0.06667580778451938,
          0.9076943885411848,
          0.36975666472682794,
          0.7581790852209741,
          0.8847733940437569,
          0.8891513291542973,
          0.8953425310921278,
          0.1935858802664105,
          0.9018027602058025,
          0.9019407820666474,
          0.8990597441411505,
          0.866044259434558,
          0.9220238088599733,
          0.710013069902805,
          0.9072720262947934,
          0.9043967903369233,
          0.9165821608672073,
          0.912197287684303,
          0.9210485498265264,
          0.8997077497839362,
          0.9091351354796352,
          0.8676863490721193,
          0.8967514062872723,
          0.7527221102637872,
          0.9132170735215633,
          0.4551266153261584,
          0.5489244179279769,
          0.8987193034371441,
          0.511726912536189,
          0.22362132678191532,
          0.4174409133460362,
          0.06066174719081905,
          0.8964167978098809,
          0.41958206607036463,
          0.06063537114266027,
          0.05786609600427161,
          0.05903572596664025,
          0.6126946899580815,
          0.28035519183576135,
          0.2966074060639465,
          0.30487025151509073,
          0.8886542077262869,
          0.9088997880054595,
          0.5452132085517671,
          0.9251028084572107,
          0.8787561432221419,
          0.8425117935174996,
          0.8717353501740763,
          0.535161933549186,
          0.9126706497702234,
          0.8588410104832657,
          0.06116098604768466,
          0.0714496030081948,
          0.8789598200432843,
          0.17756997692371615,
          0.08513556419937127,
          0.8819946598980096,
          0.8850412957293057,
          0.899443906268368,
          0.8923125951736196,
          0.8034190995585432,
          0.40312358009956106,
          0.05479324712545531,
          0.5263167546743966,
          0.9042086001020637,
          0.8687541221819639,
          0.10096988808412873,
          0.05665010897378606,
          0.06101785381380892,
          0.890078386450727,
          0.918936163494483,
          0.06303692816013692,
          0.909614323343002,
          0.7137762788039614,
          0.09620481568513993,
          0.7487041806320394,
          0.09082958336603027,
          0.19228055840809227,
          0.9120552994746094,
          0.42448153957596413,
          0.4771577573273727,
          0.04940304492995703,
          0.07053173522175393,
          0.05813567455304865,
          0.05949801189414363,
          0.2796585029178413,
          0.07643444224512806,
          0.9203549965161589,
          0.9012687405233782,
          0.8835486552977987,
          0.6085534317026475,
          0.7815312843136367,
          0.15026000713778437,
          0.9058053000843257,
          0.9175517504821724,
          0.8776559736106393,
          0.15789884912852656,
          0.05278676427264705,
          0.8995262312367325,
          0.8920777492800998,
          0.8973769806544274,
          0.5312751394519681,
          0.5935739018091796,
          0.8999907029438722,
          0.8734214875363367,
          0.058724087166485806,
          0.25426717342793664,
          0.39748656867662796,
          0.8866744603820557,
          0.8484829689936748,
          0.7145834949831177,
          0.8829076008806407,
          0.4273729535820124,
          0.8127474063700425,
          0.6186719299094693,
          0.8969065503795225,
          0.35723194719818224,
          0.9123106697213141,
          0.7511413021271592,
          0.8893243628620027,
          0.8992598711648327,
          0.04725840521728662,
          0.18639988329527096,
          0.45995379309583645,
          0.8452504088566325,
          0.4198343197972323,
          0.27726422719681815,
          0.8973800806911213,
          0.05989219277727175,
          0.8899957651678962,
          0.911099184385969,
          0.8785125194130486,
          0.8902481014719631,
          0.8673636445698754,
          0.8574471521493479,
          0.5582745913629928,
          0.9095456638790672,
          0.08056716457808966,
          0.8930381885987659,
          0.14344137122084405,
          0.06444237533315782,
          0.3313500957943156,
          0.06312144956015231,
          0.061423725299721794,
          0.39617613355385,
          0.178693494987774,
          0.2322307133159401,
          0.8966066865773373,
          0.25932470200708946,
          0.06459585220616465,
          0.06785556023290852,
          0.05388625603902996,
          0.8702792471188573,
          0.915433095845031,
          0.4254893927901755,
          0.90722642231837,
          0.056274069969431816,
          0.4744877812782766,
          0.054753087811475365,
          0.05910068340113172,
          0.06372037612881304,
          0.3944139917240748,
          0.05881418448642318,
          0.8790037569457042,
          0.9168879607486106,
          0.9204829943026721,
          0.3379561310563569,
          0.2753947299723054,
          0.15477567379867352,
          0.25731945364878306,
          0.2669272352524101,
          0.6998554042296362,
          0.8843181073030801,
          0.8899732351100523,
          0.8949233312064099,
          0.05474428131341084,
          0.51188755204028,
          0.4094050832124625,
          0.888161488473353,
          0.19805148691497837,
          0.8840652950322018,
          0.17083397446809806,
          0.5816111227762809,
          0.06944966132947833,
          0.7884375240833912,
          0.72372884438306,
          0.05323522582138113,
          0.060155389884676266,
          0.8306777979437894,
          0.6216380218499039,
          0.5108395617260226,
          0.07952150034050223,
          0.064753152296228,
          0.890287539354122,
          0.8693972201225948,
          0.09825499670310438,
          0.8809156097947148,
          0.33820962532243115,
          0.0499491196931999,
          0.30150610071580664,
          0.138380337249821,
          0.8028442267992666,
          0.44479024815240104,
          0.3673824031270958,
          0.4253286063595106,
          0.9086359220546772,
          0.06783667200096928,
          0.4088111980141414,
          0.26509915822338537,
          0.859353517341832,
          0.05380839059863068,
          0.04976813077116173,
          0.06528761138767765,
          0.8883592788519263,
          0.5027076083960739,
          0.2291734579117262,
          0.09460627146456574,
          0.06596177409425295,
          0.14677673297295304,
          0.5935006611130981,
          0.6109437186411606,
          0.42671980401533055,
          0.6044527879386592,
          0.9069932630946633,
          0.5009993406990553,
          0.17301189950421533,
          0.8145002967569658,
          0.04904519425892585,
          0.31770911758959736,
          0.9103926623650657,
          0.8945219340326236,
          0.11710644947640793,
          0.8693049637071142,
          0.692852113344114,
          0.41708797312402385,
          0.36810136946165206,
          0.405778246966124,
          0.9147852629570566,
          0.8937497695421032,
          0.8198777897730166,
          0.7279125819051746,
          0.0475666980253224,
          0.9021537308982455,
          0.8854181743101361,
          0.8753271811961271,
          0.06948101908554019,
          0.0840963782553978,
          0.33012240757500727,
          0.0667161475714877,
          0.9080547924062385,
          0.9222401398324462,
          0.8986499572322546,
          0.8860247234865831,
          0.8996022183573983,
          0.9039921920436715,
          0.8999820171738024,
          0.8845903080939918,
          0.855527163486441,
          0.9204217052807403,
          0.4024533636247263,
          0.79858402651066,
          0.2234592104754168,
          0.8740875829043739,
          0.7822631634640377,
          0.6555141436072959,
          0.37517286896792995,
          0.06997093767558345,
          0.9195205765223298,
          0.8525693373679114,
          0.8696132377246566,
          0.8642207088300361,
          0.35334669222614407,
          0.2034585163239271,
          0.737720622657417,
          0.8861912988255106,
          0.8451812445426273,
          0.8807293768750647,
          0.914071057649611,
          0.8739088725373199,
          0.9163703088889934,
          0.9037450598893328,
          0.9045274133285718,
          0.8673871595230492,
          0.8706274538517446,
          0.5336317358290134,
          0.40148154095430666,
          0.8998692588831876,
          0.9061034027271705,
          0.8665257574541751,
          0.9070210388562804,
          0.45426511977336786,
          0.2963839599105537,
          0.4663957139206997,
          0.9101131190348806,
          0.862741251333897,
          0.8926701917460648,
          0.5458568332956271,
          0.8867977467979327,
          0.9061952115521115,
          0.08942916172744315,
          0.8854301848860484,
          0.5561151842931102,
          0.07270997770990809,
          0.8965032215916285,
          0.12266630819153854,
          0.8862183536739755,
          0.24483716362904398,
          0.8670590623561569,
          0.8790527803055387,
          0.9027875885212336,
          0.9147385508220411,
          0.415871876815789,
          0.28937476265922296,
          0.8836580794223158,
          0.2529068613355669,
          0.8860962487807451,
          0.7021151805676255,
          0.8959071516701667,
          0.5523387845753159,
          0.9108229127911293,
          0.3087328061373241,
          0.5568115079162173,
          0.8720362374873858,
          0.8010581631744247,
          0.5220357968733353,
          0.3714404728823541,
          0.6911645407082839,
          0.08246633405535986,
          0.890622697161003,
          0.9074515644726467,
          0.8987007473736855,
          0.9049391280225175,
          0.9208277313299907,
          0.8828992259423706,
          0.8818576382740394,
          0.9121111993145299,
          0.5880948584627221,
          0.5668719044298635,
          0.9232059377191654,
          0.8748167366717061,
          0.39776668700668655,
          0.28174801520286585,
          0.8397754354388967,
          0.9156685559454879,
          0.8726543604740796,
          0.3752234658502412,
          0.8664132754475289,
          0.8889130916628507,
          0.0576660905789656,
          0.08055455453635504,
          0.06083707868927533,
          0.8723626833727756,
          0.8999960565862845,
          0.5516022978161292,
          0.8736991463727364,
          0.7430989895557667,
          0.8999465308499327,
          0.8969598530780348,
          0.31928231372357563,
          0.13873322246831213,
          0.8821870529962826,
          0.876678817073739,
          0.897259034351114,
          0.8798099697351305,
          0.8773414080311258,
          0.8761337236876557,
          0.9029516163348847,
          0.8888557262464103,
          0.8956368731293325,
          0.8930723272684177,
          0.05272951223423891,
          0.8754716469173798,
          0.8235040281387395,
          0.8733128082844263,
          0.8642946647459026,
          0.889529060019,
          0.8674143696072149,
          0.7173076061312892,
          0.7465283180620025,
          0.9023592911295398,
          0.09142386247881715,
          0.09079901697618298,
          0.09142386288192483,
          0.9150813896175898,
          0.35819970737206164,
          0.8943969380044904,
          0.06018432711789725,
          0.8256894535764013,
          0.46913729318804065,
          0.9019720233791454,
          0.8778158221146629,
          0.8017079239754691,
          0.05734411957389603,
          0.4170345393600741,
          0.17477300677677737,
          0.2529226330926589,
          0.8430450959374522,
          0.09361082554953282,
          0.8768832013665465,
          0.9123317188592486,
          0.10952968334013273,
          0.9095225796710273,
          0.5164410155229044,
          0.9120128681231439,
          0.8791403225690672,
          0.7441415262108729,
          0.1387058349877005,
          0.15666299378142914,
          0.06512391983994527,
          0.8623048097436383,
          0.8890677057555543,
          0.8870651152805964,
          0.9188384520999564,
          0.8827802502358975,
          0.9034889505856174,
          0.5234249109296557,
          0.9055596807531732,
          0.8864242890964179,
          0.8903686783431434,
          0.9112235820195905,
          0.8528035195533442,
          0.9111690556731459,
          0.9160760330055433,
          0.8970861283738175,
          0.9044702677839446,
          0.9316947314901277,
          0.8923789947824814,
          0.902934492437623,
          0.880393185729784,
          0.8877746927728485,
          0.06627469387052214,
          0.9188213266810406,
          0.8708295367682256,
          0.8991538303107225,
          0.6064844522659725,
          0.06845946774787474,
          0.09995856697789376,
          0.68332391835161,
          0.3814304585635637,
          0.4418490830455691,
          0.91558106934071,
          0.40534364387246036,
          0.3492787383112668,
          0.062112794792681454,
          0.062112794792681454,
          0.062112794792681454,
          0.062112794792681454,
          0.9053043888853656,
          0.4025366495914447,
          0.1289936429821514,
          0.8767952250577367,
          0.8877748316227553,
          0.8916123375884324,
          0.47100768853072406,
          0.492149084131582,
          0.4789584402490563,
          0.4607094233889993,
          0.06190097864457509,
          0.04702983543241957,
          0.90125557962387,
          0.8846069486158966,
          0.8876556563483063,
          0.1322731260540021,
          0.556794204573351,
          0.20854854421933305,
          0.9069960068698424,
          0.16788091837593702,
          0.4609991745613158,
          0.8925361661164737,
          0.554628973294256,
          0.2812562656111653,
          0.4795765708360186,
          0.6810882397682689,
          0.9048032110926272,
          0.915029027611316,
          0.8887602335826704,
          0.21443675075447627,
          0.15681448085231595,
          0.8271257790086386,
          0.17544004334246083,
          0.9119829459698097,
          0.8614249928720944,
          0.41478955528059924,
          0.8912522423863265,
          0.9036592593006191,
          0.8992306706470877,
          0.9065724022972207,
          0.1435210394239672,
          0.13953132967212395,
          0.05968805983518093,
          0.9122718367769005,
          0.594133244197208,
          0.4480619362413433,
          0.2371632157711807,
          0.9022464423455963,
          0.8877926016766304,
          0.9015666982617142,
          0.9018036954629363,
          0.8869844933299887,
          0.08944573889748157,
          0.8927590325399289,
          0.8672475437537255,
          0.8900881461237953,
          0.9118485206185536,
          0.8848746529864199,
          0.563653125882212,
          0.6693252399491709,
          0.10645765820986608,
          0.09142123191897195,
          0.06277721511696582,
          0.3792216845223288,
          0.13803996474023592,
          0.9113185340564106,
          0.05154898026588155,
          0.2097505869398136,
          0.3665643019731983,
          0.9219537213594519,
          0.8696222529154465,
          0.8996568101407744,
          0.05416026276724205,
          0.07052683683921068,
          0.07653241270061618,
          0.18600014260556696,
          0.07204049572966437,
          0.8825144374574366,
          0.8724115615430934,
          0.07523620684782202,
          0.07319087072784017,
          0.8032936046947399,
          0.8998755194534207,
          0.884123331532574,
          0.871362537482946,
          0.7459277907916451,
          0.13209287128681987,
          0.8253529685515169,
          0.8838311294920603,
          0.4560213906054039,
          0.8666996779497567,
          0.3950401767415571,
          0.9148477895025336,
          0.18500047214405874,
          0.9043871403403901,
          0.9238399338234674,
          0.9104364631417396,
          0.06845053092484298,
          0.8908312662737347,
          0.898963947695579,
          0.1894549478214592,
          0.10377920938038356,
          0.8817213307106974,
          0.2583896634178135,
          0.8958921228685447,
          0.8591608431848238,
          0.8584738355325263,
          0.9060221123913657,
          0.8793138667638651,
          0.9028256976316712,
          0.9099683044072082,
          0.9100292382413117,
          0.7938070885561501,
          0.8814060335528474,
          0.9071273160461503,
          0.49200765147806846,
          0.8805134985412588,
          0.9035071073372609,
          0.3172171036136933,
          0.6942675486856009,
          0.05867955786395878,
          0.8136737736649714,
          0.07976830519386949,
          0.8666914768081043,
          0.7184843356667235,
          0.4174084349513873,
          0.32140381219425274,
          0.08949906071008971,
          0.06054388370750955,
          0.08471270428938342,
          0.6492623569950369,
          0.9160682252276728,
          0.2105376769131309,
          0.7124726556800964,
          0.9184139397782839,
          0.8857017469471997,
          0.8852546481993058,
          0.8875698378953005,
          0.40036346747839685,
          0.05758664744476842,
          0.25561746202934305,
          0.8776122443544251,
          0.8874155593838163,
          0.8717968555389245,
          0.906164888212924,
          0.32013338470245806,
          0.8859930300804754,
          0.08123392469237102,
          0.8634033607759027,
          0.869359979457004,
          0.3167777732858436,
          0.8760439281622626,
          0.23891440174240308,
          0.06224416917542794,
          0.30153993928914785,
          0.435942896745117,
          0.3503325628913226,
          0.9214285509710732,
          0.912270561310139,
          0.6565037113261265,
          0.8744868369451374,
          0.8771740427873853,
          0.8972893965002402,
          0.4416851988496029,
          0.8840460817701419,
          0.9154959423419079,
          0.8763837377270628,
          0.3579964959164316,
          0.574152374439709,
          0.9155735270055255,
          0.9006093520914988,
          0.25399270002893154,
          0.6554215267811797,
          0.3082101413207533,
          0.40287910961885354,
          0.0519385970511491,
          0.04744676628153573,
          0.051201529812395126,
          0.08875875518315886,
          0.12633809108567304,
          0.28598429631181,
          0.6385695100862447,
          0.9159464591777726,
          0.9083762258845854,
          0.8870517624718142,
          0.9062323140001165,
          0.20605495069018082,
          0.4986432326339332,
          0.8483712267653555,
          0.9189329967399734,
          0.48239576689022484,
          0.8898134099292349,
          0.8643810556468667,
          0.0673484557804258,
          0.3830592622956259,
          0.9213090269725226,
          0.8935999874911225,
          0.8699739731879333,
          0.1592465107388865,
          0.9090566166513278,
          0.052425442369855454,
          0.19567241701455385,
          0.9012519769054425,
          0.8945479214104332,
          0.45787191992659826,
          0.9151306684197135,
          0.8933681997373359,
          0.6901046551371157,
          0.9027131102298346,
          0.07100595182715888,
          0.9155845023758181,
          0.7591912658429737,
          0.39902780518392267,
          0.6575425687987623,
          0.33999743326791165,
          0.17969772475240928,
          0.057323247649368345,
          0.1372818095686932,
          0.14825745366004575,
          0.7699062578204046,
          0.30024738301494835,
          0.9268134734200973,
          0.9019042083902266,
          0.1429979014148024,
          0.6725888290532581,
          0.4313352435748586,
          0.06837751271944327,
          0.05758527512207692,
          0.9007724691340122,
          0.08036367515096081,
          0.28377139752730485,
          0.5542525243242103,
          0.35146689276443643,
          0.29269115649638844,
          0.065666682720989,
          0.5761845325230582,
          0.054250540288490356,
          0.04775147994427592,
          0.07417897144922378,
          0.05207690540805811,
          0.4409392118085124,
          0.5777688047605375,
          0.046059401730609094,
          0.1846384840257333,
          0.19718322996559448,
          0.4317382111625849,
          0.4168165644366114,
          0.9090553312853873,
          0.8995051545024109,
          0.4449852361868665,
          0.19527834173207548,
          0.054477615063877015,
          0.9130629862863707,
          0.37846910028755326,
          0.061976895920918984,
          0.058424749661650816,
          0.8944746443648983,
          0.6909559697781965,
          0.8918212745827301,
          0.1010411690538229,
          0.9203467463540245,
          0.09350304930408578,
          0.0679861788688305,
          0.8274827746157194,
          0.3189570561205653,
          0.05528526596912672,
          0.05513974239256347,
          0.05626554489233167,
          0.8775446999675725,
          0.4584468362671282,
          0.9143610161791372,
          0.9117799422971066,
          0.6789992448264905,
          0.052409574340212414,
          0.06362795272984953,
          0.058869317129934685,
          0.14554487902650115,
          0.9108648647566433,
          0.863051647638592,
          0.8634831228456927,
          0.1723520197145306,
          0.19788740531954527,
          0.77924925965288,
          0.9029729396130776,
          0.07903398167269136,
          0.06418643812466321,
          0.4784060046738314,
          0.28353964596072795,
          0.05495302901184901,
          0.4657511158078602,
          0.8112006861355355,
          0.12657622546675032,
          0.8909983643391673,
          0.052611054797991566,
          0.0854592289389945,
          0.23662654312750378,
          0.07071634215809038,
          0.6607000970224773,
          0.06165445260039799,
          0.15023301176683318,
          0.07257290707955898,
          0.8972230649795779,
          0.3754788877480704,
          0.4935223228262182,
          0.8975843868648409,
          0.06610222114304444,
          0.7091594564409789,
          0.05488153615617043,
          0.8948418078992156,
          0.060922521056065354,
          0.23687401680900302,
          0.05621088332579185,
          0.541242318791152,
          0.4039471646797682,
          0.8769818676379133,
          0.8833366542370906,
          0.632870232943455,
          0.9091861343666926,
          0.32406377982246654,
          0.8888685806440951,
          0.7821111299756277,
          0.681352602711663,
          0.8846139609485738,
          0.1038690606903589,
          0.06858787219539654,
          0.40155042918903644,
          0.06159081625374873,
          0.08067798406270726,
          0.9025757473307148,
          0.9066660969770802,
          0.90431131352514,
          0.907411709915671,
          0.7897530470499826,
          0.9098145418217,
          0.3353655904605581,
          0.34403883556567383,
          0.17688562709564226,
          0.8760216086899705,
          0.3873322968746921,
          0.9143771938390216,
          0.8744495207744722,
          0.8963959169321258,
          0.07460084025405242,
          0.07416967503147498,
          0.05604135999698814,
          0.058378577314553565,
          0.07683926677843547,
          0.04517153907427389,
          0.044663403627129554,
          0.04705772609780679,
          0.057377724849865225,
          0.12953898833521993,
          0.04724390690758155,
          0.05926188239041107,
          0.29049119143877283,
          0.8905465313391248,
          0.900590258719922,
          0.9114725412250582,
          0.39277691511913165,
          0.898353976210229,
          0.9076035006039649,
          0.9137392978898552,
          0.9075462518241169,
          0.727864156811072,
          0.9132634903711231,
          0.8924101410831748,
          0.06653830831214005,
          0.905678330232052,
          0.4790714183659659,
          0.8883135983004882,
          0.9121638322628438,
          0.2478669633997608,
          0.9292841863990033,
          0.9037116403765256,
          0.9021956295736517,
          0.9041833644493944,
          0.6523699965869618,
          0.9003428115972116,
          0.619343448472408,
          0.91019044497541,
          0.4865391845345679,
          0.8828570497662281,
          0.9120399864300839,
          0.9095161398924322,
          0.09116670612774429,
          0.293680780404609,
          0.907249061797344,
          0.8671245801181372,
          0.9011101844846954,
          0.47237367982626954,
          0.466303655442356,
          0.15254255405552855,
          0.8874260193954498,
          0.9071844951406972,
          0.8167452028171539,
          0.847040784532353,
          0.272661060041884,
          0.9182671000294392,
          0.7306767120044644,
          0.07022655372670043,
          0.9130081280962626,
          0.8925035702683956,
          0.9046370537960777,
          0.8978582779789795,
          0.08940069409468489,
          0.36464081387868547,
          0.25713592014594056,
          0.06317063304506587,
          0.8942382391250352,
          0.9003689088816926,
          0.42898060051427844,
          0.7374475714396624,
          0.17290157413431073,
          0.8623814767204729,
          0.19800648405817298,
          0.0657888078901086,
          0.9205572097428991,
          0.8936927179784786,
          0.8869409349394333,
          0.8723784788250555,
          0.8951214011872977,
          0.9171396825482941,
          0.8980716578178968,
          0.9132435360727091,
          0.9137615463180311,
          0.9093145457305607,
          0.9223918306812362,
          0.8946905945452963,
          0.8687676245981589,
          0.8752196907843396,
          0.8817902154367268,
          0.8921226266707404,
          0.8958385820445854,
          0.8910087559154543,
          0.8968208304490549,
          0.8657252461866418,
          0.9077253571873195,
          0.5289291428574222,
          0.8947412007412096,
          0.8949334754544657,
          0.8018454261659425,
          0.87041656948813,
          0.8584159693684098,
          0.897529938025529,
          0.6789864407986171,
          0.8882542859264206,
          0.7230813726273667,
          0.9068304437496688,
          0.9147819899356363,
          0.88524900956154,
          0.9219701645117152,
          0.3089119589304004,
          0.8959010612471279,
          0.3258348302864008,
          0.1762924287205922,
          0.903339769858411,
          0.6476163483070271,
          0.3549899060570092,
          0.8875119620337028,
          0.880282600284738,
          0.9140644589049773,
          0.9118263452093024,
          0.7491728365170089,
          0.9061627412650696,
          0.9179103664297324,
          0.16806392414948376,
          0.9062831607941784,
          0.48275303897292343,
          0.9076965917853864,
          0.6128455082394316,
          0.8932611162527653,
          0.9019237580364668,
          0.8514030644170759,
          0.9232836805091486,
          0.8934493181578891,
          0.3213753767199005,
          0.8999525770880231,
          0.514107193517555,
          0.8969203478418944,
          0.9021698837781561,
          0.3873955106368934,
          0.8529324873542931,
          0.9132631640169517,
          0.903921767679035,
          0.9123355432804927,
          0.8795919929605243,
          0.9109680327892508,
          0.8931871686536161,
          0.8973999445080476,
          0.9023642411477952,
          0.8782661834302798,
          0.8893761662326942,
          0.909165807389015,
          0.911568076991184,
          0.10834699419423166,
          0.8259682621759036,
          0.8803878551966712,
          0.9020512502332815,
          0.9022006170515546,
          0.9064253924387341,
          0.9134098420008273,
          0.9012047750642653,
          0.9393653970910555,
          0.891589003063325,
          0.8797112463930352,
          0.49940983086517177,
          0.7870624536249577,
          0.8789608455679065,
          0.22951639244016897,
          0.8980787399292496,
          0.8681150759412833,
          0.7948817494176157,
          0.9190489719635044,
          0.16085512361950166,
          0.055191859547083943,
          0.07260675779453188,
          0.8749824969510899,
          0.7542540762364951,
          0.052417095127041284,
          0.057090173725973796,
          0.05596638001764263,
          0.06072631626786084,
          0.8870751790828846,
          0.9096189583288586,
          0.9092265539491658,
          0.5094587234880227,
          0.6335443027411719,
          0.8940335784291229,
          0.07774494522071676,
          0.83615844226085,
          0.9249637593563556,
          0.897534342958817,
          0.39852028029883957,
          0.8998119086844713,
          0.8834039419344535,
          0.49718003713564835,
          0.9224069357326184,
          0.8825625214244958,
          0.8930147104215593,
          0.8960616171795462,
          0.8506374800510741,
          0.714821278295747,
          0.8574965872644771,
          0.896717994645323,
          0.91226122927465,
          0.7403161401574965,
          0.9166140831193538,
          0.9118945897111699,
          0.9240862944108085,
          0.9257630776910952,
          0.8893255429609126,
          0.8818768997414514,
          0.9018917353765055,
          0.9064854810863892,
          0.9096867083383304,
          0.8833214256278171,
          0.8819077661590339,
          0.9090688129376229,
          0.881490520249222,
          0.8932071975649816,
          0.9011605787255406,
          0.9104811427753795,
          0.541532748841623,
          0.8922372249535494,
          0.4081980331342393,
          0.0973524880493643,
          0.9018777229065421,
          0.9043041744940851,
          0.28773524006170675,
          0.8824136204730664,
          0.9034834634991795,
          0.870745048117444,
          0.907350900456748,
          0.9036454959369844,
          0.8971656911197466,
          0.9231457012562474,
          0.8938293048512421,
          0.8998316534894678,
          0.9249279690758485,
          0.33940469348655067,
          0.8999875293833836,
          0.9078122697563838,
          0.9009978596511761,
          0.9159848002108918,
          0.894597389337694,
          0.8613107329071625,
          0.9131540475404184,
          0.9084032820709493,
          0.9025539950666623,
          0.9041298949130783,
          0.8616885900286759,
          0.28086782413804967,
          0.8963887585178073,
          0.9039042699366804,
          0.921362736089252,
          0.4078297617688757,
          0.279048949486094,
          0.8753290698699148,
          0.22946496880496003,
          0.9010193926480164,
          0.8734828688216145,
          0.8922602903662353,
          0.06954828228211818,
          0.7671609201735413,
          0.9056609930616668,
          0.8450503405591757,
          0.9135270730494605,
          0.8090908779772658,
          0.9020714170320854,
          0.9018426151124475,
          0.9006066815603169,
          0.8950823719751582,
          0.8936382027405176,
          0.9183554953476448,
          0.9055089086107415,
          0.9023215893805473,
          0.9257665055728276,
          0.896809514525336,
          0.9031004509016578,
          0.642622189370842,
          0.6460373075910739,
          0.8936426342840388,
          0.9195856106694625,
          0.897753344474492,
          0.7271580551543674,
          0.9092510789829334,
          0.8607398884575135,
          0.3471973308703163,
          0.21749362884737994,
          0.8974600713378676,
          0.9080429926269182,
          0.8962368234228182,
          0.38947445021607946,
          0.898951011238822,
          0.8918513114472812,
          0.911625942814427,
          0.8940072160653817,
          0.8797661922887225,
          0.9214339963470155,
          0.427405813566298,
          0.391552913154562,
          0.07796224986471739,
          0.7677479132433127,
          0.8935466983007024,
          0.45921635522302473,
          0.8767027953078699,
          0.8972106356927794,
          0.9131326163989842,
          0.8835506169123278,
          0.8931639709234684,
          0.8990359332588308,
          0.8645356970914111,
          0.8866554362806139,
          0.9286880871581235,
          0.7960290566599716,
          0.901576872448553,
          0.9196207842799852,
          0.8771396160290079,
          0.8983938318543903,
          0.900020172805639,
          0.8930130964572234,
          0.8860689094543782,
          0.4056645964507909,
          0.8829705321227986,
          0.8983398851581585,
          0.9275994618888899,
          0.9172635171867672,
          0.7834685635556702,
          0.1630260567092204,
          0.25732735715400384,
          0.9077450137906834,
          0.9241942275553731,
          0.9085589185635883,
          0.8845600038061342,
          0.8944982735778798,
          0.545519529682024,
          0.8884222506453423,
          0.8862570215537786,
          0.905552626827741,
          0.9040910975333352,
          0.520656449491015,
          0.9228371451588349,
          0.06986023058887551,
          0.9210654005575264,
          0.061541179723301656,
          0.8679715072519752,
          0.05441080339157135,
          0.8874155326156627,
          0.7663317646342228,
          0.8998460875488424,
          0.9182137236809047,
          0.3703231342594043,
          0.8966353869535965,
          0.8793736287641705,
          0.8757515987867777,
          0.396964729317046,
          0.8666942946461441,
          0.08418355245941767,
          0.8901426446249158,
          0.5615088330044936,
          0.526716054278892,
          0.913080772824003,
          0.08507507035447547,
          0.891386403547328,
          0.12172647237374083,
          0.2951793386994726,
          0.8840211846858563,
          0.8685417714774587,
          0.9095275377456767,
          0.8923825819570727,
          0.8864673622065794,
          0.4831156758281209,
          0.3933769351081497,
          0.39671452997202894,
          0.9080073668166616,
          0.05192005645116437,
          0.054342569305672446,
          0.22129438204231153,
          0.8890316605572395,
          0.29975784764150265,
          0.29556318782824725,
          0.893906071216775,
          0.8694418492805801,
          0.69461700584062,
          0.903002374309339,
          0.926324191184978,
          0.8851884094284601,
          0.8823237760310061,
          0.4006587304353951,
          0.9085897722987418,
          0.8949537774896987,
          0.8787500434946288,
          0.876943150286544,
          0.5697868107479129,
          0.8906042559865723,
          0.9029112321468805,
          0.9085109545265887,
          0.897336160708708,
          0.9129808643434246,
          0.5067078915629118,
          0.9080272519942267,
          0.8919291336620663,
          0.9103541774986998,
          0.8962541621394867,
          0.091182476020859,
          0.06934069458606446,
          0.0829297531722902,
          0.08420845652019815,
          0.08349477138838099,
          0.07614665249289035,
          0.5934207690746283,
          0.09041086603772085,
          0.45170943276244535,
          0.9005163752888017,
          0.0685628628382955,
          0.8860133078955795,
          0.8957583583116012,
          0.4727031036104527,
          0.08961079515194165,
          0.8542553164540707,
          0.8744313869785162,
          0.900863838198506,
          0.04819344601944071,
          0.8775416328265584,
          0.896976030975053,
          0.5327406272398499,
          0.20966350602110478,
          0.24321208908183906,
          0.3716170155868749,
          0.8841409409754958,
          0.24365774291769055,
          0.22568562466856049,
          0.0690057097684299,
          0.07687942340597512,
          0.8779105490427503,
          0.053184886706878425,
          0.05981673345146097,
          0.06962859773969043,
          0.07631955813535124,
          0.05313818694250149,
          0.1167456774874252,
          0.047517948904041284,
          0.733655956851426,
          0.39928257287671304,
          0.8497653732762408,
          0.9034502777539765,
          0.05822861092848511,
          0.5657431852037796,
          0.684078610788563,
          0.0853243731222093,
          0.3457163978908227,
          0.15897066096135168,
          0.2958482600135716,
          0.0689128106168931,
          0.8962596694156785,
          0.06974678877220823,
          0.5431621592077868,
          0.06542465100184526,
          0.8747824283832258,
          0.05353595117947247,
          0.9116023262692493,
          0.8678347045352209,
          0.927142463107609,
          0.920141419394994,
          0.8962199685812655,
          0.4023535956212193,
          0.8955567605227606,
          0.9082946313824795,
          0.9063163010036683,
          0.5125347316093171,
          0.9171165870244485,
          0.8924860811621715,
          0.9048498904972369,
          0.5916268292843463,
          0.9137379898183889,
          0.7693526183764714,
          0.8973931892839098,
          0.8913595684233722,
          0.888329718102739,
          0.8988972705236937,
          0.5493236021694624,
          0.6525340830392948,
          0.8956387156065183,
          0.9086748765733581,
          0.9211744336839421,
          0.8667001495660126,
          0.8615078338305999,
          0.8854878846792925,
          0.4586601522963641,
          0.9035051108052189,
          0.5130260275814071,
          0.9111844855001068,
          0.895216734276679,
          0.9096559709878611,
          0.905283702012457,
          0.8585189139806223,
          0.9376867809469658,
          0.9212138887982225,
          0.8958116194798841,
          0.883451067455807,
          0.8913180257581886,
          0.9089154593972719,
          0.9080837761110109,
          0.8920159851546342,
          0.32636273203481786,
          0.902923718356179,
          0.07762621746830994,
          0.9203789317714336,
          0.9202168788766262,
          0.8878803103822305,
          0.924506727321421,
          0.7432091479395054,
          0.9085540748576131,
          0.9124673663460601,
          0.9105385634749359,
          0.7929647108761525,
          0.8484127533696592,
          0.5366479528139393,
          0.49061748440944253,
          0.8924881979523966,
          0.3040543428089279,
          0.9085864803743348,
          0.5972070012519936,
          0.7853025051418847,
          0.8735277799567864,
          0.8731457844019718,
          0.6180084829663899,
          0.11094743678407082,
          0.8826522939269194,
          0.8287660519216034,
          0.8681641201765153,
          0.07024268929832947,
          0.7128747755026464,
          0.8838422679091616,
          0.8977137994103882,
          0.9179361775061575,
          0.9001240094494618,
          0.8849548462372169,
          0.8877675052292459,
          0.896701836843802,
          0.9265754003134621,
          0.5354740176316632,
          0.9160699426244138,
          0.6536942748218812,
          0.5158108314393626,
          0.8412815553853108,
          0.24676168392730383,
          0.8866091922689789,
          0.8998620282161852,
          0.6946027782338714,
          0.8822884851805801,
          0.9041536930639065,
          0.90720582554567,
          0.07002994130111763,
          0.5087058712470983,
          0.8905102522704653,
          0.9044365884228366,
          0.060474576182919175,
          0.8870708276412863,
          0.8907493502067944,
          0.8952218154195462,
          0.4734814022727625,
          0.9134707303832436,
          0.6140470250981291,
          0.0679249804632602,
          0.7797114747883575,
          0.8918403527213662,
          0.9083472244852442,
          0.9004110074095671,
          0.07840180467847448,
          0.9160458206017655,
          0.9026053359181998,
          0.8563209690610895,
          0.8736131356486913,
          0.8873659526958578,
          0.06987258264693791,
          0.9002724976017796,
          0.8947614553474947,
          0.47396188428046154,
          0.8409893625985277,
          0.23580389788226083,
          0.6369862571001348,
          0.8966908669126309,
          0.5282838441484512,
          0.5170517193423685,
          0.895664936188591,
          0.8841872946995896,
          0.07033878747914002,
          0.8809548505605493,
          0.877130638850622,
          0.2709747510125065,
          0.3507239934021282,
          0.10651929833414517,
          0.07603784386719628,
          0.8900183342139302,
          0.8083230750109277,
          0.8809747350840225,
          0.7878810054613229,
          0.8714302701652096,
          0.9083327261892419,
          0.9085377164440586,
          0.9159704116747114,
          0.8817686979229546,
          0.818441930011954,
          0.9074540250030395,
          0.8782405267615864,
          0.8758083931237185,
          0.877055460193994,
          0.8999834537447337,
          0.9002270178011121,
          0.8801471201535498,
          0.12341852929933982,
          0.35102334482885167,
          0.9206677950202722,
          0.8567979669051301,
          0.8988087564688664,
          0.3332159484662262,
          0.07548002778732177,
          0.8960296864447165,
          0.4508225060497188,
          0.4340301513139082,
          0.41915976131125965,
          0.7901627421485148,
          0.44870500216940845,
          0.8755847465078445,
          0.8999431065809467,
          0.8175777540024504,
          0.11011172754170742,
          0.7404955011959821,
          0.8699208782553998,
          0.49095624761951046,
          0.1771524102009991,
          0.8800932932024981,
          0.9122440484555484,
          0.06195589324569215,
          0.7400420548799311,
          0.21736585292224686,
          0.7639608799754506,
          0.07005528422790343,
          0.5135050661471233,
          0.06307110323945744,
          0.30075832095895877,
          0.9005170196183319,
          0.05965010027078105,
          0.07856237939111213,
          0.12843638094234514,
          0.21706621162807294,
          0.8924939267155626,
          0.059189530752446234,
          0.26895390162539823,
          0.4832354631090859,
          0.8212652801166113,
          0.8954438716040549,
          0.6647103626489104,
          0.2580916422618567,
          0.4601617680186887,
          0.07117635069061838,
          0.8804656482088292,
          0.5739729288163936,
          0.2269142493351225,
          0.05994395426787622,
          0.08050943963353405,
          0.0919660637174926,
          0.20448537777110262,
          0.8525454456544035,
          0.06011452560162186,
          0.21211574578701717,
          0.06455152839241111,
          0.38515033520121844,
          0.059269697709915914,
          0.07263717403230059,
          0.0546214701775899,
          0.44843656808232024,
          0.04764590585494418,
          0.08516293705508193,
          0.22431581361509007,
          0.058857039498766583,
          0.2155266396898522,
          0.12985795981234
         ],
         "y": [
          0.06030784382520675,
          0.03927898370986247,
          0.049811778707977254,
          0.05867665312370182,
          0.038085938937276596,
          0.035553360901924826,
          0.03869159619388146,
          0.05178351204066764,
          0.061958064231145644,
          0.049321181498799216,
          0.055179193874656446,
          0.03995355961502778,
          0.050251813136752116,
          0.04501638126902336,
          0.0568989237629769,
          0.057596381730464975,
          0.05131515563323571,
          0.04027019175318299,
          0.048729798135751325,
          0.041882745810464216,
          0.05743465619570472,
          0.03630445672378249,
          0.03718217525636493,
          0.06277291856559072,
          0.05632159134549343,
          0.053822060462645996,
          0.04730383435960757,
          0.052655985214413586,
          0.051638491461508604,
          0.053236065869949716,
          0.0595062908464741,
          0.04142148494016908,
          0.04628428061517487,
          0.053639171046748625,
          0.05092366531941412,
          0.062647636056237,
          0.048435213045414344,
          0.04925169543937496,
          0.06157966484106531,
          0.053328015361402616,
          0.2580256306511986,
          0.0408251924328614,
          0.05036211983343753,
          0.0585500208738186,
          0.05206568417438273,
          0.035525029472844985,
          0.0497189604878374,
          0.03352208146380871,
          0.06194994169686715,
          0.03053099197903912,
          0.05104155182748183,
          0.049138169532630054,
          0.04948759529009002,
          0.055685403584154546,
          0.058738021492831693,
          0.046458710644299586,
          0.060391166862702815,
          0.04133637693993301,
          0.05082098918680856,
          0.057657941878900776,
          0.034763489587400755,
          0.05901660378059079,
          0.05189364878389021,
          0.04948347689760109,
          0.03469331801268322,
          0.04575882300719666,
          0.055236217585576064,
          0.048763297929607596,
          0.05217873531695556,
          0.0547405125539626,
          0.04562176742393527,
          0.04900630312052303,
          0.048856666858688766,
          0.057604862299373324,
          0.06346175874691044,
          0.04839008869883484,
          0.041582450347641305,
          0.053517365289630574,
          0.04796207988174564,
          0.05459487334042954,
          0.05089686947372661,
          0.03868101353341584,
          0.061327752257362436,
          0.056005312163712004,
          0.044747827077207855,
          0.05033572984728199,
          0.06207156607952002,
          0.04664905993749854,
          0.05757949345123699,
          0.05422355597421214,
          0.04748523616260401,
          0.051271814659303964,
          0.05956413501330166,
          0.04357051346040336,
          0.04258045987266895,
          0.04433699175341184,
          0.04625870140753062,
          0.06066124893035165,
          0.04285756303722225,
          0.03543396085156985,
          0.07379060337107168,
          0.058407991709246106,
          0.049477621104593826,
          0.043985385657440056,
          0.03286815454386555,
          0.05704137909164393,
          0.04191908142080794,
          0.06248532404000018,
          0.060247189678764426,
          0.05155194386409829,
          0.05129149018852899,
          0.050903872341221304,
          0.04502755177284865,
          0.050724895367867,
          0.05232708820657057,
          0.035497157871772045,
          0.046536044317700934,
          0.05521716372735947,
          0.06339141763516416,
          0.05386413919385683,
          0.04219674197647782,
          0.05302522904327332,
          0.043202566122651234,
          0.03845277406607579,
          0.047096710521837504,
          0.04747764010667183,
          0.039342700960351265,
          0.040185276924718454,
          0.050303958232229454,
          0.04576209141239194,
          0.058366380465555416,
          0.05158140819425378,
          0.054667726708647245,
          0.04840133326565954,
          0.048478268699435736,
          0.0676237847901873,
          0.04997876800286828,
          0.059923335924564475,
          0.06336366778058769,
          0.05835617163121383,
          0.040311232120616824,
          0.06268996554507436,
          0.05424532115562906,
          0.06654761875410757,
          0.04073298671109947,
          0.062127828598188696,
          0.05859672469934678,
          0.04635197207932552,
          0.04890934254459931,
          0.06733541593064771,
          0.05517017379496923,
          0.051474212442419606,
          0.044370458612718565,
          0.040537815065264035,
          0.055933087168650475,
          0.047339041925222494,
          0.04641670105575587,
          0.05235002366911954,
          0.05618568687492345,
          0.07792892008557911,
          0.04625320273548023,
          0.050406303550767716,
          0.05219990386016001,
          0.06592357454275811,
          0.06687042805455591,
          0.054799581858176925,
          0.04411091765280099,
          0.05403147042930272,
          0.04815152963104306,
          0.039195326665586214,
          0.04475197241147533,
          0.04510867086701089,
          0.057704058697537454,
          0.05311412301744275,
          0.053957960748245944,
          0.05430706031714268,
          0.04651344531478578,
          0.04874212796301695,
          0.053879011492875745,
          0.049439971268303406,
          0.06049905656230992,
          0.04779809349386827,
          0.0533520408240581,
          0.051070869216917836,
          0.047090042703695094,
          0.05002778224383528,
          0.05155112884146688,
          0.049663946322802195,
          0.047737232308473244,
          0.045076734257667346,
          0.04884679950882167,
          0.055566152349068684,
          0.05114330595589028,
          0.0658352773321576,
          0.05057837078363379,
          0.07533029997939948,
          0.04273074079489442,
          0.06771090658840415,
          0.06087314193953641,
          0.05461273793087214,
          0.04972522293789328,
          0.04639214229952965,
          0.04704833569916407,
          0.057277762398634365,
          0.04965700489196287,
          0.05308434584793155,
          0.0564014638529688,
          0.05026747791722859,
          0.04933153513604337,
          0.043888109496983484,
          0.05267968762297235,
          0.06574322723253447,
          0.05305734760031402,
          0.050836688900050823,
          0.04887514146516584,
          0.051740452501711796,
          0.04120876483670632,
          0.0405207055968925,
          0.05164357621352863,
          0.048842188199888205,
          0.061979204543179255,
          0.04452723914313601,
          0.046010952998301845,
          0.056639820367447184,
          0.05003738717019858,
          0.05103929972337552,
          0.05310447820510913,
          0.050440774383667654,
          0.060246645564910856,
          0.042181453330783394,
          0.06336780291739236,
          0.049166419567369536,
          0.042512306042706886,
          0.22096198293509278,
          0.03825574885235748,
          0.05196934381288044,
          0.046155544412236106,
          0.06217337151049272,
          0.051844616057643886,
          0.03939773381423589,
          0.059656013781892135,
          0.04241124098031902,
          0.055412448081003526,
          0.04220007206448701,
          0.048141194052892224,
          0.05539145085781566,
          0.041445306429582586,
          0.030597882196878014,
          0.060114832174663416,
          0.04899260745642718,
          0.055836920114301844,
          0.03267249112236482,
          0.05126009693635988,
          0.050196304875224765,
          0.06214974627027422,
          0.04884682674878072,
          0.04256890763316652,
          0.05395667123882646,
          0.04485704255443821,
          0.04946095536401884,
          0.040945600940560045,
          0.05015439325361242,
          0.043218204363486376,
          0.04504839432708528,
          0.04225500144335416,
          0.04386041122348769,
          0.04573034651643076,
          0.035849609166533,
          0.04018306964761236,
          0.03807219166773764,
          0.054894166459301806,
          0.04005921990022436,
          0.06171388567400646,
          0.050777219281323116,
          0.04416651539589335,
          0.05481590222751083,
          0.056309295074084526,
          0.04546146722945355,
          0.04682081368045182,
          0.05180935758674033,
          0.045632803526046,
          0.06405035262563667,
          0.31333591321360466,
          0.03395907515614667,
          0.050132299596513934,
          0.050800096332826304,
          0.04774255389533419,
          0.057858230969964605,
          0.0382768734776637,
          0.03810696889592243,
          0.04002082407656869,
          0.03872414642233986,
          0.045428743418844904,
          0.04881003188601879,
          0.0443337208275981,
          0.055560771857529424,
          0.05319452881896253,
          0.05269294827055541,
          0.045561650751395566,
          0.05752292077852598,
          0.03983745661869809,
          0.040146616189150296,
          0.05283016403346802,
          0.051906502181075814,
          0.06373984520956662,
          0.041309494103316954,
          0.053254926255582265,
          0.050289341954835164,
          0.05391949119471132,
          0.4747304614521439,
          0.07095786161494355,
          0.04707075217155674,
          0.04977766766857226,
          0.04253042536921755,
          0.048422329113175656,
          0.05216002628933199,
          0.04929517026751247,
          0.04421361897058624,
          0.05361604307670757,
          0.049042736811513866,
          0.06409646853497208,
          0.059005586667406025,
          0.054073072297606294,
          0.05179528810847934,
          0.04715693678671652,
          0.052389171767102755,
          0.08423631852439101,
          0.07649570073327824,
          0.06186532299143879,
          0.044290907890373786,
          0.04054369076243389,
          0.03128289100357695,
          0.046978321209440475,
          0.04785227862757258,
          0.05675240875030556,
          0.04667693164217461,
          0.052514103614436265,
          0.06165704339915606,
          0.05861875191568209,
          0.058095103885564985,
          0.07103849177412622,
          0.06875552259875614,
          0.052576377549422605,
          0.055426959352345366,
          0.043893429153903346,
          0.07091727250257196,
          0.04775071496896793,
          0.05513536895998251,
          0.050111354518323686,
          0.045220091335338906,
          0.05157868604993452,
          0.0572601186927265,
          0.03804361090723939,
          0.050773024984782825,
          0.05817327317195449,
          0.05167253221343834,
          0.05629776921590562,
          0.05550210780134071,
          0.04167861261566627,
          0.06103377886229533,
          0.04283080692165506,
          0.06266929174886947,
          0.06167446088503109,
          0.051885128286115426,
          0.05669072976193595,
          0.05109183648217114,
          0.06074891453410046,
          0.056079898204655323,
          0.04976695234205162,
          0.04602207268279357,
          0.07170041942235529,
          0.04731674372142102,
          0.05390540056724272,
          0.052824359196134256,
          0.05395301800087009,
          0.0533089423830655,
          0.06471860656057168,
          0.05056631916607267,
          0.07643460525116197,
          0.07348603646390969,
          0.042565530183381446,
          0.058599505203871464,
          0.041219927622690104,
          0.06814881987407562,
          0.07502437360878673,
          0.05089927331168629,
          0.07510159077053133,
          0.04598128140306789,
          0.07045086146779272,
          0.06907710665613966,
          0.05756283626538608,
          0.04568482669184668,
          0.05704373506855741,
          0.057171046705330894,
          0.03821204387568306,
          0.05131717445806265,
          0.051004385488632765,
          0.04762868074321456,
          0.040169902439992584,
          0.058982561692519635,
          0.0603632007266933,
          0.054525031435719386,
          0.042545261911205494,
          0.034040621574622114,
          0.06546186539481694,
          0.05360762071697067,
          0.07992144739612873,
          0.048282993098126906,
          0.04517289446725516,
          0.043199070298236754,
          0.047266678794706675,
          0.056558354286666765,
          0.050088126874011575,
          0.03905476525430941,
          0.03570130409611334,
          0.04209532477153623,
          0.03999747893804265,
          0.07578572043522855,
          0.05926934359688279,
          0.0489583466566785,
          0.0500674612296123,
          0.057374595257212835,
          0.049790050007817235,
          0.05100444614186434,
          0.04367463622513825,
          0.049595824123609,
          0.0682925611524068,
          0.05857511692124767,
          0.052356118027293216,
          0.05758984243637027,
          0.04434891523687603,
          0.044253512337712485,
          0.042281877856747696,
          0.0534450686394926,
          0.040238395729330335,
          0.04575458188230389,
          0.047724941726585084,
          0.04294142220648478,
          0.06598952972363188,
          0.05347838723977846,
          0.06135868556913539,
          0.053781411369280024,
          0.05135526590264821,
          0.046557420458758006,
          0.04716687041854278,
          0.058334911487224625,
          0.04762367986926262,
          0.04714213278555822,
          0.05262794945000477,
          0.06251471585382955,
          0.0560045522202733,
          0.049453012053910575,
          0.04719037575728105,
          0.06247575606709568,
          0.057241342742094296,
          0.07250586563503514,
          0.0597561513354762,
          0.04519764410293705,
          0.05069855166587954,
          0.04588146530938513,
          0.06780154318605529,
          0.050915293778392566,
          0.04616590136980647,
          0.049729316024004204,
          0.03615526013539654,
          0.05552761873852658,
          0.04907341890198759,
          0.04157005809796848,
          0.039668737482056446,
          0.05251485886383488,
          0.04412807334467553,
          0.05247465600442811,
          0.05141761769312837,
          0.057857367994545765,
          0.052302766144480324,
          0.039970885025835394,
          0.04039924401966353,
          0.0776687876547963,
          0.04601090541344859,
          0.05419719707262352,
          0.05011451526388303,
          0.054078606537162885,
          0.046105900473274994,
          0.052582420712060714,
          0.07987284459006251,
          0.061499602814967726,
          0.05367786932258802,
          0.05055132580108153,
          0.039982916073263985,
          0.05242543951530922,
          0.05058183924298505,
          0.04821851631145507,
          0.042624818067611335,
          0.05683432679672778,
          0.057934112935913135,
          0.04351158358695633,
          0.061244058242572556,
          0.04256497155288056,
          0.0583593580274643,
          0.03457711439653926,
          0.0577046122224181,
          0.06249255882837063,
          0.05566147048366854,
          0.04307341469654519,
          0.05221046713616942,
          0.03741884250627365,
          0.05565317752912605,
          0.051085645323678555,
          0.06058693076798977,
          0.041692004958709644,
          0.043066254221565466,
          0.06024198219117973,
          0.053640456727554346,
          0.06470995142992851,
          0.058138971355391963,
          0.05688559989063168,
          0.08801905000328693,
          0.06604751296418769,
          0.05659950048322353,
          0.05504196371939426,
          0.051423449970312986,
          0.05015323580324692,
          0.048346809946015035,
          0.05469504275148181,
          0.04332974509906388,
          0.03889750735654032,
          0.05230531062186318,
          0.03963585264928383,
          0.054792080951465455,
          0.04635330323452942,
          0.053311491605828897,
          0.04291675359887805,
          0.05035312150449342,
          0.056734179982465244,
          0.04563427320730798,
          0.05055892239229252,
          0.054710427165272905,
          0.057837713891403256,
          0.048742158246642714,
          0.04367238040437708,
          0.046741762315722406,
          0.05040784977645876,
          0.060805507655196094,
          0.038328100365263185,
          0.034926467512128634,
          0.04926205269329369,
          0.05217072741322577,
          0.03761949103333784,
          0.046794649669969615,
          0.03614543231344311,
          0.06437657888854412,
          0.04147646762305339,
          0.05720916785784297,
          0.05886083635966398,
          0.060718413747342034,
          0.05916752428593182,
          0.061634613704215434,
          0.04618059243585945,
          0.03983191885184248,
          0.04953206550786699,
          0.05590811756711521,
          0.06845358378499854,
          0.05671153139230035,
          0.05590540492312185,
          0.04354112774256721,
          0.05286509336781808,
          0.04218156187260983,
          0.05945386096213381,
          0.04377211349429501,
          0.05738498266709971,
          0.040151337314971475,
          0.05250949098265235,
          0.052338533066827966,
          0.05417686988996034,
          0.04641801986768965,
          0.0470286185502651,
          0.05100636228291507,
          0.05465700225636457,
          0.04523797207994446,
          0.038734741530119354,
          0.05742538839335069,
          0.05349756422154979,
          0.05677736255704664,
          0.042392891164175696,
          0.04253188544475449,
          0.04338162208417341,
          0.05130065326689531,
          0.053889631035003986,
          0.04964420079157266,
          0.05139039101047887,
          0.05464017429375508,
          0.054528753749536314,
          0.05643685101176897,
          0.05790112118466165,
          0.0553565052341905,
          0.055984930635314775,
          0.05346524386150728,
          0.057438192956421885,
          0.04677305485620205,
          0.04198702200042605,
          0.04693577519952015,
          0.03985454218076065,
          0.04900060749759771,
          0.038125167576060576,
          0.05290765484350619,
          0.06610560834324308,
          0.060598910637457065,
          0.043872387523024206,
          0.051802284644098084,
          0.044464926684643094,
          0.05278939693526932,
          0.0628099863237914,
          0.04215074432832413,
          0.04304384276526952,
          0.047460428694609945,
          0.05598950254327754,
          0.04238356121550639,
          0.05509204370424889,
          0.05235263095438809,
          0.040394065747397005,
          0.05475416336967392,
          0.04218874569878459,
          0.043578893267185385,
          0.05309126979281812,
          0.056847009495321996,
          0.047017912233239756,
          0.05029686803742326,
          0.04548225105646634,
          0.06749909762478239,
          0.04930946176800552,
          0.05190886955620863,
          0.04344999432421114,
          0.04768797816564314,
          0.050331257762332,
          0.03741408589444637,
          0.047316104857856214,
          0.04883800465892529,
          0.06001828759414992,
          0.043699537918579556,
          0.06358328678337503,
          0.03726203976812494,
          0.032451609964096066,
          0.0355387282301823,
          0.05413980586649757,
          0.05408914675808927,
          0.046858773584566596,
          0.04326441021567238,
          0.03562925711578229,
          0.04071942235861107,
          0.039121983595712624,
          0.04958287512429053,
          0.04533151518443623,
          0.055997451488373005,
          0.03726991758849027,
          0.046171708269262854,
          0.04200250627949249,
          0.043928540486685486,
          0.04598759218909629,
          0.06442596747358714,
          0.05415933697102235,
          0.050040131564710356,
          0.050435183636239535,
          0.03978820130800424,
          0.04975143607411268,
          0.0458986807415483,
          0.04298729768442666,
          0.05319844682442347,
          0.031320482068400504,
          0.04124949567615808,
          0.06464854344987385,
          0.03280243835869482,
          0.04865359721183582,
          0.048522554920422636,
          0.039914713029059294,
          0.03270305947076513,
          0.044384494180667845,
          0.04198679275566898,
          0.0495316811663592,
          0.04519637610577258,
          0.04117771400778949,
          0.048505711905841485,
          0.05633616328494005,
          0.04756775793116264,
          0.05005102427180104,
          0.04901867171861094,
          0.04840200308464636,
          0.04618368312732846,
          0.04940550960584765,
          0.06031022087484003,
          0.03706464941917204,
          0.2038863662608881,
          0.03801699092261333,
          0.0328335856108141,
          0.04087789449726023,
          0.04230094595916601,
          0.03600543397817885,
          0.048371602096750135,
          0.04340489463744055,
          0.06555604712593031,
          0.05051338834000453,
          0.04122400709881812,
          0.0420646536215532,
          0.04258020735935883,
          0.04155177462637379,
          0.04273175323979932,
          0.04967129873574683,
          0.04343597313493529,
          0.05852751621191143,
          0.04729477896078213,
          0.04777249717994891,
          0.036674312517934286,
          0.04356975839933523,
          0.04782682065790634,
          0.049590454468761105,
          0.04934959688214332,
          0.06094132893477534,
          0.03827084034405757,
          0.0429046495117983,
          0.05128134379706282,
          0.04247252570878602,
          0.04184845867887317,
          0.03455202252325821,
          0.03483045570084965,
          0.10837184168417285,
          0.07448020449543781,
          0.3787785682367452,
          0.04055329384450759,
          0.05440603041681032,
          0.04833358609912726,
          0.04176521075972424,
          0.05385478596554965,
          0.055014455021974086,
          0.06717484057615979,
          0.03633063518600119,
          0.04893445897392044,
          0.04930745814888848,
          0.052330588970978933,
          0.04804204482635112,
          0.051033980490578494,
          0.04810331755592325,
          0.06219684224718493,
          0.04656507690326374,
          0.06399150589683458,
          0.059924974994712665,
          0.047944367680411,
          0.05882981630791594,
          0.054305020608724615,
          0.037829164890733694,
          0.04862848617931757,
          0.04233807626730261,
          0.040793475170174606,
          0.05846517801822165,
          0.053246246921590995,
          0.06296928465105518,
          0.05098110980183261,
          0.042848547356925726,
          0.0492865071097408,
          0.03960127803626995,
          0.04221458425342521,
          0.04477847594271599,
          0.049661793313805054,
          0.04730173648846028,
          0.04320197606332282,
          0.06861688528253239,
          0.036872101583494694,
          0.04825539270181041,
          0.05464274356267036,
          0.055124859148847176,
          0.03800475165740835,
          0.04571773402987732,
          0.04500440144639392,
          0.038721271149611165,
          0.05168039160079113,
          0.03899350725500862,
          0.04624436776637993,
          0.044626002536303375,
          0.05225286954387368,
          0.05018881784344476,
          0.05431135574340588,
          0.03798693185708356,
          0.047134868848534725,
          0.06187277324899045,
          0.0557534090628722,
          0.04618363753621085,
          0.03424165445722541,
          0.05602458346528068,
          0.05138819177621933,
          0.04227437774558043,
          0.054448020828582716,
          0.04332077569011866,
          0.031208061748699632,
          0.058604876825892736,
          0.04555337311352694,
          0.061635343182170635,
          0.04164606990196032,
          0.03857147538927698,
          0.053610775555515945,
          0.04895129525853246,
          0.04097142340123387,
          0.04869428820038789,
          0.042405761826678115,
          0.07508781430611954,
          0.03391562312844806,
          0.033661289611954505,
          0.04769648236475066,
          0.052594413051128316,
          0.05264192864093586,
          0.04281985256027752,
          0.05988691870446845,
          0.05365592326658243,
          0.036271803557834825,
          0.04152741458890417,
          0.035098159673862095,
          0.04327727675818129,
          0.04268228360974972,
          0.048822409201380694,
          0.050782062860553506,
          0.04455001216720216,
          0.047336082810924475,
          0.04134757299821024,
          0.044611185416301415,
          0.0511312325383861,
          0.043561872258209955,
          0.05460318218107638,
          0.04961883670501337,
          0.043094175407101,
          0.04522704389447906,
          0.05699843865953511,
          0.039126243457434186,
          0.06011176742392966,
          0.038883090658503795,
          0.03548013379121062,
          0.044733465228403,
          0.04372277477964829,
          0.05729784776714186,
          0.04353113046004147,
          0.05101083597348505,
          0.05847389220588605,
          0.04287425213028836,
          0.04275452627536982,
          0.05938333145025385,
          0.03776033228633405,
          0.03527791547669275,
          0.047447029180256534,
          0.0431828366628664,
          0.04176930877871849,
          0.04782465295486789,
          0.04725689534446051,
          0.034315089650637634,
          0.05529796695623385,
          0.05185323552437828,
          0.05090028479160089,
          0.038850778930050865,
          0.05985455092889437,
          0.04077596405396745,
          0.05390342020416082,
          0.05276504346979204,
          0.05577424745212948,
          0.06065031040589072,
          0.047557531875974605,
          0.05265460972754518,
          0.04214542036455635,
          0.043420305614440595,
          0.04199946634646499,
          0.047408762570331865,
          0.05097245667106369,
          0.02851471040232955,
          0.0445664210420256,
          0.04915150308073381,
          0.05117292390917643,
          0.04183640939761347,
          0.055276201830308215,
          0.05137496094605069,
          0.048002961655942006,
          0.035255533701847634,
          0.04169902892269924,
          0.041150157030374335,
          0.04870973843510378,
          0.04213240762415744,
          0.051775387812833785,
          0.06017391488887404,
          0.0410426170947496,
          0.03848321738273858,
          0.043618590995205736,
          0.029938381023021373,
          0.04502506675774523,
          0.05306960190426367,
          0.044969800593767206,
          0.039406257645405895,
          0.052650262110811995,
          0.04003109836596219,
          0.03953609363117078,
          0.03715624185502981,
          0.03768768369688619,
          0.05108104259739851,
          0.04245996271722121,
          0.05046935693211933,
          0.04784099839030898,
          0.04054627603323113,
          0.057162326398927196,
          0.04363212974480804,
          0.043060481309467824,
          0.03342279417372595,
          0.0390401154807445,
          0.04253591270396693,
          0.03902621814820826,
          0.043272996050628,
          0.05129418126878466,
          0.04945583361147814,
          0.055758758509004094,
          0.03564545500908249,
          0.05389728372579358,
          0.046295400677336854,
          0.03685016733757831,
          0.041318529813554404,
          0.04991397061395932,
          0.08464262499528187,
          0.049987897998712144,
          0.041311548018774735,
          0.04790786115594241,
          0.05603600861972556,
          0.05290107528449687,
          0.0420289002493519,
          0.06799901279502843,
          0.03905488442086149,
          0.05014712844202794,
          0.044011165229217636,
          0.0379284946303408,
          0.0432872386915893,
          0.05477339927041663,
          0.049210391717132054,
          0.04702559901562996,
          0.048307583633700066,
          0.0549929593148285,
          0.068439276460943,
          0.03650262815017596,
          0.04118241042514815,
          0.04678645970371029,
          0.04301892207977612,
          0.061661664980084276,
          0.059319751874597,
          0.046275438072519375,
          0.0710058918981549,
          0.05208309966227143,
          0.038665981819578775,
          0.07222211032202369,
          0.06489902515869979,
          0.04071507172949568,
          0.05033003002633209,
          0.05161983160269308,
          0.03871520226061171,
          0.05460765704039009,
          0.057997901898729866,
          0.058404209397959005,
          0.041956088969293856,
          0.06104365498412785,
          0.04051208153915127,
          0.0445649439991361,
          0.04439860399388895,
          0.06363668216170476,
          0.05421225936325276,
          0.032310241134740826,
          0.03620866276901445,
          0.04895874551865988,
          0.04506556690441437,
          0.04585491940736519,
          0.04531560336412788,
          0.044059641093374784,
          0.04650292604956272,
          0.05015868467852624,
          0.042032396664760864,
          0.0677630467486981,
          0.04604084644459235,
          0.055512900577972035,
          0.054899152518995034,
          0.04590471589453203,
          0.07210596348818255,
          0.054633541397683345,
          0.040460985206084814,
          0.06640580373753563,
          0.04967795859968313,
          0.05994270682108328,
          0.05412863859462408,
          0.04386953875406741,
          0.0397524929623872,
          0.055918141861902214,
          0.04759088177624768,
          0.04115887256732035,
          0.0512094473249133,
          0.03685107473076747,
          0.05774488248736986,
          0.041611849809653476,
          0.055703261508190084,
          0.047410216618442476,
          0.04996476650769713,
          0.04378655679310333,
          0.04332248718371099,
          0.044180121586092476,
          0.048721922589410604,
          0.05795995805234666,
          0.04134705493871689,
          0.3783813859070316,
          0.04055188557476723,
          0.04042585015552721,
          0.05116341566853429,
          0.05224370408309184,
          0.044140721229720056,
          0.049020673304676396,
          0.046525689808437125,
          0.038599581048982035,
          0.0568331735781625,
          0.057888415045412915,
          0.035831853505074715,
          0.06081300726138096,
          0.05357986502504028,
          0.03702707199683607,
          0.05916901520161993,
          0.040039393504908205,
          0.04465774594040185,
          0.07880145970268139,
          0.04123048652772059,
          0.06250868864761415,
          0.03813737853657087,
          0.056339277130260115,
          0.054631408191300045,
          0.05135760412037391,
          0.06303880945977114,
          0.05193247394518954,
          0.06302391731644526,
          0.04953542174410576,
          0.05390878464603176,
          0.0613543238726448,
          0.04253660785951866,
          0.04251141220395015,
          0.04990674059570576,
          0.0644415204859942,
          0.05944006106964971,
          0.05656164628008192,
          0.0587371677049224,
          0.049695102769126864,
          0.05551679916348428,
          0.06052114288697726,
          0.05918808876201455,
          0.04745305703104891,
          0.05308749733414481,
          0.05066931071583926,
          0.05179659489370387,
          0.04201168024691552,
          0.06765417895644893,
          0.058473401925733026,
          0.06118204290347978,
          0.06820013130750827,
          0.05426826463492464,
          0.06446287831246837,
          0.04450013159885938,
          0.042479122608431265,
          0.04786617998006088,
          0.08914411987546174,
          0.08801936212497256,
          0.08914412036024937,
          0.04051874596643716,
          0.039500577489958,
          0.05128613466603799,
          0.042097071765515665,
          0.03586491828877455,
          0.04697367942634068,
          0.045695658963047864,
          0.05998840642007026,
          0.052202203435841726,
          0.048432219346994355,
          0.04294851522568955,
          0.048890635724463026,
          0.04784159093882043,
          0.06316852322960231,
          0.08309988499094526,
          0.04999286441261872,
          0.042202324782861955,
          0.04089190693761223,
          0.04226170386610773,
          0.04855192584560848,
          0.042159793002184864,
          0.057002876736823936,
          0.04501965594955442,
          0.04950460401479159,
          0.043707273120798015,
          0.04488589519854561,
          0.06308682023720073,
          0.05373463936502214,
          0.0541624548666902,
          0.03978989761806721,
          0.0578070683535867,
          0.04612465855213822,
          0.07512538194885629,
          0.041076582149081144,
          0.0546931095423908,
          0.05257599296956945,
          0.04073223926576033,
          0.03107132253159161,
          0.04188387117301926,
          0.0409561014922351,
          0.04602627859638001,
          0.04633840406767213,
          0.032307041959968114,
          0.05253448631498703,
          0.045488331267335376,
          0.056322139795306245,
          0.05229233331026404,
          0.044276150579452285,
          0.0371103687486704,
          0.06160413348579732,
          0.048835288047838724,
          0.04736957835741945,
          0.03929321375811691,
          0.05338809897470691,
          0.05319039566551207,
          0.04077238026169372,
          0.04426867607822734,
          0.04057653402890645,
          0.046744066960192565,
          0.04392591222242567,
          0.05179343096377447,
          0.05179343096377447,
          0.05179343096377447,
          0.05179343096377447,
          0.04338034731290092,
          0.057073284288738715,
          0.05709580484090321,
          0.047036750828678295,
          0.0546889785955302,
          0.042297475668455445,
          0.05058078253992103,
          0.0508077888528251,
          0.05461790950316134,
          0.05022423237553619,
          0.05169857114132545,
          0.04123512773057674,
          0.046960958408315684,
          0.051352861392368804,
          0.05171319114543017,
          0.04696291784635955,
          0.044498460317967406,
          0.0435777678530378,
          0.044971204116957215,
          0.04167449913372827,
          0.0453645525962231,
          0.05240405384902417,
          0.041045044551613896,
          0.03519035464730887,
          0.047892777088197724,
          0.039117066624291895,
          0.043038109185400415,
          0.04071487063228413,
          0.04955096632660028,
          0.05566074817949999,
          0.04444091356321697,
          0.04155812630305667,
          0.04954872122245736,
          0.04238711678944282,
          0.053018077499789366,
          0.04911549041984631,
          0.05301611811649761,
          0.04371094953853515,
          0.04835251620130251,
          0.04555452170235308,
          0.054376135224561084,
          0.04361224270376132,
          0.047721853406815576,
          0.0419067138486978,
          0.04230715201229298,
          0.046703141587412435,
          0.03181659563962898,
          0.04596495491369492,
          0.052306499904172014,
          0.04631249440326744,
          0.04646697474803942,
          0.054515097763413546,
          0.048940219043099274,
          0.052975119498856464,
          0.06158026798977656,
          0.05214459823379359,
          0.04088160073738677,
          0.050724473080261595,
          0.051413259120611364,
          0.040753673281090946,
          0.060382706683894956,
          0.05038773805558384,
          0.058612708234425374,
          0.03734568439816117,
          0.048389279365014325,
          0.04259486365370947,
          0.0447070227338111,
          0.04023175753011527,
          0.04700727537750329,
          0.03705861834511807,
          0.04987435595639967,
          0.0445994299392799,
          0.04356966108546885,
          0.048910661249396956,
          0.05037519309097692,
          0.044508730131677526,
          0.050311108448537256,
          0.05691357578369381,
          0.06359252319834358,
          0.04593279793179569,
          0.04694144389571781,
          0.039183973364898386,
          0.047364189622927606,
          0.05144844201786699,
          0.05816187395209889,
          0.051875455258041776,
          0.04655654521532408,
          0.053920828292710186,
          0.05589292989408629,
          0.04572335299716425,
          0.049238433163015204,
          0.048058012812939976,
          0.0409333566439905,
          0.0420630012983356,
          0.0451613070624871,
          0.035033869627069524,
          0.04310223671040096,
          0.05387895575782584,
          0.05159868280759865,
          0.04177388982172282,
          0.045632149971121964,
          0.051628533327363176,
          0.056585018280817585,
          0.06269049561253208,
          0.04871048201879516,
          0.05822715181039881,
          0.06904086266457737,
          0.04509148418741611,
          0.055136013387738464,
          0.04662659043293017,
          0.04129722367237748,
          0.04381186915010816,
          0.0469753720042456,
          0.05721269707863905,
          0.04482791587065262,
          0.04564107342504832,
          0.05230576700928941,
          0.04703286800082299,
          0.04042240771188453,
          0.04410638002936344,
          0.050387402937298764,
          0.050339620948455024,
          0.06569708401676562,
          0.038134529639234666,
          0.03911495778403995,
          0.04033148301471255,
          0.04399057992665845,
          0.05156865191675783,
          0.05132614574709616,
          0.05583301272787301,
          0.036866773112789596,
          0.040578096038118704,
          0.044847429162563165,
          0.04334800515232678,
          0.03907725273316316,
          0.0556972753689867,
          0.04897745245835646,
          0.05348633920793712,
          0.0477699529147141,
          0.0471749094201014,
          0.04589723282852935,
          0.05952853067343746,
          0.04918783035090481,
          0.06186055723445975,
          0.04593151490483127,
          0.0492368226041308,
          0.053813639801689586,
          0.04577469003878385,
          0.06283796763280992,
          0.061069578915413814,
          0.05283345134888309,
          0.05873380751311506,
          0.04850550687812742,
          0.04933287808670923,
          0.04755794550506152,
          0.04553389955548923,
          0.07032572631766756,
          0.036412579452781375,
          0.04271260943398329,
          0.2707539442286839,
          0.05341844792841715,
          0.059608526481702846,
          0.03685008114575713,
          0.039656295028817526,
          0.04962502146128322,
          0.040895213435126206,
          0.05318152111505088,
          0.05220542704719976,
          0.04006282938894824,
          0.04025971455888201,
          0.04383009713962568,
          0.04940456683306192,
          0.04224249742833886,
          0.04649171901001991,
          0.03277875171062858,
          0.04056286232470358,
          0.04044536956849431,
          0.04651786331735781,
          0.05674472870000364,
          0.047309777058111166,
          0.04316297713169812,
          0.045409488047726855,
          0.04117961214290404,
          0.04384480149282711,
          0.05289417224352278,
          0.04578665838752897,
          0.049023587415240856,
          0.041602887701238066,
          0.04752157021681966,
          0.039345981489321336,
          0.04687336885861848,
          0.05238988747383086,
          0.061553730595420755,
          0.05239289385409481,
          0.035550745379153974,
          0.0372851811690229,
          0.05243758976232354,
          0.0536094034623768,
          0.04637620226458827,
          0.04472359644527855,
          0.04855578490130973,
          0.06144226238190126,
          0.048536669325112435,
          0.05020263780868155,
          0.04259966221077054,
          0.04155417005161265,
          0.048158580907259115,
          0.05061701618801237,
          0.04574312220912651,
          0.062377985274533726,
          0.04032165540319208,
          0.04289577312772689,
          0.038501257280386544,
          0.0437398324854668,
          0.0517266279335728,
          0.04909316815557293,
          0.05106301937259055,
          0.06140717109951123,
          0.055903481633262295,
          0.04227059580520919,
          0.04204712152801128,
          0.034951575645242774,
          0.0479047325551134,
          0.03906801670989448,
          0.05220400678840693,
          0.04780639907391899,
          0.06279469541690817,
          0.047715308501709075,
          0.04654506729544553,
          0.04614671305981729,
          0.03773472646691422,
          0.03579481957175005,
          0.030618458671684164,
          0.048066696827197636,
          0.04473647525639878,
          0.036257980136424305,
          0.0452206343856987,
          0.041870600796500505,
          0.04485880783622999,
          0.04203480525152857,
          0.03433482158744642,
          0.04529464730893784,
          0.03933900259825641,
          0.03335480688348031,
          0.05221117299836207,
          0.030355970721974018,
          0.04401095430828714,
          0.043235489940099764,
          0.047724224471156956,
          0.037442504378878694,
          0.06069981943841647,
          0.0426106023218192,
          0.04220353550431038,
          0.03631617588455436,
          0.043576732977308186,
          0.050285944817426056,
          0.04873281127988077,
          0.03558008659308617,
          0.050015544550921796,
          0.035014143251738045,
          0.037529451430158345,
          0.05487677930581811,
          0.045840588054292065,
          0.04572761268149257,
          0.04667641033490402,
          0.04696940317327784,
          0.03946988306327869,
          0.035583243349792855,
          0.05364245859681054,
          0.06150040619259116,
          0.039791862133008456,
          0.04221893375704837,
          0.042360051080345226,
          0.04615520564352399,
          0.05123171455933301,
          0.038549306942419446,
          0.05092560793551044,
          0.04300794787080644,
          0.038026347539737354,
          0.03736167332985167,
          0.036612455005470425,
          0.04022282001230836,
          0.03525905862571052,
          0.04721996612191256,
          0.04703610916559769,
          0.04067872059829492,
          0.04516443837009751,
          0.03769440487657684,
          0.03626316667144449,
          0.05250486246950917,
          0.03546795107873727,
          0.04886946873505538,
          0.03483238280318518,
          0.04576725350913538,
          0.04977706709027352,
          0.04823911245221941,
          0.05245425241259273,
          0.035606845753099636,
          0.047287968487544886,
          0.053367219385038835,
          0.04744912831661165,
          0.0498483935978116,
          0.0528788182142709,
          0.037631794948458336,
          0.05033976862983984,
          0.05267010097269601,
          0.0377844287987433,
          0.04662105547763688,
          0.05063150358196264,
          0.049997410910197077,
          0.04527388072103754,
          0.04686681184154806,
          0.048138571833216015,
          0.04894267494238347,
          0.058650220699736216,
          0.05448724975197737,
          0.03719557816101849,
          0.03962762708478538,
          0.040938464517550725,
          0.05467106576722146,
          0.06351199384374022,
          0.04087666403696887,
          0.0502237766919827,
          0.034488462945316614,
          0.0690741507929886,
          0.04698528159792942,
          0.05678017786180445,
          0.07336904641144086,
          0.045657133443978704,
          0.045366860424764927,
          0.046115697228561646,
          0.04229289486155878,
          0.04935698499396998,
          0.0423633266338393,
          0.03787556889403779,
          0.05389639157630098,
          0.0558354399237087,
          0.05668114005241866,
          0.04740421479393512,
          0.04209324235384587,
          0.06212400641735376,
          0.05014254894691694,
          0.06438925548739823,
          0.03955493325142073,
          0.04703215321932106,
          0.048672795250064606,
          0.05173837681709834,
          0.03751356546971776,
          0.039886467933993926,
          0.04271113033602235,
          0.041417620071084627,
          0.04105689071976951,
          0.039823714100678725,
          0.042588111851787624,
          0.035270822292271194,
          0.05082745669094077,
          0.04630780063993488,
          0.042250349934098604,
          0.051767850333257676,
          0.04975999378628615,
          0.042215773070971456,
          0.04167484353997376,
          0.045389687175564755,
          0.044114737628933844,
          0.04225456631822613,
          0.05268002486920654,
          0.05839623745411473,
          0.04579312827722659,
          0.04545054182454865,
          0.05224768485388813,
          0.042265884463676295,
          0.06078621565881016,
          0.03389831165439856,
          0.04609278557410043,
          0.04662084804766121,
          0.045253913845982326,
          0.05198694079267538,
          0.047110848125772015,
          0.05717306703304619,
          0.043942137545849747,
          0.050799025855648994,
          0.04680908061023963,
          0.04077688667480335,
          0.04297589896788831,
          0.05965538792236064,
          0.03365096228588812,
          0.04354216745589591,
          0.058668672202521976,
          0.04446425174408915,
          0.039765227970695025,
          0.046250329968429316,
          0.05273820467518554,
          0.05468036948043695,
          0.04549916840599177,
          0.04205421431810916,
          0.07394695115032565,
          0.04403055563010548,
          0.03816874359642943,
          0.04511912360203221,
          0.05773462280843891,
          0.04159804215357344,
          0.05215916328942985,
          0.04545596513070074,
          0.04978260948143845,
          0.0613217745102657,
          0.07265095193556506,
          0.03510441476914708,
          0.03898923885200573,
          0.052487553061021326,
          0.04225431628121084,
          0.05673015550353983,
          0.1845241122707693,
          0.044294559691327944,
          0.06507892864194886,
          0.04561716598434038,
          0.04718434862322157,
          0.037165931931623916,
          0.05081786461857964,
          0.051676117746536195,
          0.06236397316180456,
          0.050356826916868214,
          0.0402238498409337,
          0.04967610827348731,
          0.04192708558024215,
          0.03956963166486229,
          0.04406581360290882,
          0.03692606889746567,
          0.041775408150293736,
          0.06425829490967484,
          0.05371399549244942,
          0.056947482356602026,
          0.050369316591552,
          0.048871072523494985,
          0.05380415220612674,
          0.04928773836109084,
          0.061018625742661696,
          0.04437301620672709,
          0.04558837961590706,
          0.051256575685306685,
          0.05005193074725039,
          0.042499521453093894,
          0.048599395337493995,
          0.06732762777442657,
          0.049135541139954164,
          0.24677259014376096,
          0.05282611285462837,
          0.059897508818891075,
          0.04568371534525762,
          0.041706150018088015,
          0.0568477607348044,
          0.03798431958679004,
          0.048054843010957915,
          0.05061328805076273,
          0.0587779584280354,
          0.040983263731469405,
          0.045112317287604654,
          0.051412377561516544,
          0.0633856304862955,
          0.055262028290353545,
          0.052597738986543886,
          0.04186723542516337,
          0.043231056490834426,
          0.05236775251380516,
          0.04568382467412286,
          0.03895298112393615,
          0.046789035599936704,
          0.04171226774008402,
          0.04888728812684316,
          0.04379833122344444,
          0.043199096637031115,
          0.05218871691600737,
          0.04749954024286948,
          0.03789930844312072,
          0.036755747240664514,
          0.05118099139193529,
          0.04556739185176122,
          0.048284519155124904,
          0.046467071911125556,
          0.04682525261637011,
          0.04620298283863335,
          0.047614051304764926,
          0.07002815470416754,
          0.042099226441795444,
          0.04639792151114807,
          0.04281685210851027,
          0.05987963394678051,
          0.04352170182120116,
          0.05125333213683082,
          0.04183654633484067,
          0.04780843662525789,
          0.059037354173930336,
          0.05193451172813508,
          0.04387559775516587,
          0.04237256724306235,
          0.054658252839373665,
          0.04036089545205046,
          0.05912649605868247,
          0.047333523878298825,
          0.04769442325334381,
          0.039684977088163126,
          0.03779500002787395,
          0.047189791431602957,
          0.028575525255735958,
          0.05199201309373428,
          0.055706690007041385,
          0.04049958542386703,
          0.03852863446541937,
          0.05875073348005741,
          0.042952486274830975,
          0.04960408129718572,
          0.06393848181571879,
          0.04907858809084059,
          0.038165109755178145,
          0.04334819929419427,
          0.043874734361819816,
          0.049357063458481565,
          0.0473557229816074,
          0.10867645052889409,
          0.042439969866072264,
          0.043223206313485495,
          0.03991667634857886,
          0.05118369945633779,
          0.054414421588330555,
          0.03519482264321995,
          0.04286964457661576,
          0.06133824846296206,
          0.04755812001514205,
          0.0510055312922816,
          0.0684690138723879,
          0.0801126530144981,
          0.03406949574994679,
          0.049558853708105484,
          0.04354138412634993,
          0.04804841618219472,
          0.0563603465740395,
          0.06118678987637385,
          0.037441422873912986,
          0.04930950996601995,
          0.05185821172638495,
          0.04966931274581545,
          0.04614144644754901,
          0.05068485640277951,
          0.07084240253523429,
          0.05010773315747482,
          0.04278039226342566,
          0.049337312100905,
          0.04026141540014953,
          0.042301506240577144,
          0.03471700158352078,
          0.03632950177935802,
          0.05442520747634815,
          0.05435213915547791,
          0.04795121030209707,
          0.044707191634269304,
          0.04445178875419842,
          0.05378480743781553,
          0.058003029528544026,
          0.04412903964295564,
          0.057561231382015465,
          0.051530078912624774,
          0.047515791138671035,
          0.043914650289537595,
          0.041876054219163315,
          0.051734454382144086,
          0.0349253830844423,
          0.046897563113719946,
          0.04812425898007359,
          0.043557243572463586,
          0.04263396643434462,
          0.038594659524901695,
          0.047657929940040415,
          0.06299958658225518,
          0.04438098993769526,
          0.04655222719597361,
          0.04885995371509877,
          0.03723849463499099,
          0.05229933997635431,
          0.049008578383122454,
          0.03548906759511749,
          0.04144959017362867,
          0.046594575507111005,
          0.044592716732423814,
          0.04547421187187924,
          0.0399377213055247,
          0.05031842165188849,
          0.04318624287742918,
          0.03779206746452138,
          0.04380752061176081,
          0.042497938316063126,
          0.046103692506069806,
          0.05956798808603823,
          0.05381648654179218,
          0.05048226329068541,
          0.045845940471711075,
          0.03774251825020535,
          0.0676653674421007,
          0.05129420265764003,
          0.05355310804150117,
          0.053203618811998386,
          0.048684864839522675,
          0.053312477866156824,
          0.05236034358476206,
          0.05204574216400296,
          0.03927639376615928,
          0.04584237433590594,
          0.06628827004909754,
          0.04173447157682091,
          0.04270768057606484,
          0.048012162432947494,
          0.0480101080056047,
          0.048605746014069195,
          0.04917663243951675,
          0.043268231801503985,
          0.039304869962437324,
          0.04493510412421241,
          0.04803344101956911,
          0.03580047636510771,
          0.05055934372053766,
          0.04707517080484135,
          0.040483111874488116,
          0.041909887658728266,
          0.05145618260127865,
          0.037868747198806285,
          0.04956907022374062,
          0.052155355337678115,
          0.043512877552539214,
          0.04721033673123211,
          0.044704828377732306,
          0.06332474970826338,
          0.04852262702314038,
          0.04275535238189734,
          0.0498663719052977,
          0.054548544116539144,
          0.04930991252880803,
          0.05276559916071857,
          0.042638853046437344,
          0.05207415377349837,
          0.05862670021053256,
          0.037158470481434,
          0.039966535417763356,
          0.044685179728378675,
          0.05061568294529543,
          0.066690418731757,
          0.04928877751857763,
          0.04072396363298434,
          0.058265531386485395,
          0.04958513770801337,
          0.04167327871913136,
          0.05602982732462975,
          0.05229257021575053,
          0.0484982896037829,
          0.06426702798832368,
          0.05262423851173711,
          0.03336275339925732,
          0.04200736666996477,
          0.03898059501950893,
          0.03889698412689139,
          0.056638129098248564,
          0.04784811880802827,
          0.04917486150060536,
          0.05244448131869396,
          0.046139505881927986,
          0.05411367310436329,
          0.053462338177534235,
          0.04923723606681218,
          0.03510787622685372,
          0.0396885364887287,
          0.04677474450419801,
          0.041496316483474516,
          0.04930987642860772,
          0.044821671392781634,
          0.03601090816056949,
          0.044634039533338735,
          0.05654133236175207,
          0.05147900884933074,
          0.387985024472406,
          0.03980673347099511,
          0.049521133851112197,
          0.046149862934694585,
          0.04388819259813791,
          0.049319856916372896,
          0.03695992911596859,
          0.05654394215334616,
          0.038700656905623895,
          0.05031152840477109,
          0.05069191155540916,
          0.03862707255697071,
          0.05410988949501429,
          0.04719588930943361,
          0.04628820400783976,
          0.037108631786595236,
          0.041144649204101956,
          0.05018044196447989,
          0.05630437811887547,
          0.059975563687906824,
          0.0392750434616914,
          0.06326117137165439,
          0.05279790587239655,
          0.05007047294045704,
          0.04725099907252087,
          0.04466257010097819,
          0.041860961892307105,
          0.059742460856138345,
          0.05272613636731416,
          0.07073989120921464,
          0.046240180809973934,
          0.05732280998248133,
          0.06328901401807015,
          0.04315733634911702,
          0.051797550775767524,
          0.055085418943933456,
          0.04988490962743307,
          0.03278305245585758,
          0.03832700816019912,
          0.041314906692284346,
          0.04721323635121888,
          0.04632749607185676,
          0.032586117088830975,
          0.04414955785805362,
          0.035009820383562755,
          0.050704653795913025,
          0.0486680650041911,
          0.048098067342786696,
          0.040781272627697096,
          0.047420381118878654,
          0.03397164201914879,
          0.0566865442416906,
          0.057862972369652294,
          0.33314241215649615,
          0.04396319409540262,
          0.05154877800054198,
          0.060299559228411966,
          0.04950928348636605,
          0.05213362954571858,
          0.05360962370018231,
          0.04464081030401127,
          0.043199476809155986,
          0.048380094235575204,
          0.042088524767888005,
          0.05013588540288504,
          0.044400167434215744,
          0.05261726327246874,
          0.043577887560254776,
          0.050845696164918484,
          0.08878811522745823,
          0.06115998913904757,
          0.07606425342135195,
          0.07643493492110222,
          0.07601676725844464,
          0.07115663173994775,
          0.06579938549701402,
          0.09544588611528426,
          0.04074362207822038,
          0.041835928539758545,
          0.04084105386889689,
          0.0507911412846142,
          0.04534604835400967,
          0.04199742118499922,
          0.04707044736691049,
          0.06409454584848354,
          0.05538549866158066,
          0.046639466799434155,
          0.03067770181594669,
          0.05827178719961615,
          0.04558347051480306,
          0.04319497509410177,
          0.040546772904359395,
          0.03895297692919498,
          0.036270596245422664,
          0.04562546330206853,
          0.06461605102093239,
          0.03684493952277789,
          0.0605346193966533,
          0.057354625365485065,
          0.05680631956207794,
          0.044570318098172856,
          0.047116729419206756,
          0.048831517242632405,
          0.06229259653274904,
          0.03725517749983357,
          0.05273707426677656,
          0.036190405368383936,
          0.05024674094873542,
          0.04055752002467641,
          0.04595679225224216,
          0.04361687976147572,
          0.04852402295515787,
          0.037512146006840705,
          0.05458216244695672,
          0.06566557825650512,
          0.037345596950654175,
          0.039543647733507714,
          0.057195090965021345,
          0.043024266387528466,
          0.04124101546466054,
          0.05952323777186689,
          0.030598732093381847,
          0.051846023184623224,
          0.0554187514299762,
          0.041806856642939885,
          0.04307928534664887,
          0.055468537930732614,
          0.035651640625701024,
          0.03269551702349633,
          0.05125188206584077,
          0.04537919769328946,
          0.049622440185280746,
          0.04449873969531343,
          0.042796733669231854,
          0.042529324131188984,
          0.040364782565207265,
          0.051061799568147076,
          0.046380174236549665,
          0.05110311530071609,
          0.04101845794997672,
          0.03703281296689393,
          0.04455307679137226,
          0.051025872805026164,
          0.05320505712235964,
          0.047209993941444595,
          0.04753520709664074,
          0.03308802322666122,
          0.03996273078006397,
          0.04424510812560483,
          0.038501067863529664,
          0.03461955572403103,
          0.06713126091324069,
          0.05384472099254461,
          0.046080790653559855,
          0.04532351172138401,
          0.05450235894510505,
          0.04224233025498525,
          0.051161822971681314,
          0.041241505997628575,
          0.046214606623521656,
          0.04760568624757153,
          0.029269998601346676,
          0.03785058309592377,
          0.04982674789569218,
          0.05417143494413714,
          0.05334148488683312,
          0.0440041991184049,
          0.0451071097255913,
          0.05215814796041117,
          0.0479982173842883,
          0.0477246884072938,
          0.04561736208125444,
          0.03623460742635066,
          0.038322012850229674,
          0.054963709047444534,
          0.034607199372716536,
          0.04156832541717065,
          0.042630919098228436,
          0.04207066292561827,
          0.040520135350279984,
          0.04302490332889569,
          0.07023432100467045,
          0.04633725695002706,
          0.05592785660493205,
          0.05109968487812844,
          0.04444550195387295,
          0.04438081070893494,
          0.04044174045774648,
          0.04201366830526134,
          0.06218997512129293,
          0.0459019904253456,
          0.03267277850387562,
          0.05662977251293674,
          0.052515647293026164,
          0.0570338569768854,
          0.050901134623269687,
          0.06344090283051405,
          0.0426974915261337,
          0.05661486631080412,
          0.04791298246986721,
          0.040006454935561,
          0.04908844901114108,
          0.05474808691670082,
          0.05182717303993681,
          0.05071081334596048,
          0.0357949332427098,
          0.06008869974969464,
          0.038539514746220103,
          0.06150458827779732,
          0.05785309393574807,
          0.07865628711337617,
          0.051001284547795386,
          0.0528242854317828,
          0.04874060792127241,
          0.06185010072230795,
          0.0576447441575821,
          0.046666374456649784,
          0.04265812787204532,
          0.044701925827490184,
          0.05074450947057283,
          0.04648363514840786,
          0.046276331994898334,
          0.03993144628783469,
          0.05587132948721979,
          0.05098123268565176,
          0.04757720402013422,
          0.05659724285439156,
          0.042527474434544896,
          0.059113696762354825,
          0.042411167872653054,
          0.04487692312614599,
          0.05370669416586118,
          0.04513807977068946,
          0.04583796085575518,
          0.053216755596063245,
          0.03943878241360659,
          0.04275447833791322,
          0.07049281691252794,
          0.06076173143683624,
          0.05508405497362429,
          0.06058678855441958,
          0.04778578661401762,
          0.050489174255434,
          0.05077633708614155,
          0.05014184070502633,
          0.05566077102005858,
          0.28700572576616046,
          0.05048986944643678,
          0.03225195046656822,
          0.06351022409534263,
          0.04820690357592709,
          0.05238398969659637,
          0.06004153581440477,
          0.05708514036758533,
          0.04193556180317417,
          0.04576984713813887,
          0.049763299822080144,
          0.06824576446884906,
          0.044612998536622775,
          0.05354740931094272,
          0.06365294117516677,
          0.05298966245337535,
          0.0482913739963726,
          0.0631515942110058,
          0.03990193280565323,
          0.044193796898989224,
          0.04109999756540924,
          0.04941555469277551,
          0.05128447176527962,
          0.04517807488794175,
          0.0599549448249621,
          0.06027171754174263,
          0.05822341285982661,
          0.047908759051975766,
          0.04747538063492674,
          0.05605924791578939,
          0.06483163686773911,
          0.05782359553565476,
          0.03877303082122846,
          0.06830721847256013,
          0.04910221221299528,
          0.05881021323109232,
          0.06710205048996291,
          0.04891190605823163,
          0.04615644384781089,
          0.042967502280886936,
          0.0526199769224395,
          0.10549147333866075,
          0.056681143308232124,
          0.060795120736428794,
          0.047748090173627494,
          0.08846746997115001,
          0.0542882898605453,
          0.04665174972452012,
          0.04901331022531276,
          0.0679997788629311,
          0.06698907086817321,
          0.053381770440350675,
          0.04081148525989939,
          0.05459710873187981,
          0.03807122725020451,
          0.033137050502898016,
          0.04071319768730835,
          0.05555050708588783,
          0.05349827596824009,
          0.05484891459284912,
          0.044464571578432234,
          0.04656423808539168,
          0.04399063291423695,
          0.06336362391128397,
          0.046274591462106135,
          0.03508632640847604,
          0.05256579229382466,
          0.04719835795994827,
          0.02839095211592893,
          0.0344071853199617,
          0.08057030216888977,
          0.05070399665374532,
          0.041124662627033015,
          0.05501673139215707,
          0.03863524958783522,
          0.0439013318111063,
          0.05868602241565877,
          0.044981331793891986,
          0.04560234199429134,
          0.05287140482655259,
          0.060161559211385086,
          0.05130893049899025,
          0.04040479138591654,
          0.05072914822439853,
          0.03245777508782662,
          0.043159777494650484,
          0.047611679527270676,
          0.04299207849395473,
          0.05492436672083758,
          0.05889699805935191,
          0.038256067686199165,
          0.03887399379920921,
          0.03646242667550595,
          0.04394552755754022,
          0.05717881653502155,
          0.037864418785341254,
          0.06046737478752524,
          0.049364361049175486
         ],
         "z": [
          0.06463871148157942,
          0.048039729400128434,
          0.2527109920462684,
          0.06449118927721219,
          0.04072887800814054,
          0.041153555500043376,
          0.37762030033470056,
          0.05577928823161912,
          0.0672545519141238,
          0.05349218087829714,
          0.05791258905486468,
          0.042120407877126474,
          0.07754037151716464,
          0.04657172621606761,
          0.05707291559701001,
          0.059074300131829245,
          0.7385442396274708,
          0.044072790240812426,
          0.05090153949662739,
          0.044346273767476234,
          0.058158706611685373,
          0.038894022898218104,
          0.047645989789760604,
          0.06697075583483149,
          0.07084917910214618,
          0.675118376483903,
          0.05034283775174502,
          0.054680827447452424,
          0.0642228016027865,
          0.05900724344607548,
          0.06266810187946546,
          0.19209675437747045,
          0.5093746469661556,
          0.05764916167626885,
          0.054409733990008605,
          0.06449709494292984,
          0.055380037210461315,
          0.05221962919688513,
          0.06837276668719137,
          0.48845183468781117,
          0.07497970896638781,
          0.07324919954693322,
          0.38360194182330337,
          0.8546271395051849,
          0.8396870862014637,
          0.051827866374691126,
          0.6987951616056952,
          0.043161796868786136,
          0.06771707492072727,
          0.07154631210900046,
          0.0608300835112974,
          0.8856948145991077,
          0.05112104764336682,
          0.059239203831094364,
          0.06394646231378383,
          0.0488671720996547,
          0.06734804948492953,
          0.051062617717100946,
          0.12080878933186737,
          0.05968889695728794,
          0.04397195355205929,
          0.7541404101849917,
          0.055740300267256605,
          0.07001823419925055,
          0.5476069585776144,
          0.050176368858011064,
          0.06376701202333213,
          0.5999729394746156,
          0.055057176903096194,
          0.5965298307227833,
          0.3139006823018156,
          0.053013870987551004,
          0.8756488738226037,
          0.058503470112603685,
          0.06749758623089304,
          0.05017696746500758,
          0.04334712914360223,
          0.3338975886605732,
          0.5307405811993354,
          0.05601766556924262,
          0.3607818691912348,
          0.04134082118047304,
          0.06439592671403349,
          0.06279965648045868,
          0.04897198637312887,
          0.6237918712809775,
          0.06402693235199673,
          0.05065686993070618,
          0.06461320422246102,
          0.061939965466938175,
          0.050742654757098125,
          0.05667190877044014,
          0.0628078775221574,
          0.047594998362000325,
          0.04484574943816929,
          0.822899443353329,
          0.048831723119700465,
          0.062363161946115776,
          0.04570301237458384,
          0.038397498029568176,
          0.28741198287994635,
          0.310907266692094,
          0.2817921728163093,
          0.44363713836742763,
          0.07496718629661533,
          0.06471438046694375,
          0.04597832740213848,
          0.3318245411167133,
          0.868463228061033,
          0.05272283964647104,
          0.34098168181461724,
          0.06708686734284808,
          0.2874448797935258,
          0.051926456744974196,
          0.05885989885313193,
          0.20448391695510207,
          0.0521059911830856,
          0.057174006571267276,
          0.8585636021184835,
          0.05631372646429145,
          0.0667222806750306,
          0.05423869314502559,
          0.04918192342410496,
          0.041747121295608314,
          0.3951844944919243,
          0.0502399790122956,
          0.047387599107717025,
          0.04219953831167495,
          0.05427997053034157,
          0.04786103054949833,
          0.06180400321956566,
          0.053844520721420895,
          0.05781041644851215,
          0.0822748145020032,
          0.06216674341083038,
          0.07063470595979394,
          0.05354764907150808,
          0.6634400256453122,
          0.0687285881524641,
          0.05903739309274806,
          0.8765689635364516,
          0.06646757048601577,
          0.056557050591569395,
          0.06776780687032008,
          0.5287018787444732,
          0.793185318385266,
          0.06124312536600333,
          0.07097129271175602,
          0.05024595187650663,
          0.0706166147126332,
          0.8090796451953319,
          0.05622570654594063,
          0.05340682506224367,
          0.15076948698917256,
          0.06931426809312383,
          0.0538092739830472,
          0.061484236311352296,
          0.054924102531402216,
          0.05990110352195219,
          0.0767219510735408,
          0.09368874893849097,
          0.6243794129854479,
          0.055570518983290136,
          0.06830557885981658,
          0.06925933199734725,
          0.6713454919901177,
          0.04803848780084623,
          0.05667433372235364,
          0.05437609980615688,
          0.5348956440295674,
          0.8233428728848184,
          0.05809172488077689,
          0.06393224612675974,
          0.054936514625907665,
          0.05678588476040264,
          0.05674701765324119,
          0.050015449580511795,
          0.05499218694416752,
          0.07096560580192357,
          0.06390672284258621,
          0.0639892912203099,
          0.8526652575694654,
          0.05652250539480778,
          0.05817410455608798,
          0.07811855398643087,
          0.8816190470016472,
          0.06121647762571218,
          0.06488369060216878,
          0.057864962270241155,
          0.0535284609634173,
          0.05290588835382928,
          0.061350328940278614,
          0.5435351314635578,
          0.06755078811543522,
          0.053688378776110476,
          0.07823986226259672,
          0.14414330703519468,
          0.825412328196563,
          0.06477451524268378,
          0.062377006835715905,
          0.051621991132662706,
          0.04961435175840569,
          0.05611632292000708,
          0.06590487616670926,
          0.052819172084675146,
          0.061553794346904965,
          0.061823924445322614,
          0.7072416962372158,
          0.384433530552315,
          0.05832736544219005,
          0.31151414531241417,
          0.0813458458944737,
          0.05556191332190706,
          0.05985655104816261,
          0.0517363971947678,
          0.055718607825622546,
          0.04408536339680298,
          0.04319866214307442,
          0.056312781172887835,
          0.05059448498013505,
          0.06669676574667757,
          0.8671225969153604,
          0.04952851069930951,
          0.05821833060007618,
          0.052483747512113633,
          0.05732858766760981,
          0.054261217950166724,
          0.05246956098935734,
          0.8488033825890139,
          0.07931554319538225,
          0.7951096503354509,
          0.29038830649896363,
          0.045443191588264,
          0.06092548323533286,
          0.041006157368774,
          0.8685927854181165,
          0.25530688540820856,
          0.06420044489908117,
          0.05493346673188456,
          0.041127842600115504,
          0.06520413538920732,
          0.2702751075639827,
          0.06439129827450174,
          0.04896150256322198,
          0.05228779377615347,
          0.1882687053312247,
          0.8896750661346378,
          0.6596537513398737,
          0.06260998595469816,
          0.05374714191900542,
          0.059133429073879765,
          0.03597001199095957,
          0.051540447416440954,
          0.7520833940648182,
          0.06488271028358152,
          0.17189703087749938,
          0.04995506273400961,
          0.07569108572967165,
          0.8338347069179689,
          0.05241794704619034,
          0.9075057669909209,
          0.2648470456622213,
          0.04796023534820221,
          0.049243110662317485,
          0.044431443799298725,
          0.04890798818244873,
          0.5092715167450811,
          0.35334566585478,
          0.21952547087701524,
          0.04055059553893074,
          0.05733345517860547,
          0.8730042132982965,
          0.435168996668727,
          0.054010016680706915,
          0.08571018072949448,
          0.05632397475980779,
          0.059252850890531075,
          0.051557676456007895,
          0.05230374337004411,
          0.869443652161213,
          0.04840878156574835,
          0.401490752283918,
          0.06431667849785498,
          0.45374510902785076,
          0.06296099235590794,
          0.05493297393775472,
          0.05560916781665832,
          0.06418956558088204,
          0.15992017947863446,
          0.4123194487875931,
          0.22899375671715438,
          0.07560893195193485,
          0.8807930863044818,
          0.05110974195878393,
          0.04565345935540714,
          0.07178221775904621,
          0.8556366914763073,
          0.061773380877058866,
          0.04791137633656707,
          0.7621658780625095,
          0.6470766984404019,
          0.04719130682488823,
          0.8732277898246588,
          0.05731863343357523,
          0.06957892607334312,
          0.38466648807157555,
          0.05724615378257889,
          0.053564811060624044,
          0.05705306319828535,
          0.0778578978233079,
          0.08382600882151481,
          0.05011062914684134,
          0.5797764605795529,
          0.9090192817553838,
          0.054414792789358055,
          0.054368557331897806,
          0.05374960591943999,
          0.04774077903995952,
          0.05785468845702846,
          0.05192443181456585,
          0.06682541115614464,
          0.06093140259656326,
          0.40879775959506215,
          0.058739702211225514,
          0.12214660895321929,
          0.05625839568766967,
          0.7828128373056688,
          0.671438043380189,
          0.48118743267417796,
          0.0500005673640206,
          0.04890610012282242,
          0.03488582994419788,
          0.05412525797674831,
          0.049868033720143035,
          0.05843548998915452,
          0.058322490625152976,
          0.055532498239328015,
          0.06234108642923333,
          0.07966634653730957,
          0.06743490094243126,
          0.3708747143688283,
          0.14405166801344155,
          0.05996367848502391,
          0.056773559756781986,
          0.046659931396531705,
          0.07277252830954808,
          0.050189055053371734,
          0.05876984710222314,
          0.12365148643075557,
          0.05115735410380816,
          0.05452807787258782,
          0.09321848927842581,
          0.07113992870762839,
          0.05484056331108979,
          0.06717542812245768,
          0.43483888627945333,
          0.06106294911691261,
          0.06109133141335754,
          0.052520574150168885,
          0.06481085917046205,
          0.05224100917456972,
          0.2603480399032415,
          0.07440498614985361,
          0.8327353732914418,
          0.06453400977006096,
          0.412595216578749,
          0.06366982740202312,
          0.07288165311952892,
          0.06157782855523883,
          0.059767301725507614,
          0.3496839319394185,
          0.630366470004762,
          0.865966871612827,
          0.8814770342183025,
          0.8777815036842413,
          0.5210002974861241,
          0.10793774864325738,
          0.5891102263851117,
          0.08573714064018738,
          0.10123816497430393,
          0.3088763195426136,
          0.07458004948270705,
          0.318856109405818,
          0.8536645463813691,
          0.8368259033168464,
          0.0626737487924656,
          0.10096187617060982,
          0.05245531217146578,
          0.5276880021119502,
          0.07105582659044464,
          0.05980765395689622,
          0.048267659475800924,
          0.7038200455214118,
          0.06250744525685421,
          0.04175651986813674,
          0.8818062593961014,
          0.05455944113503098,
          0.41304335380708024,
          0.47702429537737523,
          0.06975078175014326,
          0.0666110661772896,
          0.8466224386876254,
          0.05619821713459323,
          0.03853722616266659,
          0.6944404857045771,
          0.6424982048730888,
          0.08208720562758073,
          0.15023479236683548,
          0.052337212101558624,
          0.1858921700478988,
          0.05079129870073095,
          0.0603162017733838,
          0.3311762668601352,
          0.0937123533770032,
          0.03874049708874626,
          0.04543224815607715,
          0.1642476141217245,
          0.06979646589918233,
          0.0608915776059942,
          0.05184538446051303,
          0.053397749659045,
          0.0596950813644472,
          0.05371127127354437,
          0.05383019482606224,
          0.5234101988148431,
          0.05424649755406362,
          0.07692770521134377,
          0.7009654046422802,
          0.7274306059040923,
          0.8662966045821823,
          0.05109697997838462,
          0.04897830716296088,
          0.04788627116805226,
          0.05512155743817995,
          0.04705387725559651,
          0.04893778363926233,
          0.04921398438368457,
          0.04579564845369308,
          0.7896986597998471,
          0.05836568107609395,
          0.709375693457721,
          0.056515267661377405,
          0.052540016789310744,
          0.05123120588781839,
          0.057235755707439905,
          0.06721843552272029,
          0.33307803954694915,
          0.05047441926961084,
          0.062455969170310224,
          0.06746402723035475,
          0.06244737119250595,
          0.057890085271517976,
          0.6670024729438242,
          0.23794783643244494,
          0.06280996864569646,
          0.07844791100350902,
          0.06540034424549826,
          0.05975124368759107,
          0.06618326693764805,
          0.05038762507970541,
          0.06963126696474638,
          0.053471861727453225,
          0.28246794040639206,
          0.054674231770875846,
          0.4129015456563375,
          0.8820974011339744,
          0.6827809546921392,
          0.04440564076162865,
          0.054659833272313066,
          0.05634767072994551,
          0.10926717647327354,
          0.07609358695820988,
          0.055387962199726644,
          0.06445346159051103,
          0.08207964775386349,
          0.5804736513947444,
          0.2387560574141432,
          0.15397265050901318,
          0.05626884345922871,
          0.05712254467835719,
          0.05738774104277183,
          0.056379899956697864,
          0.165751125001677,
          0.055424826068562555,
          0.06953970623662274,
          0.06345052450541926,
          0.061167096866548074,
          0.870748556747021,
          0.049483612164153624,
          0.13872563490110265,
          0.05225714172324069,
          0.051396575531186456,
          0.352832858193176,
          0.29811972690077415,
          0.06047936287333509,
          0.2967996702780113,
          0.06234253356845603,
          0.04462456233929449,
          0.074362428160913,
          0.42115037756935025,
          0.06023836071105455,
          0.15717837078329552,
          0.0589042752737377,
          0.07557721988279013,
          0.0639838527749975,
          0.06949878736608707,
          0.06118406641259725,
          0.052580893520961534,
          0.06192745417576845,
          0.04431152302648335,
          0.04567409185970989,
          0.06331180175060003,
          0.06398070587381531,
          0.06679919110357369,
          0.5252154708573736,
          0.06050195363986587,
          0.09381534305386544,
          0.06909071035378353,
          0.06097517993119029,
          0.056377157239146124,
          0.24732442930926776,
          0.05346838992220523,
          0.05766531290230178,
          0.05514448515970683,
          0.06319238974719607,
          0.040868188825871836,
          0.07360742242707109,
          0.04217407930141758,
          0.05844630718380828,
          0.05000264336918939,
          0.0555872883079715,
          0.74802463788509,
          0.05666553790857121,
          0.06437763412188031,
          0.19871107952747977,
          0.057754456565789564,
          0.057383120555867535,
          0.059584771345380455,
          0.24232142293558015,
          0.04650302319005408,
          0.8871498699331586,
          0.052342314501759135,
          0.06180909058349821,
          0.15431025054593447,
          0.5446206969250356,
          0.05103250254976281,
          0.590108129955805,
          0.044582599310923406,
          0.05127180616731786,
          0.039185334798163086,
          0.8627675810670037,
          0.5757010605218441,
          0.8738085471067363,
          0.06153824433720962,
          0.07284010809850633,
          0.06098648014355953,
          0.06805268253147183,
          0.04940934484478632,
          0.041499095897371434,
          0.05132329924360888,
          0.0589286161290685,
          0.06621917182880771,
          0.05924632551695941,
          0.05819750366527137,
          0.046977565261302354,
          0.05743447497452687,
          0.044940343479243285,
          0.06758900379045855,
          0.048790826880964526,
          0.06014863814461129,
          0.0447492720503668,
          0.05532280572265431,
          0.05561483818254054,
          0.059833849698413794,
          0.04880588796914195,
          0.04883161253574557,
          0.05393791413813914,
          0.05909920106300213,
          0.049507778501988724,
          0.48982443687067495,
          0.205241557080612,
          0.07185470907622526,
          0.059203336344015416,
          0.0443952849859883,
          0.04416676223749709,
          0.05116520453094134,
          0.05763176411411275,
          0.05959062627739398,
          0.05205213227438321,
          0.060204507772198636,
          0.11893705873262232,
          0.8633282329278782,
          0.0601315621376662,
          0.06740012167077519,
          0.061844227293250904,
          0.07870257057405718,
          0.4348375818433704,
          0.19443463193333216,
          0.04897949387974906,
          0.04495306344204185,
          0.060199064997486,
          0.25629254663212975,
          0.0512977071051583,
          0.8390252828639723,
          0.05495808511801009,
          0.06783270412882485,
          0.0634362412314976,
          0.8655206710359888,
          0.4458515295073911,
          0.04834365064842052,
          0.05756403231446807,
          0.06374952325537517,
          0.053902884995813055,
          0.15764287043907305,
          0.6710291262704875,
          0.062104145480806304,
          0.7361591146296064,
          0.0646574201430287,
          0.08367344621491328,
          0.044530432583102256,
          0.5160045745792993,
          0.04770514150846014,
          0.053893176040894074,
          0.06160103663144257,
          0.05954613486972919,
          0.05632073625055831,
          0.051880301620979875,
          0.14985444242839752,
          0.4837290675657603,
          0.057633020723969496,
          0.05366706153297825,
          0.04673536454706786,
          0.8644767067714576,
          0.8957346298325725,
          0.9047098236025423,
          0.0546656388987186,
          0.531866131508903,
          0.06563386079241144,
          0.04847036045268032,
          0.7864941305684686,
          0.4268381855129247,
          0.5939712061167383,
          0.037792986963859666,
          0.48491350236404296,
          0.059107511080029124,
          0.860736894046739,
          0.046942564553101446,
          0.24334530665384255,
          0.38320847203725183,
          0.042340262875582776,
          0.3272490063770386,
          0.3793284339285988,
          0.7972604558514602,
          0.03954374171718192,
          0.05565642202728913,
          0.04995169522992136,
          0.046649648953625326,
          0.6440666765815559,
          0.07615758991321393,
          0.05725950308494965,
          0.05237958527157416,
          0.05453435801573496,
          0.5984754165962844,
          0.05596273226142587,
          0.051285525446192706,
          0.7623086642039459,
          0.8601106661709952,
          0.0351793887921356,
          0.4381678112875791,
          0.06863341687317404,
          0.6105458849443448,
          0.05557216654788821,
          0.0498216381977438,
          0.09101778581529509,
          0.03602357488850011,
          0.05305880994651859,
          0.044826359898288204,
          0.8837925110491214,
          0.04710923535304265,
          0.5890656212653824,
          0.1933152028731844,
          0.05889044267130313,
          0.06328091291454002,
          0.05460644463607118,
          0.7573954480149786,
          0.04979523670955107,
          0.05187553480602414,
          0.051534746253001924,
          0.07364551969060201,
          0.040911541720854504,
          0.08610056383630695,
          0.05471098278259336,
          0.06276962405226258,
          0.042539944635532595,
          0.045501766356530984,
          0.04294601619529471,
          0.05192064811931366,
          0.047459969882924245,
          0.06675760380195041,
          0.05273520537272323,
          0.2060538826373946,
          0.044718272856883456,
          0.5022931773144828,
          0.4095238074456494,
          0.05854894332305653,
          0.43860178872806427,
          0.7329427000831493,
          0.5240315704420523,
          0.8920434738483988,
          0.055810705010170165,
          0.5437436214117012,
          0.8957948704580045,
          0.894307083337822,
          0.8913738195645987,
          0.3379557131597751,
          0.6587034792294633,
          0.665121753591996,
          0.652225098973111,
          0.060064448476650247,
          0.0486276862857546,
          0.4129383327693595,
          0.04034516901953114,
          0.0864134010770084,
          0.04911636479832758,
          0.05378444533048581,
          0.08605949821406893,
          0.04677605638526904,
          0.08675295909992387,
          0.8905054278531881,
          0.886785186232081,
          0.06718539399116599,
          0.7674155680543097,
          0.8476895952244691,
          0.08167470491598922,
          0.06602424529677395,
          0.051248635582743465,
          0.0553568158554015,
          0.14853885561510577,
          0.5458424394098604,
          0.8971034353186214,
          0.41148640307841833,
          0.04922632299467256,
          0.0672543719212014,
          0.8391051369211586,
          0.8954055233458029,
          0.8801523298782751,
          0.05561659294054841,
          0.043234671614783324,
          0.8883345856605455,
          0.0480476003896954,
          0.24543024602586397,
          0.8453300062966383,
          0.1980495724463697,
          0.8462011319829146,
          0.7567383317900751,
          0.04509615316846478,
          0.5262319533142951,
          0.4832409646363573,
          0.9083823708166177,
          0.8846897888355301,
          0.8922025321331464,
          0.8932002516173961,
          0.6771395210188359,
          0.8549486724723396,
          0.04277290190034631,
          0.05047586677481136,
          0.061808601139530975,
          0.3363217091485053,
          0.18046396402895498,
          0.8040222588323382,
          0.049190298469280296,
          0.04372697836821645,
          0.07066363478856959,
          0.8031076436164648,
          0.900968867960973,
          0.05584776622696413,
          0.05566938117602646,
          0.0524342015021278,
          0.41441350480462597,
          0.3684391663337369,
          0.052874428207593076,
          0.06470573921467276,
          0.885522503770642,
          0.6995491890358525,
          0.5682717768661465,
          0.05730095615266373,
          0.10012883923010575,
          0.24314212727130186,
          0.06264437829077668,
          0.529306270727869,
          0.15604453188125791,
          0.32272319326463794,
          0.057540076506950484,
          0.5811327096196471,
          0.04604326037672544,
          0.2102872224835637,
          0.057064861582481405,
          0.05178883357663475,
          0.9117701713814794,
          0.7649058285043411,
          0.4976404450774854,
          0.07966177683724796,
          0.5462500570743197,
          0.6890744831912273,
          0.05492343694412806,
          0.8875133941716,
          0.05736230619116779,
          0.046080963053753504,
          0.06160056188248287,
          0.056095975261454496,
          0.09636455187228994,
          0.10102543326174802,
          0.406627248963145,
          0.04717705936275151,
          0.8767505518121607,
          0.058139402199853446,
          0.8057765659186024,
          0.89100761249964,
          0.6213138213947599,
          0.8955309774416376,
          0.8939650892839768,
          0.5526926339077638,
          0.777744632754016,
          0.7131661045029836,
          0.053774476717649344,
          0.6975811225858095,
          0.8901771038993562,
          0.8751460011075564,
          0.9069875005035359,
          0.0696089854572129,
          0.045683813496465456,
          0.5390304734186139,
          0.048040112453226896,
          0.9000031552509199,
          0.46821437095458146,
          0.9017157817284832,
          0.8898884806253832,
          0.877805731665301,
          0.5627117561456367,
          0.898431289238207,
          0.06161291160404199,
          0.04535170696505534,
          0.04423909022063505,
          0.6145968397633866,
          0.6814224333648281,
          0.8034550174226079,
          0.6948558933963491,
          0.6858158694031294,
          0.2658295061197262,
          0.060383925740686004,
          0.05817352936556938,
          0.05417638400198919,
          0.9064049397565384,
          0.42825789703082556,
          0.5498189527335701,
          0.057935091322486136,
          0.7491834696152296,
          0.06016045751566881,
          0.7685157151260112,
          0.3708313453477446,
          0.8778957289429765,
          0.1694170555520525,
          0.23285085000249942,
          0.9047653078321539,
          0.8924358475449918,
          0.11834974538514685,
          0.34984726774776653,
          0.44459401723195174,
          0.8713269965787639,
          0.8840739237945955,
          0.06787605124826465,
          0.07532657804709701,
          0.8503700423508449,
          0.0710814285493432,
          0.6265348409757213,
          0.9083518513841009,
          0.6573437422538191,
          0.8129099243150752,
          0.15502336557657587,
          0.5034343640347652,
          0.5724436819840303,
          0.5336287765457398,
          0.05288086056258413,
          0.8885447370038251,
          0.5612504209628373,
          0.6898757750188694,
          0.08757688075390425,
          0.901221808807602,
          0.9108256115834324,
          0.8820621265015104,
          0.07160962278211151,
          0.45775629797275535,
          0.733670300233244,
          0.8677060448385481,
          0.8829571833083485,
          0.8107633043098257,
          0.3560299819547825,
          0.34121528296853054,
          0.5327339199514384,
          0.3383848856624136,
          0.04937460716052866,
          0.45594017799147696,
          0.7935653063220586,
          0.1464595877622898,
          0.9084188930371072,
          0.6432646642621944,
          0.046334341584306306,
          0.054183884698591665,
          0.8334377169121139,
          0.07493627778388173,
          0.2715024316468035,
          0.5290147431501826,
          0.585603229861011,
          0.5573715856962976,
          0.04389620722938881,
          0.05633625984393749,
          0.09547958523170164,
          0.22209952009611325,
          0.9111217539559028,
          0.04993840794581204,
          0.058545817070138194,
          0.07177174351937615,
          0.8884900806651078,
          0.8479046089495738,
          0.6308227080041312,
          0.8831367239864844,
          0.047934042364543857,
          0.039831365537212844,
          0.058062804076155966,
          0.0592018772430001,
          0.05118738992546962,
          0.048982208940698435,
          0.05171039919249747,
          0.06041673259117979,
          0.07603356005261595,
          0.04307566656908357,
          0.5563642259501256,
          0.15462951378562967,
          0.7335218674448071,
          0.06425075211554183,
          0.15841708466136523,
          0.29821041832018474,
          0.5538212391339151,
          0.8779459626621452,
          0.04181344165809145,
          0.07520855231006487,
          0.06548773711664362,
          0.09506421944046815,
          0.5963232777475237,
          0.7449216520733798,
          0.22356417508197143,
          0.05920104413409926,
          0.0968208535586429,
          0.06086641372697626,
          0.04397285338109511,
          0.0650474724785522,
          0.043117609571855266,
          0.051689996111531016,
          0.05107398267753928,
          0.06897615831524602,
          0.07516028678500263,
          0.43405802303624585,
          0.5623097962766788,
          0.05117199559815259,
          0.048831030368415115,
          0.08761932313845977,
          0.04766335777959169,
          0.5016752391332574,
          0.6571131140398835,
          0.48344560140077414,
          0.04785448430035845,
          0.06949570191740496,
          0.0612889618093429,
          0.39863026612640085,
          0.058303100683072276,
          0.04790007255335652,
          0.8384648747843743,
          0.05993627371626819,
          0.403423830500805,
          0.8608842185525563,
          0.05381881980868836,
          0.8173909849873782,
          0.05965300773140047,
          0.7112932976168885,
          0.09318844468145593,
          0.06502907783255911,
          0.04962152970251873,
          0.04410257661063851,
          0.5329186758592978,
          0.6737741626100096,
          0.05859703809031445,
          0.7054812888547796,
          0.05820048971106479,
          0.2504746028139321,
          0.054128081822136166,
          0.40387465863158073,
          0.04585460002515969,
          0.6470870722765834,
          0.3944665694943722,
          0.07000380446026758,
          0.15759478188685838,
          0.09958281721963304,
          0.5880076415428787,
          0.2684096091361888,
          0.8663702502761058,
          0.05713359875590519,
          0.04840771429763321,
          0.05227857932163806,
          0.0485351821690453,
          0.04057268762102732,
          0.06026760047946693,
          0.06025394668054782,
          0.05205694718039532,
          0.35109213427589697,
          0.3795482305450962,
          0.0397669902839985,
          0.06601424812667393,
          0.5621939194884052,
          0.6735942388567323,
          0.08142310485842201,
          0.0431009575267915,
          0.06483695087830622,
          0.5866391556131879,
          0.07724744742221096,
          0.056455500145849255,
          0.8909763053006605,
          0.8564066360038739,
          0.8872304473655351,
          0.06461339931077918,
          0.05046852166960977,
          0.394488917537839,
          0.06494652975461877,
          0.21436440258471465,
          0.05754205694611725,
          0.05313340632625938,
          0.6162761657904302,
          0.8018267164620381,
          0.06125130072363536,
          0.06458401522133853,
          0.05304586287975913,
          0.0646732311013852,
          0.06213744908189696,
          0.06467818755032981,
          0.04959532663406634,
          0.05805677641944495,
          0.05369381615482828,
          0.05513107783787834,
          0.9052588075188456,
          0.05687417412617137,
          0.11802256993552754,
          0.06550514881209403,
          0.06750520394658914,
          0.05620267534607524,
          0.06812275208031678,
          0.23819226226985143,
          0.21099255932956634,
          0.04977452889039937,
          0.819432017645721,
          0.8211816208988444,
          0.8194320167578258,
          0.04439986441597313,
          0.6022997151379804,
          0.054316927329471514,
          0.8977186011165871,
          0.13844562813482417,
          0.48388902738561873,
          0.05233231765780671,
          0.06219577146526682,
          0.1460898725886892,
          0.8942236610791097,
          0.5400169454142363,
          0.7763363574987596,
          0.6992357759685206,
          0.09378638083294542,
          0.823289289459522,
          0.07312393422083485,
          0.04546595635788946,
          0.849578409722255,
          0.04821571646286492,
          0.43500705863148714,
          0.045827338874671185,
          0.0638568006941089,
          0.21083881783957256,
          0.811789560997508,
          0.7996297330977729,
          0.8899901849615092,
          0.07460837001916111,
          0.05719765487942366,
          0.05877242985271346,
          0.04137165028197619,
          0.05941268141051568,
          0.050386390862244355,
          0.40144970712148803,
          0.053363737097745716,
          0.058882601361191396,
          0.057055328687287236,
          0.04804417871464928,
          0.11612515791506417,
          0.04694707315383486,
          0.04296786550222161,
          0.05688759302980253,
          0.049191328148383305,
          0.03599822654990413,
          0.055086518902531564,
          0.0515771762950416,
          0.06328467447490975,
          0.05993297391688756,
          0.8894491555500256,
          0.044068304570289096,
          0.0675663297459772,
          0.052010881641438876,
          0.34614596937660813,
          0.8922473184940083,
          0.8466533340473994,
          0.263485685982878,
          0.5777971611747427,
          0.5138822408762036,
          0.0438423966303836,
          0.547912289167347,
          0.6067953494663075,
          0.8860937742435441,
          0.8860937742435441,
          0.8860937742435441,
          0.8860937742435441,
          0.051315263801733534,
          0.5403900661198167,
          0.8139105521769453,
          0.07616802411358506,
          0.05753618978171458,
          0.06609018674311219,
          0.478411528929355,
          0.4570431270155929,
          0.4664236502477824,
          0.48906634423546463,
          0.8864004502140995,
          0.9117350368370037,
          0.051783461967814325,
          0.0640401899917346,
          0.060631152506263504,
          0.8207639560996384,
          0.3987073351086816,
          0.7478736879276291,
          0.0480327890132004,
          0.7904445824903348,
          0.4936362728424611,
          0.05505978003450223,
          0.4043259821541301,
          0.6835533797415259,
          0.4725306520757837,
          0.27979469360743914,
          0.052158679721972426,
          0.044256101756399914,
          0.0616888000907293,
          0.7299025010660237,
          0.798744605584467,
          0.1313160946883047,
          0.7750112354350819,
          0.04562993724074743,
          0.08555692962811619,
          0.5360949542995544,
          0.055731639497175973,
          0.05262979116084563,
          0.05241681315160972,
          0.0478730760004262,
          0.8021028253514717,
          0.8168564276241148,
          0.8925900867580034,
          0.045821449374401746,
          0.3635596037904991,
          0.5052349221712443,
          0.7310201885891904,
          0.051788602740708845,
          0.059900898419197476,
          0.05212080733501834,
          0.05172932978902422,
          0.05850040890659778,
          0.8616140420594192,
          0.054265847961214676,
          0.07117218825649807,
          0.057767255642411246,
          0.04726987864405962,
          0.06440087393331845,
          0.3849336149971767,
          0.28992108676973816,
          0.8331596351062389,
          0.8581910300254442,
          0.8786100766486087,
          0.58343263107951,
          0.8135707558947498,
          0.046086602289879874,
          0.9037439970003073,
          0.750017655530071,
          0.5864284226492984,
          0.040987660295429953,
          0.08050339112815377,
          0.0557437599199458,
          0.9022700761472892,
          0.8805625019113924,
          0.8730923942084069,
          0.7694911272627555,
          0.8776483958217983,
          0.060571986758869635,
          0.06399591525856295,
          0.8788309952203823,
          0.879867685376442,
          0.15752242194036187,
          0.05276029092365167,
          0.06442822644955895,
          0.07047558856495506,
          0.2021967539503131,
          0.8213505834978561,
          0.12072620315577288,
          0.06027594061385336,
          0.4982552563974318,
          0.0840618888872282,
          0.5569018104455029,
          0.04421885385347574,
          0.7729365265576057,
          0.05045155259712276,
          0.04112619654946307,
          0.04646130014785938,
          0.8776705133173311,
          0.057570050918666724,
          0.059262162482698263,
          0.7649129022074188,
          0.8445922572922532,
          0.061693651008485194,
          0.6789198409696543,
          0.05539739511266017,
          0.08261200500477744,
          0.07248530180289635,
          0.04888640342121829,
          0.0655501198483963,
          0.05054771193539867,
          0.04873447192041431,
          0.04615889260858015,
          0.15921753943960426,
          0.06138126936851358,
          0.04804476808319716,
          0.4623512750968832,
          0.06718073444945175,
          0.04946002466191606,
          0.6423604886744222,
          0.26162607128503557,
          0.8909330391987424,
          0.13598660538657356,
          0.8545346107893649,
          0.09517399355266104,
          0.2424007065492365,
          0.5422600820339001,
          0.6346056078790888,
          0.8589322873731525,
          0.8881299705453942,
          0.8594542829827435,
          0.31387086989217355,
          0.04335367873420856,
          0.7446148939243059,
          0.2441793391675768,
          0.04250880748855293,
          0.05860097768381353,
          0.06576789934233779,
          0.05894382289676239,
          0.5518665796068891,
          0.8952384431351301,
          0.6984853051421276,
          0.06285922497213749,
          0.0633966102652789,
          0.06634258722661579,
          0.04790359688224474,
          0.6306297926934112,
          0.060193330117835016,
          0.8729913852688451,
          0.07375867159128734,
          0.06957044162758215,
          0.6303887753652733,
          0.06522226432462233,
          0.7125800913794695,
          0.8884229527378628,
          0.6509021152057907,
          0.5185232036993938,
          0.5793417107910098,
          0.04215886957614548,
          0.04501682925587764,
          0.07274234444518966,
          0.0720947151264454,
          0.0632174307309118,
          0.06586052235400278,
          0.5186585061215794,
          0.06632889676857502,
          0.04360884422296585,
          0.07043474115788642,
          0.5897980770363686,
          0.38578479617134276,
          0.04416675843559235,
          0.05556055076887549,
          0.6966027331380065,
          0.3023359757904814,
          0.6452981396692268,
          0.5643421386705179,
          0.9074985406241474,
          0.9121078641499699,
          0.902280606870247,
          0.8544965161168374,
          0.8263521318562158,
          0.6708527265564918,
          0.3160210018660285,
          0.04287392867932344,
          0.047778972622587436,
          0.06005406528466313,
          0.047981027612354565,
          0.7449214618945783,
          0.4597538796648288,
          0.10410720301782478,
          0.0417210217707055,
          0.4707308642511567,
          0.05779670259693416,
          0.07406521375771244,
          0.8802586503654793,
          0.5813899923252202,
          0.04140579185845461,
          0.05396242274655404,
          0.07641662334968996,
          0.7943772869965252,
          0.046219786903393664,
          0.8990187727288349,
          0.742885320603545,
          0.05021135376944508,
          0.0552494407808853,
          0.4995284178626312,
          0.0433151615286739,
          0.058473219355404955,
          0.2592783286748718,
          0.05154376756103879,
          0.8666160628983074,
          0.04409384222098987,
          0.1979129610292995,
          0.5624709375356908,
          0.29871759871577097,
          0.6082759387985156,
          0.7712091070920177,
          0.8916137329780411,
          0.8013110193317956,
          0.795839064706692,
          0.1878231463743862,
          0.6577054954570405,
          0.03823495093465994,
          0.050191059054660106,
          0.817934081875303,
          0.27520716415833496,
          0.5208583573512224,
          0.8688277918636486,
          0.894699416376214,
          0.05268246357054227,
          0.8734896117892219,
          0.6784938760057809,
          0.4099526561040395,
          0.6179146485638795,
          0.6592421466764139,
          0.8895968420226122,
          0.38755748734051754,
          0.900528825325811,
          0.9103779192592235,
          0.8809622207145462,
          0.9058882893404132,
          0.524725966604041,
          0.3769365479305247,
          0.9146015956711345,
          0.7820067090907864,
          0.7506055970360435,
          0.5379058181154412,
          0.5391724812551014,
          0.047709178774512966,
          0.052770621026432075,
          0.5175722594342548,
          0.7440218388295081,
          0.9029117826143038,
          0.044733478209318944,
          0.5852147238278924,
          0.8944463711017728,
          0.8912893055209231,
          0.05679254435522093,
          0.2734639436287174,
          0.05816318086634808,
          0.863944687694439,
          0.04212380221581718,
          0.8516201713900962,
          0.8861732330768775,
          0.12678961270278802,
          0.6343665335445307,
          0.8977453308575954,
          0.9053903745441577,
          0.9081512117578754,
          0.06881284143561703,
          0.4800527575402806,
          0.04584712168785427,
          0.04600112394584509,
          0.27864070409316427,
          0.9014352200162636,
          0.8851403327108175,
          0.9025813759276459,
          0.8035295130379885,
          0.046127187372550296,
          0.09892200482167059,
          0.09915520382445553,
          0.791035525279999,
          0.7618897746681463,
          0.1854916817214094,
          0.049807094265009885,
          0.873929909161711,
          0.8951348412770419,
          0.47642955695607114,
          0.6787659491626952,
          0.9087838043167066,
          0.4817440217226306,
          0.15333136278572715,
          0.8245543057981943,
          0.07416925285764751,
          0.901621691692873,
          0.8647637039707319,
          0.7151343444202768,
          0.8768294054293169,
          0.3036930572244229,
          0.8910575789120571,
          0.796399768848128,
          0.8799779646038293,
          0.05292854142261049,
          0.5716422940376586,
          0.46884588222532364,
          0.05207584450531928,
          0.8812276778842596,
          0.2530561147602777,
          0.8984974083661927,
          0.05452668851882167,
          0.8890800680337375,
          0.7178521024699595,
          0.89692230483266,
          0.41061910937563206,
          0.5471101603778482,
          0.06436791166235045,
          0.06217609601093195,
          0.3299341888955265,
          0.051186238548521966,
          0.6349977556599827,
          0.05646035358868341,
          0.1543768761806321,
          0.2777707332513682,
          0.0651622623594435,
          0.8616424763643244,
          0.862337977011615,
          0.5514642892130341,
          0.8816290058844469,
          0.8459529695258518,
          0.051767119225306475,
          0.04796704259815482,
          0.0495729892462983,
          0.05029539522277019,
          0.1608899679560474,
          0.04782213154446074,
          0.6267588406454041,
          0.6020647728580251,
          0.7672789329806491,
          0.06729725125761098,
          0.5652634883313727,
          0.04352956380713248,
          0.06342647280817414,
          0.05346153412095713,
          0.8610099042585494,
          0.8862753917171043,
          0.8969264867836909,
          0.8929486274353818,
          0.8714223564044661,
          0.9173148954560083,
          0.9154501284388766,
          0.9102311435661709,
          0.9012046550790501,
          0.8294041209450106,
          0.9129323789917397,
          0.8981500057578012,
          0.674237986268956,
          0.05862601196993442,
          0.053101940640143105,
          0.046277108840843156,
          0.5554552345476107,
          0.05188603000348478,
          0.05018072632506366,
          0.04458585857017103,
          0.04706406100031845,
          0.22802110555999416,
          0.04448194331065073,
          0.054909834047618566,
          0.8750654542337452,
          0.048528541490721375,
          0.47547803980948544,
          0.05943871684562379,
          0.045570283273479895,
          0.691346820941429,
          0.03681750194659818,
          0.05019557404937398,
          0.051183522378687035,
          0.05056272170462323,
          0.29564306262036266,
          0.052546340277016435,
          0.3234834844945458,
          0.04586741747874031,
          0.4626617896097831,
          0.07033386962353226,
          0.04718312689511268,
          0.04750796113967946,
          0.8491779059498951,
          0.6726682573095029,
          0.04920877074676003,
          0.07420674767934093,
          0.05442556377121536,
          0.48786109220303553,
          0.4874460145892147,
          0.794719241269286,
          0.057893611124113245,
          0.04731633645331092,
          0.14120058286473702,
          0.0790122643173215,
          0.6833083843280106,
          0.04356415637413121,
          0.22420416439350346,
          0.8720388234648607,
          0.04539382975016394,
          0.055337266442174474,
          0.04990698107322164,
          0.052359112539582024,
          0.8492775313950495,
          0.5627082341857493,
          0.7077596650849124,
          0.8978401281029283,
          0.05327420781394348,
          0.05737677483709657,
          0.5142892439821818,
          0.0780283162895683,
          0.7828038661743614,
          0.07253959463757809,
          0.7563763499574867,
          0.8870268434866698,
          0.04227685832547703,
          0.055489417402941686,
          0.06138294731403048,
          0.06525754801314002,
          0.05452177189583398,
          0.042636467610772145,
          0.05225223390861586,
          0.04482937834704866,
          0.04666882201710655,
          0.046619640666530515,
          0.04068210042129811,
          0.06353399730440996,
          0.06697408049216616,
          0.07106631372321102,
          0.06126230220667113,
          0.05750805673770752,
          0.055290345431919456,
          0.05518709187841896,
          0.05389143118985429,
          0.07325612807069641,
          0.047901626605953485,
          0.4254824775266708,
          0.05400222357348373,
          0.05501459379828386,
          0.15565505238096375,
          0.08098403517437602,
          0.07425640285716345,
          0.053334520834516834,
          0.074240969057622,
          0.05891960121895095,
          0.21702111855374207,
          0.04748584090507356,
          0.04351186004627564,
          0.05790322970365562,
          0.04004551590149467,
          0.6430331980586417,
          0.053485650702109415,
          0.6153872112855638,
          0.7827243075479384,
          0.05154791285398433,
          0.3009712741314564,
          0.5816244634566954,
          0.05722600967594369,
          0.06711966072871801,
          0.04406830566985926,
          0.04494259829986311,
          0.19845941096918587,
          0.04815343406080757,
          0.043136652446331414,
          0.7851470402505795,
          0.05200457146573763,
          0.46835967290023334,
          0.04850507699116913,
          0.3439553951235373,
          0.05455016683122735,
          0.05057670172066371,
          0.11069762713980334,
          0.03996057225018704,
          0.05536969045017557,
          0.6330572314283383,
          0.05176290375685196,
          0.43942573457131945,
          0.056254399541735334,
          0.05162713338321057,
          0.5649904380583416,
          0.07703935794153943,
          0.04463760954125277,
          0.04968031080981695,
          0.044847604610997016,
          0.0605283730926953,
          0.04551026538954806,
          0.055559499209553026,
          0.060763509157111734,
          0.04982732222694684,
          0.06269646239578984,
          0.05868932203917072,
          0.046958594855819144,
          0.04605935576575362,
          0.8369947529663947,
          0.133670842372046,
          0.06048564874464645,
          0.050615225888419636,
          0.05010495969510162,
          0.05388963047310279,
          0.04879515797129872,
          0.0516054335041316,
          0.03205907765320851,
          0.056418983842940675,
          0.06458206359992344,
          0.4600905837109611,
          0.1744089119096227,
          0.062288420952035975,
          0.7275311212850001,
          0.05231717877356455,
          0.06794644224299785,
          0.1560396624915437,
          0.04278591828131759,
          0.7957966770863041,
          0.9009334060910963,
          0.8780361787469866,
          0.0776617800673027,
          0.13706947323461083,
          0.9051429350068865,
          0.8996866199605408,
          0.9041169436337785,
          0.8880899842758013,
          0.05851039932878489,
          0.055186219027921375,
          0.04790380147421831,
          0.42920302804901533,
          0.31889757724368595,
          0.054960890278595485,
          0.8537860409068952,
          0.08372890472465208,
          0.040966744893697685,
          0.05290680333307764,
          0.5579383355748105,
          0.05213967513333416,
          0.060235711491507034,
          0.4416331729879779,
          0.04015164139346854,
          0.06812796860948438,
          0.05512707785205573,
          0.05426907007463832,
          0.10322107350137695,
          0.23449386530147337,
          0.07166101020028852,
          0.05317427219720215,
          0.04495837846192439,
          0.2103465477415985,
          0.043124501480496666,
          0.04580390404825298,
          0.04119670400567088,
          0.03790742052954692,
          0.056249249562739335,
          0.06377096110307065,
          0.05015705432139748,
          0.048807327279341506,
          0.04586150290747119,
          0.06289376693436738,
          0.060089204312422206,
          0.04680214741942146,
          0.06094824836876248,
          0.05526272352239367,
          0.05132363013578833,
          0.04560420693508283,
          0.41659119693921365,
          0.05602832066430656,
          0.5568765837813184,
          0.8557499488369158,
          0.049998018113384335,
          0.052138581933451285,
          0.6696307935039487,
          0.07899172000203196,
          0.0488586065607801,
          0.06625536530030086,
          0.0482681096055567,
          0.04980227686704193,
          0.05397435516515455,
          0.03961580410876148,
          0.05387135517240355,
          0.051159768127409765,
          0.039582963329033896,
          0.6191457163398206,
          0.05341789510950553,
          0.04759501351119239,
          0.05352792847694469,
          0.04407747848358358,
          0.05508418901041757,
          0.09550302421540824,
          0.049053884995060214,
          0.04778919731728982,
          0.05494806661727456,
          0.04976641258085205,
          0.07874342188528594,
          0.6653156893201582,
          0.05312897819150722,
          0.050249789591608536,
          0.040894745660542756,
          0.5245048707890235,
          0.669656847856266,
          0.07111782208858407,
          0.7173314123830415,
          0.050295742512460904,
          0.07320465331222868,
          0.05537936604900256,
          0.8784059755538789,
          0.1935626860602994,
          0.04849663260242731,
          0.08866138939172671,
          0.04473845537371878,
          0.14820144144666958,
          0.04991642053496722,
          0.050147276881947825,
          0.05078757242561398,
          0.05574099558532514,
          0.06309356545797842,
          0.04233963468991801,
          0.04955598726504614,
          0.04964496959988355,
          0.038433018062064624,
          0.05263114175412635,
          0.049824378293500816,
          0.3168946987546698,
          0.3120528047501979,
          0.05490118311468262,
          0.042545642131731086,
          0.05267758530176735,
          0.22068658950795442,
          0.04723604346452738,
          0.09204977481125448,
          0.6080978407519514,
          0.7191816214443567,
          0.05401730163899198,
          0.04920165499118438,
          0.053896804671884166,
          0.5559770056673814,
          0.051739076232369924,
          0.055383089392000255,
          0.0457352041391357,
          0.05391863016111991,
          0.06160710750074488,
          0.04140753317155064,
          0.5326276510159388,
          0.5637619071170593,
          0.8714220671899872,
          0.16556166802493016,
          0.05716452418072003,
          0.500059681143991,
          0.06503167330564477,
          0.05320422659920732,
          0.045194104881884245,
          0.06041955576304243,
          0.05454345886078103,
          0.05246577713738639,
          0.07119727492026515,
          0.06072032520764908,
          0.03794915944261917,
          0.16196357667006367,
          0.05944253253193801,
          0.041482231593123475,
          0.06622225487274348,
          0.053758049337581514,
          0.050804965693755776,
          0.05454242222408264,
          0.06779158466369377,
          0.5402217304448459,
          0.06356712969966707,
          0.052422878775029255,
          0.03729266188425633,
          0.04304794632450401,
          0.16975669194013185,
          0.7954776268073052,
          0.6933627664173885,
          0.04743331481653506,
          0.03979486428405746,
          0.046807041903073075,
          0.05889866383211367,
          0.0540227175727895,
          0.06649544584556992,
          0.0717710158836625,
          0.06422184459510931,
          0.04829751023756452,
          0.052020709868526846,
          0.43002369359261217,
          0.04020292572519669,
          0.8735958272577783,
          0.04023394253684986,
          0.8881472918719272,
          0.08133658119261555,
          0.9069621240514579,
          0.058474577889323,
          0.18647234605634355,
          0.05386570844331768,
          0.0446776445325002,
          0.5885322165364938,
          0.05318417108192366,
          0.06432199311695398,
          0.06427283752531553,
          0.5637602272212625,
          0.07004453398220144,
          0.8630185416681857,
          0.05978688243462716,
          0.39124016792298555,
          0.4286213756201298,
          0.045058265283689954,
          0.8551824687893862,
          0.0558874600853578,
          0.8075336364170446,
          0.6585804804905534,
          0.05865600533166247,
          0.06816921450447108,
          0.04731512590520629,
          0.05581986726715985,
          0.058447218849487295,
          0.466999414544446,
          0.5738400124359928,
          0.5649584618677719,
          0.05067772649105402,
          0.9008667071976166,
          0.8993299346224708,
          0.7461195008688576,
          0.06681878158470687,
          0.6652323319749347,
          0.6537321583758398,
          0.057425863779033776,
          0.08246008337663327,
          0.2646017215316829,
          0.04957724457178235,
          0.03970416679587329,
          0.05812504632984929,
          0.05981325159934173,
          0.2661988574081086,
          0.047447033605855504,
          0.05349744450975931,
          0.06095039727695919,
          0.07354756622708998,
          0.37807955970636836,
          0.05578612031324541,
          0.05244795754910813,
          0.04828956866425541,
          0.05428374505571681,
          0.04493061088868744,
          0.44315622303420305,
          0.04757258057155747,
          0.05545360306546499,
          0.046067934941045316,
          0.05290014169559473,
          0.8200294087516827,
          0.8694993162748881,
          0.8410059934063578,
          0.8393566085586996,
          0.8404884613531745,
          0.8526967157671619,
          0.34077984542835776,
          0.8141432478469949,
          0.5075469451593342,
          0.05764769617143977,
          0.8905960832928075,
          0.06319555081980625,
          0.05889559333438912,
          0.4852994752045481,
          0.8633187574811478,
          0.08165013769744578,
          0.07018311435990314,
          0.05249669500205988,
          0.9211288521646127,
          0.06418657997382549,
          0.05744049851014402,
          0.4240643976660482,
          0.7497897210745357,
          0.7178349339889659,
          0.5921123881677025,
          0.07023359572243565,
          0.691726206061377,
          0.7374694358086616,
          0.8704596708349168,
          0.8657659512285399,
          0.06528313139517163,
          0.9022447951949487,
          0.8930665371293323,
          0.8815398850176772,
          0.8613878453318997,
          0.909606635557665,
          0.8305172482457982,
          0.9162916457275747,
          0.2160973021998385,
          0.5601599070986106,
          0.10427783447151706,
          0.05293284248454783,
          0.893247366116357,
          0.39674466878937953,
          0.26133922676448024,
          0.8490100486212857,
          0.616938005158523,
          0.8014856913051407,
          0.646956649021407,
          0.8880629229955784,
          0.06249931511966111,
          0.870729973455925,
          0.4262391086988314,
          0.8827293258135315,
          0.06979882018679805,
          0.9046571921775877,
          0.04531838838410197,
          0.07669675753404648,
          0.03720589626669,
          0.04716306358150954,
          0.052528149352893724,
          0.5522672066854912,
          0.05482079929195854,
          0.04720662892220712,
          0.05088696532709982,
          0.444935944259494,
          0.042518630410344135,
          0.05645211926968138,
          0.048769935266213545,
          0.3572700554149376,
          0.045243552231634336,
          0.19361456865663462,
          0.05805373392471797,
          0.05761455877160177,
          0.058465224774901355,
          0.05389273553486169,
          0.40314119073389687,
          0.31437789373404396,
          0.06439855361341783,
          0.04708001530103707,
          0.04032449845252823,
          0.09868029470995636,
          0.07136090525615948,
          0.06066739432816273,
          0.49525905705007606,
          0.051171377473397214,
          0.4324716134734878,
          0.046573184244908014,
          0.053621442751639554,
          0.04910252301451038,
          0.048501691364021354,
          0.09387539977180617,
          0.03304322045168752,
          0.040935528105853665,
          0.05436163262442369,
          0.062377497600055856,
          0.05534048935497824,
          0.047080341484323086,
          0.04680911416339783,
          0.05582586688495468,
          0.6256390505808939,
          0.049351593236527165,
          0.8767564204504356,
          0.04338646080221576,
          0.0414611082731442,
          0.05715598057032505,
          0.04088607330586249,
          0.21522252664332406,
          0.048815006044158414,
          0.04546197072832158,
          0.04894130117478395,
          0.1640103857949519,
          0.08135292562567054,
          0.4170147902360336,
          0.4534546589856254,
          0.056412117169474925,
          0.6515001552371992,
          0.047032708916730226,
          0.36235125829025994,
          0.17268382655285386,
          0.06428224492192063,
          0.08095222517268266,
          0.3493187385297345,
          0.8324227907029925,
          0.06483205878005457,
          0.11420009110151123,
          0.08093474520021501,
          0.8663164078711564,
          0.2444277329712199,
          0.059542865780034177,
          0.05437321811974453,
          0.04205736755828142,
          0.050787541539397074,
          0.06029706684608221,
          0.060405321730817294,
          0.052587349810237397,
          0.037629666443828126,
          0.40443728261864204,
          0.04539054262936612,
          0.2848011369003214,
          0.42633607462488937,
          0.08006215750131308,
          0.7022370315249008,
          0.06056652229923826,
          0.05139736386254228,
          0.24354712104382076,
          0.06006677066183793,
          0.04917993247944367,
          0.05013604658228463,
          0.8852681328713922,
          0.44054961928232883,
          0.0630061125811267,
          0.04928707958226498,
          0.8995939775292461,
          0.05705784287149385,
          0.058269417107553824,
          0.057200980560319595,
          0.4699213548728459,
          0.04400179518221151,
          0.32683927813951597,
          0.8896638516640868,
          0.17541160208549655,
          0.0544529531127726,
          0.046514695744066394,
          0.05375103173467757,
          0.8683814397254622,
          0.04451539698462789,
          0.05464018574388693,
          0.07318621402638252,
          0.06562513291447239,
          0.0575499923305179,
          0.8695406287986425,
          0.05194171578420273,
          0.05474937039707117,
          0.4752617786333969,
          0.10886879669644597,
          0.7085353310976806,
          0.07600801713370484,
          0.052819263640932264,
          0.43946420538498054,
          0.419438056562289,
          0.056128160235481894,
          0.063428715603814,
          0.8696196767064552,
          0.06196000907186525,
          0.08093379934620376,
          0.6832554018493545,
          0.5995127067757916,
          0.8252349371970057,
          0.8793491575961809,
          0.05643425647512702,
          0.1280239838139055,
          0.0660356024626022,
          0.16382762054230446,
          0.06541813562378472,
          0.05176534100510492,
          0.047268486656952234,
          0.04292959075987933,
          0.06881574738426985,
          0.1302735982227664,
          0.04736790010901874,
          0.06180452841345171,
          0.06391988933453883,
          0.06472112694617932,
          0.052107787203290644,
          0.05229760156396105,
          0.06379363193066083,
          0.8117498338329212,
          0.5911530596354937,
          0.040559174158499314,
          0.07489481462230972,
          0.05208903131813847,
          0.6079738383026815,
          0.8574179217227154,
          0.05505840749705184,
          0.5030210501024703,
          0.5230023464052047,
          0.5282202617663009,
          0.10434578451282452,
          0.49461385452235945,
          0.06362013275572666,
          0.052308803245425854,
          0.09395477602639965,
          0.8355999825977473,
          0.21285274907949786,
          0.08106581151928749,
          0.4410439735175583,
          0.7558585189308277,
          0.06652493635715127,
          0.04694446628455225,
          0.883446998022428,
          0.22188671786986439,
          0.7494970965748551,
          0.19532592233724091,
          0.8743942086862088,
          0.4329966578846366,
          0.8820799821676933,
          0.654777107462609,
          0.05291874229627642,
          0.896359266814982,
          0.8580739966976039,
          0.8252890275955488,
          0.7478474619634511,
          0.05494028099061274,
          0.8936121112876055,
          0.7026551462586728,
          0.4823573515709524,
          0.09816441771449896,
          0.05385213174219977,
          0.29416497472405667,
          0.6868916263459861,
          0.501202982393476,
          0.8849223174982752,
          0.06084832937551207,
          0.38104573938971437,
          0.7274834086705861,
          0.8871846409055711,
          0.8593290011550808,
          0.8567250057835171,
          0.7551098308429809,
          0.09672540612119805,
          0.9074276993105516,
          0.7447244767183323,
          0.8878367920803182,
          0.5718575863048269,
          0.8858059355692466,
          0.8684658279083475,
          0.907122462136211,
          0.5126894381184705,
          0.91589166746955,
          0.8708915353873778,
          0.7185053698498884,
          0.9032785417158922,
          0.7240059855226225,
          0.8207776791384845
         ]
        }
       ],
       "layout": {
        "autosize": true,
        "legend": {
         "tracegroupgap": 0
        },
        "margin": {
         "t": 60
        },
        "scene": {
         "aspectmode": "auto",
         "aspectratio": {
          "x": 1.2635289903508609,
          "y": 0.6303360378150594,
          "z": 1.2555749766362354
         },
         "camera": {
          "center": {
           "x": 0,
           "y": 0,
           "z": 0
          },
          "eye": {
           "x": 1.6060566459903192,
           "y": 1.606056645990319,
           "z": 1.606056645990319
          },
          "projection": {
           "type": "perspective"
          },
          "up": {
           "x": 0,
           "y": 0,
           "z": 1
          }
         },
         "domain": {
          "x": [
           0,
           1
          ],
          "y": [
           0,
           1
          ]
         },
         "xaxis": {
          "title": {
           "text": "LDA1"
          },
          "type": "linear"
         },
         "yaxis": {
          "title": {
           "text": "LDA2"
          },
          "type": "linear"
         },
         "zaxis": {
          "title": {
           "text": "LDA3"
          },
          "type": "linear"
         }
        },
        "template": {
         "data": {
          "bar": [
           {
            "error_x": {
             "color": "rgb(36,36,36)"
            },
            "error_y": {
             "color": "rgb(36,36,36)"
            },
            "marker": {
             "line": {
              "color": "white",
              "width": 0.5
             },
             "pattern": {
              "fillmode": "overlay",
              "size": 10,
              "solidity": 0.2
             }
            },
            "type": "bar"
           }
          ],
          "barpolar": [
           {
            "marker": {
             "line": {
              "color": "white",
              "width": 0.5
             },
             "pattern": {
              "fillmode": "overlay",
              "size": 10,
              "solidity": 0.2
             }
            },
            "type": "barpolar"
           }
          ],
          "carpet": [
           {
            "aaxis": {
             "endlinecolor": "rgb(36,36,36)",
             "gridcolor": "white",
             "linecolor": "white",
             "minorgridcolor": "white",
             "startlinecolor": "rgb(36,36,36)"
            },
            "baxis": {
             "endlinecolor": "rgb(36,36,36)",
             "gridcolor": "white",
             "linecolor": "white",
             "minorgridcolor": "white",
             "startlinecolor": "rgb(36,36,36)"
            },
            "type": "carpet"
           }
          ],
          "choropleth": [
           {
            "colorbar": {
             "outlinewidth": 1,
             "tickcolor": "rgb(36,36,36)",
             "ticks": "outside"
            },
            "type": "choropleth"
           }
          ],
          "contour": [
           {
            "colorbar": {
             "outlinewidth": 1,
             "tickcolor": "rgb(36,36,36)",
             "ticks": "outside"
            },
            "colorscale": [
             [
              0,
              "#440154"
             ],
             [
              0.1111111111111111,
              "#482878"
             ],
             [
              0.2222222222222222,
              "#3e4989"
             ],
             [
              0.3333333333333333,
              "#31688e"
             ],
             [
              0.4444444444444444,
              "#26828e"
             ],
             [
              0.5555555555555556,
              "#1f9e89"
             ],
             [
              0.6666666666666666,
              "#35b779"
             ],
             [
              0.7777777777777778,
              "#6ece58"
             ],
             [
              0.8888888888888888,
              "#b5de2b"
             ],
             [
              1,
              "#fde725"
             ]
            ],
            "type": "contour"
           }
          ],
          "contourcarpet": [
           {
            "colorbar": {
             "outlinewidth": 1,
             "tickcolor": "rgb(36,36,36)",
             "ticks": "outside"
            },
            "type": "contourcarpet"
           }
          ],
          "heatmap": [
           {
            "colorbar": {
             "outlinewidth": 1,
             "tickcolor": "rgb(36,36,36)",
             "ticks": "outside"
            },
            "colorscale": [
             [
              0,
              "#440154"
             ],
             [
              0.1111111111111111,
              "#482878"
             ],
             [
              0.2222222222222222,
              "#3e4989"
             ],
             [
              0.3333333333333333,
              "#31688e"
             ],
             [
              0.4444444444444444,
              "#26828e"
             ],
             [
              0.5555555555555556,
              "#1f9e89"
             ],
             [
              0.6666666666666666,
              "#35b779"
             ],
             [
              0.7777777777777778,
              "#6ece58"
             ],
             [
              0.8888888888888888,
              "#b5de2b"
             ],
             [
              1,
              "#fde725"
             ]
            ],
            "type": "heatmap"
           }
          ],
          "heatmapgl": [
           {
            "colorbar": {
             "outlinewidth": 1,
             "tickcolor": "rgb(36,36,36)",
             "ticks": "outside"
            },
            "colorscale": [
             [
              0,
              "#440154"
             ],
             [
              0.1111111111111111,
              "#482878"
             ],
             [
              0.2222222222222222,
              "#3e4989"
             ],
             [
              0.3333333333333333,
              "#31688e"
             ],
             [
              0.4444444444444444,
              "#26828e"
             ],
             [
              0.5555555555555556,
              "#1f9e89"
             ],
             [
              0.6666666666666666,
              "#35b779"
             ],
             [
              0.7777777777777778,
              "#6ece58"
             ],
             [
              0.8888888888888888,
              "#b5de2b"
             ],
             [
              1,
              "#fde725"
             ]
            ],
            "type": "heatmapgl"
           }
          ],
          "histogram": [
           {
            "marker": {
             "line": {
              "color": "white",
              "width": 0.6
             }
            },
            "type": "histogram"
           }
          ],
          "histogram2d": [
           {
            "colorbar": {
             "outlinewidth": 1,
             "tickcolor": "rgb(36,36,36)",
             "ticks": "outside"
            },
            "colorscale": [
             [
              0,
              "#440154"
             ],
             [
              0.1111111111111111,
              "#482878"
             ],
             [
              0.2222222222222222,
              "#3e4989"
             ],
             [
              0.3333333333333333,
              "#31688e"
             ],
             [
              0.4444444444444444,
              "#26828e"
             ],
             [
              0.5555555555555556,
              "#1f9e89"
             ],
             [
              0.6666666666666666,
              "#35b779"
             ],
             [
              0.7777777777777778,
              "#6ece58"
             ],
             [
              0.8888888888888888,
              "#b5de2b"
             ],
             [
              1,
              "#fde725"
             ]
            ],
            "type": "histogram2d"
           }
          ],
          "histogram2dcontour": [
           {
            "colorbar": {
             "outlinewidth": 1,
             "tickcolor": "rgb(36,36,36)",
             "ticks": "outside"
            },
            "colorscale": [
             [
              0,
              "#440154"
             ],
             [
              0.1111111111111111,
              "#482878"
             ],
             [
              0.2222222222222222,
              "#3e4989"
             ],
             [
              0.3333333333333333,
              "#31688e"
             ],
             [
              0.4444444444444444,
              "#26828e"
             ],
             [
              0.5555555555555556,
              "#1f9e89"
             ],
             [
              0.6666666666666666,
              "#35b779"
             ],
             [
              0.7777777777777778,
              "#6ece58"
             ],
             [
              0.8888888888888888,
              "#b5de2b"
             ],
             [
              1,
              "#fde725"
             ]
            ],
            "type": "histogram2dcontour"
           }
          ],
          "mesh3d": [
           {
            "colorbar": {
             "outlinewidth": 1,
             "tickcolor": "rgb(36,36,36)",
             "ticks": "outside"
            },
            "type": "mesh3d"
           }
          ],
          "parcoords": [
           {
            "line": {
             "colorbar": {
              "outlinewidth": 1,
              "tickcolor": "rgb(36,36,36)",
              "ticks": "outside"
             }
            },
            "type": "parcoords"
           }
          ],
          "pie": [
           {
            "automargin": true,
            "type": "pie"
           }
          ],
          "scatter": [
           {
            "fillpattern": {
             "fillmode": "overlay",
             "size": 10,
             "solidity": 0.2
            },
            "type": "scatter"
           }
          ],
          "scatter3d": [
           {
            "line": {
             "colorbar": {
              "outlinewidth": 1,
              "tickcolor": "rgb(36,36,36)",
              "ticks": "outside"
             }
            },
            "marker": {
             "colorbar": {
              "outlinewidth": 1,
              "tickcolor": "rgb(36,36,36)",
              "ticks": "outside"
             }
            },
            "type": "scatter3d"
           }
          ],
          "scattercarpet": [
           {
            "marker": {
             "colorbar": {
              "outlinewidth": 1,
              "tickcolor": "rgb(36,36,36)",
              "ticks": "outside"
             }
            },
            "type": "scattercarpet"
           }
          ],
          "scattergeo": [
           {
            "marker": {
             "colorbar": {
              "outlinewidth": 1,
              "tickcolor": "rgb(36,36,36)",
              "ticks": "outside"
             }
            },
            "type": "scattergeo"
           }
          ],
          "scattergl": [
           {
            "marker": {
             "colorbar": {
              "outlinewidth": 1,
              "tickcolor": "rgb(36,36,36)",
              "ticks": "outside"
             }
            },
            "type": "scattergl"
           }
          ],
          "scattermapbox": [
           {
            "marker": {
             "colorbar": {
              "outlinewidth": 1,
              "tickcolor": "rgb(36,36,36)",
              "ticks": "outside"
             }
            },
            "type": "scattermapbox"
           }
          ],
          "scatterpolar": [
           {
            "marker": {
             "colorbar": {
              "outlinewidth": 1,
              "tickcolor": "rgb(36,36,36)",
              "ticks": "outside"
             }
            },
            "type": "scatterpolar"
           }
          ],
          "scatterpolargl": [
           {
            "marker": {
             "colorbar": {
              "outlinewidth": 1,
              "tickcolor": "rgb(36,36,36)",
              "ticks": "outside"
             }
            },
            "type": "scatterpolargl"
           }
          ],
          "scatterternary": [
           {
            "marker": {
             "colorbar": {
              "outlinewidth": 1,
              "tickcolor": "rgb(36,36,36)",
              "ticks": "outside"
             }
            },
            "type": "scatterternary"
           }
          ],
          "surface": [
           {
            "colorbar": {
             "outlinewidth": 1,
             "tickcolor": "rgb(36,36,36)",
             "ticks": "outside"
            },
            "colorscale": [
             [
              0,
              "#440154"
             ],
             [
              0.1111111111111111,
              "#482878"
             ],
             [
              0.2222222222222222,
              "#3e4989"
             ],
             [
              0.3333333333333333,
              "#31688e"
             ],
             [
              0.4444444444444444,
              "#26828e"
             ],
             [
              0.5555555555555556,
              "#1f9e89"
             ],
             [
              0.6666666666666666,
              "#35b779"
             ],
             [
              0.7777777777777778,
              "#6ece58"
             ],
             [
              0.8888888888888888,
              "#b5de2b"
             ],
             [
              1,
              "#fde725"
             ]
            ],
            "type": "surface"
           }
          ],
          "table": [
           {
            "cells": {
             "fill": {
              "color": "rgb(237,237,237)"
             },
             "line": {
              "color": "white"
             }
            },
            "header": {
             "fill": {
              "color": "rgb(217,217,217)"
             },
             "line": {
              "color": "white"
             }
            },
            "type": "table"
           }
          ]
         },
         "layout": {
          "annotationdefaults": {
           "arrowhead": 0,
           "arrowwidth": 1
          },
          "autotypenumbers": "strict",
          "coloraxis": {
           "colorbar": {
            "outlinewidth": 1,
            "tickcolor": "rgb(36,36,36)",
            "ticks": "outside"
           }
          },
          "colorscale": {
           "diverging": [
            [
             0,
             "rgb(103,0,31)"
            ],
            [
             0.1,
             "rgb(178,24,43)"
            ],
            [
             0.2,
             "rgb(214,96,77)"
            ],
            [
             0.3,
             "rgb(244,165,130)"
            ],
            [
             0.4,
             "rgb(253,219,199)"
            ],
            [
             0.5,
             "rgb(247,247,247)"
            ],
            [
             0.6,
             "rgb(209,229,240)"
            ],
            [
             0.7,
             "rgb(146,197,222)"
            ],
            [
             0.8,
             "rgb(67,147,195)"
            ],
            [
             0.9,
             "rgb(33,102,172)"
            ],
            [
             1,
             "rgb(5,48,97)"
            ]
           ],
           "sequential": [
            [
             0,
             "#440154"
            ],
            [
             0.1111111111111111,
             "#482878"
            ],
            [
             0.2222222222222222,
             "#3e4989"
            ],
            [
             0.3333333333333333,
             "#31688e"
            ],
            [
             0.4444444444444444,
             "#26828e"
            ],
            [
             0.5555555555555556,
             "#1f9e89"
            ],
            [
             0.6666666666666666,
             "#35b779"
            ],
            [
             0.7777777777777778,
             "#6ece58"
            ],
            [
             0.8888888888888888,
             "#b5de2b"
            ],
            [
             1,
             "#fde725"
            ]
           ],
           "sequentialminus": [
            [
             0,
             "#440154"
            ],
            [
             0.1111111111111111,
             "#482878"
            ],
            [
             0.2222222222222222,
             "#3e4989"
            ],
            [
             0.3333333333333333,
             "#31688e"
            ],
            [
             0.4444444444444444,
             "#26828e"
            ],
            [
             0.5555555555555556,
             "#1f9e89"
            ],
            [
             0.6666666666666666,
             "#35b779"
            ],
            [
             0.7777777777777778,
             "#6ece58"
            ],
            [
             0.8888888888888888,
             "#b5de2b"
            ],
            [
             1,
             "#fde725"
            ]
           ]
          },
          "colorway": [
           "#1F77B4",
           "#FF7F0E",
           "#2CA02C",
           "#D62728",
           "#9467BD",
           "#8C564B",
           "#E377C2",
           "#7F7F7F",
           "#BCBD22",
           "#17BECF"
          ],
          "font": {
           "color": "rgb(36,36,36)"
          },
          "geo": {
           "bgcolor": "white",
           "lakecolor": "white",
           "landcolor": "white",
           "showlakes": true,
           "showland": true,
           "subunitcolor": "white"
          },
          "hoverlabel": {
           "align": "left"
          },
          "hovermode": "closest",
          "mapbox": {
           "style": "light"
          },
          "paper_bgcolor": "white",
          "plot_bgcolor": "white",
          "polar": {
           "angularaxis": {
            "gridcolor": "rgb(232,232,232)",
            "linecolor": "rgb(36,36,36)",
            "showgrid": false,
            "showline": true,
            "ticks": "outside"
           },
           "bgcolor": "white",
           "radialaxis": {
            "gridcolor": "rgb(232,232,232)",
            "linecolor": "rgb(36,36,36)",
            "showgrid": false,
            "showline": true,
            "ticks": "outside"
           }
          },
          "scene": {
           "xaxis": {
            "backgroundcolor": "white",
            "gridcolor": "rgb(232,232,232)",
            "gridwidth": 2,
            "linecolor": "rgb(36,36,36)",
            "showbackground": true,
            "showgrid": false,
            "showline": true,
            "ticks": "outside",
            "zeroline": false,
            "zerolinecolor": "rgb(36,36,36)"
           },
           "yaxis": {
            "backgroundcolor": "white",
            "gridcolor": "rgb(232,232,232)",
            "gridwidth": 2,
            "linecolor": "rgb(36,36,36)",
            "showbackground": true,
            "showgrid": false,
            "showline": true,
            "ticks": "outside",
            "zeroline": false,
            "zerolinecolor": "rgb(36,36,36)"
           },
           "zaxis": {
            "backgroundcolor": "white",
            "gridcolor": "rgb(232,232,232)",
            "gridwidth": 2,
            "linecolor": "rgb(36,36,36)",
            "showbackground": true,
            "showgrid": false,
            "showline": true,
            "ticks": "outside",
            "zeroline": false,
            "zerolinecolor": "rgb(36,36,36)"
           }
          },
          "shapedefaults": {
           "fillcolor": "black",
           "line": {
            "width": 0
           },
           "opacity": 0.3
          },
          "ternary": {
           "aaxis": {
            "gridcolor": "rgb(232,232,232)",
            "linecolor": "rgb(36,36,36)",
            "showgrid": false,
            "showline": true,
            "ticks": "outside"
           },
           "baxis": {
            "gridcolor": "rgb(232,232,232)",
            "linecolor": "rgb(36,36,36)",
            "showgrid": false,
            "showline": true,
            "ticks": "outside"
           },
           "bgcolor": "white",
           "caxis": {
            "gridcolor": "rgb(232,232,232)",
            "linecolor": "rgb(36,36,36)",
            "showgrid": false,
            "showline": true,
            "ticks": "outside"
           }
          },
          "title": {
           "x": 0.05
          },
          "xaxis": {
           "automargin": true,
           "gridcolor": "rgb(232,232,232)",
           "linecolor": "rgb(36,36,36)",
           "showgrid": false,
           "showline": true,
           "ticks": "outside",
           "title": {
            "standoff": 15
           },
           "zeroline": false,
           "zerolinecolor": "rgb(36,36,36)"
          },
          "yaxis": {
           "automargin": true,
           "gridcolor": "rgb(232,232,232)",
           "linecolor": "rgb(36,36,36)",
           "showgrid": false,
           "showline": true,
           "ticks": "outside",
           "title": {
            "standoff": 15
           },
           "zeroline": false,
           "zerolinecolor": "rgb(36,36,36)"
          }
         }
        }
       }
      },
      "image/png": "[encoded data removed]",
      "text/html": [
       "<div>                            <div id=\"25575893-89b4-4903-9147-e673edf8f5b6\" class=\"plotly-graph-div\" style=\"height:525px; width:100%;\"></div>            <script type=\"text/javascript\">                require([\"plotly\"], function(Plotly) {                    window.PLOTLYENV=window.PLOTLYENV || {};                                    if (document.getElementById(\"25575893-89b4-4903-9147-e673edf8f5b6\")) {                    Plotly.newPlot(                        \"25575893-89b4-4903-9147-e673edf8f5b6\",                        [{\"customdata\":[[148494,\"1,2,3! Now you see me...\"],[316377,\"7 Wonders (Second Edition)\"],[155987,\"Abyss\"],[21569,\"Adigma\"],[31260,\"Agricola\"],[161970,\"Alchemists\"],[124742,\"Android: Netrunner\"],[17329,\"Animal Upon Animal\"],[25643,\"Arkadia\"],[12005,\"Around the World in 80 Days\"],[230802,\"Azul\"],[287954,\"Azul: Summer Pavilion\"],[302388,\"Back to the Future: Back in Time\"],[27225,\"Bananagrams\"],[2453,\"Blokus\"],[231696,\"Bob Ross: Art of Chill Game\"],[332386,\"Brew\"],[184921,\"Bunny Kingdom\"],[822,\"Carcassonne\"],[164127,\"Carcassonne Big Box 5\"],[89952,\"Carcassonne: 10 Year Special Edition\"],[13,\"CATAN\"],[102794,\"Caverna\"],[113428,\"Cazadores de Fosiles\"],[270970,\"Century: A New World\"],[38194,\"Cheaty Mages!\"],[11971,\"Cockroach Poker\"],[32341,\"Cockroach Salad\"],[198773,\"Codenames: Pictures\"],[42685,\"Connect 4x4\"],[245476,\"CuBirds\"],[221371,\"DC Spyfall\"],[194594,\"Dice Forge\"],[121288,\"Dixit: Journey\"],[246701,\"DOS\"],[264055,\"Draftosaurus\"],[232219,\"Dragon Castle\"],[244916,\"Drop It\"],[38154,\"Electronic Pictionary Man\"],[12346,\"La escalera encantada\"],[172225,\"Exploding Kittens\"],[83195,\"Fantasma Blitz\"],[223538,\"Fast Food Fear!\"],[171129,\"Fila Filo\"],[136063,\"Forbidden Desert\"],[65244,\"Forbidden Island\"],[245271,\"Forbidden Sky\"],[37904,\"Formula D\"],[142296,\"Funemployed\"],[31481,\"Galaxy Trucker: Aventuras en el Espacio\"],[220877,\"Ganges\"],[303051,\"Godzilla: Tokyo Clash\"],[98778,\"Hanabi\"],[43015,\"Hansa Teutonica\"],[153484,\"Hedbanz Act Up!\"],[292732,\"Hedbanz Adulting\"],[23049,\"Hedbanz for Kids\"],[174078,\"Holmes: Sherlock & Mycroft\"],[177524,\"ICECOOL\"],[191862,\"Imhotep\"],[28023,\"Jamaica\"],[161929,\"Jard\\u00edn Bot\\u00e1nico de Tehuac\\u00e1n\"],[193042,\"Junk Art\"],[172552,\"Karmaka\"],[257501,\"KeyForge: Call of the Archons\"],[119,\"Kingdoms\"],[19259,\"Kumare\"],[136991,\"Loony Quest\"],[203993,\"Lorenzo il Magnifico\"],[41916,\"The Magic Labyrinth\"],[437,\"Master Labyrinth\"],[255639,\"Mesozooic\"],[54239,\"Mindflex\"],[118,\"Modern Art\"],[327797,\"Monopoly Bid\"],[40398,\"Monopoly Deal Card Game\"],[295824,\"Monopoly Speed\"],[287322,\"Mystic Market\"],[273477,\"Obscurio\"],[303057,\"Pan Am\"],[30549,\"Pandemic\"],[255034,\"Papua\"],[16314,\"Party Scrabble\"],[2593,\"Pass the Pigs\"],[312804,\"Pendulum\"],[6235,\"The Perilous Parlor Game\"],[1258,\"Phase 10\"],[2281,\"Pictionary\"],[214282,\"Pictionary Man Double Draw\"],[175739,\"Pictopia: Disney Edition\"],[140,\"Pit\"],[252929,\"Planet\"],[180974,\"Potion Explosion\"],[2651,\"Power Grid (Recharged Version)\"],[3076,\"Puerto Rico\"],[91536,\"Quarriors!\"],[232043,\"Queendomino\"],[25669,\"Qwirkle\"],[12,\"Ra\"],[227224,\"The Red Cathedral\"],[244228,\"Reef\"],[91514,\"Rhino Hero\"],[37198,\"Risk (Revised Edition)\"],[1829,\"Risk 2210 A.D.\"],[105134,\"Risk Revolution\"],[132531,\"Roll for the Galaxy\"],[20545,\"Rory's Story Cubes\"],[89415,\"Rory's Story Cubes: Actions\"],[182541,\"Rory's Story Cubes: Batman\"],[811,\"Rummikub\"],[180943,\"Sabordage\"],[194655,\"Santorini\"],[438,\"Scotland Yard\"],[320,\"Scrabble\"],[151603,\"Scrabble Twists & Turns\"],[169786,\"Scythe\"],[20551,\"Shogun\"],[1269,\"Skip-Bo\"],[271785,\"Slide Quest\"],[220199,\"Snappy Dressers\"],[266179,\"Space Gate Odyssey\"],[158100,\"Speed Cups\\u00b2\"],[162007,\"Steampunk Rally\"],[34635,\"Stone Age\"],[2653,\"Survive: Escape from Atlantis!\"],[46213,\"Telestrations\"],[229853,\"Teotihuacan: City of Gods\"],[153507,\"Terra\"],[14996,\"Ticket to Ride: Europe\"],[21348,\"Ticket to Ride: M\\u00e4rklin\"],[131325,\"Timeline: General Interest\"],[145189,\"Timeline: Music & Cinema\"],[20096,\"Toru\"],[158672,\"La tumba del rey Pakal\"],[217085,\"Unearth\"],[5522,\"UNO Rummy-Up\"],[192334,\"Vikings on Board\"],[2471,\"Zombies!!! Second Edition\"],[27588,\"Zooloretto\"],[145715,\"Adidoku: Mona Lisa\"],[205637,\"Arkham Horror: The Card Game\"],[256226,\"Azul: Stained Glass of Sintra\"],[227466,\"Break the Code\"],[283155,\"Calico\"],[194233,\"Cartoon Network Crossover Crisis Deck-Building Game\"],[221367,\"Cartoon Network Crossover Crisis: Animation Annihilation Deck-Building Game\"],[295947,\"Cascadia\"],[326945,\"Castles of Mad King Ludwig: Collector's Edition\"],[232832,\"Century: Golem Edition\"],[283619,\"Century: Golem Edition \\u2013 Eastern Mountains\"],[266507,\"Clank!: Legacy \\u2013 Acquisitions Incorporated\"],[290028,\"Codenames: The Simpsons\"],[158408,\"Coup: Deluxe Edition\"],[304051,\"Creature Comforts\"],[298069,\"Cubitos\"],[169654,\"Deep Sea Adventure\"],[210937,\"Dia de los Muertos\"],[39856,\"Dixit\"],[92828,\"Dixit: Odyssey\"],[330401,\"Dokojong\"],[274635,\"Dual Clash Poker\"],[227110,\"Dungeon of Mandom VIII\"],[307963,\"Durian\"],[294233,\"Fafnir\"],[135779,\"A Fake Artist Goes to New York\"],[256478,\"Flotsam Fight\"],[175914,\"Food Chain Magnate\"],[246693,\"Funky Chicken\"],[141430,\"Geek Out!\"],[174430,\"Gloomhaven\"],[291457,\"Gloomhaven: Jaws of the Lion\"],[929,\"The Great Dalmuti: Dungeons & Dragons\"],[2379,\"Guesstures\"],[194626,\"Happy Salmon\"],[324467,\"Hey Yo\"],[102181,\"In a Grove\"],[206051,\"Insider\"],[307997,\"Insider Black\"],[281259,\"The Isle of Cats\"],[338460,\"The Isle of Cats: Explore & Draw\"],[251219,\"Istanbul: Big Box\"],[173209,\"Knight Fight\"],[142325,\"Kobayakawa\"],[275467,\"Letter Jam\"],[110327,\"Lords of Waterdeep\"],[285774,\"Marvel Champions: The Card Game\"],[159581,\"Maskmen\"],[318977,\"MicroMacro: Crime City\"],[338834,\"MicroMacro: Crime City \\u2013 Full House\"],[244992,\"The Mind\"],[328569,\"Mint Bid\"],[299249,\"Mint Control\"],[282765,\"Mint Cooperative\"],[230251,\"Mint Delivery\"],[200077,\"Mint Works\"],[251622,\"Moneybags\"],[246696,\"Monster Match\"],[330403,\"Moon Adventure\"],[267945,\"Mr. Face\"],[128475,\"Murder of Crows\"],[188018,\"Nine Tiles\"],[279869,\"Nine Tiles Panic\"],[311457,\"Ninja Catfoot and the Covert Action\"],[353414,\"Ofrendados, the road to Mictl\\u00e1n\"],[248584,\"Pantone: The Game\"],[252526,\"Pictomania (Second Edition)\"],[215469,\"The Pyramid's Deadline\"],[259571,\"Quarriors! Qultimate Quedition\"],[317030,\"Quest: Avalon Big Box Edition\"],[170042,\"Raiders of the North Sea\"],[221372,\"Rick and Morty: Close Rick-Counters of the Rick Kind Deck-Building Game\"],[246534,\"Rick and Morty: The Rickshank Rickdemption Deck-Building Game\"],[176458,\"Rights\"],[305682,\"Rolling Realms\"],[193308,\"Spyfall 2\"],[223770,\"Startups\"],[279720,\"Streets\"],[267367,\"Suburbia: Collector's Edition\"],[253664,\"Taco Cat Goat Cheese Pizza\"],[246912,\"Take 5 & Take A Number\"],[153016,\"Telestrations: 12 Player Party Pack\"],[215341,\"Thunderstone Quest\"],[37141,\"Time's Up! Deluxe\"],[256479,\"TomaTomato\"],[242325,\"Tricks and the Phantom\"],[240822,\"Troika\"],[343,\"Twins\"],[2223,\"UNO\"],[234190,\"Unstable Unicorns\"],[241724,\"Villagers\"],[180020,\"Virus!\"],[255739,\"VOID\"],[281075,\"Welcome to New Las Vegas\"],[249289,\"Zogen\"],[68448,\"7 Wonders\"],[10547,\"Betrayal at House on the Hill\"],[240196,\"Betrayal Legacy\"],[10550,\"Big Boggle\"],[217547,\"Can't Stop Express\"],[84876,\"The Castles of Burgundy\"],[178900,\"C\\u00f3digo secreto\"],[217949,\"A Column of Fire\"],[891,\"Cranium\"],[40871,\"Crisis\"],[256570,\"Crown of Emara\"],[141653,\"Disc Duelers\"],[100423,\"Elder Sign\"],[146021,\"Eldritch Horror\"],[13823,\"Fairy Tale\"],[118705,\"Fantasma Blitz 2.0\"],[203430,\"Fuji Flush\"],[217780,\"Gentes\"],[193738,\"Great Western Trail\"],[212402,\"The Grimm Forest\"],[195314,\"Herbaceous\"],[246228,\"Impact: Battle of Elements\"],[31594,\"In the Year of the Dragon\"],[293141,\"King of Tokyo: Dark Edition\"],[29368,\"Last Night on Earth: The Zombie Game\"],[129622,\"Love Letter\"],[83330,\"Mansions of Madness\"],[252776,\"Muse: Awakenings\"],[157809,\"Nations: The Dice Game\"],[244711,\"Newton\"],[12942,\"No Thanks!\"],[25554,\"Notre Dame\"],[1234,\"Once Upon a Time: The Storytelling Card Game\"],[193558,\"The Oracle of Delphi\"],[161936,\"Pandemic Legacy: Season 1\"],[145186,\"Pick-a-Polar Bear\"],[131260,\"Qwixx\"],[79073,\"Resident Evil Deck Building Game\"],[51,\"Ricochet Robots\"],[9220,\"Saboteur\"],[175549,\"Salem 1692\"],[2375,\"Sequence\"],[133473,\"Sushi Go!\"],[25613,\"Through the Ages: A Story of Civilization\"],[9209,\"Ticket to Ride\"],[244536,\"Tiny Epic Zombies\"],[183394,\"Viticulture Essential Edition\"],[240892,\"8Bit Box\"],[302260,\"Abandon All Artichokes\"],[239472,\"Abomination: The Heir of Frankenstein\"],[286915,\"Adidoku Ni\\u00f1os: Frankenstein y Amigos\"],[284080,\"Adidoku: Marylin y Arte\"],[286785,\"Adidoku: Pancho Villa\"],[287216,\"ADIGMA (Second Edition)\"],[267814,\"Adventure Games: Monochrome Inc.\"],[267813,\"Adventure Games: The Dungeon\"],[295949,\"Adventure Games: The Grand Hotel Abaddon\"],[284082,\"Adventure Games: The Volcanic Island\"],[326494,\"The Adventures of Robin Hood\"],[6249,\"Alhambra\"],[311193,\"Anno 1800\"],[295948,\"Aqualin\"],[207208,\"Armageddon\"],[165796,\"Assel Schlamassel\"],[39683,\"At the Gates of Loyang\"],[184887,\"Atrapame si puedes\"],[231581,\"AuZtralia\"],[205078,\"Barcelona: La Rosa de Fuego\"],[127129,\"Batman: Arkham City Escape\"],[54137,\"Battle Sheep\"],[165950,\"Beasty Bar\"],[323612,\"Bitoku\"],[244331,\"Blue Lagoon\"],[312206,\"B\\u00f6se Kuh\"],[285894,\"Bravo!\"],[8392,\"Buckaroo!\"],[137909,\"Bugs in the Kitchen\"],[171499,\"Cacao\"],[329206,\"Calabozo: Cl\\u00e1sico Montecarlo de colecci\\u00f3n\"],[209812,\"Calabozo: La aventura de los anillos\"],[220443,\"Callisto\"],[153938,\"Camel Up\"],[295607,\"Canopy\"],[329954,\"Carcassonne: 20th Anniversary Edition\"],[206940,\"Carcassonne: Amazonas\"],[4390,\"Carcassonne: Hunters and Gatherers\"],[256065,\"Carcassonne: Safari\"],[147303,\"Carcassonne: South Seas\"],[134918,\"Cassette Juego: La Oca\"],[225653,\"Castellers!\"],[323614,\"Castle Party\"],[184842,\"Catan Junior\"],[298278,\"Catan: 25 Jahre Jubil\\u00e4ums-Edition\"],[305668,\"Catan: 25th Anniversary Edition\"],[191710,\"Catan: Big Box\"],[194097,\"Catan: Big Game Event Kit\"],[125921,\"Catan: Junior\"],[282853,\"Catan: Starfarers\"],[242574,\"Century: Eastern Wonders\"],[209685,\"Century: Spice Road\"],[87467,\"Checkers Gomoku\"],[171,\"Chess\"],[3570,\"Chicken Cha Cha Cha\"],[2386,\"Chinese Checkers\"],[5432,\"Chutes and Ladders\"],[17517,\"Clue Mysteries\"],[4928,\"Clue: 50th Anniversary Edition\"],[256980,\"The Color Monster\"],[147151,\"Concept\"],[2719,\"Connect Four\"],[269595,\"Copenhagen\"],[131499,\"Counting Fun\"],[8172,\"Coyote\"],[301637,\"Crazy Fishing\"],[284083,\"The Crew: The Quest for Planet Nine\"],[143986,\"CV\"],[8924,\"Dancing Eggs\"],[17136,\"DaVinci's Challenge\"],[223321,\"Detective: A Modern Crime Board Game\"],[54395,\"Difference\"],[156719,\"Dino Race\"],[256382,\"Disney Villainous\"],[295490,\"Dodo\"],[330995,\"Dogs Alone\"],[209418,\"Dominion (Second Edition)\"],[2394,\"Dominoes\"],[215311,\"Downforce\"],[16139,\"Draculix\"],[235655,\"Dragon's Breath\"],[1339,\"Dungeon!\"],[216907,\"The Dutch East Indies\"],[130792,\"The Enchanted Tower\"],[206931,\"Encore!\"],[201248,\"Evolution: The Beginning\"],[201825,\"Ex Libris\"],[298281,\"Exit: The Game + Puzzle \\u2013 The Sacred Temple\"],[226522,\"Exit: The Game \\u2013 Dead Man on the Orient Express\"],[203420,\"Exit: The Game \\u2013 The Abandoned Cabin\"],[255675,\"Exit: The Game \\u2013 The Catacombs of Horror\"],[295945,\"Exit: The Game \\u2013 The Cemetery of the Knight\"],[295944,\"Exit: The Game \\u2013 The Enchanted Forest\"],[215840,\"Exit: The Game \\u2013 The Forbidden Castle\"],[215841,\"Exit: The Game \\u2013 The Forgotten Island\"],[269968,\"Exit: The Game \\u2013 The Haunted Roller Coaster\"],[226519,\"Exit: The Game \\u2013 The House of Riddles\"],[244918,\"Exit: The Game \\u2013 The Mysterious Museum\"],[203416,\"Exit: The Game \\u2013 The Pharaoh's Tomb\"],[215842,\"Exit: The Game \\u2013 The Polar Station\"],[203417,\"Exit: The Game \\u2013 The Secret Lab\"],[206943,\"Exit: The Game \\u2013 The Secret of the Premiere\"],[226520,\"Exit: The Game \\u2013 The Sinister Mansion\"],[283797,\"Exit: The Game \\u2013 The Stormy Flight\"],[226518,\"Exit: The Game \\u2013 The Sunken Treasure\"],[283934,\"Exit: The Game \\u2013 Theft on the Mississippi\"],[191906,\"Family Flutter-By\"],[329095,\"Fantasmas Locos\"],[194088,\"Fast Flip\"],[35497,\"Fauna\"],[148764,\"Feuerdrachen\"],[14032,\"Finders keepers!\"],[206941,\"First Class: All Aboard the Orient Express!\"],[192455,\"First Martians: Adventures on the Red Planet\"],[41302,\"First Orchard\"],[199478,\"Flamme Rouge\"],[100901,\"Flash Point: Fire Rescue\"],[3945,\"Forbidden Bridge\"],[329561,\"Frog Party\"],[292032,\"Funkoverse Strategy Game: Harry Potter 100\"],[336794,\"Galaxy Trucker\"],[2785,\"Game of Goose\"],[153422,\"Gardens\"],[329533,\"Geistesblitz W\\u00fcrfelblitz\"],[30346,\"Get Smart Card Game\"],[132251,\"Ghooost!\"],[148532,\"Ghost Blitz: 5 to 12\"],[197760,\"Ghost Blitz: Spooky Doo\"],[188,\"Go\"],[7682,\"Go Fish\"],[4219,\"Goal\"],[195539,\"The Godfather: Corleone's Empire\"],[286160,\"Godspeed\"],[22198,\"Great Wall of China\"],[171668,\"The Grizzled\"],[269144,\"Hadara\"],[200871,\"Hanna Honeybee\"],[286749,\"Hansa Teutonica: Big Box\"],[361,\"Hare & Tortoise\"],[267568,\"HexRoller\"],[2655,\"Hive\"],[182218,\"Hoax (Second Edition)\"],[126444,\"The Hobbit Card Game\"],[71272,\"Hornet\"],[4162,\"Horse Show\"],[16362,\"Hula Hippos\"],[339906,\"The Hunger\"],[226562,\"Immortals\"],[131366,\"Un imperio en 8 minutos\"],[15512,\"Incan Gold\"],[233678,\"Indian Summer\"],[9674,\"Ingenious\"],[466,\"Inkognito\"],[271088,\"Ishtar: Jardines de Babilonia\"],[176494,\"Isle of Skye: From Chieftain to King\"],[148949,\"Istanbul\"],[26176,\"It's the Great Pumpkin, Charlie Brown\"],[2452,\"Jenga\"],[245431,\"Jurassic Park: Danger!\"],[394,\"Kahuna\"],[200147,\"Kanagawa\"],[281982,\"Karekare\"],[299684,\"Kh\\u00f4ra: Rise of an Empire\"],[352810,\"King of the Dice: The Board Game\"],[70323,\"King of Tokyo\"],[107529,\"Kingdom Builder\"],[165722,\"KLASK\"],[257944,\"Die kleine Hexe: Das verdrehte Memospiel\"],[181810,\"Kodama: The Tree Spirits\"],[96913,\"Lancaster\"],[184151,\"Legend of the Five Rings: The Card Game\"],[191538,\"Leo\"],[59959,\"Letters from Whitechapel\"],[128510,\"Lince Card Game\"],[159611,\"Little Observation\"],[328479,\"Living Forest\"],[770,\"Loot\"],[158340,\"Lost Legacy: Flying Garden\"],[14612,\"Lottery\"],[196326,\"Love Letter: Premium Edition\"],[205494,\"Machi Koro: Bright Lights, Big City\"],[341919,\"Magic Mountain\"],[463,\"Magic: The Gathering\"],[167698,\"Magic: The Gathering \\u2013 Arena of the Planeswalkers\"],[231309,\"Magic: The Gathering \\u2013 Explorers of Ixalan\"],[283863,\"The Magnificent\"],[230080,\"Majesty: For the Realm\"],[312243,\"Make Make\"],[260201,\"Manitoba\"],[26033,\"Marat\\u00f3n Cl\\u00e1sico\"],[297978,\"Mariposas\"],[2392,\"Mastermind\"],[8126,\"Maya\"],[331652,\"Mazescape: Ariadne\"],[331647,\"Mazescape: Lab\\u00fdrinthos\"],[179794,\"Me Want Cookies!\"],[180918,\"M\\u00e9ditations Foireuses\"],[131497,\"Meine ersten Spiele: Kleine Baumeister\"],[7688,\"Memory\"],[11634,\"Mexican Train\"],[191543,\"Micro Robots\"],[590,\"Mille Bornes\"],[158051,\"Mixamatou\"],[7098,\"Monopoly: Deluxe Edition\"],[4209,\"Monza\"],[97329,\"El mundo de \\u00c1guila Roja\"],[204505,\"Museum\"],[295486,\"My City\"],[41010,\"My First Carcassonne\"],[191004,\"My First Stone Age\"],[7181,\"Myths and Legends\"],[19996,\"Nacht der Magier\"],[217449,\"NMBR 9\"],[192860,\"Oc\\u00e9anos\"],[183840,\"Oh My Goods!\"],[125311,\"Okiya\"],[147949,\"One Night Ultimate Werewolf\"],[156336,\"Onirim (Second Edition)\"],[160477,\"Onitama\"],[2389,\"Othello\"],[352710,\"Ouch!\"],[23953,\"Outside the Scope of BGG\"],[2136,\"Pachisi\"],[300531,\"Paleo\"],[276498,\"Paris: La Cit\\u00e9 de la Lumi\\u00e8re\"],[163412,\"Patchwork\"],[19841,\"Pentago\"],[123885,\"Pick-a-Dog\"],[153225,\"Pick-a-Seal\"],[31111,\"Picture Dominoes\"],[116938,\"Pictureka: Disney Edition\"],[284108,\"Pictures\"],[18755,\"Pie Face\"],[274960,\"Point Salad\"],[9885,\"Put & Take Game\"],[306737,\"Rana Sapiens\"],[11930,\"Renju\"],[241831,\"Reykholt\"],[181,\"Risk\"],[129090,\"Roll For It!\"],[267009,\"Rome & Roll\"],[614,\"Rubik's Race\"],[312484,\"Las Ruinas Perdidas de Arnak\"],[15878,\"Rummy\"],[173389,\"Rush Hour Shift\"],[144733,\"Russian Railroads\"],[313531,\"Rustling Leaves\"],[199561,\"Sagrada\"],[329260,\"S\\u00e1ltame Si Puedes\"],[276830,\"Sanctum\"],[4864,\"Scene It?: The DVD Movie Game\"],[12859,\"Schatzjagd\"],[177844,\"Sector 6\"],[168204,\"Sesam, puzzle dich!\"],[1198,\"SET\"],[67429,\"Shapes & Colors\"],[324242,\"Sheepy Time\"],[145070,\"Sherlock Kids\"],[152847,\"Shinobi WAT-AAH!\"],[36745,\"Simply Ingenious\"],[13713,\"Solitaire\"],[260407,\"Soviet Kitchen Unleashed\"],[128671,\"Spartacus: A Game of Blood and Treachery\"],[148228,\"Splendor\"],[5711,\"Squad Seven\"],[117985,\"Star Trek: Catan\"],[10521,\"Star Trek: The Final Frontier\"],[260678,\"Stone Age: Anniversary\"],[3385,\"Stratego: Star Wars\"],[179460,\"Stronghold: 2nd edition\"],[171049,\"S\\u00faper Marat\\u00f3n\"],[11182,\"Super Scrabble\"],[192291,\"Sushi Go Party!\"],[1111,\"Taboo\"],[70919,\"Takenoko\"],[55833,\"Tarantel Tango\"],[118048,\"Targi\"],[335609,\"TEN\"],[244522,\"That's Pretty Clever!\"],[11901,\"Tic-Tac-Toe\"],[205125,\"Ticket to Ride: First Journey (U.S.)\"],[85256,\"Timeline: Inventions\"],[123540,\"Tokaido\"],[88,\"Torres\"],[121408,\"Trains\"],[182189,\"Treasure Hunter\"],[258104,\"Tribes: Dawn of Humanity\"],[2952,\"Trivial Pursuit: Genus Edition\"],[16992,\"Tsuro\"],[120264,\"Turista Mundial\"],[269210,\"Twice as Clever!\"],[126163,\"Tzolk'in: The Mayan Calendar\"],[16986,\"Ubongo\"],[118568,\"Ubongo Junior\"],[28258,\"Ubongo Mini\"],[12464,\"Ultimate Backgammon\"],[329591,\"Ultimate Railroads\"],[306735,\"Under Falling Skies\"],[159566,\"Unicorn Glitterluck: Cloud Crystals\"],[209095,\"UNO: Super Mario\"],[269526,\"Valley of the Vikings\"],[257058,\"Valpara\\u00edso\"],[277410,\"Veggies\"],[132326,\"Venetia\"],[88931,\"Verb\\u00e0lia, el joc\"],[276497,\"La Vi\\u00f1a\"],[351540,\"Walkie Talkie\"],[266192,\"Wingspan\"],[137095,\"The Witches: A Discworld Game\"],[302193,\"Wonder Woman: Challenge of the Amazons\"],[355093,\"Woodcraft\"],[3845,\"Yahtzee Jr.\"],[160851,\"Yangtze\"],[147363,\"Yu-Gi-Oh! Dice Masters\"],[4154,\"Yu-Gi-Oh! Trading Card Game\"],[62871,\"Zombie Dice\"],[432,\"6 nimmt!\"],[119890,\"Agricola: All Creatures Big and Small\"],[2425,\"Battleship\"],[155362,\"Ca$h 'n Guns: Second Edition\"],[103877,\"Casa Grande\"],[104162,\"Descent: Viaje a las Tinieblas (Segunda Edici\\u00f3n)\"],[172,\"For Sale\"],[8203,\"Hey! That's My Fish!\"],[42188,\"Make 'n' Break CHALLENGE\"],[124708,\"Mice and Mystics: De Ratones y Magia\"],[13308,\"Niagara\"],[164928,\"Orl\\u00e9ans\"],[156976,\"Planes\"],[37728,\"Rock the Beat\"],[152959,\"The Settlers of Catan: 15th Anniversary Wood Edition\"],[120677,\"Terra Mystica\"],[160610,\"Thunderbirds\"],[152242,\"Ultimate Werewolf: Deluxe Edition\"],[161706,\"Wayward Board Game\"],[79413,\"Wer war's?: Mitbringspiel\"],[36522,\"2 de Mayo\"],[317985,\"Beyond the Sun\"],[18803,\"Black Stories\"],[127060,\"Bora Bora\"],[36218,\"Dominion\"],[40834,\"Dominion: Intrigue\"],[148203,\"Dutch Blitz\"],[216403,\"Element\"],[159492,\"The Game of 49\"],[219574,\"Guerras Gato\"],[356909,\"Hand-to-Hand Wombat\"],[3910,\"Harry Potter: Diagon Alley Board Game\"],[38391,\"Kakerlakensuppe\"],[204583,\"Kingdomino\"],[209010,\"Mechs vs. Minions\"],[144325,\"Munchkin Legends\"],[167355,\"Nemesis\"],[32412,\"Palastgefl\\u00fcster\"],[162571,\"PBL Robots\"],[76065,\"Pictionary Card Game\"],[66056,\"Rivals for Catan\"],[188834,\"Secret Hitler\"],[147020,\"Star Realms\"],[146508,\"T.I.M.E Stories\"],[167791,\"Terraforming Mars\"],[34599,\"Toledo\"],[2243,\"Yahtzee: Cup Noodles\"],[137988,\"Zombicide Season 2: Prison Outbreak\"],[4098,\"Age of Steam\"],[185343,\"Anachrony\"],[143741,\"BANG! The Dice Game\"],[251247,\"Barrage\"],[50750,\"Belfort\"],[230244,\"Black Angel\"],[262215,\"Blackout: Hong Kong\"],[28720,\"Brass: Lancashire\"],[139898,\"Brew Crafters\"],[172308,\"Broom Service\"],[232988,\"The Castles of Burgundy: The Dice Game\"],[172287,\"Champions of Midgard\"],[192945,\"Coal Baron: The Great Card Game\"],[325022,\"Coffee Traders\"],[245638,\"Coimbra\"],[521,\"Crokinole\"],[150376,\"Dead of Winter: A Crossroads Game\"],[225694,\"Decrypto\"],[221194,\"Dinosaur Island\"],[82168,\"Escape from the Aliens in Outer Space\"],[193560,\"Escape the Room: Mystery at the Stargazer's Manor\"],[177736,\"A Feast for Odin\"],[157354,\"Five Tribes\"],[158918,\"FLY\"],[175155,\"Forbidden Stars\"],[171273,\"FUSE\"],[125153,\"The Gallerist\"],[205610,\"A Game of Thrones: Hand of the King\"],[249703,\"Gentes: Deluxified Edition\"],[298383,\"Golem\"],[182874,\"Grand Austria Hotel\"],[231327,\"The Grizzled: Armistice Edition\"],[338760,\"Imperial Steam\"],[127023,\"Kemet\"],[168584,\"Love Letter: Batman\"],[166107,\"Matcha\"],[181304,\"Mysterium\"],[72321,\"The Networks\"],[191051,\"Outlive\"],[256730,\"Pipeline\"],[172385,\"Porta Nigra\"],[244521,\"The Quacks of Quedlinburg\"],[204305,\"Sherlock Holmes Consulting Detective: Jack the Ripper & West End Adventures\"],[177678,\"Signorie\"],[255924,\"Snowdonia: Deluxe Master Set\"],[180852,\"Tiny Epic Western\"],[163068,\"Trickerion: Legends of Illusion\"],[191876,\"Ulm\"],[191231,\"Via Nebula\"],[104006,\"Village\"],[128621,\"Viticulture\"],[171623,\"The Voyages of Marco Polo\"],[146910,\"Wildcatters\"],[196340,\"Yokohama\"],[124847,\"1911 Amundsen vs Scott\"],[173346,\"7 Wonders Duel\"],[180263,\"The 7th Continent\"],[281946,\"Aftermath\"],[48726,\"Alien Frontiers\"],[332321,\"ALIEN: Fate of the Nostromo\"],[181495,\"Alone\"],[285967,\"Ankh: Gods of Egypt\"],[155068,\"Arcadia Quest\"],[171663,\"Attila\"],[355276,\"Batman: Everybody Lies\"],[324513,\"Batman: The Dark Knight Returns \\u2013 The Game\"],[358504,\"Betrayal at House on the Hill: 3rd Edition\"],[302809,\"Betrayal at Mystery Mansion\"],[132428,\"BioShock Infinite: The Siege of Columbia\"],[20750,\"Black Stories 2\"],[170216,\"Blood Rage\"],[314550,\"Campeones de Midgard: Big Box\"],[155426,\"Castles of Mad King Ludwig\"],[220520,\"Caverna: Cave vs Cave\"],[239188,\"Chronicles of Crime\"],[300300,\"Chronicles of Crime: 1400\"],[32171,\"El Club de los Martes\"],[206175,\"Cortex Challenge\"],[237629,\"Cortex Challenge 2\"],[261355,\"Cortex Challenge 3\"],[131357,\"Coup\"],[54998,\"Cyclades\"],[193037,\"Dead of Winter: The Long Night\"],[285192,\"Destinies\"],[256788,\"Detective Club\"],[309129,\"Disney: The Haunted Mansion \\u2013 Call of the Spirits Game\"],[181345,\"Dr. Eureka\"],[316554,\"Dune: Imperium\"],[155703,\"Evolution\"],[50,\"Exploradores\"],[66188,\"Fresco\"],[346143,\"The Game of Life: Super Mario Edition\"],[173275,\"Ghostbusters: The Board Game\"],[339031,\"The Goonies: Never Say Die\"],[339080,\"The Goonies: Under the Goondocks \\u2013 A Never Say Die Expansion\"],[339958,\"Gutenberg\"],[1855,\"Hedbanz\"],[243759,\"Hellboy: The Board Game\"],[282524,\"Horrified\"],[343562,\"Horrified: American Monsters\"],[255674,\"Imhotep: The Duel\"],[214000,\"In the Year of the Dragon: 10th Anniversary\"],[328908,\"The Initiative\"],[327711,\"It's a Wonderful Kingdom\"],[271324,\"It's a Wonderful World\"],[324246,\"Journey to the Center of the Earth\"],[8098,\"Jungle Speed\"],[313476,\"Kemet: Blood and Sand \\u2013 The Great Old Ones\"],[146652,\"Legendary Encounters: An Alien Deck Building Game\"],[24480,\"Los Pilares de la Tierra\"],[143075,\"Luchador! Mexican Wrestling Dice\"],[209778,\"Magic Maze\"],[205059,\"Mansions of Madness: Second Edition\"],[298047,\"Marvel United\"],[336382,\"Marvel United: X-Men\"],[181524,\"Masmorra: Dungeons of Arcadia\"],[150811,\"Mega Man: The Board Game\"],[230508,\"Mega Man: The Board Game \\u2013 Boss Pack\"],[176920,\"Mission: Red Planet (Second Edition)\"],[317231,\"Monasterium\"],[249833,\"Monopoly Gamer: Mario Kart\"],[234396,\"Muse\"],[328866,\"My Father's Work\"],[306709,\"The Night Cage\"],[213984,\"Notre Dame: 10th Anniversary\"],[184267,\"On Mars\"],[22465,\"On the Dot\"],[172047,\"The Others\"],[192153,\"Pandemic: Reign of Cthulhu\"],[280136,\"Paranormal Detectives\"],[266524,\"PARKS\"],[45,\"Perudo\"],[204879,\"Planet Defenders\"],[256589,\"Rallyman: GT\"],[358816,\"Rear Window\"],[161417,\"Red7\"],[233896,\"Resident Evil 2: The Board Game\"],[136000,\"Rivet Wars: Eastern Front\"],[121921,\"Robinson Crusoe: Adventures on the Cursed Island\"],[326804,\"Rorschach\"],[115233,\"Rory's Story Cubes: Voyages\"],[121787,\"RY\\u016a\"],[372,\"Schotten Totten\"],[302344,\"Scooby-Doo: Escape from the Haunted Mansion\"],[287258,\"Secret Night at Davis Manor\"],[157969,\"Sheriff of Nottingham\"],[2511,\"Sherlock Holmes Consulting Detective: The Thames Murders & Other Cases\"],[196379,\"Shit Happens\"],[242302,\"Space Base\"],[162886,\"Spirit Island\"],[256606,\"Spirits of the Wild\"],[166384,\"Spyfall\"],[164153,\"Star Wars: Imperial Assault\"],[194897,\"Star Wars: Imperial Assault \\u2013 The Bespin Gambit\"],[158392,\"Stay Away!\"],[294232,\"Stolen Paintings\"],[233312,\"Stuffed Fables\"],[264220,\"Tainted Grail: The Fall of Avalon\"],[286096,\"Tapestry\"],[250396,\"Terminator Genisys: Rise of the Resistance\"],[137,\"Tick... tack... BOOM!\"],[173156,\"Timeline Challenge\"],[99975,\"Timeline: Discoveries\"],[113401,\"Timeline: Events\"],[309430,\"Tiny Epic Pirates\"],[257527,\"Trapwords\"],[12333,\"Twilight Struggle\"],[247763,\"Underwater Cities\"],[191189,\"Aeon's End\"],[212487,\"AFFLICTION: Salem 1692\"],[232361,\"After The Virus\"],[256852,\"Aliens: Another Glorious Day in the Corps\"],[313919,\"Aliens: Bug Hunt\"],[15987,\"Arkham Horror\"],[239942,\"Black Rose Wars\"],[340569,\"Blood Orders\"],[195856,\"Bloodborne: The Card Game\"],[172081,\"Burgle Bros.\"],[260605,\"Camel Up (Second Edition)\"],[159503,\"The Captain Is Dead\"],[271751,\"The Captain Is Dead: Dangerous Planet\"],[208804,\"The Captain Is Dead: Lockdown\"],[84889,\"Cave Evil\"],[236304,\"Cerebria: The Card Game\"],[478,\"Citadels\"],[207243,\"The City of Kings\"],[314503,\"Codex Naturalis\"],[192116,\"Cthulhu: A Deck Building Game\"],[125608,\"The Current Number of the Beast\"],[197831,\"Dark Souls: The Board Game\"],[204007,\"Dark Souls: The Board Game \\u2013 The Last Giant Boss Expansion\"],[193670,\"Darkest Night: Second Edition\"],[175095,\"Dawn of the Zeds (Third Edition)\"],[141423,\"Dead Men Tell No Tales\"],[318009,\"Dinosaur Island: Rawr 'n Write\"],[62219,\"Dominant Species\"],[262941,\"Dominant Species: Marine\"],[346057,\"Don't Go In There\"],[172540,\"Dragoon\"],[108722,\"Dreadfleet\"],[257164,\"Dungeon Raiders\"],[163968,\"Elysium\"],[133848,\"Euphoria: Build a Better Dystopia\"],[296912,\"Fort\"],[220308,\"Gaia Project\"],[173090,\"The Game\"],[42776,\"Gears of War: The Board Game\"],[253756,\"Gorus Maximus\"],[176083,\"Hit Z Road\"],[154597,\"Hive Pocket\"],[176524,\"Hoplomachus: Origins\"],[271319,\"Las Vegas Royale\"],[1426,\"Lord of the Rings: The Search\"],[198740,\"Lovecraft Letter\"],[96848,\"Mage Knight Board Game\"],[165492,\"The Majority: Complete Edition\"],[156496,\"March of the Ants\"],[188547,\"Maximum Apocalypse\"],[200957,\"NecronomiCORP\"],[187617,\"Nemo's War (Second Edition)\"],[332420,\"Nexum Galaxy\"],[165812,\"Nightmare Forest: Dead Run\"],[179275,\"One Deck Dungeon\"],[224821,\"One Deck Dungeon: Forest of Shadows\"],[239464,\"Palm Island\"],[297139,\"Potato Pirates: Enter the Spudnet\"],[347157,\"RabbitZ & Robots\"],[276499,\"Ratzzia\"],[237182,\"Root\"],[228855,\"Set a Watch\"],[307386,\"Set a Watch: Swords of the Coin\"],[248949,\"Skull Tales: Full Sail!\"],[40692,\"Small World\"],[165838,\"Space Hulk (Fourth Edition)\"],[54625,\"Space Hulk (Third Edition)\"],[71721,\"Space Hulk: Death Angel \\u2013 The Card Game\"],[162286,\"Super Motherload\"],[170771,\"Sword & Sorcery\"],[188920,\"This War of Mine: The Board Game\"],[238656,\"Tiny Epic Defenders (Second Edition)\"],[291508,\"Tiny Epic Dinosaurs\"],[331787,\"Tiny Epic Dungeons\"],[334889,\"Tiny Epic Dungeons: Deluxe Edition\"],[334888,\"Tiny Epic Dungeons: Stories\"],[163967,\"Tiny Epic Galaxies\"],[257283,\"Tiny Epic Mechs\"],[201921,\"Tiny Epic Quest\"],[192135,\"Too Many Bones\"],[235802,\"Too Many Bones: Undertow\"],[225885,\"Unbroken\"],[156482,\"Unknown\"],[249259,\"War Chest\"],[115746,\"War of the Ring: Second Edition\"],[257316,\"Weapon Wars\"],[304666,\"Wild Life: The Card Game\"],[227935,\"Wonderland's War\"],[163602,\"XCOM: The Board Game\"],[82222,\"Xia: Legends of a Drift System\"],[176189,\"Zombicide: Black Plague\"],[220284,\"Zombie Dawn\"],[64956,\"10 Days in the Americas\"],[63706,\"11 nimmt!\"],[177590,\"13 D\\u00edas: La crisis de los misiles en Cuba\"],[217,\"\\u00c0 la carte\"],[172818,\"Above and Below\"],[41658,\"Adios Amigos\"],[183231,\"Adventure Land\"],[43868,\"The Adventurers: The Temple of Chac\"],[27165,\"Age of Discovery\"],[90419,\"Airlines Europe\"],[45358,\"Alhambra: Big Box\"],[110277,\"Among the Stars\"],[179803,\"Arcadia Quest: Inferno\"],[136056,\"Asante\"],[72991,\"Asara\"],[760,\"Battle Line\"],[123123,\"BattleCON: Devastation of Indines\"],[162388,\"BattleCON: Fate of Indines\"],[89409,\"BattleCON: War of Indines\"],[146439,\"BattleLore: Second Edition\"],[168435,\"Between Two Cities\"],[398,\"Botswana\"],[203405,\"Brutal Kingdom\"],[164159,\"BUS\"],[130882,\"Cardline: Animals\"],[145014,\"Cardline: Globetrotter\"],[191977,\"The Castles of Burgundy: The Card Game\"],[176589,\"Cat Box\"],[192467,\"Cat Tower: Kickstarter Edition\"],[195503,\"City of Iron: Second Edition\"],[133528,\"City of Remnants\"],[27746,\"Colosseum\"],[39463,\"Cosmic Encounter\"],[194553,\"Dairyman\"],[172837,\"Dead Man's Chest\"],[224815,\"Deca Slayer\"],[216856,\"Demon Worker\"],[17226,\"Descent: Journeys in the Dark\"],[40793,\"Dice Town\"],[168446,\"Doggy GO!\"],[171913,\"Doggy Go! Plus\"],[36235,\"The Duke\"],[150312,\"Dungeon of Mandom\"],[144525,\"Dungeon Twister: The Card Game\"],[113294,\"Escape: The Curse of the Temple\"],[211962,\"Forest of Tataraba\"],[221965,\"The Fox in the Forest\"],[19427,\"Gemblo\"],[66362,\"Glen More\"],[144761,\"Going, Going, GONE!\"],[154086,\"Gold West\"],[171908,\"El Grande: Edici\\u00f3n 20\\u00ba aniversario\"],[132372,\"Guildhall\"],[158600,\"Hanamikoji\"],[1899,\"La Herencia de T\\u00eda Agata\"],[11170,\"Heroscape Master Set: Rise of the Valkyrie\"],[27976,\"Heroscape Master Set: Swarm of the Marro\"],[116954,\"Indigo\"],[119632,\"IOTA\"],[185589,\"Islebound\"],[54043,\"Jaipur\"],[215154,\"Jungli-La\"],[159506,\"Kaiju\"],[172996,\"The King Is Dead\"],[27162,\"Kingsburg\"],[180867,\"Kitty Paw\"],[196,\"Kremlin\"],[1219,\"Labyrinth\"],[117959,\"Las Vegas\"],[153065,\"Linko!\"],[173341,\"Loopin' Chewie\"],[327,\"Loopin' Louie\"],[18833,\"Lord of the Rings: The Confrontation\"],[172503,\"Mage Wars Academy\"],[75789,\"Mai-Star\"],[199,\"Manhattan\"],[145308,\"Marrying Mr. Darcy\"],[148575,\"Marvel Dice Masters: Avengers vs. X-Men\"],[251293,\"Megaland\"],[175199,\"Mottainai\"],[72287,\"Mr. Jack Pocket\"],[152,\"M\\u00fc & More\"],[234691,\"Mystery of the Temples\"],[195421,\"Near and Far\"],[187787,\"Nerdy Inventions\"],[15363,\"Nexus Ops\"],[1107,\"Nyet!\"],[176361,\"One Night Revolution\"],[141572,\"Paperback\"],[175088,\"Pharaoh's Gulo Gulo\"],[98229,\"Pictomania\"],[169274,\"Pixel Tactics Deluxe\"],[158851,\"Play Me: Alice in Wonderdice\"],[187988,\"Pyramid Arcade\"],[143519,\"Quantum\"],[6485,\"Quidditch: The Game\"],[3202,\"RAF\"],[41114,\"The Resistance\"],[128882,\"The Resistance: Avalon\"],[37380,\"Roll Through the Ages: The Bronze Age\"],[180198,\"Rolling America\"],[165986,\"Royals\"],[141736,\"Sail to India\"],[166669,\"San Juan (Second Edition)\"],[172011,\"Savanna Trick\"],[40508,\"Scrabble Slam!\"],[108745,\"Seasons\"],[135116,\"Seventh Hero\"],[229741,\"Shadows in Kyoto\"],[594,\"Sleuth\"],[37196,\"Sorry! Sliders\"],[142079,\"Space Cadets: Dice Duel\"],[939,\"Star Wars: The Queen's Gambit\"],[169146,\"Stone Garden\"],[123260,\"Suburbia\"],[129556,\"Tapple\"],[146278,\"Tash-Kalar: Arena of Legends\"],[236709,\"The Tea Dragon Society Card Game\"],[187607,\"\\u3066\\u3065\\u307e\\u5e2b (Tezuma Master)\"],[142961,\"Thunderstone Advance: Numenera\"],[116998,\"Thunderstone Advance: Towers of Ruin\"],[152765,\"Thunderstone Advance: Worlds Collide\"],[160069,\"Ticket to Ride: 10th Anniversary\"],[161547,\"Timeline: Americana\"],[205604,\"Tricksters\"],[174893,\"TROLL\"],[100679,\"Ultimate Warriorz\"],[442,\"Um Reifenbreite\"],[150999,\"Valley of the Kings\"],[174252,\"Vampire Radar\"],[194690,\"Viral\"],[139899,\"VivaJava: The Coffee Game: The Dice Game\"],[219215,\"Werewords\"],[215471,\"Wind the Film!\"],[20100,\"Wits & Wagers\"],[208480,\"Wordsy\"],[7854,\"YINSH\"],[337,\"\\u306a\\u3064\\u306e\\u305f\\u304b\\u3089\\u3082\\u306e\"],[41,\"\\u30ad\\u30e3\\u30f3\\u30c8\\u30fb\\u30b9\\u30c8\\u30c3\\u30d7\"],[1382,\"\\u30ed\\u30a4\\u30e4\\u30eb\\u30bf\\u30fc\\u30d5\"],[346703,\"7 Wonders: Architects\"],[287839,\"8 Bit Attack\"],[230085,\"Agra\"],[287505,\"Alien: Perfect Organism\"],[299960,\"Alma Mater\"],[228959,\"Alubari: A Nice Cup of Tea\"],[229240,\"Ancestree\"],[74,\"Apples to Apples\"],[159508,\"AquaSphere\"],[283393,\"Aquatica\"],[140934,\"Arboretum\"],[204295,\"Arcadia Quest: Mamba & Rosh\"],[204296,\"Arcadia Quest: Viola & Crash\"],[204299,\"Arcadia Quest: Yona & Kuruk\"],[236457,\"Architects of the West Kingdom\"],[222862,\"Archmage\"],[342942,\"Ark Nova\"],[257499,\"Arkham Horror (Third Edition)\"],[254713,\"The Artemis Project\"],[223201,\"Attack of the Jelly Monster\"],[188866,\"Awkward Guests\"],[202443,\"Barker's Row\"],[178210,\"Batman Fluxx\"],[308329,\"The Batman Who Laughs Rising\"],[222514,\"Batman: Gotham City Chronicles\"],[204175,\"Batman: The Animated Series Dice Game\"],[272767,\"Batman: The Animated Series \\u2013 Rogues Gallery\"],[347749,\"Bee War\"],[255524,\"Belfort: Edici\\u00f3n Limitada\"],[258036,\"Between Two Castles of Mad King Ludwig\"],[34219,\"Biblios\"],[171233,\"The Big Book of Madness\"],[180593,\"The Bloody Inn\"],[304420,\"Bonfire\"],[343905,\"Boonlake\"],[301576,\"Breakdancing Meeples\"],[308989,\"Bristol 1350\"],[348326,\"C\\u00e1bula\"],[238992,\"Call to Adventure\"],[266993,\"Call to Adventure: The Stormlight Archive\"],[302281,\"Candy Lab\"],[245934,\"Carpe Diem\"],[263918,\"Cartographers\"],[271320,\"The Castles of Burgundy\"],[150485,\"Cat Tower\"],[284818,\"Caylus 1303\"],[312318,\"Century: Golem Edition \\u2013 An Endless World\"],[218479,\"Cerebria: The Inside World\"],[267378,\"Chakra\"],[240567,\"Chocolate Factory\"],[302098,\"Chronicles of Crime: 1900\"],[302312,\"Chronicles of Crime: 2400\"],[131682,\"City of Gears\"],[216132,\"Clans of Caledonia\"],[265784,\"Cleopatra and the Society of Architects: Deluxe Edition\"],[272739,\"Clinic: Deluxe Edition\"],[264982,\"Coloma\"],[269160,\"Colors of Paris\"],[269511,\"Cooper Island\"],[344277,\"Corrosion\"],[270956,\"The Court of Miracles\"],[248918,\"Court of the Dead: Mourners Call\"],[214887,\"CO\\u2082: Second Chance\"],[300753,\"Cross Clues\"],[280480,\"Crystal Palace\"],[179303,\"Cthulhu Realms\"],[139976,\"Cthulhu Wars\"],[344338,\"Cuphead: Fast Rolling Dice Game\"],[5298,\"Curses!\"],[264321,\"Dead Man's Cabal\"],[245197,\"Deadwood 1876\"],[162082,\"Deus\"],[310632,\"Dice Miner\"],[216734,\"Dice Throne: Season One\"],[266967,\"Dice Throne: Season Two \\u2013 Cursed Pirate v. Artificer\"],[266966,\"Dice Throne: Season Two \\u2013 Gunslinger v. Samurai\"],[266964,\"Dice Throne: Season Two \\u2013 Seraph v. Vampire Lord\"],[266965,\"Dice Throne: Season Two \\u2013 Tactician v. Huntress\"],[317457,\"Dinosaur World\"],[358027,\"Disney Big Thunder Mountain Railroad\"],[337929,\"Disney Gargoyles: Awakening\"],[303648,\"Disney Hocus Pocus: The Game\"],[337754,\"Disney It's a Small World Game\"],[303650,\"Disney Jungle Cruise Adventure Game\"],[331050,\"Disney Villainous: Despicable Plots\"],[284760,\"Disney Villainous: Evil Comes Prepared\"],[299047,\"Disney Villainous: Perfectly Wretched\"],[271518,\"Disney Villainous: Wicked to the Core\"],[344334,\"Disney's Kingdom Hearts Perilous Pursuit\"],[205317,\"DOOM: The Board Game\"],[13004,\"The Downfall of Pompeii\"],[180761,\"Dreamwell\"],[283355,\"Dune\"],[262208,\"Dungeon Drop\"],[97207,\"Dungeon Petz\"],[138788,\"Dungeon Roll\"],[279254,\"Ecos: First Continent\"],[189807,\"Elder Sign: Omens of Ice\"],[329450,\"Equinox\"],[270971,\"Era: Medieval Age\"],[142379,\"Escape Plan\"],[299800,\"Escape Tales: Children of Wyrmwoods\"],[237415,\"Espinas\"],[280794,\"Etherfields\"],[206718,\"Ethnos\"],[199792,\"Everdell\"],[292126,\"Excavation Earth\"],[220780,\"Fairy Tile\"],[198609,\"Fate of the Elder Gods\"],[163839,\"Feudum\"],[233020,\"Fireball Island: The Curse of Vul-Kar\"],[322564,\"Fjords\"],[216597,\"Flatline\"],[293275,\"Flyin' Goblin\"],[244049,\"Forum Trajanum\"],[280032,\"Fossilis\"],[290829,\"Fresco: Mega Box\"],[318084,\"Furnace\"],[181279,\"Fury of Dracula (Third/Fourth Edition)\"],[286171,\"Gates of Delirium\"],[195275,\"Ghostbusters: The Board Game II\"],[246192,\"Gizmos\"],[12692,\"Gloom\"],[275044,\"Glow\"],[278120,\"God of War: The Card Game\"],[250458,\"G\\u00f9g\\u014dng\"],[304783,\"Hadrian's Wall\"],[227789,\"Heaven & Ale\"],[182120,\"Histrio\"],[295957,\"Holi: Festival of Colors\"],[236537,\"The Hollow Woods: Storytelling Card Game\"],[257006,\"Homebrewers\"],[244513,\"ICECOOL2\"],[218804,\"Imaginarium\"],[265402,\"In the Hall of the Mountain King\"],[254427,\"Incubation\"],[326767,\"Infinity N4: Core Rules\"],[270109,\"Iwari\"],[253399,\"Journal 29: Interactive Book Game\"],[1751,\"Jumanji\"],[149112,\"Kill Shakespeare\"],[154509,\"Kingsport Festival\"],[199382,\"Kingsport Festival: The Card Game\"],[161533,\"Lisboa\"],[269385,\"The Lord of the Rings: Journeys in Middle-Earth\"],[222509,\"Lords of Hellas\"],[178958,\"The Lords of Rock\"],[323613,\"LUNA Capital\"],[301257,\"Maglev Metro\"],[276025,\"Maracaibo\"],[348406,\"Marvel Dice Throne\"],[302336,\"Marvel Villainous: Infinite Power\"],[335528,\"Marvel Villainous: Mischief & Malice\"],[285905,\"Marvel: Crisis Protocol\"],[241106,\"Masque of the Red Death\"],[291511,\"Medici: The Dice Game\"],[300683,\"Meeple Land\"],[212580,\"Mega Man Pixel Tactics: Mega Man Blue\"],[212581,\"Mega Man Pixel Tactics: Proto Man Red\"],[300217,\"Merchants of the Dark Road\"],[302189,\"Merlin: Big Box\"],[306040,\"Merv: The Heart of the Silk Road\"],[290468,\"Mint Condition Comics\"],[230408,\"Monopoly Gamer\"],[214293,\"Mountains of Madness\"],[21763,\"Mr. Jack\"],[164237,\"Neptun\"],[154602,\"Night of the Grand Octopus\"],[270269,\"Ninja Academy\"],[264925,\"Nocturion\"],[233676,\"Noria\"],[249505,\"Nyctophobia\"],[192074,\"Odin's Ravens (Second Edition)\"],[322588,\"Origins: First Builders\"],[222542,\"Otys\"],[301638,\"Out Of This World\"],[324963,\"Pac-Man: The Card Game\"],[266810,\"Paladins of the West Kingdom\"],[291962,\"Paper Dungeons: A Dungeon Scrawler Game\"],[217861,\"Paper Tales\"],[241066,\"Papillon\"],[172546,\"Parfum\"],[210274,\"Petrichor\"],[218603,\"Photosynthesis\"],[272889,\"Pictionary Air\"],[299963,\"Picture Perfect\"],[303551,\"Polis\"],[308765,\"Praga Caput Regni\"],[87890,\"Pr\\u00eat-\\u00e0-Porter\"],[108687,\"Puerto Rico\"],[228341,\"Pulsar 2849\"],[6068,\"Queen's Necklace\"],[300700,\"Quetzal\"],[301880,\"Raiders of Scythia\"],[202732,\"Raise Your Goblets\"],[314401,\"Rapa Nui\"],[208024,\"The Reckoners\"],[262712,\"Res Arcana\"],[306637,\"Resident Evil 3: The Board Game\"],[265260,\"Revolution of 1828\"],[218333,\"Rhino Hero: Super Battle\"],[205896,\"Rising Sun\"],[40251,\"Risk: Balance of Power\"],[179719,\"Risk: Game of Thrones\"],[10383,\"Risk: Godstorm\"],[103469,\"Risk: Metal Gear Solid\"],[183880,\"Risk: Star Wars Edition\"],[15045,\"Risk: Star Wars \\u2013 Clone Wars Edition\"],[18,\"RoboRally\"],[296100,\"Rococo: Deluxe Edition\"],[169426,\"Roll Player\"],[285265,\"Rune Stones\"],[224079,\"Sailing Toward Osiris\"],[67593,\"Die S\\u00e4ulen der Erde: das Kartenspiel\"],[279537,\"The Search for Planet X\"],[234877,\"Sebastian Fitzek Safehouse\"],[344167,\"The Shadow World: A Sci-Fi Storytelling Game\"],[1070,\"Shadows in the Forest\"],[263222,\"Shards of the Jaguar\"],[302280,\"Shifting Stones\"],[255037,\"Silk\"],[275391,\"Skulk\"],[246684,\"Smartphone Inc.\"],[296626,\"Sonora\"],[243358,\"Space Park\"],[183562,\"Star Wars: X-Wing Miniatures Game \\u2013 The Force Awakens Core Set\"],[301011,\"Starlink\"],[220628,\"Stellium\"],[21036,\"Stratego: Star Wars Saga Edition\"],[127784,\"Suspend\"],[179820,\"Tail Feathers\"],[34119,\"Tales of the Arabian Nights\"],[273976,\"Talisman: Kingdom Hearts\"],[181811,\"Tatsu\"],[282390,\"Tattoo Brawl\"],[297030,\"Tekhenu: Obelisk of the Sun\"],[328871,\"Terraforming Mars: Ares Expedition\"],[276817,\"Tetris Speed\"],[274533,\"Throw Throw Burrito\"],[261901,\"Tokyo Highway\"],[218530,\"Tortuga 1667\"],[226146,\"Tower of Madness\"],[257987,\"The Towers of Arkhanos\"],[102680,\"Trajan\"],[242639,\"Treasure Island\"],[274363,\"Trial of the Temples\"],[255668,\"Trickerion: Collector's Edition\"],[281442,\"Trismegistus: The Ultimate Formula\"],[73439,\"Troyes\"],[266177,\"Tsuro: Phoenix Rising\"],[12493,\"Twilight Imperium: Third Edition\"],[323206,\"Uk'otoa\"],[340466,\"Unfathomable\"],[216092,\"Unlock!: Escape Adventures \\u2013 Squeek & Sausage\"],[335764,\"Unmatched: Battle of Legends, Volume Two\"],[326933,\"Unmatched: Redemption Row\"],[75223,\"Utopia Engine\"],[193105,\"Utopia Engine: Beast Hunter\"],[340325,\"Vagrantsong\"],[245659,\"Vampire: The Masquerade \\u2013 Vendetta\"],[175640,\"Vinhos: Deluxe Edition\"],[296151,\"Viscounts of the West Kingdom\"],[316090,\"Vivid Memories\"],[75165,\"De Vulgari Eloquentia\"],[256729,\"Wacky Races: The Board Game\"],[195560,\"Wasteland Express Delivery Service\"],[204575,\"Way of the Panda\"],[233867,\"Welcome To...\"],[137958,\"Wild West Exodus\"],[335427,\"Wild: Serengeti\"],[282922,\"Windward\"],[122599,\"Winter Tales\"],[38506,\"Witch of Salem\"],[318560,\"Witchstone\"],[192351,\"World Monuments\"],[168433,\"The World of Smog: On Her Majesty's Service\"],[209324,\"The World of SMOG: Rise of Moloch\"],[43528,\"World Without End\"],[315937,\"X-Men: Mutant Insurrection\"],[284107,\"Zodiac Clash\"],[46147,\"\\u0421\\u0432\\u0438\\u043d\\u0442\\u0443\\u0441\"],[275913,\"Bruxelles 1897\"],[7805,\"Fearsome Floors\"],[85036,\"20th Century\"],[73369,\"51st State\"],[27848,\"Age of Conan: The Strategy Board Game\"],[22545,\"Age of Empires III: The Age of Discovery\"],[88005,\"Aguila Roja\"],[137408,\"Amerigo\"],[39339,\"Android\"],[118063,\"Android: Infiltration\"],[145633,\"Ascension: Apprentice Edition\"],[69789,\"Ascension: Deckbuilding Game\"],[95064,\"Ascension: Return of the Fallen\"],[108784,\"Ascension: Storm of Souls\"],[61692,\"Axis & Allies Europe 1940\"],[30933,\"BANG! The Bullet!\"],[93538,\"Battleship Galaxies\"],[37111,\"Battlestar Galactica: The Board Game\"],[93724,\"Black Gold\"],[11,\"Bohnanza\"],[40270,\"Call of Cthulhu: The Card Game\"],[2795,\"Car Wars\"],[43443,\"Castle Panic\"],[4491,\"Cave Troll\"],[43111,\"Chaos in the Old World\"],[105593,\"Cheating Moth\"],[120217,\"City of Horror\"],[36932,\"Claustrophobia\"],[160010,\"Conan\"],[169464,\"Defenders of the Last Stand\"],[177823,\"Devil's Run: Route 666\"],[10640,\"Doom: The Boardgame\"],[161617,\"Dungeon Lords: Happy Anniversary\"],[59946,\"Dungeons & Dragons: Castle Ravenloft Board Game\"],[92044,\"Dungeons & Dragons: Conquest of Nerath Board Game\"],[91872,\"Dungeons & Dragons: The Legend of Drizzt Board Game\"],[66356,\"Dungeons & Dragons: Wrath of Ashardalon Board Game\"],[73171,\"Earth Reborn\"],[72125,\"Eclipse\"],[159504,\"Folklore: The Affliction\"],[95103,\"Fortune and Glory: The Cliffhanger Game\"],[20963,\"Fury of Dracula (Second Edition)\"],[39953,\"A Game of Thrones: The Card Game\"],[37046,\"Ghost Stories\"],[38862,\"Giants\"],[93,\"El Grande\"],[63543,\"Horus Heresy\"],[33040,\"Humans!!!\"],[9565,\"James Bond 007 Assault! Game\"],[34585,\"Keltis\"],[55690,\"Kingdom Death: Monster\"],[173805,\"Lobotomy\"],[40816,\"Magestorm\"],[15817,\"Manila\"],[25292,\"Merchants & Marauders\"],[902,\"Meuterer\"],[169427,\"Middara: Unintentional Malum \\u2013 Act 1\"],[18258,\"Mission: Red Planet\"],[1927,\"Munchkin\"],[25071,\"Munchkin Cthulhu\"],[21241,\"Neuroshima Hex! 3.0\"],[120605,\"Neuroshima: Convoy\"],[168537,\"Pandemonium\"],[69552,\"Panic Station\"],[133038,\"Pathfinder Adventure Card Game: Rise of the Runelords \\u2013 Base Set\"],[44163,\"Power Grid: Factory Manager\"],[36648,\"Pyramid of Pengqueen\"],[28143,\"Race for the Galaxy\"],[17133,\"Railways of the World\"],[36946,\"Red November\"],[181530,\"Runebound (Third Edition)\"],[59294,\"Runewars\"],[150997,\"Shadows of Brimstone: Swamps of Death\"],[15062,\"Shadows over Camelot\"],[176103,\"Shogun Big Box\"],[77130,\"Sid Meier's Civilization: The Board Game\"],[123096,\"Space Cadets\"],[187645,\"Star Wars: Rebellion\"],[103885,\"Star Wars: X-Wing Miniatures Game\"],[22827,\"StarCraft: The Board Game\"],[121410,\"Steam Park\"],[45986,\"Stronghold\"],[92190,\"Super Dungeon Explore\"],[143405,\"Sylvion\"],[25261,\"Tannh\\u00e4user\"],[35815,\"A Touch of Evil: The Supernatural Game\"],[148319,\"Tragedy Looper\"],[233078,\"Twilight Imperium: Fourth Edition\"],[42131,\"War of the Ring\"],[22038,\"Warrior Knights\"],[17223,\"World of Warcraft: The Boardgame\"],[161866,\"Zombicide Season 3: Rue Morgue\"],[10167,\"Zombies!!! 4: The End...\"],[202408,\"Adrenaline\"],[218948,\"Apocalypse Road\"],[304531,\"Ascension Tactics: Miniatures Deckbuilding Game\"],[320698,\"Blitz Bowl: Season 2\"],[258210,\"Blitzkrieg!: World War Two in 20 Minutes\"],[181161,\"Brick Party\"],[338957,\"Caesar!: Seize Rome in 20 Minutes!\"],[201808,\"Clank!: Una aventura de construcci\\u00f3n de mazos\"],[227163,\"Cooking Rumble\"],[192457,\"Cry Havoc\"],[293531,\"Detective: A Modern Crime Board Game \\u2013 Season One\"],[291794,\"Dice Throne: Season One ReRolled\"],[268776,\"Doxa: The Card Game\"],[334049,\"The Dragon Prince: Battlecharged\"],[271055,\"Dwellings of Eldervale\"],[207729,\"The Edge: Dawnfall\"],[223040,\"Fantasy Realms\"],[302723,\"Forgotten Waters\"],[180602,\"Game of Trains\"],[281658,\"Hats\"],[314530,\"Iwari: Deluxe Edition\"],[199966,\"Kingsburg (Second Edition)\"],[240855,\"Lockup: A Roll Player Tale\"],[41239,\"Mamma Mia! Plus\"],[283948,\"Marco Polo II: In the Service of the Khan\"],[244191,\"Naga Raja\"],[56692,\"Parade\"],[196202,\"Rum & Bones: Second Tide\"],[198890,\"Rum & Bones: Second Tide \\u2013 Cutthroats Hero Pack\"],[225975,\"Rum & Bones: Second Tide \\u2013 Mercenaries Hero's Chest\"],[230218,\"Rum & Bones: Second Tide \\u2013 Mercenaries Promos Set #3\"],[217670,\"Rum & Bones: Second Tide \\u2013 Sea Monsters\"],[228328,\"Rurik: Dawn of Kiev\"],[284785,\"Sherlock Junior: Suriguri\"],[266444,\"Sherlock: 13 Hostages\"],[250779,\"Sherlock: Death on the 4th of July\"],[296986,\"Sherlock: Entre tumbas\"],[250780,\"Sherlock: Last Call\"],[255984,\"Sleeping Gods\"],[227893,\"Smile\"],[257193,\"Starcadia Quest\"],[331992,\"Steampunk Rally Fusion: Atomic Edition\"],[194517,\"Super Fantasy Brawl\"],[309113,\"Ticket to Ride: Amsterdam\"],[329841,\"Ticket to Ride: Europe \\u2013 15th Anniversary\"],[31627,\"Ticket to Ride: Nordic Countries\"],[285826,\"Ultra Tiny Epic Galaxies\"],[294612,\"Unlock!: Epic Adventures\"],[254226,\"Unlock!: Exotic Adventures\"],[239307,\"Unlock!: Secret Adventures\"],[279613,\"Unlock!: Timeless Adventures\"],[274637,\"Unmatched: Battle of Legends, Volume One\"],[315060,\"Unmatched: Buffy the Vampire Slayer\"],[294484,\"Unmatched: Cobble & Fog\"],[284777,\"Unmatched: Jurassic Park \\u2013 InGen vs Raptors\"],[325635,\"Unmatched: Little Red Riding Hood vs. Beowulf\"],[274638,\"Unmatched: Robin Hood vs. Bigfoot\"],[287754,\"Warhammer Underworlds: Beastgrave\"],[261594,\"Warhammer Underworlds: Nightvault\"],[198454,\"When I Dream\"],[301255,\"Whistle Mountain\"],[5,\"Acquire\"],[105551,\"Archipelago\"],[36739,\"Black Sheep\"],[136888,\"Bruges\"],[161226,\"The Builders: Antiquity\"],[144553,\"The Builders: Middle Ages\"],[19237,\"Ca$h 'n Gun$\"],[18602,\"Caylus\"],[5782,\"Coloretto\"],[172062,\"Fairytale Gloom\"],[23964,\"The Game of Life (40th Anniversary Edition)\"],[104527,\"The Game of Life Adventure Edition\"],[116,\"Guillotine\"],[154246,\"La Isla\"],[142615,\"The Jelly Monster Lab\"],[109276,\"Kanban: Driver's Edition\"],[119781,\"Legacy: Gears of Time\"],[158339,\"Lost Legacy: The Starship\"],[70512,\"Luna: In the Domain of the Moon Priestess\"],[99875,\"Martian Dice\"],[139030,\"Mascarade\"],[88950,\"Palenque\"],[128780,\"Pax Porfiriana\"],[148951,\"Peque\\u00f1os Grandes Reinos\"],[85250,\"El Rey de los Enanos\"],[93577,\"Rocket Jockey\"],[27833,\"Steam: Rails to Riches\"],[175961,\"Three Cheers for Master\"],[285998,\"Tiny Epic Tactics: Deluxe Edition\"],[35505,\"Walk the Plank!\"],[231218,\"BLACK SONATA\"],[289397,\"CRAZY TACO\"],[258244,\"DISCOVER\"],[192401,\"DUNGEON TIME\"],[149809,\"ESCAPE ZOMBIE CITY\"],[207336,\"HONSHU\\n\"],[129051,\"LE HAVRE 2J\"],[175307,\"LOVE LETTER ADVENTURE TIME\"],[313935,\"MARIANA TRENCH\"],[31563,\"MIDDLE EARTH QUEST\"],[126042,\"NATIONS\"],[231197,\"RAXXON\"],[311465,\"Roll & Raid\"],[229220,\"Santa Maria\"],[218995,\"SANTO DOMINGO\"],[150145,\"SKULL KING\\n\"],[137269,\"SPYRIUM\"],[166317,\"TIME OF SOCCER\"],[17027,\"TIRO AL PATO\"],[312267,\"UNLOCK SW\"],[213460,\"Unlock!: Escape Adventures\"],[256151,\"VERACRUZ 1631\"],[25951,\"The Castle of the Devil\"],[153064,\"Good Cop Bad Cop\"],[115105,\"Kittens in a Blender\"],[125548,\"Pixel Tactics\"],[134352,\"Two Rooms and a Boom\"],[31016,\"We Didn't Playtest This At All\"],[42448,\"We Didn't Playtest This Either\"],[2397,\"Backgammon\"],[157403,\"Black Fleet\"],[6411,\"Blokus 3D\"],[140933,\"Blueprints\"],[128412,\"Bohn to Be Wild!\"],[224517,\"Brass: Birmingham\"],[2181,\"Bridge\"],[50381,\"Cards Against Humanity\"],[205398,\"Citadels\"],[224037,\"Codenames: Duet\"],[124361,\"Concordia\"],[324856,\"The Crew: Mission Deep Sea\"],[215371,\"CrossTalk\"],[156129,\"Deception: Murder in Hong Kong\"],[9364,\"Doppelkopf\"],[7918,\"Eagle Eye Agency\"],[121297,\"Fleet\"],[220,\"High Society\"],[63888,\"Innovation\"],[205597,\"Jump Drive\"],[254640,\"Just One\"],[73761,\"K2\"],[28738,\"Kamon\"],[142039,\"Lost Legacy\"],[143884,\"Machi Koro\"],[176558,\"Mafia de Cuba\"],[6268,\"Maze\"],[2955,\"Mexica\"],[208895,\"New York Slice\"],[1115,\"Poker\"],[681,\"Quarto\"],[9217,\"Saint Petersburg\"],[8217,\"San Juan\"],[2381,\"Scattergories\"],[6819,\"Skat\"],[274037,\"Solar Storm\"],[63268,\"Spot it!\"],[40432,\"Stratego (Revised Edition)\"],[204472,\"Sub Terra\"],[182028,\"Through the Ages: A New Story of Civilization\"],[195544,\"Tides of Madness\"],[54,\"Tikal\"],[154634,\"Yardmaster\"],[154499,\"Hot Tin Roof\"],[3837,\"Rat-a-Tat Cat\"],[17405,\"1846: The Race for the Midwest\"],[267058,\"300: Earth & Water\"],[268586,\"6 nimmt! 25 Jahre\"],[38343,\"Ad Astra\"],[144728,\"Adventure Time Card Wars: Finn vs. Jake\"],[118000,\"Africana\"],[305462,\"The Age of Atlantis\"],[200680,\"Agricola (Revised Edition)\"],[154458,\"Akrotiri\"],[5404,\"Amun-Re\"],[153999,\"...and then, we held hands.\"],[166857,\"Antike II\"],[13122,\"Antiquity\"],[282297,\"Aqua Mirabilis\"],[144797,\"Argent: The Consortium\"],[260316,\"Art Decko\"],[205346,\"Beer Empire\"],[299838,\"The Belgian Beers Race\"],[277927,\"Bites\"],[90137,\"Blood Bowl: Team Manager \\u2013 The Card Game\"],[154905,\"Brew Crafters: Travel Card Game\"],[144592,\"Bruxelles 1893\"],[181260,\"Burano\"],[552,\"Bus\"],[284936,\"Caf\\u00e9\"],[199383,\"Calimala\"],[290236,\"Canvas\"],[171131,\"Captain Sonar\"],[230751,\"Carcassonne f\\u00fcr 2\"],[131014,\"Carcassonne: Edici\\u00f3n Invierno\"],[12902,\"Carcassonne: The City\"],[310873,\"Carnegie\"],[39938,\"Carson City\"],[57390,\"Catacombs\"],[189067,\"Cavern Tavern\"],[333372,\"Cellulose: A Plant Cell Biology Game\"],[328636,\"Chai (Deluxe Edition)\"],[103649,\"The City\"],[123499,\"City of Iron\"],[240465,\"CIV: Carta Impera Victoria\"],[143515,\"Coal Baron\"],[277448,\"Coloma: Deluxe Edition\"],[192934,\"Colony\"],[125028,\"Colorpop\"],[98351,\"Core Worlds\"],[327890,\"Creature Comforts: Kickstarter Edition\"],[170624,\"Crusaders: Thy Will Be Done\"],[330608,\"Cryo\"],[147431,\"Cubist\"],[201842,\"Cup of Bluff\"],[237145,\"Daimyo: Rebirth of the Empire\"],[191597,\"Dale of Merchants 2\"],[111124,\"Dark Moon\"],[125678,\"DC Comics Deck-Building Game\"],[155463,\"DC Comics Deck-Building Game: Forever Evil\"],[96713,\"Deadwood\"],[175846,\"Deck Building: The Deck Building Game\"],[322561,\"Dice Throne: Season One ReRolled \\u2013 Barbarian v. Moon Elf\"],[322562,\"Dice Throne: Season One ReRolled \\u2013 Monk v. Paladin\"],[322563,\"Dice Throne: Season One ReRolled \\u2013 Pyromancer v. Shadow Thief\"],[320527,\"Dice Throne: Season One ReRolled \\u2013 Treant v. Ninja\"],[210296,\"DinoGenics\"],[193981,\"Downfall\"],[200280,\"Dragon Brew\"],[205185,\"Einstein: His Amazing Life and Incomparable Science\"],[214211,\"Einstein: His Amazing Life and Incomparable Science \\u2013 The Genius Expansion\"],[173442,\"Empires: Age of Discovery\"],[207687,\"Endangered Orphans of Condyle Cove\"],[47125,\"El Erudito\"],[272682,\"Expedition to Newdale\"],[183284,\"Factory Funner\"],[151446,\"La Fallera Calavera\"],[38548,\"Fast Flowing Forest Fellers\"],[171011,\"Favor of the Pharaoh\"],[259586,\"Feudum: Big Box\"],[159675,\"Fields of Arle\"],[15511,\"Fjords\"],[170202,\"Floating Market\"],[317411,\"Florence\"],[204574,\"The Flow of History\"],[358104,\"The Forgotten Kingdom\"],[287941,\"Formosa Tea\"],[139991,\"Fresco: Big Box\"],[84469,\"F\\u00fcrstenfeld\"],[257273,\"Ghosts of the Moor\"],[128271,\"Ginkgopolis\"],[143693,\"Glass Road\"],[265188,\"Glen More II: Chronicles\"],[9216,\"Goa\"],[12632,\"Goldbr\\u00e4u\"],[146886,\"La Granja\"],[111417,\"The Great Heartland Hauling Co.\"],[350933,\"The Guild of Merchant Explorers\"],[300322,\"Hallertau\"],[30381,\"Hamburgum\"],[903,\"Hamsterrolle\"],[155969,\"Harbour\"],[200058,\"Harvest\"],[216718,\"Haspelknecht: The Ruhr Valley\"],[169794,\"Haspelknecht: The Story of Early Coal Mining\"],[35677,\"Le Havre\"],[320718,\"Hidden Leaders\"],[327971,\"Hippocrates\"],[119788,\"Hyperborea\"],[276090,\"Icaion\"],[177478,\"IKI\"],[154203,\"Imperial Settlers\"],[304285,\"Infinity Gauntlet: A Love Letter Game\"],[155821,\"Inis\"],[161882,\"Irish Gauge\"],[18946,\"Just Desserts\"],[284378,\"Kanban EV\"],[122515,\"Keyflower\"],[173649,\"King Chocolate\"],[111732,\"Kings of Air and Steam\"],[191982,\"Knit Wit\"],[171879,\"Kraftwagen: V6 Edition\"],[97842,\"Last Will\"],[129437,\"Legendary: A Marvel Deck Building Game\"],[169470,\"Lemuria\"],[140620,\"Lewis & Clark: The Expedition\"],[125618,\"Libertalia\"],[65781,\"London\"],[236191,\"London (Second Edition)\"],[156566,\"Lords of Xidit\"],[242804,\"Lowlands\"],[257067,\"Magnastorm\"],[176734,\"The Manhattan Project: Energy Empire\"],[280453,\"Masters of Renaissance: Lorenzo il Magnifico \\u2013 The Card Game\"],[262477,\"Mercado de Lisboa\"],[238799,\"Messina 1347\"],[189192,\"Mi Tierra: New Era\"],[240529,\"Microbrew\"],[172386,\"Mombasa\"],[112598,\"Monster Factory\"],[293264,\"Monsters on Board\"],[265681,\"Montmartre\"],[323317,\"Mouse Cheese Cat Cucumber\"],[315252,\"Murano: Complete Edition\"],[109969,\"Mutant Meeples\"],[65907,\"Mystery Express\"],[242653,\"Mysthea\"],[245931,\"Neta-Tanka: Deluxe Edition\"],[157413,\"New Bedford\"],[93971,\"Nile DeLuxor\"],[154809,\"Nippon\"],[343362,\"Oak\"],[147241,\"Oaxaca: Crafts of a Culture\"],[40198,\"Oktoberfest\"],[276004,\"On the Origin of Species\"],[251412,\"On Tour\"],[159515,\"Operation F.A.U.S.T.\"],[70149,\"Ora et Labora\"],[255507,\"Orbis\"],[129948,\"The Palaces of Carrara\"],[131287,\"Panamax\"],[195867,\"Pap\\u00e0 Paolo\"],[257966,\"Passing Through Petra\"],[276205,\"Philosophia: Dare to be Wise\"],[195162,\"Plague Inc.: The Board Game\"],[258779,\"Planet Unknown\"],[223779,\"Pocket Mars\"],[555,\"The Princes of Florence\"],[329082,\"Radlands\"],[253635,\"Ragusa\"],[89927,\"Ramses Return\"],[242684,\"Reavers of Midgard\"],[12962,\"Reef Encounter\"],[137297,\"Rise of Augustus\"],[218293,\"Rise to Nobility\"],[634,\"River Dragons\"],[96792,\"The Road to Canterbury\"],[144344,\"Rococo\"],[226254,\"The Ruhr: A Story of Coal Trade\"],[156943,\"Saint Petersburg (Second Edition)\"],[150533,\"Samurai Gardener\"],[298065,\"Santa Monica\"],[104347,\"Santiago de Cuba\"],[223518,\"Scott Pilgrim's Precious Little Card Game\"],[102652,\"Sentinels of the Multiverse\"],[313262,\"Shamans\"],[230765,\"Side Effects\"],[268620,\"Similo\"],[38453,\"Space Alert\"],[189350,\"Starving Artists\"],[180592,\"Steam Time\"],[323156,\"Stroganov\"],[310194,\"Surrealist Dinner Party\"],[39206,\"Tac Tac Jack\"],[118776,\"Tahiti\"],[186323,\"Tavarua\"],[269207,\"The Taverns of Tiefenthal\"],[306481,\"Tawantinsuyu: The Inca Empire\"],[97903,\"Terror in Meeple City\"],[132544,\"Tesla vs. Edison: War of Currents\"],[30869,\"Thebes\"],[182351,\"Thief's Market\"],[503,\"Through the Desert\"],[276894,\"Ticket to Ride: London\"],[253284,\"Ticket to Ride: New York\"],[176229,\"Tides of Time\"],[158917,\"TKO\"],[42215,\"Tobago\"],[250754,\"Trade on the Tigris\"],[24827,\"Traders of Osaka\"],[288513,\"Tranquility\"],[313065,\"Transmissions\"],[216094,\"Unlock!: Escape Adventures \\u2013 The Island of Doctor Goorse\"],[245352,\"Unlock!: Secret Adventures \\u2013 A Noside Story\"],[274466,\"Valley of the Kings: Premium Edition\"],[193927,\"Vanuatu (Second Edition)\"],[274861,\"Venice\"],[27173,\"Vikings\"],[257769,\"Walking in Burano\"],[274364,\"Watergate\"],[368390,\"Windward Collector's Edition\"],[339302,\"Winterhaven Woods\"],[178336,\"World's Fair 1893\"],[117915,\"Yedo\"],[280575,\"Yin Yang\"],[187515,\"Zooscape\"],[277672,\"303 Squadron\"],[300664,\"Arkwright: The Card Game\"],[194230,\"Attack on Titan: Deck-Building Game\"],[165283,\"Battleship\"],[273330,\"Bloodborne: The Board Game\"],[342388,\"Bonanza\"],[221805,\"Breaking Bad: The Board Game\"],[37589,\"Clue: Discover the Secrets\"],[158899,\"Colt Express\"],[281515,\"Company of Heroes\"],[256916,\"Concordia Venus\"],[938,\"Enchanted Forest\"],[30539,\"Get Bit!\"],[198994,\"Hero Realms\"],[134253,\"Hostage Negotiator\"],[225167,\"Human Punishment: Social Deduction 2.0\"],[24181,\"Imperial\"],[346659,\"Infinity CodeOne: Operation Crimson Stone\"],[307621,\"K2: Big Box\"],[223953,\"Kitchen Rush\"],[174570,\"Legendary Encounters: A Predator Deck Building Game\"],[1,\"Die Macher\"],[259081,\"Machi Koro Legacy\"],[10630,\"Memoir '44\"],[164840,\"Monopoly Deal\"],[300877,\"New York Zoo\"],[106753,\"Ooga Booga\"],[282954,\"Paris\"],[27624,\"Pictionary: 15th Anniversary\"],[217372,\"The Quest for El Dorado\"],[98960,\"Rogue Agent\"],[94362,\"Rune Age\"],[228183,\"Star Scrappers: Cave-in\"],[233571,\"Star Wars: Legion\"],[283474,\"Star Wars: Legion \\u2013 Clone Wars Core Set\"],[230791,\"Time of Legends: Joan of Arc\"],[240082,\"Time of Legends: Joan of Arc \\u2013 Village Pack\"],[272409,\"Tiny Epic Tactics\"],[175495,\"Titan Race\"],[219512,\"Tudor\"],[1294,\"Clue\"],[160499,\"King of New York\"],[5878,\"Loteria\"],[1406,\"Monopoly\"],[11691,\"Patolli\"],[6424,\"Pick Up Sticks\"],[1381,\"Pok\\u00e9mon Master Trainer\"],[2407,\"Sorry!\"],[128664,\"Timeline\"],[2821,\"UNO Stacko\"],[25821,\"The Werewolves of Miller's Hollow\"],[203427,\"Fabled Fruit\"],[266083,\"L.L.A.M.A.\"],[277085,\"Love Letter\"],[155873,\"Power Grid Deluxe: Europe/North America\"],[3,\"Samurai\"],[475,\"Taj Mahal\"],[30645,\"Tammany Hall\"],[42,\"Tigris & Euphrates\"],[6830,\"Zendo\"],[22398,\"10 Days in Asia\"],[7866,\"10 Days in the USA\"],[204298,\"Arcadia Quest: Anvil & Valma\"],[189197,\"Arcadia Quest: Chaos Dragon\"],[188448,\"Arcadia Quest: H\\u00eflda\"],[199352,\"Arcadia Quest: Hoshi\"],[189261,\"Arcadia Quest: Nina\"],[204303,\"Arcadia Quest: Pet Pack 2\"],[234069,\"Arcadia Quest: Pets \\u2013 Chuck\"],[234070,\"Arcadia Quest: Princess Pearl\"],[260789,\"Assassin's Creed: Brotherhood of Venice\"],[6187,\"Avalon\"],[164865,\"B-Sieged: Sons of the Abyss\"],[244267,\"BarBEARian Battlegrounds\"],[107733,\"The Big Bang Theory: The Party Game\"],[212445,\"Blood Bowl (2016 Edition)\"],[195518,\"Crazy Karts\"],[245134,\"Dackel Drauf!\"],[254683,\"Dodos Riding Dinos\"],[115735,\"Dragons' Den Board Game\"],[160081,\"Dungeon Saga: Dwarf King's Quest\"],[35540,\"Emprendiendo\"],[170,\"Family Business\"],[146221,\"Forge War\"],[233868,\"HATE\"],[299252,\"Here to Slay\"],[198830,\"Heroes of Land, Air & Sea\"],[287938,\"Kitchen Rush (Revised Edition)\"],[155822,\"Krosmaster Junior\"],[112138,\"Krosmaster: Arena\"],[151456,\"Krosmaster: Arena \\u2013 Duel Pack 1\"],[155827,\"Krosmaster: Quest\"],[220784,\"The Legend of the Cherry Tree that Blossoms Every Ten Years\"],[195547,\"LOAD: League of Ancient Defenders\"],[14808,\"Marvel Heroes\"],[202241,\"Masmorra: Dungeons of Arcadia \\u2013 Adventurers Set\"],[223136,\"Masmorra: Dungeons of Arcadia \\u2013 Kickstarter Exclusives\"],[197070,\"Massive Darkness\"],[234672,\"Massive Darkness: Lightbringer Pack\"],[186751,\"Mythic Battles: Pantheon\"],[262534,\"Oak & Iron: Core Box\"],[256997,\"Perseverance: Castaway Chronicles \\u2013 Episodes 1 & 2\"],[234429,\"Raids\"],[202583,\"Rise of Tribes\"],[126789,\"Risk: Halo Legendary Edition\"],[131261,\"Risk: StarCraft Collector's Edition\"],[8107,\"Risk: The Lord of the Rings Trilogy Edition\"],[27961,\"Risk: Transformers \\u2013 Cybertron Battle Edition\"],[242343,\"Siege Storm\"],[218395,\"Sine Tempore\"],[122522,\"Smash Up\"],[156548,\"Super Dungeon Explore: Forgotten King\"],[252153,\"Tang Garden\"],[264378,\"Time of Legends: Joan of Arc \\u2013 Super Exclusives\"],[299450,\"Tsukuyumi: Full Moon Down (Second Edition)\"],[256250,\"The Waylanders\"],[925,\"Werewolf\"],[244654,\"Wildlands\"],[32424,\"1848: Australia\"],[278292,\"Anachrony: Infinity Box\"],[154825,\"Arkwright\"],[6752,\"Attack!\"],[219513,\"B\\u00e4renpark\"],[347521,\"Blitzkrieg!: World War Two in 20 Minutes\"],[193651,\"Bohemian Villages\"],[252556,\"Bosk\"],[337765,\"Brian Boru: High King of Ireland\"],[328565,\"Caper: Europe\"],[300327,\"The Castles of Tuscany\"],[248900,\"Ceylon\"],[31730,\"Chicago Express\"],[286261,\"Chrono Corsairs\"],[214880,\"City of the Big Shoulders\"],[316858,\"CloudAge\"],[192836,\"The Colonists\"],[175023,\"Crows Overkill\"],[250442,\"Crypt\"],[312251,\"Curious Cargo\"],[286431,\"Electropolis\"],[11825,\"Empire of the Sun\"],[182352,\"Exodus Fleet\"],[75449,\"Firenze\"],[81640,\"Florenza\"],[833,\"For the People\"],[248005,\"Ganymede\"],[134157,\"Guilds of London\"],[225317,\"Halloween\"],[223971,\"H\\u00e0nz\\u00ec\"],[231554,\"Herbalism\"],[281655,\"High Frontier 4 All\"],[26566,\"Homesteaders\"],[286439,\"Import / Export: Definitive Edition\"],[158548,\"Isaribi\"],[285792,\"Jig\\u016ban: The Eastern Mechanist\"],[201856,\"Last Will\"],[222407,\"Lignum (Second Edition)\"],[185021,\"Liguria\"],[198525,\"Lotus\"],[317504,\"Mandala Stones\"],[244794,\"Mercado\"],[300751,\"Mini Express\"],[225818,\"Mini Rails\"],[240096,\"Moonshiners of the Apocalypse\"],[163413,\"Murano\"],[310100,\"Nemesis: Lockdown\"],[234277,\"Nusfjord\"],[231733,\"Obsession\"],[245487,\"Orchard: A 9 card solitaire game\"],[297674,\"Pacific Rails Inc.\"],[280789,\"Pandemic: Rapid Response\"],[256960,\"Pax Pamir: Second Edition\"],[308119,\"Pax Renaissance: 2nd Edition\"],[303954,\"Pax Viking\"],[301084,\"Polynesia\"],[331265,\"Port Royal: Big Box\"],[256728,\"Raiatea\"],[177639,\"Raptor\"],[297486,\"Ride the Rails\"],[229965,\"Rival Realms\"],[205498,\"Round House\"],[204493,\"Sakura Arms\"],[220730,\"The Scarlet Pimpernel\"],[145659,\"Scoville\"],[148261,\"SeaFall\"],[25021,\"Sekigahara: The Unification of Japan\"],[339614,\"Shinkansen: Zero Kei\"],[235767,\"Sorcerer & Stones\"],[249689,\"Sovereign Skies\"],[235375,\"Spirits of the Forest\"],[193428,\"Street Fighter: The Miniatures Game\"],[9625,\"Struggle of Empires\"],[316786,\"Tabannusi: Builders of Ur\"],[272427,\"Terramara\"],[321277,\"Tinners' Trail\"],[180205,\"Trans-Siberian Railroad\"],[142124,\"Tsukiji\"],[279198,\"Tungaru\"],[257614,\"Tussie Mussie\"],[62220,\"Urban Sprawl\"],[161762,\"Wakanda\"],[281466,\"Yedo: Deluxe Master Set\"],[285992,\"Pac-Man: The Board Game\"],[301919,\"Pandemic: Hot Zone \\u2013 North America\"],[244691,\"UNO: Minecraft\"],[258070,\"Alice\"],[17104,\"Canasta\"],[253185,\"Chai\"],[249821,\"Codenames: Harry Potter\"],[146130,\"Coin Age\"],[32165,\"Darjeeling\"],[179572,\"Dice City\"],[12995,\"Dungeon Twister\"],[258154,\"Fluttering Souls\"],[139992,\"Kaosball: The Fantasy Sport of Total Domination\"],[178591,\"Lunarchitects\"],[101721,\"Mage Wars Arena\"],[192185,\"Matryoshka\"],[140271,\"Maximum Throwdown\"],[169987,\"Maximum Throwdown: Overload\"],[154386,\"Medieval Academy\"],[176396,\"Quadropolis\"],[8243,\"Rolit\"],[93260,\"Summoner Wars: Master Set\"],[157526,\"Viceroy\"],[231314,\"\\u771f\\u6253 (Shin-Uchi)\"],[234487,\"Altiplano\"],[202737,\"Are You Dumber Than a Box of Rocks?\"],[160567,\"BANG!: The Walking Dead\"],[167513,\"Barony\"],[191624,\"Bear Valley\"],[168421,\"Bohnanza: Ladies & Gangsters\"],[238638,\"Castell\"],[191529,\"Chefs\"],[251420,\"Choose Your Own Adventure: House of Danger\"],[220775,\"Codenames: Disney \\u2013 Family Edition\"],[243697,\"Cooks & Crooks\"],[197455,\"Dice Heist\"],[218580,\"Divinity Derby\"],[1509,\"Dogfight\"],[172242,\"Exploding Kittens: NSFW Deck\"],[280896,\"Foodies\"],[169255,\"A Game of Thrones: The Card Game (Second Edition)\"],[245349,\"A Game of Thrones: The Card Game (Second Edition) \\u2013 Sands of Dorne\"],[316622,\"Gods Love Dinosaurs\"],[325414,\"Happy Little Dinosaurs\"],[262290,\"The Hunger Games: Mockingjay \\u2013 The Board Game\"],[191894,\"Imagine\"],[180901,\"Joraku\"],[320390,\"Kabuto Sumo\"],[257,\"Kill Doctor Lucky\"],[204602,\"Kill The Unicorns\"],[319966,\"The King Is Dead: Second Edition\"],[216974,\"King's Road\"],[223602,\"Klondike Rush\"],[124380,\"Ladies & Gentlemen\"],[85394,\"The Last Banquet\"],[154553,\"Last Letter\"],[280726,\"Legacies\"],[218165,\"La Macarena\"],[202288,\"Medici: The Card Game\"],[277700,\"Merchants Cove\"],[230933,\"Merlin\"],[559,\"Metro\"],[156546,\"Monikers\"],[269418,\"On the Rocks\"],[150298,\"One Zero One\"],[300076,\"PARKS Memories: Plains Walker\"],[200890,\"Pixie Queen\"],[300611,\"Ponle Acento\"],[172557,\"Pretense\"],[218179,\"Princess Jing\"],[145203,\"Prosperity\"],[331573,\"Pusheen Purrfect Pick\"],[266830,\"QE\"],[265524,\"Ramen Fury\"],[232473,\"Ratland\"],[287589,\"Red Outpost\"],[194232,\"Rick and Morty: Total Rickall Card Game\"],[344759,\"The Rocketeer: Fate of the Future\"],[275061,\"Rulebenders\"],[196358,\"Sound Quartett\"],[220547,\"Sparkle*Kitty\"],[299372,\"Succulent\"],[95386,\"Tem-Purr-A\"],[34373,\"Tiki Topple\"],[216632,\"Tournament at Camelot\"],[245658,\"Unicorn Fever\"],[187377,\"Vikings Gone Wild\"],[241491,\"Who Did It?\"],[170300,\"Wombat Rescue\"],[259501,\"Xerxes\"],[234828,\"Xi'an\"],[113924,\"Zombicide\"],[251037,\"1347: De Nigrae Pestis Ludo\"],[226009,\"Alien vs Predator: The Hunt Begins (Second Edition)\"],[230889,\"Aristeia!\"],[167400,\"Ashes Reborn: Rise of the Phoenixborn\"],[223740,\"Bargain Quest\"],[246855,\"Boss Monster: Rise of the Minibosses\"],[131835,\"Boss Monster: The Dungeon Building Card Game\"],[163642,\"Chimera Station\"],[253344,\"Cthulhu: Death May Die\"],[256988,\"Cthulhu: Death May Die \\u2013 Black Goat of the Woods\"],[246535,\"DC Deck-Building Game: Rebirth\"],[202077,\"Deep Madness\"],[247236,\"Duelosaur Island\"],[287507,\"Evil Dead 2: The Board Game\"],[149776,\"Fireteam Zero\"],[103343,\"A Game of Thrones: The Board Game (Second Edition)\"],[196306,\"Guildhall Fantasy: Coalition\"],[2944,\"Halli Galli\"],[146559,\"Infamy\"],[230191,\"The Island of El Dorado\"],[250561,\"Kick-Ass: The Board Game\"],[127398,\"Legends of Andor\"],[132497,\"Lift it!\"],[331190,\"Meeples & Monsters: Kickstarter Edition\"],[220632,\"Monster Slaughter\"],[220827,\"Planet Apocalypse\"],[240752,\"RE-LOAD\"],[91773,\"Resident Evil Deck Building Game: Alliance\"],[232666,\"Robin Hood and the Merry Men\"],[294508,\"Saboteur: The Mother Lode Bonus Pack\"],[212346,\"Shadows of Brimstone: Forbidden Fortress\"],[259061,\"Skytear\"],[155624,\"Specter Ops\"],[177147,\"Survive: Space Attack!\"],[180771,\"Teenage Mutant Ninja Turtles: Shadows of the Past\"],[321720,\"Twisted Fables: Deluxe Edition\"],[170416,\"Vast: The Crystal Caverns\"],[224783,\"Vindication\"],[247585,\"Waste Knights: Second Edition\"],[282216,\"Wolves of Mercia\"],[200750,\"Zombicide: Black Plague \\u2013 Huntsman Pack\"],[224710,\"Zombicide: Green Horde\"],[230345,\"Zombicide: Green Horde \\u2013 Fatty Bursters\"],[248065,\"Zombicide: Invader\"]],\"hovertemplate\":\"LDA1=%{x}<br>LDA2=%{y}<br>LDA3=%{z}<br>GameId=%{customdata[0]}<br>GameName=%{customdata[1]}<extra></extra>\",\"legendgroup\":\"\",\"marker\":{\"color\":\"#1F77B4\",\"symbol\":\"circle\"},\"mode\":\"markers\",\"name\":\"\",\"scene\":\"scene\",\"showlegend\":false,\"x\":[0.8750534446932138,0.912681286890009,0.6974772292457544,0.876832157599086,0.9211851830545829,0.9232930835980317,0.583688103471418,0.8924371997277133,0.8707873838547306,0.8971866376229036,0.8869082170704787,0.9179260325078457,0.8722078153460833,0.908411892514909,0.8860281606400131,0.8833293181377058,0.21014060473929347,0.9156570180060046,0.9003686623676213,0.9137709804220596,0.88440663719261,0.9248015203779993,0.9151718349538744,0.8702563255995777,0.8728292295523603,0.271059563053451,0.9023533278886473,0.892663187338134,0.8841387069357048,0.8877566906839748,0.8778256072740604,0.7664817606823604,0.4443410724186695,0.8887116672769825,0.8946666006905771,0.8728552690008331,0.8961847497441243,0.8985286753637398,0.8700475684717434,0.45822014995078614,0.6669946603824134,0.8859256080202053,0.566035938343259,0.08682283962099653,0.10824722962415352,0.912647104152464,0.25148587790646737,0.9233161216674053,0.8703329833824057,0.8979226959119604,0.8881283646612208,0.06516701586826228,0.8993913570665432,0.8850753925847511,0.8773155161933845,0.9046741172560457,0.8722607836523676,0.907601005342966,0.8283702214813242,0.8826531611638113,0.92126455686054,0.18684298603441746,0.8923660509488531,0.8804982889031483,0.4176997234097023,0.9040648081347922,0.8809967703910918,0.3512637625957768,0.8927640877799482,0.34872965672325407,0.640477550274249,0.897979825891926,0.07549445931870744,0.883891667588023,0.8690406550221965,0.9014329438361576,0.9150704205087565,0.6125850460497962,0.42129733891891896,0.8893874610903278,0.5883212613350386,0.919978165286111,0.874276321028604,0.8811950313558294,0.9062801865496634,0.3258723988717406,0.8739015015684833,0.9026940701317954,0.877807302326302,0.8838364785588497,0.9017721090802979,0.892056276570256,0.877627987464541,0.9088344881775963,0.9125737906891618,0.1327635648932592,0.9049095754727688,0.8769755891235326,0.9114394245881938,0.926168541118862,0.638797413748982,0.6306847415986598,0.6687302060790968,0.5123774759751324,0.8921646591595193,0.8782442404414124,0.9121025911770536,0.6056901348432864,0.07128958226020243,0.8957252164894306,0.6077268279968538,0.8820092603159306,0.6675275684336256,0.8973486478871588,0.8888130129402975,0.7600189251731259,0.9013579644992136,0.8876088297013733,0.07804498024635237,0.8898221343418518,0.8910809773484915,0.8927360778117011,0.9076155104532438,0.9198001046383157,0.5577187949862382,0.9022823808810326,0.9132696999319315,0.9176151847636066,0.8954160712374291,0.9063768780381097,0.8798296163148789,0.8945740710843254,0.8875218568428407,0.8693238522323373,0.8893549878897339,0.8617415092500188,0.8964735829256236,0.27663663843012326,0.8679077440669483,0.882606435276038,0.08311980434293163,0.8708424639689099,0.8891976282528015,0.8656845743755722,0.4305651345444274,0.14468685301654538,0.8801601499346499,0.8826767352089185,0.9008447055788941,0.862047969356719,0.1357501810096988,0.8923000810116396,0.9022227163250378,0.8086926979455634,0.8747526447382258,0.8988516840917302,0.8920990626328918,0.8927258737994782,0.8839132096031245,0.8453491288408801,0.8600580483260287,0.32521428346378445,0.8922295771565498,0.8657708465974253,0.8638702399480968,0.2738549261517053,0.9078505945463529,0.8892941958483436,0.8974723705627999,0.42590902930484653,0.13190515470370623,0.8967996042522123,0.8783636951757028,0.8919493623566495,0.8892561544913515,0.8889459220296162,0.9034711051047024,0.8962656850928156,0.8751553827052007,0.8866533058891104,0.8755116522173801,0.09953664893666621,0.8901254537811341,0.8907550262269942,0.874791403309874,0.06835317075451766,0.8872323935328209,0.8854523630750291,0.8943978054212856,0.9013948047789154,0.898247312137349,0.8830835187106526,0.40532156258055185,0.8666139345524071,0.8957332504402556,0.8464298377580038,0.8131259521699109,0.106876765215033,0.8743523428177798,0.883010255233412,0.8986527859294439,0.9039935059420647,0.8968353413808289,0.8768173614346565,0.8975238230233621,0.8853618598051634,0.8817746117017087,0.24249082584555567,0.5662349343116416,0.8977845250608265,0.6358061670646136,0.8529109268729917,0.8913807390777789,0.8893067600517864,0.8993884613400663,0.8925409396726658,0.9147058717664908,0.916280632260033,0.8920436426135835,0.9005633268199768,0.8713240297101431,0.08835016394150358,0.9044605363023888,0.8851418490324766,0.8974788653176877,0.8916321126090145,0.8926343038447241,0.897089664626975,0.09094997184607526,0.8785030034738344,0.14152254674715667,0.6604452739336668,0.9120445023690292,0.7181125338295743,0.9207380937788685,0.07943787076900306,0.6985375701795553,0.8736261835904261,0.8932219172104714,0.9194744235856487,0.8751398508289004,0.6873136514556983,0.8801962536444947,0.908838425372291,0.8995710121709544,0.7563398438109596,0.06887962743577965,0.3097483664632483,0.8772751818706384,0.8972602506245675,0.8850296508118184,0.9313574968866756,0.897199455647199,0.1977203010599571,0.8729675434461442,0.7792561423737199,0.9074760296328238,0.8703522430315018,0.12130825052759284,0.8981210975897909,0.05154863206851912,0.6849985610841663,0.9088215602883114,0.9057084950105972,0.9133135547573471,0.9072316005940636,0.4449981367384881,0.6108047249786869,0.7402914594753723,0.9213772127933316,0.8877723783620927,0.08693656680147928,0.5031171176572665,0.8952127640379699,0.8701233038746122,0.8888601230126812,0.8844378540353844,0.9029808563145385,0.9008754429495042,0.07874699025204672,0.9059584149082057,0.5344588950904452,0.6223474082885403,0.5122958158160026,0.8869067080475781,0.894266929729419,0.8966482782880075,0.8779522034491534,0.8018029470437018,0.5495735823164845,0.730985419206277,0.8856669216257251,0.07377817027667319,0.9000802261551972,0.9100128198169948,0.8726570103834244,0.09116877970473022,0.8855336708523857,0.9065269729120374,0.18031120115896465,0.3130858449409,0.9126620769859616,0.07394204614187319,0.890774864385349,0.8666812287170903,0.5740240178251075,0.8894989199618388,0.8961458469845408,0.8890274456070034,0.4474116407245482,0.8452161295635416,0.9028186186816018,0.3704458717518748,0.048450292875398565,0.8971628780974662,0.8934714163787703,0.8969552238130476,0.9080456019894543,0.888529268466264,0.8990328313739203,0.8690781203088832,0.8800630107360305,0.5371291681073317,0.8894650096802952,0.8306964542600641,0.8913524325452276,0.13295084416994016,0.2520662558865328,0.4569472443343833,0.9057085247456056,0.9105502091147437,0.9338312790522252,0.8988964208138112,0.9022796876522844,0.8848121012605399,0.8950005777326724,0.8919533981462356,0.8760018701716107,0.8617149015470084,0.8744699951720036,0.5580867938570455,0.7871928093878025,0.8874599439655535,0.8877994808908726,0.9094466394495649,0.8563101991878799,0.9020602299776604,0.8860947839377944,0.8262371590509208,0.903622554560853,0.8938932360774777,0.8495213920288477,0.8908164603851322,0.8943864117041275,0.8746512987055878,0.5134885815071083,0.8826392816671818,0.8834065607853019,0.9058008132341647,0.8741553619672425,0.9049281839037753,0.676982668347889,0.8639205529651152,0.1153794984224429,0.8787752604680031,0.5363129469390798,0.8755812580638765,0.8710384486758158,0.8886552191027096,0.8942106255916988,0.5786156486382262,0.322316786273817,0.08012772781993027,0.06569860658556319,0.06826547831488863,0.42569076013081036,0.827343644796171,0.36032345444881564,0.8378282541086505,0.8252757985617862,0.648558150274005,0.8668204453134216,0.6399239629714919,0.07818663374455528,0.08814972307436701,0.8864269778958481,0.8239365330588587,0.9015634064254664,0.40186113642025717,0.8598670667534157,0.8826295097777176,0.9060475138323524,0.2391362194100308,0.8803215080378148,0.9200314362561801,0.06687656614583593,0.8944361733763362,0.5393279654497052,0.4828058021826323,0.8712666565573371,0.873025733096017,0.09885252987665522,0.9012565209542013,0.9274221522627113,0.2400976489006059,0.30389417440994043,0.8379913469762905,0.8014822145350375,0.9024898934311862,0.7709087596538644,0.9019420225045625,0.8831254439399494,0.6187356062658532,0.8672328813686874,0.9255581988151405,0.9124724270723865,0.7957549069402329,0.8544178136655891,0.879839078797123,0.8991962688828083,0.8965347891113428,0.8829303233783399,0.8964986787186383,0.8951653590320735,0.43291516496001864,0.8961576783223274,0.8547797336362495,0.24045947843647208,0.22021327606861443,0.07611355298144754,0.9045541047847393,0.9067681804993266,0.9098318509752,0.8914333739223276,0.9127077270150732,0.9053076344784338,0.9030610738897303,0.9112629293398221,0.14431181047652106,0.8881559316841275,0.22926562097314365,0.8897033209693426,0.8961047173080411,0.9022113736534236,0.8955973738740173,0.8744466529900551,0.6192982805837882,0.9023834479448309,0.8849160813796851,0.8700212569158157,0.8815480765872207,0.8926569026745714,0.2858071512988947,0.6995764075004596,0.8799486886122093,0.8490462233614557,0.8748435044190256,0.8950511122094719,0.8831181813964724,0.9037309096109094,0.8625671898491983,0.8956128444941541,0.6713661582238014,0.89559645220512,0.550943194208266,0.06237498012749902,0.2681456264058732,0.9140243011404028,0.9056714292456304,0.8911374704062195,0.8466047501820508,0.871431757037362,0.893194420107145,0.8776891704149432,0.8656175861016562,0.37955546357942027,0.7208446985661933,0.7683585618361906,0.8977202511273227,0.8886802582490193,0.8924977436933451,0.8895414935061393,0.7881429745250481,0.8919927532193769,0.8505874491733146,0.8750498726796131,0.8851550338108639,0.07870011745189742,0.9105334717625824,0.8088489255835881,0.8971610190337742,0.9003849081573585,0.6045423237392126,0.6450459463024981,0.8815865241907517,0.6596887461350324,0.8764134081889713,0.912810466107825,0.8672782138116227,0.5442725080341105,0.8820570270665272,0.7803290703883339,0.8854342542425938,0.8813493654206646,0.883805680088833,0.8930823701276392,0.8831627560582767,0.89633346115536,0.8774856150562418,0.913996472014807,0.9112596539187247,0.8764462160582202,0.8823788373986304,0.8684908574664978,0.4166455577872343,0.8826124464695023,0.8181656069428477,0.8648617766820289,0.8824253195855861,0.8885808790414595,0.7012521207204193,0.8963783742745479,0.8939878771516833,0.8901604720888113,0.8934778651537401,0.9202343038175878,0.8740872669510658,0.9181900680492987,0.8867616118647262,0.9036440533962811,0.8911012200861996,0.20905860851603197,0.8929813405869353,0.8788881858956544,0.7556546472652123,0.8916866210419179,0.8879064522788596,0.8825775147632162,0.7089364188177771,0.9098245964055688,0.06610836775111911,0.8972498357217822,0.8773854017613057,0.8073616490888024,0.42045283556283575,0.8997054447569436,0.35772114263096927,0.9177979096557387,0.9019335441627125,0.924669232888394,0.07285584004445224,0.38282247185510254,0.0689822850354208,0.8796009193031263,0.8664414781541515,0.8798459955705087,0.8703127037643126,0.9044100627193543,0.918668985250786,0.8991446352485242,0.8851632663038164,0.8653272443861937,0.8840421430907401,0.8858970914116068,0.9094813069961305,0.889700431657655,0.912878094648147,0.8729571352474077,0.9074370596247405,0.8824663791882891,0.9150993906346618,0.8921677032946934,0.8920466287506315,0.8859892804116258,0.9047760921631683,0.9041397689139893,0.8950557235789457,0.8862437966806332,0.9052542494180669,0.4714408215992057,0.7373330545260373,0.8746477267022249,0.884019301098938,0.9132118238498359,0.9133013523177484,0.9054531733848853,0.8910675826189919,0.886519742687602,0.8983036669340441,0.8884051012173225,0.8264227669736226,0.08214301332258546,0.8834315868505648,0.8746987571445631,0.8827992674725587,0.8653124987906279,0.5116971742951224,0.7481271751102458,0.9042474512640489,0.9130599145575321,0.892865159802994,0.7038529111871097,0.899701685397244,0.12284954955996714,0.8921342600384836,0.8660616875279321,0.8759648481310454,0.09060694144098706,0.5023461858485108,0.9071914226669364,0.8896465707502625,0.8734404904208334,0.9039463706758628,0.7993132867956575,0.2815104450349026,0.8819063519759162,0.2214573241548872,0.8802505361527224,0.8639739228306987,0.9150755016695008,0.42924126205102686,0.9101061127927552,0.9025279306919206,0.8853076935757394,0.8836068556349488,0.8966613515162019,0.8978228303415968,0.8046633065151362,0.4487718348094573,0.893057517508025,0.894424068910813,0.9098146411287211,0.08783531506289931,0.05393411240509562,0.05787609050301135,0.8980182562434251,0.41929586383217154,0.8743478516134385,0.9078301016287401,0.1499225826481563,0.5358997747189503,0.3735771839191658,0.926668284805958,0.4609466917694595,0.8868033421618816,0.09240433236869436,0.9097930252312262,0.7210254362303752,0.5760721056041371,0.9185377535287046,0.6231681184986708,0.5753400508869649,0.14674209266016675,0.9231863406943279,0.898171869703448,0.9080457984905862,0.9094218105596892,0.30994573122934777,0.8594164426131988,0.888581159944028,0.8975802831637155,0.8950304583480255,0.36173638209571135,0.8942858316644614,0.902815793812259,0.19470403811162734,0.08669088700458133,0.9335001291394638,0.5205826930362629,0.8667180396769522,0.3566516766969604,0.895774236240276,0.9016558068818336,0.8690675011556456,0.9312733656407347,0.9025566958728135,0.9131868473460427,0.06667580778451938,0.9076943885411848,0.36975666472682794,0.7581790852209741,0.8847733940437569,0.8891513291542973,0.8953425310921278,0.1935858802664105,0.9018027602058025,0.9019407820666474,0.8990597441411505,0.866044259434558,0.9220238088599733,0.710013069902805,0.9072720262947934,0.9043967903369233,0.9165821608672073,0.912197287684303,0.9210485498265264,0.8997077497839362,0.9091351354796352,0.8676863490721193,0.8967514062872723,0.7527221102637872,0.9132170735215633,0.4551266153261584,0.5489244179279769,0.8987193034371441,0.511726912536189,0.22362132678191532,0.4174409133460362,0.06066174719081905,0.8964167978098809,0.41958206607036463,0.06063537114266027,0.05786609600427161,0.05903572596664025,0.6126946899580815,0.28035519183576135,0.2966074060639465,0.30487025151509073,0.8886542077262869,0.9088997880054595,0.5452132085517671,0.9251028084572107,0.8787561432221419,0.8425117935174996,0.8717353501740763,0.535161933549186,0.9126706497702234,0.8588410104832657,0.06116098604768466,0.0714496030081948,0.8789598200432843,0.17756997692371615,0.08513556419937127,0.8819946598980096,0.8850412957293057,0.899443906268368,0.8923125951736196,0.8034190995585432,0.40312358009956106,0.05479324712545531,0.5263167546743966,0.9042086001020637,0.8687541221819639,0.10096988808412873,0.05665010897378606,0.06101785381380892,0.890078386450727,0.918936163494483,0.06303692816013692,0.909614323343002,0.7137762788039614,0.09620481568513993,0.7487041806320394,0.09082958336603027,0.19228055840809227,0.9120552994746094,0.42448153957596413,0.4771577573273727,0.04940304492995703,0.07053173522175393,0.05813567455304865,0.05949801189414363,0.2796585029178413,0.07643444224512806,0.9203549965161589,0.9012687405233782,0.8835486552977987,0.6085534317026475,0.7815312843136367,0.15026000713778437,0.9058053000843257,0.9175517504821724,0.8776559736106393,0.15789884912852656,0.05278676427264705,0.8995262312367325,0.8920777492800998,0.8973769806544274,0.5312751394519681,0.5935739018091796,0.8999907029438722,0.8734214875363367,0.058724087166485806,0.25426717342793664,0.39748656867662796,0.8866744603820557,0.8484829689936748,0.7145834949831177,0.8829076008806407,0.4273729535820124,0.8127474063700425,0.6186719299094693,0.8969065503795225,0.35723194719818224,0.9123106697213141,0.7511413021271592,0.8893243628620027,0.8992598711648327,0.04725840521728662,0.18639988329527096,0.45995379309583645,0.8452504088566325,0.4198343197972323,0.27726422719681815,0.8973800806911213,0.05989219277727175,0.8899957651678962,0.911099184385969,0.8785125194130486,0.8902481014719631,0.8673636445698754,0.8574471521493479,0.5582745913629928,0.9095456638790672,0.08056716457808966,0.8930381885987659,0.14344137122084405,0.06444237533315782,0.3313500957943156,0.06312144956015231,0.061423725299721794,0.39617613355385,0.178693494987774,0.2322307133159401,0.8966066865773373,0.25932470200708946,0.06459585220616465,0.06785556023290852,0.05388625603902996,0.8702792471188573,0.915433095845031,0.4254893927901755,0.90722642231837,0.056274069969431816,0.4744877812782766,0.054753087811475365,0.05910068340113172,0.06372037612881304,0.3944139917240748,0.05881418448642318,0.8790037569457042,0.9168879607486106,0.9204829943026721,0.3379561310563569,0.2753947299723054,0.15477567379867352,0.25731945364878306,0.2669272352524101,0.6998554042296362,0.8843181073030801,0.8899732351100523,0.8949233312064099,0.05474428131341084,0.51188755204028,0.4094050832124625,0.888161488473353,0.19805148691497837,0.8840652950322018,0.17083397446809806,0.5816111227762809,0.06944966132947833,0.7884375240833912,0.72372884438306,0.05323522582138113,0.060155389884676266,0.8306777979437894,0.6216380218499039,0.5108395617260226,0.07952150034050223,0.064753152296228,0.890287539354122,0.8693972201225948,0.09825499670310438,0.8809156097947148,0.33820962532243115,0.0499491196931999,0.30150610071580664,0.138380337249821,0.8028442267992666,0.44479024815240104,0.3673824031270958,0.4253286063595106,0.9086359220546772,0.06783667200096928,0.4088111980141414,0.26509915822338537,0.859353517341832,0.05380839059863068,0.04976813077116173,0.06528761138767765,0.8883592788519263,0.5027076083960739,0.2291734579117262,0.09460627146456574,0.06596177409425295,0.14677673297295304,0.5935006611130981,0.6109437186411606,0.42671980401533055,0.6044527879386592,0.9069932630946633,0.5009993406990553,0.17301189950421533,0.8145002967569658,0.04904519425892585,0.31770911758959736,0.9103926623650657,0.8945219340326236,0.11710644947640793,0.8693049637071142,0.692852113344114,0.41708797312402385,0.36810136946165206,0.405778246966124,0.9147852629570566,0.8937497695421032,0.8198777897730166,0.7279125819051746,0.0475666980253224,0.9021537308982455,0.8854181743101361,0.8753271811961271,0.06948101908554019,0.0840963782553978,0.33012240757500727,0.0667161475714877,0.9080547924062385,0.9222401398324462,0.8986499572322546,0.8860247234865831,0.8996022183573983,0.9039921920436715,0.8999820171738024,0.8845903080939918,0.855527163486441,0.9204217052807403,0.4024533636247263,0.79858402651066,0.2234592104754168,0.8740875829043739,0.7822631634640377,0.6555141436072959,0.37517286896792995,0.06997093767558345,0.9195205765223298,0.8525693373679114,0.8696132377246566,0.8642207088300361,0.35334669222614407,0.2034585163239271,0.737720622657417,0.8861912988255106,0.8451812445426273,0.8807293768750647,0.914071057649611,0.8739088725373199,0.9163703088889934,0.9037450598893328,0.9045274133285718,0.8673871595230492,0.8706274538517446,0.5336317358290134,0.40148154095430666,0.8998692588831876,0.9061034027271705,0.8665257574541751,0.9070210388562804,0.45426511977336786,0.2963839599105537,0.4663957139206997,0.9101131190348806,0.862741251333897,0.8926701917460648,0.5458568332956271,0.8867977467979327,0.9061952115521115,0.08942916172744315,0.8854301848860484,0.5561151842931102,0.07270997770990809,0.8965032215916285,0.12266630819153854,0.8862183536739755,0.24483716362904398,0.8670590623561569,0.8790527803055387,0.9027875885212336,0.9147385508220411,0.415871876815789,0.28937476265922296,0.8836580794223158,0.2529068613355669,0.8860962487807451,0.7021151805676255,0.8959071516701667,0.5523387845753159,0.9108229127911293,0.3087328061373241,0.5568115079162173,0.8720362374873858,0.8010581631744247,0.5220357968733353,0.3714404728823541,0.6911645407082839,0.08246633405535986,0.890622697161003,0.9074515644726467,0.8987007473736855,0.9049391280225175,0.9208277313299907,0.8828992259423706,0.8818576382740394,0.9121111993145299,0.5880948584627221,0.5668719044298635,0.9232059377191654,0.8748167366717061,0.39776668700668655,0.28174801520286585,0.8397754354388967,0.9156685559454879,0.8726543604740796,0.3752234658502412,0.8664132754475289,0.8889130916628507,0.0576660905789656,0.08055455453635504,0.06083707868927533,0.8723626833727756,0.8999960565862845,0.5516022978161292,0.8736991463727364,0.7430989895557667,0.8999465308499327,0.8969598530780348,0.31928231372357563,0.13873322246831213,0.8821870529962826,0.876678817073739,0.897259034351114,0.8798099697351305,0.8773414080311258,0.8761337236876557,0.9029516163348847,0.8888557262464103,0.8956368731293325,0.8930723272684177,0.05272951223423891,0.8754716469173798,0.8235040281387395,0.8733128082844263,0.8642946647459026,0.889529060019,0.8674143696072149,0.7173076061312892,0.7465283180620025,0.9023592911295398,0.09142386247881715,0.09079901697618298,0.09142386288192483,0.9150813896175898,0.35819970737206164,0.8943969380044904,0.06018432711789725,0.8256894535764013,0.46913729318804065,0.9019720233791454,0.8778158221146629,0.8017079239754691,0.05734411957389603,0.4170345393600741,0.17477300677677737,0.2529226330926589,0.8430450959374522,0.09361082554953282,0.8768832013665465,0.9123317188592486,0.10952968334013273,0.9095225796710273,0.5164410155229044,0.9120128681231439,0.8791403225690672,0.7441415262108729,0.1387058349877005,0.15666299378142914,0.06512391983994527,0.8623048097436383,0.8890677057555543,0.8870651152805964,0.9188384520999564,0.8827802502358975,0.9034889505856174,0.5234249109296557,0.9055596807531732,0.8864242890964179,0.8903686783431434,0.9112235820195905,0.8528035195533442,0.9111690556731459,0.9160760330055433,0.8970861283738175,0.9044702677839446,0.9316947314901277,0.8923789947824814,0.902934492437623,0.880393185729784,0.8877746927728485,0.06627469387052214,0.9188213266810406,0.8708295367682256,0.8991538303107225,0.6064844522659725,0.06845946774787474,0.09995856697789376,0.68332391835161,0.3814304585635637,0.4418490830455691,0.91558106934071,0.40534364387246036,0.3492787383112668,0.062112794792681454,0.062112794792681454,0.062112794792681454,0.062112794792681454,0.9053043888853656,0.4025366495914447,0.1289936429821514,0.8767952250577367,0.8877748316227553,0.8916123375884324,0.47100768853072406,0.492149084131582,0.4789584402490563,0.4607094233889993,0.06190097864457509,0.04702983543241957,0.90125557962387,0.8846069486158966,0.8876556563483063,0.1322731260540021,0.556794204573351,0.20854854421933305,0.9069960068698424,0.16788091837593702,0.4609991745613158,0.8925361661164737,0.554628973294256,0.2812562656111653,0.4795765708360186,0.6810882397682689,0.9048032110926272,0.915029027611316,0.8887602335826704,0.21443675075447627,0.15681448085231595,0.8271257790086386,0.17544004334246083,0.9119829459698097,0.8614249928720944,0.41478955528059924,0.8912522423863265,0.9036592593006191,0.8992306706470877,0.9065724022972207,0.1435210394239672,0.13953132967212395,0.05968805983518093,0.9122718367769005,0.594133244197208,0.4480619362413433,0.2371632157711807,0.9022464423455963,0.8877926016766304,0.9015666982617142,0.9018036954629363,0.8869844933299887,0.08944573889748157,0.8927590325399289,0.8672475437537255,0.8900881461237953,0.9118485206185536,0.8848746529864199,0.563653125882212,0.6693252399491709,0.10645765820986608,0.09142123191897195,0.06277721511696582,0.3792216845223288,0.13803996474023592,0.9113185340564106,0.05154898026588155,0.2097505869398136,0.3665643019731983,0.9219537213594519,0.8696222529154465,0.8996568101407744,0.05416026276724205,0.07052683683921068,0.07653241270061618,0.18600014260556696,0.07204049572966437,0.8825144374574366,0.8724115615430934,0.07523620684782202,0.07319087072784017,0.8032936046947399,0.8998755194534207,0.884123331532574,0.871362537482946,0.7459277907916451,0.13209287128681987,0.8253529685515169,0.8838311294920603,0.4560213906054039,0.8666996779497567,0.3950401767415571,0.9148477895025336,0.18500047214405874,0.9043871403403901,0.9238399338234674,0.9104364631417396,0.06845053092484298,0.8908312662737347,0.898963947695579,0.1894549478214592,0.10377920938038356,0.8817213307106974,0.2583896634178135,0.8958921228685447,0.8591608431848238,0.8584738355325263,0.9060221123913657,0.8793138667638651,0.9028256976316712,0.9099683044072082,0.9100292382413117,0.7938070885561501,0.8814060335528474,0.9071273160461503,0.49200765147806846,0.8805134985412588,0.9035071073372609,0.3172171036136933,0.6942675486856009,0.05867955786395878,0.8136737736649714,0.07976830519386949,0.8666914768081043,0.7184843356667235,0.4174084349513873,0.32140381219425274,0.08949906071008971,0.06054388370750955,0.08471270428938342,0.6492623569950369,0.9160682252276728,0.2105376769131309,0.7124726556800964,0.9184139397782839,0.8857017469471997,0.8852546481993058,0.8875698378953005,0.40036346747839685,0.05758664744476842,0.25561746202934305,0.8776122443544251,0.8874155593838163,0.8717968555389245,0.906164888212924,0.32013338470245806,0.8859930300804754,0.08123392469237102,0.8634033607759027,0.869359979457004,0.3167777732858436,0.8760439281622626,0.23891440174240308,0.06224416917542794,0.30153993928914785,0.435942896745117,0.3503325628913226,0.9214285509710732,0.912270561310139,0.6565037113261265,0.8744868369451374,0.8771740427873853,0.8972893965002402,0.4416851988496029,0.8840460817701419,0.9154959423419079,0.8763837377270628,0.3579964959164316,0.574152374439709,0.9155735270055255,0.9006093520914988,0.25399270002893154,0.6554215267811797,0.3082101413207533,0.40287910961885354,0.0519385970511491,0.04744676628153573,0.051201529812395126,0.08875875518315886,0.12633809108567304,0.28598429631181,0.6385695100862447,0.9159464591777726,0.9083762258845854,0.8870517624718142,0.9062323140001165,0.20605495069018082,0.4986432326339332,0.8483712267653555,0.9189329967399734,0.48239576689022484,0.8898134099292349,0.8643810556468667,0.0673484557804258,0.3830592622956259,0.9213090269725226,0.8935999874911225,0.8699739731879333,0.1592465107388865,0.9090566166513278,0.052425442369855454,0.19567241701455385,0.9012519769054425,0.8945479214104332,0.45787191992659826,0.9151306684197135,0.8933681997373359,0.6901046551371157,0.9027131102298346,0.07100595182715888,0.9155845023758181,0.7591912658429737,0.39902780518392267,0.6575425687987623,0.33999743326791165,0.17969772475240928,0.057323247649368345,0.1372818095686932,0.14825745366004575,0.7699062578204046,0.30024738301494835,0.9268134734200973,0.9019042083902266,0.1429979014148024,0.6725888290532581,0.4313352435748586,0.06837751271944327,0.05758527512207692,0.9007724691340122,0.08036367515096081,0.28377139752730485,0.5542525243242103,0.35146689276443643,0.29269115649638844,0.065666682720989,0.5761845325230582,0.054250540288490356,0.04775147994427592,0.07417897144922378,0.05207690540805811,0.4409392118085124,0.5777688047605375,0.046059401730609094,0.1846384840257333,0.19718322996559448,0.4317382111625849,0.4168165644366114,0.9090553312853873,0.8995051545024109,0.4449852361868665,0.19527834173207548,0.054477615063877015,0.9130629862863707,0.37846910028755326,0.061976895920918984,0.058424749661650816,0.8944746443648983,0.6909559697781965,0.8918212745827301,0.1010411690538229,0.9203467463540245,0.09350304930408578,0.0679861788688305,0.8274827746157194,0.3189570561205653,0.05528526596912672,0.05513974239256347,0.05626554489233167,0.8775446999675725,0.4584468362671282,0.9143610161791372,0.9117799422971066,0.6789992448264905,0.052409574340212414,0.06362795272984953,0.058869317129934685,0.14554487902650115,0.9108648647566433,0.863051647638592,0.8634831228456927,0.1723520197145306,0.19788740531954527,0.77924925965288,0.9029729396130776,0.07903398167269136,0.06418643812466321,0.4784060046738314,0.28353964596072795,0.05495302901184901,0.4657511158078602,0.8112006861355355,0.12657622546675032,0.8909983643391673,0.052611054797991566,0.0854592289389945,0.23662654312750378,0.07071634215809038,0.6607000970224773,0.06165445260039799,0.15023301176683318,0.07257290707955898,0.8972230649795779,0.3754788877480704,0.4935223228262182,0.8975843868648409,0.06610222114304444,0.7091594564409789,0.05488153615617043,0.8948418078992156,0.060922521056065354,0.23687401680900302,0.05621088332579185,0.541242318791152,0.4039471646797682,0.8769818676379133,0.8833366542370906,0.632870232943455,0.9091861343666926,0.32406377982246654,0.8888685806440951,0.7821111299756277,0.681352602711663,0.8846139609485738,0.1038690606903589,0.06858787219539654,0.40155042918903644,0.06159081625374873,0.08067798406270726,0.9025757473307148,0.9066660969770802,0.90431131352514,0.907411709915671,0.7897530470499826,0.9098145418217,0.3353655904605581,0.34403883556567383,0.17688562709564226,0.8760216086899705,0.3873322968746921,0.9143771938390216,0.8744495207744722,0.8963959169321258,0.07460084025405242,0.07416967503147498,0.05604135999698814,0.058378577314553565,0.07683926677843547,0.04517153907427389,0.044663403627129554,0.04705772609780679,0.057377724849865225,0.12953898833521993,0.04724390690758155,0.05926188239041107,0.29049119143877283,0.8905465313391248,0.900590258719922,0.9114725412250582,0.39277691511913165,0.898353976210229,0.9076035006039649,0.9137392978898552,0.9075462518241169,0.727864156811072,0.9132634903711231,0.8924101410831748,0.06653830831214005,0.905678330232052,0.4790714183659659,0.8883135983004882,0.9121638322628438,0.2478669633997608,0.9292841863990033,0.9037116403765256,0.9021956295736517,0.9041833644493944,0.6523699965869618,0.9003428115972116,0.619343448472408,0.91019044497541,0.4865391845345679,0.8828570497662281,0.9120399864300839,0.9095161398924322,0.09116670612774429,0.293680780404609,0.907249061797344,0.8671245801181372,0.9011101844846954,0.47237367982626954,0.466303655442356,0.15254255405552855,0.8874260193954498,0.9071844951406972,0.8167452028171539,0.847040784532353,0.272661060041884,0.9182671000294392,0.7306767120044644,0.07022655372670043,0.9130081280962626,0.8925035702683956,0.9046370537960777,0.8978582779789795,0.08940069409468489,0.36464081387868547,0.25713592014594056,0.06317063304506587,0.8942382391250352,0.9003689088816926,0.42898060051427844,0.7374475714396624,0.17290157413431073,0.8623814767204729,0.19800648405817298,0.0657888078901086,0.9205572097428991,0.8936927179784786,0.8869409349394333,0.8723784788250555,0.8951214011872977,0.9171396825482941,0.8980716578178968,0.9132435360727091,0.9137615463180311,0.9093145457305607,0.9223918306812362,0.8946905945452963,0.8687676245981589,0.8752196907843396,0.8817902154367268,0.8921226266707404,0.8958385820445854,0.8910087559154543,0.8968208304490549,0.8657252461866418,0.9077253571873195,0.5289291428574222,0.8947412007412096,0.8949334754544657,0.8018454261659425,0.87041656948813,0.8584159693684098,0.897529938025529,0.6789864407986171,0.8882542859264206,0.7230813726273667,0.9068304437496688,0.9147819899356363,0.88524900956154,0.9219701645117152,0.3089119589304004,0.8959010612471279,0.3258348302864008,0.1762924287205922,0.903339769858411,0.6476163483070271,0.3549899060570092,0.8875119620337028,0.880282600284738,0.9140644589049773,0.9118263452093024,0.7491728365170089,0.9061627412650696,0.9179103664297324,0.16806392414948376,0.9062831607941784,0.48275303897292343,0.9076965917853864,0.6128455082394316,0.8932611162527653,0.9019237580364668,0.8514030644170759,0.9232836805091486,0.8934493181578891,0.3213753767199005,0.8999525770880231,0.514107193517555,0.8969203478418944,0.9021698837781561,0.3873955106368934,0.8529324873542931,0.9132631640169517,0.903921767679035,0.9123355432804927,0.8795919929605243,0.9109680327892508,0.8931871686536161,0.8973999445080476,0.9023642411477952,0.8782661834302798,0.8893761662326942,0.909165807389015,0.911568076991184,0.10834699419423166,0.8259682621759036,0.8803878551966712,0.9020512502332815,0.9022006170515546,0.9064253924387341,0.9134098420008273,0.9012047750642653,0.9393653970910555,0.891589003063325,0.8797112463930352,0.49940983086517177,0.7870624536249577,0.8789608455679065,0.22951639244016897,0.8980787399292496,0.8681150759412833,0.7948817494176157,0.9190489719635044,0.16085512361950166,0.055191859547083943,0.07260675779453188,0.8749824969510899,0.7542540762364951,0.052417095127041284,0.057090173725973796,0.05596638001764263,0.06072631626786084,0.8870751790828846,0.9096189583288586,0.9092265539491658,0.5094587234880227,0.6335443027411719,0.8940335784291229,0.07774494522071676,0.83615844226085,0.9249637593563556,0.897534342958817,0.39852028029883957,0.8998119086844713,0.8834039419344535,0.49718003713564835,0.9224069357326184,0.8825625214244958,0.8930147104215593,0.8960616171795462,0.8506374800510741,0.714821278295747,0.8574965872644771,0.896717994645323,0.91226122927465,0.7403161401574965,0.9166140831193538,0.9118945897111699,0.9240862944108085,0.9257630776910952,0.8893255429609126,0.8818768997414514,0.9018917353765055,0.9064854810863892,0.9096867083383304,0.8833214256278171,0.8819077661590339,0.9090688129376229,0.881490520249222,0.8932071975649816,0.9011605787255406,0.9104811427753795,0.541532748841623,0.8922372249535494,0.4081980331342393,0.0973524880493643,0.9018777229065421,0.9043041744940851,0.28773524006170675,0.8824136204730664,0.9034834634991795,0.870745048117444,0.907350900456748,0.9036454959369844,0.8971656911197466,0.9231457012562474,0.8938293048512421,0.8998316534894678,0.9249279690758485,0.33940469348655067,0.8999875293833836,0.9078122697563838,0.9009978596511761,0.9159848002108918,0.894597389337694,0.8613107329071625,0.9131540475404184,0.9084032820709493,0.9025539950666623,0.9041298949130783,0.8616885900286759,0.28086782413804967,0.8963887585178073,0.9039042699366804,0.921362736089252,0.4078297617688757,0.279048949486094,0.8753290698699148,0.22946496880496003,0.9010193926480164,0.8734828688216145,0.8922602903662353,0.06954828228211818,0.7671609201735413,0.9056609930616668,0.8450503405591757,0.9135270730494605,0.8090908779772658,0.9020714170320854,0.9018426151124475,0.9006066815603169,0.8950823719751582,0.8936382027405176,0.9183554953476448,0.9055089086107415,0.9023215893805473,0.9257665055728276,0.896809514525336,0.9031004509016578,0.642622189370842,0.6460373075910739,0.8936426342840388,0.9195856106694625,0.897753344474492,0.7271580551543674,0.9092510789829334,0.8607398884575135,0.3471973308703163,0.21749362884737994,0.8974600713378676,0.9080429926269182,0.8962368234228182,0.38947445021607946,0.898951011238822,0.8918513114472812,0.911625942814427,0.8940072160653817,0.8797661922887225,0.9214339963470155,0.427405813566298,0.391552913154562,0.07796224986471739,0.7677479132433127,0.8935466983007024,0.45921635522302473,0.8767027953078699,0.8972106356927794,0.9131326163989842,0.8835506169123278,0.8931639709234684,0.8990359332588308,0.8645356970914111,0.8866554362806139,0.9286880871581235,0.7960290566599716,0.901576872448553,0.9196207842799852,0.8771396160290079,0.8983938318543903,0.900020172805639,0.8930130964572234,0.8860689094543782,0.4056645964507909,0.8829705321227986,0.8983398851581585,0.9275994618888899,0.9172635171867672,0.7834685635556702,0.1630260567092204,0.25732735715400384,0.9077450137906834,0.9241942275553731,0.9085589185635883,0.8845600038061342,0.8944982735778798,0.545519529682024,0.8884222506453423,0.8862570215537786,0.905552626827741,0.9040910975333352,0.520656449491015,0.9228371451588349,0.06986023058887551,0.9210654005575264,0.061541179723301656,0.8679715072519752,0.05441080339157135,0.8874155326156627,0.7663317646342228,0.8998460875488424,0.9182137236809047,0.3703231342594043,0.8966353869535965,0.8793736287641705,0.8757515987867777,0.396964729317046,0.8666942946461441,0.08418355245941767,0.8901426446249158,0.5615088330044936,0.526716054278892,0.913080772824003,0.08507507035447547,0.891386403547328,0.12172647237374083,0.2951793386994726,0.8840211846858563,0.8685417714774587,0.9095275377456767,0.8923825819570727,0.8864673622065794,0.4831156758281209,0.3933769351081497,0.39671452997202894,0.9080073668166616,0.05192005645116437,0.054342569305672446,0.22129438204231153,0.8890316605572395,0.29975784764150265,0.29556318782824725,0.893906071216775,0.8694418492805801,0.69461700584062,0.903002374309339,0.926324191184978,0.8851884094284601,0.8823237760310061,0.4006587304353951,0.9085897722987418,0.8949537774896987,0.8787500434946288,0.876943150286544,0.5697868107479129,0.8906042559865723,0.9029112321468805,0.9085109545265887,0.897336160708708,0.9129808643434246,0.5067078915629118,0.9080272519942267,0.8919291336620663,0.9103541774986998,0.8962541621394867,0.091182476020859,0.06934069458606446,0.0829297531722902,0.08420845652019815,0.08349477138838099,0.07614665249289035,0.5934207690746283,0.09041086603772085,0.45170943276244535,0.9005163752888017,0.0685628628382955,0.8860133078955795,0.8957583583116012,0.4727031036104527,0.08961079515194165,0.8542553164540707,0.8744313869785162,0.900863838198506,0.04819344601944071,0.8775416328265584,0.896976030975053,0.5327406272398499,0.20966350602110478,0.24321208908183906,0.3716170155868749,0.8841409409754958,0.24365774291769055,0.22568562466856049,0.0690057097684299,0.07687942340597512,0.8779105490427503,0.053184886706878425,0.05981673345146097,0.06962859773969043,0.07631955813535124,0.05313818694250149,0.1167456774874252,0.047517948904041284,0.733655956851426,0.39928257287671304,0.8497653732762408,0.9034502777539765,0.05822861092848511,0.5657431852037796,0.684078610788563,0.0853243731222093,0.3457163978908227,0.15897066096135168,0.2958482600135716,0.0689128106168931,0.8962596694156785,0.06974678877220823,0.5431621592077868,0.06542465100184526,0.8747824283832258,0.05353595117947247,0.9116023262692493,0.8678347045352209,0.927142463107609,0.920141419394994,0.8962199685812655,0.4023535956212193,0.8955567605227606,0.9082946313824795,0.9063163010036683,0.5125347316093171,0.9171165870244485,0.8924860811621715,0.9048498904972369,0.5916268292843463,0.9137379898183889,0.7693526183764714,0.8973931892839098,0.8913595684233722,0.888329718102739,0.8988972705236937,0.5493236021694624,0.6525340830392948,0.8956387156065183,0.9086748765733581,0.9211744336839421,0.8667001495660126,0.8615078338305999,0.8854878846792925,0.4586601522963641,0.9035051108052189,0.5130260275814071,0.9111844855001068,0.895216734276679,0.9096559709878611,0.905283702012457,0.8585189139806223,0.9376867809469658,0.9212138887982225,0.8958116194798841,0.883451067455807,0.8913180257581886,0.9089154593972719,0.9080837761110109,0.8920159851546342,0.32636273203481786,0.902923718356179,0.07762621746830994,0.9203789317714336,0.9202168788766262,0.8878803103822305,0.924506727321421,0.7432091479395054,0.9085540748576131,0.9124673663460601,0.9105385634749359,0.7929647108761525,0.8484127533696592,0.5366479528139393,0.49061748440944253,0.8924881979523966,0.3040543428089279,0.9085864803743348,0.5972070012519936,0.7853025051418847,0.8735277799567864,0.8731457844019718,0.6180084829663899,0.11094743678407082,0.8826522939269194,0.8287660519216034,0.8681641201765153,0.07024268929832947,0.7128747755026464,0.8838422679091616,0.8977137994103882,0.9179361775061575,0.9001240094494618,0.8849548462372169,0.8877675052292459,0.896701836843802,0.9265754003134621,0.5354740176316632,0.9160699426244138,0.6536942748218812,0.5158108314393626,0.8412815553853108,0.24676168392730383,0.8866091922689789,0.8998620282161852,0.6946027782338714,0.8822884851805801,0.9041536930639065,0.90720582554567,0.07002994130111763,0.5087058712470983,0.8905102522704653,0.9044365884228366,0.060474576182919175,0.8870708276412863,0.8907493502067944,0.8952218154195462,0.4734814022727625,0.9134707303832436,0.6140470250981291,0.0679249804632602,0.7797114747883575,0.8918403527213662,0.9083472244852442,0.9004110074095671,0.07840180467847448,0.9160458206017655,0.9026053359181998,0.8563209690610895,0.8736131356486913,0.8873659526958578,0.06987258264693791,0.9002724976017796,0.8947614553474947,0.47396188428046154,0.8409893625985277,0.23580389788226083,0.6369862571001348,0.8966908669126309,0.5282838441484512,0.5170517193423685,0.895664936188591,0.8841872946995896,0.07033878747914002,0.8809548505605493,0.877130638850622,0.2709747510125065,0.3507239934021282,0.10651929833414517,0.07603784386719628,0.8900183342139302,0.8083230750109277,0.8809747350840225,0.7878810054613229,0.8714302701652096,0.9083327261892419,0.9085377164440586,0.9159704116747114,0.8817686979229546,0.818441930011954,0.9074540250030395,0.8782405267615864,0.8758083931237185,0.877055460193994,0.8999834537447337,0.9002270178011121,0.8801471201535498,0.12341852929933982,0.35102334482885167,0.9206677950202722,0.8567979669051301,0.8988087564688664,0.3332159484662262,0.07548002778732177,0.8960296864447165,0.4508225060497188,0.4340301513139082,0.41915976131125965,0.7901627421485148,0.44870500216940845,0.8755847465078445,0.8999431065809467,0.8175777540024504,0.11011172754170742,0.7404955011959821,0.8699208782553998,0.49095624761951046,0.1771524102009991,0.8800932932024981,0.9122440484555484,0.06195589324569215,0.7400420548799311,0.21736585292224686,0.7639608799754506,0.07005528422790343,0.5135050661471233,0.06307110323945744,0.30075832095895877,0.9005170196183319,0.05965010027078105,0.07856237939111213,0.12843638094234514,0.21706621162807294,0.8924939267155626,0.059189530752446234,0.26895390162539823,0.4832354631090859,0.8212652801166113,0.8954438716040549,0.6647103626489104,0.2580916422618567,0.4601617680186887,0.07117635069061838,0.8804656482088292,0.5739729288163936,0.2269142493351225,0.05994395426787622,0.08050943963353405,0.0919660637174926,0.20448537777110262,0.8525454456544035,0.06011452560162186,0.21211574578701717,0.06455152839241111,0.38515033520121844,0.059269697709915914,0.07263717403230059,0.0546214701775899,0.44843656808232024,0.04764590585494418,0.08516293705508193,0.22431581361509007,0.058857039498766583,0.2155266396898522,0.12985795981234],\"y\":[0.06030784382520675,0.03927898370986247,0.049811778707977254,0.05867665312370182,0.038085938937276596,0.035553360901924826,0.03869159619388146,0.05178351204066764,0.061958064231145644,0.049321181498799216,0.055179193874656446,0.03995355961502778,0.050251813136752116,0.04501638126902336,0.0568989237629769,0.057596381730464975,0.05131515563323571,0.04027019175318299,0.048729798135751325,0.041882745810464216,0.05743465619570472,0.03630445672378249,0.03718217525636493,0.06277291856559072,0.05632159134549343,0.053822060462645996,0.04730383435960757,0.052655985214413586,0.051638491461508604,0.053236065869949716,0.0595062908464741,0.04142148494016908,0.04628428061517487,0.053639171046748625,0.05092366531941412,0.062647636056237,0.048435213045414344,0.04925169543937496,0.06157966484106531,0.053328015361402616,0.2580256306511986,0.0408251924328614,0.05036211983343753,0.0585500208738186,0.05206568417438273,0.035525029472844985,0.0497189604878374,0.03352208146380871,0.06194994169686715,0.03053099197903912,0.05104155182748183,0.049138169532630054,0.04948759529009002,0.055685403584154546,0.058738021492831693,0.046458710644299586,0.060391166862702815,0.04133637693993301,0.05082098918680856,0.057657941878900776,0.034763489587400755,0.05901660378059079,0.05189364878389021,0.04948347689760109,0.03469331801268322,0.04575882300719666,0.055236217585576064,0.048763297929607596,0.05217873531695556,0.0547405125539626,0.04562176742393527,0.04900630312052303,0.048856666858688766,0.057604862299373324,0.06346175874691044,0.04839008869883484,0.041582450347641305,0.053517365289630574,0.04796207988174564,0.05459487334042954,0.05089686947372661,0.03868101353341584,0.061327752257362436,0.056005312163712004,0.044747827077207855,0.05033572984728199,0.06207156607952002,0.04664905993749854,0.05757949345123699,0.05422355597421214,0.04748523616260401,0.051271814659303964,0.05956413501330166,0.04357051346040336,0.04258045987266895,0.04433699175341184,0.04625870140753062,0.06066124893035165,0.04285756303722225,0.03543396085156985,0.07379060337107168,0.058407991709246106,0.049477621104593826,0.043985385657440056,0.03286815454386555,0.05704137909164393,0.04191908142080794,0.06248532404000018,0.060247189678764426,0.05155194386409829,0.05129149018852899,0.050903872341221304,0.04502755177284865,0.050724895367867,0.05232708820657057,0.035497157871772045,0.046536044317700934,0.05521716372735947,0.06339141763516416,0.05386413919385683,0.04219674197647782,0.05302522904327332,0.043202566122651234,0.03845277406607579,0.047096710521837504,0.04747764010667183,0.039342700960351265,0.040185276924718454,0.050303958232229454,0.04576209141239194,0.058366380465555416,0.05158140819425378,0.054667726708647245,0.04840133326565954,0.048478268699435736,0.0676237847901873,0.04997876800286828,0.059923335924564475,0.06336366778058769,0.05835617163121383,0.040311232120616824,0.06268996554507436,0.05424532115562906,0.06654761875410757,0.04073298671109947,0.062127828598188696,0.05859672469934678,0.04635197207932552,0.04890934254459931,0.06733541593064771,0.05517017379496923,0.051474212442419606,0.044370458612718565,0.040537815065264035,0.055933087168650475,0.047339041925222494,0.04641670105575587,0.05235002366911954,0.05618568687492345,0.07792892008557911,0.04625320273548023,0.050406303550767716,0.05219990386016001,0.06592357454275811,0.06687042805455591,0.054799581858176925,0.04411091765280099,0.05403147042930272,0.04815152963104306,0.039195326665586214,0.04475197241147533,0.04510867086701089,0.057704058697537454,0.05311412301744275,0.053957960748245944,0.05430706031714268,0.04651344531478578,0.04874212796301695,0.053879011492875745,0.049439971268303406,0.06049905656230992,0.04779809349386827,0.0533520408240581,0.051070869216917836,0.047090042703695094,0.05002778224383528,0.05155112884146688,0.049663946322802195,0.047737232308473244,0.045076734257667346,0.04884679950882167,0.055566152349068684,0.05114330595589028,0.0658352773321576,0.05057837078363379,0.07533029997939948,0.04273074079489442,0.06771090658840415,0.06087314193953641,0.05461273793087214,0.04972522293789328,0.04639214229952965,0.04704833569916407,0.057277762398634365,0.04965700489196287,0.05308434584793155,0.0564014638529688,0.05026747791722859,0.04933153513604337,0.043888109496983484,0.05267968762297235,0.06574322723253447,0.05305734760031402,0.050836688900050823,0.04887514146516584,0.051740452501711796,0.04120876483670632,0.0405207055968925,0.05164357621352863,0.048842188199888205,0.061979204543179255,0.04452723914313601,0.046010952998301845,0.056639820367447184,0.05003738717019858,0.05103929972337552,0.05310447820510913,0.050440774383667654,0.060246645564910856,0.042181453330783394,0.06336780291739236,0.049166419567369536,0.042512306042706886,0.22096198293509278,0.03825574885235748,0.05196934381288044,0.046155544412236106,0.06217337151049272,0.051844616057643886,0.03939773381423589,0.059656013781892135,0.04241124098031902,0.055412448081003526,0.04220007206448701,0.048141194052892224,0.05539145085781566,0.041445306429582586,0.030597882196878014,0.060114832174663416,0.04899260745642718,0.055836920114301844,0.03267249112236482,0.05126009693635988,0.050196304875224765,0.06214974627027422,0.04884682674878072,0.04256890763316652,0.05395667123882646,0.04485704255443821,0.04946095536401884,0.040945600940560045,0.05015439325361242,0.043218204363486376,0.04504839432708528,0.04225500144335416,0.04386041122348769,0.04573034651643076,0.035849609166533,0.04018306964761236,0.03807219166773764,0.054894166459301806,0.04005921990022436,0.06171388567400646,0.050777219281323116,0.04416651539589335,0.05481590222751083,0.056309295074084526,0.04546146722945355,0.04682081368045182,0.05180935758674033,0.045632803526046,0.06405035262563667,0.31333591321360466,0.03395907515614667,0.050132299596513934,0.050800096332826304,0.04774255389533419,0.057858230969964605,0.0382768734776637,0.03810696889592243,0.04002082407656869,0.03872414642233986,0.045428743418844904,0.04881003188601879,0.0443337208275981,0.055560771857529424,0.05319452881896253,0.05269294827055541,0.045561650751395566,0.05752292077852598,0.03983745661869809,0.040146616189150296,0.05283016403346802,0.051906502181075814,0.06373984520956662,0.041309494103316954,0.053254926255582265,0.050289341954835164,0.05391949119471132,0.4747304614521439,0.07095786161494355,0.04707075217155674,0.04977766766857226,0.04253042536921755,0.048422329113175656,0.05216002628933199,0.04929517026751247,0.04421361897058624,0.05361604307670757,0.049042736811513866,0.06409646853497208,0.059005586667406025,0.054073072297606294,0.05179528810847934,0.04715693678671652,0.052389171767102755,0.08423631852439101,0.07649570073327824,0.06186532299143879,0.044290907890373786,0.04054369076243389,0.03128289100357695,0.046978321209440475,0.04785227862757258,0.05675240875030556,0.04667693164217461,0.052514103614436265,0.06165704339915606,0.05861875191568209,0.058095103885564985,0.07103849177412622,0.06875552259875614,0.052576377549422605,0.055426959352345366,0.043893429153903346,0.07091727250257196,0.04775071496896793,0.05513536895998251,0.050111354518323686,0.045220091335338906,0.05157868604993452,0.0572601186927265,0.03804361090723939,0.050773024984782825,0.05817327317195449,0.05167253221343834,0.05629776921590562,0.05550210780134071,0.04167861261566627,0.06103377886229533,0.04283080692165506,0.06266929174886947,0.06167446088503109,0.051885128286115426,0.05669072976193595,0.05109183648217114,0.06074891453410046,0.056079898204655323,0.04976695234205162,0.04602207268279357,0.07170041942235529,0.04731674372142102,0.05390540056724272,0.052824359196134256,0.05395301800087009,0.0533089423830655,0.06471860656057168,0.05056631916607267,0.07643460525116197,0.07348603646390969,0.042565530183381446,0.058599505203871464,0.041219927622690104,0.06814881987407562,0.07502437360878673,0.05089927331168629,0.07510159077053133,0.04598128140306789,0.07045086146779272,0.06907710665613966,0.05756283626538608,0.04568482669184668,0.05704373506855741,0.057171046705330894,0.03821204387568306,0.05131717445806265,0.051004385488632765,0.04762868074321456,0.040169902439992584,0.058982561692519635,0.0603632007266933,0.054525031435719386,0.042545261911205494,0.034040621574622114,0.06546186539481694,0.05360762071697067,0.07992144739612873,0.048282993098126906,0.04517289446725516,0.043199070298236754,0.047266678794706675,0.056558354286666765,0.050088126874011575,0.03905476525430941,0.03570130409611334,0.04209532477153623,0.03999747893804265,0.07578572043522855,0.05926934359688279,0.0489583466566785,0.0500674612296123,0.057374595257212835,0.049790050007817235,0.05100444614186434,0.04367463622513825,0.049595824123609,0.0682925611524068,0.05857511692124767,0.052356118027293216,0.05758984243637027,0.04434891523687603,0.044253512337712485,0.042281877856747696,0.0534450686394926,0.040238395729330335,0.04575458188230389,0.047724941726585084,0.04294142220648478,0.06598952972363188,0.05347838723977846,0.06135868556913539,0.053781411369280024,0.05135526590264821,0.046557420458758006,0.04716687041854278,0.058334911487224625,0.04762367986926262,0.04714213278555822,0.05262794945000477,0.06251471585382955,0.0560045522202733,0.049453012053910575,0.04719037575728105,0.06247575606709568,0.057241342742094296,0.07250586563503514,0.0597561513354762,0.04519764410293705,0.05069855166587954,0.04588146530938513,0.06780154318605529,0.050915293778392566,0.04616590136980647,0.049729316024004204,0.03615526013539654,0.05552761873852658,0.04907341890198759,0.04157005809796848,0.039668737482056446,0.05251485886383488,0.04412807334467553,0.05247465600442811,0.05141761769312837,0.057857367994545765,0.052302766144480324,0.039970885025835394,0.04039924401966353,0.0776687876547963,0.04601090541344859,0.05419719707262352,0.05011451526388303,0.054078606537162885,0.046105900473274994,0.052582420712060714,0.07987284459006251,0.061499602814967726,0.05367786932258802,0.05055132580108153,0.039982916073263985,0.05242543951530922,0.05058183924298505,0.04821851631145507,0.042624818067611335,0.05683432679672778,0.057934112935913135,0.04351158358695633,0.061244058242572556,0.04256497155288056,0.0583593580274643,0.03457711439653926,0.0577046122224181,0.06249255882837063,0.05566147048366854,0.04307341469654519,0.05221046713616942,0.03741884250627365,0.05565317752912605,0.051085645323678555,0.06058693076798977,0.041692004958709644,0.043066254221565466,0.06024198219117973,0.053640456727554346,0.06470995142992851,0.058138971355391963,0.05688559989063168,0.08801905000328693,0.06604751296418769,0.05659950048322353,0.05504196371939426,0.051423449970312986,0.05015323580324692,0.048346809946015035,0.05469504275148181,0.04332974509906388,0.03889750735654032,0.05230531062186318,0.03963585264928383,0.054792080951465455,0.04635330323452942,0.053311491605828897,0.04291675359887805,0.05035312150449342,0.056734179982465244,0.04563427320730798,0.05055892239229252,0.054710427165272905,0.057837713891403256,0.048742158246642714,0.04367238040437708,0.046741762315722406,0.05040784977645876,0.060805507655196094,0.038328100365263185,0.034926467512128634,0.04926205269329369,0.05217072741322577,0.03761949103333784,0.046794649669969615,0.03614543231344311,0.06437657888854412,0.04147646762305339,0.05720916785784297,0.05886083635966398,0.060718413747342034,0.05916752428593182,0.061634613704215434,0.04618059243585945,0.03983191885184248,0.04953206550786699,0.05590811756711521,0.06845358378499854,0.05671153139230035,0.05590540492312185,0.04354112774256721,0.05286509336781808,0.04218156187260983,0.05945386096213381,0.04377211349429501,0.05738498266709971,0.040151337314971475,0.05250949098265235,0.052338533066827966,0.05417686988996034,0.04641801986768965,0.0470286185502651,0.05100636228291507,0.05465700225636457,0.04523797207994446,0.038734741530119354,0.05742538839335069,0.05349756422154979,0.05677736255704664,0.042392891164175696,0.04253188544475449,0.04338162208417341,0.05130065326689531,0.053889631035003986,0.04964420079157266,0.05139039101047887,0.05464017429375508,0.054528753749536314,0.05643685101176897,0.05790112118466165,0.0553565052341905,0.055984930635314775,0.05346524386150728,0.057438192956421885,0.04677305485620205,0.04198702200042605,0.04693577519952015,0.03985454218076065,0.04900060749759771,0.038125167576060576,0.05290765484350619,0.06610560834324308,0.060598910637457065,0.043872387523024206,0.051802284644098084,0.044464926684643094,0.05278939693526932,0.0628099863237914,0.04215074432832413,0.04304384276526952,0.047460428694609945,0.05598950254327754,0.04238356121550639,0.05509204370424889,0.05235263095438809,0.040394065747397005,0.05475416336967392,0.04218874569878459,0.043578893267185385,0.05309126979281812,0.056847009495321996,0.047017912233239756,0.05029686803742326,0.04548225105646634,0.06749909762478239,0.04930946176800552,0.05190886955620863,0.04344999432421114,0.04768797816564314,0.050331257762332,0.03741408589444637,0.047316104857856214,0.04883800465892529,0.06001828759414992,0.043699537918579556,0.06358328678337503,0.03726203976812494,0.032451609964096066,0.0355387282301823,0.05413980586649757,0.05408914675808927,0.046858773584566596,0.04326441021567238,0.03562925711578229,0.04071942235861107,0.039121983595712624,0.04958287512429053,0.04533151518443623,0.055997451488373005,0.03726991758849027,0.046171708269262854,0.04200250627949249,0.043928540486685486,0.04598759218909629,0.06442596747358714,0.05415933697102235,0.050040131564710356,0.050435183636239535,0.03978820130800424,0.04975143607411268,0.0458986807415483,0.04298729768442666,0.05319844682442347,0.031320482068400504,0.04124949567615808,0.06464854344987385,0.03280243835869482,0.04865359721183582,0.048522554920422636,0.039914713029059294,0.03270305947076513,0.044384494180667845,0.04198679275566898,0.0495316811663592,0.04519637610577258,0.04117771400778949,0.048505711905841485,0.05633616328494005,0.04756775793116264,0.05005102427180104,0.04901867171861094,0.04840200308464636,0.04618368312732846,0.04940550960584765,0.06031022087484003,0.03706464941917204,0.2038863662608881,0.03801699092261333,0.0328335856108141,0.04087789449726023,0.04230094595916601,0.03600543397817885,0.048371602096750135,0.04340489463744055,0.06555604712593031,0.05051338834000453,0.04122400709881812,0.0420646536215532,0.04258020735935883,0.04155177462637379,0.04273175323979932,0.04967129873574683,0.04343597313493529,0.05852751621191143,0.04729477896078213,0.04777249717994891,0.036674312517934286,0.04356975839933523,0.04782682065790634,0.049590454468761105,0.04934959688214332,0.06094132893477534,0.03827084034405757,0.0429046495117983,0.05128134379706282,0.04247252570878602,0.04184845867887317,0.03455202252325821,0.03483045570084965,0.10837184168417285,0.07448020449543781,0.3787785682367452,0.04055329384450759,0.05440603041681032,0.04833358609912726,0.04176521075972424,0.05385478596554965,0.055014455021974086,0.06717484057615979,0.03633063518600119,0.04893445897392044,0.04930745814888848,0.052330588970978933,0.04804204482635112,0.051033980490578494,0.04810331755592325,0.06219684224718493,0.04656507690326374,0.06399150589683458,0.059924974994712665,0.047944367680411,0.05882981630791594,0.054305020608724615,0.037829164890733694,0.04862848617931757,0.04233807626730261,0.040793475170174606,0.05846517801822165,0.053246246921590995,0.06296928465105518,0.05098110980183261,0.042848547356925726,0.0492865071097408,0.03960127803626995,0.04221458425342521,0.04477847594271599,0.049661793313805054,0.04730173648846028,0.04320197606332282,0.06861688528253239,0.036872101583494694,0.04825539270181041,0.05464274356267036,0.055124859148847176,0.03800475165740835,0.04571773402987732,0.04500440144639392,0.038721271149611165,0.05168039160079113,0.03899350725500862,0.04624436776637993,0.044626002536303375,0.05225286954387368,0.05018881784344476,0.05431135574340588,0.03798693185708356,0.047134868848534725,0.06187277324899045,0.0557534090628722,0.04618363753621085,0.03424165445722541,0.05602458346528068,0.05138819177621933,0.04227437774558043,0.054448020828582716,0.04332077569011866,0.031208061748699632,0.058604876825892736,0.04555337311352694,0.061635343182170635,0.04164606990196032,0.03857147538927698,0.053610775555515945,0.04895129525853246,0.04097142340123387,0.04869428820038789,0.042405761826678115,0.07508781430611954,0.03391562312844806,0.033661289611954505,0.04769648236475066,0.052594413051128316,0.05264192864093586,0.04281985256027752,0.05988691870446845,0.05365592326658243,0.036271803557834825,0.04152741458890417,0.035098159673862095,0.04327727675818129,0.04268228360974972,0.048822409201380694,0.050782062860553506,0.04455001216720216,0.047336082810924475,0.04134757299821024,0.044611185416301415,0.0511312325383861,0.043561872258209955,0.05460318218107638,0.04961883670501337,0.043094175407101,0.04522704389447906,0.05699843865953511,0.039126243457434186,0.06011176742392966,0.038883090658503795,0.03548013379121062,0.044733465228403,0.04372277477964829,0.05729784776714186,0.04353113046004147,0.05101083597348505,0.05847389220588605,0.04287425213028836,0.04275452627536982,0.05938333145025385,0.03776033228633405,0.03527791547669275,0.047447029180256534,0.0431828366628664,0.04176930877871849,0.04782465295486789,0.04725689534446051,0.034315089650637634,0.05529796695623385,0.05185323552437828,0.05090028479160089,0.038850778930050865,0.05985455092889437,0.04077596405396745,0.05390342020416082,0.05276504346979204,0.05577424745212948,0.06065031040589072,0.047557531875974605,0.05265460972754518,0.04214542036455635,0.043420305614440595,0.04199946634646499,0.047408762570331865,0.05097245667106369,0.02851471040232955,0.0445664210420256,0.04915150308073381,0.05117292390917643,0.04183640939761347,0.055276201830308215,0.05137496094605069,0.048002961655942006,0.035255533701847634,0.04169902892269924,0.041150157030374335,0.04870973843510378,0.04213240762415744,0.051775387812833785,0.06017391488887404,0.0410426170947496,0.03848321738273858,0.043618590995205736,0.029938381023021373,0.04502506675774523,0.05306960190426367,0.044969800593767206,0.039406257645405895,0.052650262110811995,0.04003109836596219,0.03953609363117078,0.03715624185502981,0.03768768369688619,0.05108104259739851,0.04245996271722121,0.05046935693211933,0.04784099839030898,0.04054627603323113,0.057162326398927196,0.04363212974480804,0.043060481309467824,0.03342279417372595,0.0390401154807445,0.04253591270396693,0.03902621814820826,0.043272996050628,0.05129418126878466,0.04945583361147814,0.055758758509004094,0.03564545500908249,0.05389728372579358,0.046295400677336854,0.03685016733757831,0.041318529813554404,0.04991397061395932,0.08464262499528187,0.049987897998712144,0.041311548018774735,0.04790786115594241,0.05603600861972556,0.05290107528449687,0.0420289002493519,0.06799901279502843,0.03905488442086149,0.05014712844202794,0.044011165229217636,0.0379284946303408,0.0432872386915893,0.05477339927041663,0.049210391717132054,0.04702559901562996,0.048307583633700066,0.0549929593148285,0.068439276460943,0.03650262815017596,0.04118241042514815,0.04678645970371029,0.04301892207977612,0.061661664980084276,0.059319751874597,0.046275438072519375,0.0710058918981549,0.05208309966227143,0.038665981819578775,0.07222211032202369,0.06489902515869979,0.04071507172949568,0.05033003002633209,0.05161983160269308,0.03871520226061171,0.05460765704039009,0.057997901898729866,0.058404209397959005,0.041956088969293856,0.06104365498412785,0.04051208153915127,0.0445649439991361,0.04439860399388895,0.06363668216170476,0.05421225936325276,0.032310241134740826,0.03620866276901445,0.04895874551865988,0.04506556690441437,0.04585491940736519,0.04531560336412788,0.044059641093374784,0.04650292604956272,0.05015868467852624,0.042032396664760864,0.0677630467486981,0.04604084644459235,0.055512900577972035,0.054899152518995034,0.04590471589453203,0.07210596348818255,0.054633541397683345,0.040460985206084814,0.06640580373753563,0.04967795859968313,0.05994270682108328,0.05412863859462408,0.04386953875406741,0.0397524929623872,0.055918141861902214,0.04759088177624768,0.04115887256732035,0.0512094473249133,0.03685107473076747,0.05774488248736986,0.041611849809653476,0.055703261508190084,0.047410216618442476,0.04996476650769713,0.04378655679310333,0.04332248718371099,0.044180121586092476,0.048721922589410604,0.05795995805234666,0.04134705493871689,0.3783813859070316,0.04055188557476723,0.04042585015552721,0.05116341566853429,0.05224370408309184,0.044140721229720056,0.049020673304676396,0.046525689808437125,0.038599581048982035,0.0568331735781625,0.057888415045412915,0.035831853505074715,0.06081300726138096,0.05357986502504028,0.03702707199683607,0.05916901520161993,0.040039393504908205,0.04465774594040185,0.07880145970268139,0.04123048652772059,0.06250868864761415,0.03813737853657087,0.056339277130260115,0.054631408191300045,0.05135760412037391,0.06303880945977114,0.05193247394518954,0.06302391731644526,0.04953542174410576,0.05390878464603176,0.0613543238726448,0.04253660785951866,0.04251141220395015,0.04990674059570576,0.0644415204859942,0.05944006106964971,0.05656164628008192,0.0587371677049224,0.049695102769126864,0.05551679916348428,0.06052114288697726,0.05918808876201455,0.04745305703104891,0.05308749733414481,0.05066931071583926,0.05179659489370387,0.04201168024691552,0.06765417895644893,0.058473401925733026,0.06118204290347978,0.06820013130750827,0.05426826463492464,0.06446287831246837,0.04450013159885938,0.042479122608431265,0.04786617998006088,0.08914411987546174,0.08801936212497256,0.08914412036024937,0.04051874596643716,0.039500577489958,0.05128613466603799,0.042097071765515665,0.03586491828877455,0.04697367942634068,0.045695658963047864,0.05998840642007026,0.052202203435841726,0.048432219346994355,0.04294851522568955,0.048890635724463026,0.04784159093882043,0.06316852322960231,0.08309988499094526,0.04999286441261872,0.042202324782861955,0.04089190693761223,0.04226170386610773,0.04855192584560848,0.042159793002184864,0.057002876736823936,0.04501965594955442,0.04950460401479159,0.043707273120798015,0.04488589519854561,0.06308682023720073,0.05373463936502214,0.0541624548666902,0.03978989761806721,0.0578070683535867,0.04612465855213822,0.07512538194885629,0.041076582149081144,0.0546931095423908,0.05257599296956945,0.04073223926576033,0.03107132253159161,0.04188387117301926,0.0409561014922351,0.04602627859638001,0.04633840406767213,0.032307041959968114,0.05253448631498703,0.045488331267335376,0.056322139795306245,0.05229233331026404,0.044276150579452285,0.0371103687486704,0.06160413348579732,0.048835288047838724,0.04736957835741945,0.03929321375811691,0.05338809897470691,0.05319039566551207,0.04077238026169372,0.04426867607822734,0.04057653402890645,0.046744066960192565,0.04392591222242567,0.05179343096377447,0.05179343096377447,0.05179343096377447,0.05179343096377447,0.04338034731290092,0.057073284288738715,0.05709580484090321,0.047036750828678295,0.0546889785955302,0.042297475668455445,0.05058078253992103,0.0508077888528251,0.05461790950316134,0.05022423237553619,0.05169857114132545,0.04123512773057674,0.046960958408315684,0.051352861392368804,0.05171319114543017,0.04696291784635955,0.044498460317967406,0.0435777678530378,0.044971204116957215,0.04167449913372827,0.0453645525962231,0.05240405384902417,0.041045044551613896,0.03519035464730887,0.047892777088197724,0.039117066624291895,0.043038109185400415,0.04071487063228413,0.04955096632660028,0.05566074817949999,0.04444091356321697,0.04155812630305667,0.04954872122245736,0.04238711678944282,0.053018077499789366,0.04911549041984631,0.05301611811649761,0.04371094953853515,0.04835251620130251,0.04555452170235308,0.054376135224561084,0.04361224270376132,0.047721853406815576,0.0419067138486978,0.04230715201229298,0.046703141587412435,0.03181659563962898,0.04596495491369492,0.052306499904172014,0.04631249440326744,0.04646697474803942,0.054515097763413546,0.048940219043099274,0.052975119498856464,0.06158026798977656,0.05214459823379359,0.04088160073738677,0.050724473080261595,0.051413259120611364,0.040753673281090946,0.060382706683894956,0.05038773805558384,0.058612708234425374,0.03734568439816117,0.048389279365014325,0.04259486365370947,0.0447070227338111,0.04023175753011527,0.04700727537750329,0.03705861834511807,0.04987435595639967,0.0445994299392799,0.04356966108546885,0.048910661249396956,0.05037519309097692,0.044508730131677526,0.050311108448537256,0.05691357578369381,0.06359252319834358,0.04593279793179569,0.04694144389571781,0.039183973364898386,0.047364189622927606,0.05144844201786699,0.05816187395209889,0.051875455258041776,0.04655654521532408,0.053920828292710186,0.05589292989408629,0.04572335299716425,0.049238433163015204,0.048058012812939976,0.0409333566439905,0.0420630012983356,0.0451613070624871,0.035033869627069524,0.04310223671040096,0.05387895575782584,0.05159868280759865,0.04177388982172282,0.045632149971121964,0.051628533327363176,0.056585018280817585,0.06269049561253208,0.04871048201879516,0.05822715181039881,0.06904086266457737,0.04509148418741611,0.055136013387738464,0.04662659043293017,0.04129722367237748,0.04381186915010816,0.0469753720042456,0.05721269707863905,0.04482791587065262,0.04564107342504832,0.05230576700928941,0.04703286800082299,0.04042240771188453,0.04410638002936344,0.050387402937298764,0.050339620948455024,0.06569708401676562,0.038134529639234666,0.03911495778403995,0.04033148301471255,0.04399057992665845,0.05156865191675783,0.05132614574709616,0.05583301272787301,0.036866773112789596,0.040578096038118704,0.044847429162563165,0.04334800515232678,0.03907725273316316,0.0556972753689867,0.04897745245835646,0.05348633920793712,0.0477699529147141,0.0471749094201014,0.04589723282852935,0.05952853067343746,0.04918783035090481,0.06186055723445975,0.04593151490483127,0.0492368226041308,0.053813639801689586,0.04577469003878385,0.06283796763280992,0.061069578915413814,0.05283345134888309,0.05873380751311506,0.04850550687812742,0.04933287808670923,0.04755794550506152,0.04553389955548923,0.07032572631766756,0.036412579452781375,0.04271260943398329,0.2707539442286839,0.05341844792841715,0.059608526481702846,0.03685008114575713,0.039656295028817526,0.04962502146128322,0.040895213435126206,0.05318152111505088,0.05220542704719976,0.04006282938894824,0.04025971455888201,0.04383009713962568,0.04940456683306192,0.04224249742833886,0.04649171901001991,0.03277875171062858,0.04056286232470358,0.04044536956849431,0.04651786331735781,0.05674472870000364,0.047309777058111166,0.04316297713169812,0.045409488047726855,0.04117961214290404,0.04384480149282711,0.05289417224352278,0.04578665838752897,0.049023587415240856,0.041602887701238066,0.04752157021681966,0.039345981489321336,0.04687336885861848,0.05238988747383086,0.061553730595420755,0.05239289385409481,0.035550745379153974,0.0372851811690229,0.05243758976232354,0.0536094034623768,0.04637620226458827,0.04472359644527855,0.04855578490130973,0.06144226238190126,0.048536669325112435,0.05020263780868155,0.04259966221077054,0.04155417005161265,0.048158580907259115,0.05061701618801237,0.04574312220912651,0.062377985274533726,0.04032165540319208,0.04289577312772689,0.038501257280386544,0.0437398324854668,0.0517266279335728,0.04909316815557293,0.05106301937259055,0.06140717109951123,0.055903481633262295,0.04227059580520919,0.04204712152801128,0.034951575645242774,0.0479047325551134,0.03906801670989448,0.05220400678840693,0.04780639907391899,0.06279469541690817,0.047715308501709075,0.04654506729544553,0.04614671305981729,0.03773472646691422,0.03579481957175005,0.030618458671684164,0.048066696827197636,0.04473647525639878,0.036257980136424305,0.0452206343856987,0.041870600796500505,0.04485880783622999,0.04203480525152857,0.03433482158744642,0.04529464730893784,0.03933900259825641,0.03335480688348031,0.05221117299836207,0.030355970721974018,0.04401095430828714,0.043235489940099764,0.047724224471156956,0.037442504378878694,0.06069981943841647,0.0426106023218192,0.04220353550431038,0.03631617588455436,0.043576732977308186,0.050285944817426056,0.04873281127988077,0.03558008659308617,0.050015544550921796,0.035014143251738045,0.037529451430158345,0.05487677930581811,0.045840588054292065,0.04572761268149257,0.04667641033490402,0.04696940317327784,0.03946988306327869,0.035583243349792855,0.05364245859681054,0.06150040619259116,0.039791862133008456,0.04221893375704837,0.042360051080345226,0.04615520564352399,0.05123171455933301,0.038549306942419446,0.05092560793551044,0.04300794787080644,0.038026347539737354,0.03736167332985167,0.036612455005470425,0.04022282001230836,0.03525905862571052,0.04721996612191256,0.04703610916559769,0.04067872059829492,0.04516443837009751,0.03769440487657684,0.03626316667144449,0.05250486246950917,0.03546795107873727,0.04886946873505538,0.03483238280318518,0.04576725350913538,0.04977706709027352,0.04823911245221941,0.05245425241259273,0.035606845753099636,0.047287968487544886,0.053367219385038835,0.04744912831661165,0.0498483935978116,0.0528788182142709,0.037631794948458336,0.05033976862983984,0.05267010097269601,0.0377844287987433,0.04662105547763688,0.05063150358196264,0.049997410910197077,0.04527388072103754,0.04686681184154806,0.048138571833216015,0.04894267494238347,0.058650220699736216,0.05448724975197737,0.03719557816101849,0.03962762708478538,0.040938464517550725,0.05467106576722146,0.06351199384374022,0.04087666403696887,0.0502237766919827,0.034488462945316614,0.0690741507929886,0.04698528159792942,0.05678017786180445,0.07336904641144086,0.045657133443978704,0.045366860424764927,0.046115697228561646,0.04229289486155878,0.04935698499396998,0.0423633266338393,0.03787556889403779,0.05389639157630098,0.0558354399237087,0.05668114005241866,0.04740421479393512,0.04209324235384587,0.06212400641735376,0.05014254894691694,0.06438925548739823,0.03955493325142073,0.04703215321932106,0.048672795250064606,0.05173837681709834,0.03751356546971776,0.039886467933993926,0.04271113033602235,0.041417620071084627,0.04105689071976951,0.039823714100678725,0.042588111851787624,0.035270822292271194,0.05082745669094077,0.04630780063993488,0.042250349934098604,0.051767850333257676,0.04975999378628615,0.042215773070971456,0.04167484353997376,0.045389687175564755,0.044114737628933844,0.04225456631822613,0.05268002486920654,0.05839623745411473,0.04579312827722659,0.04545054182454865,0.05224768485388813,0.042265884463676295,0.06078621565881016,0.03389831165439856,0.04609278557410043,0.04662084804766121,0.045253913845982326,0.05198694079267538,0.047110848125772015,0.05717306703304619,0.043942137545849747,0.050799025855648994,0.04680908061023963,0.04077688667480335,0.04297589896788831,0.05965538792236064,0.03365096228588812,0.04354216745589591,0.058668672202521976,0.04446425174408915,0.039765227970695025,0.046250329968429316,0.05273820467518554,0.05468036948043695,0.04549916840599177,0.04205421431810916,0.07394695115032565,0.04403055563010548,0.03816874359642943,0.04511912360203221,0.05773462280843891,0.04159804215357344,0.05215916328942985,0.04545596513070074,0.04978260948143845,0.0613217745102657,0.07265095193556506,0.03510441476914708,0.03898923885200573,0.052487553061021326,0.04225431628121084,0.05673015550353983,0.1845241122707693,0.044294559691327944,0.06507892864194886,0.04561716598434038,0.04718434862322157,0.037165931931623916,0.05081786461857964,0.051676117746536195,0.06236397316180456,0.050356826916868214,0.0402238498409337,0.04967610827348731,0.04192708558024215,0.03956963166486229,0.04406581360290882,0.03692606889746567,0.041775408150293736,0.06425829490967484,0.05371399549244942,0.056947482356602026,0.050369316591552,0.048871072523494985,0.05380415220612674,0.04928773836109084,0.061018625742661696,0.04437301620672709,0.04558837961590706,0.051256575685306685,0.05005193074725039,0.042499521453093894,0.048599395337493995,0.06732762777442657,0.049135541139954164,0.24677259014376096,0.05282611285462837,0.059897508818891075,0.04568371534525762,0.041706150018088015,0.0568477607348044,0.03798431958679004,0.048054843010957915,0.05061328805076273,0.0587779584280354,0.040983263731469405,0.045112317287604654,0.051412377561516544,0.0633856304862955,0.055262028290353545,0.052597738986543886,0.04186723542516337,0.043231056490834426,0.05236775251380516,0.04568382467412286,0.03895298112393615,0.046789035599936704,0.04171226774008402,0.04888728812684316,0.04379833122344444,0.043199096637031115,0.05218871691600737,0.04749954024286948,0.03789930844312072,0.036755747240664514,0.05118099139193529,0.04556739185176122,0.048284519155124904,0.046467071911125556,0.04682525261637011,0.04620298283863335,0.047614051304764926,0.07002815470416754,0.042099226441795444,0.04639792151114807,0.04281685210851027,0.05987963394678051,0.04352170182120116,0.05125333213683082,0.04183654633484067,0.04780843662525789,0.059037354173930336,0.05193451172813508,0.04387559775516587,0.04237256724306235,0.054658252839373665,0.04036089545205046,0.05912649605868247,0.047333523878298825,0.04769442325334381,0.039684977088163126,0.03779500002787395,0.047189791431602957,0.028575525255735958,0.05199201309373428,0.055706690007041385,0.04049958542386703,0.03852863446541937,0.05875073348005741,0.042952486274830975,0.04960408129718572,0.06393848181571879,0.04907858809084059,0.038165109755178145,0.04334819929419427,0.043874734361819816,0.049357063458481565,0.0473557229816074,0.10867645052889409,0.042439969866072264,0.043223206313485495,0.03991667634857886,0.05118369945633779,0.054414421588330555,0.03519482264321995,0.04286964457661576,0.06133824846296206,0.04755812001514205,0.0510055312922816,0.0684690138723879,0.0801126530144981,0.03406949574994679,0.049558853708105484,0.04354138412634993,0.04804841618219472,0.0563603465740395,0.06118678987637385,0.037441422873912986,0.04930950996601995,0.05185821172638495,0.04966931274581545,0.04614144644754901,0.05068485640277951,0.07084240253523429,0.05010773315747482,0.04278039226342566,0.049337312100905,0.04026141540014953,0.042301506240577144,0.03471700158352078,0.03632950177935802,0.05442520747634815,0.05435213915547791,0.04795121030209707,0.044707191634269304,0.04445178875419842,0.05378480743781553,0.058003029528544026,0.04412903964295564,0.057561231382015465,0.051530078912624774,0.047515791138671035,0.043914650289537595,0.041876054219163315,0.051734454382144086,0.0349253830844423,0.046897563113719946,0.04812425898007359,0.043557243572463586,0.04263396643434462,0.038594659524901695,0.047657929940040415,0.06299958658225518,0.04438098993769526,0.04655222719597361,0.04885995371509877,0.03723849463499099,0.05229933997635431,0.049008578383122454,0.03548906759511749,0.04144959017362867,0.046594575507111005,0.044592716732423814,0.04547421187187924,0.0399377213055247,0.05031842165188849,0.04318624287742918,0.03779206746452138,0.04380752061176081,0.042497938316063126,0.046103692506069806,0.05956798808603823,0.05381648654179218,0.05048226329068541,0.045845940471711075,0.03774251825020535,0.0676653674421007,0.05129420265764003,0.05355310804150117,0.053203618811998386,0.048684864839522675,0.053312477866156824,0.05236034358476206,0.05204574216400296,0.03927639376615928,0.04584237433590594,0.06628827004909754,0.04173447157682091,0.04270768057606484,0.048012162432947494,0.0480101080056047,0.048605746014069195,0.04917663243951675,0.043268231801503985,0.039304869962437324,0.04493510412421241,0.04803344101956911,0.03580047636510771,0.05055934372053766,0.04707517080484135,0.040483111874488116,0.041909887658728266,0.05145618260127865,0.037868747198806285,0.04956907022374062,0.052155355337678115,0.043512877552539214,0.04721033673123211,0.044704828377732306,0.06332474970826338,0.04852262702314038,0.04275535238189734,0.0498663719052977,0.054548544116539144,0.04930991252880803,0.05276559916071857,0.042638853046437344,0.05207415377349837,0.05862670021053256,0.037158470481434,0.039966535417763356,0.044685179728378675,0.05061568294529543,0.066690418731757,0.04928877751857763,0.04072396363298434,0.058265531386485395,0.04958513770801337,0.04167327871913136,0.05602982732462975,0.05229257021575053,0.0484982896037829,0.06426702798832368,0.05262423851173711,0.03336275339925732,0.04200736666996477,0.03898059501950893,0.03889698412689139,0.056638129098248564,0.04784811880802827,0.04917486150060536,0.05244448131869396,0.046139505881927986,0.05411367310436329,0.053462338177534235,0.04923723606681218,0.03510787622685372,0.0396885364887287,0.04677474450419801,0.041496316483474516,0.04930987642860772,0.044821671392781634,0.03601090816056949,0.044634039533338735,0.05654133236175207,0.05147900884933074,0.387985024472406,0.03980673347099511,0.049521133851112197,0.046149862934694585,0.04388819259813791,0.049319856916372896,0.03695992911596859,0.05654394215334616,0.038700656905623895,0.05031152840477109,0.05069191155540916,0.03862707255697071,0.05410988949501429,0.04719588930943361,0.04628820400783976,0.037108631786595236,0.041144649204101956,0.05018044196447989,0.05630437811887547,0.059975563687906824,0.0392750434616914,0.06326117137165439,0.05279790587239655,0.05007047294045704,0.04725099907252087,0.04466257010097819,0.041860961892307105,0.059742460856138345,0.05272613636731416,0.07073989120921464,0.046240180809973934,0.05732280998248133,0.06328901401807015,0.04315733634911702,0.051797550775767524,0.055085418943933456,0.04988490962743307,0.03278305245585758,0.03832700816019912,0.041314906692284346,0.04721323635121888,0.04632749607185676,0.032586117088830975,0.04414955785805362,0.035009820383562755,0.050704653795913025,0.0486680650041911,0.048098067342786696,0.040781272627697096,0.047420381118878654,0.03397164201914879,0.0566865442416906,0.057862972369652294,0.33314241215649615,0.04396319409540262,0.05154877800054198,0.060299559228411966,0.04950928348636605,0.05213362954571858,0.05360962370018231,0.04464081030401127,0.043199476809155986,0.048380094235575204,0.042088524767888005,0.05013588540288504,0.044400167434215744,0.05261726327246874,0.043577887560254776,0.050845696164918484,0.08878811522745823,0.06115998913904757,0.07606425342135195,0.07643493492110222,0.07601676725844464,0.07115663173994775,0.06579938549701402,0.09544588611528426,0.04074362207822038,0.041835928539758545,0.04084105386889689,0.0507911412846142,0.04534604835400967,0.04199742118499922,0.04707044736691049,0.06409454584848354,0.05538549866158066,0.046639466799434155,0.03067770181594669,0.05827178719961615,0.04558347051480306,0.04319497509410177,0.040546772904359395,0.03895297692919498,0.036270596245422664,0.04562546330206853,0.06461605102093239,0.03684493952277789,0.0605346193966533,0.057354625365485065,0.05680631956207794,0.044570318098172856,0.047116729419206756,0.048831517242632405,0.06229259653274904,0.03725517749983357,0.05273707426677656,0.036190405368383936,0.05024674094873542,0.04055752002467641,0.04595679225224216,0.04361687976147572,0.04852402295515787,0.037512146006840705,0.05458216244695672,0.06566557825650512,0.037345596950654175,0.039543647733507714,0.057195090965021345,0.043024266387528466,0.04124101546466054,0.05952323777186689,0.030598732093381847,0.051846023184623224,0.0554187514299762,0.041806856642939885,0.04307928534664887,0.055468537930732614,0.035651640625701024,0.03269551702349633,0.05125188206584077,0.04537919769328946,0.049622440185280746,0.04449873969531343,0.042796733669231854,0.042529324131188984,0.040364782565207265,0.051061799568147076,0.046380174236549665,0.05110311530071609,0.04101845794997672,0.03703281296689393,0.04455307679137226,0.051025872805026164,0.05320505712235964,0.047209993941444595,0.04753520709664074,0.03308802322666122,0.03996273078006397,0.04424510812560483,0.038501067863529664,0.03461955572403103,0.06713126091324069,0.05384472099254461,0.046080790653559855,0.04532351172138401,0.05450235894510505,0.04224233025498525,0.051161822971681314,0.041241505997628575,0.046214606623521656,0.04760568624757153,0.029269998601346676,0.03785058309592377,0.04982674789569218,0.05417143494413714,0.05334148488683312,0.0440041991184049,0.0451071097255913,0.05215814796041117,0.0479982173842883,0.0477246884072938,0.04561736208125444,0.03623460742635066,0.038322012850229674,0.054963709047444534,0.034607199372716536,0.04156832541717065,0.042630919098228436,0.04207066292561827,0.040520135350279984,0.04302490332889569,0.07023432100467045,0.04633725695002706,0.05592785660493205,0.05109968487812844,0.04444550195387295,0.04438081070893494,0.04044174045774648,0.04201366830526134,0.06218997512129293,0.0459019904253456,0.03267277850387562,0.05662977251293674,0.052515647293026164,0.0570338569768854,0.050901134623269687,0.06344090283051405,0.0426974915261337,0.05661486631080412,0.04791298246986721,0.040006454935561,0.04908844901114108,0.05474808691670082,0.05182717303993681,0.05071081334596048,0.0357949332427098,0.06008869974969464,0.038539514746220103,0.06150458827779732,0.05785309393574807,0.07865628711337617,0.051001284547795386,0.0528242854317828,0.04874060792127241,0.06185010072230795,0.0576447441575821,0.046666374456649784,0.04265812787204532,0.044701925827490184,0.05074450947057283,0.04648363514840786,0.046276331994898334,0.03993144628783469,0.05587132948721979,0.05098123268565176,0.04757720402013422,0.05659724285439156,0.042527474434544896,0.059113696762354825,0.042411167872653054,0.04487692312614599,0.05370669416586118,0.04513807977068946,0.04583796085575518,0.053216755596063245,0.03943878241360659,0.04275447833791322,0.07049281691252794,0.06076173143683624,0.05508405497362429,0.06058678855441958,0.04778578661401762,0.050489174255434,0.05077633708614155,0.05014184070502633,0.05566077102005858,0.28700572576616046,0.05048986944643678,0.03225195046656822,0.06351022409534263,0.04820690357592709,0.05238398969659637,0.06004153581440477,0.05708514036758533,0.04193556180317417,0.04576984713813887,0.049763299822080144,0.06824576446884906,0.044612998536622775,0.05354740931094272,0.06365294117516677,0.05298966245337535,0.0482913739963726,0.0631515942110058,0.03990193280565323,0.044193796898989224,0.04109999756540924,0.04941555469277551,0.05128447176527962,0.04517807488794175,0.0599549448249621,0.06027171754174263,0.05822341285982661,0.047908759051975766,0.04747538063492674,0.05605924791578939,0.06483163686773911,0.05782359553565476,0.03877303082122846,0.06830721847256013,0.04910221221299528,0.05881021323109232,0.06710205048996291,0.04891190605823163,0.04615644384781089,0.042967502280886936,0.0526199769224395,0.10549147333866075,0.056681143308232124,0.060795120736428794,0.047748090173627494,0.08846746997115001,0.0542882898605453,0.04665174972452012,0.04901331022531276,0.0679997788629311,0.06698907086817321,0.053381770440350675,0.04081148525989939,0.05459710873187981,0.03807122725020451,0.033137050502898016,0.04071319768730835,0.05555050708588783,0.05349827596824009,0.05484891459284912,0.044464571578432234,0.04656423808539168,0.04399063291423695,0.06336362391128397,0.046274591462106135,0.03508632640847604,0.05256579229382466,0.04719835795994827,0.02839095211592893,0.0344071853199617,0.08057030216888977,0.05070399665374532,0.041124662627033015,0.05501673139215707,0.03863524958783522,0.0439013318111063,0.05868602241565877,0.044981331793891986,0.04560234199429134,0.05287140482655259,0.060161559211385086,0.05130893049899025,0.04040479138591654,0.05072914822439853,0.03245777508782662,0.043159777494650484,0.047611679527270676,0.04299207849395473,0.05492436672083758,0.05889699805935191,0.038256067686199165,0.03887399379920921,0.03646242667550595,0.04394552755754022,0.05717881653502155,0.037864418785341254,0.06046737478752524,0.049364361049175486],\"z\":[0.06463871148157942,0.048039729400128434,0.2527109920462684,0.06449118927721219,0.04072887800814054,0.041153555500043376,0.37762030033470056,0.05577928823161912,0.0672545519141238,0.05349218087829714,0.05791258905486468,0.042120407877126474,0.07754037151716464,0.04657172621606761,0.05707291559701001,0.059074300131829245,0.7385442396274708,0.044072790240812426,0.05090153949662739,0.044346273767476234,0.058158706611685373,0.038894022898218104,0.047645989789760604,0.06697075583483149,0.07084917910214618,0.675118376483903,0.05034283775174502,0.054680827447452424,0.0642228016027865,0.05900724344607548,0.06266810187946546,0.19209675437747045,0.5093746469661556,0.05764916167626885,0.054409733990008605,0.06449709494292984,0.055380037210461315,0.05221962919688513,0.06837276668719137,0.48845183468781117,0.07497970896638781,0.07324919954693322,0.38360194182330337,0.8546271395051849,0.8396870862014637,0.051827866374691126,0.6987951616056952,0.043161796868786136,0.06771707492072727,0.07154631210900046,0.0608300835112974,0.8856948145991077,0.05112104764336682,0.059239203831094364,0.06394646231378383,0.0488671720996547,0.06734804948492953,0.051062617717100946,0.12080878933186737,0.05968889695728794,0.04397195355205929,0.7541404101849917,0.055740300267256605,0.07001823419925055,0.5476069585776144,0.050176368858011064,0.06376701202333213,0.5999729394746156,0.055057176903096194,0.5965298307227833,0.3139006823018156,0.053013870987551004,0.8756488738226037,0.058503470112603685,0.06749758623089304,0.05017696746500758,0.04334712914360223,0.3338975886605732,0.5307405811993354,0.05601766556924262,0.3607818691912348,0.04134082118047304,0.06439592671403349,0.06279965648045868,0.04897198637312887,0.6237918712809775,0.06402693235199673,0.05065686993070618,0.06461320422246102,0.061939965466938175,0.050742654757098125,0.05667190877044014,0.0628078775221574,0.047594998362000325,0.04484574943816929,0.822899443353329,0.048831723119700465,0.062363161946115776,0.04570301237458384,0.038397498029568176,0.28741198287994635,0.310907266692094,0.2817921728163093,0.44363713836742763,0.07496718629661533,0.06471438046694375,0.04597832740213848,0.3318245411167133,0.868463228061033,0.05272283964647104,0.34098168181461724,0.06708686734284808,0.2874448797935258,0.051926456744974196,0.05885989885313193,0.20448391695510207,0.0521059911830856,0.057174006571267276,0.8585636021184835,0.05631372646429145,0.0667222806750306,0.05423869314502559,0.04918192342410496,0.041747121295608314,0.3951844944919243,0.0502399790122956,0.047387599107717025,0.04219953831167495,0.05427997053034157,0.04786103054949833,0.06180400321956566,0.053844520721420895,0.05781041644851215,0.0822748145020032,0.06216674341083038,0.07063470595979394,0.05354764907150808,0.6634400256453122,0.0687285881524641,0.05903739309274806,0.8765689635364516,0.06646757048601577,0.056557050591569395,0.06776780687032008,0.5287018787444732,0.793185318385266,0.06124312536600333,0.07097129271175602,0.05024595187650663,0.0706166147126332,0.8090796451953319,0.05622570654594063,0.05340682506224367,0.15076948698917256,0.06931426809312383,0.0538092739830472,0.061484236311352296,0.054924102531402216,0.05990110352195219,0.0767219510735408,0.09368874893849097,0.6243794129854479,0.055570518983290136,0.06830557885981658,0.06925933199734725,0.6713454919901177,0.04803848780084623,0.05667433372235364,0.05437609980615688,0.5348956440295674,0.8233428728848184,0.05809172488077689,0.06393224612675974,0.054936514625907665,0.05678588476040264,0.05674701765324119,0.050015449580511795,0.05499218694416752,0.07096560580192357,0.06390672284258621,0.0639892912203099,0.8526652575694654,0.05652250539480778,0.05817410455608798,0.07811855398643087,0.8816190470016472,0.06121647762571218,0.06488369060216878,0.057864962270241155,0.0535284609634173,0.05290588835382928,0.061350328940278614,0.5435351314635578,0.06755078811543522,0.053688378776110476,0.07823986226259672,0.14414330703519468,0.825412328196563,0.06477451524268378,0.062377006835715905,0.051621991132662706,0.04961435175840569,0.05611632292000708,0.06590487616670926,0.052819172084675146,0.061553794346904965,0.061823924445322614,0.7072416962372158,0.384433530552315,0.05832736544219005,0.31151414531241417,0.0813458458944737,0.05556191332190706,0.05985655104816261,0.0517363971947678,0.055718607825622546,0.04408536339680298,0.04319866214307442,0.056312781172887835,0.05059448498013505,0.06669676574667757,0.8671225969153604,0.04952851069930951,0.05821833060007618,0.052483747512113633,0.05732858766760981,0.054261217950166724,0.05246956098935734,0.8488033825890139,0.07931554319538225,0.7951096503354509,0.29038830649896363,0.045443191588264,0.06092548323533286,0.041006157368774,0.8685927854181165,0.25530688540820856,0.06420044489908117,0.05493346673188456,0.041127842600115504,0.06520413538920732,0.2702751075639827,0.06439129827450174,0.04896150256322198,0.05228779377615347,0.1882687053312247,0.8896750661346378,0.6596537513398737,0.06260998595469816,0.05374714191900542,0.059133429073879765,0.03597001199095957,0.051540447416440954,0.7520833940648182,0.06488271028358152,0.17189703087749938,0.04995506273400961,0.07569108572967165,0.8338347069179689,0.05241794704619034,0.9075057669909209,0.2648470456622213,0.04796023534820221,0.049243110662317485,0.044431443799298725,0.04890798818244873,0.5092715167450811,0.35334566585478,0.21952547087701524,0.04055059553893074,0.05733345517860547,0.8730042132982965,0.435168996668727,0.054010016680706915,0.08571018072949448,0.05632397475980779,0.059252850890531075,0.051557676456007895,0.05230374337004411,0.869443652161213,0.04840878156574835,0.401490752283918,0.06431667849785498,0.45374510902785076,0.06296099235590794,0.05493297393775472,0.05560916781665832,0.06418956558088204,0.15992017947863446,0.4123194487875931,0.22899375671715438,0.07560893195193485,0.8807930863044818,0.05110974195878393,0.04565345935540714,0.07178221775904621,0.8556366914763073,0.061773380877058866,0.04791137633656707,0.7621658780625095,0.6470766984404019,0.04719130682488823,0.8732277898246588,0.05731863343357523,0.06957892607334312,0.38466648807157555,0.05724615378257889,0.053564811060624044,0.05705306319828535,0.0778578978233079,0.08382600882151481,0.05011062914684134,0.5797764605795529,0.9090192817553838,0.054414792789358055,0.054368557331897806,0.05374960591943999,0.04774077903995952,0.05785468845702846,0.05192443181456585,0.06682541115614464,0.06093140259656326,0.40879775959506215,0.058739702211225514,0.12214660895321929,0.05625839568766967,0.7828128373056688,0.671438043380189,0.48118743267417796,0.0500005673640206,0.04890610012282242,0.03488582994419788,0.05412525797674831,0.049868033720143035,0.05843548998915452,0.058322490625152976,0.055532498239328015,0.06234108642923333,0.07966634653730957,0.06743490094243126,0.3708747143688283,0.14405166801344155,0.05996367848502391,0.056773559756781986,0.046659931396531705,0.07277252830954808,0.050189055053371734,0.05876984710222314,0.12365148643075557,0.05115735410380816,0.05452807787258782,0.09321848927842581,0.07113992870762839,0.05484056331108979,0.06717542812245768,0.43483888627945333,0.06106294911691261,0.06109133141335754,0.052520574150168885,0.06481085917046205,0.05224100917456972,0.2603480399032415,0.07440498614985361,0.8327353732914418,0.06453400977006096,0.412595216578749,0.06366982740202312,0.07288165311952892,0.06157782855523883,0.059767301725507614,0.3496839319394185,0.630366470004762,0.865966871612827,0.8814770342183025,0.8777815036842413,0.5210002974861241,0.10793774864325738,0.5891102263851117,0.08573714064018738,0.10123816497430393,0.3088763195426136,0.07458004948270705,0.318856109405818,0.8536645463813691,0.8368259033168464,0.0626737487924656,0.10096187617060982,0.05245531217146578,0.5276880021119502,0.07105582659044464,0.05980765395689622,0.048267659475800924,0.7038200455214118,0.06250744525685421,0.04175651986813674,0.8818062593961014,0.05455944113503098,0.41304335380708024,0.47702429537737523,0.06975078175014326,0.0666110661772896,0.8466224386876254,0.05619821713459323,0.03853722616266659,0.6944404857045771,0.6424982048730888,0.08208720562758073,0.15023479236683548,0.052337212101558624,0.1858921700478988,0.05079129870073095,0.0603162017733838,0.3311762668601352,0.0937123533770032,0.03874049708874626,0.04543224815607715,0.1642476141217245,0.06979646589918233,0.0608915776059942,0.05184538446051303,0.053397749659045,0.0596950813644472,0.05371127127354437,0.05383019482606224,0.5234101988148431,0.05424649755406362,0.07692770521134377,0.7009654046422802,0.7274306059040923,0.8662966045821823,0.05109697997838462,0.04897830716296088,0.04788627116805226,0.05512155743817995,0.04705387725559651,0.04893778363926233,0.04921398438368457,0.04579564845369308,0.7896986597998471,0.05836568107609395,0.709375693457721,0.056515267661377405,0.052540016789310744,0.05123120588781839,0.057235755707439905,0.06721843552272029,0.33307803954694915,0.05047441926961084,0.062455969170310224,0.06746402723035475,0.06244737119250595,0.057890085271517976,0.6670024729438242,0.23794783643244494,0.06280996864569646,0.07844791100350902,0.06540034424549826,0.05975124368759107,0.06618326693764805,0.05038762507970541,0.06963126696474638,0.053471861727453225,0.28246794040639206,0.054674231770875846,0.4129015456563375,0.8820974011339744,0.6827809546921392,0.04440564076162865,0.054659833272313066,0.05634767072994551,0.10926717647327354,0.07609358695820988,0.055387962199726644,0.06445346159051103,0.08207964775386349,0.5804736513947444,0.2387560574141432,0.15397265050901318,0.05626884345922871,0.05712254467835719,0.05738774104277183,0.056379899956697864,0.165751125001677,0.055424826068562555,0.06953970623662274,0.06345052450541926,0.061167096866548074,0.870748556747021,0.049483612164153624,0.13872563490110265,0.05225714172324069,0.051396575531186456,0.352832858193176,0.29811972690077415,0.06047936287333509,0.2967996702780113,0.06234253356845603,0.04462456233929449,0.074362428160913,0.42115037756935025,0.06023836071105455,0.15717837078329552,0.0589042752737377,0.07557721988279013,0.0639838527749975,0.06949878736608707,0.06118406641259725,0.052580893520961534,0.06192745417576845,0.04431152302648335,0.04567409185970989,0.06331180175060003,0.06398070587381531,0.06679919110357369,0.5252154708573736,0.06050195363986587,0.09381534305386544,0.06909071035378353,0.06097517993119029,0.056377157239146124,0.24732442930926776,0.05346838992220523,0.05766531290230178,0.05514448515970683,0.06319238974719607,0.040868188825871836,0.07360742242707109,0.04217407930141758,0.05844630718380828,0.05000264336918939,0.0555872883079715,0.74802463788509,0.05666553790857121,0.06437763412188031,0.19871107952747977,0.057754456565789564,0.057383120555867535,0.059584771345380455,0.24232142293558015,0.04650302319005408,0.8871498699331586,0.052342314501759135,0.06180909058349821,0.15431025054593447,0.5446206969250356,0.05103250254976281,0.590108129955805,0.044582599310923406,0.05127180616731786,0.039185334798163086,0.8627675810670037,0.5757010605218441,0.8738085471067363,0.06153824433720962,0.07284010809850633,0.06098648014355953,0.06805268253147183,0.04940934484478632,0.041499095897371434,0.05132329924360888,0.0589286161290685,0.06621917182880771,0.05924632551695941,0.05819750366527137,0.046977565261302354,0.05743447497452687,0.044940343479243285,0.06758900379045855,0.048790826880964526,0.06014863814461129,0.0447492720503668,0.05532280572265431,0.05561483818254054,0.059833849698413794,0.04880588796914195,0.04883161253574557,0.05393791413813914,0.05909920106300213,0.049507778501988724,0.48982443687067495,0.205241557080612,0.07185470907622526,0.059203336344015416,0.0443952849859883,0.04416676223749709,0.05116520453094134,0.05763176411411275,0.05959062627739398,0.05205213227438321,0.060204507772198636,0.11893705873262232,0.8633282329278782,0.0601315621376662,0.06740012167077519,0.061844227293250904,0.07870257057405718,0.4348375818433704,0.19443463193333216,0.04897949387974906,0.04495306344204185,0.060199064997486,0.25629254663212975,0.0512977071051583,0.8390252828639723,0.05495808511801009,0.06783270412882485,0.0634362412314976,0.8655206710359888,0.4458515295073911,0.04834365064842052,0.05756403231446807,0.06374952325537517,0.053902884995813055,0.15764287043907305,0.6710291262704875,0.062104145480806304,0.7361591146296064,0.0646574201430287,0.08367344621491328,0.044530432583102256,0.5160045745792993,0.04770514150846014,0.053893176040894074,0.06160103663144257,0.05954613486972919,0.05632073625055831,0.051880301620979875,0.14985444242839752,0.4837290675657603,0.057633020723969496,0.05366706153297825,0.04673536454706786,0.8644767067714576,0.8957346298325725,0.9047098236025423,0.0546656388987186,0.531866131508903,0.06563386079241144,0.04847036045268032,0.7864941305684686,0.4268381855129247,0.5939712061167383,0.037792986963859666,0.48491350236404296,0.059107511080029124,0.860736894046739,0.046942564553101446,0.24334530665384255,0.38320847203725183,0.042340262875582776,0.3272490063770386,0.3793284339285988,0.7972604558514602,0.03954374171718192,0.05565642202728913,0.04995169522992136,0.046649648953625326,0.6440666765815559,0.07615758991321393,0.05725950308494965,0.05237958527157416,0.05453435801573496,0.5984754165962844,0.05596273226142587,0.051285525446192706,0.7623086642039459,0.8601106661709952,0.0351793887921356,0.4381678112875791,0.06863341687317404,0.6105458849443448,0.05557216654788821,0.0498216381977438,0.09101778581529509,0.03602357488850011,0.05305880994651859,0.044826359898288204,0.8837925110491214,0.04710923535304265,0.5890656212653824,0.1933152028731844,0.05889044267130313,0.06328091291454002,0.05460644463607118,0.7573954480149786,0.04979523670955107,0.05187553480602414,0.051534746253001924,0.07364551969060201,0.040911541720854504,0.08610056383630695,0.05471098278259336,0.06276962405226258,0.042539944635532595,0.045501766356530984,0.04294601619529471,0.05192064811931366,0.047459969882924245,0.06675760380195041,0.05273520537272323,0.2060538826373946,0.044718272856883456,0.5022931773144828,0.4095238074456494,0.05854894332305653,0.43860178872806427,0.7329427000831493,0.5240315704420523,0.8920434738483988,0.055810705010170165,0.5437436214117012,0.8957948704580045,0.894307083337822,0.8913738195645987,0.3379557131597751,0.6587034792294633,0.665121753591996,0.652225098973111,0.060064448476650247,0.0486276862857546,0.4129383327693595,0.04034516901953114,0.0864134010770084,0.04911636479832758,0.05378444533048581,0.08605949821406893,0.04677605638526904,0.08675295909992387,0.8905054278531881,0.886785186232081,0.06718539399116599,0.7674155680543097,0.8476895952244691,0.08167470491598922,0.06602424529677395,0.051248635582743465,0.0553568158554015,0.14853885561510577,0.5458424394098604,0.8971034353186214,0.41148640307841833,0.04922632299467256,0.0672543719212014,0.8391051369211586,0.8954055233458029,0.8801523298782751,0.05561659294054841,0.043234671614783324,0.8883345856605455,0.0480476003896954,0.24543024602586397,0.8453300062966383,0.1980495724463697,0.8462011319829146,0.7567383317900751,0.04509615316846478,0.5262319533142951,0.4832409646363573,0.9083823708166177,0.8846897888355301,0.8922025321331464,0.8932002516173961,0.6771395210188359,0.8549486724723396,0.04277290190034631,0.05047586677481136,0.061808601139530975,0.3363217091485053,0.18046396402895498,0.8040222588323382,0.049190298469280296,0.04372697836821645,0.07066363478856959,0.8031076436164648,0.900968867960973,0.05584776622696413,0.05566938117602646,0.0524342015021278,0.41441350480462597,0.3684391663337369,0.052874428207593076,0.06470573921467276,0.885522503770642,0.6995491890358525,0.5682717768661465,0.05730095615266373,0.10012883923010575,0.24314212727130186,0.06264437829077668,0.529306270727869,0.15604453188125791,0.32272319326463794,0.057540076506950484,0.5811327096196471,0.04604326037672544,0.2102872224835637,0.057064861582481405,0.05178883357663475,0.9117701713814794,0.7649058285043411,0.4976404450774854,0.07966177683724796,0.5462500570743197,0.6890744831912273,0.05492343694412806,0.8875133941716,0.05736230619116779,0.046080963053753504,0.06160056188248287,0.056095975261454496,0.09636455187228994,0.10102543326174802,0.406627248963145,0.04717705936275151,0.8767505518121607,0.058139402199853446,0.8057765659186024,0.89100761249964,0.6213138213947599,0.8955309774416376,0.8939650892839768,0.5526926339077638,0.777744632754016,0.7131661045029836,0.053774476717649344,0.6975811225858095,0.8901771038993562,0.8751460011075564,0.9069875005035359,0.0696089854572129,0.045683813496465456,0.5390304734186139,0.048040112453226896,0.9000031552509199,0.46821437095458146,0.9017157817284832,0.8898884806253832,0.877805731665301,0.5627117561456367,0.898431289238207,0.06161291160404199,0.04535170696505534,0.04423909022063505,0.6145968397633866,0.6814224333648281,0.8034550174226079,0.6948558933963491,0.6858158694031294,0.2658295061197262,0.060383925740686004,0.05817352936556938,0.05417638400198919,0.9064049397565384,0.42825789703082556,0.5498189527335701,0.057935091322486136,0.7491834696152296,0.06016045751566881,0.7685157151260112,0.3708313453477446,0.8778957289429765,0.1694170555520525,0.23285085000249942,0.9047653078321539,0.8924358475449918,0.11834974538514685,0.34984726774776653,0.44459401723195174,0.8713269965787639,0.8840739237945955,0.06787605124826465,0.07532657804709701,0.8503700423508449,0.0710814285493432,0.6265348409757213,0.9083518513841009,0.6573437422538191,0.8129099243150752,0.15502336557657587,0.5034343640347652,0.5724436819840303,0.5336287765457398,0.05288086056258413,0.8885447370038251,0.5612504209628373,0.6898757750188694,0.08757688075390425,0.901221808807602,0.9108256115834324,0.8820621265015104,0.07160962278211151,0.45775629797275535,0.733670300233244,0.8677060448385481,0.8829571833083485,0.8107633043098257,0.3560299819547825,0.34121528296853054,0.5327339199514384,0.3383848856624136,0.04937460716052866,0.45594017799147696,0.7935653063220586,0.1464595877622898,0.9084188930371072,0.6432646642621944,0.046334341584306306,0.054183884698591665,0.8334377169121139,0.07493627778388173,0.2715024316468035,0.5290147431501826,0.585603229861011,0.5573715856962976,0.04389620722938881,0.05633625984393749,0.09547958523170164,0.22209952009611325,0.9111217539559028,0.04993840794581204,0.058545817070138194,0.07177174351937615,0.8884900806651078,0.8479046089495738,0.6308227080041312,0.8831367239864844,0.047934042364543857,0.039831365537212844,0.058062804076155966,0.0592018772430001,0.05118738992546962,0.048982208940698435,0.05171039919249747,0.06041673259117979,0.07603356005261595,0.04307566656908357,0.5563642259501256,0.15462951378562967,0.7335218674448071,0.06425075211554183,0.15841708466136523,0.29821041832018474,0.5538212391339151,0.8779459626621452,0.04181344165809145,0.07520855231006487,0.06548773711664362,0.09506421944046815,0.5963232777475237,0.7449216520733798,0.22356417508197143,0.05920104413409926,0.0968208535586429,0.06086641372697626,0.04397285338109511,0.0650474724785522,0.043117609571855266,0.051689996111531016,0.05107398267753928,0.06897615831524602,0.07516028678500263,0.43405802303624585,0.5623097962766788,0.05117199559815259,0.048831030368415115,0.08761932313845977,0.04766335777959169,0.5016752391332574,0.6571131140398835,0.48344560140077414,0.04785448430035845,0.06949570191740496,0.0612889618093429,0.39863026612640085,0.058303100683072276,0.04790007255335652,0.8384648747843743,0.05993627371626819,0.403423830500805,0.8608842185525563,0.05381881980868836,0.8173909849873782,0.05965300773140047,0.7112932976168885,0.09318844468145593,0.06502907783255911,0.04962152970251873,0.04410257661063851,0.5329186758592978,0.6737741626100096,0.05859703809031445,0.7054812888547796,0.05820048971106479,0.2504746028139321,0.054128081822136166,0.40387465863158073,0.04585460002515969,0.6470870722765834,0.3944665694943722,0.07000380446026758,0.15759478188685838,0.09958281721963304,0.5880076415428787,0.2684096091361888,0.8663702502761058,0.05713359875590519,0.04840771429763321,0.05227857932163806,0.0485351821690453,0.04057268762102732,0.06026760047946693,0.06025394668054782,0.05205694718039532,0.35109213427589697,0.3795482305450962,0.0397669902839985,0.06601424812667393,0.5621939194884052,0.6735942388567323,0.08142310485842201,0.0431009575267915,0.06483695087830622,0.5866391556131879,0.07724744742221096,0.056455500145849255,0.8909763053006605,0.8564066360038739,0.8872304473655351,0.06461339931077918,0.05046852166960977,0.394488917537839,0.06494652975461877,0.21436440258471465,0.05754205694611725,0.05313340632625938,0.6162761657904302,0.8018267164620381,0.06125130072363536,0.06458401522133853,0.05304586287975913,0.0646732311013852,0.06213744908189696,0.06467818755032981,0.04959532663406634,0.05805677641944495,0.05369381615482828,0.05513107783787834,0.9052588075188456,0.05687417412617137,0.11802256993552754,0.06550514881209403,0.06750520394658914,0.05620267534607524,0.06812275208031678,0.23819226226985143,0.21099255932956634,0.04977452889039937,0.819432017645721,0.8211816208988444,0.8194320167578258,0.04439986441597313,0.6022997151379804,0.054316927329471514,0.8977186011165871,0.13844562813482417,0.48388902738561873,0.05233231765780671,0.06219577146526682,0.1460898725886892,0.8942236610791097,0.5400169454142363,0.7763363574987596,0.6992357759685206,0.09378638083294542,0.823289289459522,0.07312393422083485,0.04546595635788946,0.849578409722255,0.04821571646286492,0.43500705863148714,0.045827338874671185,0.0638568006941089,0.21083881783957256,0.811789560997508,0.7996297330977729,0.8899901849615092,0.07460837001916111,0.05719765487942366,0.05877242985271346,0.04137165028197619,0.05941268141051568,0.050386390862244355,0.40144970712148803,0.053363737097745716,0.058882601361191396,0.057055328687287236,0.04804417871464928,0.11612515791506417,0.04694707315383486,0.04296786550222161,0.05688759302980253,0.049191328148383305,0.03599822654990413,0.055086518902531564,0.0515771762950416,0.06328467447490975,0.05993297391688756,0.8894491555500256,0.044068304570289096,0.0675663297459772,0.052010881641438876,0.34614596937660813,0.8922473184940083,0.8466533340473994,0.263485685982878,0.5777971611747427,0.5138822408762036,0.0438423966303836,0.547912289167347,0.6067953494663075,0.8860937742435441,0.8860937742435441,0.8860937742435441,0.8860937742435441,0.051315263801733534,0.5403900661198167,0.8139105521769453,0.07616802411358506,0.05753618978171458,0.06609018674311219,0.478411528929355,0.4570431270155929,0.4664236502477824,0.48906634423546463,0.8864004502140995,0.9117350368370037,0.051783461967814325,0.0640401899917346,0.060631152506263504,0.8207639560996384,0.3987073351086816,0.7478736879276291,0.0480327890132004,0.7904445824903348,0.4936362728424611,0.05505978003450223,0.4043259821541301,0.6835533797415259,0.4725306520757837,0.27979469360743914,0.052158679721972426,0.044256101756399914,0.0616888000907293,0.7299025010660237,0.798744605584467,0.1313160946883047,0.7750112354350819,0.04562993724074743,0.08555692962811619,0.5360949542995544,0.055731639497175973,0.05262979116084563,0.05241681315160972,0.0478730760004262,0.8021028253514717,0.8168564276241148,0.8925900867580034,0.045821449374401746,0.3635596037904991,0.5052349221712443,0.7310201885891904,0.051788602740708845,0.059900898419197476,0.05212080733501834,0.05172932978902422,0.05850040890659778,0.8616140420594192,0.054265847961214676,0.07117218825649807,0.057767255642411246,0.04726987864405962,0.06440087393331845,0.3849336149971767,0.28992108676973816,0.8331596351062389,0.8581910300254442,0.8786100766486087,0.58343263107951,0.8135707558947498,0.046086602289879874,0.9037439970003073,0.750017655530071,0.5864284226492984,0.040987660295429953,0.08050339112815377,0.0557437599199458,0.9022700761472892,0.8805625019113924,0.8730923942084069,0.7694911272627555,0.8776483958217983,0.060571986758869635,0.06399591525856295,0.8788309952203823,0.879867685376442,0.15752242194036187,0.05276029092365167,0.06442822644955895,0.07047558856495506,0.2021967539503131,0.8213505834978561,0.12072620315577288,0.06027594061385336,0.4982552563974318,0.0840618888872282,0.5569018104455029,0.04421885385347574,0.7729365265576057,0.05045155259712276,0.04112619654946307,0.04646130014785938,0.8776705133173311,0.057570050918666724,0.059262162482698263,0.7649129022074188,0.8445922572922532,0.061693651008485194,0.6789198409696543,0.05539739511266017,0.08261200500477744,0.07248530180289635,0.04888640342121829,0.0655501198483963,0.05054771193539867,0.04873447192041431,0.04615889260858015,0.15921753943960426,0.06138126936851358,0.04804476808319716,0.4623512750968832,0.06718073444945175,0.04946002466191606,0.6423604886744222,0.26162607128503557,0.8909330391987424,0.13598660538657356,0.8545346107893649,0.09517399355266104,0.2424007065492365,0.5422600820339001,0.6346056078790888,0.8589322873731525,0.8881299705453942,0.8594542829827435,0.31387086989217355,0.04335367873420856,0.7446148939243059,0.2441793391675768,0.04250880748855293,0.05860097768381353,0.06576789934233779,0.05894382289676239,0.5518665796068891,0.8952384431351301,0.6984853051421276,0.06285922497213749,0.0633966102652789,0.06634258722661579,0.04790359688224474,0.6306297926934112,0.060193330117835016,0.8729913852688451,0.07375867159128734,0.06957044162758215,0.6303887753652733,0.06522226432462233,0.7125800913794695,0.8884229527378628,0.6509021152057907,0.5185232036993938,0.5793417107910098,0.04215886957614548,0.04501682925587764,0.07274234444518966,0.0720947151264454,0.0632174307309118,0.06586052235400278,0.5186585061215794,0.06632889676857502,0.04360884422296585,0.07043474115788642,0.5897980770363686,0.38578479617134276,0.04416675843559235,0.05556055076887549,0.6966027331380065,0.3023359757904814,0.6452981396692268,0.5643421386705179,0.9074985406241474,0.9121078641499699,0.902280606870247,0.8544965161168374,0.8263521318562158,0.6708527265564918,0.3160210018660285,0.04287392867932344,0.047778972622587436,0.06005406528466313,0.047981027612354565,0.7449214618945783,0.4597538796648288,0.10410720301782478,0.0417210217707055,0.4707308642511567,0.05779670259693416,0.07406521375771244,0.8802586503654793,0.5813899923252202,0.04140579185845461,0.05396242274655404,0.07641662334968996,0.7943772869965252,0.046219786903393664,0.8990187727288349,0.742885320603545,0.05021135376944508,0.0552494407808853,0.4995284178626312,0.0433151615286739,0.058473219355404955,0.2592783286748718,0.05154376756103879,0.8666160628983074,0.04409384222098987,0.1979129610292995,0.5624709375356908,0.29871759871577097,0.6082759387985156,0.7712091070920177,0.8916137329780411,0.8013110193317956,0.795839064706692,0.1878231463743862,0.6577054954570405,0.03823495093465994,0.050191059054660106,0.817934081875303,0.27520716415833496,0.5208583573512224,0.8688277918636486,0.894699416376214,0.05268246357054227,0.8734896117892219,0.6784938760057809,0.4099526561040395,0.6179146485638795,0.6592421466764139,0.8895968420226122,0.38755748734051754,0.900528825325811,0.9103779192592235,0.8809622207145462,0.9058882893404132,0.524725966604041,0.3769365479305247,0.9146015956711345,0.7820067090907864,0.7506055970360435,0.5379058181154412,0.5391724812551014,0.047709178774512966,0.052770621026432075,0.5175722594342548,0.7440218388295081,0.9029117826143038,0.044733478209318944,0.5852147238278924,0.8944463711017728,0.8912893055209231,0.05679254435522093,0.2734639436287174,0.05816318086634808,0.863944687694439,0.04212380221581718,0.8516201713900962,0.8861732330768775,0.12678961270278802,0.6343665335445307,0.8977453308575954,0.9053903745441577,0.9081512117578754,0.06881284143561703,0.4800527575402806,0.04584712168785427,0.04600112394584509,0.27864070409316427,0.9014352200162636,0.8851403327108175,0.9025813759276459,0.8035295130379885,0.046127187372550296,0.09892200482167059,0.09915520382445553,0.791035525279999,0.7618897746681463,0.1854916817214094,0.049807094265009885,0.873929909161711,0.8951348412770419,0.47642955695607114,0.6787659491626952,0.9087838043167066,0.4817440217226306,0.15333136278572715,0.8245543057981943,0.07416925285764751,0.901621691692873,0.8647637039707319,0.7151343444202768,0.8768294054293169,0.3036930572244229,0.8910575789120571,0.796399768848128,0.8799779646038293,0.05292854142261049,0.5716422940376586,0.46884588222532364,0.05207584450531928,0.8812276778842596,0.2530561147602777,0.8984974083661927,0.05452668851882167,0.8890800680337375,0.7178521024699595,0.89692230483266,0.41061910937563206,0.5471101603778482,0.06436791166235045,0.06217609601093195,0.3299341888955265,0.051186238548521966,0.6349977556599827,0.05646035358868341,0.1543768761806321,0.2777707332513682,0.0651622623594435,0.8616424763643244,0.862337977011615,0.5514642892130341,0.8816290058844469,0.8459529695258518,0.051767119225306475,0.04796704259815482,0.0495729892462983,0.05029539522277019,0.1608899679560474,0.04782213154446074,0.6267588406454041,0.6020647728580251,0.7672789329806491,0.06729725125761098,0.5652634883313727,0.04352956380713248,0.06342647280817414,0.05346153412095713,0.8610099042585494,0.8862753917171043,0.8969264867836909,0.8929486274353818,0.8714223564044661,0.9173148954560083,0.9154501284388766,0.9102311435661709,0.9012046550790501,0.8294041209450106,0.9129323789917397,0.8981500057578012,0.674237986268956,0.05862601196993442,0.053101940640143105,0.046277108840843156,0.5554552345476107,0.05188603000348478,0.05018072632506366,0.04458585857017103,0.04706406100031845,0.22802110555999416,0.04448194331065073,0.054909834047618566,0.8750654542337452,0.048528541490721375,0.47547803980948544,0.05943871684562379,0.045570283273479895,0.691346820941429,0.03681750194659818,0.05019557404937398,0.051183522378687035,0.05056272170462323,0.29564306262036266,0.052546340277016435,0.3234834844945458,0.04586741747874031,0.4626617896097831,0.07033386962353226,0.04718312689511268,0.04750796113967946,0.8491779059498951,0.6726682573095029,0.04920877074676003,0.07420674767934093,0.05442556377121536,0.48786109220303553,0.4874460145892147,0.794719241269286,0.057893611124113245,0.04731633645331092,0.14120058286473702,0.0790122643173215,0.6833083843280106,0.04356415637413121,0.22420416439350346,0.8720388234648607,0.04539382975016394,0.055337266442174474,0.04990698107322164,0.052359112539582024,0.8492775313950495,0.5627082341857493,0.7077596650849124,0.8978401281029283,0.05327420781394348,0.05737677483709657,0.5142892439821818,0.0780283162895683,0.7828038661743614,0.07253959463757809,0.7563763499574867,0.8870268434866698,0.04227685832547703,0.055489417402941686,0.06138294731403048,0.06525754801314002,0.05452177189583398,0.042636467610772145,0.05225223390861586,0.04482937834704866,0.04666882201710655,0.046619640666530515,0.04068210042129811,0.06353399730440996,0.06697408049216616,0.07106631372321102,0.06126230220667113,0.05750805673770752,0.055290345431919456,0.05518709187841896,0.05389143118985429,0.07325612807069641,0.047901626605953485,0.4254824775266708,0.05400222357348373,0.05501459379828386,0.15565505238096375,0.08098403517437602,0.07425640285716345,0.053334520834516834,0.074240969057622,0.05891960121895095,0.21702111855374207,0.04748584090507356,0.04351186004627564,0.05790322970365562,0.04004551590149467,0.6430331980586417,0.053485650702109415,0.6153872112855638,0.7827243075479384,0.05154791285398433,0.3009712741314564,0.5816244634566954,0.05722600967594369,0.06711966072871801,0.04406830566985926,0.04494259829986311,0.19845941096918587,0.04815343406080757,0.043136652446331414,0.7851470402505795,0.05200457146573763,0.46835967290023334,0.04850507699116913,0.3439553951235373,0.05455016683122735,0.05057670172066371,0.11069762713980334,0.03996057225018704,0.05536969045017557,0.6330572314283383,0.05176290375685196,0.43942573457131945,0.056254399541735334,0.05162713338321057,0.5649904380583416,0.07703935794153943,0.04463760954125277,0.04968031080981695,0.044847604610997016,0.0605283730926953,0.04551026538954806,0.055559499209553026,0.060763509157111734,0.04982732222694684,0.06269646239578984,0.05868932203917072,0.046958594855819144,0.04605935576575362,0.8369947529663947,0.133670842372046,0.06048564874464645,0.050615225888419636,0.05010495969510162,0.05388963047310279,0.04879515797129872,0.0516054335041316,0.03205907765320851,0.056418983842940675,0.06458206359992344,0.4600905837109611,0.1744089119096227,0.062288420952035975,0.7275311212850001,0.05231717877356455,0.06794644224299785,0.1560396624915437,0.04278591828131759,0.7957966770863041,0.9009334060910963,0.8780361787469866,0.0776617800673027,0.13706947323461083,0.9051429350068865,0.8996866199605408,0.9041169436337785,0.8880899842758013,0.05851039932878489,0.055186219027921375,0.04790380147421831,0.42920302804901533,0.31889757724368595,0.054960890278595485,0.8537860409068952,0.08372890472465208,0.040966744893697685,0.05290680333307764,0.5579383355748105,0.05213967513333416,0.060235711491507034,0.4416331729879779,0.04015164139346854,0.06812796860948438,0.05512707785205573,0.05426907007463832,0.10322107350137695,0.23449386530147337,0.07166101020028852,0.05317427219720215,0.04495837846192439,0.2103465477415985,0.043124501480496666,0.04580390404825298,0.04119670400567088,0.03790742052954692,0.056249249562739335,0.06377096110307065,0.05015705432139748,0.048807327279341506,0.04586150290747119,0.06289376693436738,0.060089204312422206,0.04680214741942146,0.06094824836876248,0.05526272352239367,0.05132363013578833,0.04560420693508283,0.41659119693921365,0.05602832066430656,0.5568765837813184,0.8557499488369158,0.049998018113384335,0.052138581933451285,0.6696307935039487,0.07899172000203196,0.0488586065607801,0.06625536530030086,0.0482681096055567,0.04980227686704193,0.05397435516515455,0.03961580410876148,0.05387135517240355,0.051159768127409765,0.039582963329033896,0.6191457163398206,0.05341789510950553,0.04759501351119239,0.05352792847694469,0.04407747848358358,0.05508418901041757,0.09550302421540824,0.049053884995060214,0.04778919731728982,0.05494806661727456,0.04976641258085205,0.07874342188528594,0.6653156893201582,0.05312897819150722,0.050249789591608536,0.040894745660542756,0.5245048707890235,0.669656847856266,0.07111782208858407,0.7173314123830415,0.050295742512460904,0.07320465331222868,0.05537936604900256,0.8784059755538789,0.1935626860602994,0.04849663260242731,0.08866138939172671,0.04473845537371878,0.14820144144666958,0.04991642053496722,0.050147276881947825,0.05078757242561398,0.05574099558532514,0.06309356545797842,0.04233963468991801,0.04955598726504614,0.04964496959988355,0.038433018062064624,0.05263114175412635,0.049824378293500816,0.3168946987546698,0.3120528047501979,0.05490118311468262,0.042545642131731086,0.05267758530176735,0.22068658950795442,0.04723604346452738,0.09204977481125448,0.6080978407519514,0.7191816214443567,0.05401730163899198,0.04920165499118438,0.053896804671884166,0.5559770056673814,0.051739076232369924,0.055383089392000255,0.0457352041391357,0.05391863016111991,0.06160710750074488,0.04140753317155064,0.5326276510159388,0.5637619071170593,0.8714220671899872,0.16556166802493016,0.05716452418072003,0.500059681143991,0.06503167330564477,0.05320422659920732,0.045194104881884245,0.06041955576304243,0.05454345886078103,0.05246577713738639,0.07119727492026515,0.06072032520764908,0.03794915944261917,0.16196357667006367,0.05944253253193801,0.041482231593123475,0.06622225487274348,0.053758049337581514,0.050804965693755776,0.05454242222408264,0.06779158466369377,0.5402217304448459,0.06356712969966707,0.052422878775029255,0.03729266188425633,0.04304794632450401,0.16975669194013185,0.7954776268073052,0.6933627664173885,0.04743331481653506,0.03979486428405746,0.046807041903073075,0.05889866383211367,0.0540227175727895,0.06649544584556992,0.0717710158836625,0.06422184459510931,0.04829751023756452,0.052020709868526846,0.43002369359261217,0.04020292572519669,0.8735958272577783,0.04023394253684986,0.8881472918719272,0.08133658119261555,0.9069621240514579,0.058474577889323,0.18647234605634355,0.05386570844331768,0.0446776445325002,0.5885322165364938,0.05318417108192366,0.06432199311695398,0.06427283752531553,0.5637602272212625,0.07004453398220144,0.8630185416681857,0.05978688243462716,0.39124016792298555,0.4286213756201298,0.045058265283689954,0.8551824687893862,0.0558874600853578,0.8075336364170446,0.6585804804905534,0.05865600533166247,0.06816921450447108,0.04731512590520629,0.05581986726715985,0.058447218849487295,0.466999414544446,0.5738400124359928,0.5649584618677719,0.05067772649105402,0.9008667071976166,0.8993299346224708,0.7461195008688576,0.06681878158470687,0.6652323319749347,0.6537321583758398,0.057425863779033776,0.08246008337663327,0.2646017215316829,0.04957724457178235,0.03970416679587329,0.05812504632984929,0.05981325159934173,0.2661988574081086,0.047447033605855504,0.05349744450975931,0.06095039727695919,0.07354756622708998,0.37807955970636836,0.05578612031324541,0.05244795754910813,0.04828956866425541,0.05428374505571681,0.04493061088868744,0.44315622303420305,0.04757258057155747,0.05545360306546499,0.046067934941045316,0.05290014169559473,0.8200294087516827,0.8694993162748881,0.8410059934063578,0.8393566085586996,0.8404884613531745,0.8526967157671619,0.34077984542835776,0.8141432478469949,0.5075469451593342,0.05764769617143977,0.8905960832928075,0.06319555081980625,0.05889559333438912,0.4852994752045481,0.8633187574811478,0.08165013769744578,0.07018311435990314,0.05249669500205988,0.9211288521646127,0.06418657997382549,0.05744049851014402,0.4240643976660482,0.7497897210745357,0.7178349339889659,0.5921123881677025,0.07023359572243565,0.691726206061377,0.7374694358086616,0.8704596708349168,0.8657659512285399,0.06528313139517163,0.9022447951949487,0.8930665371293323,0.8815398850176772,0.8613878453318997,0.909606635557665,0.8305172482457982,0.9162916457275747,0.2160973021998385,0.5601599070986106,0.10427783447151706,0.05293284248454783,0.893247366116357,0.39674466878937953,0.26133922676448024,0.8490100486212857,0.616938005158523,0.8014856913051407,0.646956649021407,0.8880629229955784,0.06249931511966111,0.870729973455925,0.4262391086988314,0.8827293258135315,0.06979882018679805,0.9046571921775877,0.04531838838410197,0.07669675753404648,0.03720589626669,0.04716306358150954,0.052528149352893724,0.5522672066854912,0.05482079929195854,0.04720662892220712,0.05088696532709982,0.444935944259494,0.042518630410344135,0.05645211926968138,0.048769935266213545,0.3572700554149376,0.045243552231634336,0.19361456865663462,0.05805373392471797,0.05761455877160177,0.058465224774901355,0.05389273553486169,0.40314119073389687,0.31437789373404396,0.06439855361341783,0.04708001530103707,0.04032449845252823,0.09868029470995636,0.07136090525615948,0.06066739432816273,0.49525905705007606,0.051171377473397214,0.4324716134734878,0.046573184244908014,0.053621442751639554,0.04910252301451038,0.048501691364021354,0.09387539977180617,0.03304322045168752,0.040935528105853665,0.05436163262442369,0.062377497600055856,0.05534048935497824,0.047080341484323086,0.04680911416339783,0.05582586688495468,0.6256390505808939,0.049351593236527165,0.8767564204504356,0.04338646080221576,0.0414611082731442,0.05715598057032505,0.04088607330586249,0.21522252664332406,0.048815006044158414,0.04546197072832158,0.04894130117478395,0.1640103857949519,0.08135292562567054,0.4170147902360336,0.4534546589856254,0.056412117169474925,0.6515001552371992,0.047032708916730226,0.36235125829025994,0.17268382655285386,0.06428224492192063,0.08095222517268266,0.3493187385297345,0.8324227907029925,0.06483205878005457,0.11420009110151123,0.08093474520021501,0.8663164078711564,0.2444277329712199,0.059542865780034177,0.05437321811974453,0.04205736755828142,0.050787541539397074,0.06029706684608221,0.060405321730817294,0.052587349810237397,0.037629666443828126,0.40443728261864204,0.04539054262936612,0.2848011369003214,0.42633607462488937,0.08006215750131308,0.7022370315249008,0.06056652229923826,0.05139736386254228,0.24354712104382076,0.06006677066183793,0.04917993247944367,0.05013604658228463,0.8852681328713922,0.44054961928232883,0.0630061125811267,0.04928707958226498,0.8995939775292461,0.05705784287149385,0.058269417107553824,0.057200980560319595,0.4699213548728459,0.04400179518221151,0.32683927813951597,0.8896638516640868,0.17541160208549655,0.0544529531127726,0.046514695744066394,0.05375103173467757,0.8683814397254622,0.04451539698462789,0.05464018574388693,0.07318621402638252,0.06562513291447239,0.0575499923305179,0.8695406287986425,0.05194171578420273,0.05474937039707117,0.4752617786333969,0.10886879669644597,0.7085353310976806,0.07600801713370484,0.052819263640932264,0.43946420538498054,0.419438056562289,0.056128160235481894,0.063428715603814,0.8696196767064552,0.06196000907186525,0.08093379934620376,0.6832554018493545,0.5995127067757916,0.8252349371970057,0.8793491575961809,0.05643425647512702,0.1280239838139055,0.0660356024626022,0.16382762054230446,0.06541813562378472,0.05176534100510492,0.047268486656952234,0.04292959075987933,0.06881574738426985,0.1302735982227664,0.04736790010901874,0.06180452841345171,0.06391988933453883,0.06472112694617932,0.052107787203290644,0.05229760156396105,0.06379363193066083,0.8117498338329212,0.5911530596354937,0.040559174158499314,0.07489481462230972,0.05208903131813847,0.6079738383026815,0.8574179217227154,0.05505840749705184,0.5030210501024703,0.5230023464052047,0.5282202617663009,0.10434578451282452,0.49461385452235945,0.06362013275572666,0.052308803245425854,0.09395477602639965,0.8355999825977473,0.21285274907949786,0.08106581151928749,0.4410439735175583,0.7558585189308277,0.06652493635715127,0.04694446628455225,0.883446998022428,0.22188671786986439,0.7494970965748551,0.19532592233724091,0.8743942086862088,0.4329966578846366,0.8820799821676933,0.654777107462609,0.05291874229627642,0.896359266814982,0.8580739966976039,0.8252890275955488,0.7478474619634511,0.05494028099061274,0.8936121112876055,0.7026551462586728,0.4823573515709524,0.09816441771449896,0.05385213174219977,0.29416497472405667,0.6868916263459861,0.501202982393476,0.8849223174982752,0.06084832937551207,0.38104573938971437,0.7274834086705861,0.8871846409055711,0.8593290011550808,0.8567250057835171,0.7551098308429809,0.09672540612119805,0.9074276993105516,0.7447244767183323,0.8878367920803182,0.5718575863048269,0.8858059355692466,0.8684658279083475,0.907122462136211,0.5126894381184705,0.91589166746955,0.8708915353873778,0.7185053698498884,0.9032785417158922,0.7240059855226225,0.8207776791384845],\"type\":\"scatter3d\"}],                        {\"template\":{\"data\":{\"barpolar\":[{\"marker\":{\"line\":{\"color\":\"white\",\"width\":0.5},\"pattern\":{\"fillmode\":\"overlay\",\"size\":10,\"solidity\":0.2}},\"type\":\"barpolar\"}],\"bar\":[{\"error_x\":{\"color\":\"rgb(36,36,36)\"},\"error_y\":{\"color\":\"rgb(36,36,36)\"},\"marker\":{\"line\":{\"color\":\"white\",\"width\":0.5},\"pattern\":{\"fillmode\":\"overlay\",\"size\":10,\"solidity\":0.2}},\"type\":\"bar\"}],\"carpet\":[{\"aaxis\":{\"endlinecolor\":\"rgb(36,36,36)\",\"gridcolor\":\"white\",\"linecolor\":\"white\",\"minorgridcolor\":\"white\",\"startlinecolor\":\"rgb(36,36,36)\"},\"baxis\":{\"endlinecolor\":\"rgb(36,36,36)\",\"gridcolor\":\"white\",\"linecolor\":\"white\",\"minorgridcolor\":\"white\",\"startlinecolor\":\"rgb(36,36,36)\"},\"type\":\"carpet\"}],\"choropleth\":[{\"colorbar\":{\"outlinewidth\":1,\"tickcolor\":\"rgb(36,36,36)\",\"ticks\":\"outside\"},\"type\":\"choropleth\"}],\"contourcarpet\":[{\"colorbar\":{\"outlinewidth\":1,\"tickcolor\":\"rgb(36,36,36)\",\"ticks\":\"outside\"},\"type\":\"contourcarpet\"}],\"contour\":[{\"colorbar\":{\"outlinewidth\":1,\"tickcolor\":\"rgb(36,36,36)\",\"ticks\":\"outside\"},\"colorscale\":[[0.0,\"#440154\"],[0.1111111111111111,\"#482878\"],[0.2222222222222222,\"#3e4989\"],[0.3333333333333333,\"#31688e\"],[0.4444444444444444,\"#26828e\"],[0.5555555555555556,\"#1f9e89\"],[0.6666666666666666,\"#35b779\"],[0.7777777777777778,\"#6ece58\"],[0.8888888888888888,\"#b5de2b\"],[1.0,\"#fde725\"]],\"type\":\"contour\"}],\"heatmapgl\":[{\"colorbar\":{\"outlinewidth\":1,\"tickcolor\":\"rgb(36,36,36)\",\"ticks\":\"outside\"},\"colorscale\":[[0.0,\"#440154\"],[0.1111111111111111,\"#482878\"],[0.2222222222222222,\"#3e4989\"],[0.3333333333333333,\"#31688e\"],[0.4444444444444444,\"#26828e\"],[0.5555555555555556,\"#1f9e89\"],[0.6666666666666666,\"#35b779\"],[0.7777777777777778,\"#6ece58\"],[0.8888888888888888,\"#b5de2b\"],[1.0,\"#fde725\"]],\"type\":\"heatmapgl\"}],\"heatmap\":[{\"colorbar\":{\"outlinewidth\":1,\"tickcolor\":\"rgb(36,36,36)\",\"ticks\":\"outside\"},\"colorscale\":[[0.0,\"#440154\"],[0.1111111111111111,\"#482878\"],[0.2222222222222222,\"#3e4989\"],[0.3333333333333333,\"#31688e\"],[0.4444444444444444,\"#26828e\"],[0.5555555555555556,\"#1f9e89\"],[0.6666666666666666,\"#35b779\"],[0.7777777777777778,\"#6ece58\"],[0.8888888888888888,\"#b5de2b\"],[1.0,\"#fde725\"]],\"type\":\"heatmap\"}],\"histogram2dcontour\":[{\"colorbar\":{\"outlinewidth\":1,\"tickcolor\":\"rgb(36,36,36)\",\"ticks\":\"outside\"},\"colorscale\":[[0.0,\"#440154\"],[0.1111111111111111,\"#482878\"],[0.2222222222222222,\"#3e4989\"],[0.3333333333333333,\"#31688e\"],[0.4444444444444444,\"#26828e\"],[0.5555555555555556,\"#1f9e89\"],[0.6666666666666666,\"#35b779\"],[0.7777777777777778,\"#6ece58\"],[0.8888888888888888,\"#b5de2b\"],[1.0,\"#fde725\"]],\"type\":\"histogram2dcontour\"}],\"histogram2d\":[{\"colorbar\":{\"outlinewidth\":1,\"tickcolor\":\"rgb(36,36,36)\",\"ticks\":\"outside\"},\"colorscale\":[[0.0,\"#440154\"],[0.1111111111111111,\"#482878\"],[0.2222222222222222,\"#3e4989\"],[0.3333333333333333,\"#31688e\"],[0.4444444444444444,\"#26828e\"],[0.5555555555555556,\"#1f9e89\"],[0.6666666666666666,\"#35b779\"],[0.7777777777777778,\"#6ece58\"],[0.8888888888888888,\"#b5de2b\"],[1.0,\"#fde725\"]],\"type\":\"histogram2d\"}],\"histogram\":[{\"marker\":{\"line\":{\"color\":\"white\",\"width\":0.6}},\"type\":\"histogram\"}],\"mesh3d\":[{\"colorbar\":{\"outlinewidth\":1,\"tickcolor\":\"rgb(36,36,36)\",\"ticks\":\"outside\"},\"type\":\"mesh3d\"}],\"parcoords\":[{\"line\":{\"colorbar\":{\"outlinewidth\":1,\"tickcolor\":\"rgb(36,36,36)\",\"ticks\":\"outside\"}},\"type\":\"parcoords\"}],\"pie\":[{\"automargin\":true,\"type\":\"pie\"}],\"scatter3d\":[{\"line\":{\"colorbar\":{\"outlinewidth\":1,\"tickcolor\":\"rgb(36,36,36)\",\"ticks\":\"outside\"}},\"marker\":{\"colorbar\":{\"outlinewidth\":1,\"tickcolor\":\"rgb(36,36,36)\",\"ticks\":\"outside\"}},\"type\":\"scatter3d\"}],\"scattercarpet\":[{\"marker\":{\"colorbar\":{\"outlinewidth\":1,\"tickcolor\":\"rgb(36,36,36)\",\"ticks\":\"outside\"}},\"type\":\"scattercarpet\"}],\"scattergeo\":[{\"marker\":{\"colorbar\":{\"outlinewidth\":1,\"tickcolor\":\"rgb(36,36,36)\",\"ticks\":\"outside\"}},\"type\":\"scattergeo\"}],\"scattergl\":[{\"marker\":{\"colorbar\":{\"outlinewidth\":1,\"tickcolor\":\"rgb(36,36,36)\",\"ticks\":\"outside\"}},\"type\":\"scattergl\"}],\"scattermapbox\":[{\"marker\":{\"colorbar\":{\"outlinewidth\":1,\"tickcolor\":\"rgb(36,36,36)\",\"ticks\":\"outside\"}},\"type\":\"scattermapbox\"}],\"scatterpolargl\":[{\"marker\":{\"colorbar\":{\"outlinewidth\":1,\"tickcolor\":\"rgb(36,36,36)\",\"ticks\":\"outside\"}},\"type\":\"scatterpolargl\"}],\"scatterpolar\":[{\"marker\":{\"colorbar\":{\"outlinewidth\":1,\"tickcolor\":\"rgb(36,36,36)\",\"ticks\":\"outside\"}},\"type\":\"scatterpolar\"}],\"scatter\":[{\"fillpattern\":{\"fillmode\":\"overlay\",\"size\":10,\"solidity\":0.2},\"type\":\"scatter\"}],\"scatterternary\":[{\"marker\":{\"colorbar\":{\"outlinewidth\":1,\"tickcolor\":\"rgb(36,36,36)\",\"ticks\":\"outside\"}},\"type\":\"scatterternary\"}],\"surface\":[{\"colorbar\":{\"outlinewidth\":1,\"tickcolor\":\"rgb(36,36,36)\",\"ticks\":\"outside\"},\"colorscale\":[[0.0,\"#440154\"],[0.1111111111111111,\"#482878\"],[0.2222222222222222,\"#3e4989\"],[0.3333333333333333,\"#31688e\"],[0.4444444444444444,\"#26828e\"],[0.5555555555555556,\"#1f9e89\"],[0.6666666666666666,\"#35b779\"],[0.7777777777777778,\"#6ece58\"],[0.8888888888888888,\"#b5de2b\"],[1.0,\"#fde725\"]],\"type\":\"surface\"}],\"table\":[{\"cells\":{\"fill\":{\"color\":\"rgb(237,237,237)\"},\"line\":{\"color\":\"white\"}},\"header\":{\"fill\":{\"color\":\"rgb(217,217,217)\"},\"line\":{\"color\":\"white\"}},\"type\":\"table\"}]},\"layout\":{\"annotationdefaults\":{\"arrowhead\":0,\"arrowwidth\":1},\"autotypenumbers\":\"strict\",\"coloraxis\":{\"colorbar\":{\"outlinewidth\":1,\"tickcolor\":\"rgb(36,36,36)\",\"ticks\":\"outside\"}},\"colorscale\":{\"diverging\":[[0.0,\"rgb(103,0,31)\"],[0.1,\"rgb(178,24,43)\"],[0.2,\"rgb(214,96,77)\"],[0.3,\"rgb(244,165,130)\"],[0.4,\"rgb(253,219,199)\"],[0.5,\"rgb(247,247,247)\"],[0.6,\"rgb(209,229,240)\"],[0.7,\"rgb(146,197,222)\"],[0.8,\"rgb(67,147,195)\"],[0.9,\"rgb(33,102,172)\"],[1.0,\"rgb(5,48,97)\"]],\"sequential\":[[0.0,\"#440154\"],[0.1111111111111111,\"#482878\"],[0.2222222222222222,\"#3e4989\"],[0.3333333333333333,\"#31688e\"],[0.4444444444444444,\"#26828e\"],[0.5555555555555556,\"#1f9e89\"],[0.6666666666666666,\"#35b779\"],[0.7777777777777778,\"#6ece58\"],[0.8888888888888888,\"#b5de2b\"],[1.0,\"#fde725\"]],\"sequentialminus\":[[0.0,\"#440154\"],[0.1111111111111111,\"#482878\"],[0.2222222222222222,\"#3e4989\"],[0.3333333333333333,\"#31688e\"],[0.4444444444444444,\"#26828e\"],[0.5555555555555556,\"#1f9e89\"],[0.6666666666666666,\"#35b779\"],[0.7777777777777778,\"#6ece58\"],[0.8888888888888888,\"#b5de2b\"],[1.0,\"#fde725\"]]},\"colorway\":[\"#1F77B4\",\"#FF7F0E\",\"#2CA02C\",\"#D62728\",\"#9467BD\",\"#8C564B\",\"#E377C2\",\"#7F7F7F\",\"#BCBD22\",\"#17BECF\"],\"font\":{\"color\":\"rgb(36,36,36)\"},\"geo\":{\"bgcolor\":\"white\",\"lakecolor\":\"white\",\"landcolor\":\"white\",\"showlakes\":true,\"showland\":true,\"subunitcolor\":\"white\"},\"hoverlabel\":{\"align\":\"left\"},\"hovermode\":\"closest\",\"mapbox\":{\"style\":\"light\"},\"paper_bgcolor\":\"white\",\"plot_bgcolor\":\"white\",\"polar\":{\"angularaxis\":{\"gridcolor\":\"rgb(232,232,232)\",\"linecolor\":\"rgb(36,36,36)\",\"showgrid\":false,\"showline\":true,\"ticks\":\"outside\"},\"bgcolor\":\"white\",\"radialaxis\":{\"gridcolor\":\"rgb(232,232,232)\",\"linecolor\":\"rgb(36,36,36)\",\"showgrid\":false,\"showline\":true,\"ticks\":\"outside\"}},\"scene\":{\"xaxis\":{\"backgroundcolor\":\"white\",\"gridcolor\":\"rgb(232,232,232)\",\"gridwidth\":2,\"linecolor\":\"rgb(36,36,36)\",\"showbackground\":true,\"showgrid\":false,\"showline\":true,\"ticks\":\"outside\",\"zeroline\":false,\"zerolinecolor\":\"rgb(36,36,36)\"},\"yaxis\":{\"backgroundcolor\":\"white\",\"gridcolor\":\"rgb(232,232,232)\",\"gridwidth\":2,\"linecolor\":\"rgb(36,36,36)\",\"showbackground\":true,\"showgrid\":false,\"showline\":true,\"ticks\":\"outside\",\"zeroline\":false,\"zerolinecolor\":\"rgb(36,36,36)\"},\"zaxis\":{\"backgroundcolor\":\"white\",\"gridcolor\":\"rgb(232,232,232)\",\"gridwidth\":2,\"linecolor\":\"rgb(36,36,36)\",\"showbackground\":true,\"showgrid\":false,\"showline\":true,\"ticks\":\"outside\",\"zeroline\":false,\"zerolinecolor\":\"rgb(36,36,36)\"}},\"shapedefaults\":{\"fillcolor\":\"black\",\"line\":{\"width\":0},\"opacity\":0.3},\"ternary\":{\"aaxis\":{\"gridcolor\":\"rgb(232,232,232)\",\"linecolor\":\"rgb(36,36,36)\",\"showgrid\":false,\"showline\":true,\"ticks\":\"outside\"},\"baxis\":{\"gridcolor\":\"rgb(232,232,232)\",\"linecolor\":\"rgb(36,36,36)\",\"showgrid\":false,\"showline\":true,\"ticks\":\"outside\"},\"bgcolor\":\"white\",\"caxis\":{\"gridcolor\":\"rgb(232,232,232)\",\"linecolor\":\"rgb(36,36,36)\",\"showgrid\":false,\"showline\":true,\"ticks\":\"outside\"}},\"title\":{\"x\":0.05},\"xaxis\":{\"automargin\":true,\"gridcolor\":\"rgb(232,232,232)\",\"linecolor\":\"rgb(36,36,36)\",\"showgrid\":false,\"showline\":true,\"ticks\":\"outside\",\"title\":{\"standoff\":15},\"zeroline\":false,\"zerolinecolor\":\"rgb(36,36,36)\"},\"yaxis\":{\"automargin\":true,\"gridcolor\":\"rgb(232,232,232)\",\"linecolor\":\"rgb(36,36,36)\",\"showgrid\":false,\"showline\":true,\"ticks\":\"outside\",\"title\":{\"standoff\":15},\"zeroline\":false,\"zerolinecolor\":\"rgb(36,36,36)\"}}},\"scene\":{\"domain\":{\"x\":[0.0,1.0],\"y\":[0.0,1.0]},\"xaxis\":{\"title\":{\"text\":\"LDA1\"}},\"yaxis\":{\"title\":{\"text\":\"LDA2\"}},\"zaxis\":{\"title\":{\"text\":\"LDA3\"}}},\"legend\":{\"tracegroupgap\":0},\"margin\":{\"t\":60}},                        {\"responsive\": true}                    ).then(function(){\n",
       "                            \n",
       "var gd = document.getElementById('25575893-89b4-4903-9147-e673edf8f5b6');\n",
       "var x = new MutationObserver(function (mutations, observer) {{\n",
       "        var display = window.getComputedStyle(gd).display;\n",
       "        if (!display || display === 'none') {{\n",
       "            console.log([gd, 'removed!']);\n",
       "            Plotly.purge(gd);\n",
       "            observer.disconnect();\n",
       "        }}\n",
       "}});\n",
       "\n",
       "// Listen for the removal of the full notebook cells\n",
       "var notebookContainer = gd.closest('#notebook-container');\n",
       "if (notebookContainer) {{\n",
       "    x.observe(notebookContainer, {childList: true});\n",
       "}}\n",
       "\n",
       "// Listen for the clearing of the current output cell\n",
       "var outputEl = gd.closest('.output');\n",
       "if (outputEl) {{\n",
       "    x.observe(outputEl, {childList: true});\n",
       "}}\n",
       "\n",
       "                        })                };                });            </script>        </div>"
      ]
     },
     "metadata": {},
     "output_type": "display_data"
    }
   ],
   "source": [
    "fig = px.scatter_3d(df_boardgames, \n",
    "                 x='LDA1', y='LDA2',z= 'LDA3', \n",
    "                 #color='wav_filename',\n",
    "                 #symbol='wav_filename',\n",
    "                 #labels='GameName',\n",
    "                 #text='wav_filename',\n",
    "                 hover_data=['GameId','GameName'],\n",
    "                 template=\"simple_white\"\n",
    "                 #template=\"plotly_dark\",\n",
    "                 )\n",
    "fig.show()"
   ]
  },
  {
   "cell_type": "code",
   "execution_count": 93,
   "id": "f59c5e9a-6963-467a-bb26-7a0fe26e0376",
   "metadata": {},
   "outputs": [
    {
     "data": {
      "text/html": [
       "<div>\n",
       "<style scoped>\n",
       "    .dataframe tbody tr th:only-of-type {\n",
       "        vertical-align: middle;\n",
       "    }\n",
       "\n",
       "    .dataframe tbody tr th {\n",
       "        vertical-align: top;\n",
       "    }\n",
       "\n",
       "    .dataframe thead th {\n",
       "        text-align: right;\n",
       "    }\n",
       "</style>\n",
       "<table border=\"1\" class=\"dataframe\">\n",
       "  <thead>\n",
       "    <tr style=\"text-align: right;\">\n",
       "      <th></th>\n",
       "      <th>GameId</th>\n",
       "      <th>GameName</th>\n",
       "      <th>Description</th>\n",
       "      <th>LDA1</th>\n",
       "      <th>LDA2</th>\n",
       "      <th>LDA3</th>\n",
       "    </tr>\n",
       "  </thead>\n",
       "  <tbody>\n",
       "    <tr>\n",
       "      <th>0</th>\n",
       "      <td>148494</td>\n",
       "      <td>1,2,3! Now you see me...</td>\n",
       "      <td>the animals on the farm are playing a game of ...</td>\n",
       "      <td>0.875053</td>\n",
       "      <td>0.060308</td>\n",
       "      <td>0.064639</td>\n",
       "    </tr>\n",
       "    <tr>\n",
       "      <th>1</th>\n",
       "      <td>316377</td>\n",
       "      <td>7 Wonders (Second Edition)</td>\n",
       "      <td>7 wonders the board game with more awards than...</td>\n",
       "      <td>0.912681</td>\n",
       "      <td>0.039279</td>\n",
       "      <td>0.048040</td>\n",
       "    </tr>\n",
       "    <tr>\n",
       "      <th>2</th>\n",
       "      <td>155987</td>\n",
       "      <td>Abyss</td>\n",
       "      <td>the abyss power is once again vacant so the ti...</td>\n",
       "      <td>0.697477</td>\n",
       "      <td>0.049812</td>\n",
       "      <td>0.252711</td>\n",
       "    </tr>\n",
       "    <tr>\n",
       "      <th>3</th>\n",
       "      <td>21569</td>\n",
       "      <td>Adigma</td>\n",
       "      <td>adigma is a party game which involves simultan...</td>\n",
       "      <td>0.876832</td>\n",
       "      <td>0.058677</td>\n",
       "      <td>0.064491</td>\n",
       "    </tr>\n",
       "    <tr>\n",
       "      <th>4</th>\n",
       "      <td>31260</td>\n",
       "      <td>Agricola</td>\n",
       "      <td>description from boardgamenews in agricola you...</td>\n",
       "      <td>0.921185</td>\n",
       "      <td>0.038086</td>\n",
       "      <td>0.040729</td>\n",
       "    </tr>\n",
       "  </tbody>\n",
       "</table>\n",
       "</div>"
      ],
      "text/plain": [
       "   GameId                    GameName  \\\n",
       "0  148494    1,2,3! Now you see me...   \n",
       "1  316377  7 Wonders (Second Edition)   \n",
       "2  155987                       Abyss   \n",
       "3   21569                      Adigma   \n",
       "4   31260                    Agricola   \n",
       "\n",
       "                                         Description      LDA1      LDA2  \\\n",
       "0  the animals on the farm are playing a game of ...  0.875053  0.060308   \n",
       "1  7 wonders the board game with more awards than...  0.912681  0.039279   \n",
       "2  the abyss power is once again vacant so the ti...  0.697477  0.049812   \n",
       "3  adigma is a party game which involves simultan...  0.876832  0.058677   \n",
       "4  description from boardgamenews in agricola you...  0.921185  0.038086   \n",
       "\n",
       "       LDA3  \n",
       "0  0.064639  \n",
       "1  0.048040  \n",
       "2  0.252711  \n",
       "3  0.064491  \n",
       "4  0.040729  "
      ]
     },
     "execution_count": 93,
     "metadata": {},
     "output_type": "execute_result"
    }
   ],
   "source": [
    "df_boardgames.head()"
   ]
  },
  {
   "cell_type": "markdown",
   "id": "4808eee2-7be9-4661-be84-7dad14283931",
   "metadata": {},
   "source": [
    "## Similarity"
   ]
  },
  {
   "cell_type": "markdown",
   "id": "2f6f9cd8-c787-4c93-9bcf-25d9be916d9a",
   "metadata": {},
   "source": [
    "### Cosine"
   ]
  },
  {
   "cell_type": "code",
   "execution_count": 10,
   "id": "de339d4d-2a67-4a61-84e0-fddc5fc220d2",
   "metadata": {},
   "outputs": [],
   "source": [
    "similaritiesTfi = cosine_similarity(term_document_matrix)"
   ]
  },
  {
   "cell_type": "code",
   "execution_count": 11,
   "id": "99fd428a-7efd-43e1-bd2b-f6cdd368fc23",
   "metadata": {},
   "outputs": [],
   "source": [
    "for i in range(len(similaritiesTfi)):\n",
    "        similaritiesTfi[i][i]=0"
   ]
  },
  {
   "cell_type": "markdown",
   "id": "f740b741-09d8-4b36-aab1-d721e46f551b",
   "metadata": {},
   "source": [
    "### Euclidean"
   ]
  },
  {
   "cell_type": "code",
   "execution_count": 13,
   "id": "31bb97f5-8752-45e1-a1b8-ecfb53502446",
   "metadata": {},
   "outputs": [],
   "source": [
    "distances=euclidean_distances(term_document_matrix,term_document_matrix)"
   ]
  },
  {
   "cell_type": "code",
   "execution_count": 14,
   "id": "0f021235-e7a5-4a0c-8085-2e97cda1d657",
   "metadata": {},
   "outputs": [],
   "source": [
    "for i in range(len(distances)):\n",
    "    distances[i][i]=1000"
   ]
  },
  {
   "cell_type": "markdown",
   "id": "ccb08635-ad03-47c4-b20d-6b773c78baef",
   "metadata": {},
   "source": [
    "## Save data"
   ]
  },
  {
   "cell_type": "code",
   "execution_count": 224,
   "id": "771eb2b9-e245-447f-9ec8-d379b1d1ca84",
   "metadata": {},
   "outputs": [],
   "source": [
    "term_document_matrix.to_csv(\"TermMatrix.csv\", index=False)\n",
    "term_document_matrix_tfi.to_csv(\"TermMatrixTfi.csv\", index= True)\n",
    "df_boardgames.to_csv(\"df_boardgames.csv\", index= False)"
   ]
  },
  {
   "cell_type": "markdown",
   "id": "17e0eabc-5ef4-4651-8f85-d15b4dff6eaf",
   "metadata": {},
   "source": [
    "## Test"
   ]
  },
  {
   "cell_type": "markdown",
   "id": "a4bfdfc0-e338-4a78-a76d-cc27f2f6fb90",
   "metadata": {},
   "source": [
    "## Load data"
   ]
  },
  {
   "cell_type": "code",
   "execution_count": 7,
   "id": "3bedf2bc-5376-4513-b52e-c5d4808cb01d",
   "metadata": {},
   "outputs": [],
   "source": [
    "term_document_matrix= pd.read_csv(\"TermMatrix.csv\")\n",
    "term_document_matrix_tfi= pd.read_csv(\"TermMatrixTfi.csv\")\n",
    "df_boardgames=pd.read_csv(\"df_boardgames.csv\")"
   ]
  },
  {
   "cell_type": "code",
   "execution_count": 8,
   "id": "327a60ab-2e5e-4b63-baba-e9d516ec43a0",
   "metadata": {},
   "outputs": [],
   "source": [
    "term_document_matrix_tfi.set_index('Unnamed: 0',inplace=True)"
   ]
  },
  {
   "cell_type": "markdown",
   "id": "703b459d-a92f-4d1c-b96e-b27e3014021e",
   "metadata": {},
   "source": [
    "## Calculate distances"
   ]
  },
  {
   "cell_type": "code",
   "execution_count": 9,
   "id": "aa18af59-7876-4ca8-8574-e533b918f453",
   "metadata": {},
   "outputs": [],
   "source": [
    "similaritiesTfi = cosine_similarity(term_document_matrix)\n",
    "distances=euclidean_distances(term_document_matrix,term_document_matrix)"
   ]
  },
  {
   "cell_type": "code",
   "execution_count": 10,
   "id": "06d33315-01f7-443b-ac32-f95246c596f2",
   "metadata": {},
   "outputs": [],
   "source": [
    "for i in range(len(distances)):\n",
    "    distances[i][i]=1000\n",
    "    similaritiesTfi[i][i]=0"
   ]
  },
  {
   "cell_type": "markdown",
   "id": "3f8d7f47-c95d-4714-b65e-eeada9bf8795",
   "metadata": {},
   "source": [
    "# Example"
   ]
  },
  {
   "cell_type": "code",
   "execution_count": 11,
   "id": "af2d2af1-0c90-4e9a-bb3a-cc8b4aed79f2",
   "metadata": {},
   "outputs": [
    {
     "data": {
      "text/html": [
       "<div>\n",
       "<style scoped>\n",
       "    .dataframe tbody tr th:only-of-type {\n",
       "        vertical-align: middle;\n",
       "    }\n",
       "\n",
       "    .dataframe tbody tr th {\n",
       "        vertical-align: top;\n",
       "    }\n",
       "\n",
       "    .dataframe thead th {\n",
       "        text-align: right;\n",
       "    }\n",
       "</style>\n",
       "<table border=\"1\" class=\"dataframe\">\n",
       "  <thead>\n",
       "    <tr style=\"text-align: right;\">\n",
       "      <th></th>\n",
       "      <th>GameId</th>\n",
       "      <th>GameName</th>\n",
       "      <th>Description</th>\n",
       "      <th>LDA1</th>\n",
       "      <th>LDA2</th>\n",
       "      <th>LDA3</th>\n",
       "    </tr>\n",
       "  </thead>\n",
       "  <tbody>\n",
       "    <tr>\n",
       "      <th>198</th>\n",
       "      <td>267945</td>\n",
       "      <td>Mr. Face</td>\n",
       "      <td>a card with many lines written you will make y...</td>\n",
       "      <td>0.874352</td>\n",
       "      <td>0.060873</td>\n",
       "      <td>0.064775</td>\n",
       "    </tr>\n",
       "    <tr>\n",
       "      <th>604</th>\n",
       "      <td>172</td>\n",
       "      <td>For Sale</td>\n",
       "      <td>for sale is a quick fun game nominally about b...</td>\n",
       "      <td>0.892134</td>\n",
       "      <td>0.052908</td>\n",
       "      <td>0.054958</td>\n",
       "    </tr>\n",
       "    <tr>\n",
       "      <th>1007</th>\n",
       "      <td>165986</td>\n",
       "      <td>Royals</td>\n",
       "      <td>in royals players take on the roles of the gre...</td>\n",
       "      <td>0.898701</td>\n",
       "      <td>0.049021</td>\n",
       "      <td>0.052279</td>\n",
       "    </tr>\n",
       "    <tr>\n",
       "      <th>1826</th>\n",
       "      <td>174570</td>\n",
       "      <td>Legendary Encounters: A Predator Deck Building...</td>\n",
       "      <td>legendary encounters a predator deck building ...</td>\n",
       "      <td>0.085075</td>\n",
       "      <td>0.059742</td>\n",
       "      <td>0.855182</td>\n",
       "    </tr>\n",
       "    <tr>\n",
       "      <th>1151</th>\n",
       "      <td>199792</td>\n",
       "      <td>Everdell</td>\n",
       "      <td>within the charming valley of everdell beneath...</td>\n",
       "      <td>0.915029</td>\n",
       "      <td>0.040715</td>\n",
       "      <td>0.044256</td>\n",
       "    </tr>\n",
       "  </tbody>\n",
       "</table>\n",
       "</div>"
      ],
      "text/plain": [
       "      GameId                                           GameName  \\\n",
       "198   267945                                           Mr. Face   \n",
       "604      172                                           For Sale   \n",
       "1007  165986                                             Royals   \n",
       "1826  174570  Legendary Encounters: A Predator Deck Building...   \n",
       "1151  199792                                           Everdell   \n",
       "\n",
       "                                            Description      LDA1      LDA2  \\\n",
       "198   a card with many lines written you will make y...  0.874352  0.060873   \n",
       "604   for sale is a quick fun game nominally about b...  0.892134  0.052908   \n",
       "1007  in royals players take on the roles of the gre...  0.898701  0.049021   \n",
       "1826  legendary encounters a predator deck building ...  0.085075  0.059742   \n",
       "1151  within the charming valley of everdell beneath...  0.915029  0.040715   \n",
       "\n",
       "          LDA3  \n",
       "198   0.064775  \n",
       "604   0.054958  \n",
       "1007  0.052279  \n",
       "1826  0.855182  \n",
       "1151  0.044256  "
      ]
     },
     "execution_count": 11,
     "metadata": {},
     "output_type": "execute_result"
    }
   ],
   "source": [
    "df_boardgames.sample(5)"
   ]
  },
  {
   "cell_type": "code",
   "execution_count": 20,
   "id": "ab75ae6f-b0dd-460d-9835-b07d527f57a4",
   "metadata": {},
   "outputs": [],
   "source": [
    "initial=searchGame(df_boardgames, \"Terraforming Mars\")"
   ]
  },
  {
   "cell_type": "code",
   "execution_count": 21,
   "id": "26bee0f1-3d62-410e-818d-20844394dc8c",
   "metadata": {},
   "outputs": [],
   "source": [
    "ls_euclidian, ls_cosine = get_top_games(distances,similaritiesTfi,initial)"
   ]
  },
  {
   "cell_type": "code",
   "execution_count": 22,
   "id": "c7fbdafe-cebf-46db-be73-5fb3974b39a4",
   "metadata": {
    "scrolled": true,
    "tags": []
   },
   "outputs": [
    {
     "name": "stdout",
     "output_type": "stream",
     "text": [
      "El juego que te gusto es: Terraforming Mars \n",
      "GameId; 167791\n",
      "Description: in the 2400s mankind begins to terraform the planet mars giant corporations sponsored by the world government on earth initiate huge projects to raise the temperature the oxygen level and the ocean coverage until the environment is habitable in terraforming mars you play one of those corporations and work together in the terraforming process but compete for getting victory points that are awarded not only for your contribution to the terraforming but also for advancing human infrastructure throughout the solar system and doing other commendable things the players acquire unique project cards from over two hundred different ones by buying them to their hand the projects cards can represent anything from introducing plant life or animals hurling asteroids at the surface building cities to mining the moons of jupiter and establishing greenhouse gas industries to heat up the atmosphere the cards can give you immediate bonuses as well as increasing your production of different resources many cards also have requirements and they become playable when the temperature oxygen or ocean coverage increases enough buying cards is costly so there is a balance between buying cards 3 megacredits per card and actually playing them which can cost anything between 0 to 41 megacredits depending on the project standard projects are always available to complement your cards your basic income as well as your basic score is based on your terraform rating starting at 20 which increases every time you raise one of the three global parameters however your income is complemented with your production and you also get vps from many other sources each player keeps track of their production and resources on their player boards and the game uses six types of resources megacredits steel titanium plants energy and heat on the game board you compete for the best places for your city tiles ocean tiles and greenery tiles you also compete for different milestones and awards worth many vps each round is called a generation guess why and consists of the following phases 1 player order shifts clockwise 2 research phase all players buy cards from four privately drawn 3 action phase players take turns doing 12 actions from these options playing a card claiming a milestone funding an award using a standard project converting plant into greenery tiles and raising oxygen converting heat into a temperature raise and using the action of a card in play the turn continues around the table sometimes several laps until all players have passed 4 production phase players get resources according to their terraform rating and production parameters when the three global parameters temperature oxygen ocean have all reached their goal the terraforming is complete and the game ends after that generation count your terraform rating and other vps to determine the winning corporation \n",
      "Los juegos que son similares por descripción son:\n",
      "--------------------Angles-----------------------\n",
      "Top 1 cosine metric\n",
      "-----------------------------\n",
      "Name: Terraforming Mars: Ares Expedition\n",
      "GameId; 328871\n",
      "Description: terraforming mars ares expedition is an enginebuilding game in which players control interplanetary corporations with the goal of making mars habitable and profitable you will do this by investing mega credits mc into project cards that will directly or indirectly contribute to the terraforming process in order to win you will want to accumulate a high terraform rating tr and as many victory points vp as you can players raise their tr by increasing global parameters oceans oxygen and temperature tr also determines each corporations basic income and at the end of the game tr counts as vp additional vp and production capabilities are awarded for building project cards and other actions taken during the game the game is played in rounds and each round the players will choose one of five phases which determines which activities will take place during that round this means every round is different but can consist of building new project cards taking general and projectspecific actions producing income and resources plants and heat or researching to draw more project cards every player will take all the phases selected for the round and will receive a special bonus during the phase that they selected to speed up the game players should resolve each phase simultaneously the game board has tracks for oxygen temperature and terraform rating as well as a place for all of the ocean tiles that will be flipped over the course of the game the game ends when there is enough oxygen to breath 14 oceans enough to allow earthlike weather 9 and the temperature is well above freezing 8degc it will then be possible if not comfortable to live on the surface of mars the winner is the player with the most vp at the end of the game \n",
      "--------------Top 5 important words-------------\n",
      "\ttr\n",
      "\tterraform\n",
      "\ttemperatur\n",
      "\tvp\n",
      "\tproject\n",
      "Top 2 cosine metric\n",
      "-----------------------------\n",
      "Name: Ad Astra\n",
      "GameId; 38343\n",
      "Description: humans have evolved into five different races each of them adapted to life in different planetary conditions guide one of the five human factions in its exploration of the galaxy while exploiting resources terraforming planets and creating advanced space colonies you may even find artifacts of a longlost alien civilization and use them to your advantage a game round consists of three phases planning phase action phase and end of round during the planning phase action cards are placed facedown on any empty space of a shared planning board when all spaces on the board have been filled the action phase begins in sequence each card is revealed and all players may carry out the corresponding action at the end of round the action cards are returned to the players hands and a new round begins the available actions are production one of the resources depicted on the card is generated on every matching planet movement starships may be moved to other planets by spending energy build colonies factories starships and terraformers may be built on the planets by using resource cards trade resource cards may be traded among the players and the bank scoring the players are scored based on one of the game elements depicted on the card the owner of each card has an advantage when resolving it such as deciding which resource is generated or on which game element the players score the game ends when one player reaches at least 50 victory points or when all planets have been discovered at that point the player with the most victory points is the winner \n",
      "--------------Top 5 important words-------------\n",
      "\tplanet\n",
      "\tphase\n",
      "\tresourc\n",
      "\taction\n",
      "\tmay\n",
      "Top 3 cosine metric\n",
      "-----------------------------\n",
      "Name: On Mars\n",
      "GameId; 184267\n",
      "Description: following the success of unmanned rover missions the united nations established the department of operations and mars exploration dome the first settlers arrived on mars in the year 2037 and in the decades after establishment mars base camp private exploration companies began work on the creation of a selfsustaining colony as chief astronaut for one of these enterprises you want to be a pioneer in the development of the biggest most advanced colony on mars by achieving both dome mission goals as well as your companyrsquos private agenda in the beginning you will be dependent on supplies from earth and will have to travel often between the mars space station and the planets surface as the colony expands over time you will shift your activities to construct mines power generators water extractors greenhouses oxygen factories and shelters your goal is to develop a selfsustaining colony independent of any terrestrial organization this will require understanding the importance of water air power and food mdash the necessities for survival do you dare take part in humankindrsquos biggest challenge on mars is played over several rounds each consisting of two phases the colonization phase ​and the shuttle phase​ during the colonization phase each player takes a turn during which they take actions the available actions depend on the side of the board they are on if you are in orbit you can take blueprints buy and develop technologies and take supplies from the warehouse if you are on the surface of the planet you can construct buildings with your bots upgrade these buildings using blueprints take scientists and new contracts welcome new ships and explore the planetrsquos surface with your rover in the shuttle phase players may travel between the colony and the space station in orbit all buildings on mars have a dependency on each other and some are required for the colony to grow building shelters for colonists to live in requires oxygen generating oxygen requires plants growing plants requires water extracting water from ice requires power generating power requires mining minerals and mining minerals requires colonists upgrading the colonyrsquos ability to provide each of these resources is vital as the colony grows more shelters are needed so that the colonists can survive the inhospitable conditions on mars during the game players are also trying to complete missions once a total of three missions have been completed the game ends to win the game players must contribute to the development of the first colony on mars this is represented during the game by players gaining opportunity points op the player with the most op at the end of the game is declared the winner \n",
      "--------------Top 5 important words-------------\n",
      "\tmar\n",
      "\tcoloni\n",
      "\trequir\n",
      "\tphase\n",
      "\toxygen\n",
      "Top 4 cosine metric\n",
      "-----------------------------\n",
      "Name: Clans of Caledonia\n",
      "GameId; 216132\n",
      "Description: clans of caledonia is a midtoheavy economic game set in 19thcentury scotland at this time scotland made the transition from an agricultural to an industrialized country that heavily relied on trade and export in the following years food production increased significantly to feed the population growth linen was increasingly substituted by the cheaper cotton and raising sheep was given high importance more and more distilleries were founded and whisky became the premium alcoholic beverage in europe players represent historic clans with unique abilities and compete to produce trade and export agricultural goods and of course whisky the game ends after five rounds each round consists of the three phases 1 players turns 2 production phase 3 round scoring 1 players take turns and do one of eight possible actions from building to upgrading trading and exporting when players run out of money they pass and collect a passing bonus 2 in the production phase each player collects basic resources refined goods and cash from their production units built on the game map each production unit built makes income visible on the player mat refined goods require the respective basic resource 3 players receive vps depending on the scoring tile of the current round the game comes with eight different clans a modular board with 16 configurations eight port bonuses and eight round scoring tiles \n",
      "--------------Top 5 important words-------------\n",
      "\tproduct\n",
      "\texport\n",
      "\teight\n",
      "\tclan\n",
      "\twhiski\n",
      "Top 5 cosine metric\n",
      "-----------------------------\n",
      "Name: LUNA Capital\n",
      "GameId; 323613\n",
      "Description: the dream of maintaining human life on the surface of the moon has now come true the project to build cities on earthrsquos beloved satellite is under way things are moving full speed ahead too the possibilities are enormous because this is 1977 the year when lunar living becomes reality the most enterprising companies have decided to sponsor teams of scientists builders publicists and freelance nightlife entertainers to set out to construct the best client base in the galaxy on top of this out of the world chance the lunar colonization authority shall assign the capital of the moon to the best of the projects that are presented making the chance for an even juicier reward in luna capital the players must optimally manage the elements of the game to build the best possible lunar settlement and to make it worthy of becoming the capital of the entire offplanet colony they will have a series of construction cards in a common ldquomarketrdquo and each of the players shall be tied to a number of project tiles the players take turns drawing cards and the tiles that accompany them and then place them in their personal playing area the cards must be laid out in a maximum of three lines and must be placed so that they are always in ascending numerical value once the card has been placed the tiles are then put on the spaces for them on the cards in an attempt to group together the various projects in the most efficient way possible the tiles show what projects are available all of which are essential for the construction of the city worthy of the term they include oxygen collectors greenhouses residential complexes and of extreme importance sales offices to sell apartments with the best views in the galaxy each of these categories scores according to how they are arranged within the personal area of each player whoever is able to best take advantage of their arrangement and placement shall become the mayor of luna capital mdashdescription from the publisher \n",
      "--------------Top 5 important words-------------\n",
      "\tproject\n",
      "\tlunar\n",
      "\tcapit\n",
      "\tshall\n",
      "\tbest\n",
      "-----------------Distances-------------------\n",
      "Top 1 euclidean metric\n",
      "-----------------------------\n",
      "Name: Terraforming Mars: Ares Expedition\n",
      "GameId; 328871\n",
      "Description: terraforming mars ares expedition is an enginebuilding game in which players control interplanetary corporations with the goal of making mars habitable and profitable you will do this by investing mega credits mc into project cards that will directly or indirectly contribute to the terraforming process in order to win you will want to accumulate a high terraform rating tr and as many victory points vp as you can players raise their tr by increasing global parameters oceans oxygen and temperature tr also determines each corporations basic income and at the end of the game tr counts as vp additional vp and production capabilities are awarded for building project cards and other actions taken during the game the game is played in rounds and each round the players will choose one of five phases which determines which activities will take place during that round this means every round is different but can consist of building new project cards taking general and projectspecific actions producing income and resources plants and heat or researching to draw more project cards every player will take all the phases selected for the round and will receive a special bonus during the phase that they selected to speed up the game players should resolve each phase simultaneously the game board has tracks for oxygen temperature and terraform rating as well as a place for all of the ocean tiles that will be flipped over the course of the game the game ends when there is enough oxygen to breath 14 oceans enough to allow earthlike weather 9 and the temperature is well above freezing 8degc it will then be possible if not comfortable to live on the surface of mars the winner is the player with the most vp at the end of the game \n",
      "--------------Top 5 important words-------------\n",
      "\ttr\n",
      "\tterraform\n",
      "\ttemperatur\n",
      "\tvp\n",
      "\tproject\n",
      "Top 2 euclidean metric\n",
      "-----------------------------\n",
      "Name: Ad Astra\n",
      "GameId; 38343\n",
      "Description: humans have evolved into five different races each of them adapted to life in different planetary conditions guide one of the five human factions in its exploration of the galaxy while exploiting resources terraforming planets and creating advanced space colonies you may even find artifacts of a longlost alien civilization and use them to your advantage a game round consists of three phases planning phase action phase and end of round during the planning phase action cards are placed facedown on any empty space of a shared planning board when all spaces on the board have been filled the action phase begins in sequence each card is revealed and all players may carry out the corresponding action at the end of round the action cards are returned to the players hands and a new round begins the available actions are production one of the resources depicted on the card is generated on every matching planet movement starships may be moved to other planets by spending energy build colonies factories starships and terraformers may be built on the planets by using resource cards trade resource cards may be traded among the players and the bank scoring the players are scored based on one of the game elements depicted on the card the owner of each card has an advantage when resolving it such as deciding which resource is generated or on which game element the players score the game ends when one player reaches at least 50 victory points or when all planets have been discovered at that point the player with the most victory points is the winner \n",
      "--------------Top 5 important words-------------\n",
      "\tplanet\n",
      "\tphase\n",
      "\tresourc\n",
      "\taction\n",
      "\tmay\n",
      "Top 3 euclidean metric\n",
      "-----------------------------\n",
      "Name: Clans of Caledonia\n",
      "GameId; 216132\n",
      "Description: clans of caledonia is a midtoheavy economic game set in 19thcentury scotland at this time scotland made the transition from an agricultural to an industrialized country that heavily relied on trade and export in the following years food production increased significantly to feed the population growth linen was increasingly substituted by the cheaper cotton and raising sheep was given high importance more and more distilleries were founded and whisky became the premium alcoholic beverage in europe players represent historic clans with unique abilities and compete to produce trade and export agricultural goods and of course whisky the game ends after five rounds each round consists of the three phases 1 players turns 2 production phase 3 round scoring 1 players take turns and do one of eight possible actions from building to upgrading trading and exporting when players run out of money they pass and collect a passing bonus 2 in the production phase each player collects basic resources refined goods and cash from their production units built on the game map each production unit built makes income visible on the player mat refined goods require the respective basic resource 3 players receive vps depending on the scoring tile of the current round the game comes with eight different clans a modular board with 16 configurations eight port bonuses and eight round scoring tiles \n",
      "--------------Top 5 important words-------------\n",
      "\tproduct\n",
      "\texport\n",
      "\teight\n",
      "\tclan\n",
      "\twhiski\n",
      "Top 4 euclidean metric\n",
      "-----------------------------\n",
      "Name: LUNA Capital\n",
      "GameId; 323613\n",
      "Description: the dream of maintaining human life on the surface of the moon has now come true the project to build cities on earthrsquos beloved satellite is under way things are moving full speed ahead too the possibilities are enormous because this is 1977 the year when lunar living becomes reality the most enterprising companies have decided to sponsor teams of scientists builders publicists and freelance nightlife entertainers to set out to construct the best client base in the galaxy on top of this out of the world chance the lunar colonization authority shall assign the capital of the moon to the best of the projects that are presented making the chance for an even juicier reward in luna capital the players must optimally manage the elements of the game to build the best possible lunar settlement and to make it worthy of becoming the capital of the entire offplanet colony they will have a series of construction cards in a common ldquomarketrdquo and each of the players shall be tied to a number of project tiles the players take turns drawing cards and the tiles that accompany them and then place them in their personal playing area the cards must be laid out in a maximum of three lines and must be placed so that they are always in ascending numerical value once the card has been placed the tiles are then put on the spaces for them on the cards in an attempt to group together the various projects in the most efficient way possible the tiles show what projects are available all of which are essential for the construction of the city worthy of the term they include oxygen collectors greenhouses residential complexes and of extreme importance sales offices to sell apartments with the best views in the galaxy each of these categories scores according to how they are arranged within the personal area of each player whoever is able to best take advantage of their arrangement and placement shall become the mayor of luna capital mdashdescription from the publisher \n",
      "--------------Top 5 important words-------------\n",
      "\tproject\n",
      "\tlunar\n",
      "\tcapit\n",
      "\tshall\n",
      "\tbest\n",
      "Top 5 euclidean metric\n",
      "-----------------------------\n",
      "Name: HATE\n",
      "GameId; 233868\n",
      "Description: they ravaged their mother the earth and bound her with sorcerous chains the moon caught fire the sun froze in the veins of the world her lifeblood choked to dust the oceans boiled to miasmas that clotted the skies rocks fanged up from the stubble of dying forests as she began to rot her creatures her children survived as best they could tearing at each other prowling in her fetid hollows breeding abominations feasting on her fungi and moulds become sentient and as the ages pass some lineages of men grow monstrous even as others diminish weaken and become easily their slaves these higher men feed on the lesser growing in strength and hurl their tribes one upon the other in terrible truceless wars mdash until one tribe crushes the others into kneeling submission under a lord nameless save for his title tyrant but though decayed she was not slain with the little strength remaining she seduces worm the least the most abject of those creatures bred for meat unlikely savior through sorcery and helped by unlooked for allies worm follows the thread of his fate to her if he can free her her blood will spout into a flood and frenzy of returning life and her hatred will swell worm into being her champion her consort and her avenger the horned god based on the graphic novels by the acclaimed adrian smith hate is a highly kinetic endlessly brutal campaign game of postapocalyptic survival up to six players battle through a multigame chronicle where they use their unique clan to savagely plunder mutilate and demoralize their opponents death is permanent for clan members once they die they are out of the game the player who most expertly uses savagery gained by doing unspeakable violence upon their foes to upgrade their warriors and resources gained by plundering the land to unlock powerful new abilities from their village will win the game but only the player with the most hate will become the tyrant and rule over the rest mdashdescription from the publisher \n",
      "--------------Top 5 important words-------------\n",
      "\tworm\n",
      "\thate\n",
      "\ttyrant\n",
      "\tplunder\n",
      "\tmen\n"
     ]
    }
   ],
   "source": [
    "show_similar(df_boardgames,term_document_matrix_tfi,ls_cosine,ls_euclidian,1,initial)"
   ]
  },
  {
   "cell_type": "markdown",
   "id": "f3e26f5b-a48a-439a-8523-5989303108a8",
   "metadata": {},
   "source": [
    "## Conclusiones"
   ]
  },
  {
   "cell_type": "markdown",
   "id": "7ab4f731-5eac-42ad-a2b8-62dec3e102dc",
   "metadata": {},
   "source": [
    "Que tanto se parecen los juegos es exclusivamente de la descripción del juego en la página de BGG, entonces estas descripciones llegan a ser muy inconsistentes, esto es hay algunas que traen mucha información con explicaciones temáticas y su forma de jugar y algunas solo cuentan con este último y son más escuetas.  \n",
    "Por esta misma razón, no necesariamente el juego se parezca en términos de como se juega, el tiempo de juego u otras caracteristicas relevantes puesto que no se encuentra toda esa información en las descripciones.  \n",
    "\n",
    "Aún así, logramos obtener una recomendación más basada en su temática la cual proporciona un inicio para darle la oportunidad a un juego y que el hecho de que no sean esencialmente igual los juegos no es necesariamente malo, porque al final puede tener dinámicas o porpuestas que le agraden a nuestro usuario."
   ]
  },
  {
   "cell_type": "code",
   "execution_count": null,
   "id": "557a0359-b81f-4f28-86f8-a2febdd5fd53",
   "metadata": {},
   "outputs": [],
   "source": []
  }
 ],
 "metadata": {
  "kernelspec": {
   "display_name": "Python 3 (ipykernel)",
   "language": "python",
   "name": "python3"
  },
  "language_info": {
   "codemirror_mode": {
    "name": "ipython",
    "version": 3
   },
   "file_extension": ".py",
   "mimetype": "text/x-python",
   "name": "python",
   "nbconvert_exporter": "python",
   "pygments_lexer": "ipython3",
   "version": "3.8.10"
  }
 },
 "nbformat": 4,
 "nbformat_minor": 5
}
