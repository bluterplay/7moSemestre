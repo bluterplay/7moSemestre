{
 "cells": [
  {
   "cell_type": "markdown",
   "id": "059d4425-8e96-4c51-9e6f-afbd531c9dc2",
   "metadata": {},
   "source": [
    "# Modules"
   ]
  },
  {
   "cell_type": "code",
   "execution_count": 1,
   "id": "57f8960a-16bf-4e24-8292-aef333ff1707",
   "metadata": {},
   "outputs": [],
   "source": [
    "import pyspark\n",
    "import pandas as pd\n",
    "from pyspark.sql import SparkSession\n",
    "from pyspark.ml.evaluation import RegressionEvaluator\n",
    "from pyspark.ml.recommendation import ALS\n",
    "from pyspark.ml.tuning import ParamGridBuilder, CrossValidator\n",
    "from time import time"
   ]
  },
  {
   "cell_type": "markdown",
   "id": "fd5235d0-7291-48a3-8f2f-570dbb4b8e2e",
   "metadata": {},
   "source": [
    "# Data"
   ]
  },
  {
   "cell_type": "markdown",
   "id": "b2a38f96-0431-445f-abdc-15509cfda2ee",
   "metadata": {},
   "source": [
    "## Data users"
   ]
  },
  {
   "cell_type": "code",
   "execution_count": 2,
   "id": "edf02abe-e9fb-4eec-92b7-d9341b9940db",
   "metadata": {},
   "outputs": [],
   "source": [
    "data_users= pd.read_csv(\"users.csv\")"
   ]
  },
  {
   "cell_type": "code",
   "execution_count": 3,
   "id": "b03a2ee7-a774-45cb-a6a4-d1eb42ec1b41",
   "metadata": {},
   "outputs": [
    {
     "data": {
      "text/html": [
       "<div>\n",
       "<style scoped>\n",
       "    .dataframe tbody tr th:only-of-type {\n",
       "        vertical-align: middle;\n",
       "    }\n",
       "\n",
       "    .dataframe tbody tr th {\n",
       "        vertical-align: top;\n",
       "    }\n",
       "\n",
       "    .dataframe thead th {\n",
       "        text-align: right;\n",
       "    }\n",
       "</style>\n",
       "<table border=\"1\" class=\"dataframe\">\n",
       "  <thead>\n",
       "    <tr style=\"text-align: right;\">\n",
       "      <th></th>\n",
       "      <th>UserName</th>\n",
       "      <th>GameId</th>\n",
       "      <th>GameName</th>\n",
       "      <th>Status</th>\n",
       "      <th>UserRanking</th>\n",
       "      <th>Ranking</th>\n",
       "    </tr>\n",
       "  </thead>\n",
       "  <tbody>\n",
       "    <tr>\n",
       "      <th>0</th>\n",
       "      <td>gandalfgrismx</td>\n",
       "      <td>148494</td>\n",
       "      <td>1,2,3! Now you see me...</td>\n",
       "      <td>1</td>\n",
       "      <td>7.0</td>\n",
       "      <td>6.06084</td>\n",
       "    </tr>\n",
       "    <tr>\n",
       "      <th>1</th>\n",
       "      <td>gandalfgrismx</td>\n",
       "      <td>316377</td>\n",
       "      <td>7 Wonders (Second Edition)</td>\n",
       "      <td>1</td>\n",
       "      <td>NaN</td>\n",
       "      <td>7.95069</td>\n",
       "    </tr>\n",
       "    <tr>\n",
       "      <th>2</th>\n",
       "      <td>gandalfgrismx</td>\n",
       "      <td>155987</td>\n",
       "      <td>Abyss</td>\n",
       "      <td>1</td>\n",
       "      <td>10.0</td>\n",
       "      <td>7.32909</td>\n",
       "    </tr>\n",
       "    <tr>\n",
       "      <th>3</th>\n",
       "      <td>gandalfgrismx</td>\n",
       "      <td>21569</td>\n",
       "      <td>Adigma</td>\n",
       "      <td>1</td>\n",
       "      <td>7.0</td>\n",
       "      <td>7.52585</td>\n",
       "    </tr>\n",
       "    <tr>\n",
       "      <th>4</th>\n",
       "      <td>gandalfgrismx</td>\n",
       "      <td>31260</td>\n",
       "      <td>Agricola</td>\n",
       "      <td>1</td>\n",
       "      <td>10.0</td>\n",
       "      <td>7.90633</td>\n",
       "    </tr>\n",
       "  </tbody>\n",
       "</table>\n",
       "</div>"
      ],
      "text/plain": [
       "        UserName  GameId                    GameName  Status  UserRanking  \\\n",
       "0  gandalfgrismx  148494    1,2,3! Now you see me...       1          7.0   \n",
       "1  gandalfgrismx  316377  7 Wonders (Second Edition)       1          NaN   \n",
       "2  gandalfgrismx  155987                       Abyss       1         10.0   \n",
       "3  gandalfgrismx   21569                      Adigma       1          7.0   \n",
       "4  gandalfgrismx   31260                    Agricola       1         10.0   \n",
       "\n",
       "   Ranking  \n",
       "0  6.06084  \n",
       "1  7.95069  \n",
       "2  7.32909  \n",
       "3  7.52585  \n",
       "4  7.90633  "
      ]
     },
     "execution_count": 3,
     "metadata": {},
     "output_type": "execute_result"
    }
   ],
   "source": [
    "data_users.head()"
   ]
  },
  {
   "cell_type": "markdown",
   "id": "89c3f06e-4385-4017-a8ba-b2d6122f7612",
   "metadata": {},
   "source": [
    "# Preprocesing"
   ]
  },
  {
   "cell_type": "markdown",
   "id": "0eb008d2-c069-425e-8b38-22e7f4309620",
   "metadata": {},
   "source": [
    "## Users"
   ]
  },
  {
   "cell_type": "code",
   "execution_count": 4,
   "id": "39feb7f5-0ba2-4fcf-9159-2790a802a0b7",
   "metadata": {},
   "outputs": [],
   "source": [
    "prepo_users= data_users.copy()"
   ]
  },
  {
   "cell_type": "markdown",
   "id": "100a882e-3772-4e4a-9784-dcfb7808c712",
   "metadata": {},
   "source": [
    "### Create id user"
   ]
  },
  {
   "cell_type": "code",
   "execution_count": 5,
   "id": "a14c1953-374b-4958-ad96-2b653964805e",
   "metadata": {},
   "outputs": [],
   "source": [
    "dc_userId={key:value for (value,key) in enumerate(list(prepo_users[\"UserName\"].unique()))}"
   ]
  },
  {
   "cell_type": "markdown",
   "id": "ae485364-f306-42f0-bb50-4dd3fb311672",
   "metadata": {},
   "source": [
    "### Missings"
   ]
  },
  {
   "cell_type": "code",
   "execution_count": 6,
   "id": "a190f8d8-b261-45f9-b8f6-c15ec1b965e2",
   "metadata": {},
   "outputs": [],
   "source": [
    "ls_userRating=[]\n",
    "ls_userId=[]\n",
    "for index,row in prepo_users.iterrows():\n",
    "    rating= row[\"UserRanking\"]\n",
    "    name= row[\"UserName\"]\n",
    "    if(pd.isna(rating)):\n",
    "        ls_userRating.append(row[\"Ranking\"])\n",
    "    else:\n",
    "        ls_userRating.append(rating)\n",
    "    ls_userId.append(dc_userId[name])\n",
    "prepo_users[\"UserRanking\"]= ls_userRating\n",
    "prepo_users[\"UserId\"] = ls_userId"
   ]
  },
  {
   "cell_type": "code",
   "execution_count": 7,
   "id": "7b7dc589-77f3-4cdd-b2df-0c2f0f17ab6c",
   "metadata": {},
   "outputs": [
    {
     "data": {
      "text/html": [
       "<div>\n",
       "<style scoped>\n",
       "    .dataframe tbody tr th:only-of-type {\n",
       "        vertical-align: middle;\n",
       "    }\n",
       "\n",
       "    .dataframe tbody tr th {\n",
       "        vertical-align: top;\n",
       "    }\n",
       "\n",
       "    .dataframe thead th {\n",
       "        text-align: right;\n",
       "    }\n",
       "</style>\n",
       "<table border=\"1\" class=\"dataframe\">\n",
       "  <thead>\n",
       "    <tr style=\"text-align: right;\">\n",
       "      <th></th>\n",
       "      <th>UserName</th>\n",
       "      <th>GameId</th>\n",
       "      <th>GameName</th>\n",
       "      <th>Status</th>\n",
       "      <th>UserRanking</th>\n",
       "      <th>Ranking</th>\n",
       "      <th>UserId</th>\n",
       "    </tr>\n",
       "  </thead>\n",
       "  <tbody>\n",
       "    <tr>\n",
       "      <th>1395</th>\n",
       "      <td>marianoth</td>\n",
       "      <td>148228</td>\n",
       "      <td>Splendor</td>\n",
       "      <td>1</td>\n",
       "      <td>8.00000</td>\n",
       "      <td>7.43173</td>\n",
       "      <td>9</td>\n",
       "    </tr>\n",
       "    <tr>\n",
       "      <th>837</th>\n",
       "      <td>dvtlpzrc</td>\n",
       "      <td>193558</td>\n",
       "      <td>The Oracle of Delphi</td>\n",
       "      <td>1</td>\n",
       "      <td>8.00000</td>\n",
       "      <td>7.29245</td>\n",
       "      <td>6</td>\n",
       "    </tr>\n",
       "    <tr>\n",
       "      <th>2068</th>\n",
       "      <td>Earth_Worm_Jim</td>\n",
       "      <td>121408</td>\n",
       "      <td>Trains</td>\n",
       "      <td>1</td>\n",
       "      <td>7.14211</td>\n",
       "      <td>7.14211</td>\n",
       "      <td>12</td>\n",
       "    </tr>\n",
       "    <tr>\n",
       "      <th>2909</th>\n",
       "      <td>Ramssesmex</td>\n",
       "      <td>242684</td>\n",
       "      <td>Reavers of Midgard</td>\n",
       "      <td>1</td>\n",
       "      <td>7.41720</td>\n",
       "      <td>7.41720</td>\n",
       "      <td>19</td>\n",
       "    </tr>\n",
       "    <tr>\n",
       "      <th>3732</th>\n",
       "      <td>KaeruGames</td>\n",
       "      <td>196340</td>\n",
       "      <td>Yokohama</td>\n",
       "      <td>1</td>\n",
       "      <td>9.00000</td>\n",
       "      <td>7.82911</td>\n",
       "      <td>24</td>\n",
       "    </tr>\n",
       "  </tbody>\n",
       "</table>\n",
       "</div>"
      ],
      "text/plain": [
       "            UserName  GameId              GameName  Status  UserRanking  \\\n",
       "1395       marianoth  148228              Splendor       1      8.00000   \n",
       "837         dvtlpzrc  193558  The Oracle of Delphi       1      8.00000   \n",
       "2068  Earth_Worm_Jim  121408                Trains       1      7.14211   \n",
       "2909      Ramssesmex  242684    Reavers of Midgard       1      7.41720   \n",
       "3732      KaeruGames  196340              Yokohama       1      9.00000   \n",
       "\n",
       "      Ranking  UserId  \n",
       "1395  7.43173       9  \n",
       "837   7.29245       6  \n",
       "2068  7.14211      12  \n",
       "2909  7.41720      19  \n",
       "3732  7.82911      24  "
      ]
     },
     "execution_count": 7,
     "metadata": {},
     "output_type": "execute_result"
    }
   ],
   "source": [
    "prepo_users.sample(5)"
   ]
  },
  {
   "cell_type": "code",
   "execution_count": 8,
   "id": "19ff990c-159c-4235-81a7-cce52b6a27b6",
   "metadata": {},
   "outputs": [
    {
     "data": {
      "text/plain": [
       "1    0.959539\n",
       "0    0.040461\n",
       "Name: Status, dtype: float64"
      ]
     },
     "execution_count": 8,
     "metadata": {},
     "output_type": "execute_result"
    }
   ],
   "source": [
    "prepo_users[\"Status\"].value_counts()/len(prepo_users)"
   ]
  },
  {
   "cell_type": "code",
   "execution_count": 9,
   "id": "7f6432c5-cd1b-4195-a5ee-380879e65672",
   "metadata": {},
   "outputs": [],
   "source": [
    "df_users= prepo_users[[\"UserId\", \"GameId\", \"UserRanking\", \"Status\"]].copy()"
   ]
  },
  {
   "cell_type": "markdown",
   "id": "c892b7f5-8c57-4650-b5fb-7ce9fd9af28c",
   "metadata": {},
   "source": [
    "# Recomendation system"
   ]
  },
  {
   "cell_type": "markdown",
   "id": "36bcbdf4-480c-4a03-9f2d-632b01af9e2c",
   "metadata": {},
   "source": [
    "## Pyspark setup"
   ]
  },
  {
   "cell_type": "markdown",
   "id": "57f55ab0-94dd-42c5-b3dd-7481f5f91821",
   "metadata": {},
   "source": [
    "### Session"
   ]
  },
  {
   "cell_type": "code",
   "execution_count": 10,
   "id": "95f879d9-3d8d-4815-9987-aeb113703797",
   "metadata": {},
   "outputs": [
    {
     "name": "stdout",
     "output_type": "stream",
     "text": [
      "22/11/11 08:21:28 WARN Utils: Your hostname, LAPTOP-7NHMLFJ5 resolves to a loopback address: 127.0.1.1; using 172.28.217.209 instead (on interface eth0)\n",
      "22/11/11 08:21:28 WARN Utils: Set SPARK_LOCAL_IP if you need to bind to another address\n"
     ]
    },
    {
     "name": "stderr",
     "output_type": "stream",
     "text": [
      "Setting default log level to \"WARN\".\n",
      "To adjust logging level use sc.setLogLevel(newLevel). For SparkR, use setLogLevel(newLevel).\n"
     ]
    },
    {
     "name": "stdout",
     "output_type": "stream",
     "text": [
      "22/11/11 08:21:35 WARN NativeCodeLoader: Unable to load native-hadoop library for your platform... using builtin-java classes where applicable\n"
     ]
    }
   ],
   "source": [
    "sc = pyspark.SparkContext(appName =\"clase_datos_masivos\")"
   ]
  },
  {
   "cell_type": "code",
   "execution_count": 11,
   "id": "d260c316-5f2d-42ef-99bc-27745a1daa09",
   "metadata": {},
   "outputs": [],
   "source": [
    "# local[*] usará todos los núcleos disponibles \n",
    "spark = SparkSession.builder\\\n",
    "                    .master('local[*]') \\\n",
    "                    .appName('first_spark') \\\n",
    "                    .getOrCreate()"
   ]
  },
  {
   "cell_type": "code",
   "execution_count": 12,
   "id": "bd525298-d246-4574-82c3-da8840da245a",
   "metadata": {},
   "outputs": [
    {
     "data": {
      "text/plain": [
       "8"
      ]
     },
     "execution_count": 12,
     "metadata": {},
     "output_type": "execute_result"
    }
   ],
   "source": [
    "sc.defaultParallelism"
   ]
  },
  {
   "cell_type": "markdown",
   "id": "893b2ba9-8158-4767-8fa4-9b19b466d69c",
   "metadata": {},
   "source": [
    "### Get data"
   ]
  },
  {
   "cell_type": "code",
   "execution_count": 13,
   "id": "0a4e769e-a281-4a8b-bb86-7b45a8146b8d",
   "metadata": {},
   "outputs": [
    {
     "name": "stderr",
     "output_type": "stream",
     "text": [
      "/home/bluterplay/.local/lib/python3.8/site-packages/pyspark/sql/pandas/conversion.py:474: FutureWarning: iteritems is deprecated and will be removed in a future version. Use .items instead.\n",
      "  for column, series in pdf.iteritems():\n",
      "/home/bluterplay/.local/lib/python3.8/site-packages/pyspark/sql/pandas/conversion.py:486: FutureWarning: iteritems is deprecated and will be removed in a future version. Use .items instead.\n",
      "  for column, series in pdf.iteritems():\n"
     ]
    }
   ],
   "source": [
    "py_users= spark.createDataFrame(df_users)"
   ]
  },
  {
   "cell_type": "code",
   "execution_count": 14,
   "id": "d9c94f13-9fee-4abe-b626-8303b15b5709",
   "metadata": {},
   "outputs": [
    {
     "name": "stderr",
     "output_type": "stream",
     "text": [
      "[Stage 0:>                                                          (0 + 1) / 1]\r"
     ]
    },
    {
     "name": "stdout",
     "output_type": "stream",
     "text": [
      "+------+------+-----------+------+\n",
      "|UserId|GameId|UserRanking|Status|\n",
      "+------+------+-----------+------+\n",
      "|     0|148494|        7.0|     1|\n",
      "|     0|316377|    7.95069|     1|\n",
      "|     0|155987|       10.0|     1|\n",
      "|     0| 21569|        7.0|     1|\n",
      "|     0| 31260|       10.0|     1|\n",
      "|     0|161970|    7.66002|     1|\n",
      "|     0|124742|       10.0|     1|\n",
      "|     0| 17329|        7.0|     1|\n",
      "|     0| 25643|        9.0|     1|\n",
      "|     0| 12005|        6.0|     1|\n",
      "|     0|230802|        8.0|     1|\n",
      "|     0|287954|        9.0|     1|\n",
      "|     0|302388|        8.0|     1|\n",
      "|     0| 27225|        7.0|     1|\n",
      "|     0|  2453|        8.0|     1|\n",
      "|     0|231696|        6.0|     1|\n",
      "|     0|332386|        8.0|     1|\n",
      "|     0|184921|        8.0|     1|\n",
      "|     0|   822|        8.0|     1|\n",
      "|     0|164127|        9.0|     1|\n",
      "+------+------+-----------+------+\n",
      "only showing top 20 rows\n",
      "\n"
     ]
    },
    {
     "name": "stderr",
     "output_type": "stream",
     "text": [
      "                                                                                \r"
     ]
    }
   ],
   "source": [
    "py_users.show()"
   ]
  },
  {
   "cell_type": "code",
   "execution_count": 15,
   "id": "80c061fb-9f14-446f-9345-1b646e01bcfc",
   "metadata": {},
   "outputs": [
    {
     "name": "stdout",
     "output_type": "stream",
     "text": [
      "root\n",
      " |-- UserId: integer (nullable = true)\n",
      " |-- GameId: integer (nullable = true)\n",
      " |-- UserRanking: double (nullable = true)\n",
      " |-- Status: integer (nullable = true)\n",
      "\n"
     ]
    }
   ],
   "source": [
    "py_users= py_users.select(py_users.UserId.cast(\"integer\"), py_users.GameId.cast(\"integer\"), py_users.UserRanking.cast(\"double\"), py_users.Status.cast(\"integer\"))\n",
    "py_users.printSchema()"
   ]
  },
  {
   "cell_type": "code",
   "execution_count": 16,
   "id": "f5629ed8-6768-40dc-8588-15b96562a7be",
   "metadata": {},
   "outputs": [],
   "source": [
    "py_users.createOrReplaceTempView(\"Users\")"
   ]
  },
  {
   "cell_type": "markdown",
   "id": "2cf8737a-5b40-4be4-afa6-2b1443a75063",
   "metadata": {},
   "source": [
    "## Train test"
   ]
  },
  {
   "cell_type": "code",
   "execution_count": 17,
   "id": "cf35905d-c16c-421d-bcd3-ce91e38604e7",
   "metadata": {},
   "outputs": [],
   "source": [
    "# Una predicción que NO está\n",
    "query = \" select * from Users where Status =1\"\n",
    "py_own= spark.sql(query)"
   ]
  },
  {
   "cell_type": "code",
   "execution_count": 18,
   "id": "7aa6295b-a639-4a58-a97d-e522c31588d2",
   "metadata": {},
   "outputs": [],
   "source": [
    "(train, test) = py_own.randomSplit([0.8, 0.2], seed = 202012)"
   ]
  },
  {
   "cell_type": "markdown",
   "id": "82739cbc-61be-4028-acca-4143d3373610",
   "metadata": {},
   "source": [
    "## ALS"
   ]
  },
  {
   "cell_type": "code",
   "execution_count": 19,
   "id": "fa223759-32d0-44a2-957d-7dec74c5e5d1",
   "metadata": {},
   "outputs": [
    {
     "name": "stderr",
     "output_type": "stream",
     "text": [
      "                                                                                \r"
     ]
    },
    {
     "name": "stdout",
     "output_type": "stream",
     "text": [
      "22/11/11 08:21:59 WARN InstanceBuilder$NativeBLAS: Failed to load implementation from:dev.ludovic.netlib.blas.JNIBLAS\n",
      "22/11/11 08:21:59 WARN InstanceBuilder$NativeBLAS: Failed to load implementation from:dev.ludovic.netlib.blas.ForeignLinkerBLAS\n",
      "22/11/11 08:21:59 WARN InstanceBuilder$NativeLAPACK: Failed to load implementation from:dev.ludovic.netlib.lapack.JNILAPACK\n"
     ]
    },
    {
     "name": "stderr",
     "output_type": "stream",
     "text": [
      "                                                                                \r"
     ]
    }
   ],
   "source": [
    "als= ALS(userCol=\"UserId\", itemCol=\"GameId\", ratingCol= \"UserRanking\", coldStartStrategy='drop')\n",
    "model= als.fit(train)"
   ]
  },
  {
   "cell_type": "code",
   "execution_count": 20,
   "id": "17eda0b7-9eba-47ed-b3a7-9f5b11f201bf",
   "metadata": {},
   "outputs": [],
   "source": [
    "predictions= model.transform(test)"
   ]
  },
  {
   "cell_type": "code",
   "execution_count": 21,
   "id": "258c19cb-ee7b-4a10-9737-4354556fdf8e",
   "metadata": {},
   "outputs": [
    {
     "name": "stderr",
     "output_type": "stream",
     "text": [
      "                                                                                \r"
     ]
    },
    {
     "name": "stdout",
     "output_type": "stream",
     "text": [
      "+------+------+-----------+------+----------+\n",
      "|UserId|GameId|UserRanking|Status|prediction|\n",
      "+------+------+-----------+------+----------+\n",
      "|     1|128475|        6.0|     1| 4.2141476|\n",
      "|     1|169786|       10.0|     1|  7.514125|\n",
      "|     1|176458|        7.0|     1| 4.1195335|\n",
      "|     1|193308|        8.0|     1|   5.28733|\n",
      "|     1|223770|        8.0|     1| 6.5889993|\n",
      "|     1|234190|        6.0|     1|   5.44687|\n",
      "|     1|246912|        7.0|     1|  7.111369|\n",
      "|     1|291457|        8.5|     1|  6.589264|\n",
      "|     3|    13|      8.049|     1|  7.836399|\n",
      "|     3|   188|      6.529|     1|  5.880723|\n",
      "|     3|  7688|       4.19|     1| 5.9795923|\n",
      "|     3| 13823|    6.71614|     1|  6.752316|\n",
      "|     3| 14612|      1.701|     1| 1.5968853|\n",
      "|     3| 19996|    6.64698|     1| 5.5200057|\n",
      "|     3| 26033|    6.49244|     1|  7.249144|\n",
      "|     3| 26033|      7.449|     1|  7.249144|\n",
      "|     3|100901|      8.989|     1| 6.9153695|\n",
      "|     3|129622|      8.119|     1|  6.601458|\n",
      "|     3|130792|      9.129|     1|  7.281288|\n",
      "|     3|161970|    7.66002|     1| 7.9018946|\n",
      "+------+------+-----------+------+----------+\n",
      "only showing top 20 rows\n",
      "\n"
     ]
    }
   ],
   "source": [
    "predictions.show()"
   ]
  },
  {
   "cell_type": "code",
   "execution_count": 22,
   "id": "963b2bbb-9ac8-4dd2-8f55-ab55c8fee8e1",
   "metadata": {},
   "outputs": [],
   "source": [
    "evaluator = RegressionEvaluator(metricName=\"rmse\", labelCol=\"UserRanking\", predictionCol=\"prediction\")"
   ]
  },
  {
   "cell_type": "code",
   "execution_count": 23,
   "id": "6d06ecdd-c473-44ba-a8ba-0eb3341f7ee8",
   "metadata": {},
   "outputs": [
    {
     "name": "stdout",
     "output_type": "stream",
     "text": [
      "1.689408479063479\n"
     ]
    }
   ],
   "source": [
    "RMSE_1 = evaluator.evaluate(predictions)\n",
    "print (RMSE_1)"
   ]
  },
  {
   "cell_type": "markdown",
   "id": "93d7ccf6-cf3c-4fa1-a13c-ee9c3e844e18",
   "metadata": {},
   "source": [
    "### Search grid"
   ]
  },
  {
   "cell_type": "code",
   "execution_count": 24,
   "id": "fb21523a-45a0-4546-b97e-dd8bc0437786",
   "metadata": {},
   "outputs": [],
   "source": [
    "als_grid = ALS(userCol=\"UserId\", itemCol=\"GameId\", ratingCol=\"UserRanking\", nonnegative = False, implicitPrefs = False, coldStartStrategy=\"drop\")"
   ]
  },
  {
   "cell_type": "code",
   "execution_count": 25,
   "id": "21af8d46-b549-4150-b4ef-5504027508cd",
   "metadata": {},
   "outputs": [],
   "source": [
    "param_grid = ParamGridBuilder() \\\n",
    "            .addGrid(als_grid.rank, [10, 20, 50, 100]) \\\n",
    "            .addGrid(als_grid.maxIter, [10, 15, 20, 25]) \\\n",
    "            .addGrid(als_grid.regParam, [.01, .05, .1, 1, 10]) \\\n",
    "            .build()"
   ]
  },
  {
   "cell_type": "code",
   "execution_count": 26,
   "id": "2c9e2ae1-4103-4905-822d-7ca7248b83b7",
   "metadata": {},
   "outputs": [],
   "source": [
    "evaluator_grid = RegressionEvaluator(metricName=\"rmse\", labelCol=\"UserRanking\", predictionCol=\"prediction\")"
   ]
  },
  {
   "cell_type": "code",
   "execution_count": 27,
   "id": "44aae63f-532d-4d45-b491-eab0af036b02",
   "metadata": {},
   "outputs": [],
   "source": [
    "cv = CrossValidator(estimator=als_grid, estimatorParamMaps=param_grid, evaluator=evaluator_grid, numFolds=5)"
   ]
  },
  {
   "cell_type": "markdown",
   "id": "7197afbe-09c7-44c8-b191-4a5bc484767c",
   "metadata": {},
   "source": [
    "start_time = time()\n",
    "\n",
    "model_grid = cv.fit(train)\n",
    "\n",
    "end_time = time()\n",
    "elapsed_time = end_time - start_time\n",
    "print(\"Elapsed time: %.10f seconds.\" % elapsed_time)"
   ]
  },
  {
   "cell_type": "markdown",
   "id": "7fa1b083-b9c7-4927-9f60-b7147385fb55",
   "metadata": {},
   "source": [
    "### Best model"
   ]
  },
  {
   "cell_type": "code",
   "execution_count": 28,
   "id": "220f824d-af06-4d61-ac71-efebf209b543",
   "metadata": {},
   "outputs": [
    {
     "ename": "NameError",
     "evalue": "name 'model_grid' is not defined",
     "output_type": "error",
     "traceback": [
      "\u001b[0;31m---------------------------------------------------------------------------\u001b[0m",
      "\u001b[0;31mNameError\u001b[0m                                 Traceback (most recent call last)",
      "Cell \u001b[0;32mIn [28], line 1\u001b[0m\n\u001b[0;32m----> 1\u001b[0m best_model \u001b[38;5;241m=\u001b[39m \u001b[43mmodel_grid\u001b[49m\u001b[38;5;241m.\u001b[39mbestModel\n",
      "\u001b[0;31mNameError\u001b[0m: name 'model_grid' is not defined"
     ]
    }
   ],
   "source": [
    "best_model = model_grid.bestModel"
   ]
  },
  {
   "cell_type": "code",
   "execution_count": null,
   "id": "fd195aea-3007-4542-95b3-5393240e2fb3",
   "metadata": {},
   "outputs": [],
   "source": [
    "print(\"  Rank:\", best_model._java_obj.parent().getRank())\n",
    "print(\"  MaxIter:\", best_model._java_obj.parent().getMaxIter())\n",
    "print(\"  RegParam:\", best_model._java_obj.parent().getRegParam())"
   ]
  },
  {
   "cell_type": "code",
   "execution_count": 29,
   "id": "448c2b35-d868-43ab-aa62-be66157df097",
   "metadata": {
    "scrolled": true,
    "tags": []
   },
   "outputs": [],
   "source": [
    "als= ALS(userCol=\"UserId\", itemCol=\"GameId\", ratingCol= \"UserRanking\",coldStartStrategy='drop', rank=20, maxIter=25, regParam=0.1)\n",
    "best_model= als.fit(train)"
   ]
  },
  {
   "cell_type": "code",
   "execution_count": 30,
   "id": "486639ca-d1ce-4aff-a373-5efbb34e0392",
   "metadata": {},
   "outputs": [],
   "source": [
    "test_best= best_model.transform(test)"
   ]
  },
  {
   "cell_type": "code",
   "execution_count": 31,
   "id": "a28c79a1-0cee-472a-ba52-d8f830e64d92",
   "metadata": {},
   "outputs": [
    {
     "name": "stdout",
     "output_type": "stream",
     "text": [
      "+------+------+-----------+------+----------+\n",
      "|UserId|GameId|UserRanking|Status|prediction|\n",
      "+------+------+-----------+------+----------+\n",
      "|     1|128475|        6.0|     1|  6.103056|\n",
      "|     1|169786|       10.0|     1|  8.753156|\n",
      "|     1|176458|        7.0|     1| 4.9189773|\n",
      "|     1|193308|        8.0|     1|  5.723008|\n",
      "|     1|223770|        8.0|     1|  7.035811|\n",
      "|     1|234190|        6.0|     1|  7.300802|\n",
      "|     1|246912|        7.0|     1|  7.158746|\n",
      "|     1|291457|        8.5|     1| 7.9315968|\n",
      "|     3|    13|      8.049|     1|  7.859281|\n",
      "|     3|   188|      6.529|     1| 6.7911835|\n",
      "|     3|  7688|       4.19|     1| 5.9626737|\n",
      "|     3| 13823|    6.71614|     1|  7.013989|\n",
      "|     3| 14612|      1.701|     1| 1.5923666|\n",
      "|     3| 19996|    6.64698|     1|  6.322235|\n",
      "|     3| 26033|    6.49244|     1| 7.1928277|\n",
      "|     3| 26033|      7.449|     1| 7.1928277|\n",
      "|     3|100901|      8.989|     1|  7.130616|\n",
      "|     3|129622|      8.119|     1|  7.228336|\n",
      "|     3|130792|      9.129|     1|  7.288496|\n",
      "|     3|161970|    7.66002|     1|  7.471086|\n",
      "+------+------+-----------+------+----------+\n",
      "only showing top 20 rows\n",
      "\n"
     ]
    }
   ],
   "source": [
    "test_best.show()"
   ]
  },
  {
   "cell_type": "markdown",
   "id": "f48b2048-4af4-4203-939c-0e2028cb1812",
   "metadata": {},
   "source": [
    "### Validation data"
   ]
  },
  {
   "cell_type": "code",
   "execution_count": 32,
   "id": "3bfc1067-2c33-45b5-a715-fb3c20e312e8",
   "metadata": {},
   "outputs": [],
   "source": [
    "query = \" select * from Users where Status =0\"\n",
    "py_want= spark.sql(query)"
   ]
  },
  {
   "cell_type": "code",
   "execution_count": 33,
   "id": "7089c910-f6a4-49fa-b5c2-974933c2f4f9",
   "metadata": {},
   "outputs": [],
   "source": [
    "validation= best_model.transform(py_want)"
   ]
  },
  {
   "cell_type": "code",
   "execution_count": 37,
   "id": "46602cba-aa5e-41e5-9013-c1188617e256",
   "metadata": {},
   "outputs": [
    {
     "name": "stdout",
     "output_type": "stream",
     "text": [
      "+------+------+-----------+------+----------+\n",
      "|UserId|GameId|UserRanking|Status|prediction|\n",
      "+------+------+-----------+------+----------+\n",
      "|     3|223321|     7.7548|     0|  7.375931|\n",
      "|     3|328479|    7.34765|     0| 5.4891925|\n",
      "|    19|180263|    7.95149|     0|  8.139436|\n",
      "|    19|172818|    7.38501|     0|  6.298144|\n",
      "|    19| 90419|    7.29918|     0| 7.2850313|\n",
      "|    19|137408|    7.45685|     0|  6.354576|\n",
      "|    19|124742|    7.87582|     0| 7.6993775|\n",
      "|    19|205637|    8.15033|     0|  7.965737|\n",
      "|    19|   760|    7.41117|     0| 6.9036164|\n",
      "|    19|123123|    7.85888|     0|  8.589381|\n",
      "|    19| 89409|    7.68587|     0| 6.6604757|\n",
      "|    19| 34219|    7.20377|     0|  6.469095|\n",
      "|    19| 90137|    7.38292|     0| 6.1256604|\n",
      "|    19|224517|    8.65432|     0|   8.64801|\n",
      "|    19| 43111|    7.66854|     0|  6.534974|\n",
      "|    19|   478|    7.07254|     0|  6.754976|\n",
      "|    19|123499|    7.17567|     0| 6.1565228|\n",
      "|    19|224037|     7.4921|     0|  4.306654|\n",
      "|    19| 39463|    7.53478|     0|   8.23271|\n",
      "|    19|   521|    7.97979|     0|  8.516793|\n",
      "+------+------+-----------+------+----------+\n",
      "only showing top 20 rows\n",
      "\n"
     ]
    }
   ],
   "source": [
    "validation.show()"
   ]
  },
  {
   "cell_type": "code",
   "execution_count": 38,
   "id": "9e9eb54b-36f1-4f49-8a2c-a93aa63af53b",
   "metadata": {},
   "outputs": [],
   "source": [
    "RMSE = evaluator.evaluate(validation)"
   ]
  },
  {
   "cell_type": "code",
   "execution_count": 39,
   "id": "990e79d9-f71c-4db0-a6c9-952be5b012f0",
   "metadata": {},
   "outputs": [
    {
     "name": "stdout",
     "output_type": "stream",
     "text": [
      "1.1806893531506077\n"
     ]
    }
   ],
   "source": [
    "print(RMSE)"
   ]
  },
  {
   "cell_type": "markdown",
   "id": "f0071017-481f-4e8e-8abd-a90c0c7220ac",
   "metadata": {},
   "source": [
    "### Users Factors"
   ]
  },
  {
   "cell_type": "code",
   "execution_count": 41,
   "id": "6ac440b7-0dbe-4eb5-99e3-630a3b287ef8",
   "metadata": {},
   "outputs": [
    {
     "data": {
      "text/plain": [
       "[Row(id=0, features=[0.3536931574344635, -0.5811689496040344, -0.3402414917945862, 1.7530345916748047, 0.46533674001693726, -0.06366005539894104, -0.688411295413971, -0.1699032187461853, -0.19235379993915558, 0.30084583163261414, 0.40537309646606445, 0.015324448235332966, 0.26758354902267456, 0.8794505596160889, -0.22862465679645538, -0.05299420282244682, 0.2697645127773285, 0.28585100173950195, 0.13467884063720703, -0.6639338731765747]),\n",
       " Row(id=10, features=[0.12741589546203613, -0.21891352534294128, -0.07230743020772934, 1.2686548233032227, 0.44414904713630676, -0.05033480003476143, -0.5686956644058228, 0.4052482843399048, -0.3169593811035156, 0.5619913935661316, 0.764437198638916, 0.20037110149860382, 0.0578824020922184, 0.757807195186615, -0.4014401137828827, -0.15014894306659698, -0.05341615900397301, 0.47835028171539307, -0.0024034143425524235, -0.9035914540290833]),\n",
       " Row(id=20, features=[0.25406163930892944, -0.5000564455986023, -0.07294382154941559, 1.2242987155914307, 0.2940164804458618, -0.0836942121386528, -0.7779943346977234, 0.170210063457489, -0.016720691695809364, 0.5688494443893433, 0.7753307819366455, 0.25127723813056946, -0.15363888442516327, 0.6811168789863586, -0.32146579027175903, -0.09169288724660873, -0.012656292878091335, 0.37423375248908997, 0.13120871782302856, -0.6795466542243958]),\n",
       " Row(id=1, features=[0.3356979191303253, -0.6855027079582214, -0.25556620955467224, 1.111372947692871, 0.4223513603210449, 0.11699675768613815, -0.7617891430854797, 0.26198068261146545, 0.23412908613681793, -0.2517881989479065, 0.9180450439453125, -0.0241939015686512, -0.24736955761909485, 0.9381239414215088, -0.369051069021225, 0.08437728136777878, 0.10869751125574112, 0.21805831789970398, -0.1433917135000229, -0.9274740815162659]),\n",
       " Row(id=11, features=[0.47471633553504944, -0.3072051405906677, 0.004459661897271872, 1.366228699684143, 0.4555445611476898, -0.2529609203338623, -0.4771222174167633, 0.31545692682266235, 0.09753696620464325, 0.1405259370803833, 0.8264527320861816, 0.3002849817276001, -0.24511805176734924, 0.7181520462036133, -0.33980900049209595, -0.11223623901605606, 0.17328181862831116, 0.41816073656082153, 0.16511237621307373, -0.4374822974205017]),\n",
       " Row(id=21, features=[0.30337950587272644, -0.37050262093544006, 0.0048522548750042915, 1.2129393815994263, 0.45138248801231384, 0.09630732983350754, -0.7143959403038025, 0.2752302587032318, 0.0068482328206300735, 0.3599812686443329, 0.7328726649284363, 0.17273172736167908, -0.1907474845647812, 0.6017928719520569, -0.4140990376472473, -0.06362496316432953, -0.035422433167696, 0.5010896921157837, -0.06296788901090622, -0.6570026278495789]),\n",
       " Row(id=2, features=[0.4548807144165039, -0.5975642800331116, 0.19226399064064026, 1.4084892272949219, 0.2848251163959503, -0.2684595584869385, -0.8876440525054932, -0.23949070274829865, 0.30139607191085815, 0.4746311604976654, 0.5362966060638428, 0.2535979151725769, -0.2127753645181656, 0.5944744348526001, 0.020037543028593063, 0.36214756965637207, 0.13315404951572418, 0.5931295156478882, 0.020114462822675705, -0.6836179494857788]),\n",
       " Row(id=12, features=[0.2031298279762268, -0.9286436438560486, -0.23965977132320404, 1.111209750175476, 0.10094274580478668, 0.21864087879657745, -0.8253688216209412, 0.08364862948656082, -0.04416704922914505, 0.07724464684724808, 0.8561151623725891, 0.45092490315437317, 0.14609478414058685, 0.3969608545303345, -0.4032965302467346, 0.12323684990406036, -0.03501392528414726, 0.686220645904541, 0.05586298927664757, -0.6850252151489258]),\n",
       " Row(id=22, features=[0.40052756667137146, 0.007159316446632147, 0.20597049593925476, 1.0971763134002686, 0.47307297587394714, -0.2513499855995178, -0.7471809387207031, 0.6791466474533081, -0.10545704513788223, 0.1552927941083908, 0.8199507594108582, 0.2794787883758545, -0.09261415898799896, 0.8186989426612854, -0.49211522936820984, 0.1943265199661255, 0.33914345502853394, 0.43827611207962036, 0.12134070694446564, -0.5643593668937683]),\n",
       " Row(id=3, features=[0.5670063495635986, -0.7824847102165222, 0.28728610277175903, 1.215009331703186, 0.43325236439704895, -0.38643190264701843, -0.5925982594490051, 0.21329283714294434, -0.2560887038707733, 0.31488358974456787, 0.8688743114471436, 0.2649114727973938, 0.023861989378929138, 0.5493311882019043, -0.6129729747772217, 0.2060280442237854, 0.4373065233230591, 0.9040416479110718, -0.0674862265586853, -0.1659993976354599]),\n",
       " Row(id=13, features=[0.3039190173149109, -0.5598023533821106, -0.25250938534736633, 1.3046965599060059, 0.40674838423728943, 0.21362732350826263, -0.13525663316249847, 0.5154687762260437, 0.09683345258235931, 0.3001599907875061, 1.0713657140731812, 0.1996918022632599, 0.07555364817380905, 0.8585708737373352, -0.38680580258369446, -0.28934523463249207, 0.11305007338523865, 0.6680343747138977, 0.21332600712776184, -0.4242333769798279]),\n",
       " Row(id=23, features=[0.4330655038356781, -0.4265647530555725, -0.002835270017385483, 1.2178622484207153, 0.4900611639022827, -0.4047074317932129, -0.6052476167678833, 0.381802499294281, 0.2498486489057541, 0.3113308846950531, 0.6182393431663513, 0.40939924120903015, -0.1247066929936409, 0.8136501908302307, 0.023304220288991928, 0.1802656054496765, 0.4808442294597626, 0.3167073726654053, -0.05294577032327652, -0.8763924241065979]),\n",
       " Row(id=4, features=[0.555312991142273, -0.4144318997859955, -0.1364583671092987, 1.154321551322937, 0.4791386127471924, 0.0023499594535678625, -0.5931804776191711, 0.11270273476839066, 0.08335984498262405, 0.3363243639469147, 0.8262717723846436, 0.0603049211204052, -0.07523730397224426, 0.6081456542015076, -0.3992566466331482, -0.0858602449297905, -0.12102110683917999, 0.6583138108253479, 0.15540063381195068, -0.6151224374771118]),\n",
       " Row(id=14, features=[0.3324474096298218, -0.6525336503982544, -0.17696136236190796, 1.362182855606079, 0.32382065057754517, 0.06484542042016983, -0.8499498963356018, 0.12827424705028534, -0.1915477216243744, 0.5706823468208313, 0.36634209752082825, 0.16940611600875854, -0.06493405252695084, 1.0545903444290161, -0.30139198899269104, -0.2475072592496872, 0.0864720568060875, 0.8287798762321472, 0.04462965205311775, -0.447319358587265]),\n",
       " Row(id=24, features=[0.31975096464157104, -0.3805433511734009, 0.1463513821363449, 1.5572916269302368, 0.4056277871131897, 0.21919310092926025, -0.44127506017684937, 0.5965953469276428, 0.04851880297064781, 0.37367475032806396, 0.9134534001350403, 0.41820862889289856, 0.1649237722158432, 0.38884469866752625, -0.21548379957675934, 0.11223247647285461, 0.312195360660553, 0.10984629392623901, -0.05534840002655983, -0.34600311517715454]),\n",
       " Row(id=5, features=[0.6692757606506348, -0.4390011131763458, -0.17183183133602142, 1.33890700340271, 0.6096574068069458, -0.012009342201054096, -0.9355564713478088, -0.18333956599235535, 0.30270713567733765, 0.04716924950480461, 1.0116591453552246, -0.06611514836549759, 0.24543744325637817, 0.7200444936752319, -0.5933846831321716, 0.11871658265590668, -0.07152651250362396, 0.20773063600063324, -0.1451103836297989, -0.8701300621032715]),\n",
       " Row(id=15, features=[0.5740160346031189, -0.2863113582134247, 0.07166284322738647, 1.4266636371612549, 0.3685111105442047, -0.04350113496184349, -0.3760422468185425, 0.025427844375371933, 0.24964453279972076, 0.2890837490558624, 0.9486456513404846, 0.08502431958913803, 0.05553758144378662, 1.1192185878753662, -0.5431246161460876, -0.2519310712814331, -0.05514916032552719, 0.6047878861427307, -0.3158451020717621, -0.37556204199790955]),\n",
       " Row(id=25, features=[0.5876572728157043, -0.36365288496017456, -0.07165742665529251, 1.1780343055725098, 0.41355228424072266, 0.012524137273430824, -0.6410979628562927, 0.18080322444438934, 0.10687783360481262, 0.30591273307800293, 0.829262375831604, 0.17019543051719666, -0.1577722281217575, 0.5352035164833069, -0.4201037883758545, -0.051983561366796494, -0.09339696913957596, 0.5771214365959167, 0.10952064394950867, -0.5943277478218079]),\n",
       " Row(id=6, features=[0.16935841739177704, -0.7197508215904236, -0.1156754419207573, 1.4505575895309448, 0.4640118479728699, 0.06850027292966843, -0.4233202338218689, 0.36951562762260437, 0.3521304726600647, 0.3999536335468292, 1.1167815923690796, 0.2315768003463745, -0.03703868016600609, 0.5926561951637268, -0.4891589283943176, -0.11487545818090439, 0.38529446721076965, 0.18117055296897888, 0.26958999037742615, -0.44597727060317993]),\n",
       " Row(id=16, features=[0.5675035119056702, -0.5033131837844849, -0.14530260860919952, 1.4316154718399048, 0.578696608543396, 0.4067920446395874, -0.6396206021308899, -0.009067302569746971, 0.5592814683914185, -0.08240386843681335, 0.6405834555625916, -0.13927415013313293, -0.03131857141852379, 0.8528741598129272, -0.6577262282371521, 0.008422798477113247, 0.034950654953718185, 0.13522370159626007, -0.3972516357898712, -0.5499370694160461]),\n",
       " Row(id=26, features=[0.7855339646339417, -0.30433791875839233, 0.08612601459026337, 1.2261242866516113, 0.19487805664539337, -0.1449117213487625, -0.1879700869321823, 0.4598606824874878, 0.312203973531723, 0.21871492266654968, 0.7231334447860718, 0.36327770352363586, 0.009491406381130219, 1.0650005340576172, -0.37736976146698, 0.045008741319179535, 0.29976600408554077, 0.884352445602417, -0.1932619959115982, -0.49077388644218445]),\n",
       " Row(id=7, features=[0.37261009216308594, -0.5048515796661377, -0.0165210273116827, 1.1409224271774292, 0.3867318630218506, -0.0006682240054942667, -0.6205668449401855, 0.20973657071590424, 0.09592096507549286, 0.39865508675575256, 0.858030378818512, 0.15329860150814056, -0.2396181970834732, 0.6710448861122131, -0.4104093015193939, -0.05298088490962982, 0.017145484685897827, 0.44213393330574036, -0.033401861786842346, -0.6983187794685364]),\n",
       " Row(id=17, features=[0.11077146232128143, -0.16612263023853302, 0.37554624676704407, 1.4921250343322754, 0.419208288192749, 0.1362691968679428, -0.6590133309364319, 0.5045764446258545, -0.37777993083000183, -0.037316445261240005, 0.39059171080589294, -0.16969506442546844, 0.21969640254974365, 0.8184331655502319, -0.6573096513748169, 0.44217950105667114, 0.07773628830909729, 0.8852940201759338, 0.08638589829206467, -0.21857689321041107]),\n",
       " Row(id=27, features=[-0.27135130763053894, -0.9066643714904785, 0.028166674077510834, 1.2536935806274414, 0.39455193281173706, -0.06996215134859085, -0.3291083574295044, 0.6009344458580017, 5.881940887775272e-05, 0.2264518439769745, 0.6829000115394592, 0.3236903250217438, -0.01697041094303131, 0.5180209279060364, -0.3144111931324005, 0.04793112725019455, 0.41057831048965454, 0.1908084750175476, -0.18718618154525757, -0.6813175678253174]),\n",
       " Row(id=8, features=[-0.0937533751130104, -0.8090465068817139, 0.11251848936080933, 1.0993938446044922, 0.25014960765838623, -0.09773841500282288, -0.6960042119026184, -0.08444246649742126, -0.0198606438934803, 0.8139705657958984, 0.5544896125793457, 0.13003261387348175, -0.545164942741394, 1.0612224340438843, -0.36962682008743286, -0.1588667631149292, 0.10987376421689987, 0.48875969648361206, 0.03975313901901245, -0.4233112037181854]),\n",
       " Row(id=18, features=[0.6113186478614807, -0.23958812654018402, 0.022787299007177353, 1.4118387699127197, 0.2198188602924347, -0.4229320287704468, -1.1225887537002563, -0.7084149122238159, -0.04238452762365341, 0.10012976825237274, 0.3083716928958893, -0.17258945107460022, 0.24094416201114655, 1.285233974456787, -0.34625184535980225, -0.08142059296369553, 0.6070202589035034, -0.07524560391902924, -0.7780519127845764, -0.4374990463256836]),\n",
       " Row(id=28, features=[0.5059502124786377, -0.24776533246040344, -0.11146659404039383, 1.4513771533966064, 0.33943986892700195, -0.5107886791229248, -0.5687345862388611, 0.1699981838464737, 0.07691255211830139, 0.3168710470199585, 0.8028285503387451, 0.30635708570480347, -0.21992094814777374, 0.6347745060920715, -0.3692973852157593, -0.14052948355674744, 0.07137719541788101, 0.2516613304615021, 0.5749836564064026, -0.4708986282348633]),\n",
       " Row(id=9, features=[0.2663934528827667, -0.29589834809303284, -0.13543345034122467, 1.4746050834655762, 0.40982434153556824, 0.35164108872413635, -0.46285519003868103, 0.5307462811470032, 0.13739189505577087, 0.20039021968841553, 0.6588658690452576, 0.24000543355941772, -0.5488466024398804, 0.9041887521743774, -0.2845763564109802, -0.2946217358112335, 0.20062915980815887, 0.4841853976249695, -0.07155352830886841, -0.5093340277671814]),\n",
       " Row(id=19, features=[0.3406374156475067, -0.5819136500358582, -0.27743369340896606, 1.2308619022369385, 0.2808628976345062, -0.08912046998739243, -0.5577858090400696, 0.10557064414024353, -0.009042823687195778, 0.1660638153553009, 1.0535809993743896, 0.38081392645835876, -0.10506303608417511, 0.7301772832870483, -0.22439807653427124, -0.17803360521793365, 0.3135289251804352, 0.07928851991891861, -0.10741119086742401, -0.7088820338249207])]"
      ]
     },
     "execution_count": 41,
     "metadata": {},
     "output_type": "execute_result"
    }
   ],
   "source": [
    "best_model.userFactors.collect()"
   ]
  },
  {
   "cell_type": "code",
   "execution_count": null,
   "id": "838e5f23-9d17-4cf0-8a38-cf154ee1d4fe",
   "metadata": {},
   "outputs": [],
   "source": []
  }
 ],
 "metadata": {
  "kernelspec": {
   "display_name": "Python 3 (ipykernel)",
   "language": "python",
   "name": "python3"
  },
  "language_info": {
   "codemirror_mode": {
    "name": "ipython",
    "version": 3
   },
   "file_extension": ".py",
   "mimetype": "text/x-python",
   "name": "python",
   "nbconvert_exporter": "python",
   "pygments_lexer": "ipython3",
   "version": "3.8.10"
  }
 },
 "nbformat": 4,
 "nbformat_minor": 5
}
