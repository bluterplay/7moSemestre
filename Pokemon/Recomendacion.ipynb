{
 "cells": [
  {
   "cell_type": "markdown",
   "id": "059d4425-8e96-4c51-9e6f-afbd531c9dc2",
   "metadata": {},
   "source": [
    "# Modules"
   ]
  },
  {
   "cell_type": "code",
   "execution_count": 83,
   "id": "57f8960a-16bf-4e24-8292-aef333ff1707",
   "metadata": {},
   "outputs": [],
   "source": [
    "import pyspark\n",
    "import pandas as pd\n",
    "from pyspark.sql import SparkSession\n",
    "from pyspark.ml.evaluation import RegressionEvaluator\n",
    "from pyspark.ml.recommendation import ALS, ALSModel\n",
    "from pyspark.ml.tuning import ParamGridBuilder, CrossValidator\n",
    "from time import time"
   ]
  },
  {
   "cell_type": "markdown",
   "id": "fd5235d0-7291-48a3-8f2f-570dbb4b8e2e",
   "metadata": {},
   "source": [
    "# Data"
   ]
  },
  {
   "cell_type": "markdown",
   "id": "b2a38f96-0431-445f-abdc-15509cfda2ee",
   "metadata": {},
   "source": [
    "## Data users"
   ]
  },
  {
   "cell_type": "code",
   "execution_count": 2,
   "id": "edf02abe-e9fb-4eec-92b7-d9341b9940db",
   "metadata": {},
   "outputs": [],
   "source": [
    "data_users= pd.read_csv(\"users.csv\")"
   ]
  },
  {
   "cell_type": "code",
   "execution_count": 3,
   "id": "20e8e4ca-2ff5-4d97-8afe-6b522eb93c4e",
   "metadata": {},
   "outputs": [],
   "source": [
    "data_users.rename(columns={\"UserRanking\": \"UserRating\", \"Ranking\": \"Rating\"}, inplace=True)"
   ]
  },
  {
   "cell_type": "code",
   "execution_count": 4,
   "id": "b03a2ee7-a774-45cb-a6a4-d1eb42ec1b41",
   "metadata": {},
   "outputs": [
    {
     "data": {
      "text/html": [
       "<div>\n",
       "<style scoped>\n",
       "    .dataframe tbody tr th:only-of-type {\n",
       "        vertical-align: middle;\n",
       "    }\n",
       "\n",
       "    .dataframe tbody tr th {\n",
       "        vertical-align: top;\n",
       "    }\n",
       "\n",
       "    .dataframe thead th {\n",
       "        text-align: right;\n",
       "    }\n",
       "</style>\n",
       "<table border=\"1\" class=\"dataframe\">\n",
       "  <thead>\n",
       "    <tr style=\"text-align: right;\">\n",
       "      <th></th>\n",
       "      <th>UserName</th>\n",
       "      <th>GameId</th>\n",
       "      <th>GameName</th>\n",
       "      <th>Status</th>\n",
       "      <th>UserRating</th>\n",
       "      <th>Rating</th>\n",
       "    </tr>\n",
       "  </thead>\n",
       "  <tbody>\n",
       "    <tr>\n",
       "      <th>0</th>\n",
       "      <td>gandalfgrismx</td>\n",
       "      <td>148494</td>\n",
       "      <td>1,2,3! Now you see me...</td>\n",
       "      <td>1</td>\n",
       "      <td>7.0</td>\n",
       "      <td>6.06084</td>\n",
       "    </tr>\n",
       "    <tr>\n",
       "      <th>1</th>\n",
       "      <td>gandalfgrismx</td>\n",
       "      <td>316377</td>\n",
       "      <td>7 Wonders (Second Edition)</td>\n",
       "      <td>1</td>\n",
       "      <td>NaN</td>\n",
       "      <td>7.95069</td>\n",
       "    </tr>\n",
       "    <tr>\n",
       "      <th>2</th>\n",
       "      <td>gandalfgrismx</td>\n",
       "      <td>155987</td>\n",
       "      <td>Abyss</td>\n",
       "      <td>1</td>\n",
       "      <td>10.0</td>\n",
       "      <td>7.32909</td>\n",
       "    </tr>\n",
       "    <tr>\n",
       "      <th>3</th>\n",
       "      <td>gandalfgrismx</td>\n",
       "      <td>21569</td>\n",
       "      <td>Adigma</td>\n",
       "      <td>1</td>\n",
       "      <td>7.0</td>\n",
       "      <td>7.52585</td>\n",
       "    </tr>\n",
       "    <tr>\n",
       "      <th>4</th>\n",
       "      <td>gandalfgrismx</td>\n",
       "      <td>31260</td>\n",
       "      <td>Agricola</td>\n",
       "      <td>1</td>\n",
       "      <td>10.0</td>\n",
       "      <td>7.90633</td>\n",
       "    </tr>\n",
       "  </tbody>\n",
       "</table>\n",
       "</div>"
      ],
      "text/plain": [
       "        UserName  GameId                    GameName  Status  UserRating  \\\n",
       "0  gandalfgrismx  148494    1,2,3! Now you see me...       1         7.0   \n",
       "1  gandalfgrismx  316377  7 Wonders (Second Edition)       1         NaN   \n",
       "2  gandalfgrismx  155987                       Abyss       1        10.0   \n",
       "3  gandalfgrismx   21569                      Adigma       1         7.0   \n",
       "4  gandalfgrismx   31260                    Agricola       1        10.0   \n",
       "\n",
       "    Rating  \n",
       "0  6.06084  \n",
       "1  7.95069  \n",
       "2  7.32909  \n",
       "3  7.52585  \n",
       "4  7.90633  "
      ]
     },
     "execution_count": 4,
     "metadata": {},
     "output_type": "execute_result"
    }
   ],
   "source": [
    "data_users.head()"
   ]
  },
  {
   "cell_type": "markdown",
   "id": "89c3f06e-4385-4017-a8ba-b2d6122f7612",
   "metadata": {},
   "source": [
    "# Preprocesing"
   ]
  },
  {
   "cell_type": "markdown",
   "id": "0eb008d2-c069-425e-8b38-22e7f4309620",
   "metadata": {},
   "source": [
    "## Users"
   ]
  },
  {
   "cell_type": "code",
   "execution_count": 5,
   "id": "39feb7f5-0ba2-4fcf-9159-2790a802a0b7",
   "metadata": {},
   "outputs": [],
   "source": [
    "prepo_users= data_users.copy()"
   ]
  },
  {
   "cell_type": "markdown",
   "id": "100a882e-3772-4e4a-9784-dcfb7808c712",
   "metadata": {},
   "source": [
    "### Create id user"
   ]
  },
  {
   "cell_type": "code",
   "execution_count": 6,
   "id": "a14c1953-374b-4958-ad96-2b653964805e",
   "metadata": {},
   "outputs": [],
   "source": [
    "dc_userId={key:value for (value,key) in enumerate(list(prepo_users[\"UserName\"].unique()))}"
   ]
  },
  {
   "cell_type": "markdown",
   "id": "ae485364-f306-42f0-bb50-4dd3fb311672",
   "metadata": {},
   "source": [
    "### Missings"
   ]
  },
  {
   "cell_type": "code",
   "execution_count": 7,
   "id": "a190f8d8-b261-45f9-b8f6-c15ec1b965e2",
   "metadata": {},
   "outputs": [],
   "source": [
    "ls_userRating=[]\n",
    "ls_userId=[]\n",
    "for index,row in prepo_users.iterrows():\n",
    "    rating= row[\"UserRating\"]\n",
    "    name= row[\"UserName\"]\n",
    "    if(pd.isna(rating)):\n",
    "        ls_userRating.append(row[\"Rating\"])\n",
    "    else:\n",
    "        ls_userRating.append(rating)\n",
    "    ls_userId.append(dc_userId[name])\n",
    "prepo_users[\"UserRating\"]= ls_userRating\n",
    "prepo_users[\"UserId\"] = ls_userId"
   ]
  },
  {
   "cell_type": "code",
   "execution_count": 8,
   "id": "7b7dc589-77f3-4cdd-b2df-0c2f0f17ab6c",
   "metadata": {},
   "outputs": [
    {
     "data": {
      "text/html": [
       "<div>\n",
       "<style scoped>\n",
       "    .dataframe tbody tr th:only-of-type {\n",
       "        vertical-align: middle;\n",
       "    }\n",
       "\n",
       "    .dataframe tbody tr th {\n",
       "        vertical-align: top;\n",
       "    }\n",
       "\n",
       "    .dataframe thead th {\n",
       "        text-align: right;\n",
       "    }\n",
       "</style>\n",
       "<table border=\"1\" class=\"dataframe\">\n",
       "  <thead>\n",
       "    <tr style=\"text-align: right;\">\n",
       "      <th></th>\n",
       "      <th>UserName</th>\n",
       "      <th>GameId</th>\n",
       "      <th>GameName</th>\n",
       "      <th>Status</th>\n",
       "      <th>UserRating</th>\n",
       "      <th>Rating</th>\n",
       "      <th>UserId</th>\n",
       "    </tr>\n",
       "  </thead>\n",
       "  <tbody>\n",
       "    <tr>\n",
       "      <th>322</th>\n",
       "      <td>Kakiri</td>\n",
       "      <td>165950</td>\n",
       "      <td>Beasty Bar</td>\n",
       "      <td>1</td>\n",
       "      <td>6.32900</td>\n",
       "      <td>6.81474</td>\n",
       "      <td>3</td>\n",
       "    </tr>\n",
       "    <tr>\n",
       "      <th>1834</th>\n",
       "      <td>aleck22</td>\n",
       "      <td>286096</td>\n",
       "      <td>Tapestry</td>\n",
       "      <td>1</td>\n",
       "      <td>8.00000</td>\n",
       "      <td>7.44495</td>\n",
       "      <td>10</td>\n",
       "    </tr>\n",
       "    <tr>\n",
       "      <th>4214</th>\n",
       "      <td>Liboo</td>\n",
       "      <td>95386</td>\n",
       "      <td>Tem-Purr-A</td>\n",
       "      <td>1</td>\n",
       "      <td>6.04165</td>\n",
       "      <td>6.04165</td>\n",
       "      <td>27</td>\n",
       "    </tr>\n",
       "    <tr>\n",
       "      <th>2479</th>\n",
       "      <td>dieterminator</td>\n",
       "      <td>303057</td>\n",
       "      <td>Pan Am</td>\n",
       "      <td>1</td>\n",
       "      <td>9.00000</td>\n",
       "      <td>7.57719</td>\n",
       "      <td>17</td>\n",
       "    </tr>\n",
       "    <tr>\n",
       "      <th>3669</th>\n",
       "      <td>KaeruGames</td>\n",
       "      <td>229220</td>\n",
       "      <td>Santa Maria</td>\n",
       "      <td>1</td>\n",
       "      <td>7.50058</td>\n",
       "      <td>7.50058</td>\n",
       "      <td>24</td>\n",
       "    </tr>\n",
       "  </tbody>\n",
       "</table>\n",
       "</div>"
      ],
      "text/plain": [
       "           UserName  GameId     GameName  Status  UserRating   Rating  UserId\n",
       "322          Kakiri  165950   Beasty Bar       1     6.32900  6.81474       3\n",
       "1834        aleck22  286096     Tapestry       1     8.00000  7.44495      10\n",
       "4214          Liboo   95386   Tem-Purr-A       1     6.04165  6.04165      27\n",
       "2479  dieterminator  303057       Pan Am       1     9.00000  7.57719      17\n",
       "3669     KaeruGames  229220  Santa Maria       1     7.50058  7.50058      24"
      ]
     },
     "execution_count": 8,
     "metadata": {},
     "output_type": "execute_result"
    }
   ],
   "source": [
    "prepo_users.sample(5)"
   ]
  },
  {
   "cell_type": "code",
   "execution_count": 9,
   "id": "19ff990c-159c-4235-81a7-cce52b6a27b6",
   "metadata": {},
   "outputs": [
    {
     "data": {
      "text/plain": [
       "1    0.959539\n",
       "0    0.040461\n",
       "Name: Status, dtype: float64"
      ]
     },
     "execution_count": 9,
     "metadata": {},
     "output_type": "execute_result"
    }
   ],
   "source": [
    "prepo_users[\"Status\"].value_counts()/len(prepo_users)"
   ]
  },
  {
   "cell_type": "code",
   "execution_count": 10,
   "id": "7f6432c5-cd1b-4195-a5ee-380879e65672",
   "metadata": {},
   "outputs": [],
   "source": [
    "df_users= prepo_users[[\"UserId\", \"GameId\", \"UserRating\", \"Status\"]].copy()"
   ]
  },
  {
   "cell_type": "markdown",
   "id": "c892b7f5-8c57-4650-b5fb-7ce9fd9af28c",
   "metadata": {},
   "source": [
    "# Recomendation system"
   ]
  },
  {
   "cell_type": "markdown",
   "id": "36bcbdf4-480c-4a03-9f2d-632b01af9e2c",
   "metadata": {},
   "source": [
    "## Pyspark setup"
   ]
  },
  {
   "cell_type": "markdown",
   "id": "57f55ab0-94dd-42c5-b3dd-7481f5f91821",
   "metadata": {},
   "source": [
    "### Session"
   ]
  },
  {
   "cell_type": "code",
   "execution_count": 58,
   "id": "95f879d9-3d8d-4815-9987-aeb113703797",
   "metadata": {},
   "outputs": [],
   "source": [
    "sc = pyspark.SparkContext(appName =\"clase_datos_masivos\")"
   ]
  },
  {
   "cell_type": "code",
   "execution_count": 59,
   "id": "d260c316-5f2d-42ef-99bc-27745a1daa09",
   "metadata": {},
   "outputs": [],
   "source": [
    "# local[*] usará todos los núcleos disponibles \n",
    "spark = SparkSession.builder\\\n",
    "                    .master('local[*]') \\\n",
    "                    .appName('first_spark') \\\n",
    "                    .getOrCreate()"
   ]
  },
  {
   "cell_type": "markdown",
   "id": "893b2ba9-8158-4767-8fa4-9b19b466d69c",
   "metadata": {},
   "source": [
    "### Get data"
   ]
  },
  {
   "cell_type": "code",
   "execution_count": 60,
   "id": "0a4e769e-a281-4a8b-bb86-7b45a8146b8d",
   "metadata": {},
   "outputs": [
    {
     "name": "stderr",
     "output_type": "stream",
     "text": [
      "/home/bluterplay/.local/lib/python3.8/site-packages/pyspark/sql/pandas/conversion.py:474: FutureWarning: iteritems is deprecated and will be removed in a future version. Use .items instead.\n",
      "  for column, series in pdf.iteritems():\n",
      "/home/bluterplay/.local/lib/python3.8/site-packages/pyspark/sql/pandas/conversion.py:486: FutureWarning: iteritems is deprecated and will be removed in a future version. Use .items instead.\n",
      "  for column, series in pdf.iteritems():\n"
     ]
    }
   ],
   "source": [
    "py_users= spark.createDataFrame(df_users)"
   ]
  },
  {
   "cell_type": "code",
   "execution_count": 61,
   "id": "d9c94f13-9fee-4abe-b626-8303b15b5709",
   "metadata": {},
   "outputs": [
    {
     "name": "stdout",
     "output_type": "stream",
     "text": [
      "+------+------+----------+------+\n",
      "|UserId|GameId|UserRating|Status|\n",
      "+------+------+----------+------+\n",
      "|     0|148494|       7.0|     1|\n",
      "|     0|316377|   7.95069|     1|\n",
      "|     0|155987|      10.0|     1|\n",
      "|     0| 21569|       7.0|     1|\n",
      "|     0| 31260|      10.0|     1|\n",
      "|     0|161970|   7.66002|     1|\n",
      "|     0|124742|      10.0|     1|\n",
      "|     0| 17329|       7.0|     1|\n",
      "|     0| 25643|       9.0|     1|\n",
      "|     0| 12005|       6.0|     1|\n",
      "|     0|230802|       8.0|     1|\n",
      "|     0|287954|       9.0|     1|\n",
      "|     0|302388|       8.0|     1|\n",
      "|     0| 27225|       7.0|     1|\n",
      "|     0|  2453|       8.0|     1|\n",
      "|     0|231696|       6.0|     1|\n",
      "|     0|332386|       8.0|     1|\n",
      "|     0|184921|       8.0|     1|\n",
      "|     0|   822|       8.0|     1|\n",
      "|     0|164127|       9.0|     1|\n",
      "+------+------+----------+------+\n",
      "only showing top 20 rows\n",
      "\n"
     ]
    },
    {
     "name": "stderr",
     "output_type": "stream",
     "text": [
      "                                                                                \r"
     ]
    }
   ],
   "source": [
    "py_users.show()"
   ]
  },
  {
   "cell_type": "code",
   "execution_count": 62,
   "id": "80c061fb-9f14-446f-9345-1b646e01bcfc",
   "metadata": {},
   "outputs": [
    {
     "name": "stdout",
     "output_type": "stream",
     "text": [
      "root\n",
      " |-- UserId: integer (nullable = true)\n",
      " |-- GameId: integer (nullable = true)\n",
      " |-- UserRating: double (nullable = true)\n",
      " |-- Status: integer (nullable = true)\n",
      "\n"
     ]
    }
   ],
   "source": [
    "py_users= py_users.select(py_users.UserId.cast(\"integer\"), py_users.GameId.cast(\"integer\"), py_users.UserRating.cast(\"double\"), py_users.Status.cast(\"integer\"))\n",
    "py_users.printSchema()"
   ]
  },
  {
   "cell_type": "code",
   "execution_count": 63,
   "id": "f5629ed8-6768-40dc-8588-15b96562a7be",
   "metadata": {},
   "outputs": [],
   "source": [
    "py_users.createOrReplaceTempView(\"Users\")"
   ]
  },
  {
   "cell_type": "markdown",
   "id": "2cf8737a-5b40-4be4-afa6-2b1443a75063",
   "metadata": {},
   "source": [
    "## Train test"
   ]
  },
  {
   "cell_type": "code",
   "execution_count": 64,
   "id": "cf35905d-c16c-421d-bcd3-ce91e38604e7",
   "metadata": {},
   "outputs": [],
   "source": [
    "# Una predicción que NO está\n",
    "query = \" select * from Users where Status =1\"\n",
    "py_own= spark.sql(query)"
   ]
  },
  {
   "cell_type": "code",
   "execution_count": 65,
   "id": "7aa6295b-a639-4a58-a97d-e522c31588d2",
   "metadata": {},
   "outputs": [],
   "source": [
    "(train, test) = py_own.randomSplit([0.8, 0.2], seed = 202012)"
   ]
  },
  {
   "cell_type": "markdown",
   "id": "82739cbc-61be-4028-acca-4143d3373610",
   "metadata": {},
   "source": [
    "## ALS"
   ]
  },
  {
   "cell_type": "code",
   "execution_count": 19,
   "id": "fa223759-32d0-44a2-957d-7dec74c5e5d1",
   "metadata": {},
   "outputs": [
    {
     "name": "stdout",
     "output_type": "stream",
     "text": [
      "22/11/23 20:08:54 WARN InstanceBuilder$NativeBLAS: Failed to load implementation from:dev.ludovic.netlib.blas.JNIBLAS\n",
      "22/11/23 20:08:54 WARN InstanceBuilder$NativeBLAS: Failed to load implementation from:dev.ludovic.netlib.blas.ForeignLinkerBLAS\n",
      "22/11/23 20:08:54 WARN InstanceBuilder$NativeLAPACK: Failed to load implementation from:dev.ludovic.netlib.lapack.JNILAPACK\n"
     ]
    }
   ],
   "source": [
    "als= ALS(userCol=\"UserId\", itemCol=\"GameId\", ratingCol= \"UserRating\", coldStartStrategy='drop')\n",
    "model= als.fit(py_own)"
   ]
  },
  {
   "cell_type": "code",
   "execution_count": 20,
   "id": "17eda0b7-9eba-47ed-b3a7-9f5b11f201bf",
   "metadata": {},
   "outputs": [],
   "source": [
    "predictions= model.transform(test)"
   ]
  },
  {
   "cell_type": "code",
   "execution_count": 21,
   "id": "258c19cb-ee7b-4a10-9737-4354556fdf8e",
   "metadata": {},
   "outputs": [
    {
     "name": "stdout",
     "output_type": "stream",
     "text": [
      "+------+------+----------+------+----------+\n",
      "|UserId|GameId|UserRating|Status|prediction|\n",
      "+------+------+----------+------+----------+\n",
      "|     1|128475|       6.0|     1|  6.087182|\n",
      "|     1|169786|      10.0|     1|  9.495859|\n",
      "|     1|176458|       7.0|     1|  6.817619|\n",
      "|     1|193308|       8.0|     1| 7.9615846|\n",
      "|     1|223770|       8.0|     1| 7.9200544|\n",
      "|     1|234190|       6.0|     1|  6.182122|\n",
      "|     1|246693|       7.0|     1|  6.986144|\n",
      "|     1|246912|       7.0|     1| 7.2369866|\n",
      "|     1|256479|       6.0|     1| 5.9881234|\n",
      "|     1|279720|       7.5|     1| 7.4851546|\n",
      "|     1|291457|       8.5|     1|  8.441986|\n",
      "|     1|295947|       8.5|     1|  8.532007|\n",
      "|     1|307997|       8.0|     1|  7.984164|\n",
      "|     1|338460|       8.0|     1|  7.984164|\n",
      "|     3|    13|     8.049|     1|   7.91313|\n",
      "|     3|   188|     6.529|     1| 6.7363462|\n",
      "|     3|  1339|     7.509|     1|  7.506297|\n",
      "|     3|  7688|      4.19|     1| 5.3913918|\n",
      "|     3|  8126|   6.28219|     1| 6.2799277|\n",
      "|     3|  8392|     6.159|     1| 6.1567826|\n",
      "+------+------+----------+------+----------+\n",
      "only showing top 20 rows\n",
      "\n"
     ]
    }
   ],
   "source": [
    "predictions.show()"
   ]
  },
  {
   "cell_type": "code",
   "execution_count": 22,
   "id": "963b2bbb-9ac8-4dd2-8f55-ab55c8fee8e1",
   "metadata": {},
   "outputs": [],
   "source": [
    "evaluator = RegressionEvaluator(metricName=\"rmse\", labelCol=\"UserRating\", predictionCol=\"prediction\")"
   ]
  },
  {
   "cell_type": "code",
   "execution_count": 23,
   "id": "6d06ecdd-c473-44ba-a8ba-0eb3341f7ee8",
   "metadata": {},
   "outputs": [
    {
     "name": "stdout",
     "output_type": "stream",
     "text": [
      "0.21815614854317808\n"
     ]
    }
   ],
   "source": [
    "RMSE_1 = evaluator.evaluate(predictions)\n",
    "print (RMSE_1)"
   ]
  },
  {
   "cell_type": "markdown",
   "id": "93d7ccf6-cf3c-4fa1-a13c-ee9c3e844e18",
   "metadata": {},
   "source": [
    "### Search grid"
   ]
  },
  {
   "cell_type": "code",
   "execution_count": 24,
   "id": "fb21523a-45a0-4546-b97e-dd8bc0437786",
   "metadata": {},
   "outputs": [],
   "source": [
    "als_grid = ALS(userCol=\"UserId\", itemCol=\"GameId\", ratingCol=\"UserRating\", nonnegative = False, implicitPrefs = False, coldStartStrategy=\"drop\")"
   ]
  },
  {
   "cell_type": "code",
   "execution_count": 25,
   "id": "21af8d46-b549-4150-b4ef-5504027508cd",
   "metadata": {},
   "outputs": [],
   "source": [
    "param_grid = ParamGridBuilder() \\\n",
    "            .addGrid(als_grid.rank, [10, 20, 50, 100]) \\\n",
    "            .addGrid(als_grid.maxIter, [10, 15, 20, 25]) \\\n",
    "            .addGrid(als_grid.regParam, [.01, .05, .1, 1, 10]) \\\n",
    "            .build()"
   ]
  },
  {
   "cell_type": "code",
   "execution_count": 26,
   "id": "2c9e2ae1-4103-4905-822d-7ca7248b83b7",
   "metadata": {},
   "outputs": [],
   "source": [
    "evaluator_grid = RegressionEvaluator(metricName=\"rmse\", labelCol=\"UserRating\", predictionCol=\"prediction\")"
   ]
  },
  {
   "cell_type": "code",
   "execution_count": 27,
   "id": "44aae63f-532d-4d45-b491-eab0af036b02",
   "metadata": {},
   "outputs": [],
   "source": [
    "cv = CrossValidator(estimator=als_grid, estimatorParamMaps=param_grid, evaluator=evaluator_grid, numFolds=5)"
   ]
  },
  {
   "cell_type": "code",
   "execution_count": 28,
   "id": "541f2284-64bb-4169-8586-6e9890a30918",
   "metadata": {},
   "outputs": [
    {
     "name": "stderr",
     "output_type": "stream",
     "text": [
      "                                                                                \r"
     ]
    },
    {
     "name": "stdout",
     "output_type": "stream",
     "text": [
      "Elapsed time: 1317.5082001686 seconds.\n"
     ]
    }
   ],
   "source": [
    "start_time = time()\n",
    "\n",
    "model_grid = cv.fit(py_own)\n",
    "\n",
    "end_time = time()\n",
    "elapsed_time = end_time - start_time\n",
    "print(\"Elapsed time: %.10f seconds.\" % elapsed_time)"
   ]
  },
  {
   "cell_type": "markdown",
   "id": "7fa1b083-b9c7-4927-9f60-b7147385fb55",
   "metadata": {},
   "source": [
    "### Best model"
   ]
  },
  {
   "cell_type": "code",
   "execution_count": 29,
   "id": "220f824d-af06-4d61-ac71-efebf209b543",
   "metadata": {},
   "outputs": [],
   "source": [
    "best_model = model_grid.bestModel"
   ]
  },
  {
   "cell_type": "code",
   "execution_count": 30,
   "id": "fd195aea-3007-4542-95b3-5393240e2fb3",
   "metadata": {},
   "outputs": [
    {
     "name": "stdout",
     "output_type": "stream",
     "text": [
      "  Rank: 10\n",
      "  MaxIter: 25\n",
      "  RegParam: 0.1\n"
     ]
    }
   ],
   "source": [
    "print(\"  Rank:\", best_model._java_obj.parent().getRank())\n",
    "print(\"  MaxIter:\", best_model._java_obj.parent().getMaxIter())\n",
    "print(\"  RegParam:\", best_model._java_obj.parent().getRegParam())"
   ]
  },
  {
   "cell_type": "code",
   "execution_count": 66,
   "id": "448c2b35-d868-43ab-aa62-be66157df097",
   "metadata": {
    "scrolled": true,
    "tags": []
   },
   "outputs": [],
   "source": [
    "als= ALS(userCol=\"UserId\", itemCol=\"GameId\", ratingCol= \"UserRating\",coldStartStrategy='drop', rank=10, maxIter=25, regParam=0.1)\n",
    "best_model= als.fit(py_own)"
   ]
  },
  {
   "cell_type": "markdown",
   "id": "f48b2048-4af4-4203-939c-0e2028cb1812",
   "metadata": {},
   "source": [
    "### Validation data"
   ]
  },
  {
   "cell_type": "code",
   "execution_count": 67,
   "id": "3bfc1067-2c33-45b5-a715-fb3c20e312e8",
   "metadata": {},
   "outputs": [],
   "source": [
    "query = \" select * from Users where Status =0\"\n",
    "py_want= spark.sql(query)"
   ]
  },
  {
   "cell_type": "code",
   "execution_count": 68,
   "id": "7089c910-f6a4-49fa-b5c2-974933c2f4f9",
   "metadata": {},
   "outputs": [],
   "source": [
    "validation= best_model.transform(py_want)"
   ]
  },
  {
   "cell_type": "code",
   "execution_count": 69,
   "id": "46602cba-aa5e-41e5-9013-c1188617e256",
   "metadata": {},
   "outputs": [
    {
     "name": "stdout",
     "output_type": "stream",
     "text": [
      "+------+------+----------+------+----------+\n",
      "|UserId|GameId|UserRating|Status|prediction|\n",
      "+------+------+----------+------+----------+\n",
      "|     3|328479|   7.34765|     0|  6.628567|\n",
      "|    17|242574|   7.15744|     0| 7.8516545|\n",
      "|    19| 25292|   7.39475|     0|  8.076303|\n",
      "|    17|157403|       8.0|     0| 6.3622165|\n",
      "|    19|  9217|   7.27961|     0|   6.06106|\n",
      "|    19|103885|   7.65565|     0|  7.432224|\n",
      "|    17|280032|       8.0|     0|  6.764351|\n",
      "|    17|291457|       7.0|     0|   7.49539|\n",
      "|    19|146278|   7.16606|     0| 6.8624606|\n",
      "|    19|172818|   7.38501|     0|  7.184277|\n",
      "|    19|123260|   7.49669|     0| 7.7721505|\n",
      "|    26|248900|   7.00432|     0| 6.6724176|\n",
      "|    17|269144|       9.0|     0| 7.6954675|\n",
      "|    19|205637|   8.15033|     0|  8.174817|\n",
      "|    19|209010|   7.99829|     0|  8.337383|\n",
      "|    19| 98229|   7.27087|     0|  6.144598|\n",
      "|    17|127784|       8.0|     0|  5.496367|\n",
      "|    19|   760|   7.41117|     0| 7.2617745|\n",
      "|    19|146021|   7.76739|     0| 7.3819532|\n",
      "|    17|286096|       8.0|     0| 6.7995267|\n",
      "+------+------+----------+------+----------+\n",
      "only showing top 20 rows\n",
      "\n"
     ]
    }
   ],
   "source": [
    "validation.show()"
   ]
  },
  {
   "cell_type": "code",
   "execution_count": 37,
   "id": "9e9eb54b-36f1-4f49-8a2c-a93aa63af53b",
   "metadata": {},
   "outputs": [],
   "source": [
    "RMSE = evaluator.evaluate(validation)"
   ]
  },
  {
   "cell_type": "code",
   "execution_count": 38,
   "id": "990e79d9-f71c-4db0-a6c9-952be5b012f0",
   "metadata": {},
   "outputs": [
    {
     "name": "stdout",
     "output_type": "stream",
     "text": [
      "0.9672019239705215\n"
     ]
    }
   ],
   "source": [
    "print(RMSE)"
   ]
  },
  {
   "cell_type": "markdown",
   "id": "b5ab2bf8-1856-49a8-baf8-0db588eb79c2",
   "metadata": {},
   "source": [
    "## Save Model"
   ]
  },
  {
   "cell_type": "code",
   "execution_count": 46,
   "id": "a0844b78-7adb-49fa-b9a9-e602cba7a809",
   "metadata": {},
   "outputs": [],
   "source": [
    "path = \"als_model\""
   ]
  },
  {
   "cell_type": "code",
   "execution_count": 51,
   "id": "f8c28fe2-ae6a-4de1-9e64-1a708c9e00a2",
   "metadata": {},
   "outputs": [],
   "source": [
    "best_model.save(\"best.model\")"
   ]
  },
  {
   "cell_type": "code",
   "execution_count": 79,
   "id": "96cc6d48-b71e-4897-a498-6b2b96f58983",
   "metadata": {},
   "outputs": [],
   "source": [
    "same=ALSModel.load(\"best.model\")"
   ]
  },
  {
   "cell_type": "code",
   "execution_count": 84,
   "id": "6858bdd0-b247-4d2b-8f0f-30d74fc9313e",
   "metadata": {},
   "outputs": [],
   "source": [
    "spark.stop()"
   ]
  },
  {
   "cell_type": "code",
   "execution_count": null,
   "id": "91ff179c-4e17-41f1-9169-3a3cc0052f1b",
   "metadata": {},
   "outputs": [],
   "source": []
  }
 ],
 "metadata": {
  "kernelspec": {
   "display_name": "Python 3 (ipykernel)",
   "language": "python",
   "name": "python3"
  },
  "language_info": {
   "codemirror_mode": {
    "name": "ipython",
    "version": 3
   },
   "file_extension": ".py",
   "mimetype": "text/x-python",
   "name": "python",
   "nbconvert_exporter": "python",
   "pygments_lexer": "ipython3",
   "version": "3.8.10"
  }
 },
 "nbformat": 4,
 "nbformat_minor": 5
}
