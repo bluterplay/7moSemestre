{
 "cells": [
  {
   "cell_type": "markdown",
   "id": "ab51a8cf-d971-4f8b-a316-abb15a3a173f",
   "metadata": {},
   "source": [
    "# Repaso Lineal"
   ]
  },
  {
   "cell_type": "markdown",
   "id": "b5a6d039-5228-48e9-9ea6-6deb2032ae35",
   "metadata": {},
   "source": [
    "## Rango y rotaciones"
   ]
  },
  {
   "cell_type": "code",
   "execution_count": 1,
   "id": "d07ce6c0-82be-4ba6-9fd9-b0cfbb679721",
   "metadata": {},
   "outputs": [],
   "source": [
    "import numpy as np"
   ]
  },
  {
   "cell_type": "code",
   "execution_count": 3,
   "id": "1dfeb458-5da8-49a4-84a2-f178110d726f",
   "metadata": {},
   "outputs": [],
   "source": [
    "A = [[1,2,1],[-2,-3,1],[3,5,0]]"
   ]
  },
  {
   "cell_type": "code",
   "execution_count": 4,
   "id": "a8eea31d-71af-48ba-9a5f-d1e9f8b56a31",
   "metadata": {},
   "outputs": [
    {
     "data": {
      "text/plain": [
       "2"
      ]
     },
     "execution_count": 4,
     "metadata": {},
     "output_type": "execute_result"
    }
   ],
   "source": [
    "rango = np.linalg.matrix_rank(A)\n",
    "rango"
   ]
  },
  {
   "cell_type": "code",
   "execution_count": 6,
   "id": "f55b0e1c-0617-4ad5-a948-664a458d7dc4",
   "metadata": {},
   "outputs": [
    {
     "data": {
      "text/plain": [
       "1.3322676295501906e-15"
      ]
     },
     "execution_count": 6,
     "metadata": {},
     "output_type": "execute_result"
    }
   ],
   "source": [
    "determinante = np.linalg.det(A)\n",
    "determinante"
   ]
  },
  {
   "cell_type": "code",
   "execution_count": 12,
   "id": "857c4532-3db9-4958-891e-135220cd49a6",
   "metadata": {},
   "outputs": [],
   "source": [
    "a= np.pi/4\n",
    "r = [[np.cos(a),- np.sin(a)], [np.sin(a), np.cos(a)]]\n",
    "x= [[1],[0]]"
   ]
  },
  {
   "cell_type": "code",
   "execution_count": 12,
   "id": "167ef5c2-9770-42d8-8329-9da73312e18b",
   "metadata": {},
   "outputs": [
    {
     "data": {
      "text/plain": [
       "array([[0.70710678],\n",
       "       [0.70710678]])"
      ]
     },
     "execution_count": 12,
     "metadata": {},
     "output_type": "execute_result"
    }
   ],
   "source": [
    "np.dot(r,x)"
   ]
  },
  {
   "cell_type": "code",
   "execution_count": 13,
   "id": "17a8dff1-799f-468e-9c88-cde5b953801a",
   "metadata": {},
   "outputs": [
    {
     "data": {
      "text/plain": [
       "1.0"
      ]
     },
     "execution_count": 13,
     "metadata": {},
     "output_type": "execute_result"
    }
   ],
   "source": [
    "np.linalg.det(r)"
   ]
  },
  {
   "cell_type": "markdown",
   "id": "1cc7c336-db9d-47ff-86ec-673e08e553bc",
   "metadata": {},
   "source": [
    "## Matrices Cuadradas $A^t A= AA^t$"
   ]
  },
  {
   "cell_type": "code",
   "execution_count": 3,
   "id": "810e14d3-3dec-4279-b1f2-e64739f00d85",
   "metadata": {},
   "outputs": [],
   "source": [
    "B= [[1,3,2], [3,5,1], [2,1,8]]"
   ]
  },
  {
   "cell_type": "code",
   "execution_count": 4,
   "id": "7a528382-57ce-4d8c-9fa0-ccf8b7e22905",
   "metadata": {},
   "outputs": [],
   "source": [
    "C=np.dot(np.transpose(B),B)\n",
    "D = np.dot(B,np.transpose(B))"
   ]
  },
  {
   "cell_type": "code",
   "execution_count": 5,
   "id": "759a34d8-6634-4f7c-9f93-4fd839acec2e",
   "metadata": {},
   "outputs": [
    {
     "data": {
      "text/plain": [
       "array([[ True,  True,  True],\n",
       "       [ True,  True,  True],\n",
       "       [ True,  True,  True]])"
      ]
     },
     "execution_count": 5,
     "metadata": {},
     "output_type": "execute_result"
    }
   ],
   "source": [
    "C==D"
   ]
  },
  {
   "cell_type": "code",
   "execution_count": 10,
   "id": "2c2d7521-eb26-4951-ae2d-1db53c38b7d0",
   "metadata": {},
   "outputs": [],
   "source": [
    "A = [[2,0],[0,2]]\n",
    "x= [[1],[7]]"
   ]
  },
  {
   "cell_type": "code",
   "execution_count": 11,
   "id": "d3e52de5-ba4f-4d70-a5a9-8532d151a809",
   "metadata": {},
   "outputs": [
    {
     "data": {
      "text/plain": [
       "2.0"
      ]
     },
     "execution_count": 11,
     "metadata": {},
     "output_type": "execute_result"
    }
   ],
   "source": [
    "np.linalg.norm(np.dot(A,x))/ np.linalg.norm(x)"
   ]
  },
  {
   "cell_type": "code",
   "execution_count": 13,
   "id": "51f47e8c-aff5-4746-8d02-a9b4ceae7c01",
   "metadata": {},
   "outputs": [
    {
     "data": {
      "text/plain": [
       "array([[ 1.00000000e+00, -4.26642159e-17],\n",
       "       [-4.26642159e-17,  1.00000000e+00]])"
      ]
     },
     "execution_count": 13,
     "metadata": {},
     "output_type": "execute_result"
    }
   ],
   "source": [
    "np.dot(np.transpose(r),r)"
   ]
  },
  {
   "cell_type": "markdown",
   "id": "7e2e36d6-2ae6-41d2-9d1d-539faefa3818",
   "metadata": {},
   "source": [
    "## Datos Iris "
   ]
  },
  {
   "cell_type": "code",
   "execution_count": 76,
   "id": "3c5fa371-f3d2-4265-9d71-a48dfe5f9d4d",
   "metadata": {},
   "outputs": [],
   "source": [
    "from sklearn.datasets import load_iris "
   ]
  },
  {
   "cell_type": "code",
   "execution_count": 16,
   "id": "f5417434-2f5d-426d-8bf7-e88341b0a21e",
   "metadata": {},
   "outputs": [],
   "source": [
    "data = load_iris()"
   ]
  },
  {
   "cell_type": "code",
   "execution_count": 63,
   "id": "d7ab6e0c-0bf5-4c1c-bf28-8b80c4bfe806",
   "metadata": {},
   "outputs": [],
   "source": [
    "A = data.data"
   ]
  },
  {
   "cell_type": "markdown",
   "id": "783ad763-60d4-44ce-a415-c0ea0eadf239",
   "metadata": {},
   "source": [
    "### Covarianza"
   ]
  },
  {
   "cell_type": "code",
   "execution_count": 64,
   "id": "89e58d41-8c8e-4493-a0dc-be2168786c9a",
   "metadata": {},
   "outputs": [],
   "source": [
    "for i in range(4):\n",
    "    A[:,i] = A[:,i]- np.mean(A[:,i])"
   ]
  },
  {
   "cell_type": "code",
   "execution_count": 71,
   "id": "d13af650-289b-4881-aa8d-1904c0c36c39",
   "metadata": {},
   "outputs": [],
   "source": [
    "cov= np.dot(np.transpose(A),A)"
   ]
  },
  {
   "cell_type": "code",
   "execution_count": 72,
   "id": "97508507-9a0a-468a-8b64-7223f293a168",
   "metadata": {},
   "outputs": [],
   "source": [
    "cov *= (1/149)"
   ]
  },
  {
   "cell_type": "code",
   "execution_count": 73,
   "id": "a874bff1-d776-4abc-8310-42d88d72fbb4",
   "metadata": {},
   "outputs": [
    {
     "data": {
      "text/plain": [
       "array([[ 0.68569351, -0.042434  ,  1.27431544,  0.51627069],\n",
       "       [-0.042434  ,  0.18997942, -0.32965638, -0.12163937],\n",
       "       [ 1.27431544, -0.32965638,  3.11627785,  1.2956094 ],\n",
       "       [ 0.51627069, -0.12163937,  1.2956094 ,  0.58100626]])"
      ]
     },
     "execution_count": 73,
     "metadata": {},
     "output_type": "execute_result"
    }
   ],
   "source": [
    "cov"
   ]
  },
  {
   "cell_type": "markdown",
   "id": "27982e0d-d0c8-4b0d-9f1c-50cb6a9432f7",
   "metadata": {},
   "source": [
    "### Einge vectores y valores"
   ]
  },
  {
   "cell_type": "code",
   "execution_count": 74,
   "id": "49394b1a-3614-4d1a-b380-bf02055f5982",
   "metadata": {},
   "outputs": [],
   "source": [
    "l,e= np.linalg.eig(cov)"
   ]
  },
  {
   "cell_type": "code",
   "execution_count": 75,
   "id": "ffcf076c-c406-4897-858c-f5071dcbd4a6",
   "metadata": {},
   "outputs": [
    {
     "data": {
      "text/plain": [
       "(array([4.22824171, 0.24267075, 0.0782095 , 0.02383509]),\n",
       " array([[ 0.36138659, -0.65658877, -0.58202985,  0.31548719],\n",
       "        [-0.08452251, -0.73016143,  0.59791083, -0.3197231 ],\n",
       "        [ 0.85667061,  0.17337266,  0.07623608, -0.47983899],\n",
       "        [ 0.3582892 ,  0.07548102,  0.54583143,  0.75365743]]))"
      ]
     },
     "execution_count": 75,
     "metadata": {},
     "output_type": "execute_result"
    }
   ],
   "source": [
    "l,e"
   ]
  },
  {
   "cell_type": "code",
   "execution_count": null,
   "id": "cea17ad3-b109-477b-b6b2-323e45cd6039",
   "metadata": {},
   "outputs": [],
   "source": []
  },
  {
   "cell_type": "markdown",
   "id": "f673808c-ff79-420b-bb6c-cddb913ee6cf",
   "metadata": {},
   "source": [
    "### $e^te$"
   ]
  },
  {
   "cell_type": "code",
   "execution_count": 89,
   "id": "f941ddc7-eef1-4c97-9cb8-d2afac5fce2a",
   "metadata": {},
   "outputs": [
    {
     "data": {
      "text/plain": [
       "array([[ 1.00000000e+00,  4.62529883e-16, -1.86576071e-16,\n",
       "         7.90887194e-17],\n",
       "       [ 4.62529883e-16,  1.00000000e+00, -8.72605785e-16,\n",
       "         1.19542195e-15],\n",
       "       [-1.86576071e-16, -8.72605785e-16,  1.00000000e+00,\n",
       "        -3.87091773e-15],\n",
       "       [ 7.90887194e-17,  1.19542195e-15, -3.87091773e-15,\n",
       "         1.00000000e+00]])"
      ]
     },
     "execution_count": 89,
     "metadata": {},
     "output_type": "execute_result"
    }
   ],
   "source": [
    "Q=np.dot(np.transpose(e),e)\n",
    "Q"
   ]
  },
  {
   "cell_type": "markdown",
   "id": "6696c582-7435-44a0-a118-1d2fa6c7cdc4",
   "metadata": {},
   "source": [
    "### Det(cov) vs $\\Pi \\lambda _i$"
   ]
  },
  {
   "cell_type": "code",
   "execution_count": 85,
   "id": "4d3b4b3a-e2b5-412d-ab0f-7e47e8bf31cb",
   "metadata": {},
   "outputs": [],
   "source": [
    "determinate= np.linalg.det(cov)\n",
    "producto= np.prod(l)"
   ]
  },
  {
   "cell_type": "code",
   "execution_count": 88,
   "id": "1eaea303-17dd-4e1f-8fa9-e611f701597f",
   "metadata": {},
   "outputs": [
    {
     "data": {
      "text/plain": [
       "(0.0019127296684331775, 0.0019127296684331738)"
      ]
     },
     "execution_count": 88,
     "metadata": {},
     "output_type": "execute_result"
    }
   ],
   "source": [
    "determinate,producto"
   ]
  },
  {
   "cell_type": "markdown",
   "id": "c1147f6c-ef22-4fcb-a8a9-ad3451f9a62c",
   "metadata": {},
   "source": [
    "### Diagonalizacion $Cov=Q\\lambda IQ^t$"
   ]
  },
  {
   "cell_type": "code",
   "execution_count": 94,
   "id": "08674d0e-0f5f-48e9-a238-06f724faf005",
   "metadata": {},
   "outputs": [
    {
     "data": {
      "text/plain": [
       "array([[4.22824171, 0.        , 0.        , 0.        ],\n",
       "       [0.        , 0.24267075, 0.        , 0.        ],\n",
       "       [0.        , 0.        , 0.0782095 , 0.        ],\n",
       "       [0.        , 0.        , 0.        , 0.02383509]])"
      ]
     },
     "execution_count": 94,
     "metadata": {},
     "output_type": "execute_result"
    }
   ],
   "source": [
    "diagonal = np.identity(4)\n",
    "for i in range(4):\n",
    "    diagonal[i][i]*= l[i]\n",
    "diagonal"
   ]
  },
  {
   "cell_type": "code",
   "execution_count": 98,
   "id": "0993aedc-9117-490d-ad57-49d0211aa12b",
   "metadata": {},
   "outputs": [],
   "source": [
    "covDia= np.dot(np.dot(e,diagonal), np.transpose(e))"
   ]
  },
  {
   "cell_type": "code",
   "execution_count": 99,
   "id": "0a2c6e82-75b4-4b06-a83a-3ad86b8e2a35",
   "metadata": {},
   "outputs": [
    {
     "data": {
      "text/plain": [
       "array([[ 0.68569351, -0.042434  ,  1.27431544,  0.51627069],\n",
       "       [-0.042434  ,  0.18997942, -0.32965638, -0.12163937],\n",
       "       [ 1.27431544, -0.32965638,  3.11627785,  1.2956094 ],\n",
       "       [ 0.51627069, -0.12163937,  1.2956094 ,  0.58100626]])"
      ]
     },
     "execution_count": 99,
     "metadata": {},
     "output_type": "execute_result"
    }
   ],
   "source": [
    "covDia"
   ]
  },
  {
   "cell_type": "code",
   "execution_count": 97,
   "id": "8fc574b6-49c1-4222-b249-b148cee16ac2",
   "metadata": {},
   "outputs": [
    {
     "data": {
      "text/plain": [
       "array([[ 0.68569351, -0.042434  ,  1.27431544,  0.51627069],\n",
       "       [-0.042434  ,  0.18997942, -0.32965638, -0.12163937],\n",
       "       [ 1.27431544, -0.32965638,  3.11627785,  1.2956094 ],\n",
       "       [ 0.51627069, -0.12163937,  1.2956094 ,  0.58100626]])"
      ]
     },
     "execution_count": 97,
     "metadata": {},
     "output_type": "execute_result"
    }
   ],
   "source": [
    "cov"
   ]
  },
  {
   "cell_type": "markdown",
   "id": "1ed37aac-2cf7-4a64-b34b-e5ac6c65ba36",
   "metadata": {},
   "source": [
    "#### Invirtiendo al orden"
   ]
  },
  {
   "cell_type": "code",
   "execution_count": 100,
   "id": "957fc8c4-64a8-495f-b063-d22c738f2c9c",
   "metadata": {},
   "outputs": [],
   "source": [
    "covDiaIn= np.dot(np.dot(np.transpose(e),diagonal), e)"
   ]
  },
  {
   "cell_type": "code",
   "execution_count": 101,
   "id": "36d107b2-9bd9-4f7d-8636-bd37be524389",
   "metadata": {},
   "outputs": [
    {
     "data": {
      "text/plain": [
       "array([[ 0.61439964, -0.97605028, -0.8918537 ,  0.46291876],\n",
       "       [-0.97605028,  1.95469534,  1.5119132 , -0.82435966],\n",
       "       [-0.8918537 ,  1.5119132 ,  1.5266638 , -0.81584859],\n",
       "       [ 0.46291876, -0.82435966, -0.81584859,  0.47719827]])"
      ]
     },
     "execution_count": 101,
     "metadata": {},
     "output_type": "execute_result"
    }
   ],
   "source": [
    "covDiaIn"
   ]
  },
  {
   "cell_type": "markdown",
   "id": "e2d2087a-1ed3-465b-b0dc-25ec6fa7b2ca",
   "metadata": {},
   "source": [
    "## Ejemplo triangular"
   ]
  },
  {
   "cell_type": "code",
   "execution_count": 107,
   "id": "6ac9f8f4-0944-4ef6-a2f3-340290b6101e",
   "metadata": {},
   "outputs": [],
   "source": [
    "A = [[1,2,3], [0,5,7], [0,0,3]]"
   ]
  },
  {
   "cell_type": "code",
   "execution_count": 103,
   "id": "b7a83c7d-b15a-4ca0-a237-d02477b6deca",
   "metadata": {},
   "outputs": [],
   "source": [
    "l,e = np.linalg.eig(A)"
   ]
  },
  {
   "cell_type": "code",
   "execution_count": 104,
   "id": "4d2d5ca3-a043-4d06-a731-ee702f0d4970",
   "metadata": {},
   "outputs": [
    {
     "data": {
      "text/plain": [
       "(array([1., 5., 3.]),\n",
       " array([[ 1.        ,  0.4472136 , -0.48154341],\n",
       "        [ 0.        ,  0.89442719, -0.84270097],\n",
       "        [ 0.        ,  0.        ,  0.24077171]]))"
      ]
     },
     "execution_count": 104,
     "metadata": {},
     "output_type": "execute_result"
    }
   ],
   "source": [
    "l,e"
   ]
  },
  {
   "cell_type": "markdown",
   "id": "5486176b-1654-479a-bff7-a9f0b063ff8f",
   "metadata": {},
   "source": [
    "Los eingevalores son igual a la diagonal"
   ]
  },
  {
   "cell_type": "code",
   "execution_count": null,
   "id": "7dbd7249-d87a-43cf-baea-0982e7064bcf",
   "metadata": {},
   "outputs": [],
   "source": []
  }
 ],
 "metadata": {
  "kernelspec": {
   "display_name": "jupenv37",
   "language": "python",
   "name": "jupenv37"
  },
  "language_info": {
   "codemirror_mode": {
    "name": "ipython",
    "version": 3
   },
   "file_extension": ".py",
   "mimetype": "text/x-python",
   "name": "python",
   "nbconvert_exporter": "python",
   "pygments_lexer": "ipython3",
   "version": "3.9.6"
  }
 },
 "nbformat": 4,
 "nbformat_minor": 5
}
