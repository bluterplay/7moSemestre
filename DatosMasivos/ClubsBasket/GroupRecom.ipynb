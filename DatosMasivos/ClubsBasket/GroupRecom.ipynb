{
 "cells": [
  {
   "cell_type": "markdown",
   "id": "8ad91488-fac2-48e7-8596-931358df382e",
   "metadata": {},
   "source": [
    "# Modules"
   ]
  },
  {
   "cell_type": "code",
   "execution_count": 3,
   "id": "dcb0a9f5-295f-45c6-b16e-e0454312db20",
   "metadata": {},
   "outputs": [],
   "source": [
    "import pandas as pd\n",
    "import numpy as np\n",
    "from mlxtend.frequent_patterns import apriori, association_rules"
   ]
  },
  {
   "cell_type": "markdown",
   "id": "c296e59f-0c91-4fdf-b080-aaf0200ef9e0",
   "metadata": {},
   "source": [
    "# Data"
   ]
  },
  {
   "cell_type": "code",
   "execution_count": 4,
   "id": "1bff315c-d1b2-4ec2-964b-cc9126ee8def",
   "metadata": {},
   "outputs": [
    {
     "name": "stderr",
     "output_type": "stream",
     "text": [
      "/tmp/ipykernel_311/1274091182.py:1: DtypeWarning: Columns (2,4) have mixed types. Specify dtype option on import or set low_memory=False.\n",
      "  dataM= pd.read_csv(\"members.csv\")\n"
     ]
    }
   ],
   "source": [
    "dataM= pd.read_csv(\"members.csv\")"
   ]
  },
  {
   "cell_type": "markdown",
   "id": "3ef4d2e3-9334-43b8-a101-dcc89b9961ae",
   "metadata": {},
   "source": [
    "Marca un advertencia por tener valores mezclados, pero en temas de carga de los datos no se generá complejidad mayor"
   ]
  },
  {
   "cell_type": "code",
   "execution_count": 5,
   "id": "0fbbeb19-e3e4-4ebd-bc48-268fa19dcaba",
   "metadata": {},
   "outputs": [
    {
     "data": {
      "text/html": [
       "<div>\n",
       "<style scoped>\n",
       "    .dataframe tbody tr th:only-of-type {\n",
       "        vertical-align: middle;\n",
       "    }\n",
       "\n",
       "    .dataframe tbody tr th {\n",
       "        vertical-align: top;\n",
       "    }\n",
       "\n",
       "    .dataframe thead th {\n",
       "        text-align: right;\n",
       "    }\n",
       "</style>\n",
       "<table border=\"1\" class=\"dataframe\">\n",
       "  <thead>\n",
       "    <tr style=\"text-align: right;\">\n",
       "      <th></th>\n",
       "      <th>id</th>\n",
       "      <th>name</th>\n",
       "      <th>joined</th>\n",
       "      <th>topics</th>\n",
       "      <th>groupId</th>\n",
       "      <th>Unnamed: 5</th>\n",
       "    </tr>\n",
       "  </thead>\n",
       "  <tbody>\n",
       "    <tr>\n",
       "      <th>0</th>\n",
       "      <td>173425062</td>\n",
       "      <td>Aaron</td>\n",
       "      <td>1.46854E+12</td>\n",
       "      <td>223;8652;9696;10099;10306;10454;10581;15236;15...</td>\n",
       "      <td>10027652</td>\n",
       "      <td>NaN</td>\n",
       "    </tr>\n",
       "    <tr>\n",
       "      <th>1</th>\n",
       "      <td>73726832</td>\n",
       "      <td>Aaron Elligsen</td>\n",
       "      <td>1.45067E+12</td>\n",
       "      <td>188;455;563;659;789;3833;7029;15582;19243;2150...</td>\n",
       "      <td>10027652</td>\n",
       "      <td>NaN</td>\n",
       "    </tr>\n",
       "    <tr>\n",
       "      <th>2</th>\n",
       "      <td>185309112</td>\n",
       "      <td>Aaron McGeever</td>\n",
       "      <td>1.4662E+12</td>\n",
       "      <td>85;317;3833;6960;15083;15360;18296;18864;20629...</td>\n",
       "      <td>10027652</td>\n",
       "      <td>NaN</td>\n",
       "    </tr>\n",
       "    <tr>\n",
       "      <th>3</th>\n",
       "      <td>185045966</td>\n",
       "      <td>Aaron Reisman</td>\n",
       "      <td>1.45258E+12</td>\n",
       "      <td>659;3833;9696;10209;16216;48471;108403;5938;78...</td>\n",
       "      <td>10027652</td>\n",
       "      <td>NaN</td>\n",
       "    </tr>\n",
       "    <tr>\n",
       "      <th>4</th>\n",
       "      <td>121471852</td>\n",
       "      <td>Aaron Strick</td>\n",
       "      <td>1.42792E+12</td>\n",
       "      <td>24099;52235;89730;608312;1432472;9696;10290;10579</td>\n",
       "      <td>10027652</td>\n",
       "      <td>NaN</td>\n",
       "    </tr>\n",
       "  </tbody>\n",
       "</table>\n",
       "</div>"
      ],
      "text/plain": [
       "          id            name       joined  \\\n",
       "0  173425062           Aaron  1.46854E+12   \n",
       "1   73726832  Aaron Elligsen  1.45067E+12   \n",
       "2  185309112  Aaron McGeever   1.4662E+12   \n",
       "3  185045966   Aaron Reisman  1.45258E+12   \n",
       "4  121471852    Aaron Strick  1.42792E+12   \n",
       "\n",
       "                                              topics   groupId  Unnamed: 5  \n",
       "0  223;8652;9696;10099;10306;10454;10581;15236;15...  10027652         NaN  \n",
       "1  188;455;563;659;789;3833;7029;15582;19243;2150...  10027652         NaN  \n",
       "2  85;317;3833;6960;15083;15360;18296;18864;20629...  10027652         NaN  \n",
       "3  659;3833;9696;10209;16216;48471;108403;5938;78...  10027652         NaN  \n",
       "4  24099;52235;89730;608312;1432472;9696;10290;10579  10027652         NaN  "
      ]
     },
     "execution_count": 5,
     "metadata": {},
     "output_type": "execute_result"
    }
   ],
   "source": [
    "dataM.head()"
   ]
  },
  {
   "cell_type": "code",
   "execution_count": 6,
   "id": "8d55c908-baf9-4589-a2b4-4f4d6b732ae0",
   "metadata": {},
   "outputs": [],
   "source": [
    "dataM.drop(columns='Unnamed: 5',inplace=True)"
   ]
  },
  {
   "cell_type": "code",
   "execution_count": 7,
   "id": "18ed43e0-35fa-4bf6-9e9a-9c8c8ad82500",
   "metadata": {},
   "outputs": [],
   "source": [
    "dataG= pd.read_csv(\"groups.csv\")"
   ]
  },
  {
   "cell_type": "code",
   "execution_count": 8,
   "id": "2f5229e6-439f-4fa7-8da3-b68cfebf5f48",
   "metadata": {},
   "outputs": [
    {
     "data": {
      "text/html": [
       "<div>\n",
       "<style scoped>\n",
       "    .dataframe tbody tr th:only-of-type {\n",
       "        vertical-align: middle;\n",
       "    }\n",
       "\n",
       "    .dataframe tbody tr th {\n",
       "        vertical-align: top;\n",
       "    }\n",
       "\n",
       "    .dataframe thead th {\n",
       "        text-align: right;\n",
       "    }\n",
       "</style>\n",
       "<table border=\"1\" class=\"dataframe\">\n",
       "  <thead>\n",
       "    <tr style=\"text-align: right;\">\n",
       "      <th></th>\n",
       "      <th>id</th>\n",
       "      <th>name</th>\n",
       "      <th>urlname</th>\n",
       "      <th>link</th>\n",
       "      <th>rating</th>\n",
       "      <th>created</th>\n",
       "      <th>description</th>\n",
       "      <th>organiserName</th>\n",
       "      <th>organiserMemberId</th>\n",
       "    </tr>\n",
       "  </thead>\n",
       "  <tbody>\n",
       "    <tr>\n",
       "      <th>0</th>\n",
       "      <td>1174738</td>\n",
       "      <td>The San Francisco WordPress Meetup</td>\n",
       "      <td>wordpress-sf</td>\n",
       "      <td>http://www.meetup.com/wordpress-sf/</td>\n",
       "      <td>4.68</td>\n",
       "      <td>1.212370e+12</td>\n",
       "      <td>&lt;p&gt;This meetup is all about the 'Press, from b...</td>\n",
       "      <td>Zach Berke</td>\n",
       "      <td>11611445.0</td>\n",
       "    </tr>\n",
       "    <tr>\n",
       "      <th>1</th>\n",
       "      <td>14080012</td>\n",
       "      <td>Bay Area Music Tech Meetup</td>\n",
       "      <td>Bay-Area-Music-Tech-Meetup</td>\n",
       "      <td>http://www.meetup.com/Bay-Area-Music-Tech-Meetup/</td>\n",
       "      <td>0.00</td>\n",
       "      <td>1.398340e+12</td>\n",
       "      <td>&lt;p&gt;&lt;span&gt;Concentrating on the confluence of Mu...</td>\n",
       "      <td>Darren Majewski</td>\n",
       "      <td>63615542.0</td>\n",
       "    </tr>\n",
       "    <tr>\n",
       "      <th>2</th>\n",
       "      <td>19103758</td>\n",
       "      <td>Sports Hackathon</td>\n",
       "      <td>SportsHackathon</td>\n",
       "      <td>http://www.meetup.com/SportsHackathon/</td>\n",
       "      <td>0.00</td>\n",
       "      <td>1.447050e+12</td>\n",
       "      <td>&lt;p&gt;&lt;span&gt;Sports Hackathon is a series of event...</td>\n",
       "      <td>Akif Malik</td>\n",
       "      <td>192033339.0</td>\n",
       "    </tr>\n",
       "    <tr>\n",
       "      <th>3</th>\n",
       "      <td>18960403</td>\n",
       "      <td>Incubation Station</td>\n",
       "      <td>Incubationstation</td>\n",
       "      <td>http://www.meetup.com/Incubationstation/</td>\n",
       "      <td>5.00</td>\n",
       "      <td>1.443020e+12</td>\n",
       "      <td>&lt;p&gt;Being an entrepreneur is tough... we all kn...</td>\n",
       "      <td>Josh Jermaine</td>\n",
       "      <td>14125597.0</td>\n",
       "    </tr>\n",
       "    <tr>\n",
       "      <th>4</th>\n",
       "      <td>10524692</td>\n",
       "      <td>Docker Palo Alto</td>\n",
       "      <td>Docker-Palo-Alto</td>\n",
       "      <td>http://www.meetup.com/Docker-Palo-Alto/</td>\n",
       "      <td>4.62</td>\n",
       "      <td>1.380740e+12</td>\n",
       "      <td>&lt;p&gt;Meet other developers and ops engineers usi...</td>\n",
       "      <td>Moby Dock</td>\n",
       "      <td>114766932.0</td>\n",
       "    </tr>\n",
       "  </tbody>\n",
       "</table>\n",
       "</div>"
      ],
      "text/plain": [
       "         id                                name                     urlname  \\\n",
       "0   1174738  The San Francisco WordPress Meetup                wordpress-sf   \n",
       "1  14080012          Bay Area Music Tech Meetup  Bay-Area-Music-Tech-Meetup   \n",
       "2  19103758                    Sports Hackathon             SportsHackathon   \n",
       "3  18960403                  Incubation Station           Incubationstation   \n",
       "4  10524692                    Docker Palo Alto            Docker-Palo-Alto   \n",
       "\n",
       "                                                link  rating       created  \\\n",
       "0                http://www.meetup.com/wordpress-sf/    4.68  1.212370e+12   \n",
       "1  http://www.meetup.com/Bay-Area-Music-Tech-Meetup/    0.00  1.398340e+12   \n",
       "2             http://www.meetup.com/SportsHackathon/    0.00  1.447050e+12   \n",
       "3           http://www.meetup.com/Incubationstation/    5.00  1.443020e+12   \n",
       "4            http://www.meetup.com/Docker-Palo-Alto/    4.62  1.380740e+12   \n",
       "\n",
       "                                         description    organiserName  \\\n",
       "0  <p>This meetup is all about the 'Press, from b...       Zach Berke   \n",
       "1  <p><span>Concentrating on the confluence of Mu...  Darren Majewski   \n",
       "2  <p><span>Sports Hackathon is a series of event...       Akif Malik   \n",
       "3  <p>Being an entrepreneur is tough... we all kn...    Josh Jermaine   \n",
       "4  <p>Meet other developers and ops engineers usi...        Moby Dock   \n",
       "\n",
       "   organiserMemberId  \n",
       "0         11611445.0  \n",
       "1         63615542.0  \n",
       "2        192033339.0  \n",
       "3         14125597.0  \n",
       "4        114766932.0  "
      ]
     },
     "execution_count": 8,
     "metadata": {},
     "output_type": "execute_result"
    }
   ],
   "source": [
    "dataG.head()"
   ]
  },
  {
   "cell_type": "markdown",
   "id": "c733a464-d875-408f-8b93-5a6bb0e0ac80",
   "metadata": {},
   "source": [
    "# Exploratory data analysis"
   ]
  },
  {
   "cell_type": "markdown",
   "id": "b52f4635-49bc-4be2-b929-24d2b6c33934",
   "metadata": {},
   "source": [
    "## Missings"
   ]
  },
  {
   "cell_type": "code",
   "execution_count": 10,
   "id": "cc052b05-a410-4c47-95d3-87c66f58b200",
   "metadata": {},
   "outputs": [
    {
     "data": {
      "text/plain": [
       "id                   0.000000\n",
       "name                 0.000000\n",
       "urlname              0.000000\n",
       "link                 0.000000\n",
       "rating               0.000000\n",
       "created              0.000000\n",
       "description          0.000000\n",
       "organiserName        0.001647\n",
       "organiserMemberId    0.001647\n",
       "dtype: float64"
      ]
     },
     "execution_count": 10,
     "metadata": {},
     "output_type": "execute_result"
    }
   ],
   "source": [
    "dataG.isna().mean()"
   ]
  },
  {
   "cell_type": "code",
   "execution_count": 11,
   "id": "b23a93b9-8375-457a-a7da-66338cf79731",
   "metadata": {},
   "outputs": [
    {
     "data": {
      "text/plain": [
       "id         0.000000\n",
       "name       0.000019\n",
       "joined     0.000004\n",
       "topics     0.176539\n",
       "groupId    0.000000\n",
       "dtype: float64"
      ]
     },
     "execution_count": 11,
     "metadata": {},
     "output_type": "execute_result"
    }
   ],
   "source": [
    "dataM.isna().mean()"
   ]
  },
  {
   "cell_type": "markdown",
   "id": "cf85c22e-6901-426d-99b2-70cb7af9a9f2",
   "metadata": {},
   "source": [
    "Aparentemente hay datos en tolos los campos que indican el identificador de grupo, aunque más adelante observaremos que hay ciertas incosistencias en el mismo."
   ]
  },
  {
   "cell_type": "markdown",
   "id": "a411458d-7dbc-45d8-a1e8-29ef5cf086ac",
   "metadata": {},
   "source": [
    "## Inconsistencies"
   ]
  },
  {
   "cell_type": "markdown",
   "id": "2ee207a7-629f-4b10-8518-598316de31f8",
   "metadata": {},
   "source": [
    "Tenemos listas en groupId, además de filas duplicadas "
   ]
  },
  {
   "cell_type": "code",
   "execution_count": 63,
   "id": "f765f20b-3b2c-4a18-bb67-0c00e8b0f781",
   "metadata": {},
   "outputs": [
    {
     "data": {
      "text/plain": [
       "id         groupId                                                                                                                                                                                                                                                                                                           \n",
       "255851     33135;38660;108403;288631;15401;15582;659;3833;9696;48471;128595;563;7029;17628;164111;15720;16390;10209;10102;1434182;87614;126177;166000;46810;2109;1454542;15167;28990;455;123243;128799;27954;132503;805252;46831;188;17742;20479;676752;123242;89943;89944;1273;32623;151695;32743;134870;124668;152026;15472    57\n",
       "110411952  2065031                                                                                                                                                                                                                                                                                                                2\n",
       "9069479    6487212                                                                                                                                                                                                                                                                                                                2\n",
       "193846641  1675038                                                                                                                                                                                                                                                                                                                2\n",
       "116636582  1619955                                                                                                                                                                                                                                                                                                                2\n",
       "                                                                                                                                                                                                                                                                                                                                 ..\n",
       "36572712   3483762                                                                                                                                                                                                                                                                                                                1\n",
       "36572422   1675038                                                                                                                                                                                                                                                                                                                1\n",
       "36571832   5024552                                                                                                                                                                                                                                                                                                                1\n",
       "36571042   1998291                                                                                                                                                                                                                                                                                                                1\n",
       "212492189  17747852                                                                                                                                                                                                                                                                                                               1\n",
       "Length: 537908, dtype: int64"
      ]
     },
     "execution_count": 63,
     "metadata": {},
     "output_type": "execute_result"
    }
   ],
   "source": [
    "dataM[[\"id\", 'groupId']].value_counts()"
   ]
  },
  {
   "cell_type": "code",
   "execution_count": 66,
   "id": "170a6c77-212d-48d9-a87c-7e440a41134a",
   "metadata": {},
   "outputs": [],
   "source": [
    "dataM.drop_duplicates(subset=[\"id\", \"groupId\"],inplace=True)"
   ]
  },
  {
   "cell_type": "code",
   "execution_count": 67,
   "id": "898a62bf-9fba-48cf-b618-cc73efe69a46",
   "metadata": {},
   "outputs": [
    {
     "data": {
      "text/plain": [
       "id         groupId \n",
       "17         18211855    1\n",
       "150632942  2065031     1\n",
       "150630132  15936192    1\n",
       "150626892  9226282     1\n",
       "           8567532     1\n",
       "                      ..\n",
       "36560042   1998291     1\n",
       "36557112   844726      1\n",
       "36554532   455214      1\n",
       "36552752   844726      1\n",
       "212492189  17747852    1\n",
       "Length: 537908, dtype: int64"
      ]
     },
     "execution_count": 67,
     "metadata": {},
     "output_type": "execute_result"
    }
   ],
   "source": [
    "dataM[[\"id\", 'groupId']].value_counts()"
   ]
  },
  {
   "cell_type": "markdown",
   "id": "9becaa88-6606-477c-a84f-211ae417f61f",
   "metadata": {},
   "source": [
    "## Top 10 groups"
   ]
  },
  {
   "cell_type": "code",
   "execution_count": 68,
   "id": "0427e221-de61-48c6-afef-4740e3129ef9",
   "metadata": {},
   "outputs": [],
   "source": [
    "top =dataM.groupby(\"groupId\")[[\"id\"]].count().copy()"
   ]
  },
  {
   "cell_type": "markdown",
   "id": "72d7de5c-ca55-4f81-9392-25d51a02c962",
   "metadata": {},
   "source": [
    "### With more members"
   ]
  },
  {
   "cell_type": "code",
   "execution_count": 69,
   "id": "771d38be-5792-4c59-9e1a-88c079d9ca0c",
   "metadata": {},
   "outputs": [
    {
     "data": {
      "text/html": [
       "<div>\n",
       "<style scoped>\n",
       "    .dataframe tbody tr th:only-of-type {\n",
       "        vertical-align: middle;\n",
       "    }\n",
       "\n",
       "    .dataframe tbody tr th {\n",
       "        vertical-align: top;\n",
       "    }\n",
       "\n",
       "    .dataframe thead th {\n",
       "        text-align: right;\n",
       "    }\n",
       "</style>\n",
       "<table border=\"1\" class=\"dataframe\">\n",
       "  <thead>\n",
       "    <tr style=\"text-align: right;\">\n",
       "      <th></th>\n",
       "      <th>id</th>\n",
       "    </tr>\n",
       "    <tr>\n",
       "      <th>groupId</th>\n",
       "      <th></th>\n",
       "    </tr>\n",
       "  </thead>\n",
       "  <tbody>\n",
       "    <tr>\n",
       "      <th>844726</th>\n",
       "      <td>27006</td>\n",
       "    </tr>\n",
       "    <tr>\n",
       "      <th>1619955</th>\n",
       "      <td>14875</td>\n",
       "    </tr>\n",
       "    <tr>\n",
       "      <th>2065031</th>\n",
       "      <td>11007</td>\n",
       "    </tr>\n",
       "    <tr>\n",
       "      <th>3483762</th>\n",
       "      <td>9860</td>\n",
       "    </tr>\n",
       "    <tr>\n",
       "      <th>13402242</th>\n",
       "      <td>9260</td>\n",
       "    </tr>\n",
       "    <tr>\n",
       "      <th>677520</th>\n",
       "      <td>8660</td>\n",
       "    </tr>\n",
       "    <tr>\n",
       "      <th>9226282</th>\n",
       "      <td>8578</td>\n",
       "    </tr>\n",
       "    <tr>\n",
       "      <th>5918982</th>\n",
       "      <td>8537</td>\n",
       "    </tr>\n",
       "    <tr>\n",
       "      <th>3138542</th>\n",
       "      <td>7850</td>\n",
       "    </tr>\n",
       "    <tr>\n",
       "      <th>1691571</th>\n",
       "      <td>7260</td>\n",
       "    </tr>\n",
       "  </tbody>\n",
       "</table>\n",
       "</div>"
      ],
      "text/plain": [
       "             id\n",
       "groupId        \n",
       "844726    27006\n",
       "1619955   14875\n",
       "2065031   11007\n",
       "3483762    9860\n",
       "13402242   9260\n",
       "677520     8660\n",
       "9226282    8578\n",
       "5918982    8537\n",
       "3138542    7850\n",
       "1691571    7260"
      ]
     },
     "execution_count": 69,
     "metadata": {},
     "output_type": "execute_result"
    }
   ],
   "source": [
    "top[[\"id\"]].sort_values(by= \"id\", ascending=False).head(10)"
   ]
  },
  {
   "cell_type": "markdown",
   "id": "1cd67262-59dd-4e56-8d17-f16983924a34",
   "metadata": {},
   "source": [
    "### With least members"
   ]
  },
  {
   "cell_type": "code",
   "execution_count": 70,
   "id": "fdf4d29f-931a-4e3b-b22f-39e0175bba68",
   "metadata": {},
   "outputs": [
    {
     "data": {
      "text/html": [
       "<div>\n",
       "<style scoped>\n",
       "    .dataframe tbody tr th:only-of-type {\n",
       "        vertical-align: middle;\n",
       "    }\n",
       "\n",
       "    .dataframe tbody tr th {\n",
       "        vertical-align: top;\n",
       "    }\n",
       "\n",
       "    .dataframe thead th {\n",
       "        text-align: right;\n",
       "    }\n",
       "</style>\n",
       "<table border=\"1\" class=\"dataframe\">\n",
       "  <thead>\n",
       "    <tr style=\"text-align: right;\">\n",
       "      <th></th>\n",
       "      <th>id</th>\n",
       "    </tr>\n",
       "    <tr>\n",
       "      <th>groupId</th>\n",
       "      <th></th>\n",
       "    </tr>\n",
       "  </thead>\n",
       "  <tbody>\n",
       "    <tr>\n",
       "      <th>33135;38660;108403;288631;15401;15582;659;3833;9696;48471;128595;563;7029;17628;164111;15720;16390;10209;10102;1434182;87614;126177;166000;46810;2109;1454542;15167;28990;455;123243;128799;27954;132503;805252;46831;188;17742;20479;676752;123242;89943;89944;1273;32623;151695;32743;134870;124668;152026;15472</th>\n",
       "      <td>1</td>\n",
       "    </tr>\n",
       "    <tr>\n",
       "      <th>17069312</th>\n",
       "      <td>5</td>\n",
       "    </tr>\n",
       "    <tr>\n",
       "      <th>13833032</th>\n",
       "      <td>6</td>\n",
       "    </tr>\n",
       "    <tr>\n",
       "      <th>20394467</th>\n",
       "      <td>7</td>\n",
       "    </tr>\n",
       "    <tr>\n",
       "      <th>18693893</th>\n",
       "      <td>9</td>\n",
       "    </tr>\n",
       "    <tr>\n",
       "      <th>18570876</th>\n",
       "      <td>9</td>\n",
       "    </tr>\n",
       "    <tr>\n",
       "      <th>15009682</th>\n",
       "      <td>11</td>\n",
       "    </tr>\n",
       "    <tr>\n",
       "      <th>19875891</th>\n",
       "      <td>11</td>\n",
       "    </tr>\n",
       "    <tr>\n",
       "      <th>19276237</th>\n",
       "      <td>15</td>\n",
       "    </tr>\n",
       "    <tr>\n",
       "      <th>18431333</th>\n",
       "      <td>20</td>\n",
       "    </tr>\n",
       "  </tbody>\n",
       "</table>\n",
       "</div>"
      ],
      "text/plain": [
       "                                                    id\n",
       "groupId                                               \n",
       "33135;38660;108403;288631;15401;15582;659;3833;...   1\n",
       "17069312                                             5\n",
       "13833032                                             6\n",
       "20394467                                             7\n",
       "18693893                                             9\n",
       "18570876                                             9\n",
       "15009682                                            11\n",
       "19875891                                            11\n",
       "19276237                                            15\n",
       "18431333                                            20"
      ]
     },
     "execution_count": 70,
     "metadata": {},
     "output_type": "execute_result"
    }
   ],
   "source": [
    "top[[\"id\"]].sort_values(by= \"id\", ascending=True).head(10)"
   ]
  },
  {
   "cell_type": "markdown",
   "id": "7fd77584-dc1f-4f3c-8592-5970296130bc",
   "metadata": {},
   "source": [
    "## Top users"
   ]
  },
  {
   "cell_type": "code",
   "execution_count": 71,
   "id": "427dee2a-d459-4510-89c1-e7bd7e66e8bd",
   "metadata": {},
   "outputs": [],
   "source": [
    "topUser =dataM.groupby(\"id\")[[\"groupId\"]].count().copy()"
   ]
  },
  {
   "cell_type": "markdown",
   "id": "bb60ebfe-3e36-4123-bc4e-dd0423a5d059",
   "metadata": {},
   "source": [
    "### In more groups"
   ]
  },
  {
   "cell_type": "code",
   "execution_count": 72,
   "id": "fb63d8e9-17b9-475c-87b2-57f12b06ba4b",
   "metadata": {},
   "outputs": [
    {
     "data": {
      "text/html": [
       "<div>\n",
       "<style scoped>\n",
       "    .dataframe tbody tr th:only-of-type {\n",
       "        vertical-align: middle;\n",
       "    }\n",
       "\n",
       "    .dataframe tbody tr th {\n",
       "        vertical-align: top;\n",
       "    }\n",
       "\n",
       "    .dataframe thead th {\n",
       "        text-align: right;\n",
       "    }\n",
       "</style>\n",
       "<table border=\"1\" class=\"dataframe\">\n",
       "  <thead>\n",
       "    <tr style=\"text-align: right;\">\n",
       "      <th></th>\n",
       "      <th>groupId</th>\n",
       "    </tr>\n",
       "    <tr>\n",
       "      <th>id</th>\n",
       "      <th></th>\n",
       "    </tr>\n",
       "  </thead>\n",
       "  <tbody>\n",
       "    <tr>\n",
       "      <th>159354732</th>\n",
       "      <td>336</td>\n",
       "    </tr>\n",
       "    <tr>\n",
       "      <th>2853561</th>\n",
       "      <td>302</td>\n",
       "    </tr>\n",
       "    <tr>\n",
       "      <th>3893698</th>\n",
       "      <td>256</td>\n",
       "    </tr>\n",
       "    <tr>\n",
       "      <th>11781658</th>\n",
       "      <td>223</td>\n",
       "    </tr>\n",
       "    <tr>\n",
       "      <th>5220940</th>\n",
       "      <td>221</td>\n",
       "    </tr>\n",
       "  </tbody>\n",
       "</table>\n",
       "</div>"
      ],
      "text/plain": [
       "           groupId\n",
       "id                \n",
       "159354732      336\n",
       "2853561        302\n",
       "3893698        256\n",
       "11781658       223\n",
       "5220940        221"
      ]
     },
     "execution_count": 72,
     "metadata": {},
     "output_type": "execute_result"
    }
   ],
   "source": [
    "topUser.sort_values(by=\"groupId\",ascending=False).head()"
   ]
  },
  {
   "cell_type": "markdown",
   "id": "a6337dbd-43dc-41f1-8d00-565d5ba321e7",
   "metadata": {},
   "source": [
    "### In a few groups"
   ]
  },
  {
   "cell_type": "code",
   "execution_count": 73,
   "id": "fdebf128-225e-43b5-9e0f-75815ffd427a",
   "metadata": {},
   "outputs": [
    {
     "data": {
      "text/html": [
       "<div>\n",
       "<style scoped>\n",
       "    .dataframe tbody tr th:only-of-type {\n",
       "        vertical-align: middle;\n",
       "    }\n",
       "\n",
       "    .dataframe tbody tr th {\n",
       "        vertical-align: top;\n",
       "    }\n",
       "\n",
       "    .dataframe thead th {\n",
       "        text-align: right;\n",
       "    }\n",
       "</style>\n",
       "<table border=\"1\" class=\"dataframe\">\n",
       "  <thead>\n",
       "    <tr style=\"text-align: right;\">\n",
       "      <th></th>\n",
       "      <th>groupId</th>\n",
       "    </tr>\n",
       "    <tr>\n",
       "      <th>id</th>\n",
       "      <th></th>\n",
       "    </tr>\n",
       "  </thead>\n",
       "  <tbody>\n",
       "    <tr>\n",
       "      <th>112794192</th>\n",
       "      <td>1</td>\n",
       "    </tr>\n",
       "    <tr>\n",
       "      <th>185685817</th>\n",
       "      <td>1</td>\n",
       "    </tr>\n",
       "    <tr>\n",
       "      <th>84578192</th>\n",
       "      <td>1</td>\n",
       "    </tr>\n",
       "    <tr>\n",
       "      <th>84578182</th>\n",
       "      <td>1</td>\n",
       "    </tr>\n",
       "    <tr>\n",
       "      <th>84573632</th>\n",
       "      <td>1</td>\n",
       "    </tr>\n",
       "  </tbody>\n",
       "</table>\n",
       "</div>"
      ],
      "text/plain": [
       "           groupId\n",
       "id                \n",
       "112794192        1\n",
       "185685817        1\n",
       "84578192         1\n",
       "84578182         1\n",
       "84573632         1"
      ]
     },
     "execution_count": 73,
     "metadata": {},
     "output_type": "execute_result"
    }
   ],
   "source": [
    "topUser.sort_values(by=\"groupId\",ascending=True).head()"
   ]
  },
  {
   "cell_type": "markdown",
   "id": "11be6884-8dde-41a8-bc29-eb6c5aef9b1c",
   "metadata": {},
   "source": [
    "## Items per basket"
   ]
  },
  {
   "cell_type": "code",
   "execution_count": 74,
   "id": "2bd07075-7e02-4638-a9e1-5bee0e291045",
   "metadata": {},
   "outputs": [
    {
     "data": {
      "text/html": [
       "<div>\n",
       "<style scoped>\n",
       "    .dataframe tbody tr th:only-of-type {\n",
       "        vertical-align: middle;\n",
       "    }\n",
       "\n",
       "    .dataframe tbody tr th {\n",
       "        vertical-align: top;\n",
       "    }\n",
       "\n",
       "    .dataframe thead th {\n",
       "        text-align: right;\n",
       "    }\n",
       "</style>\n",
       "<table border=\"1\" class=\"dataframe\">\n",
       "  <thead>\n",
       "    <tr style=\"text-align: right;\">\n",
       "      <th></th>\n",
       "      <th>groupId</th>\n",
       "    </tr>\n",
       "  </thead>\n",
       "  <tbody>\n",
       "    <tr>\n",
       "      <th>count</th>\n",
       "      <td>190329.000000</td>\n",
       "    </tr>\n",
       "    <tr>\n",
       "      <th>mean</th>\n",
       "      <td>2.826201</td>\n",
       "    </tr>\n",
       "    <tr>\n",
       "      <th>std</th>\n",
       "      <td>5.339689</td>\n",
       "    </tr>\n",
       "    <tr>\n",
       "      <th>min</th>\n",
       "      <td>1.000000</td>\n",
       "    </tr>\n",
       "    <tr>\n",
       "      <th>25%</th>\n",
       "      <td>1.000000</td>\n",
       "    </tr>\n",
       "    <tr>\n",
       "      <th>50%</th>\n",
       "      <td>1.000000</td>\n",
       "    </tr>\n",
       "    <tr>\n",
       "      <th>75%</th>\n",
       "      <td>3.000000</td>\n",
       "    </tr>\n",
       "    <tr>\n",
       "      <th>max</th>\n",
       "      <td>336.000000</td>\n",
       "    </tr>\n",
       "  </tbody>\n",
       "</table>\n",
       "</div>"
      ],
      "text/plain": [
       "             groupId\n",
       "count  190329.000000\n",
       "mean        2.826201\n",
       "std         5.339689\n",
       "min         1.000000\n",
       "25%         1.000000\n",
       "50%         1.000000\n",
       "75%         3.000000\n",
       "max       336.000000"
      ]
     },
     "execution_count": 74,
     "metadata": {},
     "output_type": "execute_result"
    }
   ],
   "source": [
    "topUser.describe()"
   ]
  },
  {
   "cell_type": "markdown",
   "id": "5e23a1f4-ac67-4a68-9601-072103d69396",
   "metadata": {},
   "source": [
    "## Number of groups"
   ]
  },
  {
   "cell_type": "code",
   "execution_count": 82,
   "id": "f444a677-b8b5-4888-b3b6-7b119f269e0c",
   "metadata": {},
   "outputs": [
    {
     "data": {
      "text/plain": [
       "5463"
      ]
     },
     "execution_count": 82,
     "metadata": {},
     "output_type": "execute_result"
    }
   ],
   "source": [
    "items =dataG.size\n",
    "items"
   ]
  },
  {
   "cell_type": "markdown",
   "id": "2f779f3b-ad1e-4eaa-809b-7f4edcce3707",
   "metadata": {},
   "source": [
    "## Number of users"
   ]
  },
  {
   "cell_type": "code",
   "execution_count": 83,
   "id": "c2f4c60f-7e2e-46ff-a83e-c322e133661d",
   "metadata": {},
   "outputs": [
    {
     "data": {
      "text/plain": [
       "190329"
      ]
     },
     "execution_count": 83,
     "metadata": {},
     "output_type": "execute_result"
    }
   ],
   "source": [
    "baskets=topUser.size\n",
    "baskets"
   ]
  },
  {
   "cell_type": "markdown",
   "id": "adb0bd10-8597-47bc-9b0c-f91f7abd3460",
   "metadata": {},
   "source": [
    "## Sparsity"
   ]
  },
  {
   "cell_type": "markdown",
   "id": "52d4d672-6418-4564-85eb-7a6461fc63f3",
   "metadata": {},
   "source": [
    "Tomando en cuenta que tomamos cada grupo como una columna y cada usuario como fila, y que siendo optimistas cada usuario en promedio esta en 3 grupos cada uno, entonces tendriamos que"
   ]
  },
  {
   "cell_type": "code",
   "execution_count": 86,
   "id": "43fc9a75-83be-4620-b13b-e4d8b813dfc2",
   "metadata": {},
   "outputs": [
    {
     "data": {
      "text/plain": [
       "(1039767327, 16389)"
      ]
     },
     "execution_count": 86,
     "metadata": {},
     "output_type": "execute_result"
    }
   ],
   "source": [
    "num_celdas= baskets*items\n",
    "celdas_conValor = items*3\n",
    "(num_celdas,celdas_conValor)"
   ]
  },
  {
   "cell_type": "code",
   "execution_count": 87,
   "id": "54d7d734-9f54-4962-b06b-462739b8647b",
   "metadata": {},
   "outputs": [
    {
     "data": {
      "text/plain": [
       "0.9999842378197752"
      ]
     },
     "execution_count": 87,
     "metadata": {},
     "output_type": "execute_result"
    }
   ],
   "source": [
    "sparsity = 1- (celdas_conValor/num_celdas)\n",
    "sparsity"
   ]
  },
  {
   "cell_type": "markdown",
   "id": "f5810181-3715-4605-bbce-a03050c495cc",
   "metadata": {},
   "source": [
    "Por lo cual tendríamos una matriz muy vacia lo cual dificultará el análisis de recomendaciones, procederemos a dar una implementación tomando pocos grupos, con el fin de hacerlo un poco más viable."
   ]
  },
  {
   "cell_type": "markdown",
   "id": "43a5b3ed-bf21-4207-9474-858e7daaf5db",
   "metadata": {},
   "source": [
    "# Preprossesing"
   ]
  },
  {
   "cell_type": "markdown",
   "id": "7404e9a2-6f00-4d8b-9b31-489d63f692ac",
   "metadata": {},
   "source": [
    "## Members with multiple groups"
   ]
  },
  {
   "cell_type": "code",
   "execution_count": 88,
   "id": "3759e691-12d2-4ae1-9133-448f0f373e26",
   "metadata": {},
   "outputs": [],
   "source": [
    "dataM=dataM.apply(lambda x: x if len(str(x[4]))<15 else None,axis=1)"
   ]
  },
  {
   "cell_type": "markdown",
   "id": "2b6dda0e-1392-4d4c-ab76-5e74fae7c24e",
   "metadata": {},
   "source": [
    "## Group Missings"
   ]
  },
  {
   "cell_type": "code",
   "execution_count": 89,
   "id": "c4865dc0-178e-4535-97b2-417ee9f6d9fa",
   "metadata": {},
   "outputs": [],
   "source": [
    "dataM.dropna(how='all',inplace=True)"
   ]
  },
  {
   "cell_type": "code",
   "execution_count": 90,
   "id": "61fa3737-c4e1-49d7-a378-f222d16877aa",
   "metadata": {},
   "outputs": [],
   "source": [
    "dataM['groupId'] = dataM['groupId'].apply(lambda x: int(x))"
   ]
  },
  {
   "cell_type": "code",
   "execution_count": 91,
   "id": "befa17e7-75e8-43be-8eae-cb6eca2b4338",
   "metadata": {},
   "outputs": [
    {
     "name": "stdout",
     "output_type": "stream",
     "text": [
      "<class 'pandas.core.frame.DataFrame'>\n",
      "Int64Index: 537907 entries, 0 to 538032\n",
      "Data columns (total 5 columns):\n",
      " #   Column   Non-Null Count   Dtype  \n",
      "---  ------   --------------   -----  \n",
      " 0   id       537907 non-null  float64\n",
      " 1   name     537897 non-null  object \n",
      " 2   joined   537905 non-null  object \n",
      " 3   topics   442937 non-null  object \n",
      " 4   groupId  537907 non-null  int64  \n",
      "dtypes: float64(1), int64(1), object(3)\n",
      "memory usage: 24.6+ MB\n"
     ]
    }
   ],
   "source": [
    "dataM.info()"
   ]
  },
  {
   "cell_type": "code",
   "execution_count": 92,
   "id": "e624d735-bd15-4045-a2ba-239ffc81e8ca",
   "metadata": {},
   "outputs": [
    {
     "name": "stdout",
     "output_type": "stream",
     "text": [
      "<class 'pandas.core.frame.DataFrame'>\n",
      "RangeIndex: 607 entries, 0 to 606\n",
      "Data columns (total 9 columns):\n",
      " #   Column             Non-Null Count  Dtype  \n",
      "---  ------             --------------  -----  \n",
      " 0   id                 607 non-null    int64  \n",
      " 1   name               607 non-null    object \n",
      " 2   urlname            607 non-null    object \n",
      " 3   link               607 non-null    object \n",
      " 4   rating             607 non-null    float64\n",
      " 5   created            607 non-null    float64\n",
      " 6   description        607 non-null    object \n",
      " 7   organiserName      606 non-null    object \n",
      " 8   organiserMemberId  606 non-null    float64\n",
      "dtypes: float64(3), int64(1), object(5)\n",
      "memory usage: 42.8+ KB\n"
     ]
    }
   ],
   "source": [
    "dataG.info()"
   ]
  },
  {
   "cell_type": "markdown",
   "id": "a0a3b986-b00b-4b56-94ed-0afba09c7753",
   "metadata": {},
   "source": [
    "## Merge"
   ]
  },
  {
   "cell_type": "code",
   "execution_count": 93,
   "id": "4372391a-2eb5-4c70-a12c-39b7cca6ad06",
   "metadata": {},
   "outputs": [],
   "source": [
    "data=dataM.merge(right=dataG, left_on=\"groupId\",\n",
    "         right_on=\"id\", how= 'inner')[['id_x', 'name_x','id_y', 'name_y']]"
   ]
  },
  {
   "cell_type": "code",
   "execution_count": 94,
   "id": "e3fbfc5e-60fa-4823-a8d2-e69623127807",
   "metadata": {},
   "outputs": [],
   "source": [
    "data=data.rename({'id_x':'member_id','name_x': 'member_name','id_y': 'group_id', 'name_y': 'group_name'}, axis=1)"
   ]
  },
  {
   "cell_type": "code",
   "execution_count": 95,
   "id": "37886c50-dc4a-4893-9336-d21ed668a83a",
   "metadata": {},
   "outputs": [
    {
     "data": {
      "text/plain": [
       "0.8"
      ]
     },
     "execution_count": 95,
     "metadata": {},
     "output_type": "execute_result"
    }
   ],
   "source": [
    "data.size/dataM.size"
   ]
  },
  {
   "cell_type": "code",
   "execution_count": 96,
   "id": "43d65f59-bf81-46d8-a772-4f6d43818c59",
   "metadata": {},
   "outputs": [
    {
     "data": {
      "text/plain": [
       "(594, 594)"
      ]
     },
     "execution_count": 96,
     "metadata": {},
     "output_type": "execute_result"
    }
   ],
   "source": [
    "len(data['group_id'].unique()),len(dataM[\"groupId\"].unique())"
   ]
  },
  {
   "cell_type": "markdown",
   "id": "5829d091-c60e-4ac7-94e7-103340eabff1",
   "metadata": {},
   "source": [
    "## Top Groups as columns"
   ]
  },
  {
   "cell_type": "code",
   "execution_count": 97,
   "id": "8b683067-e8ec-4b25-b15e-ebf74263bef2",
   "metadata": {},
   "outputs": [],
   "source": [
    "df=data.copy()"
   ]
  },
  {
   "cell_type": "code",
   "execution_count": 98,
   "id": "d7e09737-611a-4c4d-9e89-58eed944127b",
   "metadata": {},
   "outputs": [],
   "source": [
    "ls_groups=df['group_name'].value_counts().head(70).index"
   ]
  },
  {
   "cell_type": "code",
   "execution_count": 99,
   "id": "861566e1-ac80-4297-8117-74df257388a6",
   "metadata": {},
   "outputs": [],
   "source": [
    "ls= [0 for x in range(len(df))]\n",
    "for column in ls_groups:\n",
    "    df.insert(1,column,ls)"
   ]
  },
  {
   "cell_type": "code",
   "execution_count": 100,
   "id": "e6e1403b-1aad-4384-bdcd-de4e3b2c822e",
   "metadata": {},
   "outputs": [
    {
     "data": {
      "text/html": [
       "<div>\n",
       "<style scoped>\n",
       "    .dataframe tbody tr th:only-of-type {\n",
       "        vertical-align: middle;\n",
       "    }\n",
       "\n",
       "    .dataframe tbody tr th {\n",
       "        vertical-align: top;\n",
       "    }\n",
       "\n",
       "    .dataframe thead th {\n",
       "        text-align: right;\n",
       "    }\n",
       "</style>\n",
       "<table border=\"1\" class=\"dataframe\">\n",
       "  <thead>\n",
       "    <tr style=\"text-align: right;\">\n",
       "      <th></th>\n",
       "      <th>member_id</th>\n",
       "      <th>Bay Area Women in Machine Learning &amp; Data Science</th>\n",
       "      <th>DataKind SF Bay Area</th>\n",
       "      <th>Code Self Study</th>\n",
       "      <th>Elasticsearch San Francisco</th>\n",
       "      <th>Developing with Data in San Francisco</th>\n",
       "      <th>San Francisco Bay Area Big Data and Scalable Systems</th>\n",
       "      <th>Silicon Valley IoT and Wearable Devices</th>\n",
       "      <th>SFNode</th>\n",
       "      <th>Ember.js San Francisco</th>\n",
       "      <th>...</th>\n",
       "      <th>Silicon Valley Cloud Computing</th>\n",
       "      <th>SF Data Science</th>\n",
       "      <th>Docker Online Meetup</th>\n",
       "      <th>Tech in Motion Events: San Francisco</th>\n",
       "      <th>SF Data Mining</th>\n",
       "      <th>SFHTML5</th>\n",
       "      <th>Silicon Valley Entrepreneurs &amp; Startups</th>\n",
       "      <th>member_name</th>\n",
       "      <th>group_id</th>\n",
       "      <th>group_name</th>\n",
       "    </tr>\n",
       "  </thead>\n",
       "  <tbody>\n",
       "    <tr>\n",
       "      <th>0</th>\n",
       "      <td>173425062.0</td>\n",
       "      <td>0</td>\n",
       "      <td>0</td>\n",
       "      <td>0</td>\n",
       "      <td>0</td>\n",
       "      <td>0</td>\n",
       "      <td>0</td>\n",
       "      <td>0</td>\n",
       "      <td>0</td>\n",
       "      <td>0</td>\n",
       "      <td>...</td>\n",
       "      <td>0</td>\n",
       "      <td>0</td>\n",
       "      <td>0</td>\n",
       "      <td>0</td>\n",
       "      <td>0</td>\n",
       "      <td>0</td>\n",
       "      <td>0</td>\n",
       "      <td>Aaron</td>\n",
       "      <td>10027652</td>\n",
       "      <td>Elm user group SF</td>\n",
       "    </tr>\n",
       "    <tr>\n",
       "      <th>1</th>\n",
       "      <td>73726832.0</td>\n",
       "      <td>0</td>\n",
       "      <td>0</td>\n",
       "      <td>0</td>\n",
       "      <td>0</td>\n",
       "      <td>0</td>\n",
       "      <td>0</td>\n",
       "      <td>0</td>\n",
       "      <td>0</td>\n",
       "      <td>0</td>\n",
       "      <td>...</td>\n",
       "      <td>0</td>\n",
       "      <td>0</td>\n",
       "      <td>0</td>\n",
       "      <td>0</td>\n",
       "      <td>0</td>\n",
       "      <td>0</td>\n",
       "      <td>0</td>\n",
       "      <td>Aaron Elligsen</td>\n",
       "      <td>10027652</td>\n",
       "      <td>Elm user group SF</td>\n",
       "    </tr>\n",
       "    <tr>\n",
       "      <th>2</th>\n",
       "      <td>185309112.0</td>\n",
       "      <td>0</td>\n",
       "      <td>0</td>\n",
       "      <td>0</td>\n",
       "      <td>0</td>\n",
       "      <td>0</td>\n",
       "      <td>0</td>\n",
       "      <td>0</td>\n",
       "      <td>0</td>\n",
       "      <td>0</td>\n",
       "      <td>...</td>\n",
       "      <td>0</td>\n",
       "      <td>0</td>\n",
       "      <td>0</td>\n",
       "      <td>0</td>\n",
       "      <td>0</td>\n",
       "      <td>0</td>\n",
       "      <td>0</td>\n",
       "      <td>Aaron McGeever</td>\n",
       "      <td>10027652</td>\n",
       "      <td>Elm user group SF</td>\n",
       "    </tr>\n",
       "    <tr>\n",
       "      <th>3</th>\n",
       "      <td>185045966.0</td>\n",
       "      <td>0</td>\n",
       "      <td>0</td>\n",
       "      <td>0</td>\n",
       "      <td>0</td>\n",
       "      <td>0</td>\n",
       "      <td>0</td>\n",
       "      <td>0</td>\n",
       "      <td>0</td>\n",
       "      <td>0</td>\n",
       "      <td>...</td>\n",
       "      <td>0</td>\n",
       "      <td>0</td>\n",
       "      <td>0</td>\n",
       "      <td>0</td>\n",
       "      <td>0</td>\n",
       "      <td>0</td>\n",
       "      <td>0</td>\n",
       "      <td>Aaron Reisman</td>\n",
       "      <td>10027652</td>\n",
       "      <td>Elm user group SF</td>\n",
       "    </tr>\n",
       "    <tr>\n",
       "      <th>4</th>\n",
       "      <td>121471852.0</td>\n",
       "      <td>0</td>\n",
       "      <td>0</td>\n",
       "      <td>0</td>\n",
       "      <td>0</td>\n",
       "      <td>0</td>\n",
       "      <td>0</td>\n",
       "      <td>0</td>\n",
       "      <td>0</td>\n",
       "      <td>0</td>\n",
       "      <td>...</td>\n",
       "      <td>0</td>\n",
       "      <td>0</td>\n",
       "      <td>0</td>\n",
       "      <td>0</td>\n",
       "      <td>0</td>\n",
       "      <td>0</td>\n",
       "      <td>0</td>\n",
       "      <td>Aaron Strick</td>\n",
       "      <td>10027652</td>\n",
       "      <td>Elm user group SF</td>\n",
       "    </tr>\n",
       "  </tbody>\n",
       "</table>\n",
       "<p>5 rows × 74 columns</p>\n",
       "</div>"
      ],
      "text/plain": [
       "     member_id  Bay Area Women in Machine Learning & Data Science  \\\n",
       "0  173425062.0                                                  0   \n",
       "1   73726832.0                                                  0   \n",
       "2  185309112.0                                                  0   \n",
       "3  185045966.0                                                  0   \n",
       "4  121471852.0                                                  0   \n",
       "\n",
       "   DataKind SF Bay Area  Code Self Study  Elasticsearch San Francisco  \\\n",
       "0                     0                0                            0   \n",
       "1                     0                0                            0   \n",
       "2                     0                0                            0   \n",
       "3                     0                0                            0   \n",
       "4                     0                0                            0   \n",
       "\n",
       "   Developing with Data in San Francisco  \\\n",
       "0                                      0   \n",
       "1                                      0   \n",
       "2                                      0   \n",
       "3                                      0   \n",
       "4                                      0   \n",
       "\n",
       "   San Francisco Bay Area Big Data and Scalable Systems  \\\n",
       "0                                                  0      \n",
       "1                                                  0      \n",
       "2                                                  0      \n",
       "3                                                  0      \n",
       "4                                                  0      \n",
       "\n",
       "   Silicon Valley IoT and Wearable Devices  SFNode  Ember.js San Francisco  \\\n",
       "0                                        0       0                       0   \n",
       "1                                        0       0                       0   \n",
       "2                                        0       0                       0   \n",
       "3                                        0       0                       0   \n",
       "4                                        0       0                       0   \n",
       "\n",
       "   ...  Silicon Valley Cloud Computing  SF Data Science  Docker Online Meetup  \\\n",
       "0  ...                               0                0                     0   \n",
       "1  ...                               0                0                     0   \n",
       "2  ...                               0                0                     0   \n",
       "3  ...                               0                0                     0   \n",
       "4  ...                               0                0                     0   \n",
       "\n",
       "   Tech in Motion Events: San Francisco  SF Data Mining  SFHTML5  \\\n",
       "0                                     0               0        0   \n",
       "1                                     0               0        0   \n",
       "2                                     0               0        0   \n",
       "3                                     0               0        0   \n",
       "4                                     0               0        0   \n",
       "\n",
       "   Silicon Valley Entrepreneurs & Startups     member_name  group_id  \\\n",
       "0                                        0           Aaron  10027652   \n",
       "1                                        0  Aaron Elligsen  10027652   \n",
       "2                                        0  Aaron McGeever  10027652   \n",
       "3                                        0   Aaron Reisman  10027652   \n",
       "4                                        0    Aaron Strick  10027652   \n",
       "\n",
       "          group_name  \n",
       "0  Elm user group SF  \n",
       "1  Elm user group SF  \n",
       "2  Elm user group SF  \n",
       "3  Elm user group SF  \n",
       "4  Elm user group SF  \n",
       "\n",
       "[5 rows x 74 columns]"
      ]
     },
     "execution_count": 100,
     "metadata": {},
     "output_type": "execute_result"
    }
   ],
   "source": [
    "df.head()"
   ]
  },
  {
   "cell_type": "markdown",
   "id": "533be11f-ba0f-4e6a-a131-ab29dcf06569",
   "metadata": {},
   "source": [
    "### Delete unpopular groups"
   ]
  },
  {
   "cell_type": "code",
   "execution_count": 101,
   "id": "8f0f46c1-51cd-4190-9fee-e7dc19f1883c",
   "metadata": {},
   "outputs": [],
   "source": [
    "ls= []\n",
    "for index, row in df.iterrows():\n",
    "    if(row[\"group_name\"] not in ls_groups):\n",
    "        ls.append(index)"
   ]
  },
  {
   "cell_type": "code",
   "execution_count": 102,
   "id": "5a261562-b290-46dc-ab8d-ba7c0551f0b1",
   "metadata": {},
   "outputs": [
    {
     "data": {
      "text/plain": [
       "0.4365308501283679"
      ]
     },
     "execution_count": 102,
     "metadata": {},
     "output_type": "execute_result"
    }
   ],
   "source": [
    "len(ls)/len(df)"
   ]
  },
  {
   "cell_type": "code",
   "execution_count": 103,
   "id": "45695abb-465b-4f75-ab06-79799a0997f4",
   "metadata": {},
   "outputs": [],
   "source": [
    "df.drop(ls, axis=0, inplace=True)"
   ]
  },
  {
   "cell_type": "markdown",
   "id": "90b13cc1-5840-47c0-a0e3-70228ba277cb",
   "metadata": {},
   "source": [
    "### Encoder groups"
   ]
  },
  {
   "cell_type": "code",
   "execution_count": 104,
   "id": "d06f9ddf-e346-4183-856a-28d1acbeba07",
   "metadata": {},
   "outputs": [],
   "source": [
    "def encoder(x):\n",
    "    group = str(x[\"group_name\"])\n",
    "    x[group]=1\n",
    "    return x"
   ]
  },
  {
   "cell_type": "code",
   "execution_count": 105,
   "id": "c04b71fe-6040-44d0-8548-b0eabc8f478b",
   "metadata": {
    "scrolled": true,
    "tags": []
   },
   "outputs": [],
   "source": [
    "df=df.apply(lambda x: encoder(x),axis=1)"
   ]
  },
  {
   "cell_type": "code",
   "execution_count": 106,
   "id": "dfc2a39a-3bff-4e88-bb43-41434fd1ea3c",
   "metadata": {},
   "outputs": [],
   "source": [
    "df_groups= df.groupby(\"member_id\")[ls_groups].sum()"
   ]
  },
  {
   "cell_type": "code",
   "execution_count": 107,
   "id": "1fec07d1-973f-47e9-b322-b908b17cdb78",
   "metadata": {},
   "outputs": [],
   "source": [
    "df_bool= df_groups.copy() >0"
   ]
  },
  {
   "cell_type": "code",
   "execution_count": 108,
   "id": "77d58ba5-73bb-4bf5-84fa-01923755acc7",
   "metadata": {},
   "outputs": [
    {
     "data": {
      "text/html": [
       "<div>\n",
       "<style scoped>\n",
       "    .dataframe tbody tr th:only-of-type {\n",
       "        vertical-align: middle;\n",
       "    }\n",
       "\n",
       "    .dataframe tbody tr th {\n",
       "        vertical-align: top;\n",
       "    }\n",
       "\n",
       "    .dataframe thead th {\n",
       "        text-align: right;\n",
       "    }\n",
       "</style>\n",
       "<table border=\"1\" class=\"dataframe\">\n",
       "  <thead>\n",
       "    <tr style=\"text-align: right;\">\n",
       "      <th></th>\n",
       "      <th>Silicon Valley Entrepreneurs &amp; Startups</th>\n",
       "      <th>SFHTML5</th>\n",
       "      <th>SF Data Mining</th>\n",
       "      <th>Tech in Motion Events: San Francisco</th>\n",
       "      <th>Docker Online Meetup</th>\n",
       "      <th>SF Data Science</th>\n",
       "      <th>Silicon Valley Cloud Computing</th>\n",
       "      <th>The Hive Think Tank</th>\n",
       "      <th>Bay Area Spark Meetup</th>\n",
       "      <th>Data Visualization Group in the Bay Area</th>\n",
       "      <th>...</th>\n",
       "      <th>DataStax Cassandra SF Users</th>\n",
       "      <th>Ember.js San Francisco</th>\n",
       "      <th>SFNode</th>\n",
       "      <th>Silicon Valley IoT and Wearable Devices</th>\n",
       "      <th>San Francisco Bay Area Big Data and Scalable Systems</th>\n",
       "      <th>Developing with Data in San Francisco</th>\n",
       "      <th>Elasticsearch San Francisco</th>\n",
       "      <th>Code Self Study</th>\n",
       "      <th>DataKind SF Bay Area</th>\n",
       "      <th>Bay Area Women in Machine Learning &amp; Data Science</th>\n",
       "    </tr>\n",
       "    <tr>\n",
       "      <th>member_id</th>\n",
       "      <th></th>\n",
       "      <th></th>\n",
       "      <th></th>\n",
       "      <th></th>\n",
       "      <th></th>\n",
       "      <th></th>\n",
       "      <th></th>\n",
       "      <th></th>\n",
       "      <th></th>\n",
       "      <th></th>\n",
       "      <th></th>\n",
       "      <th></th>\n",
       "      <th></th>\n",
       "      <th></th>\n",
       "      <th></th>\n",
       "      <th></th>\n",
       "      <th></th>\n",
       "      <th></th>\n",
       "      <th></th>\n",
       "      <th></th>\n",
       "      <th></th>\n",
       "    </tr>\n",
       "  </thead>\n",
       "  <tbody>\n",
       "    <tr>\n",
       "      <th>16042521.0</th>\n",
       "      <td>False</td>\n",
       "      <td>False</td>\n",
       "      <td>False</td>\n",
       "      <td>False</td>\n",
       "      <td>False</td>\n",
       "      <td>False</td>\n",
       "      <td>False</td>\n",
       "      <td>False</td>\n",
       "      <td>False</td>\n",
       "      <td>False</td>\n",
       "      <td>...</td>\n",
       "      <td>False</td>\n",
       "      <td>False</td>\n",
       "      <td>False</td>\n",
       "      <td>False</td>\n",
       "      <td>False</td>\n",
       "      <td>False</td>\n",
       "      <td>False</td>\n",
       "      <td>False</td>\n",
       "      <td>False</td>\n",
       "      <td>False</td>\n",
       "    </tr>\n",
       "    <tr>\n",
       "      <th>31071232.0</th>\n",
       "      <td>False</td>\n",
       "      <td>False</td>\n",
       "      <td>False</td>\n",
       "      <td>False</td>\n",
       "      <td>False</td>\n",
       "      <td>False</td>\n",
       "      <td>False</td>\n",
       "      <td>False</td>\n",
       "      <td>False</td>\n",
       "      <td>False</td>\n",
       "      <td>...</td>\n",
       "      <td>False</td>\n",
       "      <td>False</td>\n",
       "      <td>False</td>\n",
       "      <td>False</td>\n",
       "      <td>False</td>\n",
       "      <td>False</td>\n",
       "      <td>False</td>\n",
       "      <td>False</td>\n",
       "      <td>False</td>\n",
       "      <td>False</td>\n",
       "    </tr>\n",
       "    <tr>\n",
       "      <th>47871982.0</th>\n",
       "      <td>False</td>\n",
       "      <td>False</td>\n",
       "      <td>False</td>\n",
       "      <td>False</td>\n",
       "      <td>False</td>\n",
       "      <td>False</td>\n",
       "      <td>False</td>\n",
       "      <td>False</td>\n",
       "      <td>False</td>\n",
       "      <td>True</td>\n",
       "      <td>...</td>\n",
       "      <td>False</td>\n",
       "      <td>False</td>\n",
       "      <td>False</td>\n",
       "      <td>False</td>\n",
       "      <td>False</td>\n",
       "      <td>False</td>\n",
       "      <td>False</td>\n",
       "      <td>False</td>\n",
       "      <td>False</td>\n",
       "      <td>False</td>\n",
       "    </tr>\n",
       "    <tr>\n",
       "      <th>57493052.0</th>\n",
       "      <td>False</td>\n",
       "      <td>True</td>\n",
       "      <td>False</td>\n",
       "      <td>False</td>\n",
       "      <td>False</td>\n",
       "      <td>False</td>\n",
       "      <td>False</td>\n",
       "      <td>False</td>\n",
       "      <td>False</td>\n",
       "      <td>False</td>\n",
       "      <td>...</td>\n",
       "      <td>False</td>\n",
       "      <td>False</td>\n",
       "      <td>False</td>\n",
       "      <td>False</td>\n",
       "      <td>False</td>\n",
       "      <td>False</td>\n",
       "      <td>False</td>\n",
       "      <td>False</td>\n",
       "      <td>False</td>\n",
       "      <td>False</td>\n",
       "    </tr>\n",
       "    <tr>\n",
       "      <th>11779693.0</th>\n",
       "      <td>False</td>\n",
       "      <td>False</td>\n",
       "      <td>False</td>\n",
       "      <td>False</td>\n",
       "      <td>False</td>\n",
       "      <td>False</td>\n",
       "      <td>False</td>\n",
       "      <td>True</td>\n",
       "      <td>False</td>\n",
       "      <td>False</td>\n",
       "      <td>...</td>\n",
       "      <td>False</td>\n",
       "      <td>False</td>\n",
       "      <td>False</td>\n",
       "      <td>False</td>\n",
       "      <td>False</td>\n",
       "      <td>False</td>\n",
       "      <td>False</td>\n",
       "      <td>False</td>\n",
       "      <td>False</td>\n",
       "      <td>False</td>\n",
       "    </tr>\n",
       "    <tr>\n",
       "      <th>195502874.0</th>\n",
       "      <td>False</td>\n",
       "      <td>False</td>\n",
       "      <td>False</td>\n",
       "      <td>False</td>\n",
       "      <td>False</td>\n",
       "      <td>False</td>\n",
       "      <td>False</td>\n",
       "      <td>False</td>\n",
       "      <td>False</td>\n",
       "      <td>False</td>\n",
       "      <td>...</td>\n",
       "      <td>False</td>\n",
       "      <td>False</td>\n",
       "      <td>False</td>\n",
       "      <td>False</td>\n",
       "      <td>False</td>\n",
       "      <td>False</td>\n",
       "      <td>False</td>\n",
       "      <td>True</td>\n",
       "      <td>False</td>\n",
       "      <td>False</td>\n",
       "    </tr>\n",
       "    <tr>\n",
       "      <th>188660433.0</th>\n",
       "      <td>False</td>\n",
       "      <td>False</td>\n",
       "      <td>False</td>\n",
       "      <td>False</td>\n",
       "      <td>False</td>\n",
       "      <td>True</td>\n",
       "      <td>False</td>\n",
       "      <td>False</td>\n",
       "      <td>False</td>\n",
       "      <td>False</td>\n",
       "      <td>...</td>\n",
       "      <td>False</td>\n",
       "      <td>False</td>\n",
       "      <td>False</td>\n",
       "      <td>False</td>\n",
       "      <td>False</td>\n",
       "      <td>False</td>\n",
       "      <td>False</td>\n",
       "      <td>False</td>\n",
       "      <td>False</td>\n",
       "      <td>False</td>\n",
       "    </tr>\n",
       "    <tr>\n",
       "      <th>3550110.0</th>\n",
       "      <td>False</td>\n",
       "      <td>True</td>\n",
       "      <td>False</td>\n",
       "      <td>False</td>\n",
       "      <td>False</td>\n",
       "      <td>False</td>\n",
       "      <td>False</td>\n",
       "      <td>False</td>\n",
       "      <td>False</td>\n",
       "      <td>False</td>\n",
       "      <td>...</td>\n",
       "      <td>False</td>\n",
       "      <td>False</td>\n",
       "      <td>False</td>\n",
       "      <td>False</td>\n",
       "      <td>False</td>\n",
       "      <td>False</td>\n",
       "      <td>False</td>\n",
       "      <td>False</td>\n",
       "      <td>False</td>\n",
       "      <td>False</td>\n",
       "    </tr>\n",
       "    <tr>\n",
       "      <th>188658436.0</th>\n",
       "      <td>True</td>\n",
       "      <td>False</td>\n",
       "      <td>False</td>\n",
       "      <td>False</td>\n",
       "      <td>False</td>\n",
       "      <td>False</td>\n",
       "      <td>False</td>\n",
       "      <td>False</td>\n",
       "      <td>False</td>\n",
       "      <td>False</td>\n",
       "      <td>...</td>\n",
       "      <td>False</td>\n",
       "      <td>False</td>\n",
       "      <td>False</td>\n",
       "      <td>False</td>\n",
       "      <td>False</td>\n",
       "      <td>False</td>\n",
       "      <td>False</td>\n",
       "      <td>False</td>\n",
       "      <td>False</td>\n",
       "      <td>False</td>\n",
       "    </tr>\n",
       "    <tr>\n",
       "      <th>206059712.0</th>\n",
       "      <td>False</td>\n",
       "      <td>False</td>\n",
       "      <td>False</td>\n",
       "      <td>False</td>\n",
       "      <td>False</td>\n",
       "      <td>False</td>\n",
       "      <td>False</td>\n",
       "      <td>False</td>\n",
       "      <td>False</td>\n",
       "      <td>False</td>\n",
       "      <td>...</td>\n",
       "      <td>False</td>\n",
       "      <td>False</td>\n",
       "      <td>False</td>\n",
       "      <td>False</td>\n",
       "      <td>False</td>\n",
       "      <td>False</td>\n",
       "      <td>False</td>\n",
       "      <td>False</td>\n",
       "      <td>False</td>\n",
       "      <td>False</td>\n",
       "    </tr>\n",
       "  </tbody>\n",
       "</table>\n",
       "<p>10 rows × 70 columns</p>\n",
       "</div>"
      ],
      "text/plain": [
       "             Silicon Valley Entrepreneurs & Startups  SFHTML5  SF Data Mining  \\\n",
       "member_id                                                                       \n",
       "16042521.0                                     False    False           False   \n",
       "31071232.0                                     False    False           False   \n",
       "47871982.0                                     False    False           False   \n",
       "57493052.0                                     False     True           False   \n",
       "11779693.0                                     False    False           False   \n",
       "195502874.0                                    False    False           False   \n",
       "188660433.0                                    False    False           False   \n",
       "3550110.0                                      False     True           False   \n",
       "188658436.0                                     True    False           False   \n",
       "206059712.0                                    False    False           False   \n",
       "\n",
       "             Tech in Motion Events: San Francisco  Docker Online Meetup  \\\n",
       "member_id                                                                 \n",
       "16042521.0                                  False                 False   \n",
       "31071232.0                                  False                 False   \n",
       "47871982.0                                  False                 False   \n",
       "57493052.0                                  False                 False   \n",
       "11779693.0                                  False                 False   \n",
       "195502874.0                                 False                 False   \n",
       "188660433.0                                 False                 False   \n",
       "3550110.0                                   False                 False   \n",
       "188658436.0                                 False                 False   \n",
       "206059712.0                                 False                 False   \n",
       "\n",
       "             SF Data Science  Silicon Valley Cloud Computing  \\\n",
       "member_id                                                      \n",
       "16042521.0             False                           False   \n",
       "31071232.0             False                           False   \n",
       "47871982.0             False                           False   \n",
       "57493052.0             False                           False   \n",
       "11779693.0             False                           False   \n",
       "195502874.0            False                           False   \n",
       "188660433.0             True                           False   \n",
       "3550110.0              False                           False   \n",
       "188658436.0            False                           False   \n",
       "206059712.0            False                           False   \n",
       "\n",
       "             The Hive Think Tank  Bay Area Spark Meetup  \\\n",
       "member_id                                                 \n",
       "16042521.0                 False                  False   \n",
       "31071232.0                 False                  False   \n",
       "47871982.0                 False                  False   \n",
       "57493052.0                 False                  False   \n",
       "11779693.0                  True                  False   \n",
       "195502874.0                False                  False   \n",
       "188660433.0                False                  False   \n",
       "3550110.0                  False                  False   \n",
       "188658436.0                False                  False   \n",
       "206059712.0                False                  False   \n",
       "\n",
       "             Data Visualization Group in the Bay Area  ...  \\\n",
       "member_id                                              ...   \n",
       "16042521.0                                      False  ...   \n",
       "31071232.0                                      False  ...   \n",
       "47871982.0                                       True  ...   \n",
       "57493052.0                                      False  ...   \n",
       "11779693.0                                      False  ...   \n",
       "195502874.0                                     False  ...   \n",
       "188660433.0                                     False  ...   \n",
       "3550110.0                                       False  ...   \n",
       "188658436.0                                     False  ...   \n",
       "206059712.0                                     False  ...   \n",
       "\n",
       "             DataStax Cassandra SF Users  Ember.js San Francisco  SFNode  \\\n",
       "member_id                                                                  \n",
       "16042521.0                         False                   False   False   \n",
       "31071232.0                         False                   False   False   \n",
       "47871982.0                         False                   False   False   \n",
       "57493052.0                         False                   False   False   \n",
       "11779693.0                         False                   False   False   \n",
       "195502874.0                        False                   False   False   \n",
       "188660433.0                        False                   False   False   \n",
       "3550110.0                          False                   False   False   \n",
       "188658436.0                        False                   False   False   \n",
       "206059712.0                        False                   False   False   \n",
       "\n",
       "             Silicon Valley IoT and Wearable Devices  \\\n",
       "member_id                                              \n",
       "16042521.0                                     False   \n",
       "31071232.0                                     False   \n",
       "47871982.0                                     False   \n",
       "57493052.0                                     False   \n",
       "11779693.0                                     False   \n",
       "195502874.0                                    False   \n",
       "188660433.0                                    False   \n",
       "3550110.0                                      False   \n",
       "188658436.0                                    False   \n",
       "206059712.0                                    False   \n",
       "\n",
       "             San Francisco Bay Area Big Data and Scalable Systems  \\\n",
       "member_id                                                           \n",
       "16042521.0                                               False      \n",
       "31071232.0                                               False      \n",
       "47871982.0                                               False      \n",
       "57493052.0                                               False      \n",
       "11779693.0                                               False      \n",
       "195502874.0                                              False      \n",
       "188660433.0                                              False      \n",
       "3550110.0                                                False      \n",
       "188658436.0                                              False      \n",
       "206059712.0                                              False      \n",
       "\n",
       "             Developing with Data in San Francisco  \\\n",
       "member_id                                            \n",
       "16042521.0                                   False   \n",
       "31071232.0                                   False   \n",
       "47871982.0                                   False   \n",
       "57493052.0                                   False   \n",
       "11779693.0                                   False   \n",
       "195502874.0                                  False   \n",
       "188660433.0                                  False   \n",
       "3550110.0                                    False   \n",
       "188658436.0                                  False   \n",
       "206059712.0                                  False   \n",
       "\n",
       "             Elasticsearch San Francisco  Code Self Study  \\\n",
       "member_id                                                   \n",
       "16042521.0                         False            False   \n",
       "31071232.0                         False            False   \n",
       "47871982.0                         False            False   \n",
       "57493052.0                         False            False   \n",
       "11779693.0                         False            False   \n",
       "195502874.0                        False             True   \n",
       "188660433.0                        False            False   \n",
       "3550110.0                          False            False   \n",
       "188658436.0                        False            False   \n",
       "206059712.0                        False            False   \n",
       "\n",
       "             DataKind SF Bay Area  \\\n",
       "member_id                           \n",
       "16042521.0                  False   \n",
       "31071232.0                  False   \n",
       "47871982.0                  False   \n",
       "57493052.0                  False   \n",
       "11779693.0                  False   \n",
       "195502874.0                 False   \n",
       "188660433.0                 False   \n",
       "3550110.0                   False   \n",
       "188658436.0                 False   \n",
       "206059712.0                 False   \n",
       "\n",
       "             Bay Area Women in Machine Learning & Data Science  \n",
       "member_id                                                       \n",
       "16042521.0                                               False  \n",
       "31071232.0                                               False  \n",
       "47871982.0                                               False  \n",
       "57493052.0                                               False  \n",
       "11779693.0                                               False  \n",
       "195502874.0                                              False  \n",
       "188660433.0                                              False  \n",
       "3550110.0                                                False  \n",
       "188658436.0                                              False  \n",
       "206059712.0                                              False  \n",
       "\n",
       "[10 rows x 70 columns]"
      ]
     },
     "execution_count": 108,
     "metadata": {},
     "output_type": "execute_result"
    }
   ],
   "source": [
    "df_bool.sample(10)"
   ]
  },
  {
   "cell_type": "markdown",
   "id": "7810d367-6034-4da5-b135-d66e01cf44af",
   "metadata": {},
   "source": [
    "# Frequent groups"
   ]
  },
  {
   "cell_type": "code",
   "execution_count": 109,
   "id": "b29433d3-4efd-4f4d-a0da-7fd7a7ac6cc6",
   "metadata": {},
   "outputs": [],
   "source": [
    "frequent_itemsets = apriori(df_bool, \n",
    "                            min_support =.01, \n",
    "                            max_len = 3, \n",
    "                            use_colnames = True) "
   ]
  },
  {
   "cell_type": "code",
   "execution_count": 110,
   "id": "69dbb426-a8e5-426e-bda3-5497f81de14a",
   "metadata": {},
   "outputs": [
    {
     "name": "stdout",
     "output_type": "stream",
     "text": [
      "(110, 2)\n"
     ]
    },
    {
     "data": {
      "text/html": [
       "<div>\n",
       "<style scoped>\n",
       "    .dataframe tbody tr th:only-of-type {\n",
       "        vertical-align: middle;\n",
       "    }\n",
       "\n",
       "    .dataframe tbody tr th {\n",
       "        vertical-align: top;\n",
       "    }\n",
       "\n",
       "    .dataframe thead th {\n",
       "        text-align: right;\n",
       "    }\n",
       "</style>\n",
       "<table border=\"1\" class=\"dataframe\">\n",
       "  <thead>\n",
       "    <tr style=\"text-align: right;\">\n",
       "      <th></th>\n",
       "      <th>support</th>\n",
       "      <th>itemsets</th>\n",
       "    </tr>\n",
       "  </thead>\n",
       "  <tbody>\n",
       "    <tr>\n",
       "      <th>4</th>\n",
       "      <td>0.065538</td>\n",
       "      <td>(Docker Online Meetup)</td>\n",
       "    </tr>\n",
       "    <tr>\n",
       "      <th>3</th>\n",
       "      <td>0.069785</td>\n",
       "      <td>(Tech in Motion Events: San Francisco)</td>\n",
       "    </tr>\n",
       "    <tr>\n",
       "      <th>2</th>\n",
       "      <td>0.077902</td>\n",
       "      <td>(SF Data Mining)</td>\n",
       "    </tr>\n",
       "    <tr>\n",
       "      <th>1</th>\n",
       "      <td>0.105278</td>\n",
       "      <td>(SFHTML5)</td>\n",
       "    </tr>\n",
       "    <tr>\n",
       "      <th>0</th>\n",
       "      <td>0.191136</td>\n",
       "      <td>(Silicon Valley Entrepreneurs &amp; Startups)</td>\n",
       "    </tr>\n",
       "  </tbody>\n",
       "</table>\n",
       "</div>"
      ],
      "text/plain": [
       "    support                                   itemsets\n",
       "4  0.065538                     (Docker Online Meetup)\n",
       "3  0.069785     (Tech in Motion Events: San Francisco)\n",
       "2  0.077902                           (SF Data Mining)\n",
       "1  0.105278                                  (SFHTML5)\n",
       "0  0.191136  (Silicon Valley Entrepreneurs & Startups)"
      ]
     },
     "execution_count": 110,
     "metadata": {},
     "output_type": "execute_result"
    }
   ],
   "source": [
    "print(frequent_itemsets.shape)\n",
    "frequent_itemsets.sort_values(\"support\").tail()"
   ]
  },
  {
   "cell_type": "markdown",
   "id": "33cb2205-5227-4eb4-a5f0-88e1c116fc36",
   "metadata": {},
   "source": [
    "## Confidence"
   ]
  },
  {
   "cell_type": "code",
   "execution_count": 111,
   "id": "34cd5396-025e-49d5-933b-7d8f5950d07f",
   "metadata": {},
   "outputs": [],
   "source": [
    "rules = association_rules(frequent_itemsets, \n",
    "                          metric = 'confidence', \n",
    "                          min_threshold =.4 )"
   ]
  },
  {
   "cell_type": "code",
   "execution_count": 112,
   "id": "0ab7cc48-026f-42bf-86a4-12546b4dc722",
   "metadata": {},
   "outputs": [
    {
     "name": "stdout",
     "output_type": "stream",
     "text": [
      "(21, 9)\n"
     ]
    },
    {
     "data": {
      "text/html": [
       "<div>\n",
       "<style scoped>\n",
       "    .dataframe tbody tr th:only-of-type {\n",
       "        vertical-align: middle;\n",
       "    }\n",
       "\n",
       "    .dataframe tbody tr th {\n",
       "        vertical-align: top;\n",
       "    }\n",
       "\n",
       "    .dataframe thead th {\n",
       "        text-align: right;\n",
       "    }\n",
       "</style>\n",
       "<table border=\"1\" class=\"dataframe\">\n",
       "  <thead>\n",
       "    <tr style=\"text-align: right;\">\n",
       "      <th></th>\n",
       "      <th>antecedents</th>\n",
       "      <th>consequents</th>\n",
       "      <th>antecedent support</th>\n",
       "      <th>consequent support</th>\n",
       "      <th>support</th>\n",
       "      <th>confidence</th>\n",
       "      <th>lift</th>\n",
       "      <th>leverage</th>\n",
       "      <th>conviction</th>\n",
       "    </tr>\n",
       "  </thead>\n",
       "  <tbody>\n",
       "    <tr>\n",
       "      <th>0</th>\n",
       "      <td>(SF Founder Club)</td>\n",
       "      <td>(Silicon Valley Entrepreneurs &amp; Startups)</td>\n",
       "      <td>0.037808</td>\n",
       "      <td>0.191136</td>\n",
       "      <td>0.018048</td>\n",
       "      <td>0.477349</td>\n",
       "      <td>2.497432</td>\n",
       "      <td>0.010821</td>\n",
       "      <td>1.547619</td>\n",
       "    </tr>\n",
       "    <tr>\n",
       "      <th>1</th>\n",
       "      <td>(Angular-SF)</td>\n",
       "      <td>(SFHTML5)</td>\n",
       "      <td>0.026067</td>\n",
       "      <td>0.105278</td>\n",
       "      <td>0.012060</td>\n",
       "      <td>0.462666</td>\n",
       "      <td>4.394692</td>\n",
       "      <td>0.009316</td>\n",
       "      <td>1.665113</td>\n",
       "    </tr>\n",
       "    <tr>\n",
       "      <th>2</th>\n",
       "      <td>(SF Data Science)</td>\n",
       "      <td>(SF Data Mining)</td>\n",
       "      <td>0.065503</td>\n",
       "      <td>0.077902</td>\n",
       "      <td>0.027595</td>\n",
       "      <td>0.421286</td>\n",
       "      <td>5.407860</td>\n",
       "      <td>0.022493</td>\n",
       "      <td>1.593356</td>\n",
       "    </tr>\n",
       "    <tr>\n",
       "      <th>3</th>\n",
       "      <td>(SF Bayarea Machine Learning)</td>\n",
       "      <td>(SF Data Mining)</td>\n",
       "      <td>0.039153</td>\n",
       "      <td>0.077902</td>\n",
       "      <td>0.018069</td>\n",
       "      <td>0.461497</td>\n",
       "      <td>5.924030</td>\n",
       "      <td>0.015019</td>\n",
       "      <td>1.712334</td>\n",
       "    </tr>\n",
       "    <tr>\n",
       "      <th>4</th>\n",
       "      <td>(SF Big Analytics)</td>\n",
       "      <td>(SF Data Mining)</td>\n",
       "      <td>0.036428</td>\n",
       "      <td>0.077902</td>\n",
       "      <td>0.014757</td>\n",
       "      <td>0.405090</td>\n",
       "      <td>5.199966</td>\n",
       "      <td>0.011919</td>\n",
       "      <td>1.549979</td>\n",
       "    </tr>\n",
       "  </tbody>\n",
       "</table>\n",
       "</div>"
      ],
      "text/plain": [
       "                     antecedents                                consequents  \\\n",
       "0              (SF Founder Club)  (Silicon Valley Entrepreneurs & Startups)   \n",
       "1                   (Angular-SF)                                  (SFHTML5)   \n",
       "2              (SF Data Science)                           (SF Data Mining)   \n",
       "3  (SF Bayarea Machine Learning)                           (SF Data Mining)   \n",
       "4             (SF Big Analytics)                           (SF Data Mining)   \n",
       "\n",
       "   antecedent support  consequent support   support  confidence      lift  \\\n",
       "0            0.037808            0.191136  0.018048    0.477349  2.497432   \n",
       "1            0.026067            0.105278  0.012060    0.462666  4.394692   \n",
       "2            0.065503            0.077902  0.027595    0.421286  5.407860   \n",
       "3            0.039153            0.077902  0.018069    0.461497  5.924030   \n",
       "4            0.036428            0.077902  0.014757    0.405090  5.199966   \n",
       "\n",
       "   leverage  conviction  \n",
       "0  0.010821    1.547619  \n",
       "1  0.009316    1.665113  \n",
       "2  0.022493    1.593356  \n",
       "3  0.015019    1.712334  \n",
       "4  0.011919    1.549979  "
      ]
     },
     "execution_count": 112,
     "metadata": {},
     "output_type": "execute_result"
    }
   ],
   "source": [
    "print(rules.shape)\n",
    "rules.head()"
   ]
  },
  {
   "cell_type": "code",
   "execution_count": 113,
   "id": "b16a47d6-2e71-4415-960d-78a71dc13b26",
   "metadata": {},
   "outputs": [
    {
     "data": {
      "text/html": [
       "<div>\n",
       "<style scoped>\n",
       "    .dataframe tbody tr th:only-of-type {\n",
       "        vertical-align: middle;\n",
       "    }\n",
       "\n",
       "    .dataframe tbody tr th {\n",
       "        vertical-align: top;\n",
       "    }\n",
       "\n",
       "    .dataframe thead th {\n",
       "        text-align: right;\n",
       "    }\n",
       "</style>\n",
       "<table border=\"1\" class=\"dataframe\">\n",
       "  <thead>\n",
       "    <tr style=\"text-align: right;\">\n",
       "      <th></th>\n",
       "      <th>antecedents</th>\n",
       "      <th>consequents</th>\n",
       "      <th>antecedent support</th>\n",
       "      <th>consequent support</th>\n",
       "      <th>support</th>\n",
       "      <th>confidence</th>\n",
       "      <th>lift</th>\n",
       "      <th>leverage</th>\n",
       "      <th>conviction</th>\n",
       "    </tr>\n",
       "  </thead>\n",
       "  <tbody>\n",
       "    <tr>\n",
       "      <th>2</th>\n",
       "      <td>(SF Data Science)</td>\n",
       "      <td>(SF Data Mining)</td>\n",
       "      <td>0.065503</td>\n",
       "      <td>0.077902</td>\n",
       "      <td>0.027595</td>\n",
       "      <td>0.421286</td>\n",
       "      <td>5.40786</td>\n",
       "      <td>0.022493</td>\n",
       "      <td>1.593356</td>\n",
       "    </tr>\n",
       "  </tbody>\n",
       "</table>\n",
       "</div>"
      ],
      "text/plain": [
       "         antecedents       consequents  antecedent support  \\\n",
       "2  (SF Data Science)  (SF Data Mining)            0.065503   \n",
       "\n",
       "   consequent support   support  confidence     lift  leverage  conviction  \n",
       "2            0.077902  0.027595    0.421286  5.40786  0.022493    1.593356  "
      ]
     },
     "execution_count": 113,
     "metadata": {},
     "output_type": "execute_result"
    }
   ],
   "source": [
    "rules_data_consecuent = rules[rules['antecedents'] == {'SF Data Science'}]\n",
    "rules_data_consecuent.head()"
   ]
  },
  {
   "cell_type": "markdown",
   "id": "4882dd42-bae3-426b-84fd-e962cd267416",
   "metadata": {},
   "source": [
    "## Lift"
   ]
  },
  {
   "cell_type": "code",
   "execution_count": 114,
   "id": "45a3f729-3d00-404d-8558-58469cac9b23",
   "metadata": {},
   "outputs": [],
   "source": [
    "rules = association_rules(frequent_itemsets, \n",
    "                          metric = 'lift', \n",
    "                          min_threshold =1 )"
   ]
  },
  {
   "cell_type": "code",
   "execution_count": 115,
   "id": "620f4bd8-d0bf-45cb-9fa5-cc1c0b09794d",
   "metadata": {},
   "outputs": [
    {
     "name": "stdout",
     "output_type": "stream",
     "text": [
      "(88, 9)\n"
     ]
    },
    {
     "data": {
      "text/html": [
       "<div>\n",
       "<style scoped>\n",
       "    .dataframe tbody tr th:only-of-type {\n",
       "        vertical-align: middle;\n",
       "    }\n",
       "\n",
       "    .dataframe tbody tr th {\n",
       "        vertical-align: top;\n",
       "    }\n",
       "\n",
       "    .dataframe thead th {\n",
       "        text-align: right;\n",
       "    }\n",
       "</style>\n",
       "<table border=\"1\" class=\"dataframe\">\n",
       "  <thead>\n",
       "    <tr style=\"text-align: right;\">\n",
       "      <th></th>\n",
       "      <th>antecedents</th>\n",
       "      <th>consequents</th>\n",
       "      <th>antecedent support</th>\n",
       "      <th>consequent support</th>\n",
       "      <th>support</th>\n",
       "      <th>confidence</th>\n",
       "      <th>lift</th>\n",
       "      <th>leverage</th>\n",
       "      <th>conviction</th>\n",
       "    </tr>\n",
       "  </thead>\n",
       "  <tbody>\n",
       "    <tr>\n",
       "      <th>0</th>\n",
       "      <td>(Silicon Valley Entrepreneurs &amp; Startups)</td>\n",
       "      <td>(Tech in Motion Events: San Francisco)</td>\n",
       "      <td>0.191136</td>\n",
       "      <td>0.069785</td>\n",
       "      <td>0.015776</td>\n",
       "      <td>0.082537</td>\n",
       "      <td>1.182743</td>\n",
       "      <td>0.002437</td>\n",
       "      <td>1.013900</td>\n",
       "    </tr>\n",
       "    <tr>\n",
       "      <th>1</th>\n",
       "      <td>(Tech in Motion Events: San Francisco)</td>\n",
       "      <td>(Silicon Valley Entrepreneurs &amp; Startups)</td>\n",
       "      <td>0.069785</td>\n",
       "      <td>0.191136</td>\n",
       "      <td>0.015776</td>\n",
       "      <td>0.226065</td>\n",
       "      <td>1.182743</td>\n",
       "      <td>0.002437</td>\n",
       "      <td>1.045131</td>\n",
       "    </tr>\n",
       "    <tr>\n",
       "      <th>2</th>\n",
       "      <td>(Silicon Valley Cloud Computing)</td>\n",
       "      <td>(Silicon Valley Entrepreneurs &amp; Startups)</td>\n",
       "      <td>0.061292</td>\n",
       "      <td>0.191136</td>\n",
       "      <td>0.012754</td>\n",
       "      <td>0.208083</td>\n",
       "      <td>1.088665</td>\n",
       "      <td>0.001039</td>\n",
       "      <td>1.021400</td>\n",
       "    </tr>\n",
       "    <tr>\n",
       "      <th>3</th>\n",
       "      <td>(Silicon Valley Entrepreneurs &amp; Startups)</td>\n",
       "      <td>(Silicon Valley Cloud Computing)</td>\n",
       "      <td>0.191136</td>\n",
       "      <td>0.061292</td>\n",
       "      <td>0.012754</td>\n",
       "      <td>0.066726</td>\n",
       "      <td>1.088665</td>\n",
       "      <td>0.001039</td>\n",
       "      <td>1.005823</td>\n",
       "    </tr>\n",
       "    <tr>\n",
       "      <th>4</th>\n",
       "      <td>(The Hive Think Tank)</td>\n",
       "      <td>(Silicon Valley Entrepreneurs &amp; Startups)</td>\n",
       "      <td>0.060421</td>\n",
       "      <td>0.191136</td>\n",
       "      <td>0.012513</td>\n",
       "      <td>0.207099</td>\n",
       "      <td>1.083513</td>\n",
       "      <td>0.000964</td>\n",
       "      <td>1.020132</td>\n",
       "    </tr>\n",
       "  </tbody>\n",
       "</table>\n",
       "</div>"
      ],
      "text/plain": [
       "                                 antecedents  \\\n",
       "0  (Silicon Valley Entrepreneurs & Startups)   \n",
       "1     (Tech in Motion Events: San Francisco)   \n",
       "2           (Silicon Valley Cloud Computing)   \n",
       "3  (Silicon Valley Entrepreneurs & Startups)   \n",
       "4                      (The Hive Think Tank)   \n",
       "\n",
       "                                 consequents  antecedent support  \\\n",
       "0     (Tech in Motion Events: San Francisco)            0.191136   \n",
       "1  (Silicon Valley Entrepreneurs & Startups)            0.069785   \n",
       "2  (Silicon Valley Entrepreneurs & Startups)            0.061292   \n",
       "3           (Silicon Valley Cloud Computing)            0.191136   \n",
       "4  (Silicon Valley Entrepreneurs & Startups)            0.060421   \n",
       "\n",
       "   consequent support   support  confidence      lift  leverage  conviction  \n",
       "0            0.069785  0.015776    0.082537  1.182743  0.002437    1.013900  \n",
       "1            0.191136  0.015776    0.226065  1.182743  0.002437    1.045131  \n",
       "2            0.191136  0.012754    0.208083  1.088665  0.001039    1.021400  \n",
       "3            0.061292  0.012754    0.066726  1.088665  0.001039    1.005823  \n",
       "4            0.191136  0.012513    0.207099  1.083513  0.000964    1.020132  "
      ]
     },
     "execution_count": 115,
     "metadata": {},
     "output_type": "execute_result"
    }
   ],
   "source": [
    "print(rules.shape)\n",
    "rules.head()"
   ]
  },
  {
   "cell_type": "markdown",
   "id": "52093f49-b1a2-4dd4-8835-fb692bcf11d1",
   "metadata": {},
   "source": [
    "### Groups related to SF Data Science"
   ]
  },
  {
   "cell_type": "code",
   "execution_count": 116,
   "id": "5c88e834-7cbc-4308-920a-333fdce2dd04",
   "metadata": {},
   "outputs": [
    {
     "data": {
      "text/html": [
       "<div>\n",
       "<style scoped>\n",
       "    .dataframe tbody tr th:only-of-type {\n",
       "        vertical-align: middle;\n",
       "    }\n",
       "\n",
       "    .dataframe tbody tr th {\n",
       "        vertical-align: top;\n",
       "    }\n",
       "\n",
       "    .dataframe thead th {\n",
       "        text-align: right;\n",
       "    }\n",
       "</style>\n",
       "<table border=\"1\" class=\"dataframe\">\n",
       "  <thead>\n",
       "    <tr style=\"text-align: right;\">\n",
       "      <th></th>\n",
       "      <th>antecedents</th>\n",
       "      <th>consequents</th>\n",
       "      <th>antecedent support</th>\n",
       "      <th>consequent support</th>\n",
       "      <th>support</th>\n",
       "      <th>confidence</th>\n",
       "      <th>lift</th>\n",
       "      <th>leverage</th>\n",
       "      <th>conviction</th>\n",
       "    </tr>\n",
       "  </thead>\n",
       "  <tbody>\n",
       "    <tr>\n",
       "      <th>18</th>\n",
       "      <td>(SF Data Science)</td>\n",
       "      <td>(SF Data Mining)</td>\n",
       "      <td>0.065503</td>\n",
       "      <td>0.077902</td>\n",
       "      <td>0.027595</td>\n",
       "      <td>0.421286</td>\n",
       "      <td>5.407860</td>\n",
       "      <td>0.022493</td>\n",
       "      <td>1.593356</td>\n",
       "    </tr>\n",
       "    <tr>\n",
       "      <th>39</th>\n",
       "      <td>(SF Data Science)</td>\n",
       "      <td>(Bay Area Spark Meetup)</td>\n",
       "      <td>0.065503</td>\n",
       "      <td>0.055559</td>\n",
       "      <td>0.013306</td>\n",
       "      <td>0.203133</td>\n",
       "      <td>3.656195</td>\n",
       "      <td>0.009667</td>\n",
       "      <td>1.185194</td>\n",
       "    </tr>\n",
       "    <tr>\n",
       "      <th>41</th>\n",
       "      <td>(SF Data Science)</td>\n",
       "      <td>(Data Visualization Group in the Bay Area)</td>\n",
       "      <td>0.065503</td>\n",
       "      <td>0.051383</td>\n",
       "      <td>0.013808</td>\n",
       "      <td>0.210805</td>\n",
       "      <td>4.102625</td>\n",
       "      <td>0.010443</td>\n",
       "      <td>1.202006</td>\n",
       "    </tr>\n",
       "    <tr>\n",
       "      <th>42</th>\n",
       "      <td>(SF Data Science)</td>\n",
       "      <td>(SF Bayarea Machine Learning)</td>\n",
       "      <td>0.065503</td>\n",
       "      <td>0.039153</td>\n",
       "      <td>0.014573</td>\n",
       "      <td>0.222474</td>\n",
       "      <td>5.682184</td>\n",
       "      <td>0.012008</td>\n",
       "      <td>1.235775</td>\n",
       "    </tr>\n",
       "    <tr>\n",
       "      <th>45</th>\n",
       "      <td>(SF Data Science)</td>\n",
       "      <td>(SF Big Analytics)</td>\n",
       "      <td>0.065503</td>\n",
       "      <td>0.036428</td>\n",
       "      <td>0.016271</td>\n",
       "      <td>0.248406</td>\n",
       "      <td>6.819083</td>\n",
       "      <td>0.013885</td>\n",
       "      <td>1.282038</td>\n",
       "    </tr>\n",
       "  </tbody>\n",
       "</table>\n",
       "</div>"
      ],
      "text/plain": [
       "          antecedents                                 consequents  \\\n",
       "18  (SF Data Science)                            (SF Data Mining)   \n",
       "39  (SF Data Science)                     (Bay Area Spark Meetup)   \n",
       "41  (SF Data Science)  (Data Visualization Group in the Bay Area)   \n",
       "42  (SF Data Science)               (SF Bayarea Machine Learning)   \n",
       "45  (SF Data Science)                          (SF Big Analytics)   \n",
       "\n",
       "    antecedent support  consequent support   support  confidence      lift  \\\n",
       "18            0.065503            0.077902  0.027595    0.421286  5.407860   \n",
       "39            0.065503            0.055559  0.013306    0.203133  3.656195   \n",
       "41            0.065503            0.051383  0.013808    0.210805  4.102625   \n",
       "42            0.065503            0.039153  0.014573    0.222474  5.682184   \n",
       "45            0.065503            0.036428  0.016271    0.248406  6.819083   \n",
       "\n",
       "    leverage  conviction  \n",
       "18  0.022493    1.593356  \n",
       "39  0.009667    1.185194  \n",
       "41  0.010443    1.202006  \n",
       "42  0.012008    1.235775  \n",
       "45  0.013885    1.282038  "
      ]
     },
     "execution_count": 116,
     "metadata": {},
     "output_type": "execute_result"
    }
   ],
   "source": [
    "rules_data_consecuent = rules[rules['antecedents'] == {'SF Data Science'}]\n",
    "rules_data_consecuent.head()"
   ]
  }
 ],
 "metadata": {
  "kernelspec": {
   "display_name": "Python 3 (ipykernel)",
   "language": "python",
   "name": "python3"
  },
  "language_info": {
   "codemirror_mode": {
    "name": "ipython",
    "version": 3
   },
   "file_extension": ".py",
   "mimetype": "text/x-python",
   "name": "python",
   "nbconvert_exporter": "python",
   "pygments_lexer": "ipython3",
   "version": "3.8.10"
  }
 },
 "nbformat": 4,
 "nbformat_minor": 5
}
