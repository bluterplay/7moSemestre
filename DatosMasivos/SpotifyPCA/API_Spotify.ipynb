{
 "cells": [
  {
   "cell_type": "markdown",
   "metadata": {
    "tags": []
   },
   "source": [
    "# PCA con datos de spotify"
   ]
  },
  {
   "cell_type": "markdown",
   "metadata": {},
   "source": [
    "## Modulos"
   ]
  },
  {
   "cell_type": "code",
   "execution_count": 3,
   "metadata": {},
   "outputs": [],
   "source": [
    "import pandas as pd \n",
    "import spotipy \n",
    "import json\n",
    "import datetime \n",
    "import os\n",
    "\n",
    "from sklearn.decomposition import PCA\n",
    "import seaborn as sns\n",
    "import matplotlib.pyplot as plt\n",
    "\n",
    "sp = spotipy.Spotify() \n",
    "from spotipy.oauth2 import SpotifyClientCredentials "
   ]
  },
  {
   "cell_type": "markdown",
   "metadata": {},
   "source": [
    "## Configuracion de API"
   ]
  },
  {
   "cell_type": "code",
   "execution_count": 4,
   "metadata": {},
   "outputs": [],
   "source": [
    "# Credenciales\n",
    "cid =\"60b986662af54fa2994d5e8087b00f1d\" \n",
    "secret = \"e03e361201c043fbafd24d372f7439ac\" "
   ]
  },
  {
   "cell_type": "code",
   "execution_count": 5,
   "metadata": {},
   "outputs": [],
   "source": [
    "client_credentials_manager = SpotifyClientCredentials(client_id=cid, client_secret=secret) \n",
    "sp = spotipy.Spotify(client_credentials_manager=client_credentials_manager) \n",
    "sp.trace=False "
   ]
  },
  {
   "cell_type": "markdown",
   "metadata": {},
   "source": [
    "### Bajar datos"
   ]
  },
  {
   "cell_type": "markdown",
   "metadata": {},
   "source": [
    "https://open.spotify.com/playlist/4Tf5k9f9FkkOfMtmGjOYF0?si=f83dda06b306483a"
   ]
  },
  {
   "cell_type": "code",
   "execution_count": 6,
   "metadata": {},
   "outputs": [],
   "source": [
    "# Utilizar el id de la playlist de su preferencia\n",
    "top_50_global = sp.user_playlist_tracks(\"bluterplay\", \"4Tf5k9f9FkkOfMtmGjOYF0?si=f83dda06b306483a\")"
   ]
  },
  {
   "cell_type": "code",
   "execution_count": 7,
   "metadata": {},
   "outputs": [
    {
     "name": "stdout",
     "output_type": "stream",
     "text": [
      "dict_keys(['collaborative', 'description', 'external_urls', 'followers', 'href', 'id', 'images', 'name', 'owner', 'primary_color', 'public', 'snapshot_id', 'tracks', 'type', 'uri'])\n"
     ]
    }
   ],
   "source": [
    "# La consulta nos regresa un objeto en formato json\n",
    "print(top_50_global.keys())"
   ]
  },
  {
   "cell_type": "code",
   "execution_count": 8,
   "metadata": {
    "scrolled": true,
    "tags": []
   },
   "outputs": [],
   "source": [
    "# Inspeccionar los datos\n",
    "#print(json.dumps(top_50_global['tracks'][\"items\"], indent = 4))"
   ]
  },
  {
   "cell_type": "markdown",
   "metadata": {},
   "source": [
    "## Tracks"
   ]
  },
  {
   "cell_type": "code",
   "execution_count": 9,
   "metadata": {},
   "outputs": [
    {
     "data": {
      "text/plain": [
       "64"
      ]
     },
     "execution_count": 9,
     "metadata": {},
     "output_type": "execute_result"
    }
   ],
   "source": [
    "tracks = top_50_global['tracks']['items']\n",
    "len(tracks)"
   ]
  },
  {
   "cell_type": "code",
   "execution_count": 10,
   "metadata": {},
   "outputs": [],
   "source": [
    "# Extraer el id de las canciones\n",
    "ids = [] \n",
    "for i in range(len(tracks)): \n",
    "    ids.append(tracks[i][\"track\"][\"id\"]) "
   ]
  },
  {
   "cell_type": "markdown",
   "metadata": {},
   "source": [
    "### Caracteristicas de las canciones"
   ]
  },
  {
   "cell_type": "code",
   "execution_count": 11,
   "metadata": {},
   "outputs": [],
   "source": [
    "# Obtener las características de las canciones\n",
    "features=pd.DataFrame(sp.audio_features(ids))"
   ]
  },
  {
   "cell_type": "code",
   "execution_count": 12,
   "metadata": {},
   "outputs": [
    {
     "data": {
      "text/plain": [
       "(64, 18)"
      ]
     },
     "execution_count": 12,
     "metadata": {},
     "output_type": "execute_result"
    }
   ],
   "source": [
    "features.shape"
   ]
  },
  {
   "cell_type": "code",
   "execution_count": 13,
   "metadata": {},
   "outputs": [
    {
     "data": {
      "text/html": [
       "<div>\n",
       "<style scoped>\n",
       "    .dataframe tbody tr th:only-of-type {\n",
       "        vertical-align: middle;\n",
       "    }\n",
       "\n",
       "    .dataframe tbody tr th {\n",
       "        vertical-align: top;\n",
       "    }\n",
       "\n",
       "    .dataframe thead th {\n",
       "        text-align: right;\n",
       "    }\n",
       "</style>\n",
       "<table border=\"1\" class=\"dataframe\">\n",
       "  <thead>\n",
       "    <tr style=\"text-align: right;\">\n",
       "      <th></th>\n",
       "      <th>danceability</th>\n",
       "      <th>energy</th>\n",
       "      <th>key</th>\n",
       "      <th>loudness</th>\n",
       "      <th>mode</th>\n",
       "      <th>speechiness</th>\n",
       "      <th>acousticness</th>\n",
       "      <th>instrumentalness</th>\n",
       "      <th>liveness</th>\n",
       "      <th>valence</th>\n",
       "      <th>tempo</th>\n",
       "      <th>type</th>\n",
       "      <th>id</th>\n",
       "      <th>uri</th>\n",
       "      <th>track_href</th>\n",
       "      <th>analysis_url</th>\n",
       "      <th>duration_ms</th>\n",
       "      <th>time_signature</th>\n",
       "    </tr>\n",
       "  </thead>\n",
       "  <tbody>\n",
       "    <tr>\n",
       "      <th>0</th>\n",
       "      <td>0.378</td>\n",
       "      <td>0.0541</td>\n",
       "      <td>8</td>\n",
       "      <td>-19.237</td>\n",
       "      <td>1</td>\n",
       "      <td>0.0385</td>\n",
       "      <td>0.9300</td>\n",
       "      <td>0.002190</td>\n",
       "      <td>0.117</td>\n",
       "      <td>0.175</td>\n",
       "      <td>115.366</td>\n",
       "      <td>audio_features</td>\n",
       "      <td>2ax8gOAjvG2nbztOKKQRsk</td>\n",
       "      <td>spotify:track:2ax8gOAjvG2nbztOKKQRsk</td>\n",
       "      <td>https://api.spotify.com/v1/tracks/2ax8gOAjvG2n...</td>\n",
       "      <td>https://api.spotify.com/v1/audio-analysis/2ax8...</td>\n",
       "      <td>308622</td>\n",
       "      <td>5</td>\n",
       "    </tr>\n",
       "    <tr>\n",
       "      <th>1</th>\n",
       "      <td>0.454</td>\n",
       "      <td>0.4190</td>\n",
       "      <td>9</td>\n",
       "      <td>-5.678</td>\n",
       "      <td>1</td>\n",
       "      <td>0.0255</td>\n",
       "      <td>0.1960</td>\n",
       "      <td>0.003900</td>\n",
       "      <td>0.197</td>\n",
       "      <td>0.238</td>\n",
       "      <td>146.711</td>\n",
       "      <td>audio_features</td>\n",
       "      <td>3HMYsT5mnqQ57tVjvqlETb</td>\n",
       "      <td>spotify:track:3HMYsT5mnqQ57tVjvqlETb</td>\n",
       "      <td>https://api.spotify.com/v1/tracks/3HMYsT5mnqQ5...</td>\n",
       "      <td>https://api.spotify.com/v1/audio-analysis/3HMY...</td>\n",
       "      <td>256773</td>\n",
       "      <td>3</td>\n",
       "    </tr>\n",
       "    <tr>\n",
       "      <th>2</th>\n",
       "      <td>0.400</td>\n",
       "      <td>0.5410</td>\n",
       "      <td>7</td>\n",
       "      <td>-4.527</td>\n",
       "      <td>1</td>\n",
       "      <td>0.0274</td>\n",
       "      <td>0.5570</td>\n",
       "      <td>0.000021</td>\n",
       "      <td>0.136</td>\n",
       "      <td>0.268</td>\n",
       "      <td>99.343</td>\n",
       "      <td>audio_features</td>\n",
       "      <td>28UP90XhjCovLtieduYr9P</td>\n",
       "      <td>spotify:track:28UP90XhjCovLtieduYr9P</td>\n",
       "      <td>https://api.spotify.com/v1/tracks/28UP90XhjCov...</td>\n",
       "      <td>https://api.spotify.com/v1/audio-analysis/28UP...</td>\n",
       "      <td>227587</td>\n",
       "      <td>3</td>\n",
       "    </tr>\n",
       "    <tr>\n",
       "      <th>3</th>\n",
       "      <td>0.678</td>\n",
       "      <td>0.7980</td>\n",
       "      <td>2</td>\n",
       "      <td>-6.420</td>\n",
       "      <td>1</td>\n",
       "      <td>0.0275</td>\n",
       "      <td>0.3190</td>\n",
       "      <td>0.000008</td>\n",
       "      <td>0.692</td>\n",
       "      <td>0.688</td>\n",
       "      <td>115.995</td>\n",
       "      <td>audio_features</td>\n",
       "      <td>2VUKFxZjXI557zTA7VWXyc</td>\n",
       "      <td>spotify:track:2VUKFxZjXI557zTA7VWXyc</td>\n",
       "      <td>https://api.spotify.com/v1/tracks/2VUKFxZjXI55...</td>\n",
       "      <td>https://api.spotify.com/v1/audio-analysis/2VUK...</td>\n",
       "      <td>214947</td>\n",
       "      <td>4</td>\n",
       "    </tr>\n",
       "    <tr>\n",
       "      <th>4</th>\n",
       "      <td>0.596</td>\n",
       "      <td>0.4840</td>\n",
       "      <td>10</td>\n",
       "      <td>-7.998</td>\n",
       "      <td>1</td>\n",
       "      <td>0.0257</td>\n",
       "      <td>0.0244</td>\n",
       "      <td>0.016100</td>\n",
       "      <td>0.113</td>\n",
       "      <td>0.464</td>\n",
       "      <td>129.887</td>\n",
       "      <td>audio_features</td>\n",
       "      <td>1DiUilN3hDilolLnocCh31</td>\n",
       "      <td>spotify:track:1DiUilN3hDilolLnocCh31</td>\n",
       "      <td>https://api.spotify.com/v1/tracks/1DiUilN3hDil...</td>\n",
       "      <td>https://api.spotify.com/v1/audio-analysis/1DiU...</td>\n",
       "      <td>278520</td>\n",
       "      <td>3</td>\n",
       "    </tr>\n",
       "  </tbody>\n",
       "</table>\n",
       "</div>"
      ],
      "text/plain": [
       "   danceability  energy  key  loudness  mode  speechiness  acousticness  \\\n",
       "0         0.378  0.0541    8   -19.237     1       0.0385        0.9300   \n",
       "1         0.454  0.4190    9    -5.678     1       0.0255        0.1960   \n",
       "2         0.400  0.5410    7    -4.527     1       0.0274        0.5570   \n",
       "3         0.678  0.7980    2    -6.420     1       0.0275        0.3190   \n",
       "4         0.596  0.4840   10    -7.998     1       0.0257        0.0244   \n",
       "\n",
       "   instrumentalness  liveness  valence    tempo            type  \\\n",
       "0          0.002190     0.117    0.175  115.366  audio_features   \n",
       "1          0.003900     0.197    0.238  146.711  audio_features   \n",
       "2          0.000021     0.136    0.268   99.343  audio_features   \n",
       "3          0.000008     0.692    0.688  115.995  audio_features   \n",
       "4          0.016100     0.113    0.464  129.887  audio_features   \n",
       "\n",
       "                       id                                   uri  \\\n",
       "0  2ax8gOAjvG2nbztOKKQRsk  spotify:track:2ax8gOAjvG2nbztOKKQRsk   \n",
       "1  3HMYsT5mnqQ57tVjvqlETb  spotify:track:3HMYsT5mnqQ57tVjvqlETb   \n",
       "2  28UP90XhjCovLtieduYr9P  spotify:track:28UP90XhjCovLtieduYr9P   \n",
       "3  2VUKFxZjXI557zTA7VWXyc  spotify:track:2VUKFxZjXI557zTA7VWXyc   \n",
       "4  1DiUilN3hDilolLnocCh31  spotify:track:1DiUilN3hDilolLnocCh31   \n",
       "\n",
       "                                          track_href  \\\n",
       "0  https://api.spotify.com/v1/tracks/2ax8gOAjvG2n...   \n",
       "1  https://api.spotify.com/v1/tracks/3HMYsT5mnqQ5...   \n",
       "2  https://api.spotify.com/v1/tracks/28UP90XhjCov...   \n",
       "3  https://api.spotify.com/v1/tracks/2VUKFxZjXI55...   \n",
       "4  https://api.spotify.com/v1/tracks/1DiUilN3hDil...   \n",
       "\n",
       "                                        analysis_url  duration_ms  \\\n",
       "0  https://api.spotify.com/v1/audio-analysis/2ax8...       308622   \n",
       "1  https://api.spotify.com/v1/audio-analysis/3HMY...       256773   \n",
       "2  https://api.spotify.com/v1/audio-analysis/28UP...       227587   \n",
       "3  https://api.spotify.com/v1/audio-analysis/2VUK...       214947   \n",
       "4  https://api.spotify.com/v1/audio-analysis/1DiU...       278520   \n",
       "\n",
       "   time_signature  \n",
       "0               5  \n",
       "1               3  \n",
       "2               3  \n",
       "3               4  \n",
       "4               3  "
      ]
     },
     "execution_count": 13,
     "metadata": {},
     "output_type": "execute_result"
    }
   ],
   "source": [
    "features.head()"
   ]
  },
  {
   "cell_type": "markdown",
   "metadata": {},
   "source": [
    "### Extracción de datos"
   ]
  },
  {
   "cell_type": "code",
   "execution_count": 14,
   "metadata": {},
   "outputs": [],
   "source": [
    "#Extraer otros datos útiles: artista, canción,... \n",
    "\n",
    "num_top = [(i+1) for i in range(len(tracks))]\n",
    "\n",
    "artist_name = []\n",
    "song_name = []\n",
    "popularity = []\n",
    "\n",
    "for item in top_50_global['tracks']['items']:\n",
    "    artist_name.append(item['track']['album']['artists'][0]['name'])\n",
    "    song_name.append(item['track']['name'])\n",
    "    popularity.append(item['track']['popularity'])"
   ]
  },
  {
   "cell_type": "code",
   "execution_count": 15,
   "metadata": {},
   "outputs": [],
   "source": [
    "# Agregar las características previas al dataframe\n",
    "features['artist_name'] = artist_name\n",
    "features['song_name'] = song_name\n",
    "features['num_top'] = num_top\n",
    "features['popularity'] = popularity"
   ]
  },
  {
   "cell_type": "markdown",
   "metadata": {},
   "source": [
    "### Dataset final"
   ]
  },
  {
   "cell_type": "code",
   "execution_count": 16,
   "metadata": {},
   "outputs": [
    {
     "data": {
      "text/html": [
       "<div>\n",
       "<style scoped>\n",
       "    .dataframe tbody tr th:only-of-type {\n",
       "        vertical-align: middle;\n",
       "    }\n",
       "\n",
       "    .dataframe tbody tr th {\n",
       "        vertical-align: top;\n",
       "    }\n",
       "\n",
       "    .dataframe thead th {\n",
       "        text-align: right;\n",
       "    }\n",
       "</style>\n",
       "<table border=\"1\" class=\"dataframe\">\n",
       "  <thead>\n",
       "    <tr style=\"text-align: right;\">\n",
       "      <th></th>\n",
       "      <th>danceability</th>\n",
       "      <th>energy</th>\n",
       "      <th>key</th>\n",
       "      <th>loudness</th>\n",
       "      <th>mode</th>\n",
       "      <th>speechiness</th>\n",
       "      <th>acousticness</th>\n",
       "      <th>instrumentalness</th>\n",
       "      <th>liveness</th>\n",
       "      <th>valence</th>\n",
       "      <th>...</th>\n",
       "      <th>id</th>\n",
       "      <th>uri</th>\n",
       "      <th>track_href</th>\n",
       "      <th>analysis_url</th>\n",
       "      <th>duration_ms</th>\n",
       "      <th>time_signature</th>\n",
       "      <th>artist_name</th>\n",
       "      <th>song_name</th>\n",
       "      <th>num_top</th>\n",
       "      <th>popularity</th>\n",
       "    </tr>\n",
       "  </thead>\n",
       "  <tbody>\n",
       "    <tr>\n",
       "      <th>0</th>\n",
       "      <td>0.378</td>\n",
       "      <td>0.0541</td>\n",
       "      <td>8</td>\n",
       "      <td>-19.237</td>\n",
       "      <td>1</td>\n",
       "      <td>0.0385</td>\n",
       "      <td>0.9300</td>\n",
       "      <td>0.002190</td>\n",
       "      <td>0.117</td>\n",
       "      <td>0.175</td>\n",
       "      <td>...</td>\n",
       "      <td>2ax8gOAjvG2nbztOKKQRsk</td>\n",
       "      <td>spotify:track:2ax8gOAjvG2nbztOKKQRsk</td>\n",
       "      <td>https://api.spotify.com/v1/tracks/2ax8gOAjvG2n...</td>\n",
       "      <td>https://api.spotify.com/v1/audio-analysis/2ax8...</td>\n",
       "      <td>308622</td>\n",
       "      <td>5</td>\n",
       "      <td>Café Tacvba</td>\n",
       "      <td>El Mundo en Que Nací</td>\n",
       "      <td>1</td>\n",
       "      <td>32</td>\n",
       "    </tr>\n",
       "    <tr>\n",
       "      <th>1</th>\n",
       "      <td>0.454</td>\n",
       "      <td>0.4190</td>\n",
       "      <td>9</td>\n",
       "      <td>-5.678</td>\n",
       "      <td>1</td>\n",
       "      <td>0.0255</td>\n",
       "      <td>0.1960</td>\n",
       "      <td>0.003900</td>\n",
       "      <td>0.197</td>\n",
       "      <td>0.238</td>\n",
       "      <td>...</td>\n",
       "      <td>3HMYsT5mnqQ57tVjvqlETb</td>\n",
       "      <td>spotify:track:3HMYsT5mnqQ57tVjvqlETb</td>\n",
       "      <td>https://api.spotify.com/v1/tracks/3HMYsT5mnqQ5...</td>\n",
       "      <td>https://api.spotify.com/v1/audio-analysis/3HMY...</td>\n",
       "      <td>256773</td>\n",
       "      <td>3</td>\n",
       "      <td>Mon Laferte</td>\n",
       "      <td>Flaco</td>\n",
       "      <td>2</td>\n",
       "      <td>61</td>\n",
       "    </tr>\n",
       "    <tr>\n",
       "      <th>2</th>\n",
       "      <td>0.400</td>\n",
       "      <td>0.5410</td>\n",
       "      <td>7</td>\n",
       "      <td>-4.527</td>\n",
       "      <td>1</td>\n",
       "      <td>0.0274</td>\n",
       "      <td>0.5570</td>\n",
       "      <td>0.000021</td>\n",
       "      <td>0.136</td>\n",
       "      <td>0.268</td>\n",
       "      <td>...</td>\n",
       "      <td>28UP90XhjCovLtieduYr9P</td>\n",
       "      <td>spotify:track:28UP90XhjCovLtieduYr9P</td>\n",
       "      <td>https://api.spotify.com/v1/tracks/28UP90XhjCov...</td>\n",
       "      <td>https://api.spotify.com/v1/audio-analysis/28UP...</td>\n",
       "      <td>227587</td>\n",
       "      <td>3</td>\n",
       "      <td>Mon Laferte</td>\n",
       "      <td>Mi Buen Amor</td>\n",
       "      <td>3</td>\n",
       "      <td>74</td>\n",
       "    </tr>\n",
       "    <tr>\n",
       "      <th>3</th>\n",
       "      <td>0.678</td>\n",
       "      <td>0.7980</td>\n",
       "      <td>2</td>\n",
       "      <td>-6.420</td>\n",
       "      <td>1</td>\n",
       "      <td>0.0275</td>\n",
       "      <td>0.3190</td>\n",
       "      <td>0.000008</td>\n",
       "      <td>0.692</td>\n",
       "      <td>0.688</td>\n",
       "      <td>...</td>\n",
       "      <td>2VUKFxZjXI557zTA7VWXyc</td>\n",
       "      <td>spotify:track:2VUKFxZjXI557zTA7VWXyc</td>\n",
       "      <td>https://api.spotify.com/v1/tracks/2VUKFxZjXI55...</td>\n",
       "      <td>https://api.spotify.com/v1/audio-analysis/2VUK...</td>\n",
       "      <td>214947</td>\n",
       "      <td>4</td>\n",
       "      <td>Bronco</td>\n",
       "      <td>Corazón Duro ( Primera Fila ) - En Vivo</td>\n",
       "      <td>4</td>\n",
       "      <td>41</td>\n",
       "    </tr>\n",
       "    <tr>\n",
       "      <th>4</th>\n",
       "      <td>0.596</td>\n",
       "      <td>0.4840</td>\n",
       "      <td>10</td>\n",
       "      <td>-7.998</td>\n",
       "      <td>1</td>\n",
       "      <td>0.0257</td>\n",
       "      <td>0.0244</td>\n",
       "      <td>0.016100</td>\n",
       "      <td>0.113</td>\n",
       "      <td>0.464</td>\n",
       "      <td>...</td>\n",
       "      <td>1DiUilN3hDilolLnocCh31</td>\n",
       "      <td>spotify:track:1DiUilN3hDilolLnocCh31</td>\n",
       "      <td>https://api.spotify.com/v1/tracks/1DiUilN3hDil...</td>\n",
       "      <td>https://api.spotify.com/v1/audio-analysis/1DiU...</td>\n",
       "      <td>278520</td>\n",
       "      <td>3</td>\n",
       "      <td>Mon Laferte</td>\n",
       "      <td>Tu Falta De Querer</td>\n",
       "      <td>5</td>\n",
       "      <td>43</td>\n",
       "    </tr>\n",
       "  </tbody>\n",
       "</table>\n",
       "<p>5 rows × 22 columns</p>\n",
       "</div>"
      ],
      "text/plain": [
       "   danceability  energy  key  loudness  mode  speechiness  acousticness  \\\n",
       "0         0.378  0.0541    8   -19.237     1       0.0385        0.9300   \n",
       "1         0.454  0.4190    9    -5.678     1       0.0255        0.1960   \n",
       "2         0.400  0.5410    7    -4.527     1       0.0274        0.5570   \n",
       "3         0.678  0.7980    2    -6.420     1       0.0275        0.3190   \n",
       "4         0.596  0.4840   10    -7.998     1       0.0257        0.0244   \n",
       "\n",
       "   instrumentalness  liveness  valence  ...                      id  \\\n",
       "0          0.002190     0.117    0.175  ...  2ax8gOAjvG2nbztOKKQRsk   \n",
       "1          0.003900     0.197    0.238  ...  3HMYsT5mnqQ57tVjvqlETb   \n",
       "2          0.000021     0.136    0.268  ...  28UP90XhjCovLtieduYr9P   \n",
       "3          0.000008     0.692    0.688  ...  2VUKFxZjXI557zTA7VWXyc   \n",
       "4          0.016100     0.113    0.464  ...  1DiUilN3hDilolLnocCh31   \n",
       "\n",
       "                                    uri  \\\n",
       "0  spotify:track:2ax8gOAjvG2nbztOKKQRsk   \n",
       "1  spotify:track:3HMYsT5mnqQ57tVjvqlETb   \n",
       "2  spotify:track:28UP90XhjCovLtieduYr9P   \n",
       "3  spotify:track:2VUKFxZjXI557zTA7VWXyc   \n",
       "4  spotify:track:1DiUilN3hDilolLnocCh31   \n",
       "\n",
       "                                          track_href  \\\n",
       "0  https://api.spotify.com/v1/tracks/2ax8gOAjvG2n...   \n",
       "1  https://api.spotify.com/v1/tracks/3HMYsT5mnqQ5...   \n",
       "2  https://api.spotify.com/v1/tracks/28UP90XhjCov...   \n",
       "3  https://api.spotify.com/v1/tracks/2VUKFxZjXI55...   \n",
       "4  https://api.spotify.com/v1/tracks/1DiUilN3hDil...   \n",
       "\n",
       "                                        analysis_url duration_ms  \\\n",
       "0  https://api.spotify.com/v1/audio-analysis/2ax8...      308622   \n",
       "1  https://api.spotify.com/v1/audio-analysis/3HMY...      256773   \n",
       "2  https://api.spotify.com/v1/audio-analysis/28UP...      227587   \n",
       "3  https://api.spotify.com/v1/audio-analysis/2VUK...      214947   \n",
       "4  https://api.spotify.com/v1/audio-analysis/1DiU...      278520   \n",
       "\n",
       "  time_signature  artist_name                                song_name  \\\n",
       "0              5  Café Tacvba                     El Mundo en Que Nací   \n",
       "1              3  Mon Laferte                                    Flaco   \n",
       "2              3  Mon Laferte                             Mi Buen Amor   \n",
       "3              4       Bronco  Corazón Duro ( Primera Fila ) - En Vivo   \n",
       "4              3  Mon Laferte                       Tu Falta De Querer   \n",
       "\n",
       "  num_top popularity  \n",
       "0       1         32  \n",
       "1       2         61  \n",
       "2       3         74  \n",
       "3       4         41  \n",
       "4       5         43  \n",
       "\n",
       "[5 rows x 22 columns]"
      ]
     },
     "execution_count": 16,
     "metadata": {},
     "output_type": "execute_result"
    }
   ],
   "source": [
    "features.head()"
   ]
  },
  {
   "cell_type": "code",
   "execution_count": 17,
   "metadata": {},
   "outputs": [],
   "source": [
    "features.to_csv('playlist.csv', sep='|', index = False)"
   ]
  },
  {
   "cell_type": "markdown",
   "metadata": {},
   "source": [
    "## PCA"
   ]
  },
  {
   "cell_type": "markdown",
   "metadata": {},
   "source": [
    "### Selección de caracteristicas"
   ]
  },
  {
   "cell_type": "code",
   "execution_count": 18,
   "metadata": {},
   "outputs": [],
   "source": [
    "df_songs=features[[\"danceability\", \"energy\", \"loudness\", \"speechiness\", \"acousticness\", \"instrumentalness\", \"liveness\", \"valence\",\"artist_name\",\"popularity\"]]"
   ]
  },
  {
   "cell_type": "code",
   "execution_count": 19,
   "metadata": {},
   "outputs": [
    {
     "data": {
      "text/html": [
       "<div>\n",
       "<style scoped>\n",
       "    .dataframe tbody tr th:only-of-type {\n",
       "        vertical-align: middle;\n",
       "    }\n",
       "\n",
       "    .dataframe tbody tr th {\n",
       "        vertical-align: top;\n",
       "    }\n",
       "\n",
       "    .dataframe thead th {\n",
       "        text-align: right;\n",
       "    }\n",
       "</style>\n",
       "<table border=\"1\" class=\"dataframe\">\n",
       "  <thead>\n",
       "    <tr style=\"text-align: right;\">\n",
       "      <th></th>\n",
       "      <th>danceability</th>\n",
       "      <th>energy</th>\n",
       "      <th>loudness</th>\n",
       "      <th>speechiness</th>\n",
       "      <th>acousticness</th>\n",
       "      <th>instrumentalness</th>\n",
       "      <th>liveness</th>\n",
       "      <th>valence</th>\n",
       "      <th>artist_name</th>\n",
       "      <th>popularity</th>\n",
       "    </tr>\n",
       "  </thead>\n",
       "  <tbody>\n",
       "    <tr>\n",
       "      <th>0</th>\n",
       "      <td>0.378</td>\n",
       "      <td>0.0541</td>\n",
       "      <td>-19.237</td>\n",
       "      <td>0.0385</td>\n",
       "      <td>0.9300</td>\n",
       "      <td>0.002190</td>\n",
       "      <td>0.117</td>\n",
       "      <td>0.175</td>\n",
       "      <td>Café Tacvba</td>\n",
       "      <td>32</td>\n",
       "    </tr>\n",
       "    <tr>\n",
       "      <th>1</th>\n",
       "      <td>0.454</td>\n",
       "      <td>0.4190</td>\n",
       "      <td>-5.678</td>\n",
       "      <td>0.0255</td>\n",
       "      <td>0.1960</td>\n",
       "      <td>0.003900</td>\n",
       "      <td>0.197</td>\n",
       "      <td>0.238</td>\n",
       "      <td>Mon Laferte</td>\n",
       "      <td>61</td>\n",
       "    </tr>\n",
       "    <tr>\n",
       "      <th>2</th>\n",
       "      <td>0.400</td>\n",
       "      <td>0.5410</td>\n",
       "      <td>-4.527</td>\n",
       "      <td>0.0274</td>\n",
       "      <td>0.5570</td>\n",
       "      <td>0.000021</td>\n",
       "      <td>0.136</td>\n",
       "      <td>0.268</td>\n",
       "      <td>Mon Laferte</td>\n",
       "      <td>74</td>\n",
       "    </tr>\n",
       "    <tr>\n",
       "      <th>3</th>\n",
       "      <td>0.678</td>\n",
       "      <td>0.7980</td>\n",
       "      <td>-6.420</td>\n",
       "      <td>0.0275</td>\n",
       "      <td>0.3190</td>\n",
       "      <td>0.000008</td>\n",
       "      <td>0.692</td>\n",
       "      <td>0.688</td>\n",
       "      <td>Bronco</td>\n",
       "      <td>41</td>\n",
       "    </tr>\n",
       "    <tr>\n",
       "      <th>4</th>\n",
       "      <td>0.596</td>\n",
       "      <td>0.4840</td>\n",
       "      <td>-7.998</td>\n",
       "      <td>0.0257</td>\n",
       "      <td>0.0244</td>\n",
       "      <td>0.016100</td>\n",
       "      <td>0.113</td>\n",
       "      <td>0.464</td>\n",
       "      <td>Mon Laferte</td>\n",
       "      <td>43</td>\n",
       "    </tr>\n",
       "  </tbody>\n",
       "</table>\n",
       "</div>"
      ],
      "text/plain": [
       "   danceability  energy  loudness  speechiness  acousticness  \\\n",
       "0         0.378  0.0541   -19.237       0.0385        0.9300   \n",
       "1         0.454  0.4190    -5.678       0.0255        0.1960   \n",
       "2         0.400  0.5410    -4.527       0.0274        0.5570   \n",
       "3         0.678  0.7980    -6.420       0.0275        0.3190   \n",
       "4         0.596  0.4840    -7.998       0.0257        0.0244   \n",
       "\n",
       "   instrumentalness  liveness  valence  artist_name  popularity  \n",
       "0          0.002190     0.117    0.175  Café Tacvba          32  \n",
       "1          0.003900     0.197    0.238  Mon Laferte          61  \n",
       "2          0.000021     0.136    0.268  Mon Laferte          74  \n",
       "3          0.000008     0.692    0.688       Bronco          41  \n",
       "4          0.016100     0.113    0.464  Mon Laferte          43  "
      ]
     },
     "execution_count": 19,
     "metadata": {},
     "output_type": "execute_result"
    }
   ],
   "source": [
    "df_songs.head()"
   ]
  },
  {
   "cell_type": "code",
   "execution_count": 20,
   "metadata": {},
   "outputs": [
    {
     "data": {
      "text/html": [
       "<div>\n",
       "<style scoped>\n",
       "    .dataframe tbody tr th:only-of-type {\n",
       "        vertical-align: middle;\n",
       "    }\n",
       "\n",
       "    .dataframe tbody tr th {\n",
       "        vertical-align: top;\n",
       "    }\n",
       "\n",
       "    .dataframe thead th {\n",
       "        text-align: right;\n",
       "    }\n",
       "</style>\n",
       "<table border=\"1\" class=\"dataframe\">\n",
       "  <thead>\n",
       "    <tr style=\"text-align: right;\">\n",
       "      <th></th>\n",
       "      <th>danceability</th>\n",
       "      <th>energy</th>\n",
       "      <th>loudness</th>\n",
       "      <th>speechiness</th>\n",
       "      <th>acousticness</th>\n",
       "      <th>instrumentalness</th>\n",
       "      <th>liveness</th>\n",
       "      <th>valence</th>\n",
       "    </tr>\n",
       "  </thead>\n",
       "  <tbody>\n",
       "    <tr>\n",
       "      <th>0</th>\n",
       "      <td>0.378</td>\n",
       "      <td>0.0541</td>\n",
       "      <td>-19.237</td>\n",
       "      <td>0.0385</td>\n",
       "      <td>0.9300</td>\n",
       "      <td>0.002190</td>\n",
       "      <td>0.117</td>\n",
       "      <td>0.175</td>\n",
       "    </tr>\n",
       "    <tr>\n",
       "      <th>1</th>\n",
       "      <td>0.454</td>\n",
       "      <td>0.4190</td>\n",
       "      <td>-5.678</td>\n",
       "      <td>0.0255</td>\n",
       "      <td>0.1960</td>\n",
       "      <td>0.003900</td>\n",
       "      <td>0.197</td>\n",
       "      <td>0.238</td>\n",
       "    </tr>\n",
       "    <tr>\n",
       "      <th>2</th>\n",
       "      <td>0.400</td>\n",
       "      <td>0.5410</td>\n",
       "      <td>-4.527</td>\n",
       "      <td>0.0274</td>\n",
       "      <td>0.5570</td>\n",
       "      <td>0.000021</td>\n",
       "      <td>0.136</td>\n",
       "      <td>0.268</td>\n",
       "    </tr>\n",
       "    <tr>\n",
       "      <th>3</th>\n",
       "      <td>0.678</td>\n",
       "      <td>0.7980</td>\n",
       "      <td>-6.420</td>\n",
       "      <td>0.0275</td>\n",
       "      <td>0.3190</td>\n",
       "      <td>0.000008</td>\n",
       "      <td>0.692</td>\n",
       "      <td>0.688</td>\n",
       "    </tr>\n",
       "    <tr>\n",
       "      <th>4</th>\n",
       "      <td>0.596</td>\n",
       "      <td>0.4840</td>\n",
       "      <td>-7.998</td>\n",
       "      <td>0.0257</td>\n",
       "      <td>0.0244</td>\n",
       "      <td>0.016100</td>\n",
       "      <td>0.113</td>\n",
       "      <td>0.464</td>\n",
       "    </tr>\n",
       "  </tbody>\n",
       "</table>\n",
       "</div>"
      ],
      "text/plain": [
       "   danceability  energy  loudness  speechiness  acousticness  \\\n",
       "0         0.378  0.0541   -19.237       0.0385        0.9300   \n",
       "1         0.454  0.4190    -5.678       0.0255        0.1960   \n",
       "2         0.400  0.5410    -4.527       0.0274        0.5570   \n",
       "3         0.678  0.7980    -6.420       0.0275        0.3190   \n",
       "4         0.596  0.4840    -7.998       0.0257        0.0244   \n",
       "\n",
       "   instrumentalness  liveness  valence  \n",
       "0          0.002190     0.117    0.175  \n",
       "1          0.003900     0.197    0.238  \n",
       "2          0.000021     0.136    0.268  \n",
       "3          0.000008     0.692    0.688  \n",
       "4          0.016100     0.113    0.464  "
      ]
     },
     "execution_count": 20,
     "metadata": {},
     "output_type": "execute_result"
    }
   ],
   "source": [
    "X= df_songs.iloc[:,:8]\n",
    "X.head()"
   ]
  },
  {
   "cell_type": "markdown",
   "metadata": {},
   "source": [
    "### Instancia de PCA"
   ]
  },
  {
   "cell_type": "code",
   "execution_count": 21,
   "metadata": {},
   "outputs": [
    {
     "data": {
      "text/html": [
       "<style>#sk-container-id-1 {color: black;background-color: white;}#sk-container-id-1 pre{padding: 0;}#sk-container-id-1 div.sk-toggleable {background-color: white;}#sk-container-id-1 label.sk-toggleable__label {cursor: pointer;display: block;width: 100%;margin-bottom: 0;padding: 0.3em;box-sizing: border-box;text-align: center;}#sk-container-id-1 label.sk-toggleable__label-arrow:before {content: \"▸\";float: left;margin-right: 0.25em;color: #696969;}#sk-container-id-1 label.sk-toggleable__label-arrow:hover:before {color: black;}#sk-container-id-1 div.sk-estimator:hover label.sk-toggleable__label-arrow:before {color: black;}#sk-container-id-1 div.sk-toggleable__content {max-height: 0;max-width: 0;overflow: hidden;text-align: left;background-color: #f0f8ff;}#sk-container-id-1 div.sk-toggleable__content pre {margin: 0.2em;color: black;border-radius: 0.25em;background-color: #f0f8ff;}#sk-container-id-1 input.sk-toggleable__control:checked~div.sk-toggleable__content {max-height: 200px;max-width: 100%;overflow: auto;}#sk-container-id-1 input.sk-toggleable__control:checked~label.sk-toggleable__label-arrow:before {content: \"▾\";}#sk-container-id-1 div.sk-estimator input.sk-toggleable__control:checked~label.sk-toggleable__label {background-color: #d4ebff;}#sk-container-id-1 div.sk-label input.sk-toggleable__control:checked~label.sk-toggleable__label {background-color: #d4ebff;}#sk-container-id-1 input.sk-hidden--visually {border: 0;clip: rect(1px 1px 1px 1px);clip: rect(1px, 1px, 1px, 1px);height: 1px;margin: -1px;overflow: hidden;padding: 0;position: absolute;width: 1px;}#sk-container-id-1 div.sk-estimator {font-family: monospace;background-color: #f0f8ff;border: 1px dotted black;border-radius: 0.25em;box-sizing: border-box;margin-bottom: 0.5em;}#sk-container-id-1 div.sk-estimator:hover {background-color: #d4ebff;}#sk-container-id-1 div.sk-parallel-item::after {content: \"\";width: 100%;border-bottom: 1px solid gray;flex-grow: 1;}#sk-container-id-1 div.sk-label:hover label.sk-toggleable__label {background-color: #d4ebff;}#sk-container-id-1 div.sk-serial::before {content: \"\";position: absolute;border-left: 1px solid gray;box-sizing: border-box;top: 0;bottom: 0;left: 50%;z-index: 0;}#sk-container-id-1 div.sk-serial {display: flex;flex-direction: column;align-items: center;background-color: white;padding-right: 0.2em;padding-left: 0.2em;position: relative;}#sk-container-id-1 div.sk-item {position: relative;z-index: 1;}#sk-container-id-1 div.sk-parallel {display: flex;align-items: stretch;justify-content: center;background-color: white;position: relative;}#sk-container-id-1 div.sk-item::before, #sk-container-id-1 div.sk-parallel-item::before {content: \"\";position: absolute;border-left: 1px solid gray;box-sizing: border-box;top: 0;bottom: 0;left: 50%;z-index: -1;}#sk-container-id-1 div.sk-parallel-item {display: flex;flex-direction: column;z-index: 1;position: relative;background-color: white;}#sk-container-id-1 div.sk-parallel-item:first-child::after {align-self: flex-end;width: 50%;}#sk-container-id-1 div.sk-parallel-item:last-child::after {align-self: flex-start;width: 50%;}#sk-container-id-1 div.sk-parallel-item:only-child::after {width: 0;}#sk-container-id-1 div.sk-dashed-wrapped {border: 1px dashed gray;margin: 0 0.4em 0.5em 0.4em;box-sizing: border-box;padding-bottom: 0.4em;background-color: white;}#sk-container-id-1 div.sk-label label {font-family: monospace;font-weight: bold;display: inline-block;line-height: 1.2em;}#sk-container-id-1 div.sk-label-container {text-align: center;}#sk-container-id-1 div.sk-container {/* jupyter's `normalize.less` sets `[hidden] { display: none; }` but bootstrap.min.css set `[hidden] { display: none !important; }` so we also need the `!important` here to be able to override the default hidden behavior on the sphinx rendered scikit-learn.org. See: https://github.com/scikit-learn/scikit-learn/issues/21755 */display: inline-block !important;position: relative;}#sk-container-id-1 div.sk-text-repr-fallback {display: none;}</style><div id=\"sk-container-id-1\" class=\"sk-top-container\"><div class=\"sk-text-repr-fallback\"><pre>PCA(n_components=2, svd_solver=&#x27;full&#x27;)</pre><b>In a Jupyter environment, please rerun this cell to show the HTML representation or trust the notebook. <br />On GitHub, the HTML representation is unable to render, please try loading this page with nbviewer.org.</b></div><div class=\"sk-container\" hidden><div class=\"sk-item\"><div class=\"sk-estimator sk-toggleable\"><input class=\"sk-toggleable__control sk-hidden--visually\" id=\"sk-estimator-id-1\" type=\"checkbox\" checked><label for=\"sk-estimator-id-1\" class=\"sk-toggleable__label sk-toggleable__label-arrow\">PCA</label><div class=\"sk-toggleable__content\"><pre>PCA(n_components=2, svd_solver=&#x27;full&#x27;)</pre></div></div></div></div></div>"
      ],
      "text/plain": [
       "PCA(n_components=2, svd_solver='full')"
      ]
     },
     "execution_count": 21,
     "metadata": {},
     "output_type": "execute_result"
    }
   ],
   "source": [
    "pca = PCA(n_components=2,svd_solver='full')\n",
    "pca.fit(X)"
   ]
  },
  {
   "cell_type": "markdown",
   "metadata": {},
   "source": [
    "#### Eingenvalores"
   ]
  },
  {
   "cell_type": "code",
   "execution_count": 22,
   "metadata": {},
   "outputs": [
    {
     "data": {
      "text/plain": [
       "array([524.00990999,   6.63664772])"
      ]
     },
     "execution_count": 22,
     "metadata": {},
     "output_type": "execute_result"
    }
   ],
   "source": [
    "pca.singular_values_**2"
   ]
  },
  {
   "cell_type": "markdown",
   "metadata": {},
   "source": [
    "#### Componentes"
   ]
  },
  {
   "cell_type": "code",
   "execution_count": 24,
   "metadata": {},
   "outputs": [
    {
     "data": {
      "text/plain": [
       "Index(['danceability', 'energy', 'loudness', 'speechiness', 'acousticness',\n",
       "       'instrumentalness', 'liveness', 'valence'],\n",
       "      dtype='object')"
      ]
     },
     "execution_count": 24,
     "metadata": {},
     "output_type": "execute_result"
    }
   ],
   "source": [
    "X.columns"
   ]
  },
  {
   "cell_type": "code",
   "execution_count": 31,
   "metadata": {},
   "outputs": [
    {
     "name": "stdout",
     "output_type": "stream",
     "text": [
      "Variable\t z1\t z2\t\n",
      "danceability\t0.00812977889743954 \t-0.28924781077708756\n",
      "energy\t-0.05402005691279366 \t-0.36760829564534286\n",
      "loudness\t-0.9963786463624101 \t0.06807337300376565\n",
      "speechiness\t0.0020955396071533246 \t-0.04095906821376436\n",
      "acousticness\t0.05983599218188631 \t0.5867720770714934\n",
      "instrumentalness\t-0.0068088173603464384 \t0.04041035877658385\n",
      "liveness\t-0.007436358916701441 \t-0.01204113610659295\n",
      "valence\t-0.02364183886266502 \t-0.6548349097798274\n"
     ]
    }
   ],
   "source": [
    "print(\"Variable\\t z1\\t z2\\t\")\n",
    "for i,column in enumerate(X.columns):\n",
    "    print(f'{column}\\t{pca.components_[0][i]} \\t{pca.components_[1][i]}')"
   ]
  },
  {
   "cell_type": "code",
   "execution_count": 26,
   "metadata": {},
   "outputs": [
    {
     "data": {
      "text/plain": [
       "array([ 0.00812978, -0.05402006, -0.99637865,  0.00209554,  0.05983599,\n",
       "       -0.00680882, -0.00743636, -0.02364184])"
      ]
     },
     "execution_count": 26,
     "metadata": {},
     "output_type": "execute_result"
    }
   ],
   "source": [
    "pca.components_[0]"
   ]
  },
  {
   "cell_type": "markdown",
   "metadata": {},
   "source": [
    "#### Datos transformados"
   ]
  },
  {
   "cell_type": "code",
   "execution_count": 70,
   "metadata": {
    "scrolled": true,
    "tags": []
   },
   "outputs": [
    {
     "name": "stdout",
     "output_type": "stream",
     "text": [
      "[[11.76576282  0.0264913 ]\n",
      " [-1.80927215  0.32106803]\n",
      " [-2.94175788  0.56287128]\n",
      " [-1.09554103 -0.16225976]\n",
      " [ 0.48490053 -0.14901643]\n",
      " [-1.05051984  0.06791982]\n",
      " [-1.02906357 -0.08659841]\n",
      " [-0.03152457 -0.12005872]\n",
      " [ 3.0556001  -0.24659654]\n",
      " [-0.8557539  -0.18026262]\n",
      " [ 0.14044704 -0.03497728]\n",
      " [-4.28772694  0.13906071]\n",
      " [-1.25256523  0.17665174]\n",
      " [-1.44388792 -0.43750569]\n",
      " [-2.17869002 -0.22815721]\n",
      " [ 1.80433742 -0.28090969]\n",
      " [ 2.25270765  0.16876691]\n",
      " [-1.79748026 -0.41490025]\n",
      " [-2.16361752 -0.28175515]\n",
      " [-1.55041611  0.26497466]\n",
      " [ 0.07422802  0.04495703]\n",
      " [ 3.37366629  0.42117085]\n",
      " [ 3.26268191  0.32693181]\n",
      " [-0.28788137  0.67556521]\n",
      " [ 3.78690922  0.52940218]\n",
      " [ 1.87147623  0.24236971]\n",
      " [-3.07044451  0.63413286]\n",
      " [-3.63836269  0.21262158]\n",
      " [-2.10579749  0.26644785]\n",
      " [ 2.00981238  0.41122604]\n",
      " [-3.62926838 -0.28307562]\n",
      " [ 0.26299986 -0.31576709]\n",
      " [-1.14159733  0.05953744]\n",
      " [ 6.54146456  0.24401002]\n",
      " [ 1.3610989  -0.40443506]\n",
      " [ 1.63308934 -0.17519966]\n",
      " [ 1.3716378  -0.38235985]\n",
      " [ 2.02857258  0.13563578]\n",
      " [-2.07602447 -0.38177449]\n",
      " [-2.44884914 -0.29487207]\n",
      " [ 4.40746383 -0.02251431]\n",
      " [-0.767066   -0.15445142]\n",
      " [-0.3525195  -0.44843419]\n",
      " [-0.16050579  0.02003587]\n",
      " [ 1.2997588   0.27943198]\n",
      " [-0.51017648 -0.07328871]\n",
      " [ 0.41175805 -0.02558406]\n",
      " [-1.85494954 -0.41165002]\n",
      " [-2.76823156 -0.11395486]\n",
      " [-4.52437575  0.55238469]\n",
      " [-1.41369069  0.7148459 ]\n",
      " [-3.5601743   0.12276552]\n",
      " [-2.18104646  0.55419494]\n",
      " [-2.09588482 -0.46313217]\n",
      " [-2.18054948 -0.22935366]\n",
      " [ 5.56604963 -0.69032564]\n",
      " [ 0.65378357  0.26063797]\n",
      " [ 0.04759393 -0.12397602]\n",
      " [-1.10462323 -0.29662513]\n",
      " [-0.53890381 -0.21827154]\n",
      " [ 7.0038852   0.1794987 ]\n",
      " [-0.20164235 -0.2650548 ]\n",
      " [ 0.42884742 -0.11323522]\n",
      " [-0.80015101 -0.10527504]]\n"
     ]
    }
   ],
   "source": [
    "tabla_z = pca.transform(X)\n",
    "print(tabla_z)"
   ]
  },
  {
   "cell_type": "markdown",
   "metadata": {},
   "source": [
    "#### Varianza explicada"
   ]
  },
  {
   "cell_type": "markdown",
   "metadata": {},
   "source": [
    "Como se lográ observar, con solo dos componentes, podemos explicar el $97  $% de la varianza"
   ]
  },
  {
   "cell_type": "code",
   "execution_count": 71,
   "metadata": {},
   "outputs": [
    {
     "name": "stdout",
     "output_type": "stream",
     "text": [
      "[0.96887641 0.01227093]\n"
     ]
    }
   ],
   "source": [
    "print(pca.explained_variance_ratio_)"
   ]
  },
  {
   "cell_type": "markdown",
   "metadata": {},
   "source": [
    "### Visualización"
   ]
  },
  {
   "cell_type": "code",
   "execution_count": 72,
   "metadata": {},
   "outputs": [
    {
     "name": "stderr",
     "output_type": "stream",
     "text": [
      "/tmp/ipykernel_95/4285254841.py:1: SettingWithCopyWarning: \n",
      "A value is trying to be set on a copy of a slice from a DataFrame.\n",
      "Try using .loc[row_indexer,col_indexer] = value instead\n",
      "\n",
      "See the caveats in the documentation: https://pandas.pydata.org/pandas-docs/stable/user_guide/indexing.html#returning-a-view-versus-a-copy\n",
      "  df_songs[\"z1\"] = tabla_z[:,0]\n",
      "/tmp/ipykernel_95/4285254841.py:2: SettingWithCopyWarning: \n",
      "A value is trying to be set on a copy of a slice from a DataFrame.\n",
      "Try using .loc[row_indexer,col_indexer] = value instead\n",
      "\n",
      "See the caveats in the documentation: https://pandas.pydata.org/pandas-docs/stable/user_guide/indexing.html#returning-a-view-versus-a-copy\n",
      "  df_songs[\"z2\"] = tabla_z[:,1]\n"
     ]
    }
   ],
   "source": [
    "df_songs[\"z1\"] = tabla_z[:,0]\n",
    "df_songs[\"z2\"] = tabla_z[:,1]"
   ]
  },
  {
   "cell_type": "code",
   "execution_count": 76,
   "metadata": {},
   "outputs": [
    {
     "data": {
      "text/plain": [
       "Text(0.5, 1.0, 'PCA agrupado por artista y popularidad de la canción')"
      ]
     },
     "execution_count": 76,
     "metadata": {},
     "output_type": "execute_result"
    },
    {
     "data": {
      "image/png": "[encoded data removed]",
      "text/plain": [
       "<Figure size 640x480 with 1 Axes>"
      ]
     },
     "metadata": {},
     "output_type": "display_data"
    }
   ],
   "source": [
    "sns.scatterplot(x='z1',y= 'z2',data= df_songs, hue= 'artist_name', legend=\"brief\", size='popularity')\n",
    "plt.legend(bbox_to_anchor=(1.02, 1), loc='upper left', borderaxespad=0)\n",
    "plt.title(\"PCA agrupado por artista y popularidad de la canción\")"
   ]
  },
  {
   "cell_type": "code",
   "execution_count": null,
   "metadata": {},
   "outputs": [],
   "source": []
  }
 ],
 "metadata": {
  "kernelspec": {
   "display_name": "Python 3 (ipykernel)",
   "language": "python",
   "name": "python3"
  },
  "language_info": {
   "codemirror_mode": {
    "name": "ipython",
    "version": 3
   },
   "file_extension": ".py",
   "mimetype": "text/x-python",
   "name": "python",
   "nbconvert_exporter": "python",
   "pygments_lexer": "ipython3",
   "version": "3.8.10"
  }
 },
 "nbformat": 4,
 "nbformat_minor": 4
}
