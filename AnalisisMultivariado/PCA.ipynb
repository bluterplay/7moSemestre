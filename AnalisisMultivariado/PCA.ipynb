{
 "cells": [
  {
   "cell_type": "markdown",
   "id": "519f9c0b-c230-41ef-ae12-2f0157b3306b",
   "metadata": {},
   "source": [
    "# Modules"
   ]
  },
  {
   "cell_type": "code",
   "execution_count": 1,
   "id": "8339eeee-cf03-4968-9edb-ebc6c4807c74",
   "metadata": {},
   "outputs": [],
   "source": [
    "import pandas as pd\n",
    "import numpy as np\n",
    "import missingno as msno\n",
    "import seaborn as sns\n",
    "from sklearn.decomposition import PCA\n",
    "from sklearn.preprocessing import StandardScaler"
   ]
  },
  {
   "cell_type": "markdown",
   "id": "10279f83-fbb8-44d3-9d23-d50827566098",
   "metadata": {},
   "source": [
    "# Data"
   ]
  },
  {
   "cell_type": "code",
   "execution_count": 2,
   "id": "e464886d-4085-4c3d-82d6-395de0024e33",
   "metadata": {},
   "outputs": [],
   "source": [
    "data = pd.read_csv(\"Datos/riesgo.csv\")"
   ]
  },
  {
   "cell_type": "code",
   "execution_count": 3,
   "id": "782c6ad7-e167-42dd-ae20-392300b19fa5",
   "metadata": {},
   "outputs": [
    {
     "data": {
      "text/html": [
       "<div>\n",
       "<style scoped>\n",
       "    .dataframe tbody tr th:only-of-type {\n",
       "        vertical-align: middle;\n",
       "    }\n",
       "\n",
       "    .dataframe tbody tr th {\n",
       "        vertical-align: top;\n",
       "    }\n",
       "\n",
       "    .dataframe thead th {\n",
       "        text-align: right;\n",
       "    }\n",
       "</style>\n",
       "<table border=\"1\" class=\"dataframe\">\n",
       "  <thead>\n",
       "    <tr style=\"text-align: right;\">\n",
       "      <th></th>\n",
       "      <th>Pais</th>\n",
       "      <th>NacimientoA</th>\n",
       "      <th>Anticonceptivo</th>\n",
       "      <th>Aborto</th>\n",
       "      <th>Anemia</th>\n",
       "      <th>Atencion prenatal</th>\n",
       "      <th>Parto asisitido</th>\n",
       "      <th>VIH</th>\n",
       "      <th>Infecunidad</th>\n",
       "      <th>NacimientosM</th>\n",
       "      <th>Muertes</th>\n",
       "      <th>Calificacion</th>\n",
       "    </tr>\n",
       "  </thead>\n",
       "  <tbody>\n",
       "    <tr>\n",
       "      <th>0</th>\n",
       "      <td>Italia</td>\n",
       "      <td>1</td>\n",
       "      <td>78</td>\n",
       "      <td>1</td>\n",
       "      <td>10</td>\n",
       "      <td>100.0</td>\n",
       "      <td>100.0</td>\n",
       "      <td>1</td>\n",
       "      <td>6</td>\n",
       "      <td>1.2</td>\n",
       "      <td>4</td>\n",
       "      <td>6.6</td>\n",
       "    </tr>\n",
       "    <tr>\n",
       "      <th>1</th>\n",
       "      <td>Dinamarca</td>\n",
       "      <td>1</td>\n",
       "      <td>78</td>\n",
       "      <td>1</td>\n",
       "      <td>8</td>\n",
       "      <td>100.0</td>\n",
       "      <td>99.0</td>\n",
       "      <td>1</td>\n",
       "      <td>6</td>\n",
       "      <td>1.8</td>\n",
       "      <td>3</td>\n",
       "      <td>6.7</td>\n",
       "    </tr>\n",
       "    <tr>\n",
       "      <th>2</th>\n",
       "      <td>Noruega</td>\n",
       "      <td>2</td>\n",
       "      <td>76</td>\n",
       "      <td>1</td>\n",
       "      <td>17</td>\n",
       "      <td>95.0</td>\n",
       "      <td>100.0</td>\n",
       "      <td>1</td>\n",
       "      <td>5</td>\n",
       "      <td>1.8</td>\n",
       "      <td>3</td>\n",
       "      <td>8.1</td>\n",
       "    </tr>\n",
       "    <tr>\n",
       "      <th>3</th>\n",
       "      <td>Suecia</td>\n",
       "      <td>1</td>\n",
       "      <td>78</td>\n",
       "      <td>1</td>\n",
       "      <td>17</td>\n",
       "      <td>100.0</td>\n",
       "      <td>100.0</td>\n",
       "      <td>1</td>\n",
       "      <td>5</td>\n",
       "      <td>2.0</td>\n",
       "      <td>5</td>\n",
       "      <td>8.4</td>\n",
       "    </tr>\n",
       "    <tr>\n",
       "      <th>4</th>\n",
       "      <td>Bélgica</td>\n",
       "      <td>1</td>\n",
       "      <td>79</td>\n",
       "      <td>1</td>\n",
       "      <td>17</td>\n",
       "      <td>90.0</td>\n",
       "      <td>100.0</td>\n",
       "      <td>1</td>\n",
       "      <td>7</td>\n",
       "      <td>1.6</td>\n",
       "      <td>3</td>\n",
       "      <td>8.7</td>\n",
       "    </tr>\n",
       "  </tbody>\n",
       "</table>\n",
       "</div>"
      ],
      "text/plain": [
       "        Pais  NacimientoA  Anticonceptivo  Aborto  Anemia  Atencion prenatal  \\\n",
       "0     Italia            1              78       1      10              100.0   \n",
       "1  Dinamarca            1              78       1       8              100.0   \n",
       "2    Noruega            2              76       1      17               95.0   \n",
       "3     Suecia            1              78       1      17              100.0   \n",
       "4    Bélgica            1              79       1      17               90.0   \n",
       "\n",
       "   Parto asisitido  VIH  Infecunidad  NacimientosM  Muertes  Calificacion  \n",
       "0            100.0    1            6           1.2        4           6.6  \n",
       "1             99.0    1            6           1.8        3           6.7  \n",
       "2            100.0    1            5           1.8        3           8.1  \n",
       "3            100.0    1            5           2.0        5           8.4  \n",
       "4            100.0    1            7           1.6        3           8.7  "
      ]
     },
     "execution_count": 3,
     "metadata": {},
     "output_type": "execute_result"
    }
   ],
   "source": [
    "data.head()"
   ]
  },
  {
   "cell_type": "markdown",
   "id": "08e64383-4450-4c14-a90d-3b2fbc1bb6d2",
   "metadata": {},
   "source": [
    "## Description"
   ]
  },
  {
   "cell_type": "markdown",
   "id": "a9cd5cc6-3e30-4dcf-8ecb-509d3895bd03",
   "metadata": {},
   "source": [
    "### Size"
   ]
  },
  {
   "cell_type": "code",
   "execution_count": 5,
   "id": "2a659b01-efe5-46e9-b6cc-e401cbc7bcf4",
   "metadata": {},
   "outputs": [
    {
     "name": "stdout",
     "output_type": "stream",
     "text": [
      "Contamos con 118 registros\n"
     ]
    }
   ],
   "source": [
    "print(f'Contamos con {len(data)} registros')"
   ]
  },
  {
   "cell_type": "markdown",
   "id": "ad8fbbad-6e19-4a1c-9474-026b2023e7e7",
   "metadata": {},
   "source": [
    "### Countries"
   ]
  },
  {
   "cell_type": "code",
   "execution_count": 6,
   "id": "dc2e91de-740e-4bb6-8ec6-a7c2c054d25e",
   "metadata": {},
   "outputs": [
    {
     "data": {
      "text/plain": [
       "Italia            1\n",
       "Zimbabwe          1\n",
       "Laos              1\n",
       "Ghana             1\n",
       "Madagascar        1\n",
       "                 ..\n",
       "Albania           1\n",
       "Costa Rica        1\n",
       "Rumania           1\n",
       "Coreal del Sur    1\n",
       "Zaire             1\n",
       "Name: Pais, Length: 118, dtype: int64"
      ]
     },
     "execution_count": 6,
     "metadata": {},
     "output_type": "execute_result"
    }
   ],
   "source": [
    "data[\"Pais\"].value_counts()"
   ]
  },
  {
   "cell_type": "markdown",
   "id": "2ffbaebb-280e-402c-bc5a-64da288faa30",
   "metadata": {},
   "source": [
    "### Distribution of variable"
   ]
  },
  {
   "cell_type": "code",
   "execution_count": 7,
   "id": "dcd1c366-76f7-4fbb-b6c1-5dc2402a388e",
   "metadata": {},
   "outputs": [
    {
     "data": {
      "text/html": [
       "<div>\n",
       "<style scoped>\n",
       "    .dataframe tbody tr th:only-of-type {\n",
       "        vertical-align: middle;\n",
       "    }\n",
       "\n",
       "    .dataframe tbody tr th {\n",
       "        vertical-align: top;\n",
       "    }\n",
       "\n",
       "    .dataframe thead th {\n",
       "        text-align: right;\n",
       "    }\n",
       "</style>\n",
       "<table border=\"1\" class=\"dataframe\">\n",
       "  <thead>\n",
       "    <tr style=\"text-align: right;\">\n",
       "      <th></th>\n",
       "      <th>NacimientoA</th>\n",
       "      <th>Anticonceptivo</th>\n",
       "      <th>Aborto</th>\n",
       "      <th>Anemia</th>\n",
       "      <th>Atencion prenatal</th>\n",
       "      <th>Parto asisitido</th>\n",
       "      <th>VIH</th>\n",
       "      <th>Infecunidad</th>\n",
       "      <th>NacimientosM</th>\n",
       "      <th>Muertes</th>\n",
       "      <th>Calificacion</th>\n",
       "    </tr>\n",
       "  </thead>\n",
       "  <tbody>\n",
       "    <tr>\n",
       "      <th>count</th>\n",
       "      <td>118.000000</td>\n",
       "      <td>118.000000</td>\n",
       "      <td>118.000000</td>\n",
       "      <td>118.000000</td>\n",
       "      <td>116.000000</td>\n",
       "      <td>116.000000</td>\n",
       "      <td>118.000000</td>\n",
       "      <td>118.000000</td>\n",
       "      <td>118.000000</td>\n",
       "      <td>118.000000</td>\n",
       "      <td>118.000000</td>\n",
       "    </tr>\n",
       "    <tr>\n",
       "      <th>mean</th>\n",
       "      <td>8.381356</td>\n",
       "      <td>42.364407</td>\n",
       "      <td>3.203390</td>\n",
       "      <td>43.618644</td>\n",
       "      <td>72.543103</td>\n",
       "      <td>67.534483</td>\n",
       "      <td>1.398305</td>\n",
       "      <td>5.694915</td>\n",
       "      <td>4.138136</td>\n",
       "      <td>289.661017</td>\n",
       "      <td>37.865254</td>\n",
       "    </tr>\n",
       "    <tr>\n",
       "      <th>std</th>\n",
       "      <td>6.451554</td>\n",
       "      <td>27.144962</td>\n",
       "      <td>1.488183</td>\n",
       "      <td>18.066316</td>\n",
       "      <td>26.652153</td>\n",
       "      <td>30.304091</td>\n",
       "      <td>0.693558</td>\n",
       "      <td>3.560247</td>\n",
       "      <td>2.012904</td>\n",
       "      <td>323.593847</td>\n",
       "      <td>19.994244</td>\n",
       "    </tr>\n",
       "    <tr>\n",
       "      <th>min</th>\n",
       "      <td>0.000000</td>\n",
       "      <td>2.000000</td>\n",
       "      <td>1.000000</td>\n",
       "      <td>8.000000</td>\n",
       "      <td>2.000000</td>\n",
       "      <td>2.000000</td>\n",
       "      <td>1.000000</td>\n",
       "      <td>2.000000</td>\n",
       "      <td>1.200000</td>\n",
       "      <td>3.000000</td>\n",
       "      <td>6.600000</td>\n",
       "    </tr>\n",
       "    <tr>\n",
       "      <th>25%</th>\n",
       "      <td>3.000000</td>\n",
       "      <td>13.250000</td>\n",
       "      <td>2.000000</td>\n",
       "      <td>31.750000</td>\n",
       "      <td>52.750000</td>\n",
       "      <td>42.750000</td>\n",
       "      <td>1.000000</td>\n",
       "      <td>3.000000</td>\n",
       "      <td>2.100000</td>\n",
       "      <td>18.000000</td>\n",
       "      <td>18.200000</td>\n",
       "    </tr>\n",
       "    <tr>\n",
       "      <th>50%</th>\n",
       "      <td>6.000000</td>\n",
       "      <td>47.000000</td>\n",
       "      <td>3.000000</td>\n",
       "      <td>46.000000</td>\n",
       "      <td>79.500000</td>\n",
       "      <td>71.500000</td>\n",
       "      <td>1.000000</td>\n",
       "      <td>5.000000</td>\n",
       "      <td>3.850000</td>\n",
       "      <td>147.500000</td>\n",
       "      <td>37.700000</td>\n",
       "    </tr>\n",
       "    <tr>\n",
       "      <th>75%</th>\n",
       "      <td>13.000000</td>\n",
       "      <td>67.000000</td>\n",
       "      <td>5.000000</td>\n",
       "      <td>55.000000</td>\n",
       "      <td>95.250000</td>\n",
       "      <td>98.000000</td>\n",
       "      <td>2.000000</td>\n",
       "      <td>6.750000</td>\n",
       "      <td>6.075000</td>\n",
       "      <td>490.000000</td>\n",
       "      <td>53.575000</td>\n",
       "    </tr>\n",
       "    <tr>\n",
       "      <th>max</th>\n",
       "      <td>24.000000</td>\n",
       "      <td>86.000000</td>\n",
       "      <td>5.000000</td>\n",
       "      <td>88.000000</td>\n",
       "      <td>100.000000</td>\n",
       "      <td>100.000000</td>\n",
       "      <td>3.000000</td>\n",
       "      <td>21.000000</td>\n",
       "      <td>7.600000</td>\n",
       "      <td>1750.000000</td>\n",
       "      <td>76.500000</td>\n",
       "    </tr>\n",
       "  </tbody>\n",
       "</table>\n",
       "</div>"
      ],
      "text/plain": [
       "       NacimientoA  Anticonceptivo      Aborto      Anemia  Atencion prenatal  \\\n",
       "count   118.000000      118.000000  118.000000  118.000000         116.000000   \n",
       "mean      8.381356       42.364407    3.203390   43.618644          72.543103   \n",
       "std       6.451554       27.144962    1.488183   18.066316          26.652153   \n",
       "min       0.000000        2.000000    1.000000    8.000000           2.000000   \n",
       "25%       3.000000       13.250000    2.000000   31.750000          52.750000   \n",
       "50%       6.000000       47.000000    3.000000   46.000000          79.500000   \n",
       "75%      13.000000       67.000000    5.000000   55.000000          95.250000   \n",
       "max      24.000000       86.000000    5.000000   88.000000         100.000000   \n",
       "\n",
       "       Parto asisitido         VIH  Infecunidad  NacimientosM      Muertes  \\\n",
       "count       116.000000  118.000000   118.000000    118.000000   118.000000   \n",
       "mean         67.534483    1.398305     5.694915      4.138136   289.661017   \n",
       "std          30.304091    0.693558     3.560247      2.012904   323.593847   \n",
       "min           2.000000    1.000000     2.000000      1.200000     3.000000   \n",
       "25%          42.750000    1.000000     3.000000      2.100000    18.000000   \n",
       "50%          71.500000    1.000000     5.000000      3.850000   147.500000   \n",
       "75%          98.000000    2.000000     6.750000      6.075000   490.000000   \n",
       "max         100.000000    3.000000    21.000000      7.600000  1750.000000   \n",
       "\n",
       "       Calificacion  \n",
       "count    118.000000  \n",
       "mean      37.865254  \n",
       "std       19.994244  \n",
       "min        6.600000  \n",
       "25%       18.200000  \n",
       "50%       37.700000  \n",
       "75%       53.575000  \n",
       "max       76.500000  "
      ]
     },
     "execution_count": 7,
     "metadata": {},
     "output_type": "execute_result"
    }
   ],
   "source": [
    "data.describe()"
   ]
  },
  {
   "cell_type": "markdown",
   "id": "450da9f1-19ea-4b92-88c5-7242aae95ce4",
   "metadata": {},
   "source": [
    "### Most and least risk in countries"
   ]
  },
  {
   "cell_type": "markdown",
   "id": "a60726be-6022-450f-a73a-592192deb359",
   "metadata": {},
   "source": [
    "#### Least"
   ]
  },
  {
   "cell_type": "code",
   "execution_count": 12,
   "id": "05c34083-4a3c-4eb2-b3e0-763e1f142813",
   "metadata": {},
   "outputs": [
    {
     "data": {
      "text/html": [
       "<div>\n",
       "<style scoped>\n",
       "    .dataframe tbody tr th:only-of-type {\n",
       "        vertical-align: middle;\n",
       "    }\n",
       "\n",
       "    .dataframe tbody tr th {\n",
       "        vertical-align: top;\n",
       "    }\n",
       "\n",
       "    .dataframe thead th {\n",
       "        text-align: right;\n",
       "    }\n",
       "</style>\n",
       "<table border=\"1\" class=\"dataframe\">\n",
       "  <thead>\n",
       "    <tr style=\"text-align: right;\">\n",
       "      <th></th>\n",
       "      <th>Pais</th>\n",
       "      <th>NacimientoA</th>\n",
       "      <th>Anticonceptivo</th>\n",
       "      <th>Aborto</th>\n",
       "      <th>Anemia</th>\n",
       "      <th>Atencion prenatal</th>\n",
       "      <th>Parto asisitido</th>\n",
       "      <th>VIH</th>\n",
       "      <th>Infecunidad</th>\n",
       "      <th>NacimientosM</th>\n",
       "      <th>Muertes</th>\n",
       "      <th>Calificacion</th>\n",
       "    </tr>\n",
       "  </thead>\n",
       "  <tbody>\n",
       "    <tr>\n",
       "      <th>0</th>\n",
       "      <td>Italia</td>\n",
       "      <td>1</td>\n",
       "      <td>78</td>\n",
       "      <td>1</td>\n",
       "      <td>10</td>\n",
       "      <td>100.0</td>\n",
       "      <td>100.0</td>\n",
       "      <td>1</td>\n",
       "      <td>6</td>\n",
       "      <td>1.2</td>\n",
       "      <td>4</td>\n",
       "      <td>6.6</td>\n",
       "    </tr>\n",
       "    <tr>\n",
       "      <th>1</th>\n",
       "      <td>Dinamarca</td>\n",
       "      <td>1</td>\n",
       "      <td>78</td>\n",
       "      <td>1</td>\n",
       "      <td>8</td>\n",
       "      <td>100.0</td>\n",
       "      <td>99.0</td>\n",
       "      <td>1</td>\n",
       "      <td>6</td>\n",
       "      <td>1.8</td>\n",
       "      <td>3</td>\n",
       "      <td>6.7</td>\n",
       "    </tr>\n",
       "    <tr>\n",
       "      <th>2</th>\n",
       "      <td>Noruega</td>\n",
       "      <td>2</td>\n",
       "      <td>76</td>\n",
       "      <td>1</td>\n",
       "      <td>17</td>\n",
       "      <td>95.0</td>\n",
       "      <td>100.0</td>\n",
       "      <td>1</td>\n",
       "      <td>5</td>\n",
       "      <td>1.8</td>\n",
       "      <td>3</td>\n",
       "      <td>8.1</td>\n",
       "    </tr>\n",
       "    <tr>\n",
       "      <th>3</th>\n",
       "      <td>Suecia</td>\n",
       "      <td>1</td>\n",
       "      <td>78</td>\n",
       "      <td>1</td>\n",
       "      <td>17</td>\n",
       "      <td>100.0</td>\n",
       "      <td>100.0</td>\n",
       "      <td>1</td>\n",
       "      <td>5</td>\n",
       "      <td>2.0</td>\n",
       "      <td>5</td>\n",
       "      <td>8.4</td>\n",
       "    </tr>\n",
       "    <tr>\n",
       "      <th>4</th>\n",
       "      <td>Bélgica</td>\n",
       "      <td>1</td>\n",
       "      <td>79</td>\n",
       "      <td>1</td>\n",
       "      <td>17</td>\n",
       "      <td>90.0</td>\n",
       "      <td>100.0</td>\n",
       "      <td>1</td>\n",
       "      <td>7</td>\n",
       "      <td>1.6</td>\n",
       "      <td>3</td>\n",
       "      <td>8.7</td>\n",
       "    </tr>\n",
       "  </tbody>\n",
       "</table>\n",
       "</div>"
      ],
      "text/plain": [
       "        Pais  NacimientoA  Anticonceptivo  Aborto  Anemia  Atencion prenatal  \\\n",
       "0     Italia            1              78       1      10              100.0   \n",
       "1  Dinamarca            1              78       1       8              100.0   \n",
       "2    Noruega            2              76       1      17               95.0   \n",
       "3     Suecia            1              78       1      17              100.0   \n",
       "4    Bélgica            1              79       1      17               90.0   \n",
       "\n",
       "   Parto asisitido  VIH  Infecunidad  NacimientosM  Muertes  Calificacion  \n",
       "0            100.0    1            6           1.2        4           6.6  \n",
       "1             99.0    1            6           1.8        3           6.7  \n",
       "2            100.0    1            5           1.8        3           8.1  \n",
       "3            100.0    1            5           2.0        5           8.4  \n",
       "4            100.0    1            7           1.6        3           8.7  "
      ]
     },
     "execution_count": 12,
     "metadata": {},
     "output_type": "execute_result"
    }
   ],
   "source": [
    "data.sort_values(by=\"Calificacion\", ascending=True)[:5]"
   ]
  },
  {
   "cell_type": "markdown",
   "id": "590909ae-747c-406c-a192-1208c6d5aead",
   "metadata": {},
   "source": [
    "#### Most"
   ]
  },
  {
   "cell_type": "code",
   "execution_count": 13,
   "id": "f7f5ccaa-6134-4af7-a85a-1853e1944841",
   "metadata": {},
   "outputs": [
    {
     "data": {
      "text/html": [
       "<div>\n",
       "<style scoped>\n",
       "    .dataframe tbody tr th:only-of-type {\n",
       "        vertical-align: middle;\n",
       "    }\n",
       "\n",
       "    .dataframe tbody tr th {\n",
       "        vertical-align: top;\n",
       "    }\n",
       "\n",
       "    .dataframe thead th {\n",
       "        text-align: right;\n",
       "    }\n",
       "</style>\n",
       "<table border=\"1\" class=\"dataframe\">\n",
       "  <thead>\n",
       "    <tr style=\"text-align: right;\">\n",
       "      <th></th>\n",
       "      <th>Pais</th>\n",
       "      <th>NacimientoA</th>\n",
       "      <th>Anticonceptivo</th>\n",
       "      <th>Aborto</th>\n",
       "      <th>Anemia</th>\n",
       "      <th>Atencion prenatal</th>\n",
       "      <th>Parto asisitido</th>\n",
       "      <th>VIH</th>\n",
       "      <th>Infecunidad</th>\n",
       "      <th>NacimientosM</th>\n",
       "      <th>Muertes</th>\n",
       "      <th>Calificacion</th>\n",
       "    </tr>\n",
       "  </thead>\n",
       "  <tbody>\n",
       "    <tr>\n",
       "      <th>113</th>\n",
       "      <td>Malí</td>\n",
       "      <td>20</td>\n",
       "      <td>5</td>\n",
       "      <td>5</td>\n",
       "      <td>65</td>\n",
       "      <td>31.0</td>\n",
       "      <td>27.0</td>\n",
       "      <td>2</td>\n",
       "      <td>8</td>\n",
       "      <td>7.1</td>\n",
       "      <td>1750</td>\n",
       "      <td>71.1</td>\n",
       "    </tr>\n",
       "    <tr>\n",
       "      <th>114</th>\n",
       "      <td>Congo</td>\n",
       "      <td>15</td>\n",
       "      <td>15</td>\n",
       "      <td>3</td>\n",
       "      <td>54</td>\n",
       "      <td>35.0</td>\n",
       "      <td>NaN</td>\n",
       "      <td>3</td>\n",
       "      <td>21</td>\n",
       "      <td>5.5</td>\n",
       "      <td>900</td>\n",
       "      <td>72.1</td>\n",
       "    </tr>\n",
       "    <tr>\n",
       "      <th>115</th>\n",
       "      <td>Somalia</td>\n",
       "      <td>21</td>\n",
       "      <td>5</td>\n",
       "      <td>5</td>\n",
       "      <td>73</td>\n",
       "      <td>2.0</td>\n",
       "      <td>2.0</td>\n",
       "      <td>1</td>\n",
       "      <td>10</td>\n",
       "      <td>7.0</td>\n",
       "      <td>1100</td>\n",
       "      <td>72.8</td>\n",
       "    </tr>\n",
       "    <tr>\n",
       "      <th>116</th>\n",
       "      <td>Angola</td>\n",
       "      <td>24</td>\n",
       "      <td>2</td>\n",
       "      <td>5</td>\n",
       "      <td>54</td>\n",
       "      <td>25.0</td>\n",
       "      <td>15.0</td>\n",
       "      <td>2</td>\n",
       "      <td>12</td>\n",
       "      <td>6.6</td>\n",
       "      <td>650</td>\n",
       "      <td>73.5</td>\n",
       "    </tr>\n",
       "    <tr>\n",
       "      <th>117</th>\n",
       "      <td>Zaire</td>\n",
       "      <td>23</td>\n",
       "      <td>8</td>\n",
       "      <td>5</td>\n",
       "      <td>76</td>\n",
       "      <td>90.0</td>\n",
       "      <td>NaN</td>\n",
       "      <td>3</td>\n",
       "      <td>21</td>\n",
       "      <td>6.7</td>\n",
       "      <td>800</td>\n",
       "      <td>76.5</td>\n",
       "    </tr>\n",
       "  </tbody>\n",
       "</table>\n",
       "</div>"
      ],
      "text/plain": [
       "        Pais  NacimientoA  Anticonceptivo  Aborto  Anemia  Atencion prenatal  \\\n",
       "113     Malí           20               5       5      65               31.0   \n",
       "114    Congo           15              15       3      54               35.0   \n",
       "115  Somalia           21               5       5      73                2.0   \n",
       "116   Angola           24               2       5      54               25.0   \n",
       "117    Zaire           23               8       5      76               90.0   \n",
       "\n",
       "     Parto asisitido  VIH  Infecunidad  NacimientosM  Muertes  Calificacion  \n",
       "113             27.0    2            8           7.1     1750          71.1  \n",
       "114              NaN    3           21           5.5      900          72.1  \n",
       "115              2.0    1           10           7.0     1100          72.8  \n",
       "116             15.0    2           12           6.6      650          73.5  \n",
       "117              NaN    3           21           6.7      800          76.5  "
      ]
     },
     "execution_count": 13,
     "metadata": {},
     "output_type": "execute_result"
    }
   ],
   "source": [
    "data.sort_values(by=\"Calificacion\", ascending=True)[-5:]"
   ]
  },
  {
   "cell_type": "markdown",
   "id": "6de2bd10-baa7-4b44-acd7-e4881a4e83b7",
   "metadata": {},
   "source": [
    "# Preprocessing"
   ]
  },
  {
   "cell_type": "markdown",
   "id": "29ec4080-0a11-464f-b36e-914120cf744a",
   "metadata": {},
   "source": [
    "## Missings"
   ]
  },
  {
   "cell_type": "code",
   "execution_count": 14,
   "id": "084ea0f8-06d4-470f-9812-334caee5c928",
   "metadata": {},
   "outputs": [
    {
     "data": {
      "text/plain": [
       "<AxesSubplot: >"
      ]
     },
     "execution_count": 14,
     "metadata": {},
     "output_type": "execute_result"
    },
    {
     "data": {
      "image/png": "[encoded data removed]",
      "text/plain": [
       "<Figure size 2500x1000 with 2 Axes>"
      ]
     },
     "metadata": {},
     "output_type": "display_data"
    }
   ],
   "source": [
    "msno.matrix(data)"
   ]
  },
  {
   "cell_type": "markdown",
   "id": "275f1d76-b118-4a68-8a5c-1b07ecacde86",
   "metadata": {},
   "source": [
    "Contamos con datos faltantes en atencion prenatal y parto asistido, imputar con algún estadistico sería mala idea puesto que los paises distan bastante en sus condiciones de vida entre ellos, por lo cual la media quedaría en su mayoria por debajo o arriba de lo real.   \n",
    "Por otra parte el parto asistido es algo más accesible respeto a la atención prenatal, pero no distan mucho entre ellas, entonces las usaremos para estimar esos valores, afortunadamente en ningun registro faltan ambos campos a la vez"
   ]
  },
  {
   "cell_type": "markdown",
   "id": "ec28c4de-9ee3-41e0-b4c8-f7910e48c949",
   "metadata": {},
   "source": [
    "### Create a new variable"
   ]
  },
  {
   "cell_type": "code",
   "execution_count": 15,
   "id": "8bfe8f8f-02ad-4478-81b7-4427d975e1b7",
   "metadata": {},
   "outputs": [],
   "source": [
    "ls_dif=[]\n",
    "for index, row in data.iterrows():\n",
    "    assisted = row['Parto asisitido']\n",
    "    care=row['Atencion prenatal']\n",
    "    if(pd.isna(assisted) or pd.isna(care)):\n",
    "        ls_dif.append(0)\n",
    "    else:\n",
    "        ls_dif.append(assisted-care ) "
   ]
  },
  {
   "cell_type": "code",
   "execution_count": 16,
   "id": "da978035-f661-4d9d-ad34-e57d152b4bcc",
   "metadata": {},
   "outputs": [],
   "source": [
    "data[\"Diferencia\"] = ls_dif"
   ]
  },
  {
   "cell_type": "code",
   "execution_count": 17,
   "id": "af4376d1-3356-4f62-bf92-2be904314fb8",
   "metadata": {},
   "outputs": [
    {
     "data": {
      "text/plain": [
       "<AxesSubplot: >"
      ]
     },
     "execution_count": 17,
     "metadata": {},
     "output_type": "execute_result"
    },
    {
     "data": {
      "image/png": "[encoded data removed]",
      "text/plain": [
       "<Figure size 640x480 with 1 Axes>"
      ]
     },
     "metadata": {},
     "output_type": "display_data"
    }
   ],
   "source": [
    "data[\"Diferencia\"].hist()"
   ]
  },
  {
   "cell_type": "code",
   "execution_count": 18,
   "id": "4af328ef-4596-4787-8b38-80ef75b02095",
   "metadata": {},
   "outputs": [
    {
     "data": {
      "text/plain": [
       "count    118.000000\n",
       "mean      -4.872881\n",
       "std       17.957950\n",
       "min      -61.000000\n",
       "25%      -13.500000\n",
       "50%        0.000000\n",
       "75%        4.000000\n",
       "max       36.000000\n",
       "Name: Diferencia, dtype: float64"
      ]
     },
     "execution_count": 18,
     "metadata": {},
     "output_type": "execute_result"
    }
   ],
   "source": [
    "data[\"Diferencia\"].describe()"
   ]
  },
  {
   "cell_type": "code",
   "execution_count": 19,
   "id": "cc78009c-d4de-4866-8968-e62fa86e47e7",
   "metadata": {},
   "outputs": [
    {
     "data": {
      "text/plain": [
       "0.4915254237288136"
      ]
     },
     "execution_count": 19,
     "metadata": {},
     "output_type": "execute_result"
    }
   ],
   "source": [
    "len(data[data[\"Atencion prenatal\"]> data[\"Parto asisitido\"]])/ len(data)"
   ]
  },
  {
   "cell_type": "markdown",
   "id": "9bbb0f27-9ee5-4e74-8d82-1bccc36827d5",
   "metadata": {},
   "source": [
    "Como podemos observar si hay cierta relación en la diferencia por lo cual imputaremos con -5, añadiendo un numero aleatorio entre las desviaciones estandar y tambien vemos que esta equilibrado en cuantos casos es mayor o menor estos dos caracteristicas"
   ]
  },
  {
   "cell_type": "markdown",
   "id": "6ac89e42-cbc6-44fb-945c-3a1c2470e474",
   "metadata": {},
   "source": [
    "### Impute data"
   ]
  },
  {
   "cell_type": "code",
   "execution_count": 20,
   "id": "54c217b9-0ec2-4dbe-ac65-1c66d2c4335b",
   "metadata": {},
   "outputs": [],
   "source": [
    "df = data[data.columns[:-1]].copy()"
   ]
  },
  {
   "cell_type": "code",
   "execution_count": 21,
   "id": "d5fe0b70-6357-43c3-b973-01e7c36bfb09",
   "metadata": {},
   "outputs": [],
   "source": [
    "ls_care=[]\n",
    "ls_assi= []\n",
    "for index, row in df.iterrows():\n",
    "    assisted = row['Parto asisitido']\n",
    "    care=row['Atencion prenatal']\n",
    "    number= np.random.randint(-4,4,1)\n",
    "    if(pd.isna(assisted)):\n",
    "        new=care+5+number\n",
    "        if(new>100):\n",
    "            new= 99\n",
    "        ls_assi.append(new[0])\n",
    "        ls_care.append(care)\n",
    "    elif(pd.isna(care)):\n",
    "        new= assisted-5+number\n",
    "        if(new>100):\n",
    "            new= 99\n",
    "        ls_assi.append(assisted)\n",
    "        ls_care.append(new[0])\n",
    "    else:\n",
    "        ls_assi.append(assisted)\n",
    "        ls_care.append(care)"
   ]
  },
  {
   "cell_type": "code",
   "execution_count": 22,
   "id": "7367502a-0551-43fb-b86d-d373f8f24f06",
   "metadata": {},
   "outputs": [],
   "source": [
    "df[\"Atencion prenatal\"] = ls_care\n",
    "df[\"Parto asisitido\"] = ls_assi"
   ]
  },
  {
   "cell_type": "code",
   "execution_count": 23,
   "id": "b766003e-7a2c-4c30-9664-f181875a0874",
   "metadata": {},
   "outputs": [
    {
     "data": {
      "text/html": [
       "<div>\n",
       "<style scoped>\n",
       "    .dataframe tbody tr th:only-of-type {\n",
       "        vertical-align: middle;\n",
       "    }\n",
       "\n",
       "    .dataframe tbody tr th {\n",
       "        vertical-align: top;\n",
       "    }\n",
       "\n",
       "    .dataframe thead th {\n",
       "        text-align: right;\n",
       "    }\n",
       "</style>\n",
       "<table border=\"1\" class=\"dataframe\">\n",
       "  <thead>\n",
       "    <tr style=\"text-align: right;\">\n",
       "      <th></th>\n",
       "      <th>Pais</th>\n",
       "      <th>NacimientoA</th>\n",
       "      <th>Anticonceptivo</th>\n",
       "      <th>Aborto</th>\n",
       "      <th>Anemia</th>\n",
       "      <th>Atencion prenatal</th>\n",
       "      <th>Parto asisitido</th>\n",
       "      <th>VIH</th>\n",
       "      <th>Infecunidad</th>\n",
       "      <th>NacimientosM</th>\n",
       "      <th>Muertes</th>\n",
       "      <th>Calificacion</th>\n",
       "    </tr>\n",
       "  </thead>\n",
       "  <tbody>\n",
       "    <tr>\n",
       "      <th>23</th>\n",
       "      <td>Hungría</td>\n",
       "      <td>4</td>\n",
       "      <td>73</td>\n",
       "      <td>2</td>\n",
       "      <td>40</td>\n",
       "      <td>100.0</td>\n",
       "      <td>99.0</td>\n",
       "      <td>1</td>\n",
       "      <td>5</td>\n",
       "      <td>1.7</td>\n",
       "      <td>13</td>\n",
       "      <td>15.1</td>\n",
       "    </tr>\n",
       "    <tr>\n",
       "      <th>98</th>\n",
       "      <td>Mauritania</td>\n",
       "      <td>13</td>\n",
       "      <td>3</td>\n",
       "      <td>5</td>\n",
       "      <td>56</td>\n",
       "      <td>26.0</td>\n",
       "      <td>20.0</td>\n",
       "      <td>1</td>\n",
       "      <td>6</td>\n",
       "      <td>6.5</td>\n",
       "      <td>800</td>\n",
       "      <td>61.3</td>\n",
       "    </tr>\n",
       "    <tr>\n",
       "      <th>25</th>\n",
       "      <td>Portugal</td>\n",
       "      <td>3</td>\n",
       "      <td>66</td>\n",
       "      <td>3</td>\n",
       "      <td>17</td>\n",
       "      <td>96.0</td>\n",
       "      <td>98.0</td>\n",
       "      <td>1</td>\n",
       "      <td>5</td>\n",
       "      <td>1.5</td>\n",
       "      <td>10</td>\n",
       "      <td>16.5</td>\n",
       "    </tr>\n",
       "    <tr>\n",
       "      <th>63</th>\n",
       "      <td>Nicaragua</td>\n",
       "      <td>15</td>\n",
       "      <td>49</td>\n",
       "      <td>5</td>\n",
       "      <td>42</td>\n",
       "      <td>92.0</td>\n",
       "      <td>73.0</td>\n",
       "      <td>1</td>\n",
       "      <td>3</td>\n",
       "      <td>4.6</td>\n",
       "      <td>300</td>\n",
       "      <td>40.0</td>\n",
       "    </tr>\n",
       "    <tr>\n",
       "      <th>95</th>\n",
       "      <td>Kenya</td>\n",
       "      <td>14</td>\n",
       "      <td>33</td>\n",
       "      <td>5</td>\n",
       "      <td>57</td>\n",
       "      <td>77.0</td>\n",
       "      <td>45.0</td>\n",
       "      <td>3</td>\n",
       "      <td>7</td>\n",
       "      <td>5.4</td>\n",
       "      <td>500</td>\n",
       "      <td>59.4</td>\n",
       "    </tr>\n",
       "  </tbody>\n",
       "</table>\n",
       "</div>"
      ],
      "text/plain": [
       "          Pais  NacimientoA  Anticonceptivo  Aborto  Anemia  \\\n",
       "23     Hungría            4              73       2      40   \n",
       "98  Mauritania           13               3       5      56   \n",
       "25    Portugal            3              66       3      17   \n",
       "63   Nicaragua           15              49       5      42   \n",
       "95       Kenya           14              33       5      57   \n",
       "\n",
       "    Atencion prenatal  Parto asisitido  VIH  Infecunidad  NacimientosM  \\\n",
       "23              100.0             99.0    1            5           1.7   \n",
       "98               26.0             20.0    1            6           6.5   \n",
       "25               96.0             98.0    1            5           1.5   \n",
       "63               92.0             73.0    1            3           4.6   \n",
       "95               77.0             45.0    3            7           5.4   \n",
       "\n",
       "    Muertes  Calificacion  \n",
       "23       13          15.1  \n",
       "98      800          61.3  \n",
       "25       10          16.5  \n",
       "63      300          40.0  \n",
       "95      500          59.4  "
      ]
     },
     "execution_count": 23,
     "metadata": {},
     "output_type": "execute_result"
    }
   ],
   "source": [
    "df.sample(5)"
   ]
  },
  {
   "cell_type": "markdown",
   "id": "f77dfe09-90a1-4199-988a-6071dfd102b5",
   "metadata": {},
   "source": [
    "# Data analysis"
   ]
  },
  {
   "cell_type": "markdown",
   "id": "5c6fae62-50e9-4e46-b799-15a805c85592",
   "metadata": {},
   "source": [
    "## Covariance matrix"
   ]
  },
  {
   "cell_type": "code",
   "execution_count": 24,
   "id": "46c0258f-d30a-41f4-a2ad-e6df49a6bae4",
   "metadata": {},
   "outputs": [
    {
     "data": {
      "text/html": [
       "<div>\n",
       "<style scoped>\n",
       "    .dataframe tbody tr th:only-of-type {\n",
       "        vertical-align: middle;\n",
       "    }\n",
       "\n",
       "    .dataframe tbody tr th {\n",
       "        vertical-align: top;\n",
       "    }\n",
       "\n",
       "    .dataframe thead th {\n",
       "        text-align: right;\n",
       "    }\n",
       "</style>\n",
       "<table border=\"1\" class=\"dataframe\">\n",
       "  <thead>\n",
       "    <tr style=\"text-align: right;\">\n",
       "      <th></th>\n",
       "      <th>NacimientoA</th>\n",
       "      <th>Anticonceptivo</th>\n",
       "      <th>Aborto</th>\n",
       "      <th>Anemia</th>\n",
       "      <th>Atencion prenatal</th>\n",
       "      <th>Parto asisitido</th>\n",
       "      <th>VIH</th>\n",
       "      <th>Infecunidad</th>\n",
       "      <th>NacimientosM</th>\n",
       "      <th>Muertes</th>\n",
       "    </tr>\n",
       "  </thead>\n",
       "  <tbody>\n",
       "    <tr>\n",
       "      <th>NacimientoA</th>\n",
       "      <td>41.622555</td>\n",
       "      <td>-130.866652</td>\n",
       "      <td>5.255106</td>\n",
       "      <td>62.086846</td>\n",
       "      <td>-96.127481</td>\n",
       "      <td>-122.029915</td>\n",
       "      <td>2.402361</td>\n",
       "      <td>11.185716</td>\n",
       "      <td>10.340033</td>\n",
       "      <td>1468.027814</td>\n",
       "    </tr>\n",
       "    <tr>\n",
       "      <th>Anticonceptivo</th>\n",
       "      <td>-130.866652</td>\n",
       "      <td>736.848979</td>\n",
       "      <td>-22.801246</td>\n",
       "      <td>-319.304288</td>\n",
       "      <td>464.619875</td>\n",
       "      <td>621.089744</td>\n",
       "      <td>-9.351514</td>\n",
       "      <td>-38.528900</td>\n",
       "      <td>-51.492648</td>\n",
       "      <td>-6344.747211</td>\n",
       "    </tr>\n",
       "    <tr>\n",
       "      <th>Aborto</th>\n",
       "      <td>5.255106</td>\n",
       "      <td>-22.801246</td>\n",
       "      <td>2.214689</td>\n",
       "      <td>13.155150</td>\n",
       "      <td>-17.643488</td>\n",
       "      <td>-24.213675</td>\n",
       "      <td>0.294365</td>\n",
       "      <td>0.686513</td>\n",
       "      <td>1.857135</td>\n",
       "      <td>224.548167</td>\n",
       "    </tr>\n",
       "    <tr>\n",
       "      <th>Anemia</th>\n",
       "      <td>62.086846</td>\n",
       "      <td>-319.304288</td>\n",
       "      <td>13.155150</td>\n",
       "      <td>326.391786</td>\n",
       "      <td>-266.616109</td>\n",
       "      <td>-350.243590</td>\n",
       "      <td>4.973707</td>\n",
       "      <td>14.198899</td>\n",
       "      <td>24.297574</td>\n",
       "      <td>3651.032015</td>\n",
       "    </tr>\n",
       "    <tr>\n",
       "      <th>Atencion prenatal</th>\n",
       "      <td>-96.127481</td>\n",
       "      <td>464.619875</td>\n",
       "      <td>-17.643488</td>\n",
       "      <td>-266.616109</td>\n",
       "      <td>733.728814</td>\n",
       "      <td>661.341880</td>\n",
       "      <td>-1.772273</td>\n",
       "      <td>-9.923656</td>\n",
       "      <td>-35.498218</td>\n",
       "      <td>-5777.599884</td>\n",
       "    </tr>\n",
       "    <tr>\n",
       "      <th>Parto asisitido</th>\n",
       "      <td>-122.029915</td>\n",
       "      <td>621.089744</td>\n",
       "      <td>-24.213675</td>\n",
       "      <td>-350.243590</td>\n",
       "      <td>661.341880</td>\n",
       "      <td>913.824786</td>\n",
       "      <td>-8.183761</td>\n",
       "      <td>-29.290598</td>\n",
       "      <td>-47.483333</td>\n",
       "      <td>-7297.803419</td>\n",
       "    </tr>\n",
       "    <tr>\n",
       "      <th>VIH</th>\n",
       "      <td>2.402361</td>\n",
       "      <td>-9.351514</td>\n",
       "      <td>0.294365</td>\n",
       "      <td>4.973707</td>\n",
       "      <td>-1.772273</td>\n",
       "      <td>-8.183761</td>\n",
       "      <td>0.481023</td>\n",
       "      <td>1.567000</td>\n",
       "      <td>0.743655</td>\n",
       "      <td>99.247284</td>\n",
       "    </tr>\n",
       "    <tr>\n",
       "      <th>Infecunidad</th>\n",
       "      <td>11.185716</td>\n",
       "      <td>-38.528900</td>\n",
       "      <td>0.686513</td>\n",
       "      <td>14.198899</td>\n",
       "      <td>-9.923656</td>\n",
       "      <td>-29.290598</td>\n",
       "      <td>1.567000</td>\n",
       "      <td>12.675359</td>\n",
       "      <td>2.624555</td>\n",
       "      <td>455.545270</td>\n",
       "    </tr>\n",
       "    <tr>\n",
       "      <th>NacimientosM</th>\n",
       "      <td>10.340033</td>\n",
       "      <td>-51.492648</td>\n",
       "      <td>1.857135</td>\n",
       "      <td>24.297574</td>\n",
       "      <td>-35.498218</td>\n",
       "      <td>-47.483333</td>\n",
       "      <td>0.743655</td>\n",
       "      <td>2.624555</td>\n",
       "      <td>4.051781</td>\n",
       "      <td>459.690816</td>\n",
       "    </tr>\n",
       "    <tr>\n",
       "      <th>Muertes</th>\n",
       "      <td>1468.027814</td>\n",
       "      <td>-6344.747211</td>\n",
       "      <td>224.548167</td>\n",
       "      <td>3651.032015</td>\n",
       "      <td>-5777.599884</td>\n",
       "      <td>-7297.803419</td>\n",
       "      <td>99.247284</td>\n",
       "      <td>455.545270</td>\n",
       "      <td>459.690816</td>\n",
       "      <td>104712.978125</td>\n",
       "    </tr>\n",
       "  </tbody>\n",
       "</table>\n",
       "</div>"
      ],
      "text/plain": [
       "                   NacimientoA  Anticonceptivo      Aborto       Anemia  \\\n",
       "NacimientoA          41.622555     -130.866652    5.255106    62.086846   \n",
       "Anticonceptivo     -130.866652      736.848979  -22.801246  -319.304288   \n",
       "Aborto                5.255106      -22.801246    2.214689    13.155150   \n",
       "Anemia               62.086846     -319.304288   13.155150   326.391786   \n",
       "Atencion prenatal   -96.127481      464.619875  -17.643488  -266.616109   \n",
       "Parto asisitido    -122.029915      621.089744  -24.213675  -350.243590   \n",
       "VIH                   2.402361       -9.351514    0.294365     4.973707   \n",
       "Infecunidad          11.185716      -38.528900    0.686513    14.198899   \n",
       "NacimientosM         10.340033      -51.492648    1.857135    24.297574   \n",
       "Muertes            1468.027814    -6344.747211  224.548167  3651.032015   \n",
       "\n",
       "                   Atencion prenatal  Parto asisitido        VIH  Infecunidad  \\\n",
       "NacimientoA               -96.127481      -122.029915   2.402361    11.185716   \n",
       "Anticonceptivo            464.619875       621.089744  -9.351514   -38.528900   \n",
       "Aborto                    -17.643488       -24.213675   0.294365     0.686513   \n",
       "Anemia                   -266.616109      -350.243590   4.973707    14.198899   \n",
       "Atencion prenatal         733.728814       661.341880  -1.772273    -9.923656   \n",
       "Parto asisitido           661.341880       913.824786  -8.183761   -29.290598   \n",
       "VIH                        -1.772273        -8.183761   0.481023     1.567000   \n",
       "Infecunidad                -9.923656       -29.290598   1.567000    12.675359   \n",
       "NacimientosM              -35.498218       -47.483333   0.743655     2.624555   \n",
       "Muertes                 -5777.599884     -7297.803419  99.247284   455.545270   \n",
       "\n",
       "                   NacimientosM        Muertes  \n",
       "NacimientoA           10.340033    1468.027814  \n",
       "Anticonceptivo       -51.492648   -6344.747211  \n",
       "Aborto                 1.857135     224.548167  \n",
       "Anemia                24.297574    3651.032015  \n",
       "Atencion prenatal    -35.498218   -5777.599884  \n",
       "Parto asisitido      -47.483333   -7297.803419  \n",
       "VIH                    0.743655      99.247284  \n",
       "Infecunidad            2.624555     455.545270  \n",
       "NacimientosM           4.051781     459.690816  \n",
       "Muertes              459.690816  104712.978125  "
      ]
     },
     "execution_count": 24,
     "metadata": {},
     "output_type": "execute_result"
    }
   ],
   "source": [
    "df[df.columns[1:-1]].cov()"
   ]
  },
  {
   "cell_type": "markdown",
   "id": "15536794-74ec-4582-b23e-3bee148a4091",
   "metadata": {},
   "source": [
    "## Correlation matrix"
   ]
  },
  {
   "cell_type": "code",
   "execution_count": 25,
   "id": "bb54b7ff-b915-4fc6-97e0-921a2fe2ab6c",
   "metadata": {},
   "outputs": [
    {
     "data": {
      "text/plain": [
       "<AxesSubplot: >"
      ]
     },
     "execution_count": 25,
     "metadata": {},
     "output_type": "execute_result"
    },
    {
     "data": {
      "image/png": "[encoded data removed]",
      "text/plain": [
       "<Figure size 640x480 with 2 Axes>"
      ]
     },
     "metadata": {},
     "output_type": "display_data"
    }
   ],
   "source": [
    "sns.heatmap(df[df.columns[1:-1]].corr(), annot=True)"
   ]
  },
  {
   "cell_type": "markdown",
   "id": "2b3b292c-b0b9-4188-8e6a-9e140c601172",
   "metadata": {},
   "source": [
    "Como podemos observar los valores que se tienen en la matriz de varianza covarianza son muy distintos entre ellos y muy grandes, debido a que las cantidades no se encuentran en el mismo rango y ante la falta de un scalado de las variables, nos arroja esos resultados.  \n",
    "Por lo cual lo aporpiado en este caso es trabajar con la matriz de correlaciones al tener todos sus valores entre -1 a 1 "
   ]
  },
  {
   "cell_type": "code",
   "execution_count": 26,
   "id": "c9adfc0a-37dc-447b-b579-07e1f1e64f5a",
   "metadata": {},
   "outputs": [],
   "source": [
    "X= df[df.columns[1:-1]]"
   ]
  },
  {
   "cell_type": "markdown",
   "id": "2fc4adba-366d-41d3-aa43-642b1f59d90a",
   "metadata": {},
   "source": [
    "## Eingenvectors and eigenvalues"
   ]
  },
  {
   "cell_type": "code",
   "execution_count": 27,
   "id": "84b7988f-b538-40c6-be6a-46656240fc80",
   "metadata": {},
   "outputs": [],
   "source": [
    "x,v=np.linalg.eig(X.corr())"
   ]
  },
  {
   "cell_type": "markdown",
   "id": "faaccfbf-ebdd-4ccc-b6a7-1540e43742c3",
   "metadata": {},
   "source": [
    "Nuestros eingevalores son:"
   ]
  },
  {
   "cell_type": "code",
   "execution_count": 28,
   "id": "d773c5e0-d39a-47d8-b3f8-cca59acbb270",
   "metadata": {},
   "outputs": [
    {
     "data": {
      "text/plain": [
       "array([6.04312695, 1.39368987, 0.66994679, 0.50644793, 0.04433574,\n",
       "       0.12098439, 0.22759843, 0.37389889, 0.32425876, 0.29571225])"
      ]
     },
     "execution_count": 28,
     "metadata": {},
     "output_type": "execute_result"
    }
   ],
   "source": [
    "x"
   ]
  },
  {
   "cell_type": "markdown",
   "id": "abadd193-2e81-41e5-9d68-d26e3aa2c841",
   "metadata": {},
   "source": [
    "Y sus repectivos eingenvectores son"
   ]
  },
  {
   "cell_type": "code",
   "execution_count": 29,
   "id": "34dc3f86-c139-44b3-b599-e5f3025cdf99",
   "metadata": {},
   "outputs": [
    {
     "name": "stdout",
     "output_type": "stream",
     "text": [
      "[[ 0.34600001 -0.12914893 -0.05797481 -0.35133686  0.1415589  -0.2601534\n",
      "   0.55474496  0.14816025 -0.4864133   0.28774266]\n",
      " [-0.37146805 -0.0117619   0.03222137  0.04457525 -0.60878499 -0.12030679\n",
      "   0.42018073 -0.47736702  0.07340459  0.25285518]\n",
      " [ 0.27007383  0.17622738 -0.77111317 -0.26404015  0.03407422  0.08633984\n",
      "  -0.08317502 -0.44346323  0.12485757 -0.06235826]\n",
      " [ 0.30862034  0.12216135 -0.08219707  0.79683083  0.01336529 -0.04073735\n",
      "   0.17715052 -0.20084282 -0.34848296 -0.23051179]\n",
      " [-0.30032342 -0.4094101  -0.40189087  0.17807284 -0.03227928 -0.57455426\n",
      "  -0.37813262  0.12855295 -0.19866973  0.13721753]\n",
      " [-0.35375505 -0.20243966 -0.22171808 -0.01717349 -0.06021084  0.7016562\n",
      "  -0.01697634  0.08196057 -0.52980834  0.0277911 ]\n",
      " [ 0.24070673 -0.56808033 -0.15178607  0.29283189  0.08257374  0.27352807\n",
      "   0.21080966  0.11943837  0.49361877  0.35574391]\n",
      " [ 0.19338717 -0.63585568  0.25575062 -0.22197182 -0.0743983  -0.02040626\n",
      "  -0.07860871 -0.39513598 -0.09029094 -0.51690748]\n",
      " [ 0.37947097  0.02510693 -0.11817492 -0.05286113 -0.76170733  0.03811729\n",
      "  -0.11455314  0.46844768 -0.00679953 -0.1560415 ]\n",
      " [ 0.34559478  0.03076068  0.28485248  0.00988548 -0.10384294  0.09803785\n",
      "  -0.51999121 -0.31636562 -0.22126763  0.59878808]]\n"
     ]
    }
   ],
   "source": [
    "print(v)"
   ]
  },
  {
   "cell_type": "markdown",
   "id": "ea3f1a89-576f-470a-9baa-2a2cbd5e5cca",
   "metadata": {},
   "source": [
    "# PCA"
   ]
  },
  {
   "cell_type": "markdown",
   "id": "a678ad28-d005-472a-98b9-3a6a84d84892",
   "metadata": {},
   "source": [
    "Como habiamos comentado lo adecuado es usar la matriz de correlación, pero la biblioteca no tiene esa opción por lo cual optamos por escalar nuestros valores y asi la matris de varianza covarianza se asemeja a la de correlación"
   ]
  },
  {
   "cell_type": "code",
   "execution_count": 30,
   "id": "21827bf0-b066-4e1b-9f47-457be4b3b30f",
   "metadata": {},
   "outputs": [],
   "source": [
    "sx = StandardScaler().fit(X)\n",
    "Xs= sx.transform(X)"
   ]
  },
  {
   "cell_type": "code",
   "execution_count": 31,
   "id": "09c160d7-ab76-4c96-94c7-09c6f023705e",
   "metadata": {},
   "outputs": [
    {
     "data": {
      "text/html": [
       "<style>#sk-container-id-1 {color: black;background-color: white;}#sk-container-id-1 pre{padding: 0;}#sk-container-id-1 div.sk-toggleable {background-color: white;}#sk-container-id-1 label.sk-toggleable__label {cursor: pointer;display: block;width: 100%;margin-bottom: 0;padding: 0.3em;box-sizing: border-box;text-align: center;}#sk-container-id-1 label.sk-toggleable__label-arrow:before {content: \"▸\";float: left;margin-right: 0.25em;color: #696969;}#sk-container-id-1 label.sk-toggleable__label-arrow:hover:before {color: black;}#sk-container-id-1 div.sk-estimator:hover label.sk-toggleable__label-arrow:before {color: black;}#sk-container-id-1 div.sk-toggleable__content {max-height: 0;max-width: 0;overflow: hidden;text-align: left;background-color: #f0f8ff;}#sk-container-id-1 div.sk-toggleable__content pre {margin: 0.2em;color: black;border-radius: 0.25em;background-color: #f0f8ff;}#sk-container-id-1 input.sk-toggleable__control:checked~div.sk-toggleable__content {max-height: 200px;max-width: 100%;overflow: auto;}#sk-container-id-1 input.sk-toggleable__control:checked~label.sk-toggleable__label-arrow:before {content: \"▾\";}#sk-container-id-1 div.sk-estimator input.sk-toggleable__control:checked~label.sk-toggleable__label {background-color: #d4ebff;}#sk-container-id-1 div.sk-label input.sk-toggleable__control:checked~label.sk-toggleable__label {background-color: #d4ebff;}#sk-container-id-1 input.sk-hidden--visually {border: 0;clip: rect(1px 1px 1px 1px);clip: rect(1px, 1px, 1px, 1px);height: 1px;margin: -1px;overflow: hidden;padding: 0;position: absolute;width: 1px;}#sk-container-id-1 div.sk-estimator {font-family: monospace;background-color: #f0f8ff;border: 1px dotted black;border-radius: 0.25em;box-sizing: border-box;margin-bottom: 0.5em;}#sk-container-id-1 div.sk-estimator:hover {background-color: #d4ebff;}#sk-container-id-1 div.sk-parallel-item::after {content: \"\";width: 100%;border-bottom: 1px solid gray;flex-grow: 1;}#sk-container-id-1 div.sk-label:hover label.sk-toggleable__label {background-color: #d4ebff;}#sk-container-id-1 div.sk-serial::before {content: \"\";position: absolute;border-left: 1px solid gray;box-sizing: border-box;top: 0;bottom: 0;left: 50%;z-index: 0;}#sk-container-id-1 div.sk-serial {display: flex;flex-direction: column;align-items: center;background-color: white;padding-right: 0.2em;padding-left: 0.2em;position: relative;}#sk-container-id-1 div.sk-item {position: relative;z-index: 1;}#sk-container-id-1 div.sk-parallel {display: flex;align-items: stretch;justify-content: center;background-color: white;position: relative;}#sk-container-id-1 div.sk-item::before, #sk-container-id-1 div.sk-parallel-item::before {content: \"\";position: absolute;border-left: 1px solid gray;box-sizing: border-box;top: 0;bottom: 0;left: 50%;z-index: -1;}#sk-container-id-1 div.sk-parallel-item {display: flex;flex-direction: column;z-index: 1;position: relative;background-color: white;}#sk-container-id-1 div.sk-parallel-item:first-child::after {align-self: flex-end;width: 50%;}#sk-container-id-1 div.sk-parallel-item:last-child::after {align-self: flex-start;width: 50%;}#sk-container-id-1 div.sk-parallel-item:only-child::after {width: 0;}#sk-container-id-1 div.sk-dashed-wrapped {border: 1px dashed gray;margin: 0 0.4em 0.5em 0.4em;box-sizing: border-box;padding-bottom: 0.4em;background-color: white;}#sk-container-id-1 div.sk-label label {font-family: monospace;font-weight: bold;display: inline-block;line-height: 1.2em;}#sk-container-id-1 div.sk-label-container {text-align: center;}#sk-container-id-1 div.sk-container {/* jupyter's `normalize.less` sets `[hidden] { display: none; }` but bootstrap.min.css set `[hidden] { display: none !important; }` so we also need the `!important` here to be able to override the default hidden behavior on the sphinx rendered scikit-learn.org. See: https://github.com/scikit-learn/scikit-learn/issues/21755 */display: inline-block !important;position: relative;}#sk-container-id-1 div.sk-text-repr-fallback {display: none;}</style><div id=\"sk-container-id-1\" class=\"sk-top-container\"><div class=\"sk-text-repr-fallback\"><pre>PCA(n_components=3)</pre><b>In a Jupyter environment, please rerun this cell to show the HTML representation or trust the notebook. <br />On GitHub, the HTML representation is unable to render, please try loading this page with nbviewer.org.</b></div><div class=\"sk-container\" hidden><div class=\"sk-item\"><div class=\"sk-estimator sk-toggleable\"><input class=\"sk-toggleable__control sk-hidden--visually\" id=\"sk-estimator-id-1\" type=\"checkbox\" checked><label for=\"sk-estimator-id-1\" class=\"sk-toggleable__label sk-toggleable__label-arrow\">PCA</label><div class=\"sk-toggleable__content\"><pre>PCA(n_components=3)</pre></div></div></div></div></div>"
      ],
      "text/plain": [
       "PCA(n_components=3)"
      ]
     },
     "execution_count": 31,
     "metadata": {},
     "output_type": "execute_result"
    }
   ],
   "source": [
    "pca= PCA(n_components=3)\n",
    "pca.fit(Xs)"
   ]
  },
  {
   "cell_type": "markdown",
   "id": "9df1bba3-86af-4e53-a8ca-bca7d02899d4",
   "metadata": {},
   "source": [
    "## Components"
   ]
  },
  {
   "cell_type": "markdown",
   "id": "926934a1-a4d0-44e8-affa-810c1a9bb63c",
   "metadata": {},
   "source": [
    "Tomando a las variables como x1 hasta x10 dado el orden en la que se encuentra los datos cada componente se expresa de la siguiente manera."
   ]
  },
  {
   "cell_type": "code",
   "execution_count": 32,
   "id": "c32174f5-0a43-43e7-ab3f-dd29912e716e",
   "metadata": {},
   "outputs": [
    {
     "name": "stdout",
     "output_type": "stream",
     "text": [
      "Z1= (0.346)x1 + (-0.371)x2 + (0.27)x3 + (0.309)x4 + (-0.3)x5 + (-0.354)x6 + (0.241)x7 + (0.193)x8 + (0.379)x9 + (0.346)x10 \n",
      "-----------------------------------------------------------------------------------\n",
      "Z2= (0.129)x1 + (0.012)x2 + (-0.176)x3 + (-0.122)x4 + (0.409)x5 + (0.202)x6 + (0.568)x7 + (0.636)x8 + (-0.025)x9 + (-0.031)x10 \n",
      "-----------------------------------------------------------------------------------\n",
      "Z3= (-0.058)x1 + (0.032)x2 + (-0.771)x3 + (-0.082)x4 + (-0.402)x5 + (-0.222)x6 + (-0.152)x7 + (0.256)x8 + (-0.118)x9 + (0.285)x10 \n",
      "-----------------------------------------------------------------------------------\n"
     ]
    }
   ],
   "source": [
    "coeffi=pca.components_\n",
    "for i in range(3):\n",
    "    component= 'Z'+str(i+1)\n",
    "    string= str()\n",
    "    for j in range(10):\n",
    "        string+= \"(\" + str(np.round(coeffi[i][j], decimals=3)) +')x'+str(j+1) +' + '\n",
    "    print(f'{component}= {string[:-2]}')\n",
    "    print(\"-----------------------------------------------------------------------------------\")\n",
    "        "
   ]
  },
  {
   "cell_type": "code",
   "execution_count": 33,
   "id": "c802ecd4-2c16-4237-88fe-915125c1318f",
   "metadata": {},
   "outputs": [
    {
     "name": "stdout",
     "output_type": "stream",
     "text": [
      "x1 = NacimientoA\n",
      "x2 = Anticonceptivo\n",
      "x3 = Aborto\n",
      "x4 = Anemia\n",
      "x5 = Atencion prenatal\n",
      "x6 = Parto asisitido\n",
      "x7 = VIH\n",
      "x8 = Infecunidad\n",
      "x9 = NacimientosM\n",
      "x10 = Muertes\n"
     ]
    }
   ],
   "source": [
    "for i, column in enumerate(list(X.columns)):\n",
    "    print(f'x{i+1} = {column}')"
   ]
  },
  {
   "cell_type": "markdown",
   "id": "5c149659-4d7f-4a95-b963-6740221e7edf",
   "metadata": {},
   "source": [
    "### Visualization"
   ]
  },
  {
   "cell_type": "code",
   "execution_count": 34,
   "id": "2563c462-2a2c-4771-978c-730ed2b4e616",
   "metadata": {},
   "outputs": [],
   "source": [
    "tabla_z = pca.transform(Xs)"
   ]
  },
  {
   "cell_type": "code",
   "execution_count": 35,
   "id": "c9ab2721-66b5-42bb-b93b-f9e3519bacd2",
   "metadata": {},
   "outputs": [],
   "source": [
    "df[\"Z1\"] = tabla_z[:,0]\n",
    "df[\"Z2\"] = tabla_z[:,1]\n",
    "df[\"Z3\"] = tabla_z[:,2]"
   ]
  },
  {
   "cell_type": "code",
   "execution_count": 36,
   "id": "1ee87a76-6453-4d06-9a9a-3a2f16b6b6f5",
   "metadata": {},
   "outputs": [
    {
     "data": {
      "text/html": [
       "<div>\n",
       "<style scoped>\n",
       "    .dataframe tbody tr th:only-of-type {\n",
       "        vertical-align: middle;\n",
       "    }\n",
       "\n",
       "    .dataframe tbody tr th {\n",
       "        vertical-align: top;\n",
       "    }\n",
       "\n",
       "    .dataframe thead th {\n",
       "        text-align: right;\n",
       "    }\n",
       "</style>\n",
       "<table border=\"1\" class=\"dataframe\">\n",
       "  <thead>\n",
       "    <tr style=\"text-align: right;\">\n",
       "      <th></th>\n",
       "      <th>Pais</th>\n",
       "      <th>NacimientoA</th>\n",
       "      <th>Anticonceptivo</th>\n",
       "      <th>Aborto</th>\n",
       "      <th>Anemia</th>\n",
       "      <th>Atencion prenatal</th>\n",
       "      <th>Parto asisitido</th>\n",
       "      <th>VIH</th>\n",
       "      <th>Infecunidad</th>\n",
       "      <th>NacimientosM</th>\n",
       "      <th>Muertes</th>\n",
       "      <th>Calificacion</th>\n",
       "      <th>Z1</th>\n",
       "      <th>Z2</th>\n",
       "      <th>Z3</th>\n",
       "    </tr>\n",
       "  </thead>\n",
       "  <tbody>\n",
       "    <tr>\n",
       "      <th>0</th>\n",
       "      <td>Italia</td>\n",
       "      <td>1</td>\n",
       "      <td>78</td>\n",
       "      <td>1</td>\n",
       "      <td>10</td>\n",
       "      <td>100.0</td>\n",
       "      <td>100.0</td>\n",
       "      <td>1</td>\n",
       "      <td>6</td>\n",
       "      <td>1.2</td>\n",
       "      <td>4</td>\n",
       "      <td>6.6</td>\n",
       "      <td>-3.541693</td>\n",
       "      <td>0.788836</td>\n",
       "      <td>0.786214</td>\n",
       "    </tr>\n",
       "    <tr>\n",
       "      <th>1</th>\n",
       "      <td>Dinamarca</td>\n",
       "      <td>1</td>\n",
       "      <td>78</td>\n",
       "      <td>1</td>\n",
       "      <td>8</td>\n",
       "      <td>100.0</td>\n",
       "      <td>99.0</td>\n",
       "      <td>1</td>\n",
       "      <td>6</td>\n",
       "      <td>1.8</td>\n",
       "      <td>3</td>\n",
       "      <td>6.7</td>\n",
       "      <td>-3.451730</td>\n",
       "      <td>0.788271</td>\n",
       "      <td>0.766458</td>\n",
       "    </tr>\n",
       "    <tr>\n",
       "      <th>2</th>\n",
       "      <td>Noruega</td>\n",
       "      <td>2</td>\n",
       "      <td>76</td>\n",
       "      <td>1</td>\n",
       "      <td>17</td>\n",
       "      <td>95.0</td>\n",
       "      <td>100.0</td>\n",
       "      <td>1</td>\n",
       "      <td>5</td>\n",
       "      <td>1.8</td>\n",
       "      <td>3</td>\n",
       "      <td>8.1</td>\n",
       "      <td>-3.226616</td>\n",
       "      <td>0.497859</td>\n",
       "      <td>0.708921</td>\n",
       "    </tr>\n",
       "    <tr>\n",
       "      <th>3</th>\n",
       "      <td>Suecia</td>\n",
       "      <td>1</td>\n",
       "      <td>78</td>\n",
       "      <td>1</td>\n",
       "      <td>17</td>\n",
       "      <td>100.0</td>\n",
       "      <td>100.0</td>\n",
       "      <td>1</td>\n",
       "      <td>5</td>\n",
       "      <td>2.0</td>\n",
       "      <td>5</td>\n",
       "      <td>8.4</td>\n",
       "      <td>-3.323624</td>\n",
       "      <td>0.551824</td>\n",
       "      <td>0.635805</td>\n",
       "    </tr>\n",
       "    <tr>\n",
       "      <th>4</th>\n",
       "      <td>Bélgica</td>\n",
       "      <td>1</td>\n",
       "      <td>79</td>\n",
       "      <td>1</td>\n",
       "      <td>17</td>\n",
       "      <td>90.0</td>\n",
       "      <td>100.0</td>\n",
       "      <td>1</td>\n",
       "      <td>7</td>\n",
       "      <td>1.6</td>\n",
       "      <td>3</td>\n",
       "      <td>8.7</td>\n",
       "      <td>-3.194796</td>\n",
       "      <td>0.764393</td>\n",
       "      <td>0.952096</td>\n",
       "    </tr>\n",
       "  </tbody>\n",
       "</table>\n",
       "</div>"
      ],
      "text/plain": [
       "        Pais  NacimientoA  Anticonceptivo  Aborto  Anemia  Atencion prenatal  \\\n",
       "0     Italia            1              78       1      10              100.0   \n",
       "1  Dinamarca            1              78       1       8              100.0   \n",
       "2    Noruega            2              76       1      17               95.0   \n",
       "3     Suecia            1              78       1      17              100.0   \n",
       "4    Bélgica            1              79       1      17               90.0   \n",
       "\n",
       "   Parto asisitido  VIH  Infecunidad  NacimientosM  Muertes  Calificacion  \\\n",
       "0            100.0    1            6           1.2        4           6.6   \n",
       "1             99.0    1            6           1.8        3           6.7   \n",
       "2            100.0    1            5           1.8        3           8.1   \n",
       "3            100.0    1            5           2.0        5           8.4   \n",
       "4            100.0    1            7           1.6        3           8.7   \n",
       "\n",
       "         Z1        Z2        Z3  \n",
       "0 -3.541693  0.788836  0.786214  \n",
       "1 -3.451730  0.788271  0.766458  \n",
       "2 -3.226616  0.497859  0.708921  \n",
       "3 -3.323624  0.551824  0.635805  \n",
       "4 -3.194796  0.764393  0.952096  "
      ]
     },
     "execution_count": 36,
     "metadata": {},
     "output_type": "execute_result"
    }
   ],
   "source": [
    "df.head()"
   ]
  },
  {
   "cell_type": "code",
   "execution_count": 37,
   "id": "3554a58a-c32a-413d-b8f8-68c4e422b0b0",
   "metadata": {},
   "outputs": [
    {
     "data": {
      "text/plain": [
       "<seaborn.axisgrid.PairGrid at 0x7f51362a9ca0>"
      ]
     },
     "execution_count": 37,
     "metadata": {},
     "output_type": "execute_result"
    },
    {
     "data": {
      "image/png": "[encoded data removed]",
      "text/plain": [
       "<Figure size 750x750 with 12 Axes>"
      ]
     },
     "metadata": {},
     "output_type": "display_data"
    }
   ],
   "source": [
    "sns.pairplot(df[df.columns[-3:]])"
   ]
  },
  {
   "cell_type": "markdown",
   "id": "403f2285-35e0-4aec-93db-3efa8a10bc1c",
   "metadata": {},
   "source": [
    "Podemos notar segmentos donde hay una gran acumulación de puntos y algunos otros que llegan a estar bastante dispersos, sobretodo en la parte inferior de $Z1vsZ2$"
   ]
  },
  {
   "cell_type": "markdown",
   "id": "e5fdc001-b8da-4199-b45f-b9a637c9c3c5",
   "metadata": {},
   "source": [
    "## Explained variance"
   ]
  },
  {
   "cell_type": "markdown",
   "id": "f3ac210b-ee3f-4aa0-b488-e35fa001d807",
   "metadata": {},
   "source": [
    "La varianza de cada uno de nuestros componentes $Z_1,Z_2,Z_3$ estan dados por los eingevalores de nuestra matriz de correlación de tal forma que ordenando de mayor a menor tenemos que:  \n",
    "$$Var(Z_i)= \\lambda_i$$"
   ]
  },
  {
   "cell_type": "code",
   "execution_count": 181,
   "id": "e628258b-3b89-447a-898d-c67e373f8dea",
   "metadata": {},
   "outputs": [
    {
     "data": {
      "text/plain": [
       "array([6.03750212, 1.39511377, 0.67081649])"
      ]
     },
     "execution_count": 181,
     "metadata": {},
     "output_type": "execute_result"
    }
   ],
   "source": [
    "x[:3]"
   ]
  },
  {
   "cell_type": "code",
   "execution_count": 178,
   "id": "abee2719-c9a6-4adc-a82a-59cff80e72ef",
   "metadata": {},
   "outputs": [
    {
     "data": {
      "text/plain": [
       "array([6.08910471, 1.40703782, 0.67654997])"
      ]
     },
     "execution_count": 178,
     "metadata": {},
     "output_type": "execute_result"
    }
   ],
   "source": [
    "pca.explained_variance_"
   ]
  },
  {
   "cell_type": "markdown",
   "id": "fb57f9ae-fd70-48c1-847e-66248f137a31",
   "metadata": {},
   "source": [
    "Y por tanto el porcentaje de varianza explicada se puede determinar como el eingevalor entre la suma de todos los eingevalores"
   ]
  },
  {
   "cell_type": "code",
   "execution_count": 49,
   "id": "5b8206ee-b776-417d-acd4-d82193dec217",
   "metadata": {},
   "outputs": [],
   "source": [
    "total=sum(x)"
   ]
  },
  {
   "cell_type": "code",
   "execution_count": 50,
   "id": "c90c6856-6acc-4bfd-8948-1d3e80e67d4d",
   "metadata": {},
   "outputs": [
    {
     "name": "stdout",
     "output_type": "stream",
     "text": [
      "Var_explicada (z1)= 0.604312694795504\n",
      "Var_explicada (z2)= 0.1393689867160818\n",
      "Var_explicada (z3)= 0.06699467854434692\n"
     ]
    }
   ],
   "source": [
    "for i,var in enumerate(pca.explained_variance_ratio_):\n",
    "    print(f'Var_explicada (z{i+1})= {(var/total)*10}')"
   ]
  },
  {
   "cell_type": "code",
   "execution_count": 46,
   "id": "399734ad-31cd-4e5f-ad39-f9efa72d7f4c",
   "metadata": {},
   "outputs": [
    {
     "data": {
      "text/plain": [
       "array([0.60431269, 0.13936899, 0.06699468])"
      ]
     },
     "execution_count": 46,
     "metadata": {},
     "output_type": "execute_result"
    }
   ],
   "source": [
    "pca.explained_variance_ratio_"
   ]
  },
  {
   "cell_type": "markdown",
   "id": "050783c3-df40-43ef-a1b4-4a1b4fe01f79",
   "metadata": {},
   "source": [
    "## Selection of components"
   ]
  },
  {
   "cell_type": "markdown",
   "id": "da5bf85e-4d0f-4a56-bc7f-b8d449fa8f3a",
   "metadata": {},
   "source": [
    "Como logramos observar en nuestros 3 componentes es que la varianza explicada baja cada vez más y ya para el tercer componente su aporte es muy bajo por lo cual tomamos la decisión de quedarnos con solo dos componentes, los cuales explican un $73\\%$ de la varianza de los datos y nos ahorra tener que usar las otras 8 variables"
   ]
  },
  {
   "cell_type": "markdown",
   "id": "b795e1b8-6534-439b-ad26-4803ffafc94a",
   "metadata": {},
   "source": [
    "## Interpretation of components"
   ]
  },
  {
   "cell_type": "markdown",
   "id": "1cde4dbc-6029-4c4c-8589-0b650dcf170d",
   "metadata": {},
   "source": [
    "Analizamos de nuevo el peso de las componentes $Z_1, Z_2$, para ver a que le da más importancia"
   ]
  },
  {
   "cell_type": "code",
   "execution_count": 187,
   "id": "112ad2dc-c61f-4b29-87f4-df68677c74e6",
   "metadata": {},
   "outputs": [
    {
     "name": "stdout",
     "output_type": "stream",
     "text": [
      "Z1= (0.346)NacimientoA + (-0.372)Anticonceptivo + (0.27)Aborto + (0.309)Anemia + (-0.3)Atencion prenatal + (-0.353)Parto asisitido + (0.241)VIH + (0.193)Infecunidad + (0.38)NacimientosM + (0.346)Muertes \n",
      "-----------------------------------------------------------------------------------\n",
      "Z2= (0.13)NacimientoA + (0.011)Anticonceptivo + (-0.175)Aborto + (-0.121)Anemia + (0.41)Atencion prenatal + (0.205)Parto asisitido + (0.568)VIH + (0.635)Infecunidad + (-0.025)NacimientosM + (-0.031)Muertes \n",
      "-----------------------------------------------------------------------------------\n"
     ]
    }
   ],
   "source": [
    "coeffi=pca.components_\n",
    "for i in range(2):\n",
    "    component= 'Z'+str(i+1)\n",
    "    string= str()\n",
    "    for j, column in enumerate(list(X.columns)):\n",
    "        string+= \"(\" + str(np.round(coeffi[i][j], decimals=3)) +')'+ column +' + '\n",
    "    print(f'{component}= {string[:-2]}')\n",
    "    print(\"-----------------------------------------------------------------------------------\")\n",
    "        "
   ]
  },
  {
   "cell_type": "markdown",
   "id": "89f48f52-495b-4f4d-a508-f8b427ed5265",
   "metadata": {},
   "source": [
    "En $Z_1$:  \n",
    "Veamos que la variable con mayor peso positivo, se tiene en **NacimientosM** que corresponde al promedio de nacimientos por mujer, esto es que considera un mayor riesgo entre más embarazos en promedio tiene las mujeres en ese determinado país.  \n",
    "Tambien hacer hincapie en el peso que **NaciemientosA** que son los nacimientos anuales por 100 mujeres de 15 a 19 años, indicando otro aspecto que aumenta el riesgo son los nacimientos que se dan con madres de edades muy tempranas.  \n",
    "Siendo aspectos positivos para reducir el riesgo de muerte el hecho de tener mayor porcentaje de **partos asisitidos y atención prenatal**, puesto que permiten un embarazo y concepción en mejores condiciones."
   ]
  },
  {
   "cell_type": "markdown",
   "id": "47525be3-116a-4f78-8165-3119f005c3ca",
   "metadata": {},
   "source": [
    "En $Z_2$ pasa algo interesante, puesto que sus pesos positivos recaen en aspectos favorables para la vida de la madre como son:  \n",
    "- Parto asistido\n",
    "- Atención prenatal  \n",
    "\n",
    "Pero tambien en aspectos negativos como son:  \n",
    "- VIH\n",
    "- Anemia\n",
    "- Infecunidad  \n",
    "\n",
    "Que son fatores que un principio generan un embarazo peligroso o la incapcidad de tener uno."
   ]
  },
  {
   "cell_type": "markdown",
   "id": "4b08f0bd-e6c0-4276-948a-7558384de80d",
   "metadata": {},
   "source": [
    "## Correlation between Z1 and Target"
   ]
  },
  {
   "cell_type": "code",
   "execution_count": 188,
   "id": "156f5e8c-947f-40bf-a13f-239cd246c8ed",
   "metadata": {},
   "outputs": [
    {
     "data": {
      "text/plain": [
       "<AxesSubplot: >"
      ]
     },
     "execution_count": 188,
     "metadata": {},
     "output_type": "execute_result"
    },
    {
     "data": {
      "image/png": "[encoded data removed]",
      "text/plain": [
       "<Figure size 640x480 with 2 Axes>"
      ]
     },
     "metadata": {},
     "output_type": "display_data"
    }
   ],
   "source": [
    "sns.heatmap(df[df.columns[-4:-2]].corr(), annot=True)"
   ]
  },
  {
   "cell_type": "markdown",
   "id": "004b34a2-bc71-43f1-aac0-c5b39d0ae88f",
   "metadata": {},
   "source": [
    "Y podemos observar una gran correlación entre nuestra componente y la calificación del riesgo por lo cual es muy probable que el indice de riesgo se construyo por medio de este componente, puesto que estan casi correlacionadas perfectamente.Por lo cual el calculo se obtiene escalando los valores que se tienen y multiplicando de la siguiente forma:"
   ]
  },
  {
   "cell_type": "code",
   "execution_count": 189,
   "id": "64e96e80-bb30-4914-95ab-e9d78c32f139",
   "metadata": {},
   "outputs": [
    {
     "name": "stdout",
     "output_type": "stream",
     "text": [
      "Califiación = (0.13)NacimientoA + (0.011)Anticonceptivo + (-0.175)Aborto + (-0.121)Anemia + (0.41)Atencion prenatal + (0.205)Parto asisitido + (0.568)VIH + (0.635)Infecunidad + (-0.025)NacimientosM + (-0.031)Muertes + (0.13)NacimientoA + (0.011)Anticonceptivo + (-0.175)Aborto + (-0.121)Anemia + (0.41)Atencion prenatal + (0.205)Parto asisitido + (0.568)VIH + (0.635)Infecunidad + (-0.025)NacimientosM + (-0.031)Muertes \n",
      "-----------------------------------------------------------------------------------\n"
     ]
    }
   ],
   "source": [
    "for j, column in enumerate(list(X.columns)):\n",
    "    string+= \"(\" + str(np.round(coeffi[i][j], decimals=3)) +')'+ column +' + '\n",
    "print(f'Califiación = {string[:-2]}')\n",
    "print(\"-----------------------------------------------------------------------------------\")"
   ]
  },
  {
   "cell_type": "markdown",
   "id": "e963417d-7b25-4f23-a460-b349cc8e0cfd",
   "metadata": {},
   "source": [
    "Donde las ponderaciones positivas representan un incremento en el riesgo y las negativas un factor que lo reduce"
   ]
  }
 ],
 "metadata": {
  "kernelspec": {
   "display_name": "Python 3 (ipykernel)",
   "language": "python",
   "name": "python3"
  },
  "language_info": {
   "codemirror_mode": {
    "name": "ipython",
    "version": 3
   },
   "file_extension": ".py",
   "mimetype": "text/x-python",
   "name": "python",
   "nbconvert_exporter": "python",
   "pygments_lexer": "ipython3",
   "version": "3.8.10"
  }
 },
 "nbformat": 4,
 "nbformat_minor": 5
}
